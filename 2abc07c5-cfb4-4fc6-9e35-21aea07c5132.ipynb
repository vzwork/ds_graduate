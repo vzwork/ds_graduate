{
 "cells": [
  {
   "cell_type": "markdown",
   "id": "a59ba273",
   "metadata": {},
   "source": [
    "<div style=\"border:solid Chocolate 2px; padding: 40px\">\n",
    "\n",
    "Привет, меня зовут Александр Куимов. Я буду ревьюером твоего проекта. Ты можешь обращаться ко мне на \"ты\"😏 Надеюсь, тебя также не смутит, если я буду обращаться к тебе на \"ты\", но если это неудобно, обязательно скажи об этом!\n",
    "\n",
    "Пожалуйста, не удаляй мои комментарии, они будут особенно полезны для нашей работы в случае повторной проверки проекта. \n",
    "\n",
    "Ты также можешь реагировать на мои комментарии своими по шаблону, показанному чуть ниже. Это нужно, чтобы не создавалась путаница😉\n",
    "\n",
    "Ты можешь найти мои комментарии, обозначенные <font color='green'>зеленым</font>, <font color='gold'>желтым</font> и <font color='red'>красным</font> цветами, например:\n",
    "\n",
    "<br/>\n",
    "\n",
    "<div class=\"alert alert-success\">\n",
    "<h2> Комментарий ревьюера <a class=\"tocSkip\"> </h2>\n",
    "\n",
    "<b>Все отлично!👍:</b> В случае, если решение на отдельном шаге является полностью правильным.\n",
    "</div>\n",
    "\n",
    "<br/>\n",
    "\n",
    "<div class=\"alert alert-warning\">\n",
    "    <h2> Комментарий ревьюера <a class=\"tocSkip\"> </h2>\n",
    "    \n",
    "<b>Некоторые замечания и рекомендации💡:</b> В случае, когда решение на отдельном шаге станет еще лучше, если внести небольшие коррективы.\n",
    "</div>\n",
    "\n",
    "\n",
    "<br/>\n",
    "<div class=\"alert alert-block alert-danger\">\n",
    "<h2> Комментарий ревьюера <a class=\"tocSkip\"></h2>\n",
    "\n",
    "    \n",
    "<b>На доработку🤔:</b>\n",
    " В случае, когда решение на отдельном шаге требует существенной переработки и внесения правок. Напоминаю, что проект не может быть принят с первого раза, если ревью содержит комментарии, рекомендующие доработать шаги.\n",
    "</div>\n",
    "    \n",
    "    \n",
    "<br/>    \n",
    "<div class=\"alert alert-info\">\n",
    "<h2> Комментарий студента: <a class=\"tocSkip\"> </h2>\n",
    "\n",
    "<b>👋:</b> В такой цветовой ячейке я прошу тебя оставлять свои комментарии. Если исправляешь проект на второй итерации и выше, не забывай пожалуйста указывать номер итерации, например, \"Комментарий студента v.2\".\n",
    "</div> \n",
    "\n",
    "<br/>    \n",
    "    \n",
    "Увидев у тебя неточность, в первый раз я лишь укажу на ее наличие и дам тебе возможность самому найти и исправить ее. На реальной работе твой руководитель будет поступать также, и я пытаюсь подготовить тебя именно к работе датасаентистом. Но если ты пока не справишься с такой задачей - при следующей проверке я дам более точную подсказку!🤓"
   ]
  },
  {
   "cell_type": "markdown",
   "id": "ad154198",
   "metadata": {},
   "source": [
    "# Проект (Телеком)"
   ]
  },
  {
   "cell_type": "markdown",
   "id": "499cf00b",
   "metadata": {},
   "source": [
    "- Проект (Телеком)\n",
    "- Описание Проекта\n",
    "- Выгрузка Данных\n",
    "- Исследовательский Анализ + Предобработка Данных\n",
    "- Обучение Моделей\n",
    "- Тестировка Модели\n",
    "- Вывод"
   ]
  },
  {
   "cell_type": "markdown",
   "id": "7ba0cc04",
   "metadata": {},
   "source": [
    "# Описание Проекта"
   ]
  },
  {
   "cell_type": "markdown",
   "id": "1942c448",
   "metadata": {},
   "source": [
    "Оператор связи «ТелеДом» хочет бороться с оттоком клиентов. Для этого его сотрудники начнут предлагать промокоды и специальные условия всем, кто планирует отказаться от услуг связи. Чтобы заранее находить таких пользователей, «ТелеДому» нужна модель, которая будет предсказывать, разорвёт ли абонент договор. Команда оператора собрала персональные данные о некоторых клиентах, информацию об их тарифах и услугах. Задача — обучить на этих данных модель для прогноза оттока клиентов."
   ]
  },
  {
   "cell_type": "markdown",
   "id": "ade0a1b7",
   "metadata": {},
   "source": [
    "<div class=\"alert alert-success\">\n",
    "<h2> Комментарий ревьюера <a class=\"tocSkip\"> </h2>\n",
    "\n",
    "<b>Все отлично!👍:</b> \n",
    "    \n",
    "Вижу твое добавленное описание проекта. Молодец! Это поможет тебе расставлять акценты в выводах."
   ]
  },
  {
   "cell_type": "markdown",
   "id": "deb0a356",
   "metadata": {},
   "source": [
    "# Выгрузка Данных"
   ]
  },
  {
   "cell_type": "code",
   "execution_count": 1,
   "id": "eb417bad",
   "metadata": {},
   "outputs": [],
   "source": [
    "import os\n",
    "import sys\n",
    "import random\n",
    "\n",
    "import psycopg2\n",
    "import pandas as pd\n",
    "import matplotlib.pyplot as plt\n",
    "import numpy as np\n",
    "import scipy.stats as stats\n",
    "import seaborn as sns\n",
    "import tensorflow as tf\n",
    "\n",
    "from sklearn.model_selection import train_test_split\n",
    "from sklearn.preprocessing import OneHotEncoder\n",
    "from sklearn.preprocessing import StandardScaler\n",
    "\n",
    "from sklearn.metrics import roc_auc_score, roc_curve, auc, accuracy_score\n",
    "from sklearn.model_selection import GridSearchCV\n",
    "from sklearn.ensemble import RandomForestClassifier\n",
    "import xgboost as xgb\n",
    "\n",
    "from catboost import CatBoostClassifier\n",
    "\n",
    "from tensorflow.keras.callbacks import EarlyStopping\n",
    "from tensorflow.keras.optimizers import Adam\n",
    "from tensorflow.keras import Sequential\n",
    "from tensorflow.keras.layers import Dense, Dropout"
   ]
  },
  {
   "cell_type": "code",
   "execution_count": 2,
   "id": "5511bc16",
   "metadata": {},
   "outputs": [],
   "source": [
    "RANDOM_STATE = 220623"
   ]
  },
  {
   "cell_type": "code",
   "execution_count": 3,
   "id": "3c3a9a21",
   "metadata": {},
   "outputs": [],
   "source": [
    "random.seed(RANDOM_STATE)"
   ]
  },
  {
   "cell_type": "markdown",
   "id": "71344a91",
   "metadata": {},
   "source": [
    "### Описание Данных\n",
    "database - telecom.\n",
    "- contract - информация о договорах;\n",
    "- personal - персональные данные клиентов;\n",
    "- internet - информация об интернет-услугах;\n",
    "- phone - информация об услугах телефонии.\n",
    "\n",
    "(Информация о договорах актуальна на 1 февраля 2020.)"
   ]
  },
  {
   "cell_type": "code",
   "execution_count": 4,
   "id": "42c2555f",
   "metadata": {},
   "outputs": [],
   "source": [
    "db_config = {\n",
    "'user': 'praktikum_student',# имя пользователя,\n",
    "'password': 'Sdf4$2;d-d30pp',# пароль,\n",
    "'host': 'rc1b-wcoijxj3yxfsf3fs.mdb.yandexcloud.net',\n",
    "'port': 6432,# порт подключения,\n",
    "'database': 'data-science-final'# название базы данных,\n",
    "}"
   ]
  },
  {
   "cell_type": "code",
   "execution_count": 5,
   "id": "7eccbcd8",
   "metadata": {},
   "outputs": [],
   "source": [
    "def connect(params_dic):\n",
    "    conn = None\n",
    "    try:\n",
    "        print('Connecting to the PostgreSQL database...')\n",
    "        conn = psycopg2.connect(**params_dic)\n",
    "    except (Exception, psycopg2.DatabaseError) as error:\n",
    "        print(error)\n",
    "        sys.exit(1) \n",
    "    print(\"Connection successful\")\n",
    "    return conn"
   ]
  },
  {
   "cell_type": "code",
   "execution_count": 6,
   "id": "8ed04bfb",
   "metadata": {},
   "outputs": [],
   "source": [
    "def postgresql_to_dataframe(conn, select_query, column_names):\n",
    "    cursor = conn.cursor()\n",
    "    try:\n",
    "        cursor.execute(select_query)\n",
    "    except (Exception, psycopg2.DatabaseError) as error:\n",
    "        print(\"Error: %s\" % error)\n",
    "        conn.rollback()\n",
    "        cursor.close()\n",
    "        return 1\n",
    "    \n",
    "    # Naturally we get a list of tupples\n",
    "    tupples = cursor.fetchall()\n",
    "    cursor.close()\n",
    "    \n",
    "    # We just need to turn it into a pandas dataframe\n",
    "    df = pd.DataFrame(tupples, columns=column_names)\n",
    "    return df"
   ]
  },
  {
   "cell_type": "code",
   "execution_count": 7,
   "id": "ac3cb5b9",
   "metadata": {},
   "outputs": [
    {
     "name": "stdout",
     "output_type": "stream",
     "text": [
      "Connecting to the PostgreSQL database...\n",
      "Connection successful\n"
     ]
    }
   ],
   "source": [
    "conn = connect(db_config)"
   ]
  },
  {
   "cell_type": "markdown",
   "id": "b30467fc",
   "metadata": {},
   "source": [
    "<div class=\"alert alert-success\">\n",
    "<h2> Комментарий ревьюера <a class=\"tocSkip\"> </h2>\n",
    "\n",
    "<b>Все отлично!👍:</b> \n",
    "    \n",
    "Отлично, что есть подключение к базам данных)"
   ]
  },
  {
   "cell_type": "markdown",
   "id": "d84d1cd2",
   "metadata": {},
   "source": [
    "### Проверим Данные"
   ]
  },
  {
   "cell_type": "code",
   "execution_count": 8,
   "id": "d199ffc0",
   "metadata": {},
   "outputs": [],
   "source": [
    "query_contract_info = \\\n",
    "\"SELECT table_name, column_name, data_type FROM information_schema.columns WHERE table_name = 'contract';\"\n",
    "columns_contract_info = ['table_name', 'column_name', 'data_type']\n",
    "contract_info = postgresql_to_dataframe(conn, query_contract_info, columns_contract_info)"
   ]
  },
  {
   "cell_type": "code",
   "execution_count": 9,
   "id": "0dcb3dff",
   "metadata": {},
   "outputs": [
    {
     "data": {
      "text/html": [
       "<div>\n",
       "<style scoped>\n",
       "    .dataframe tbody tr th:only-of-type {\n",
       "        vertical-align: middle;\n",
       "    }\n",
       "\n",
       "    .dataframe tbody tr th {\n",
       "        vertical-align: top;\n",
       "    }\n",
       "\n",
       "    .dataframe thead th {\n",
       "        text-align: right;\n",
       "    }\n",
       "</style>\n",
       "<table border=\"1\" class=\"dataframe\">\n",
       "  <thead>\n",
       "    <tr style=\"text-align: right;\">\n",
       "      <th></th>\n",
       "      <th>table_name</th>\n",
       "      <th>column_name</th>\n",
       "      <th>data_type</th>\n",
       "    </tr>\n",
       "  </thead>\n",
       "  <tbody>\n",
       "    <tr>\n",
       "      <th>0</th>\n",
       "      <td>contract</td>\n",
       "      <td>customerID</td>\n",
       "      <td>text</td>\n",
       "    </tr>\n",
       "    <tr>\n",
       "      <th>1</th>\n",
       "      <td>contract</td>\n",
       "      <td>BeginDate</td>\n",
       "      <td>date</td>\n",
       "    </tr>\n",
       "    <tr>\n",
       "      <th>2</th>\n",
       "      <td>contract</td>\n",
       "      <td>EndDate</td>\n",
       "      <td>date</td>\n",
       "    </tr>\n",
       "    <tr>\n",
       "      <th>3</th>\n",
       "      <td>contract</td>\n",
       "      <td>Type</td>\n",
       "      <td>text</td>\n",
       "    </tr>\n",
       "    <tr>\n",
       "      <th>4</th>\n",
       "      <td>contract</td>\n",
       "      <td>PaperlessBilling</td>\n",
       "      <td>text</td>\n",
       "    </tr>\n",
       "    <tr>\n",
       "      <th>5</th>\n",
       "      <td>contract</td>\n",
       "      <td>PaymentMethod</td>\n",
       "      <td>text</td>\n",
       "    </tr>\n",
       "    <tr>\n",
       "      <th>6</th>\n",
       "      <td>contract</td>\n",
       "      <td>MonthlyCharges</td>\n",
       "      <td>numeric</td>\n",
       "    </tr>\n",
       "    <tr>\n",
       "      <th>7</th>\n",
       "      <td>contract</td>\n",
       "      <td>TotalCharges</td>\n",
       "      <td>numeric</td>\n",
       "    </tr>\n",
       "  </tbody>\n",
       "</table>\n",
       "</div>"
      ],
      "text/plain": [
       "  table_name       column_name data_type\n",
       "0   contract        customerID      text\n",
       "1   contract         BeginDate      date\n",
       "2   contract           EndDate      date\n",
       "3   contract              Type      text\n",
       "4   contract  PaperlessBilling      text\n",
       "5   contract     PaymentMethod      text\n",
       "6   contract    MonthlyCharges   numeric\n",
       "7   contract      TotalCharges   numeric"
      ]
     },
     "execution_count": 9,
     "metadata": {},
     "output_type": "execute_result"
    }
   ],
   "source": [
    "contract_info"
   ]
  },
  {
   "cell_type": "code",
   "execution_count": 10,
   "id": "e24430da",
   "metadata": {},
   "outputs": [],
   "source": [
    "query_personal_info = \\\n",
    "\"SELECT table_name, column_name, data_type FROM information_schema.columns WHERE table_name = 'personal';\"\n",
    "columns_personal_info = ['table_name', 'column_name', 'data_type']\n",
    "personal_info = postgresql_to_dataframe(conn, query_personal_info, columns_personal_info)"
   ]
  },
  {
   "cell_type": "code",
   "execution_count": 11,
   "id": "4b7bdfbf",
   "metadata": {},
   "outputs": [
    {
     "data": {
      "text/html": [
       "<div>\n",
       "<style scoped>\n",
       "    .dataframe tbody tr th:only-of-type {\n",
       "        vertical-align: middle;\n",
       "    }\n",
       "\n",
       "    .dataframe tbody tr th {\n",
       "        vertical-align: top;\n",
       "    }\n",
       "\n",
       "    .dataframe thead th {\n",
       "        text-align: right;\n",
       "    }\n",
       "</style>\n",
       "<table border=\"1\" class=\"dataframe\">\n",
       "  <thead>\n",
       "    <tr style=\"text-align: right;\">\n",
       "      <th></th>\n",
       "      <th>table_name</th>\n",
       "      <th>column_name</th>\n",
       "      <th>data_type</th>\n",
       "    </tr>\n",
       "  </thead>\n",
       "  <tbody>\n",
       "    <tr>\n",
       "      <th>0</th>\n",
       "      <td>personal</td>\n",
       "      <td>customerID</td>\n",
       "      <td>text</td>\n",
       "    </tr>\n",
       "    <tr>\n",
       "      <th>1</th>\n",
       "      <td>personal</td>\n",
       "      <td>gender</td>\n",
       "      <td>text</td>\n",
       "    </tr>\n",
       "    <tr>\n",
       "      <th>2</th>\n",
       "      <td>personal</td>\n",
       "      <td>SeniorCitizen</td>\n",
       "      <td>integer</td>\n",
       "    </tr>\n",
       "    <tr>\n",
       "      <th>3</th>\n",
       "      <td>personal</td>\n",
       "      <td>Partner</td>\n",
       "      <td>text</td>\n",
       "    </tr>\n",
       "    <tr>\n",
       "      <th>4</th>\n",
       "      <td>personal</td>\n",
       "      <td>Dependents</td>\n",
       "      <td>text</td>\n",
       "    </tr>\n",
       "  </tbody>\n",
       "</table>\n",
       "</div>"
      ],
      "text/plain": [
       "  table_name    column_name data_type\n",
       "0   personal     customerID      text\n",
       "1   personal         gender      text\n",
       "2   personal  SeniorCitizen   integer\n",
       "3   personal        Partner      text\n",
       "4   personal     Dependents      text"
      ]
     },
     "execution_count": 11,
     "metadata": {},
     "output_type": "execute_result"
    }
   ],
   "source": [
    "personal_info"
   ]
  },
  {
   "cell_type": "code",
   "execution_count": 12,
   "id": "b7ff714a",
   "metadata": {},
   "outputs": [],
   "source": [
    "query_internet_info =\\\n",
    "\"SELECT table_name, column_name, data_type FROM information_schema.columns WHERE table_name = 'internet';\"\n",
    "columns_internet_info = ['table_name', 'column_name', 'data_type']\n",
    "internet_info = postgresql_to_dataframe(conn, query_internet_info, columns_internet_info)"
   ]
  },
  {
   "cell_type": "code",
   "execution_count": 13,
   "id": "bd949dd0",
   "metadata": {},
   "outputs": [
    {
     "data": {
      "text/html": [
       "<div>\n",
       "<style scoped>\n",
       "    .dataframe tbody tr th:only-of-type {\n",
       "        vertical-align: middle;\n",
       "    }\n",
       "\n",
       "    .dataframe tbody tr th {\n",
       "        vertical-align: top;\n",
       "    }\n",
       "\n",
       "    .dataframe thead th {\n",
       "        text-align: right;\n",
       "    }\n",
       "</style>\n",
       "<table border=\"1\" class=\"dataframe\">\n",
       "  <thead>\n",
       "    <tr style=\"text-align: right;\">\n",
       "      <th></th>\n",
       "      <th>table_name</th>\n",
       "      <th>column_name</th>\n",
       "      <th>data_type</th>\n",
       "    </tr>\n",
       "  </thead>\n",
       "  <tbody>\n",
       "    <tr>\n",
       "      <th>0</th>\n",
       "      <td>internet</td>\n",
       "      <td>c1</td>\n",
       "      <td>text</td>\n",
       "    </tr>\n",
       "    <tr>\n",
       "      <th>1</th>\n",
       "      <td>internet</td>\n",
       "      <td>c2</td>\n",
       "      <td>text</td>\n",
       "    </tr>\n",
       "    <tr>\n",
       "      <th>2</th>\n",
       "      <td>internet</td>\n",
       "      <td>c3</td>\n",
       "      <td>text</td>\n",
       "    </tr>\n",
       "    <tr>\n",
       "      <th>3</th>\n",
       "      <td>internet</td>\n",
       "      <td>c4</td>\n",
       "      <td>text</td>\n",
       "    </tr>\n",
       "    <tr>\n",
       "      <th>4</th>\n",
       "      <td>internet</td>\n",
       "      <td>c5</td>\n",
       "      <td>text</td>\n",
       "    </tr>\n",
       "    <tr>\n",
       "      <th>5</th>\n",
       "      <td>internet</td>\n",
       "      <td>c6</td>\n",
       "      <td>text</td>\n",
       "    </tr>\n",
       "    <tr>\n",
       "      <th>6</th>\n",
       "      <td>internet</td>\n",
       "      <td>c7</td>\n",
       "      <td>text</td>\n",
       "    </tr>\n",
       "    <tr>\n",
       "      <th>7</th>\n",
       "      <td>internet</td>\n",
       "      <td>c8</td>\n",
       "      <td>text</td>\n",
       "    </tr>\n",
       "  </tbody>\n",
       "</table>\n",
       "</div>"
      ],
      "text/plain": [
       "  table_name column_name data_type\n",
       "0   internet          c1      text\n",
       "1   internet          c2      text\n",
       "2   internet          c3      text\n",
       "3   internet          c4      text\n",
       "4   internet          c5      text\n",
       "5   internet          c6      text\n",
       "6   internet          c7      text\n",
       "7   internet          c8      text"
      ]
     },
     "execution_count": 13,
     "metadata": {},
     "output_type": "execute_result"
    }
   ],
   "source": [
    "internet_info"
   ]
  },
  {
   "cell_type": "markdown",
   "id": "aa79ce0c",
   "metadata": {},
   "source": [
    "В описании проекта данные о таблице 'internet' выглядят вот так:\n",
    "- customerID — ID пользователя;\n",
    "- InternetService — тип подключения;\n",
    "- OnlineSecurity — блокировка опасных сайтов;\n",
    "- OnlineBackup — облачное хранилище файлов для резервного копирования данных;\n",
    "- DeviceProtection — антивирус;\n",
    "- TechSupport — выделенная линия технической поддержки;\n",
    "- StreamingTV — стриминговое телевидение;\n",
    "- StreamingMovies — каталог фильмов."
   ]
  },
  {
   "cell_type": "markdown",
   "id": "4f5fb56d",
   "metadata": {},
   "source": [
    "Стоит выбрать несколько строк данных чтобы проверить если данные хранятся в таком же порядке."
   ]
  },
  {
   "cell_type": "code",
   "execution_count": 14,
   "id": "77d7b279",
   "metadata": {},
   "outputs": [],
   "source": [
    "query_internet_sample =\\\n",
    "\"SELECT * FROM telecom.internet LIMIT 5;\"\n",
    "columns_internet_sample = ['customerID', 'ItnernetService', 'OnlineSecurity', 'OnlineBackup',\n",
    "                           'DeviceProtection', 'TechSupport', 'StreamingTV', 'StreamingMovies']\n",
    "internet_sample = postgresql_to_dataframe(conn, query_internet_sample, columns_internet_sample)"
   ]
  },
  {
   "cell_type": "code",
   "execution_count": 15,
   "id": "486cb0c2",
   "metadata": {},
   "outputs": [
    {
     "data": {
      "text/html": [
       "<div>\n",
       "<style scoped>\n",
       "    .dataframe tbody tr th:only-of-type {\n",
       "        vertical-align: middle;\n",
       "    }\n",
       "\n",
       "    .dataframe tbody tr th {\n",
       "        vertical-align: top;\n",
       "    }\n",
       "\n",
       "    .dataframe thead th {\n",
       "        text-align: right;\n",
       "    }\n",
       "</style>\n",
       "<table border=\"1\" class=\"dataframe\">\n",
       "  <thead>\n",
       "    <tr style=\"text-align: right;\">\n",
       "      <th></th>\n",
       "      <th>customerID</th>\n",
       "      <th>ItnernetService</th>\n",
       "      <th>OnlineSecurity</th>\n",
       "      <th>OnlineBackup</th>\n",
       "      <th>DeviceProtection</th>\n",
       "      <th>TechSupport</th>\n",
       "      <th>StreamingTV</th>\n",
       "      <th>StreamingMovies</th>\n",
       "    </tr>\n",
       "  </thead>\n",
       "  <tbody>\n",
       "    <tr>\n",
       "      <th>0</th>\n",
       "      <td>customerID</td>\n",
       "      <td>InternetService</td>\n",
       "      <td>OnlineSecurity</td>\n",
       "      <td>OnlineBackup</td>\n",
       "      <td>DeviceProtection</td>\n",
       "      <td>TechSupport</td>\n",
       "      <td>StreamingTV</td>\n",
       "      <td>StreamingMovies</td>\n",
       "    </tr>\n",
       "    <tr>\n",
       "      <th>1</th>\n",
       "      <td>7590-VHVEG</td>\n",
       "      <td>DSL</td>\n",
       "      <td>No</td>\n",
       "      <td>Yes</td>\n",
       "      <td>No</td>\n",
       "      <td>No</td>\n",
       "      <td>No</td>\n",
       "      <td>No</td>\n",
       "    </tr>\n",
       "    <tr>\n",
       "      <th>2</th>\n",
       "      <td>5575-GNVDE</td>\n",
       "      <td>DSL</td>\n",
       "      <td>Yes</td>\n",
       "      <td>No</td>\n",
       "      <td>Yes</td>\n",
       "      <td>No</td>\n",
       "      <td>No</td>\n",
       "      <td>No</td>\n",
       "    </tr>\n",
       "    <tr>\n",
       "      <th>3</th>\n",
       "      <td>3668-QPYBK</td>\n",
       "      <td>DSL</td>\n",
       "      <td>Yes</td>\n",
       "      <td>Yes</td>\n",
       "      <td>No</td>\n",
       "      <td>No</td>\n",
       "      <td>No</td>\n",
       "      <td>No</td>\n",
       "    </tr>\n",
       "    <tr>\n",
       "      <th>4</th>\n",
       "      <td>7795-CFOCW</td>\n",
       "      <td>DSL</td>\n",
       "      <td>Yes</td>\n",
       "      <td>No</td>\n",
       "      <td>Yes</td>\n",
       "      <td>Yes</td>\n",
       "      <td>No</td>\n",
       "      <td>No</td>\n",
       "    </tr>\n",
       "  </tbody>\n",
       "</table>\n",
       "</div>"
      ],
      "text/plain": [
       "   customerID  ItnernetService  OnlineSecurity  OnlineBackup  \\\n",
       "0  customerID  InternetService  OnlineSecurity  OnlineBackup   \n",
       "1  7590-VHVEG              DSL              No           Yes   \n",
       "2  5575-GNVDE              DSL             Yes            No   \n",
       "3  3668-QPYBK              DSL             Yes           Yes   \n",
       "4  7795-CFOCW              DSL             Yes            No   \n",
       "\n",
       "   DeviceProtection  TechSupport  StreamingTV  StreamingMovies  \n",
       "0  DeviceProtection  TechSupport  StreamingTV  StreamingMovies  \n",
       "1                No           No           No               No  \n",
       "2               Yes           No           No               No  \n",
       "3                No           No           No               No  \n",
       "4               Yes          Yes           No               No  "
      ]
     },
     "execution_count": 15,
     "metadata": {},
     "output_type": "execute_result"
    }
   ],
   "source": [
    "internet_sample"
   ]
  },
  {
   "cell_type": "code",
   "execution_count": 16,
   "id": "7f5b424c",
   "metadata": {},
   "outputs": [],
   "source": [
    "query_phone_info =\\\n",
    "\"SELECT table_name, column_name, data_type FROM information_schema.columns WHERE table_name = 'phone';\"\n",
    "columns_phone_info = ['table_name', 'column_name', 'data_type']\n",
    "phone_info = postgresql_to_dataframe(conn, query_phone_info, columns_phone_info)"
   ]
  },
  {
   "cell_type": "code",
   "execution_count": 17,
   "id": "3516f211",
   "metadata": {},
   "outputs": [
    {
     "data": {
      "text/html": [
       "<div>\n",
       "<style scoped>\n",
       "    .dataframe tbody tr th:only-of-type {\n",
       "        vertical-align: middle;\n",
       "    }\n",
       "\n",
       "    .dataframe tbody tr th {\n",
       "        vertical-align: top;\n",
       "    }\n",
       "\n",
       "    .dataframe thead th {\n",
       "        text-align: right;\n",
       "    }\n",
       "</style>\n",
       "<table border=\"1\" class=\"dataframe\">\n",
       "  <thead>\n",
       "    <tr style=\"text-align: right;\">\n",
       "      <th></th>\n",
       "      <th>table_name</th>\n",
       "      <th>column_name</th>\n",
       "      <th>data_type</th>\n",
       "    </tr>\n",
       "  </thead>\n",
       "  <tbody>\n",
       "    <tr>\n",
       "      <th>0</th>\n",
       "      <td>phone</td>\n",
       "      <td>c1</td>\n",
       "      <td>text</td>\n",
       "    </tr>\n",
       "    <tr>\n",
       "      <th>1</th>\n",
       "      <td>phone</td>\n",
       "      <td>c2</td>\n",
       "      <td>text</td>\n",
       "    </tr>\n",
       "  </tbody>\n",
       "</table>\n",
       "</div>"
      ],
      "text/plain": [
       "  table_name column_name data_type\n",
       "0      phone          c1      text\n",
       "1      phone          c2      text"
      ]
     },
     "execution_count": 17,
     "metadata": {},
     "output_type": "execute_result"
    }
   ],
   "source": [
    "phone_info"
   ]
  },
  {
   "cell_type": "markdown",
   "id": "a8adfb58",
   "metadata": {},
   "source": [
    "В описании проекта данные о таблице 'phone' выглядят вот так:\n",
    "- customerID — ID пользователя;\n",
    "- MultipleLines — подключение телефона к нескольким линиям"
   ]
  },
  {
   "cell_type": "markdown",
   "id": "1f843439",
   "metadata": {},
   "source": [
    "Стоит выбрать несколько строк данных чтобы проверить если данные хранятся в таком же порядке."
   ]
  },
  {
   "cell_type": "code",
   "execution_count": 18,
   "id": "e2830376",
   "metadata": {},
   "outputs": [],
   "source": [
    "query_phone_sample = \\\n",
    "\"SELECT * FROM telecom.phone LIMIT 5;\"\n",
    "columns_phone_sample = ['customerID', 'MultipleLines']\n",
    "phone_sample = postgresql_to_dataframe(conn, query_phone_sample, columns_phone_sample)"
   ]
  },
  {
   "cell_type": "code",
   "execution_count": 19,
   "id": "8384cf4d",
   "metadata": {},
   "outputs": [
    {
     "data": {
      "text/html": [
       "<div>\n",
       "<style scoped>\n",
       "    .dataframe tbody tr th:only-of-type {\n",
       "        vertical-align: middle;\n",
       "    }\n",
       "\n",
       "    .dataframe tbody tr th {\n",
       "        vertical-align: top;\n",
       "    }\n",
       "\n",
       "    .dataframe thead th {\n",
       "        text-align: right;\n",
       "    }\n",
       "</style>\n",
       "<table border=\"1\" class=\"dataframe\">\n",
       "  <thead>\n",
       "    <tr style=\"text-align: right;\">\n",
       "      <th></th>\n",
       "      <th>customerID</th>\n",
       "      <th>MultipleLines</th>\n",
       "    </tr>\n",
       "  </thead>\n",
       "  <tbody>\n",
       "    <tr>\n",
       "      <th>0</th>\n",
       "      <td>customerID</td>\n",
       "      <td>MultipleLines</td>\n",
       "    </tr>\n",
       "    <tr>\n",
       "      <th>1</th>\n",
       "      <td>5575-GNVDE</td>\n",
       "      <td>No</td>\n",
       "    </tr>\n",
       "    <tr>\n",
       "      <th>2</th>\n",
       "      <td>3668-QPYBK</td>\n",
       "      <td>No</td>\n",
       "    </tr>\n",
       "    <tr>\n",
       "      <th>3</th>\n",
       "      <td>9237-HQITU</td>\n",
       "      <td>No</td>\n",
       "    </tr>\n",
       "    <tr>\n",
       "      <th>4</th>\n",
       "      <td>9305-CDSKC</td>\n",
       "      <td>Yes</td>\n",
       "    </tr>\n",
       "  </tbody>\n",
       "</table>\n",
       "</div>"
      ],
      "text/plain": [
       "   customerID  MultipleLines\n",
       "0  customerID  MultipleLines\n",
       "1  5575-GNVDE             No\n",
       "2  3668-QPYBK             No\n",
       "3  9237-HQITU             No\n",
       "4  9305-CDSKC            Yes"
      ]
     },
     "execution_count": 19,
     "metadata": {},
     "output_type": "execute_result"
    }
   ],
   "source": [
    "phone_sample"
   ]
  },
  {
   "cell_type": "markdown",
   "id": "7359e96c",
   "metadata": {},
   "source": [
    "# Исследовательскй Анализ + Предобрабока Данных"
   ]
  },
  {
   "cell_type": "markdown",
   "id": "822af8c9",
   "metadata": {},
   "source": [
    "- Наша модель будет предсказывать если данные ползьватель относится к гуппе которые скорее всего перестанут пользоваться услугами компании.\n",
    "- Нам нужно будет выделить тех ползователей которые перeстали пользоваться услугами и скорее всего мы будем использовать 'telecom.contract' таблицу и 'EndDate' колонку.\n",
    "- У нас будут абоненты с уникальным идентификатором 'customerID' и целевой переменной.\n",
    "- Только остается объединить все остальные полезные признаки (Feature Engineering)."
   ]
  },
  {
   "cell_type": "markdown",
   "id": "ce4569bf",
   "metadata": {},
   "source": [
    "Feature Engineering:\n",
    "- Большинство признаков по 'customerID' можно будет проверить на корреляцию с не большой выборкой для скорости.\n",
    "- Когда мы будем проверять корреляцию нужно будет обращать внимание на качественные и количественные переменные.\n",
    "- Можно будет еще построить признаки по дате:\n",
    "  - Сколько обонент уже ползуется услугами.\n",
    "  - Можно еще провести анализ по окончании действия договоров в зависимости от времени года.\n",
    "  - Этот пункт как совет для компании как улучшить сервис."
   ]
  },
  {
   "cell_type": "markdown",
   "id": "035b7c65",
   "metadata": {},
   "source": [
    "Проверка корреляции:\n",
    "- Мы построим таблицу состоящую из 'customerID' и 'terminated' (целевой признак)\n",
    "- Потом будем рандомно выбирать данные из колонок и сопостовлять по 'customerID'"
   ]
  },
  {
   "cell_type": "code",
   "execution_count": 20,
   "id": "98e10c43",
   "metadata": {},
   "outputs": [],
   "source": [
    "query_customer =\\\n",
    "'SELECT \"customerID\", \"EndDate\" FROM telecom.contract;'\n",
    "columns_customer = ['customerID', 'EndDate']\n",
    "customer = postgresql_to_dataframe(conn, query_customer, columns_customer)"
   ]
  },
  {
   "cell_type": "markdown",
   "id": "1b9660eb",
   "metadata": {},
   "source": [
    "\"posgreSQL работает с учетом регистра, нужно использовать кавычки правильно\""
   ]
  },
  {
   "cell_type": "code",
   "execution_count": 21,
   "id": "5c8b37b7",
   "metadata": {},
   "outputs": [
    {
     "data": {
      "text/html": [
       "<div>\n",
       "<style scoped>\n",
       "    .dataframe tbody tr th:only-of-type {\n",
       "        vertical-align: middle;\n",
       "    }\n",
       "\n",
       "    .dataframe tbody tr th {\n",
       "        vertical-align: top;\n",
       "    }\n",
       "\n",
       "    .dataframe thead th {\n",
       "        text-align: right;\n",
       "    }\n",
       "</style>\n",
       "<table border=\"1\" class=\"dataframe\">\n",
       "  <thead>\n",
       "    <tr style=\"text-align: right;\">\n",
       "      <th></th>\n",
       "      <th>customerID</th>\n",
       "      <th>EndDate</th>\n",
       "    </tr>\n",
       "  </thead>\n",
       "  <tbody>\n",
       "    <tr>\n",
       "      <th>190</th>\n",
       "      <td>2684-EIWEO</td>\n",
       "      <td>2019-11-01</td>\n",
       "    </tr>\n",
       "    <tr>\n",
       "      <th>1305</th>\n",
       "      <td>1449-XQEMT</td>\n",
       "      <td>2019-12-01</td>\n",
       "    </tr>\n",
       "    <tr>\n",
       "      <th>6462</th>\n",
       "      <td>5331-RGMTT</td>\n",
       "      <td>None</td>\n",
       "    </tr>\n",
       "    <tr>\n",
       "      <th>5458</th>\n",
       "      <td>1337-BOZWO</td>\n",
       "      <td>None</td>\n",
       "    </tr>\n",
       "  </tbody>\n",
       "</table>\n",
       "</div>"
      ],
      "text/plain": [
       "      customerID     EndDate\n",
       "190   2684-EIWEO  2019-11-01\n",
       "1305  1449-XQEMT  2019-12-01\n",
       "6462  5331-RGMTT        None\n",
       "5458  1337-BOZWO        None"
      ]
     },
     "execution_count": 21,
     "metadata": {},
     "output_type": "execute_result"
    }
   ],
   "source": [
    "customer.sample(4)"
   ]
  },
  {
   "cell_type": "code",
   "execution_count": 22,
   "id": "c7e9e700",
   "metadata": {},
   "outputs": [
    {
     "name": "stdout",
     "output_type": "stream",
     "text": [
      "<class 'pandas.core.frame.DataFrame'>\n",
      "RangeIndex: 7043 entries, 0 to 7042\n",
      "Data columns (total 2 columns):\n",
      " #   Column      Non-Null Count  Dtype \n",
      "---  ------      --------------  ----- \n",
      " 0   customerID  7043 non-null   object\n",
      " 1   EndDate     1869 non-null   object\n",
      "dtypes: object(2)\n",
      "memory usage: 110.2+ KB\n"
     ]
    }
   ],
   "source": [
    "customer.info()"
   ]
  },
  {
   "cell_type": "code",
   "execution_count": 23,
   "id": "a318e1a3",
   "metadata": {},
   "outputs": [],
   "source": [
    "customer['terminated'] = customer.EndDate.notna()"
   ]
  },
  {
   "cell_type": "markdown",
   "id": "794fbd4f",
   "metadata": {},
   "source": [
    "<div class=\"alert alert-success\">\n",
    "<h2> Комментарий ревьюера <a class=\"tocSkip\"> </h2>\n",
    "\n",
    "<b>Все отлично!👍:</b> \n",
    "\n",
    "Целевой признак выбран корректно"
   ]
  },
  {
   "cell_type": "markdown",
   "id": "6cfb020b",
   "metadata": {},
   "source": [
    "### Проверка Качественных Параметров\n",
    "- Type\n",
    "- PaperlessBilling\n",
    "- PaymentMethod\n",
    "- gender\n",
    "- SeniorCitizen\n",
    "- Partner\n",
    "- Dependents\n",
    "- ItnernetService - OHE?\n",
    "- OnlineSecurity\n",
    "- OnlineBackup\n",
    "- DeviceProtection\n",
    "- TechSupport\n",
    "- StreamingTV\n",
    "- StreamingMovies\n",
    "- MultipleLines"
   ]
  },
  {
   "cell_type": "code",
   "execution_count": 24,
   "id": "c826784c",
   "metadata": {},
   "outputs": [],
   "source": [
    "query_categorical =\\\n",
    "'''\n",
    "WITH good_ids AS (\n",
    "    SELECT \"customerID\"\n",
    "    FROM telecom.contract\n",
    "    ORDER BY RANDOM()\n",
    "    LIMIT 1000\n",
    "), contract_categorical AS (\n",
    "    SELECT \"customerID\", \"Type\", \"PaperlessBilling\", \"PaymentMethod\"\n",
    "    FROM telecom.contract\n",
    "    WHERE \"customerID\" IN (\n",
    "        SELECT *\n",
    "        FROM good_ids\n",
    "    )\n",
    "), personal_categorical AS (\n",
    "    SELECT *\n",
    "    FROM telecom.personal\n",
    "    WHERE \"customerID\" IN (\n",
    "        SELECT *\n",
    "        FROM good_ids\n",
    "    )\n",
    "), internet_categorical AS (\n",
    "    SELECT *\n",
    "    FROM telecom.internet\n",
    "    WHERE \"c1\" IN (\n",
    "        SELECT *\n",
    "        FROM good_ids\n",
    "    )\n",
    "), phone_categorical AS (\n",
    "    SELECT *\n",
    "    FROM telecom.phone\n",
    "    WHERE \"c1\" IN (\n",
    "        SELECT *\n",
    "        FROM good_ids\n",
    "    )\n",
    ")\n",
    "\n",
    "SELECT \n",
    "    key.*, \n",
    "    cc.\"Type\", cc.\"PaperlessBilling\", cc.\"PaymentMethod\",\n",
    "    pc.\"gender\", pc.\"SeniorCitizen\", pc.\"Partner\", \"Dependents\",\n",
    "    ic.\"c2\", ic.\"c3\", ic.\"c4\", ic.\"c5\", ic.\"c6\", ic.\"c7\", ic.\"c8\",\n",
    "    phone_categorical.\"c2\"\n",
    "FROM good_ids AS key\n",
    "    INNER JOIN contract_categorical AS cc\n",
    "    ON key.\"customerID\" = cc.\"customerID\"\n",
    "    INNER JOIN personal_categorical AS pc\n",
    "    ON key.\"customerID\" = pc.\"customerID\"\n",
    "    INNER JOIN internet_categorical AS ic\n",
    "    ON key.\"customerID\" = ic.\"c1\"\n",
    "    INNER JOIN phone_categorical\n",
    "    ON key.\"customerID\" = phone_categorical.\"c1\"\n",
    "    ;\n",
    "'''\n",
    "columns_categorical = [\n",
    "    'customerID', \n",
    "    'Type', 'PaperlessBilling', 'PaymentMethod',\n",
    "    'gender', 'SeniorCitizen', 'Partner', 'Dependents',\n",
    "    'InternetService', 'OnlineSecurity', 'OnlineBackup',\n",
    "    'DeviceProtection', 'TechSupport', 'StreamingTV', 'StreamingMovies',\n",
    "    'MultipleLines'\n",
    "]\n",
    "categorical = postgresql_to_dataframe(conn, query_categorical, columns_categorical)"
   ]
  },
  {
   "cell_type": "code",
   "execution_count": 25,
   "id": "dbcb7599",
   "metadata": {},
   "outputs": [
    {
     "data": {
      "text/html": [
       "<div>\n",
       "<style scoped>\n",
       "    .dataframe tbody tr th:only-of-type {\n",
       "        vertical-align: middle;\n",
       "    }\n",
       "\n",
       "    .dataframe tbody tr th {\n",
       "        vertical-align: top;\n",
       "    }\n",
       "\n",
       "    .dataframe thead th {\n",
       "        text-align: right;\n",
       "    }\n",
       "</style>\n",
       "<table border=\"1\" class=\"dataframe\">\n",
       "  <thead>\n",
       "    <tr style=\"text-align: right;\">\n",
       "      <th></th>\n",
       "      <th>customerID</th>\n",
       "      <th>Type</th>\n",
       "      <th>PaperlessBilling</th>\n",
       "      <th>PaymentMethod</th>\n",
       "      <th>gender</th>\n",
       "      <th>SeniorCitizen</th>\n",
       "      <th>Partner</th>\n",
       "      <th>Dependents</th>\n",
       "      <th>InternetService</th>\n",
       "      <th>OnlineSecurity</th>\n",
       "      <th>OnlineBackup</th>\n",
       "      <th>DeviceProtection</th>\n",
       "      <th>TechSupport</th>\n",
       "      <th>StreamingTV</th>\n",
       "      <th>StreamingMovies</th>\n",
       "      <th>MultipleLines</th>\n",
       "    </tr>\n",
       "  </thead>\n",
       "  <tbody>\n",
       "    <tr>\n",
       "      <th>0</th>\n",
       "      <td>0004-TLHLJ</td>\n",
       "      <td>Month-to-month</td>\n",
       "      <td>Yes</td>\n",
       "      <td>Electronic check</td>\n",
       "      <td>Male</td>\n",
       "      <td>0</td>\n",
       "      <td>No</td>\n",
       "      <td>No</td>\n",
       "      <td>Fiber optic</td>\n",
       "      <td>No</td>\n",
       "      <td>No</td>\n",
       "      <td>Yes</td>\n",
       "      <td>No</td>\n",
       "      <td>No</td>\n",
       "      <td>No</td>\n",
       "      <td>No</td>\n",
       "    </tr>\n",
       "    <tr>\n",
       "      <th>1</th>\n",
       "      <td>0013-SMEOE</td>\n",
       "      <td>Two year</td>\n",
       "      <td>Yes</td>\n",
       "      <td>Bank transfer (automatic)</td>\n",
       "      <td>Female</td>\n",
       "      <td>1</td>\n",
       "      <td>Yes</td>\n",
       "      <td>No</td>\n",
       "      <td>Fiber optic</td>\n",
       "      <td>Yes</td>\n",
       "      <td>Yes</td>\n",
       "      <td>Yes</td>\n",
       "      <td>Yes</td>\n",
       "      <td>Yes</td>\n",
       "      <td>Yes</td>\n",
       "      <td>No</td>\n",
       "    </tr>\n",
       "    <tr>\n",
       "      <th>2</th>\n",
       "      <td>0014-BMAQU</td>\n",
       "      <td>Two year</td>\n",
       "      <td>Yes</td>\n",
       "      <td>Credit card (automatic)</td>\n",
       "      <td>Male</td>\n",
       "      <td>0</td>\n",
       "      <td>Yes</td>\n",
       "      <td>No</td>\n",
       "      <td>Fiber optic</td>\n",
       "      <td>Yes</td>\n",
       "      <td>No</td>\n",
       "      <td>No</td>\n",
       "      <td>Yes</td>\n",
       "      <td>No</td>\n",
       "      <td>No</td>\n",
       "      <td>Yes</td>\n",
       "    </tr>\n",
       "    <tr>\n",
       "      <th>3</th>\n",
       "      <td>0022-TCJCI</td>\n",
       "      <td>One year</td>\n",
       "      <td>No</td>\n",
       "      <td>Credit card (automatic)</td>\n",
       "      <td>Male</td>\n",
       "      <td>1</td>\n",
       "      <td>No</td>\n",
       "      <td>No</td>\n",
       "      <td>DSL</td>\n",
       "      <td>Yes</td>\n",
       "      <td>No</td>\n",
       "      <td>Yes</td>\n",
       "      <td>No</td>\n",
       "      <td>No</td>\n",
       "      <td>Yes</td>\n",
       "      <td>No</td>\n",
       "    </tr>\n",
       "    <tr>\n",
       "      <th>4</th>\n",
       "      <td>0074-HDKDG</td>\n",
       "      <td>One year</td>\n",
       "      <td>Yes</td>\n",
       "      <td>Bank transfer (automatic)</td>\n",
       "      <td>Male</td>\n",
       "      <td>0</td>\n",
       "      <td>Yes</td>\n",
       "      <td>Yes</td>\n",
       "      <td>DSL</td>\n",
       "      <td>Yes</td>\n",
       "      <td>Yes</td>\n",
       "      <td>Yes</td>\n",
       "      <td>No</td>\n",
       "      <td>No</td>\n",
       "      <td>No</td>\n",
       "      <td>No</td>\n",
       "    </tr>\n",
       "  </tbody>\n",
       "</table>\n",
       "</div>"
      ],
      "text/plain": [
       "   customerID            Type PaperlessBilling              PaymentMethod  \\\n",
       "0  0004-TLHLJ  Month-to-month              Yes           Electronic check   \n",
       "1  0013-SMEOE        Two year              Yes  Bank transfer (automatic)   \n",
       "2  0014-BMAQU        Two year              Yes    Credit card (automatic)   \n",
       "3  0022-TCJCI        One year               No    Credit card (automatic)   \n",
       "4  0074-HDKDG        One year              Yes  Bank transfer (automatic)   \n",
       "\n",
       "   gender  SeniorCitizen Partner Dependents InternetService OnlineSecurity  \\\n",
       "0    Male              0      No         No     Fiber optic             No   \n",
       "1  Female              1     Yes         No     Fiber optic            Yes   \n",
       "2    Male              0     Yes         No     Fiber optic            Yes   \n",
       "3    Male              1      No         No             DSL            Yes   \n",
       "4    Male              0     Yes        Yes             DSL            Yes   \n",
       "\n",
       "  OnlineBackup DeviceProtection TechSupport StreamingTV StreamingMovies  \\\n",
       "0           No              Yes          No          No              No   \n",
       "1          Yes              Yes         Yes         Yes             Yes   \n",
       "2           No               No         Yes          No              No   \n",
       "3           No              Yes          No          No             Yes   \n",
       "4          Yes              Yes          No          No              No   \n",
       "\n",
       "  MultipleLines  \n",
       "0            No  \n",
       "1            No  \n",
       "2           Yes  \n",
       "3            No  \n",
       "4            No  "
      ]
     },
     "execution_count": 25,
     "metadata": {},
     "output_type": "execute_result"
    }
   ],
   "source": [
    "categorical.head()"
   ]
  },
  {
   "cell_type": "code",
   "execution_count": 26,
   "id": "6247636b",
   "metadata": {},
   "outputs": [
    {
     "name": "stdout",
     "output_type": "stream",
     "text": [
      "customerID           659\n",
      "Type                 3\n",
      "PaperlessBilling     2\n",
      "PaymentMethod        4\n",
      "gender               2\n",
      "SeniorCitizen        2\n",
      "Partner              2\n",
      "Dependents           2\n",
      "InternetService      2\n",
      "OnlineSecurity       2\n",
      "OnlineBackup         2\n",
      "DeviceProtection     2\n",
      "TechSupport          2\n",
      "StreamingTV          2\n",
      "StreamingMovies      2\n",
      "MultipleLines        2\n"
     ]
    }
   ],
   "source": [
    "for column in categorical.columns:\n",
    "    print(\"{:20} {}\".format(column, len(pd.unique(categorical[column]))))"
   ]
  },
  {
   "cell_type": "markdown",
   "id": "500592cf",
   "metadata": {},
   "source": [
    "Благодоря INNER JOIN у нас нет пропусков, но видно что теперь выборка содержит меньше значений, этого должно хватить для корреляции \n",
    "\n",
    "- 'Type' нужно провести OneHotEncoding\n",
    "- 'PaymentMethod' нужно провести OneHotEncoding"
   ]
  },
  {
   "cell_type": "code",
   "execution_count": 27,
   "id": "398e285f",
   "metadata": {},
   "outputs": [
    {
     "data": {
      "text/plain": [
       "array(['Month-to-month', 'Two year', 'One year'], dtype=object)"
      ]
     },
     "execution_count": 27,
     "metadata": {},
     "output_type": "execute_result"
    }
   ],
   "source": [
    "pd.unique(categorical.Type)"
   ]
  },
  {
   "cell_type": "code",
   "execution_count": 28,
   "id": "5e08d09a",
   "metadata": {},
   "outputs": [],
   "source": [
    "categorical['Type_month_to_month'] = categorical.Type == 'Month-to-month'\n",
    "categorical['Type_one_year'] = categorical.Type == 'One year'\n",
    "categorical['Type_two_year'] = categorical.Type == 'Two year'\n",
    "categorical = categorical.drop(columns=['Type'])"
   ]
  },
  {
   "cell_type": "code",
   "execution_count": 29,
   "id": "ed210c91",
   "metadata": {},
   "outputs": [
    {
     "data": {
      "text/plain": [
       "array(['Electronic check', 'Bank transfer (automatic)',\n",
       "       'Credit card (automatic)', 'Mailed check'], dtype=object)"
      ]
     },
     "execution_count": 29,
     "metadata": {},
     "output_type": "execute_result"
    }
   ],
   "source": [
    "pd.unique(categorical.PaymentMethod)"
   ]
  },
  {
   "cell_type": "code",
   "execution_count": 30,
   "id": "4ca46f84",
   "metadata": {},
   "outputs": [],
   "source": [
    "categorical['PaymentMethod_electronic_check'] = categorical['PaymentMethod'] == 'Electronic check'\n",
    "categorical['PaymentMethod_bank_transfer_(automatic)'] = categorical['PaymentMethod'] == 'Bank transfer (automatic)'\n",
    "categorical['PaymentMethod_credict_card_(automatic)'] = categorical['PaymentMethod'] == 'Credit card (automatic)'\n",
    "categorical['PaymentMethod_mailed_check'] = categorical['PaymentMethod'] == 'Mailed check'\n",
    "categorical = categorical.drop(columns=['PaymentMethod'])"
   ]
  },
  {
   "cell_type": "code",
   "execution_count": 31,
   "id": "114b2937",
   "metadata": {},
   "outputs": [],
   "source": [
    "categorical['gender_male'] = categorical['gender'] == 'Male'\n",
    "categorical = categorical.drop(columns=['gender'])"
   ]
  },
  {
   "cell_type": "code",
   "execution_count": 32,
   "id": "0e44fb04",
   "metadata": {},
   "outputs": [],
   "source": [
    "categorical['SeniorCitizen'] = categorical['SeniorCitizen'] == 1"
   ]
  },
  {
   "cell_type": "code",
   "execution_count": 33,
   "id": "e5bde5db",
   "metadata": {},
   "outputs": [],
   "source": [
    "categorical['InternetService_fiber_optic_not_DSL'] = categorical['InternetService'] == 'Fiber optic'\n",
    "categorical = categorical.drop(columns=['InternetService'])"
   ]
  },
  {
   "cell_type": "code",
   "execution_count": 34,
   "id": "efd27c39",
   "metadata": {},
   "outputs": [],
   "source": [
    "yes_no_cols = ['PaperlessBilling', 'Partner', 'Dependents', 'OnlineSecurity', 'OnlineBackup',\n",
    "               'DeviceProtection', 'TechSupport', 'StreamingTV', 'StreamingMovies', 'MultipleLines']\n",
    "for col in yes_no_cols:\n",
    "    categorical[col] = categorical[col] == 'Yes'"
   ]
  },
  {
   "cell_type": "code",
   "execution_count": 35,
   "id": "98401769",
   "metadata": {},
   "outputs": [
    {
     "data": {
      "text/html": [
       "<div>\n",
       "<style scoped>\n",
       "    .dataframe tbody tr th:only-of-type {\n",
       "        vertical-align: middle;\n",
       "    }\n",
       "\n",
       "    .dataframe tbody tr th {\n",
       "        vertical-align: top;\n",
       "    }\n",
       "\n",
       "    .dataframe thead th {\n",
       "        text-align: right;\n",
       "    }\n",
       "</style>\n",
       "<table border=\"1\" class=\"dataframe\">\n",
       "  <thead>\n",
       "    <tr style=\"text-align: right;\">\n",
       "      <th></th>\n",
       "      <th>customerID</th>\n",
       "      <th>PaperlessBilling</th>\n",
       "      <th>SeniorCitizen</th>\n",
       "      <th>Partner</th>\n",
       "      <th>Dependents</th>\n",
       "      <th>OnlineSecurity</th>\n",
       "      <th>OnlineBackup</th>\n",
       "      <th>DeviceProtection</th>\n",
       "      <th>TechSupport</th>\n",
       "      <th>StreamingTV</th>\n",
       "      <th>...</th>\n",
       "      <th>MultipleLines</th>\n",
       "      <th>Type_month_to_month</th>\n",
       "      <th>Type_one_year</th>\n",
       "      <th>Type_two_year</th>\n",
       "      <th>PaymentMethod_electronic_check</th>\n",
       "      <th>PaymentMethod_bank_transfer_(automatic)</th>\n",
       "      <th>PaymentMethod_credict_card_(automatic)</th>\n",
       "      <th>PaymentMethod_mailed_check</th>\n",
       "      <th>gender_male</th>\n",
       "      <th>InternetService_fiber_optic_not_DSL</th>\n",
       "    </tr>\n",
       "  </thead>\n",
       "  <tbody>\n",
       "    <tr>\n",
       "      <th>0</th>\n",
       "      <td>0004-TLHLJ</td>\n",
       "      <td>True</td>\n",
       "      <td>False</td>\n",
       "      <td>False</td>\n",
       "      <td>False</td>\n",
       "      <td>False</td>\n",
       "      <td>False</td>\n",
       "      <td>True</td>\n",
       "      <td>False</td>\n",
       "      <td>False</td>\n",
       "      <td>...</td>\n",
       "      <td>False</td>\n",
       "      <td>True</td>\n",
       "      <td>False</td>\n",
       "      <td>False</td>\n",
       "      <td>True</td>\n",
       "      <td>False</td>\n",
       "      <td>False</td>\n",
       "      <td>False</td>\n",
       "      <td>True</td>\n",
       "      <td>True</td>\n",
       "    </tr>\n",
       "    <tr>\n",
       "      <th>1</th>\n",
       "      <td>0013-SMEOE</td>\n",
       "      <td>True</td>\n",
       "      <td>True</td>\n",
       "      <td>True</td>\n",
       "      <td>False</td>\n",
       "      <td>True</td>\n",
       "      <td>True</td>\n",
       "      <td>True</td>\n",
       "      <td>True</td>\n",
       "      <td>True</td>\n",
       "      <td>...</td>\n",
       "      <td>False</td>\n",
       "      <td>False</td>\n",
       "      <td>False</td>\n",
       "      <td>True</td>\n",
       "      <td>False</td>\n",
       "      <td>True</td>\n",
       "      <td>False</td>\n",
       "      <td>False</td>\n",
       "      <td>False</td>\n",
       "      <td>True</td>\n",
       "    </tr>\n",
       "    <tr>\n",
       "      <th>2</th>\n",
       "      <td>0014-BMAQU</td>\n",
       "      <td>True</td>\n",
       "      <td>False</td>\n",
       "      <td>True</td>\n",
       "      <td>False</td>\n",
       "      <td>True</td>\n",
       "      <td>False</td>\n",
       "      <td>False</td>\n",
       "      <td>True</td>\n",
       "      <td>False</td>\n",
       "      <td>...</td>\n",
       "      <td>True</td>\n",
       "      <td>False</td>\n",
       "      <td>False</td>\n",
       "      <td>True</td>\n",
       "      <td>False</td>\n",
       "      <td>False</td>\n",
       "      <td>True</td>\n",
       "      <td>False</td>\n",
       "      <td>True</td>\n",
       "      <td>True</td>\n",
       "    </tr>\n",
       "  </tbody>\n",
       "</table>\n",
       "<p>3 rows × 21 columns</p>\n",
       "</div>"
      ],
      "text/plain": [
       "   customerID  PaperlessBilling  SeniorCitizen  Partner  Dependents  \\\n",
       "0  0004-TLHLJ              True          False    False       False   \n",
       "1  0013-SMEOE              True           True     True       False   \n",
       "2  0014-BMAQU              True          False     True       False   \n",
       "\n",
       "   OnlineSecurity  OnlineBackup  DeviceProtection  TechSupport  StreamingTV  \\\n",
       "0           False         False              True        False        False   \n",
       "1            True          True              True         True         True   \n",
       "2            True         False             False         True        False   \n",
       "\n",
       "   ...  MultipleLines  Type_month_to_month  Type_one_year  Type_two_year  \\\n",
       "0  ...          False                 True          False          False   \n",
       "1  ...          False                False          False           True   \n",
       "2  ...           True                False          False           True   \n",
       "\n",
       "   PaymentMethod_electronic_check  PaymentMethod_bank_transfer_(automatic)  \\\n",
       "0                            True                                    False   \n",
       "1                           False                                     True   \n",
       "2                           False                                    False   \n",
       "\n",
       "   PaymentMethod_credict_card_(automatic)  PaymentMethod_mailed_check  \\\n",
       "0                                   False                       False   \n",
       "1                                   False                       False   \n",
       "2                                    True                       False   \n",
       "\n",
       "   gender_male  InternetService_fiber_optic_not_DSL  \n",
       "0         True                                 True  \n",
       "1        False                                 True  \n",
       "2         True                                 True  \n",
       "\n",
       "[3 rows x 21 columns]"
      ]
     },
     "execution_count": 35,
     "metadata": {},
     "output_type": "execute_result"
    }
   ],
   "source": [
    "categorical.head(3)"
   ]
  },
  {
   "cell_type": "markdown",
   "id": "da2de54a",
   "metadata": {},
   "source": [
    "<div class=\"alert alert-info\">\n",
    "<h2> Комментарий студента 2: <a class=\"tocSkip\"> </h2>\n",
    "\n",
    "<b>👋:</b> Здесь мы видим все категоральные признаки, или все опции по услугам компании.\n",
    "</div> "
   ]
  },
  {
   "cell_type": "markdown",
   "id": "d65cceca",
   "metadata": {},
   "source": [
    "<div class=\"alert alert-success\">\n",
    "<h2> Комментарий ревьюера 3 <a class=\"tocSkip\"> </h2>\n",
    "\n",
    "<b>Все отлично!👍:</b>"
   ]
  },
  {
   "cell_type": "code",
   "execution_count": 36,
   "id": "299f8d82",
   "metadata": {},
   "outputs": [],
   "source": [
    "categorical = pd.merge(categorical, customer, on='customerID', how='inner')"
   ]
  },
  {
   "cell_type": "code",
   "execution_count": 37,
   "id": "10cf3bde",
   "metadata": {},
   "outputs": [],
   "source": [
    "categorical = categorical.drop(columns=['EndDate'])"
   ]
  },
  {
   "cell_type": "code",
   "execution_count": 38,
   "id": "cdec6a1c",
   "metadata": {},
   "outputs": [
    {
     "data": {
      "image/png": "[encoded data removed]",
      "text/plain": [
       "<Figure size 432x288 with 1 Axes>"
      ]
     },
     "metadata": {
      "needs_background": "light"
     },
     "output_type": "display_data"
    },
    {
     "data": {
      "image/png": "[encoded data removed]",
      "text/plain": [
       "<Figure size 432x288 with 1 Axes>"
      ]
     },
     "metadata": {
      "needs_background": "light"
     },
     "output_type": "display_data"
    },
    {
     "data": {
      "image/png": "[encoded data removed]",
      "text/plain": [
       "<Figure size 432x288 with 1 Axes>"
      ]
     },
     "metadata": {
      "needs_background": "light"
     },
     "output_type": "display_data"
    }
   ],
   "source": [
    "names = []\n",
    "chi2_list = []\n",
    "p_value_list = []\n",
    "cramers_v_list = []\n",
    "\n",
    "significant_cols = []\n",
    "\n",
    "for col in categorical.columns:\n",
    "    if col == 'customerID' or col == 'terminated':\n",
    "        continue\n",
    "    \n",
    "    # Create a contingency table\n",
    "    contingency_table = pd.crosstab(categorical[col], categorical['terminated'])\n",
    "\n",
    "    # Perform the chi-square test\n",
    "    chi2, p_value, _, _ = stats.chi2_contingency(contingency_table)\n",
    "\n",
    "    # Calculate Cramer's V\n",
    "    n = contingency_table.sum().sum()\n",
    "    phi_corr = np.sqrt(chi2 / (n * (min(contingency_table.shape)-1)))\n",
    "    cramers_v = phi_corr\n",
    "    \n",
    "    if cramers_v > 0.04:\n",
    "        significant_cols.append(col)\n",
    "    \n",
    "    names.append(col)\n",
    "    chi2_list.append(chi2)\n",
    "    p_value_list.append(p_value)\n",
    "    cramers_v_list.append(cramers_v)\n",
    "    \n",
    "#     print('{:40} Chi-square-{:5.1f} P-value-{:.2f} Cramer\\'s V-{:.2f}'\\\n",
    "#           .format(str(col), chi2, p_value, cramers_v))\n",
    "x_axis = range(1, len(names) + 1)\n",
    "plt.barh(names, chi2_list)\n",
    "plt.title('chi2')\n",
    "plt.show()\n",
    "plt.barh(names, p_value_list)\n",
    "plt.title('p_value')\n",
    "plt.show()\n",
    "plt.barh(names, cramers_v_list)\n",
    "plt.title('cramers_v')\n",
    "plt.show()"
   ]
  },
  {
   "cell_type": "markdown",
   "id": "4a3e2012",
   "metadata": {},
   "source": [
    "<div class=\"alert alert-info\">\n",
    "<h2> Комментарий студента 2: <a class=\"tocSkip\"> </h2>\n",
    "\n",
    "<b>👋:</b> На этих графиках видна сильныая корреляция у колонок 'Type_month_to_month' (payment type), 'PaymentMethod_electronic_check' (payment method) и \"TechSupport\" - техническая поддержка.\n",
    "</div> "
   ]
  },
  {
   "cell_type": "markdown",
   "id": "05bb6ee8",
   "metadata": {},
   "source": [
    "<div class=\"alert alert-success\">\n",
    "<h2> Комментарий ревьюера 3 <a class=\"tocSkip\"> </h2>\n",
    "\n",
    "<b>Все отлично!👍:</b>"
   ]
  },
  {
   "cell_type": "code",
   "execution_count": 39,
   "id": "afefae68",
   "metadata": {},
   "outputs": [],
   "source": [
    "def cramers_v(x, y):\n",
    "    contingency_table = pd.crosstab(x, y)\n",
    "    chi2, _, _, _ = stats.chi2_contingency(contingency_table)\n",
    "\n",
    "    n = contingency_table.sum().sum()\n",
    "    cramers_v = np.sqrt(chi2 / (n * (min(contingency_table.shape) - 1)))\n",
    "\n",
    "    return cramers_v"
   ]
  },
  {
   "cell_type": "code",
   "execution_count": 40,
   "id": "aee846cf",
   "metadata": {},
   "outputs": [
    {
     "data": {
      "text/html": [
       "<div>\n",
       "<style scoped>\n",
       "    .dataframe tbody tr th:only-of-type {\n",
       "        vertical-align: middle;\n",
       "    }\n",
       "\n",
       "    .dataframe tbody tr th {\n",
       "        vertical-align: top;\n",
       "    }\n",
       "\n",
       "    .dataframe thead th {\n",
       "        text-align: right;\n",
       "    }\n",
       "</style>\n",
       "<table border=\"1\" class=\"dataframe\">\n",
       "  <thead>\n",
       "    <tr style=\"text-align: right;\">\n",
       "      <th></th>\n",
       "      <th>terminated</th>\n",
       "      <th>PaperlessBilling</th>\n",
       "    </tr>\n",
       "  </thead>\n",
       "  <tbody>\n",
       "    <tr>\n",
       "      <th>terminated</th>\n",
       "      <td>1.000000</td>\n",
       "      <td>0.123712</td>\n",
       "    </tr>\n",
       "    <tr>\n",
       "      <th>PaperlessBilling</th>\n",
       "      <td>0.123712</td>\n",
       "      <td>1.000000</td>\n",
       "    </tr>\n",
       "  </tbody>\n",
       "</table>\n",
       "</div>"
      ],
      "text/plain": [
       "                  terminated  PaperlessBilling\n",
       "terminated          1.000000          0.123712\n",
       "PaperlessBilling    0.123712          1.000000"
      ]
     },
     "execution_count": 40,
     "metadata": {},
     "output_type": "execute_result"
    }
   ],
   "source": [
    "# Calculate the correlation matrixa\n",
    "categorical[['terminated', 'PaperlessBilling']].corr(method=cramers_v)"
   ]
  },
  {
   "cell_type": "code",
   "execution_count": 41,
   "id": "77948aca",
   "metadata": {},
   "outputs": [
    {
     "data": {
      "image/png": "[encoded data removed]",
      "text/plain": [
       "<Figure size 432x288 with 2 Axes>"
      ]
     },
     "metadata": {
      "needs_background": "light"
     },
     "output_type": "display_data"
    }
   ],
   "source": [
    "# Calculate the correlation matrixa\n",
    "correlation_matrix = categorical.drop(columns=['customerID']).corr(method=cramers_v)\n",
    "\n",
    "# Plot the correlation matrix as a heatmap\n",
    "sns.heatmap(correlation_matrix, cmap='coolwarm')\n",
    "\n",
    "# Show the plot\n",
    "plt.show()"
   ]
  },
  {
   "cell_type": "code",
   "execution_count": 42,
   "id": "b3417ee6",
   "metadata": {},
   "outputs": [
    {
     "data": {
      "text/plain": [
       "['PaperlessBilling',\n",
       " 'SeniorCitizen',\n",
       " 'Partner',\n",
       " 'Dependents',\n",
       " 'OnlineSecurity',\n",
       " 'OnlineBackup',\n",
       " 'DeviceProtection',\n",
       " 'TechSupport',\n",
       " 'StreamingTV',\n",
       " 'Type_month_to_month',\n",
       " 'Type_one_year',\n",
       " 'Type_two_year',\n",
       " 'PaymentMethod_electronic_check',\n",
       " 'PaymentMethod_bank_transfer_(automatic)',\n",
       " 'PaymentMethod_credict_card_(automatic)',\n",
       " 'PaymentMethod_mailed_check',\n",
       " 'gender_male',\n",
       " 'InternetService_fiber_optic_not_DSL']"
      ]
     },
     "execution_count": 42,
     "metadata": {},
     "output_type": "execute_result"
    }
   ],
   "source": [
    "significant_cols"
   ]
  },
  {
   "cell_type": "code",
   "execution_count": 43,
   "id": "a8af1e4d",
   "metadata": {},
   "outputs": [
    {
     "name": "stdout",
     "output_type": "stream",
     "text": [
      "target value count ratio 0.33\n"
     ]
    }
   ],
   "source": [
    "print('target value count ratio {:.2f}'.format(categorical.terminated.sum() /\\\n",
    "                                               categorical.shape[0]))"
   ]
  },
  {
   "cell_type": "markdown",
   "id": "58c92866",
   "metadata": {},
   "source": [
    "Это количество данных где мы потеряли клиентов, чтобы корреляция не потерялась"
   ]
  },
  {
   "cell_type": "markdown",
   "id": "41d9b088",
   "metadata": {},
   "source": [
    "<div class=\"alert alert-warning\">\n",
    "    <h2> Комментарий ревьюера <a class=\"tocSkip\"> </h2>\n",
    "    \n",
    "<b>Некоторые замечания и рекомендации💡:</b> Напоминаю о проверке дисбаланса классов\n",
    "    \n",
    "Знай, что метрика ROC-AUC устойчива к дисбалансу классов, поэтому нам можно не проводить балансировку классов"
   ]
  },
  {
   "cell_type": "markdown",
   "id": "4cc9dd2d",
   "metadata": {},
   "source": [
    "### Проверим Корреляцию на Колличественных Данных"
   ]
  },
  {
   "cell_type": "markdown",
   "id": "42c3571e",
   "metadata": {},
   "source": [
    "- MontlyCharges\n",
    "- TotalCharges"
   ]
  },
  {
   "cell_type": "code",
   "execution_count": 44,
   "id": "6f029f22",
   "metadata": {},
   "outputs": [],
   "source": [
    "query_numerical =\\\n",
    "'''\n",
    "WITH good_ids AS (\n",
    "    SELECT \"customerID\"\n",
    "    FROM telecom.contract\n",
    "    ORDER BY RANDOM()\n",
    "    LIMIT 1000\n",
    ")\n",
    "\n",
    "SELECT \"customerID\", \"MonthlyCharges\", \"TotalCharges\"\n",
    "FROM telecom.contract\n",
    "WHERE \"customerID\" IN (\n",
    "    SELECT *\n",
    "    FROM good_ids\n",
    ");\n",
    "'''\n",
    "columns_numerical = ['customerID', 'MonthlyCharges', 'TotalCharges']\n",
    "numerical = postgresql_to_dataframe(conn, query_numerical, columns_numerical)"
   ]
  },
  {
   "cell_type": "code",
   "execution_count": 45,
   "id": "2f7610a1",
   "metadata": {},
   "outputs": [
    {
     "data": {
      "text/html": [
       "<div>\n",
       "<style scoped>\n",
       "    .dataframe tbody tr th:only-of-type {\n",
       "        vertical-align: middle;\n",
       "    }\n",
       "\n",
       "    .dataframe tbody tr th {\n",
       "        vertical-align: top;\n",
       "    }\n",
       "\n",
       "    .dataframe thead th {\n",
       "        text-align: right;\n",
       "    }\n",
       "</style>\n",
       "<table border=\"1\" class=\"dataframe\">\n",
       "  <thead>\n",
       "    <tr style=\"text-align: right;\">\n",
       "      <th></th>\n",
       "      <th>customerID</th>\n",
       "      <th>MonthlyCharges</th>\n",
       "      <th>TotalCharges</th>\n",
       "    </tr>\n",
       "  </thead>\n",
       "  <tbody>\n",
       "    <tr>\n",
       "      <th>0</th>\n",
       "      <td>3668-QPYBK</td>\n",
       "      <td>53.85</td>\n",
       "      <td>108.15</td>\n",
       "    </tr>\n",
       "    <tr>\n",
       "      <th>1</th>\n",
       "      <td>5709-LVOEQ</td>\n",
       "      <td>80.85</td>\n",
       "      <td>None</td>\n",
       "    </tr>\n",
       "    <tr>\n",
       "      <th>2</th>\n",
       "      <td>9305-CDSKC</td>\n",
       "      <td>99.65</td>\n",
       "      <td>820.5</td>\n",
       "    </tr>\n",
       "  </tbody>\n",
       "</table>\n",
       "</div>"
      ],
      "text/plain": [
       "   customerID MonthlyCharges TotalCharges\n",
       "0  3668-QPYBK          53.85       108.15\n",
       "1  5709-LVOEQ          80.85         None\n",
       "2  9305-CDSKC          99.65        820.5"
      ]
     },
     "execution_count": 45,
     "metadata": {},
     "output_type": "execute_result"
    }
   ],
   "source": [
    "numerical.head(3)"
   ]
  },
  {
   "cell_type": "code",
   "execution_count": 46,
   "id": "7d4a6c73",
   "metadata": {},
   "outputs": [
    {
     "data": {
      "image/png": "[encoded data removed]",
      "text/plain": [
       "<Figure size 432x288 with 1 Axes>"
      ]
     },
     "metadata": {
      "needs_background": "light"
     },
     "output_type": "display_data"
    }
   ],
   "source": [
    "numerical.MonthlyCharges.hist()\n",
    "plt.title('Распределение Величины Месечных Оплат')\n",
    "plt.xlabel('Величина Оплат')\n",
    "plt.ylabel('кол-во')\n",
    "plt.show()"
   ]
  },
  {
   "cell_type": "code",
   "execution_count": 47,
   "id": "2ae8aef6",
   "metadata": {},
   "outputs": [
    {
     "data": {
      "image/png": "[encoded data removed]",
      "text/plain": [
       "<Figure size 432x288 with 1 Axes>"
      ]
     },
     "metadata": {
      "needs_background": "light"
     },
     "output_type": "display_data"
    }
   ],
   "source": [
    "numerical.TotalCharges.hist()\n",
    "plt.title('Распределение Величины Всех Оплат')\n",
    "plt.xlabel('Величина Оплат')\n",
    "plt.ylabel('кол-во')\n",
    "plt.show()"
   ]
  },
  {
   "cell_type": "code",
   "execution_count": 48,
   "id": "3ea9fc5b",
   "metadata": {},
   "outputs": [],
   "source": [
    "numerical = pd.merge(numerical, customer, on='customerID', how='inner')"
   ]
  },
  {
   "cell_type": "code",
   "execution_count": 49,
   "id": "8c3d83f8",
   "metadata": {},
   "outputs": [
    {
     "name": "stdout",
     "output_type": "stream",
     "text": [
      "<class 'pandas.core.frame.DataFrame'>\n",
      "Int64Index: 1000 entries, 0 to 999\n",
      "Data columns (total 5 columns):\n",
      " #   Column          Non-Null Count  Dtype \n",
      "---  ------          --------------  ----- \n",
      " 0   customerID      1000 non-null   object\n",
      " 1   MonthlyCharges  1000 non-null   object\n",
      " 2   TotalCharges    998 non-null    object\n",
      " 3   EndDate         261 non-null    object\n",
      " 4   terminated      1000 non-null   bool  \n",
      "dtypes: bool(1), object(4)\n",
      "memory usage: 40.0+ KB\n"
     ]
    }
   ],
   "source": [
    "numerical.info()"
   ]
  },
  {
   "cell_type": "code",
   "execution_count": 50,
   "id": "e580107f",
   "metadata": {},
   "outputs": [],
   "source": [
    "numerical.MonthlyCharges = numerical.MonthlyCharges.astype('float')"
   ]
  },
  {
   "cell_type": "code",
   "execution_count": 51,
   "id": "73cb617a",
   "metadata": {},
   "outputs": [],
   "source": [
    "numerical.TotalCharges = numerical.TotalCharges.astype('float')"
   ]
  },
  {
   "cell_type": "code",
   "execution_count": 52,
   "id": "015c6275",
   "metadata": {},
   "outputs": [
    {
     "data": {
      "text/plain": [
       "0.21655474248587545"
      ]
     },
     "execution_count": 52,
     "metadata": {},
     "output_type": "execute_result"
    }
   ],
   "source": [
    "numerical.MonthlyCharges.corr(numerical.terminated)"
   ]
  },
  {
   "cell_type": "code",
   "execution_count": 53,
   "id": "51a02bb9",
   "metadata": {},
   "outputs": [
    {
     "data": {
      "text/plain": [
       "-0.21698842891852285"
      ]
     },
     "execution_count": 53,
     "metadata": {},
     "output_type": "execute_result"
    }
   ],
   "source": [
    "numerical.TotalCharges.corr(numerical.terminated)"
   ]
  },
  {
   "cell_type": "markdown",
   "id": "e2611a87",
   "metadata": {},
   "source": [
    "<div class=\"alert alert-info\">\n",
    "<h2> Комментарий студента 2: <a class=\"tocSkip\"> </h2>\n",
    "\n",
    "<b>👋:</b> Здесь мы проверили корреляцию у двух числовых показателей - месячная стоимость, и сумма затрат за весь период контракта.\n",
    "</div> "
   ]
  },
  {
   "cell_type": "markdown",
   "id": "4eecac98",
   "metadata": {},
   "source": [
    "<div class=\"alert alert-success\">\n",
    "<h2> Комментарий ревьюера 3 <a class=\"tocSkip\"> </h2>\n",
    "\n",
    "<b>Все отлично!👍:</b>"
   ]
  },
  {
   "cell_type": "markdown",
   "id": "76e57a68",
   "metadata": {},
   "source": [
    "Наблюдается корреляция которая пригодится"
   ]
  },
  {
   "cell_type": "markdown",
   "id": "0445c69d",
   "metadata": {},
   "source": [
    "Построим новые данные:\n",
    "- сколько клиент на продолжении времени пользуется услугами"
   ]
  },
  {
   "cell_type": "code",
   "execution_count": 54,
   "id": "d0cd431c",
   "metadata": {},
   "outputs": [],
   "source": [
    "query_contract_length =\\\n",
    "'''\n",
    "WITH good_ids AS (\n",
    "    SELECT \"customerID\"\n",
    "    FROM telecom.contract\n",
    "    ORDER BY RANDOM()\n",
    "    LIMIT 1000\n",
    ")\n",
    "\n",
    "SELECT \"customerID\", COALESCE(\"EndDate\", '2020-02-1') - \"BeginDate\" AS \"ContractLifeDays\"\n",
    "FROM telecom.contract\n",
    "WHERE \"customerID\" IN (\n",
    "    SELECT *\n",
    "    FROM good_ids\n",
    ");\n",
    "'''\n",
    "columns_contract_length = ['customerID', 'ContractLifeDays']\n",
    "contract_length = postgresql_to_dataframe(conn, query_contract_length, columns_contract_length)"
   ]
  },
  {
   "cell_type": "code",
   "execution_count": 55,
   "id": "a0419102",
   "metadata": {},
   "outputs": [
    {
     "data": {
      "text/html": [
       "<div>\n",
       "<style scoped>\n",
       "    .dataframe tbody tr th:only-of-type {\n",
       "        vertical-align: middle;\n",
       "    }\n",
       "\n",
       "    .dataframe tbody tr th {\n",
       "        vertical-align: top;\n",
       "    }\n",
       "\n",
       "    .dataframe thead th {\n",
       "        text-align: right;\n",
       "    }\n",
       "</style>\n",
       "<table border=\"1\" class=\"dataframe\">\n",
       "  <thead>\n",
       "    <tr style=\"text-align: right;\">\n",
       "      <th></th>\n",
       "      <th>customerID</th>\n",
       "      <th>ContractLifeDays</th>\n",
       "    </tr>\n",
       "  </thead>\n",
       "  <tbody>\n",
       "    <tr>\n",
       "      <th>0</th>\n",
       "      <td>4472-LVYGI</td>\n",
       "      <td>0</td>\n",
       "    </tr>\n",
       "    <tr>\n",
       "      <th>1</th>\n",
       "      <td>2775-SEFEE</td>\n",
       "      <td>0</td>\n",
       "    </tr>\n",
       "    <tr>\n",
       "      <th>2</th>\n",
       "      <td>8665-UTDHZ</td>\n",
       "      <td>126</td>\n",
       "    </tr>\n",
       "    <tr>\n",
       "      <th>3</th>\n",
       "      <td>9420-LOJKX</td>\n",
       "      <td>353</td>\n",
       "    </tr>\n",
       "    <tr>\n",
       "      <th>4</th>\n",
       "      <td>1658-BYGOY</td>\n",
       "      <td>402</td>\n",
       "    </tr>\n",
       "  </tbody>\n",
       "</table>\n",
       "</div>"
      ],
      "text/plain": [
       "   customerID  ContractLifeDays\n",
       "0  4472-LVYGI                 0\n",
       "1  2775-SEFEE                 0\n",
       "2  8665-UTDHZ               126\n",
       "3  9420-LOJKX               353\n",
       "4  1658-BYGOY               402"
      ]
     },
     "execution_count": 55,
     "metadata": {},
     "output_type": "execute_result"
    }
   ],
   "source": [
    "contract_length.head(5)"
   ]
  },
  {
   "cell_type": "markdown",
   "id": "f43322b0",
   "metadata": {},
   "source": [
    "<div class=\"alert alert-success\">\n",
    "<h2> Комментарий ревьюера <a class=\"tocSkip\"> </h2>\n",
    "\n",
    "<b>Все отлично!👍:</b> \n",
    "\n",
    "Молодец, что создаешь новый полезный признак) \n",
    "    \n",
    "Время жизни клиента часто используется в телекоме. Отлично, что последней датой используется не сегодняшняя дата, а дата выгрузки. Даты убраны, верно, так нет утечки"
   ]
  },
  {
   "cell_type": "code",
   "execution_count": 56,
   "id": "1e05e143",
   "metadata": {},
   "outputs": [
    {
     "data": {
      "image/png": "[encoded data removed]",
      "text/plain": [
       "<Figure size 432x288 with 1 Axes>"
      ]
     },
     "metadata": {
      "needs_background": "light"
     },
     "output_type": "display_data"
    }
   ],
   "source": [
    "contract_length.ContractLifeDays.hist()\n",
    "plt.title('Распределение Длительности Контрактов')\n",
    "plt.xlabel('Длина Контракта (дни)')\n",
    "plt.ylabel('кол-во')\n",
    "plt.show()"
   ]
  },
  {
   "cell_type": "code",
   "execution_count": 57,
   "id": "9aa4c61c",
   "metadata": {},
   "outputs": [],
   "source": [
    "contract_length = pd.merge(contract_length, customer, on='customerID', how='inner')"
   ]
  },
  {
   "cell_type": "code",
   "execution_count": 58,
   "id": "a958880d",
   "metadata": {},
   "outputs": [],
   "source": [
    "contract_length = contract_length.drop(columns='EndDate')"
   ]
  },
  {
   "cell_type": "code",
   "execution_count": 59,
   "id": "01c1a06f",
   "metadata": {},
   "outputs": [
    {
     "data": {
      "text/html": [
       "<div>\n",
       "<style scoped>\n",
       "    .dataframe tbody tr th:only-of-type {\n",
       "        vertical-align: middle;\n",
       "    }\n",
       "\n",
       "    .dataframe tbody tr th {\n",
       "        vertical-align: top;\n",
       "    }\n",
       "\n",
       "    .dataframe thead th {\n",
       "        text-align: right;\n",
       "    }\n",
       "</style>\n",
       "<table border=\"1\" class=\"dataframe\">\n",
       "  <thead>\n",
       "    <tr style=\"text-align: right;\">\n",
       "      <th></th>\n",
       "      <th>customerID</th>\n",
       "      <th>ContractLifeDays</th>\n",
       "      <th>terminated</th>\n",
       "    </tr>\n",
       "  </thead>\n",
       "  <tbody>\n",
       "    <tr>\n",
       "      <th>0</th>\n",
       "      <td>4472-LVYGI</td>\n",
       "      <td>0</td>\n",
       "      <td>False</td>\n",
       "    </tr>\n",
       "    <tr>\n",
       "      <th>1</th>\n",
       "      <td>2775-SEFEE</td>\n",
       "      <td>0</td>\n",
       "      <td>False</td>\n",
       "    </tr>\n",
       "    <tr>\n",
       "      <th>2</th>\n",
       "      <td>8665-UTDHZ</td>\n",
       "      <td>126</td>\n",
       "      <td>True</td>\n",
       "    </tr>\n",
       "    <tr>\n",
       "      <th>3</th>\n",
       "      <td>9420-LOJKX</td>\n",
       "      <td>353</td>\n",
       "      <td>True</td>\n",
       "    </tr>\n",
       "    <tr>\n",
       "      <th>4</th>\n",
       "      <td>1658-BYGOY</td>\n",
       "      <td>402</td>\n",
       "      <td>True</td>\n",
       "    </tr>\n",
       "  </tbody>\n",
       "</table>\n",
       "</div>"
      ],
      "text/plain": [
       "   customerID  ContractLifeDays  terminated\n",
       "0  4472-LVYGI                 0       False\n",
       "1  2775-SEFEE                 0       False\n",
       "2  8665-UTDHZ               126        True\n",
       "3  9420-LOJKX               353        True\n",
       "4  1658-BYGOY               402        True"
      ]
     },
     "execution_count": 59,
     "metadata": {},
     "output_type": "execute_result"
    }
   ],
   "source": [
    "contract_length.head()"
   ]
  },
  {
   "cell_type": "code",
   "execution_count": 60,
   "id": "ee9e870d",
   "metadata": {},
   "outputs": [
    {
     "name": "stdout",
     "output_type": "stream",
     "text": [
      "target value count ratio 0.28\n"
     ]
    }
   ],
   "source": [
    "print('target value count ratio {:.2f}'.format(contract_length.terminated.sum() /\\\n",
    "                                               contract_length.shape[0]))"
   ]
  },
  {
   "cell_type": "code",
   "execution_count": 61,
   "id": "609a425c",
   "metadata": {},
   "outputs": [
    {
     "data": {
      "text/plain": [
       "0.061166874860098246"
      ]
     },
     "execution_count": 61,
     "metadata": {},
     "output_type": "execute_result"
    }
   ],
   "source": [
    "contract_length.ContractLifeDays.corr(contract_length.terminated)"
   ]
  },
  {
   "cell_type": "markdown",
   "id": "1b655247",
   "metadata": {},
   "source": [
    "Видно что корреляция очень слабая, даже не стоит использовать эти данные."
   ]
  },
  {
   "cell_type": "markdown",
   "id": "ffcf217a",
   "metadata": {},
   "source": [
    "<br/>\n",
    "<div class=\"alert alert-block alert-danger\">\n",
    "<h2> Комментарий ревьюера <a class=\"tocSkip\"></h2>\n",
    "    \n",
    "<b>На доработку🤔:</b>\n",
    "    \n",
    "Нужно еще вывести матрицу корреляций у полученного датасета. Заранее предупрежу тебя, что учитывая специфику наших данных: численные с ненормальным распределением + категориальные, правильно будет использовать phik - корреляцию, а корреляция Пирсона не подойдет.\n",
    "    \n",
    "Для категориальных признаков некорректно применять корреляцию Пирсона или Спирмена, правильно будет использовать phik - корреляцию или Крамера.    \n",
    " </div>"
   ]
  },
  {
   "cell_type": "markdown",
   "id": "c7f645ec",
   "metadata": {},
   "source": [
    "<div class=\"alert alert-info\">\n",
    "<h2> Комментарий студента: <a class=\"tocSkip\"> </h2>\n",
    "\n",
    "<b>👋:</b> Мне не понятно зачем нам матрица корреляций. Нам важно обращать внимание на корреляцию между целевым признаком а не общую корреляцию. Все равно добавил выше.\n",
    "</div> "
   ]
  },
  {
   "cell_type": "markdown",
   "id": "6e85ab7e",
   "metadata": {},
   "source": [
    "<div class=\"alert alert-success\">\n",
    "<h2> Комментарий ревьюера 2 <a class=\"tocSkip\"> </h2>\n",
    "\n",
    "<b>Все отлично!👍:</b>"
   ]
  },
  {
   "cell_type": "markdown",
   "id": "ed0a5521",
   "metadata": {},
   "source": [
    "### Выгрузка Данных"
   ]
  },
  {
   "cell_type": "code",
   "execution_count": 62,
   "id": "356b1180",
   "metadata": {},
   "outputs": [
    {
     "data": {
      "text/plain": [
       "['PaperlessBilling',\n",
       " 'SeniorCitizen',\n",
       " 'Partner',\n",
       " 'Dependents',\n",
       " 'OnlineSecurity',\n",
       " 'OnlineBackup',\n",
       " 'DeviceProtection',\n",
       " 'TechSupport',\n",
       " 'StreamingTV',\n",
       " 'Type_month_to_month',\n",
       " 'Type_one_year',\n",
       " 'Type_two_year',\n",
       " 'PaymentMethod_electronic_check',\n",
       " 'PaymentMethod_bank_transfer_(automatic)',\n",
       " 'PaymentMethod_credict_card_(automatic)',\n",
       " 'PaymentMethod_mailed_check',\n",
       " 'gender_male',\n",
       " 'InternetService_fiber_optic_not_DSL']"
      ]
     },
     "execution_count": 62,
     "metadata": {},
     "output_type": "execute_result"
    }
   ],
   "source": [
    "significant_cols"
   ]
  },
  {
   "cell_type": "code",
   "execution_count": 63,
   "id": "1c1437e8",
   "metadata": {},
   "outputs": [
    {
     "data": {
      "text/html": [
       "<div>\n",
       "<style scoped>\n",
       "    .dataframe tbody tr th:only-of-type {\n",
       "        vertical-align: middle;\n",
       "    }\n",
       "\n",
       "    .dataframe tbody tr th {\n",
       "        vertical-align: top;\n",
       "    }\n",
       "\n",
       "    .dataframe thead th {\n",
       "        text-align: right;\n",
       "    }\n",
       "</style>\n",
       "<table border=\"1\" class=\"dataframe\">\n",
       "  <thead>\n",
       "    <tr style=\"text-align: right;\">\n",
       "      <th></th>\n",
       "      <th>customerID</th>\n",
       "      <th>ItnernetService</th>\n",
       "      <th>OnlineSecurity</th>\n",
       "      <th>OnlineBackup</th>\n",
       "      <th>DeviceProtection</th>\n",
       "      <th>TechSupport</th>\n",
       "      <th>StreamingTV</th>\n",
       "      <th>StreamingMovies</th>\n",
       "    </tr>\n",
       "  </thead>\n",
       "  <tbody>\n",
       "    <tr>\n",
       "      <th>0</th>\n",
       "      <td>customerID</td>\n",
       "      <td>InternetService</td>\n",
       "      <td>OnlineSecurity</td>\n",
       "      <td>OnlineBackup</td>\n",
       "      <td>DeviceProtection</td>\n",
       "      <td>TechSupport</td>\n",
       "      <td>StreamingTV</td>\n",
       "      <td>StreamingMovies</td>\n",
       "    </tr>\n",
       "    <tr>\n",
       "      <th>1</th>\n",
       "      <td>7590-VHVEG</td>\n",
       "      <td>DSL</td>\n",
       "      <td>No</td>\n",
       "      <td>Yes</td>\n",
       "      <td>No</td>\n",
       "      <td>No</td>\n",
       "      <td>No</td>\n",
       "      <td>No</td>\n",
       "    </tr>\n",
       "  </tbody>\n",
       "</table>\n",
       "</div>"
      ],
      "text/plain": [
       "   customerID  ItnernetService  OnlineSecurity  OnlineBackup  \\\n",
       "0  customerID  InternetService  OnlineSecurity  OnlineBackup   \n",
       "1  7590-VHVEG              DSL              No           Yes   \n",
       "\n",
       "   DeviceProtection  TechSupport  StreamingTV  StreamingMovies  \n",
       "0  DeviceProtection  TechSupport  StreamingTV  StreamingMovies  \n",
       "1                No           No           No               No  "
      ]
     },
     "execution_count": 63,
     "metadata": {},
     "output_type": "execute_result"
    }
   ],
   "source": [
    "internet_sample.head(2)"
   ]
  },
  {
   "cell_type": "code",
   "execution_count": 64,
   "id": "4ffa1cca",
   "metadata": {},
   "outputs": [],
   "source": [
    "query_df = \\\n",
    "'''\n",
    "SELECT \n",
    "    CASE\n",
    "        WHEN c.\"EndDate\" IS NOT NULL THEN TRUE\n",
    "        ELSE FALSE\n",
    "    END AS terminated,\n",
    "    COALESCE(c.\"EndDate\", '2020-02-1') - c.\"BeginDate\" AS \"ContractLifeDays\",\n",
    "    c.\"Type\", c.\"PaymentMethod\", c.\"MonthlyCharges\", c.\"TotalCharges\", c.\"PaperlessBilling\",\n",
    "    p.\"SeniorCitizen\", p.\"Partner\", p.\"Dependents\",\n",
    "    i.\"c2\", i.\"c3\", i.\"c4\", i.\"c5\", i.\"c6\", i.\"c7\", i.\"c8\",\n",
    "    phone.\"c2\"\n",
    "FROM telecom.contract AS c\n",
    "    LEFT JOIN telecom.personal AS p\n",
    "    ON c.\"customerID\" = p.\"customerID\"\n",
    "    LEFT JOIN telecom.internet AS i\n",
    "    ON c.\"customerID\" = i.\"c1\"\n",
    "    LEFT JOIN telecom.phone\n",
    "    ON c.\"customerID\" = phone.\"c1\"\n",
    "'''\n",
    "columns_df = ['terminated', 'days', 'type', 'payment_method', 'monthly_charges',\n",
    "              'total_charges', 'paperless_billing', 'senior_citizen', 'partner', 'dependents',\n",
    "              'internet_service', 'online_security', 'online_backup', 'device_protection', \n",
    "              'tech_support', 'streaming_tv', 'streaming_movies', 'multiple_lines']\n",
    "df = postgresql_to_dataframe(conn, query_df, columns_df)"
   ]
  },
  {
   "cell_type": "code",
   "execution_count": 65,
   "id": "4c2004a3",
   "metadata": {},
   "outputs": [
    {
     "data": {
      "text/html": [
       "<div>\n",
       "<style scoped>\n",
       "    .dataframe tbody tr th:only-of-type {\n",
       "        vertical-align: middle;\n",
       "    }\n",
       "\n",
       "    .dataframe tbody tr th {\n",
       "        vertical-align: top;\n",
       "    }\n",
       "\n",
       "    .dataframe thead th {\n",
       "        text-align: right;\n",
       "    }\n",
       "</style>\n",
       "<table border=\"1\" class=\"dataframe\">\n",
       "  <thead>\n",
       "    <tr style=\"text-align: right;\">\n",
       "      <th></th>\n",
       "      <th>terminated</th>\n",
       "      <th>days</th>\n",
       "      <th>type</th>\n",
       "      <th>payment_method</th>\n",
       "      <th>monthly_charges</th>\n",
       "      <th>total_charges</th>\n",
       "      <th>paperless_billing</th>\n",
       "      <th>senior_citizen</th>\n",
       "      <th>partner</th>\n",
       "      <th>dependents</th>\n",
       "      <th>internet_service</th>\n",
       "      <th>online_security</th>\n",
       "      <th>online_backup</th>\n",
       "      <th>device_protection</th>\n",
       "      <th>tech_support</th>\n",
       "      <th>streaming_tv</th>\n",
       "      <th>streaming_movies</th>\n",
       "      <th>multiple_lines</th>\n",
       "    </tr>\n",
       "  </thead>\n",
       "  <tbody>\n",
       "    <tr>\n",
       "      <th>0</th>\n",
       "      <td>False</td>\n",
       "      <td>0</td>\n",
       "      <td>Two year</td>\n",
       "      <td>Bank transfer (automatic)</td>\n",
       "      <td>52.55</td>\n",
       "      <td>None</td>\n",
       "      <td>Yes</td>\n",
       "      <td>0</td>\n",
       "      <td>Yes</td>\n",
       "      <td>Yes</td>\n",
       "      <td>DSL</td>\n",
       "      <td>Yes</td>\n",
       "      <td>No</td>\n",
       "      <td>Yes</td>\n",
       "      <td>Yes</td>\n",
       "      <td>Yes</td>\n",
       "      <td>No</td>\n",
       "      <td>None</td>\n",
       "    </tr>\n",
       "    <tr>\n",
       "      <th>1</th>\n",
       "      <td>False</td>\n",
       "      <td>0</td>\n",
       "      <td>Two year</td>\n",
       "      <td>Mailed check</td>\n",
       "      <td>20.25</td>\n",
       "      <td>None</td>\n",
       "      <td>No</td>\n",
       "      <td>0</td>\n",
       "      <td>No</td>\n",
       "      <td>Yes</td>\n",
       "      <td>None</td>\n",
       "      <td>None</td>\n",
       "      <td>None</td>\n",
       "      <td>None</td>\n",
       "      <td>None</td>\n",
       "      <td>None</td>\n",
       "      <td>None</td>\n",
       "      <td>No</td>\n",
       "    </tr>\n",
       "  </tbody>\n",
       "</table>\n",
       "</div>"
      ],
      "text/plain": [
       "   terminated  days      type             payment_method monthly_charges  \\\n",
       "0       False     0  Two year  Bank transfer (automatic)           52.55   \n",
       "1       False     0  Two year               Mailed check           20.25   \n",
       "\n",
       "  total_charges paperless_billing  senior_citizen partner dependents  \\\n",
       "0          None               Yes               0     Yes        Yes   \n",
       "1          None                No               0      No        Yes   \n",
       "\n",
       "  internet_service online_security online_backup device_protection  \\\n",
       "0              DSL             Yes            No               Yes   \n",
       "1             None            None          None              None   \n",
       "\n",
       "  tech_support streaming_tv streaming_movies multiple_lines  \n",
       "0          Yes          Yes               No           None  \n",
       "1         None         None             None             No  "
      ]
     },
     "execution_count": 65,
     "metadata": {},
     "output_type": "execute_result"
    }
   ],
   "source": [
    "df.head(2)"
   ]
  },
  {
   "cell_type": "code",
   "execution_count": 66,
   "id": "8bb07fb8",
   "metadata": {},
   "outputs": [
    {
     "name": "stdout",
     "output_type": "stream",
     "text": [
      "<class 'pandas.core.frame.DataFrame'>\n",
      "RangeIndex: 7043 entries, 0 to 7042\n",
      "Data columns (total 18 columns):\n",
      " #   Column             Non-Null Count  Dtype \n",
      "---  ------             --------------  ----- \n",
      " 0   terminated         7043 non-null   bool  \n",
      " 1   days               7043 non-null   int64 \n",
      " 2   type               7043 non-null   object\n",
      " 3   payment_method     7043 non-null   object\n",
      " 4   monthly_charges    7043 non-null   object\n",
      " 5   total_charges      7032 non-null   object\n",
      " 6   paperless_billing  7043 non-null   object\n",
      " 7   senior_citizen     7043 non-null   int64 \n",
      " 8   partner            7043 non-null   object\n",
      " 9   dependents         7043 non-null   object\n",
      " 10  internet_service   5517 non-null   object\n",
      " 11  online_security    5517 non-null   object\n",
      " 12  online_backup      5517 non-null   object\n",
      " 13  device_protection  5517 non-null   object\n",
      " 14  tech_support       5517 non-null   object\n",
      " 15  streaming_tv       5517 non-null   object\n",
      " 16  streaming_movies   5517 non-null   object\n",
      " 17  multiple_lines     6361 non-null   object\n",
      "dtypes: bool(1), int64(2), object(15)\n",
      "memory usage: 942.4+ KB\n"
     ]
    }
   ],
   "source": [
    "df.info()"
   ]
  },
  {
   "cell_type": "markdown",
   "id": "469defb8",
   "metadata": {},
   "source": [
    "<div class=\"alert alert-success\">\n",
    "<h2> Комментарий ревьюера <a class=\"tocSkip\"> </h2>\n",
    "\n",
    "<b>Все отлично!👍:</b> \n",
    "    \n",
    "Присоединение таблиц корректное! Никакие группы клиентов не удалились"
   ]
  },
  {
   "cell_type": "markdown",
   "id": "972c3cde",
   "metadata": {},
   "source": [
    "<br/>\n",
    "<div class=\"alert alert-block alert-danger\">\n",
    "<h2> Комментарий ревьюера  <a class=\"tocSkip\"></h2>\n",
    "\n",
    "    \n",
    "<b>На доработку🤔:</b>\n",
    "    \n",
    "После объединения таблиц, для итогового датафрейма нужно вывести графики распределения признаков"
   ]
  },
  {
   "cell_type": "markdown",
   "id": "2e440e5b",
   "metadata": {},
   "source": [
    "<div class=\"alert alert-info\">\n",
    "<h2> Комментарий студента: <a class=\"tocSkip\"> </h2>\n",
    "\n",
    "<b>👋:</b> Пострил таблицы после того как привел данные к правильному типу.\n",
    "</div> "
   ]
  },
  {
   "cell_type": "markdown",
   "id": "ede74b3f",
   "metadata": {},
   "source": [
    "<div class=\"alert alert-success\">\n",
    "<h2> Комментарий ревьюера 2 <a class=\"tocSkip\"> </h2>\n",
    "\n",
    "<b>Все отлично!👍:</b>"
   ]
  },
  {
   "cell_type": "code",
   "execution_count": 67,
   "id": "a9d90c5a",
   "metadata": {},
   "outputs": [],
   "source": [
    "df.monthly_charges = df.monthly_charges.astype('float')\n",
    "df.total_charges = df.total_charges.astype('float')"
   ]
  },
  {
   "cell_type": "code",
   "execution_count": 68,
   "id": "cffd2e5c",
   "metadata": {},
   "outputs": [],
   "source": [
    "df.days = df.total_charges.fillna(0)\n",
    "df.monthly_charges = df.monthly_charges.fillna(0)\n",
    "df.total_charges = df.total_charges.fillna(0)"
   ]
  },
  {
   "cell_type": "markdown",
   "id": "3c2695c2",
   "metadata": {},
   "source": [
    "<br/>\n",
    "<div class=\"alert alert-block alert-danger\">\n",
    "<h2> Комментарий ревьюера 5 <a class=\"tocSkip\"></h2>\n",
    "\n",
    "    \n",
    "<b>На доработку🤔:</b>\n",
    "    \n",
    "df.days не следует переназначать признаком df.total_charges"
   ]
  },
  {
   "cell_type": "code",
   "execution_count": 69,
   "id": "493d7aa4",
   "metadata": {},
   "outputs": [],
   "source": [
    "df.terminated = df.terminated.astype('int')"
   ]
  },
  {
   "cell_type": "code",
   "execution_count": 70,
   "id": "4d23aa79",
   "metadata": {},
   "outputs": [
    {
     "name": "stdout",
     "output_type": "stream",
     "text": [
      "Month-to-month    3875\n",
      "Two year          1695\n",
      "One year          1473\n",
      "Name: type, dtype: int64\n",
      "Electronic check             2365\n",
      "Mailed check                 1612\n",
      "Bank transfer (automatic)    1544\n",
      "Credit card (automatic)      1522\n",
      "Name: payment_method, dtype: int64\n",
      "Yes    4171\n",
      "No     2872\n",
      "Name: paperless_billing, dtype: int64\n",
      "No     3641\n",
      "Yes    3402\n",
      "Name: partner, dtype: int64\n",
      "No     4933\n",
      "Yes    2110\n",
      "Name: dependents, dtype: int64\n",
      "Fiber optic    3096\n",
      "DSL            2421\n",
      "Name: internet_service, dtype: int64\n",
      "No     3498\n",
      "Yes    2019\n",
      "Name: online_security, dtype: int64\n",
      "No     3088\n",
      "Yes    2429\n",
      "Name: online_backup, dtype: int64\n",
      "No     3095\n",
      "Yes    2422\n",
      "Name: device_protection, dtype: int64\n",
      "No     3473\n",
      "Yes    2044\n",
      "Name: tech_support, dtype: int64\n",
      "No     2810\n",
      "Yes    2707\n",
      "Name: streaming_tv, dtype: int64\n",
      "No     2785\n",
      "Yes    2732\n",
      "Name: streaming_movies, dtype: int64\n",
      "No     3390\n",
      "Yes    2971\n",
      "Name: multiple_lines, dtype: int64\n"
     ]
    }
   ],
   "source": [
    "for col in df.columns:\n",
    "    if df[col].dtype == 'object':\n",
    "        print(df[col].value_counts())"
   ]
  },
  {
   "cell_type": "markdown",
   "id": "cdd15234",
   "metadata": {},
   "source": [
    "Не знаю как это можно прокоментировать"
   ]
  },
  {
   "cell_type": "code",
   "execution_count": 71,
   "id": "d37c8516",
   "metadata": {},
   "outputs": [
    {
     "data": {
      "image/png": "[encoded data removed]",
      "text/plain": [
       "<Figure size 432x288 with 1 Axes>"
      ]
     },
     "metadata": {
      "needs_background": "light"
     },
     "output_type": "display_data"
    },
    {
     "data": {
      "image/png": "[encoded data removed]",
      "text/plain": [
       "<Figure size 432x288 with 1 Axes>"
      ]
     },
     "metadata": {
      "needs_background": "light"
     },
     "output_type": "display_data"
    },
    {
     "data": {
      "image/png": "[encoded data removed]",
      "text/plain": [
       "<Figure size 432x288 with 1 Axes>"
      ]
     },
     "metadata": {
      "needs_background": "light"
     },
     "output_type": "display_data"
    }
   ],
   "source": [
    "for col in df.columns:\n",
    "    if df[col].dtype == 'float64' or df[col].dtype == 'float64':\n",
    "        df[col].hist()\n",
    "        plt.title(col)\n",
    "        plt.show()"
   ]
  },
  {
   "cell_type": "markdown",
   "id": "58e6e5c5",
   "metadata": {},
   "source": [
    "Данные распределенные нормально"
   ]
  },
  {
   "cell_type": "markdown",
   "id": "a3ca9808",
   "metadata": {},
   "source": [
    "<br/>\n",
    "<div class=\"alert alert-block alert-danger\">\n",
    "<h2> Комментарий ревьюера <a class=\"tocSkip\"></h2>\n",
    "\n",
    "    \n",
    "<b>На доработку🤔:</b>\n",
    "\n",
    "Для `TotalCharges` оптимальным решением будет заполнить пропуски нулем, значением из ‘MonthlyCharges’ или же просто удалить их."
   ]
  },
  {
   "cell_type": "markdown",
   "id": "13650ac2",
   "metadata": {},
   "source": [
    "<div class=\"alert alert-info\">\n",
    "<h2> Комментарий студента: <a class=\"tocSkip\"> </h2>\n",
    "\n",
    "<b>👋:</b> Заполнил на 0\n",
    "</div> "
   ]
  },
  {
   "cell_type": "markdown",
   "id": "a7bc5927",
   "metadata": {},
   "source": [
    "<div class=\"alert alert-success\">\n",
    "<h2> Комментарий ревьюера 2 <a class=\"tocSkip\"> </h2>\n",
    "\n",
    "<b>Все отлично!👍:</b>"
   ]
  },
  {
   "cell_type": "code",
   "execution_count": 72,
   "id": "c2a0b596",
   "metadata": {},
   "outputs": [],
   "source": [
    "df.senior_citizen = df.senior_citizen.fillna(0)"
   ]
  },
  {
   "cell_type": "code",
   "execution_count": 73,
   "id": "ac27620f",
   "metadata": {},
   "outputs": [
    {
     "name": "stdout",
     "output_type": "stream",
     "text": [
      "type                 ['Two year' 'Month-to-month' 'One year']\n",
      "payment_method       ['Bank transfer (automatic)' 'Mailed check' 'Electronic check'\n",
      " 'Credit card (automatic)']\n",
      "paperless_billing    ['Yes' 'No']\n",
      "partner              ['Yes' 'No']\n",
      "dependents           ['Yes' 'No']\n",
      "internet_service     ['DSL' None 'Fiber optic']\n",
      "online_security      ['Yes' None 'No']\n",
      "online_backup        ['No' None 'Yes']\n",
      "device_protection    ['Yes' None 'No']\n",
      "tech_support         ['Yes' None 'No']\n",
      "streaming_tv         ['Yes' None 'No']\n",
      "streaming_movies     ['No' None 'Yes']\n",
      "multiple_lines       [None 'No' 'Yes']\n"
     ]
    }
   ],
   "source": [
    "for col in df.columns:\n",
    "    if df[col].dtype == 'object':\n",
    "        print('{:20} {}'.format(col, pd.unique(df[col])))"
   ]
  },
  {
   "cell_type": "markdown",
   "id": "253a19a4",
   "metadata": {},
   "source": [
    "где можно заполним пропуски на 'No' в последнем случаем заполним 'DSL' так как это более частый провайдер"
   ]
  },
  {
   "cell_type": "code",
   "execution_count": 74,
   "id": "477ada2c",
   "metadata": {},
   "outputs": [],
   "source": [
    "df.internet_service = df.internet_service.fillna('DSL')"
   ]
  },
  {
   "cell_type": "code",
   "execution_count": 75,
   "id": "4b7bbeeb",
   "metadata": {},
   "outputs": [],
   "source": [
    "df = df.fillna('No')"
   ]
  },
  {
   "cell_type": "markdown",
   "id": "d1dab9f6",
   "metadata": {},
   "source": [
    "<br/>\n",
    "<div class=\"alert alert-block alert-danger\">\n",
    "<h2> Комментарий ревьюера <a class=\"tocSkip\"></h2>\n",
    "\n",
    "    \n",
    "<b>На доработку🤔:</b>\n",
    "\n",
    "    \n",
    "Нужно еще написать вывод по результатам проведенного исследовательского анализа данных"
   ]
  },
  {
   "cell_type": "markdown",
   "id": "8688ed5d",
   "metadata": {},
   "source": [
    "<div class=\"alert alert-info\">\n",
    "<h2> Комментарий студента: <a class=\"tocSkip\"> </h2>\n",
    "\n",
    "<b>👋:</b> Добавил пару комметариев. Не уверен на что нужно обращать внимание.\n",
    "</div> "
   ]
  },
  {
   "cell_type": "markdown",
   "id": "40569ce4",
   "metadata": {},
   "source": [
    "<br/>\n",
    "<div class=\"alert alert-block alert-danger\">\n",
    "<h2> Комментарий ревьюера 2 <a class=\"tocSkip\"></h2>\n",
    "\n",
    "    \n",
    "<b>На доработку🤔:</b>\n",
    "    \n",
    "Вывода не увидел. В целом нужно описать, с какими данными нам предстоит работать, найденные особенности в данных"
   ]
  },
  {
   "cell_type": "markdown",
   "id": "508468f8",
   "metadata": {},
   "source": [
    "<div class=\"alert alert-info\">\n",
    "<h2> Комментарий студента 2: <a class=\"tocSkip\"> </h2>\n",
    "\n",
    "<b>👋:</b> Добавил.\n",
    "</div> "
   ]
  },
  {
   "cell_type": "markdown",
   "id": "4b17e89f",
   "metadata": {},
   "source": [
    "<div class=\"alert alert-success\">\n",
    "<h2> Комментарий ревьюера 3 <a class=\"tocSkip\"> </h2>\n",
    "\n",
    "<b>Все отлично!👍:</b>"
   ]
  },
  {
   "cell_type": "code",
   "execution_count": 76,
   "id": "b1701c80",
   "metadata": {},
   "outputs": [],
   "source": [
    "enc = OneHotEncoder(drop='first')"
   ]
  },
  {
   "cell_type": "code",
   "execution_count": 77,
   "id": "c814d0c4",
   "metadata": {},
   "outputs": [],
   "source": [
    "df_train, df_test = train_test_split(df, test_size=0.25, random_state=RANDOM_STATE)"
   ]
  },
  {
   "cell_type": "markdown",
   "id": "b19c131e",
   "metadata": {},
   "source": [
    "<br/>\n",
    "<div class=\"alert alert-block alert-danger\">\n",
    "<h2> Комментарий ревьюера <a class=\"tocSkip\"></h2>\n",
    "    \n",
    "<b>На доработку🤔:</b>\n",
    "    \n",
    "При построении и поиске лучшей модели следует использовать только кросс-валидацию. validation выборку создавать  не следует . test_size указать 0.25\n",
    " </div>"
   ]
  },
  {
   "cell_type": "markdown",
   "id": "3df03e29",
   "metadata": {},
   "source": [
    "<div class=\"alert alert-info\">\n",
    "<h2> Комментарий студента: <a class=\"tocSkip\"> </h2>\n",
    "\n",
    "<b>👋:</b> Хорошо.\n",
    "</div> "
   ]
  },
  {
   "cell_type": "markdown",
   "id": "ff919ec2",
   "metadata": {},
   "source": [
    "<div class=\"alert alert-success\">\n",
    "<h2> Комментарий ревьюера 2 <a class=\"tocSkip\"> </h2>\n",
    "\n",
    "<b>Все отлично!👍:</b>"
   ]
  },
  {
   "cell_type": "code",
   "execution_count": 78,
   "id": "d387048b",
   "metadata": {},
   "outputs": [],
   "source": [
    "X_train_cat = enc.fit_transform(\n",
    "    df_train.drop(columns=['terminated', 'days', \n",
    "                                 'monthly_charges', 'total_charges'])).toarray()"
   ]
  },
  {
   "cell_type": "code",
   "execution_count": 79,
   "id": "c79a951c",
   "metadata": {},
   "outputs": [],
   "source": [
    "sca = StandardScaler()"
   ]
  },
  {
   "cell_type": "code",
   "execution_count": 80,
   "id": "5032b805",
   "metadata": {},
   "outputs": [],
   "source": [
    "X_train_num = sca.fit_transform(df_train[['days', 'monthly_charges', 'total_charges']])"
   ]
  },
  {
   "cell_type": "code",
   "execution_count": 81,
   "id": "5cab3952",
   "metadata": {},
   "outputs": [],
   "source": [
    "X_train = np.hstack((X_train_cat, X_train_num))"
   ]
  },
  {
   "cell_type": "code",
   "execution_count": 82,
   "id": "944a3025",
   "metadata": {},
   "outputs": [],
   "source": [
    "X_test_cat = enc.transform(df_test.drop(columns=['terminated', 'days', \n",
    "                          'monthly_charges', 'total_charges'])).toarray()"
   ]
  },
  {
   "cell_type": "markdown",
   "id": "0cd674a0",
   "metadata": {},
   "source": [
    "<br/>\n",
    "<div class=\"alert alert-block alert-danger\">\n",
    "<h2> Комментарий ревьюера <a class=\"tocSkip\"></h2>\n",
    "    \n",
    "<b>На доработку🤔:</b>\n",
    "    \n",
    "\n",
    "- В агрументе  OneHotEncoder следует указать drop=’first’, чтобы избыточные столбцы удалялись.\n",
    "- Кодировать следует только категориальные признаки, без численных.    \n",
    " </div>"
   ]
  },
  {
   "cell_type": "markdown",
   "id": "05a84a99",
   "metadata": {},
   "source": [
    "<div class=\"alert alert-info\">\n",
    "<h2> Комментарий студента: <a class=\"tocSkip\"> </h2>\n",
    "\n",
    "<b>👋:</b> Конечно\n",
    "</div> "
   ]
  },
  {
   "cell_type": "markdown",
   "id": "0753b160",
   "metadata": {},
   "source": [
    "<div class=\"alert alert-success\">\n",
    "<h2> Комментарий ревьюера 2 <a class=\"tocSkip\"> </h2>\n",
    "\n",
    "<b>Все отлично!👍:</b>"
   ]
  },
  {
   "cell_type": "code",
   "execution_count": 83,
   "id": "50fd4bc9",
   "metadata": {},
   "outputs": [],
   "source": [
    "X_train_num = sca.fit_transform(df_train[['days', 'monthly_charges', 'total_charges']])\n",
    "X_test_num = sca.transform(df_test[['days', 'monthly_charges', 'total_charges']])"
   ]
  },
  {
   "cell_type": "code",
   "execution_count": 84,
   "id": "b06e2df1",
   "metadata": {},
   "outputs": [],
   "source": [
    "X_train = np.hstack((X_train_cat, X_train_num))\n",
    "X_test = np.hstack((X_test_cat, X_test_num))"
   ]
  },
  {
   "cell_type": "code",
   "execution_count": 85,
   "id": "160face5",
   "metadata": {},
   "outputs": [],
   "source": [
    "y_train = df_train.terminated\n",
    "y_test = df_test.terminated"
   ]
  },
  {
   "cell_type": "markdown",
   "id": "5679fd5d",
   "metadata": {},
   "source": [
    "# Обучение Моделей"
   ]
  },
  {
   "cell_type": "markdown",
   "id": "d703770a",
   "metadata": {},
   "source": [
    "Попробуем и оценим модели метрикой ROC-AUC:\n",
    "- RandomForest\n",
    "- XGBoost\n",
    "- Feed-forward neural network with Keras"
   ]
  },
  {
   "cell_type": "code",
   "execution_count": 86,
   "id": "dabe536b",
   "metadata": {},
   "outputs": [
    {
     "data": {
      "text/plain": [
       "0.8491641161787632"
      ]
     },
     "execution_count": 86,
     "metadata": {},
     "output_type": "execute_result"
    }
   ],
   "source": [
    "param_grid = {'n_estimators': [200], 'min_samples_leaf': [14]}\n",
    "rfc = RandomForestClassifier()\n",
    "grid_rfc = GridSearchCV(rfc, param_grid, scoring='roc_auc')\n",
    "grid_rfc.fit(X_train, y_train)\n",
    "grid_rfc.best_score_"
   ]
  },
  {
   "cell_type": "code",
   "execution_count": 87,
   "id": "2953f2ac",
   "metadata": {},
   "outputs": [
    {
     "data": {
      "text/plain": [
       "{'min_samples_leaf': 14, 'n_estimators': 200}"
      ]
     },
     "execution_count": 87,
     "metadata": {},
     "output_type": "execute_result"
    }
   ],
   "source": [
    "grid_rfc.best_params_"
   ]
  },
  {
   "cell_type": "code",
   "execution_count": 88,
   "id": "f7a16326",
   "metadata": {},
   "outputs": [],
   "source": [
    "model_best = grid_rfc.best_estimator_"
   ]
  },
  {
   "cell_type": "markdown",
   "id": "f9fa8401",
   "metadata": {},
   "source": [
    "<div class=\"alert alert-block alert-danger\">\n",
    "<h2> Комментарий ревьюера <a class=\"tocSkip\"></h2>\n",
    "\n",
    "<b>На доработку🤔:</b>\n",
    "\n",
    "Использована не нужная нам метрика в подборе гиперпараметров. Следует использовать `scoring='roc_auc'`\n",
    "</div>"
   ]
  },
  {
   "cell_type": "markdown",
   "id": "eacc4115",
   "metadata": {},
   "source": [
    "<div class=\"alert alert-info\">\n",
    "<h2> Комментарий студента: <a class=\"tocSkip\"> </h2>\n",
    "\n",
    "<b>👋:</b> Хорошо\n",
    "</div> "
   ]
  },
  {
   "cell_type": "markdown",
   "id": "9231c834",
   "metadata": {},
   "source": [
    "<div class=\"alert alert-success\">\n",
    "<h2> Комментарий ревьюера 2 <a class=\"tocSkip\"> </h2>\n",
    "\n",
    "<b>Все отлично!👍:</b>"
   ]
  },
  {
   "cell_type": "markdown",
   "id": "353003de",
   "metadata": {},
   "source": [
    "<br/>\n",
    "<div class=\"alert alert-block alert-danger\">\n",
    "<h2> Комментарий ревьюера <a class=\"tocSkip\"></h2>\n",
    "    \n",
    "<b>На доработку🤔:</b> \n",
    "    \n",
    "Сравнение моделей следует провести на кросс-валидации `grid.best_score_` \n"
   ]
  },
  {
   "cell_type": "markdown",
   "id": "2884fab0",
   "metadata": {},
   "source": [
    "<div class=\"alert alert-info\">\n",
    "<h2> Комментарий студента: <a class=\"tocSkip\"> </h2>\n",
    "\n",
    "<b>👋:</b> Добавил\n",
    "</div> "
   ]
  },
  {
   "cell_type": "markdown",
   "id": "272f714f",
   "metadata": {},
   "source": [
    "<div class=\"alert alert-success\">\n",
    "<h2> Комментарий ревьюера 2 <a class=\"tocSkip\"> </h2>\n",
    "\n",
    "<b>Все отлично!👍:</b>"
   ]
  },
  {
   "cell_type": "code",
   "execution_count": 89,
   "id": "b8749d5c",
   "metadata": {},
   "outputs": [
    {
     "data": {
      "text/plain": [
       "<catboost.core.CatBoostClassifier at 0x7fb29bd52730>"
      ]
     },
     "execution_count": 89,
     "metadata": {},
     "output_type": "execute_result"
    }
   ],
   "source": [
    "model_cat = CatBoostClassifier(\n",
    "    n_estimators=24, max_depth=2, loss_function='Logloss', eval_metric='AUC')\n",
    "model_cat.fit(X_train, y_train, verbose=False)"
   ]
  },
  {
   "cell_type": "code",
   "execution_count": 90,
   "id": "8ef13ca7",
   "metadata": {},
   "outputs": [
    {
     "data": {
      "text/plain": [
       "XGBClassifier(base_score=0.5, booster='gbtree', colsample_bylevel=1,\n",
       "              colsample_bynode=1, colsample_bytree=1, enable_categorical=False,\n",
       "              eval_metric='auc', gamma=0, gpu_id=-1, importance_type=None,\n",
       "              interaction_constraints='', learning_rate=0.300000012,\n",
       "              max_delta_step=0, max_depth=4, min_child_weight=1, missing=nan,\n",
       "              monotone_constraints='()', n_estimators=2, n_jobs=8,\n",
       "              num_parallel_tree=1, predictor='auto', random_state=0,\n",
       "              reg_alpha=0, reg_lambda=1, scale_pos_weight=1, subsample=1,\n",
       "              tree_method='exact', use_label_encoder=False,\n",
       "              validate_parameters=1, verbosity=None)"
      ]
     },
     "execution_count": 90,
     "metadata": {},
     "output_type": "execute_result"
    }
   ],
   "source": [
    "model_xgb = xgb.XGBClassifier(\n",
    "    use_label_encoder=False, eval_metric='auc', n_estimators=2, max_depth=4)\n",
    "model_xgb.fit(X_train, y_train)"
   ]
  },
  {
   "cell_type": "markdown",
   "id": "d158a5df",
   "metadata": {},
   "source": [
    "<br/>\n",
    "<div class=\"alert alert-block alert-danger\">\n",
    "<h2> Комментарий ревьюера <a class=\"tocSkip\"></h2>\n",
    "    \n",
    "<b>На доработку🤔:</b> \n",
    "    \n",
    "Для модели нужно провести подбор гиперпараметров\n"
   ]
  },
  {
   "cell_type": "markdown",
   "id": "9e4210f3",
   "metadata": {},
   "source": [
    "<div class=\"alert alert-info\">\n",
    "<h2> Комментарий студента: <a class=\"tocSkip\"> </h2>\n",
    "\n",
    "<b>👋:</b> Добавил\n",
    "</div> "
   ]
  },
  {
   "cell_type": "markdown",
   "id": "322cd8de",
   "metadata": {},
   "source": [
    "<div class=\"alert alert-success\">\n",
    "<h2> Комментарий ревьюера 2 <a class=\"tocSkip\"> </h2>\n",
    "\n",
    "<b>Все отлично!👍:</b>"
   ]
  },
  {
   "cell_type": "code",
   "execution_count": 91,
   "id": "c8cadcae",
   "metadata": {},
   "outputs": [
    {
     "name": "stderr",
     "output_type": "stream",
     "text": [
      "2023-06-25 16:38:07.607670: I tensorflow/core/platform/cpu_feature_guard.cc:151] This TensorFlow binary is optimized with oneAPI Deep Neural Network Library (oneDNN) to use the following CPU instructions in performance-critical operations:  AVX2 AVX512F FMA\n",
      "To enable them in other operations, rebuild TensorFlow with the appropriate compiler flags.\n"
     ]
    }
   ],
   "source": [
    "# callback = EarlyStopping(monitor='accuracy', patience=40)\n",
    "optimizer = Adam(learning_rate=0.005)\n",
    "\n",
    "model_ff = Sequential()\n",
    "model_ff.add(Dense(32, activation='relu', input_dim=X_train.shape[1]))\n",
    "model_ff.add(Dense(64, activation='tanh'))\n",
    "# model_ff.add(Dropout(0.4))\n",
    "model_ff.add(Dense(1, activation='sigmoid'))\n",
    "\n",
    "model_ff.compile(loss='binary_crossentropy', \n",
    "                 optimizer=optimizer, metrics=tf.keras.metrics.AUC())"
   ]
  },
  {
   "cell_type": "code",
   "execution_count": 92,
   "id": "1853826b",
   "metadata": {
    "scrolled": true
   },
   "outputs": [
    {
     "name": "stdout",
     "output_type": "stream",
     "text": [
      "Epoch 1/2\n",
      "5282/5282 [==============================] - 18s 3ms/step - loss: 0.4491 - auc: 0.8116\n",
      "Epoch 2/2\n",
      "5282/5282 [==============================] - 17s 3ms/step - loss: 0.4402 - auc: 0.8209\n"
     ]
    },
    {
     "data": {
      "text/plain": [
       "<keras.callbacks.History at 0x7fb29b8d07f0>"
      ]
     },
     "execution_count": 92,
     "metadata": {},
     "output_type": "execute_result"
    }
   ],
   "source": [
    "# model_ff.fit(X_train, y_train, epochs=4, callbacks=[callback], verbose=2)\n",
    "model_ff.fit(X_train, y_train, epochs=2, batch_size=1, verbose=1)"
   ]
  },
  {
   "cell_type": "markdown",
   "id": "ff02f89e",
   "metadata": {},
   "source": [
    "<div class=\"alert alert-success\">\n",
    "<h2> Комментарий ревьюера <a class=\"tocSkip\"> </h2>\n",
    "\n",
    "<b>Все отлично!👍:</b> \n",
    "        \n",
    "Рассмотрены все основные типы моделей)"
   ]
  },
  {
   "cell_type": "markdown",
   "id": "dc558e98",
   "metadata": {},
   "source": [
    "# Тестировка Модели"
   ]
  },
  {
   "cell_type": "markdown",
   "id": "502fee43",
   "metadata": {},
   "source": [
    "- Проеверим качество лучшей модели по ROC-AUC\n",
    "- Построим матрицу ошибок\n",
    "- Проанализируем вашность оснобных признаков\n",
    "- Проведем дополнительное исследование самого важного признака"
   ]
  },
  {
   "cell_type": "code",
   "execution_count": 93,
   "id": "4e8f10d5",
   "metadata": {},
   "outputs": [
    {
     "name": "stdout",
     "output_type": "stream",
     "text": [
      "CatBoost score: 0.8343508108740245\n"
     ]
    }
   ],
   "source": [
    "z_test = model_cat.predict_proba(X_test)[:,1]\n",
    "roc_auc = roc_auc_score(y_test, z_test)\n",
    "print('CatBoost score:', roc_auc)"
   ]
  },
  {
   "cell_type": "code",
   "execution_count": 94,
   "id": "e0215420",
   "metadata": {},
   "outputs": [],
   "source": [
    "# accuracy = accuracy_score(y_test, (np.round(z_test.reshape(1, -1)) == 1)[0])\n",
    "# print('Feed-forward neural network accuracy score:', accuracy)"
   ]
  },
  {
   "cell_type": "code",
   "execution_count": 95,
   "id": "ef1776ca",
   "metadata": {},
   "outputs": [
    {
     "data": {
      "image/png": "[encoded data removed]",
      "text/plain": [
       "<Figure size 432x288 with 1 Axes>"
      ]
     },
     "metadata": {
      "needs_background": "light"
     },
     "output_type": "display_data"
    }
   ],
   "source": [
    "fpr, tpr, thresholds = roc_curve(y_test, z_test)\n",
    "\n",
    "roc_auc = auc(fpr, tpr)\n",
    "\n",
    "plt.figure()\n",
    "plt.plot(fpr, tpr, label='ROC curve (AUC = %0.2f)' % roc_auc)\n",
    "plt.plot([0, 1], [0, 1], 'k--')  # Plotting the random guessing curve\n",
    "plt.xlim([0.0, 1.0])\n",
    "plt.ylim([0.0, 1.05])\n",
    "plt.xlabel('False Positive Rate')\n",
    "plt.ylabel('True Positive Rate')\n",
    "plt.title('Receiver Operating Characteristic')\n",
    "plt.legend(loc=\"lower right\")\n",
    "plt.show()"
   ]
  },
  {
   "cell_type": "markdown",
   "id": "191e7aa2",
   "metadata": {},
   "source": [
    "<br/>\n",
    "<div class=\"alert alert-block alert-danger\">\n",
    "<h2> Комментарий ревьюера <a class=\"tocSkip\"></h2>\n",
    "\n",
    "    \n",
    "<b>На доработку🤔:</b>\n",
    "    \n",
    "Вместо predict следует использовать predict_proba, раз мы вычисляем AUC-ROC на тесте. Исправь, пожалуйста.\n",
    "</div>"
   ]
  },
  {
   "cell_type": "markdown",
   "id": "c9425c75",
   "metadata": {},
   "source": [
    "<div class=\"alert alert-info\">\n",
    "<h2> Комментарий студента: <a class=\"tocSkip\"> </h2>\n",
    "\n",
    "<b>👋:</b> Получаю такую ошибку. <br/>\n",
    "    AttributeError: 'Sequential' object has no attribute 'predict_proba' <br/>\n",
    "</div> "
   ]
  },
  {
   "cell_type": "markdown",
   "id": "e1683641",
   "metadata": {},
   "source": [
    "<br/>\n",
    "<div class=\"alert alert-block alert-danger\">\n",
    "<h2> Комментарий ревьюера 2 <a class=\"tocSkip\"></h2>\n",
    "    \n",
    "<b>На доработку🤔:</b>  Точно, нейронные сети не работают напрямую с predict_proba. В этой сылке описаны различные подходы к вычислению roc-auc: https://stackoverflow.com/questions/68971378/attributeerror-sequential-object-has-no-attribute-predict-proba"
   ]
  },
  {
   "cell_type": "markdown",
   "id": "4e4456ec",
   "metadata": {},
   "source": [
    "<div class=\"alert alert-info\">\n",
    "<h2> Комментарий студента 2: <a class=\"tocSkip\"> </h2>\n",
    "\n",
    "<b>👋:</b> Эти подходы не работают, Sigmoid должен и так выдаваеть вероятность одного варианта или другого?\n",
    "</div> "
   ]
  },
  {
   "cell_type": "markdown",
   "id": "03364a30",
   "metadata": {},
   "source": [
    "<div class=\"alert alert-success\">\n",
    "<h2> Комментарий ревьюера 3 <a class=\"tocSkip\"> </h2>\n",
    "\n",
    "<b>Все отлично!👍:</b>\n",
    "    \n",
    "Уточнение. Действительно, в Keras метод predict уже выдает вероятности принадлежности к классу 1, если использовать sigmoid в качестве функции активации на последнем слое. Поэтому можно использовать метод predict и затем вычислить AUC-ROC на тестовой выборке    "
   ]
  },
  {
   "cell_type": "markdown",
   "id": "9d499b33",
   "metadata": {},
   "source": [
    "<br/>\n",
    "<div class=\"alert alert-block alert-danger\">\n",
    "<h2> Комментарий ревьюера 2 <a class=\"tocSkip\"></h2>\n",
    "    \n",
    "<b>На доработку🤔:</b> \n",
    "    \n",
    "Значение roc_auc на тестовой выборке должно быть не менее 0.85 "
   ]
  },
  {
   "cell_type": "markdown",
   "id": "59f8520f",
   "metadata": {},
   "source": [
    "<div class=\"alert alert-info\">\n",
    "<h2> Комментарий студента 2: <a class=\"tocSkip\"> </h2>\n",
    "\n",
    "<b>👋:</b> Я попросил совета как улучшить мою модель. Я исползую все что знаю - EarlyStopping, Dropout.\n",
    "</div> "
   ]
  },
  {
   "cell_type": "markdown",
   "id": "4196b075",
   "metadata": {},
   "source": [
    "<br/>\n",
    "<div class=\"alert alert-block alert-danger\">\n",
    "<h2> Комментарий ревьюера 3 <a class=\"tocSkip\"></h2>\n",
    "    \n",
    "<b>На доработку🤔:</b>\n",
    "\n",
    "Для улучшения модели можно использовать следующие подходы:\n",
    "    \n",
    "- Попробовать использовать другую архитектуру нейронной сети, например, добавить больше скрытых слоев или изменить количество нейронов в каждом слое.\n",
    "- Использовать более продвинутые методы регуляризации, такие как L1 или L2 регуляризация.\n",
    "\n",
    "Предлагаю также поработать плотнее с классическими моделями. Общие рекомендации: расширить границы перебираемых диапазонов гиперпараметров (иногда примерные значения полезно поискать на профильных форумах и сайтах), попробовать для бустингов встроенную кодировку, поглубже изучить сами признаки, проверить используется ли признак время жизни клиента в днях в обучении    "
   ]
  },
  {
   "cell_type": "markdown",
   "id": "3247bc94",
   "metadata": {},
   "source": [
    "<div class=\"alert alert-info\">\n",
    "<h2> Комментарий студента 3: <a class=\"tocSkip\"> </h2>\n",
    "\n",
    "<b>👋:</b> Я перебрал очень много моделей нейронок, и пробовал работать с классическими моделями. XGBoost показал наилучший результат, но выше 0.837 ROC AUC score у меня не получается.\n",
    "</div> "
   ]
  },
  {
   "cell_type": "markdown",
   "id": "5cdf0bb2",
   "metadata": {},
   "source": [
    "<br/>\n",
    "<div class=\"alert alert-block alert-danger\">\n",
    "<h2> Комментарий ревьюера 4 <a class=\"tocSkip\"></h2>\n",
    "    \n",
    "<b>На доработку🤔:</b>\n",
    "    \n",
    "Можешь пожалуйста описать, какие конкретно шаги ты предпринял для улучшения метрики?\n",
    "    \n",
    "- Попробуй для целевой переменной использовать численные значения: 0 - действующий клиент, 1 - ушедший клиент, а не True/False    \n",
    "    \n",
    "- Желательно выбирать количество деревьев у леса побольше и больший шаг при переборе.\n",
    "        \n",
    " Советую сделать разбег в 10 деревьев, начинать с 10 штук, максимум 100 - 200. Для бустинга - аналогично.\n",
    "    \n",
    " Я бы еще добавил еще максимальное число признаков в обучении `max_features` и минимальное число объектов в листе `min_sample_leaf` (заставляем алгоритм смотреть более “широкими мазками”) для леса. Параметр max_depth я бы убрал, пусть будет по умолчанию. В нейронке, возможно, следовало еще попробовать применить различные значения `learning_rate`, например 0.00005 и 0.01\n",
    "       \n",
    " </div>    "
   ]
  },
  {
   "cell_type": "markdown",
   "id": "eea9fc03",
   "metadata": {},
   "source": [
    "<div class=\"alert alert-info\">\n",
    "<h2> Комментарий студента 4: <a class=\"tocSkip\"> </h2>\n",
    "\n",
    "<b>👋:</b> Поменял тип данных 'terminated' на 'int'. И попробовал перебрать больше параметров у леса. Не получается поднять резултат больше 0.83. Я так же пробовал другие функции активации у нейронных моделей, и tanh показал лучше результат, но выше 0.83 не поднимался. Я так же пробовал провести исследование если есть какая то закономерность у ложных предсказаний, но не получилось найти эту закономерность.\n",
    "</div> "
   ]
  },
  {
   "cell_type": "markdown",
   "id": "fa124765",
   "metadata": {},
   "source": [
    "<br/>\n",
    "<div class=\"alert alert-block alert-danger\">\n",
    "<h2> Комментарий ревьюера 5 <a class=\"tocSkip\"></h2>\n",
    "    \n",
    "<b>На доработку🤔:</b>\n",
    "    \n",
    "Что еще могу посоветовать: \n",
    "    \n",
    "- можно попробовать добавить новые признаки, которые могут быть полезны для модели (polynomial features: https://www.aiproblog.com/index.php/2020/05/28/how-to-use-polynomial-feature-transforms-for-machine-learning/). \n",
    "    \n",
    "- Проверь, совпадает ли распределение признаков в обучающей и тестовой выборках. Также можно провести более глубокий анализ данных и обнаружить закономерности, которые помогут лучше понять поведение клиентов и улучшить модель. \n",
    "    \n",
    "    \n",
    "- можно удалить неполезные признаки, которые не влияют на результат. Для этого провести отбор признаков перед подбором гиперпараметров у моделей. Про функции feature selection можешь прочитать документацию sklearn: <a href=\"https://scikit-learn.org/stable/modules/feature_selection.html\">feature selection</a>.  К примеру, можно  использовать такой метод: https://scikit-learn.org/stable/modules/generated/sklearn.inspection.permutation_importance.html\n",
    "    \n",
    "Советую тебе обратиться за помощью к преподавателю по проектам, что поможет объяснить под другим углом возможно ошибку.  "
   ]
  },
  {
   "cell_type": "markdown",
   "id": "36d84e57",
   "metadata": {},
   "source": [
    "<div class=\"alert alert-info\">\n",
    "<h2> Комментарий студента 5: <a class=\"tocSkip\"> </h2>\n",
    "\n",
    "<b>👋:</b> Может есть какие-нибудь советы по выгрузке данных, потомучто когда не такие плохие показатели\n",
    "</div> "
   ]
  },
  {
   "cell_type": "markdown",
   "id": "24f470f1",
   "metadata": {},
   "source": [
    "\n",
    "<div class=\"alert alert-block alert-danger\">\n",
    "<h2> Комментарий ревьюера 6 <a class=\"tocSkip\"></h2>\n",
    "    \n",
    "<b>На доработку🤔:</b>\n",
    "    \n",
    "- Могу посоветовать в выгрузках, генерации признаков (напр. время жизни клиента), предобработке данных использовать стандартные методы pandas, вместо SQL-методов\n",
    "- Похоже ты не заметил комментария выше (версия 5): df.days не следует переназначать признаком df.total_charges\n",
    "- Попробуй создать признак прибыль от абонента в день, в кросс-валидации можно применить метод Stratify Kfold: https://academy.yandex.ru/handbook/ml/article/kross-validaciya\n",
    "    "
   ]
  },
  {
   "cell_type": "markdown",
   "id": "14635ce0",
   "metadata": {},
   "source": [
    "<div class=\"alert alert-info\">\n",
    "<h2> Комментарий студента 6: <a class=\"tocSkip\"> </h2>\n",
    "\n",
    "<b>👋:</b> Привет, я приношу извинения за такой долгий процесс. Я провел очень глубокий анализ разных показателей и кореляций - ниже, я пробовал убирать плохие показатели и добавлять новые колличественные показатели, модели не вытягивяют результат выше 0.83.\n",
    "</div> "
   ]
  },
  {
   "cell_type": "markdown",
   "id": "9a59220f",
   "metadata": {},
   "source": [
    "<div class=\"alert alert-success\">\n",
    "<h2> Комментарий ревьюера 7 <a class=\"tocSkip\"> </h2>\n",
    "\n",
    "<b>Все отлично!👍:</b>\n",
    "    \n",
    "По решению старшего тимлида принимаю твой проект    "
   ]
  },
  {
   "cell_type": "markdown",
   "id": "a7e3d5a9",
   "metadata": {},
   "source": [
    "<br/>\n",
    "<div class=\"alert alert-block alert-danger\">\n",
    "<h2> Комментарий ревьюера <a class=\"tocSkip\"></h2>\n",
    "    \n",
    "<b>На доработку🤔:</b>\n",
    "        \n",
    "Нужно дополнительно рассчитать и Accuracy\n",
    "    "
   ]
  },
  {
   "cell_type": "markdown",
   "id": "f2ecfc5a",
   "metadata": {},
   "source": [
    "<div class=\"alert alert-info\">\n",
    "<h2> Комментарий студента: <a class=\"tocSkip\"> </h2>\n",
    "\n",
    "<b>👋:</b> Добавил\n",
    "</div> "
   ]
  },
  {
   "cell_type": "markdown",
   "id": "e1aaadce",
   "metadata": {},
   "source": [
    "<div class=\"alert alert-success\">\n",
    "<h2> Комментарий ревьюера 2 <a class=\"tocSkip\"> </h2>\n",
    "\n",
    "<b>Все отлично!👍:</b>"
   ]
  },
  {
   "cell_type": "markdown",
   "id": "0238a0fa",
   "metadata": {},
   "source": [
    "<br/>\n",
    "<div class=\"alert alert-block alert-danger\">\n",
    "<h2> Комментарий ревьюера <a class=\"tocSkip\"></h2>\n",
    "    \n",
    "<b>На доработку🤔:</b>\n",
    "        \n",
    "Нужно  вывести матрицу ошибок для лучшей модели. Это довольно полезный инструмент для анализа модели"
   ]
  },
  {
   "cell_type": "markdown",
   "id": "da864ae1",
   "metadata": {},
   "source": [
    "<div class=\"alert alert-success\">\n",
    "<h2> Комментарий ревьюера 2 <a class=\"tocSkip\"> </h2>\n",
    "\n",
    "<b>Все отлично!👍:</b>"
   ]
  },
  {
   "cell_type": "code",
   "execution_count": 96,
   "id": "3cf74305",
   "metadata": {},
   "outputs": [
    {
     "data": {
      "text/html": [
       "<div>\n",
       "<style scoped>\n",
       "    .dataframe tbody tr th:only-of-type {\n",
       "        vertical-align: middle;\n",
       "    }\n",
       "\n",
       "    .dataframe tbody tr th {\n",
       "        vertical-align: top;\n",
       "    }\n",
       "\n",
       "    .dataframe thead th {\n",
       "        text-align: right;\n",
       "    }\n",
       "</style>\n",
       "<table border=\"1\" class=\"dataframe\">\n",
       "  <thead>\n",
       "    <tr style=\"text-align: right;\">\n",
       "      <th>Predicted</th>\n",
       "      <th>False</th>\n",
       "      <th>True</th>\n",
       "    </tr>\n",
       "    <tr>\n",
       "      <th>Actual</th>\n",
       "      <th></th>\n",
       "      <th></th>\n",
       "    </tr>\n",
       "  </thead>\n",
       "  <tbody>\n",
       "    <tr>\n",
       "      <th>0</th>\n",
       "      <td>5</td>\n",
       "      <td>0</td>\n",
       "    </tr>\n",
       "    <tr>\n",
       "      <th>1</th>\n",
       "      <td>357</td>\n",
       "      <td>104</td>\n",
       "    </tr>\n",
       "  </tbody>\n",
       "</table>\n",
       "</div>"
      ],
      "text/plain": [
       "Predicted  False  True \n",
       "Actual                 \n",
       "0              5      0\n",
       "1            357    104"
      ]
     },
     "execution_count": 96,
     "metadata": {},
     "output_type": "execute_result"
    }
   ],
   "source": [
    "confusion_matrix = pd.crosstab(pd.Series(y_test, name='Actual'),\n",
    "                               pd.Series((np.round(z_test.reshape(1, -1)) == 1)[0], name='Predicted'))\n",
    "\n",
    "confusion_matrix"
   ]
  },
  {
   "cell_type": "markdown",
   "id": "d39145f1",
   "metadata": {},
   "source": [
    "<br/>\n",
    "<div class=\"alert alert-block alert-danger\">\n",
    "<h2> Комментарий ревьюера <a class=\"tocSkip\"></h2>\n",
    "    \n",
    "<b>На доработку🤔:</b>\n",
    "        \n",
    "Нужно еще вывести полноту и точность на график (PR-кривая)"
   ]
  },
  {
   "cell_type": "markdown",
   "id": "82ca461e",
   "metadata": {},
   "source": [
    "<div class=\"alert alert-success\">\n",
    "<h2> Комментарий ревьюера 2 <a class=\"tocSkip\"> </h2>\n",
    "\n",
    "<b>Все отлично!👍:</b>"
   ]
  },
  {
   "cell_type": "code",
   "execution_count": 97,
   "id": "dc42fc1c",
   "metadata": {},
   "outputs": [],
   "source": [
    "precision = confusion_matrix.iloc[1, 1] / (confusion_matrix.iloc[1, 1] + confusion_matrix.iloc[0, 1])"
   ]
  },
  {
   "cell_type": "code",
   "execution_count": 98,
   "id": "c124337a",
   "metadata": {},
   "outputs": [],
   "source": [
    "recall = confusion_matrix.iloc[1, 0] / (confusion_matrix.iloc[1, 1] + confusion_matrix.iloc[0, 0])"
   ]
  },
  {
   "cell_type": "code",
   "execution_count": 99,
   "id": "5cc16e55",
   "metadata": {},
   "outputs": [
    {
     "name": "stdout",
     "output_type": "stream",
     "text": [
      "Precision: 1.0\n",
      "Recall: 3.2752293577981653\n"
     ]
    }
   ],
   "source": [
    "# Display precision and accuracy\n",
    "\n",
    "print(\"Precision:\", precision)\n",
    "print(\"Recall:\", recall)"
   ]
  },
  {
   "cell_type": "markdown",
   "id": "0260d0f0",
   "metadata": {},
   "source": [
    "<br/>\n",
    "<div class=\"alert alert-block alert-danger\">\n",
    "<h2> Комментарий ревьюера <a class=\"tocSkip\"></h2>\n",
    "\n",
    "    \n",
    "<b>На доработку🤔:</b>\n",
    "\n",
    "    \n",
    "Нужно еще исследовать важность признаков у ЛУЧШЕЙ модели и написать вывод по важности\n",
    "    \n",
    "Это важная вещь для финальной части любой модельной работы. Пример ниже.\n",
    "        \n",
    "\n",
    "        \n",
    "Код ревьюера:\n",
    "```python\n",
    "feature_names = X_train.columns \n",
    "model = RandomForestClassifier(n_estimators=10, random_state=random_state)\n",
    "model.fit(X_train, y_train)\n",
    "importances = model.feature_importances_\n",
    "model_importances = pd.Series(importances, index=feature_names)\n",
    "\n",
    "std = np.std([model.feature_importances_ for tree in str(1000)], axis=0)\n",
    "\n",
    "fig, ax = plt.subplots(figsize=(10,7))\n",
    "model_importances.plot.bar(yerr=std, ax=ax)\n",
    "ax.set_title(\"Feature importances\")\n",
    "ax.set_ylabel(\"Mean decrease in impurity\")\n",
    "fig.tight_layout()\n",
    "\n",
    "```\n",
    "    \n",
    "    "
   ]
  },
  {
   "cell_type": "markdown",
   "id": "b3b14c04",
   "metadata": {},
   "source": [
    "<div class=\"alert alert-success\">\n",
    "<h2> Комментарий ревьюера 2 <a class=\"tocSkip\"> </h2>\n",
    "\n",
    "<b>Все отлично!👍:</b>"
   ]
  },
  {
   "cell_type": "code",
   "execution_count": 100,
   "id": "f660c754",
   "metadata": {},
   "outputs": [],
   "source": [
    "# column_names = enc.get_feature_names_out().tolist() + ['days', 'monthly_charges', 'total_charges']\n",
    "# old version is used in the JupyterHUB\n",
    "column_names = enc.get_feature_names().tolist() + ['days', 'monthly_charges', 'total_charges']"
   ]
  },
  {
   "cell_type": "markdown",
   "id": "c3d2e143",
   "metadata": {},
   "source": [
    " <br/>\n",
    "<div class=\"alert alert-block alert-danger\">\n",
    "<h2> Комментарий ревьюера 2  <a class=\"tocSkip\"></h2>\n",
    "    \n",
    "<b>На доработку🤔:</b>\n",
    "\n",
    "</b> Ячейка выше не отработала. Перед отправкой проекта стоит проверять работоспособность кода - это можно сделать, нажав на панели Jupiter Hub `Kernel` и `Restart & Run All`. Исправь, пожалуйста."
   ]
  },
  {
   "cell_type": "markdown",
   "id": "5fe666a6",
   "metadata": {},
   "source": [
    "<div class=\"alert alert-info\">\n",
    "<h2> Комментарий студента 2: <a class=\"tocSkip\"> </h2>\n",
    "\n",
    "<b>👋:</b> Есть вариант как настроить ноутбук на новую версию sklearn?\n",
    "</div> "
   ]
  },
  {
   "cell_type": "markdown",
   "id": "aac152cb",
   "metadata": {},
   "source": [
    "<div class=\"alert alert-success\">\n",
    "<h2> Комментарий ревьюера 3  <a class=\"tocSkip\"> </h2>\n",
    "\n",
    "<b>Все отлично!👍:</b> У меня сейчас все отработало корректно. По поводу настройки, сначала нужно узнать узнать текущую версию библиотеки sklearn у платформы Практикума через  `print(sklearn.__version__)`, если она отличается от локальной, то нужно обновить ее. Чтобы установить новую версию библиотеки scikit-learn (sklearn) в Jupyter Notebook, можно воспользоваться командой: `!pip install -U scikit-learn`. После установки новой версии библиотеки необходимо перезапустить ядро (Kernel) Jupyter Notebook для того, чтобы изменения вступили в силу."
   ]
  },
  {
   "cell_type": "code",
   "execution_count": 101,
   "id": "2e11a9b0",
   "metadata": {},
   "outputs": [],
   "source": [
    "feature_importance = model_ff.layers[0].get_weights()[0]"
   ]
  },
  {
   "cell_type": "code",
   "execution_count": 102,
   "id": "87116738",
   "metadata": {},
   "outputs": [
    {
     "data": {
      "text/plain": [
       "[0.052286938,\n",
       " 0.553887,\n",
       " -0.13155103,\n",
       " -0.21701516,\n",
       " -0.0054134205,\n",
       " -0.31427342,\n",
       " -0.16014238,\n",
       " -0.12909777,\n",
       " 0.0059212446,\n",
       " -0.2533347,\n",
       " 0.045363173,\n",
       " -0.11564602,\n",
       " -0.026149811,\n",
       " -0.12760115,\n",
       " -0.23942009,\n",
       " -0.19513892,\n",
       " -0.09115152,\n",
       " 0.080070205,\n",
       " -0.18539059,\n",
       " 0.112551056]"
      ]
     },
     "execution_count": 102,
     "metadata": {},
     "output_type": "execute_result"
    }
   ],
   "source": [
    "[x.mean() for x in feature_importance]"
   ]
  },
  {
   "cell_type": "code",
   "execution_count": 103,
   "id": "93fdcbdc",
   "metadata": {},
   "outputs": [
    {
     "data": {
      "image/png": "[encoded data removed]",
      "text/plain": [
       "<Figure size 432x288 with 1 Axes>"
      ]
     },
     "metadata": {
      "needs_background": "light"
     },
     "output_type": "display_data"
    }
   ],
   "source": [
    "plt.barh(column_names, [abs(x.mean()) for x in feature_importance])\n",
    "plt.show()"
   ]
  },
  {
   "cell_type": "markdown",
   "id": "842ca62d",
   "metadata": {},
   "source": [
    "# Вывод"
   ]
  },
  {
   "cell_type": "markdown",
   "id": "89646f19",
   "metadata": {},
   "source": [
    "На данном этапе нужной метрики не получилось добится. Из матрицы ошибок создется впечатление что модель работает очень хорошо. Точно такое же впечатление создается из показателей полноты и точности. У меня не получилось применить 'predict_proba'. Из исследования важности показателей мы наблюдаем важность 'type_Two year' и 'device_protection_Yes'. Данное исследование не полное, так как совет был исползовать 'drop=\"first\"' вместо 'drop=\"if_binary\"'."
   ]
  },
  {
   "cell_type": "markdown",
   "id": "2bd019e7",
   "metadata": {},
   "source": [
    "<div class=\"alert alert-block alert-danger\">\n",
    "<h2> Комментарий ревьюера <a class=\"tocSkip\"></h2>\n",
    "\n",
    "<b>На доработку🤔:</b>\n",
    "    \n",
    "В конце выполнения каждой работы важно оставлять итоговый вывод, делиться какими-то рассуждениями, умозаключениями."
   ]
  },
  {
   "cell_type": "markdown",
   "id": "2635dbc7",
   "metadata": {},
   "source": [
    "<div class=\"alert alert-info\">\n",
    "<h2> Комментарий студента: <a class=\"tocSkip\"> </h2>\n",
    "\n",
    "<b>👋:</b> Мне кажется, осталось еще много вопросов.\n",
    "</div> "
   ]
  },
  {
   "cell_type": "markdown",
   "id": "d66508f7",
   "metadata": {},
   "source": [
    "<div class=\"alert alert-success\">\n",
    "<h2> Комментарий ревьюера 2 <a class=\"tocSkip\"> </h2>\n",
    "\n",
    "<b>Все отлично!👍:</b>"
   ]
  },
  {
   "cell_type": "markdown",
   "id": "14acca9b",
   "metadata": {},
   "source": [
    "<div style=\"border:solid Chocolate 2px; padding: 40px\">\n",
    "\n",
    "\n",
    "<h2> Итоговый комментарий ревьюера <a class=\"tocSkip\"> </h2>    \n",
    "    \n",
    "  \n",
    "У меня сложилось отличное впечатление о проекте, тебе удалось справиться с таким выпускным проектом. Молодец! Подготовлены данные для анализа, изучены все параметры. Все красиво визуализировано, построено несколько моделей классификации и оценено их качество. Осмысленная аналитика и дельная модельная работа - многое удалось как надо)\n",
    "    \n",
    "Отмечу отдельные положительные моменты проекта🙂:\n",
    "    \n",
    "- использован признак время жизни клиента, а последней датой используется не сегодняшняя дата, а дата выгрузки;  \n",
    "- по ходу проекта переменные названы понятно;\n",
    "- много красивых визуализаций в проекте и хорошая интерпретация;\n",
    "- при обучении моделей использована кросс-валидация и поиск гиперпараметров.\n",
    "   \n",
    "    \n",
    "Есть несколько моментов всего, на которые стоит ещё раз взглянуть, я указал их в моих комментариях по ходу проекта. Предлагаю тебе доработать проект по моим комментариям, чтобы довести его до совершенства.\n",
    "\n",
    "    \n",
    "Если будут вопросы, обращайся, с удовольствием на них отвечу.  \n",
    "</div>"
   ]
  },
  {
   "cell_type": "markdown",
   "id": "5d66475e",
   "metadata": {},
   "source": [
    "<div style=\"border:solid Chocolate 2px; padding: 40px\">\n",
    "\n",
    "\n",
    "<h2> Итоговый комментарий ревьюера 7 <a class=\"tocSkip\"> </h2>    \n",
    "    \n",
    "     \n",
    "  \n",
    "Спасибо за исправления! Принимаю твой проект)\n",
    "    \n",
    "Если хочешь лучше разобраться в специальности, то предлагаю полезные материалы:   \n",
    "-  <a href=\"https://academy.yandex.ru/handbook/ml/\">Книга от ШАД</a>\n",
    "    \n",
    "- <a href=\"https://www.youtube.com/playlist?list=PLJ_CMbwA6bT-n1W0mgOlYwccZ-j6gBXqE\">Лекции от Andrew Ng</a> \n",
    "    \n",
    "- <a href=\"https://habr.com/ru/company/ods/blog/322626/\">Открытый курс машинного обучения</a>\n",
    "    \n",
    "- Не все признаки приносят пользу при моделировании. Инструмент <a href=\"https://proglib.io/p/feature-selector\">FeatureSelector</a> поможет тебе отобрать важные признаки и избавит от ручной обработки.  Также можешь посмотреть статью на <a href=\"https://www.kaggle.com/code/prashant111/comprehensive-guide-on-feature-selection/notebook\">Kaggle</a>.\n",
    "    \n",
    "- Избежать утечки данных при кросс-валидации тебе поможет <a href=\"https://towardsdatascience.com/pipeline-columntransformer-and-featureunion-explained-f5491f815f\">конвеерная обработка данных</a>.  \n",
    "    \n",
    "- Интерпретировать предсказания моделей поможет  <a href=\"https://habr.com/ru/post/428213/\">SHAP</a>,   <a href=\"https://towardsdatascience.com/using-shap-values-to-explain-how-your-machine-learning-model-works-732b3f40e137\">+ еще ссылка</a>.    \n",
    "- Интересные способы <a href=\"https://github.com/DmitrySerg/otus-public/tree/master/OpenLessons/AnomalyDetection\">обработки аномалий</a>.        \n",
    "    \n",
    "    \n",
    "С интересом изучал твою работу, код и выводы. Что ещё для дальнейшего улучшения качества/скорости моделирования возможно сделать?\n",
    "    \n",
    "Опишу здесь некоторые идеи:\n",
    "    \n",
    "1. Качество данных на входе: ещё раз оценить аномалии, пропуски, проверить согласованность временных признаков.\n",
    "2. Генерация новых полезных признаков (features engineering).\n",
    "3. Оптимизация подбора гиперпараметров (OptunaSearchCV, RandomizedSearchCV, BayesSearchCV и т.д.)\n",
    "4. Анализ остатков (разницы между прогнозом и истинным значением таргета): выявить, в каких случаях чаще всего ошибается, а в каких выдает наиболее точный результат... \n",
    "5. Отбор признаков и оценка их важности.    \n",
    "А главное, мы достигли цели нашего проекта: пройдены основные этапы построения модели классификации для прогнозирования оттока клиентов с учетом ее качества.\n",
    "    \n",
    "Рад был тебе помочь)\n",
    "\n",
    "Удачи!\n",
    "  \n",
    "</div>"
   ]
  },
  {
   "cell_type": "markdown",
   "id": "ac212b7e",
   "metadata": {},
   "source": [
    "- Выгрузка данных\n",
    "- Разделение на тренировочный и тестировочный массив\n",
    "- Исследование тренировочного массива\n",
    "- Исследование классических моделей\n",
    "- Исследование градиентного спуска\n",
    "- Исследование нейронных моделей\n",
    "- Тестирование лучшей модели\n",
    "- Вывод"
   ]
  },
  {
   "cell_type": "code",
   "execution_count": 104,
   "id": "189bb699",
   "metadata": {},
   "outputs": [],
   "source": [
    "query_df = \\\n",
    "'''\n",
    "SELECT \n",
    "    CASE\n",
    "        WHEN c.\"EndDate\" IS NOT NULL THEN TRUE\n",
    "        ELSE FALSE\n",
    "    END AS terminated,\n",
    "    COALESCE(c.\"EndDate\", '2020-02-1') - c.\"BeginDate\" AS \"ContractLifeDays\",\n",
    "    c.\"Type\", c.\"PaperlessBilling\", c.\"PaymentMethod\", c.\"MonthlyCharges\", c.\"TotalCharges\",\n",
    "    p.\"gender\", p.\"SeniorCitizen\", p.\"Partner\", p.\"Dependents\",\n",
    "    i.\"c2\", i.\"c3\", i.\"c4\", i.\"c5\", \n",
    "    i.\"c6\", i.\"c7\", i.\"c8\",\n",
    "    phone.\"c2\"\n",
    "FROM telecom.contract AS c\n",
    "    LEFT JOIN telecom.personal AS p\n",
    "    ON c.\"customerID\" = p.\"customerID\"\n",
    "    LEFT JOIN telecom.internet AS i\n",
    "    ON c.\"customerID\" = i.\"c1\"\n",
    "    LEFT JOIN telecom.phone\n",
    "    ON c.\"customerID\" = phone.\"c1\"\n",
    "'''\n",
    "columns_df = ['terminated', \n",
    "              'days', \n",
    "              'type', 'paperless_billing', 'payment_method', 'monthly_charges', 'total_charges',\n",
    "              'gender', 'senior_citizen', 'partner', 'dependents',\n",
    "              'internet_service', 'online_security', 'online_backup', 'device_protection',\n",
    "              'tech_support', 'streaming_tv', 'streaming_movies',\n",
    "              'multiple_lines'\n",
    "            ]\n",
    "df = postgresql_to_dataframe(conn, query_df, columns_df)"
   ]
  },
  {
   "cell_type": "code",
   "execution_count": 739,
   "id": "b1a3fae9",
   "metadata": {},
   "outputs": [],
   "source": [
    "train, test = train_test_split(df, test_size=0.25, random_state=RANDOM_STATE)"
   ]
  },
  {
   "cell_type": "code",
   "execution_count": 740,
   "id": "c42925cb",
   "metadata": {},
   "outputs": [
    {
     "data": {
      "text/html": [
       "<div>\n",
       "<style scoped>\n",
       "    .dataframe tbody tr th:only-of-type {\n",
       "        vertical-align: middle;\n",
       "    }\n",
       "\n",
       "    .dataframe tbody tr th {\n",
       "        vertical-align: top;\n",
       "    }\n",
       "\n",
       "    .dataframe thead th {\n",
       "        text-align: right;\n",
       "    }\n",
       "</style>\n",
       "<table border=\"1\" class=\"dataframe\">\n",
       "  <thead>\n",
       "    <tr style=\"text-align: right;\">\n",
       "      <th></th>\n",
       "      <th>terminated</th>\n",
       "      <th>days</th>\n",
       "      <th>type</th>\n",
       "      <th>paperless_billing</th>\n",
       "      <th>payment_method</th>\n",
       "      <th>monthly_charges</th>\n",
       "      <th>total_charges</th>\n",
       "      <th>gender</th>\n",
       "      <th>senior_citizen</th>\n",
       "      <th>partner</th>\n",
       "      <th>dependents</th>\n",
       "      <th>internet_service</th>\n",
       "      <th>online_security</th>\n",
       "      <th>online_backup</th>\n",
       "      <th>device_protection</th>\n",
       "      <th>tech_support</th>\n",
       "      <th>streaming_tv</th>\n",
       "      <th>streaming_movies</th>\n",
       "      <th>multiple_lines</th>\n",
       "    </tr>\n",
       "  </thead>\n",
       "  <tbody>\n",
       "    <tr>\n",
       "      <th>2703</th>\n",
       "      <td>False</td>\n",
       "      <td>369</td>\n",
       "      <td>Two year</td>\n",
       "      <td>No</td>\n",
       "      <td>Bank transfer (automatic)</td>\n",
       "      <td>39.6</td>\n",
       "      <td>2424.5</td>\n",
       "      <td>Male</td>\n",
       "      <td>0</td>\n",
       "      <td>No</td>\n",
       "      <td>No</td>\n",
       "      <td>DSL</td>\n",
       "      <td>Yes</td>\n",
       "      <td>Yes</td>\n",
       "      <td>Yes</td>\n",
       "      <td>No</td>\n",
       "      <td>No</td>\n",
       "      <td>No</td>\n",
       "      <td>None</td>\n",
       "    </tr>\n",
       "    <tr>\n",
       "      <th>21</th>\n",
       "      <td>True</td>\n",
       "      <td>346</td>\n",
       "      <td>Month-to-month</td>\n",
       "      <td>Yes</td>\n",
       "      <td>Bank transfer (automatic)</td>\n",
       "      <td>97.85</td>\n",
       "      <td>1105.4</td>\n",
       "      <td>Female</td>\n",
       "      <td>0</td>\n",
       "      <td>No</td>\n",
       "      <td>No</td>\n",
       "      <td>Fiber optic</td>\n",
       "      <td>No</td>\n",
       "      <td>No</td>\n",
       "      <td>Yes</td>\n",
       "      <td>No</td>\n",
       "      <td>Yes</td>\n",
       "      <td>Yes</td>\n",
       "      <td>Yes</td>\n",
       "    </tr>\n",
       "    <tr>\n",
       "      <th>606</th>\n",
       "      <td>True</td>\n",
       "      <td>110</td>\n",
       "      <td>Month-to-month</td>\n",
       "      <td>No</td>\n",
       "      <td>Mailed check</td>\n",
       "      <td>70.9</td>\n",
       "      <td>70.9</td>\n",
       "      <td>Female</td>\n",
       "      <td>0</td>\n",
       "      <td>No</td>\n",
       "      <td>No</td>\n",
       "      <td>Fiber optic</td>\n",
       "      <td>No</td>\n",
       "      <td>No</td>\n",
       "      <td>No</td>\n",
       "      <td>No</td>\n",
       "      <td>No</td>\n",
       "      <td>No</td>\n",
       "      <td>No</td>\n",
       "    </tr>\n",
       "  </tbody>\n",
       "</table>\n",
       "</div>"
      ],
      "text/plain": [
       "      terminated  days            type paperless_billing  \\\n",
       "2703       False   369        Two year                No   \n",
       "21          True   346  Month-to-month               Yes   \n",
       "606         True   110  Month-to-month                No   \n",
       "\n",
       "                 payment_method monthly_charges total_charges  gender  \\\n",
       "2703  Bank transfer (automatic)            39.6        2424.5    Male   \n",
       "21    Bank transfer (automatic)           97.85        1105.4  Female   \n",
       "606                Mailed check            70.9          70.9  Female   \n",
       "\n",
       "      senior_citizen partner dependents internet_service online_security  \\\n",
       "2703               0      No         No              DSL             Yes   \n",
       "21                 0      No         No      Fiber optic              No   \n",
       "606                0      No         No      Fiber optic              No   \n",
       "\n",
       "     online_backup device_protection tech_support streaming_tv  \\\n",
       "2703           Yes               Yes           No           No   \n",
       "21              No               Yes           No          Yes   \n",
       "606             No                No           No           No   \n",
       "\n",
       "     streaming_movies multiple_lines  \n",
       "2703               No           None  \n",
       "21                Yes            Yes  \n",
       "606                No             No  "
      ]
     },
     "execution_count": 740,
     "metadata": {},
     "output_type": "execute_result"
    }
   ],
   "source": [
    "train.head(3)"
   ]
  },
  {
   "cell_type": "markdown",
   "id": "00b2781b",
   "metadata": {},
   "source": [
    "### Data Preprocessing + Analysis"
   ]
  },
  {
   "cell_type": "code",
   "execution_count": 741,
   "id": "3d90b859",
   "metadata": {},
   "outputs": [],
   "source": [
    "list_expected_columns = df.columns"
   ]
  },
  {
   "cell_type": "code",
   "execution_count": 742,
   "id": "6e62237e",
   "metadata": {},
   "outputs": [],
   "source": [
    "dict_expected_format =\\\n",
    "{\n",
    "  'terminated': 'bool',\n",
    "  'days': 'int64',\n",
    "  'type': 'object',\n",
    "  'paperless_billing': 'object',\n",
    "  'payment_method': 'object',\n",
    "  'monthly_charges': 'object',\n",
    "  'total_charges': 'object',\n",
    "  'gender': 'object',\n",
    "  'senior_citizen': 'int64',\n",
    "  'partner': 'object',\n",
    "  'dependents': 'object',\n",
    "  'internet_service': 'object',\n",
    "  'online_security': 'object',\n",
    "  'online_backup': 'object',\n",
    "  'device_protection': 'object',\n",
    "  'tech_support': 'object',\n",
    "  'streaming_tv': 'object',\n",
    "  'streaming_movies': 'object',\n",
    "  'multiple_lines': 'object'\n",
    "}"
   ]
  },
  {
   "cell_type": "code",
   "execution_count": 743,
   "id": "0ac6d975",
   "metadata": {},
   "outputs": [],
   "source": [
    "def preprocessing_check_columns(df, list_expected_columns):\n",
    "    if sorted(df.columns) != sorted(list_expected_columns):\n",
    "        print('Input data doesn\\'t match the expected columns.')\n",
    "        os.kill(os.getpid(), signal.SIGINT)"
   ]
  },
  {
   "cell_type": "code",
   "execution_count": 744,
   "id": "f4c5300b",
   "metadata": {},
   "outputs": [],
   "source": [
    "def preprocessing_check_format(df, dict_expected_format):\n",
    "    for col in df.columns:\n",
    "        if df[col].dtype != dict_expected_format[col]:\n",
    "            print('Input data doesn\\'t match the expected format.')\n",
    "            os.kill(os.getpid(), signal.SIGINT)"
   ]
  },
  {
   "cell_type": "code",
   "execution_count": 745,
   "id": "e646e355",
   "metadata": {},
   "outputs": [],
   "source": [
    "preprocessing_check_columns(train, list_expected_columns)"
   ]
  },
  {
   "cell_type": "code",
   "execution_count": 746,
   "id": "34899a56",
   "metadata": {},
   "outputs": [],
   "source": [
    "preprocessing_check_format(train, dict_expected_format)"
   ]
  },
  {
   "cell_type": "code",
   "execution_count": 747,
   "id": "fe9481bb",
   "metadata": {},
   "outputs": [],
   "source": [
    "def preprocessing(df, inspect=False):\n",
    "    df = df.copy()\n",
    "    \n",
    "    df.terminated = df.terminated.astype('int')\n",
    "    print('--------------------------------------------------') if inspect else None\n",
    "    print('not terminated {}, terminated {}'.format(*pd.value_counts(df.terminated))) if inspect else None\n",
    "    \n",
    "    print('--------------------------------------------------') if inspect else None\n",
    "    if inspect:\n",
    "        df.days.hist(grid=False, bins=20)\n",
    "        plt.title('days distribution')\n",
    "        plt.show()\n",
    "        print('days max {}'.format(max(df.days)))\n",
    "    df.days = df.days.clip(lower=1, upper=571)\n",
    "    df.days = df.days.fillna(300)\n",
    "    \n",
    "    print('--------------------------------------------------') if inspect else None\n",
    "    print(pd.value_counts(df.type)) if inspect else None\n",
    "    df.type = df.type[df.type.isin({'Month-to-month', 'Two year', 'One year'})]\n",
    "    df.type = df.type.fillna('Month-to-month')\n",
    "    \n",
    "    print('--------------------------------------------------') if inspect else None\n",
    "    print(pd.value_counts(df.paperless_billing)) if inspect else None\n",
    "    df.paperless_billing = df.paperless_billing[df.paperless_billing.isin({'Yes', 'No'})]\n",
    "    df.paperless_billing = df.paperless_billing.fillna('No')\n",
    "    df.paperless_billing = df.paperless_billing.map({'Yes': 1, 'No': 0})\n",
    "    \n",
    "    print('--------------------------------------------------') if inspect else None\n",
    "    print(pd.value_counts(df.payment_method)) if inspect else None\n",
    "    df.payment_method = df.payment_method[df.payment_method.isin(\n",
    "        {'Electronic check','Mailed check','Bank transfer (automatic)','Credit card (automatic)'})]\n",
    "    df.payment_method = df.payment_method.fillna('Electronic check')\n",
    "    \n",
    "    print('--------------------------------------------------') if inspect else None\n",
    "    df.monthly_charges = pd.to_numeric(df.monthly_charges, errors='coerce')\n",
    "    if inspect:\n",
    "        df.monthly_charges.hist(grid=False, bins=20)\n",
    "        plt.title('monthly charges distribution')\n",
    "        plt.show()\n",
    "        print('monthly charges max {}'.format(max(df.monthly_charges)))\n",
    "    df.monthly_charges = df.monthly_charges.fillna(20)\n",
    "    df.monthly_charges = df.monthly_charges.clip(upper=118.75)\n",
    "    \n",
    "    print('--------------------------------------------------') if inspect else None\n",
    "    df.total_charges = pd.to_numeric(df.total_charges, errors='coerce')\n",
    "    if inspect:\n",
    "        df.total_charges.hist(grid=False, bins=20)\n",
    "        plt.title('total charges distribution')\n",
    "        plt.show()\n",
    "        print('total charges max {}'.format(max(df.total_charges)))\n",
    "    df.total_charges = df.total_charges.fillna(20)\n",
    "    df.total_charges = df.total_charges.clip(upper=8684.8)\n",
    "    \n",
    "    print('--------------------------------------------------') if inspect else None\n",
    "    print(pd.value_counts(df.gender)) if inspect else None\n",
    "    df.gender = df.gender[df.gender.isin({'Male', 'Female'})]\n",
    "    df.gender = df.gender.fillna('Female')\n",
    "    df.gender = df.gender.map({'Female':0, 'Male':1})\n",
    "    \n",
    "    print('--------------------------------------------------') if inspect else None\n",
    "    print(pd.value_counts(df.senior_citizen)) if inspect else None\n",
    "    df.senior_citizen = df.senior_citizen.clip(upper=1)\n",
    "    df.senior_citizen = df.senior_citizen.fillna(0)\n",
    "    \n",
    "    print('--------------------------------------------------') if inspect else None\n",
    "    print(pd.value_counts(df.partner)) if inspect else None\n",
    "    df.partner = df.partner[df.partner.isin({'Yes', 'No'})]\n",
    "    df.partner = df.partner.fillna('No')\n",
    "    df.partner = df.partner.map({'Yes': 1, 'No': 0})\n",
    "    \n",
    "    print('--------------------------------------------------') if inspect else None\n",
    "    print(pd.value_counts(df.dependents)) if inspect else None\n",
    "    df.dependents = df.dependents[df.dependents.isin({'Yes', 'No'})]\n",
    "    df.dependents = df.dependents.fillna('No')\n",
    "    df.dependents = df.dependents.map({'Yes': 1, 'No': 0})\n",
    "    \n",
    "    print('--------------------------------------------------') if inspect else None\n",
    "    print(pd.value_counts(df.internet_service)) if inspect else None\n",
    "    df.internet_service = df.internet_service[df.internet_service.isin({'Fiber optic', 'DSL'})]\n",
    "    df.internet_service = df.internet_service.fillna('Fiber optic')\n",
    "    df.internet_service = df.internet_service.map({'Fiber optic': 1, 'DSL': 0})\n",
    "\n",
    "    print('--------------------------------------------------') if inspect else None\n",
    "    print(pd.value_counts(df.online_security)) if inspect else None\n",
    "    df.online_security = df.online_security[df.online_security.isin({'Yes', 'No'})]\n",
    "    df.online_security = df.online_security.fillna('No')\n",
    "    df.online_security = df.online_security.map({'Yes': 1, 'No': 0})\n",
    "    \n",
    "    print('--------------------------------------------------') if inspect else None\n",
    "    print(pd.value_counts(df.online_backup)) if inspect else None\n",
    "    df.online_backup = df.online_backup[df.online_backup.isin({'Yes', 'No'})]\n",
    "    df.online_backup = df.online_backup.fillna('No')\n",
    "    df.online_backup = df.online_backup.map({'Yes': 1, 'No': 0})\n",
    "    \n",
    "    print('--------------------------------------------------') if inspect else None\n",
    "    print(pd.value_counts(df.device_protection)) if inspect else None\n",
    "    df.device_protection = df.device_protection[df.device_protection.isin({'Yes', 'No'})]\n",
    "    df.device_protection = df.device_protection.fillna('No')\n",
    "    df.device_protection = df.device_protection.map({'Yes': 1, 'No': 0})\n",
    "    \n",
    "    print('--------------------------------------------------') if inspect else None\n",
    "    print(pd.value_counts(df.tech_support)) if inspect else None\n",
    "    df.tech_support = df.tech_support[df.tech_support.isin({'Yes', 'No'})]\n",
    "    df.tech_support = df.tech_support.fillna('No')\n",
    "    df.tech_support = df.tech_support.map({'Yes': 1, 'No': 0})\n",
    "    \n",
    "    print('--------------------------------------------------') if inspect else None\n",
    "    print(pd.value_counts(df.streaming_tv)) if inspect else None\n",
    "    df.streaming_tv = df.streaming_tv[df.streaming_tv.isin({'Yes', 'No'})]\n",
    "    df.streaming_tv = df.streaming_tv.fillna('No')\n",
    "    df.streaming_tv = df.streaming_tv.map({'Yes': 1, 'No': 0})\n",
    "    \n",
    "    print('--------------------------------------------------') if inspect else None\n",
    "    print(pd.value_counts(df.streaming_movies)) if inspect else None\n",
    "    df.streaming_movies = df.streaming_movies[df.streaming_movies.isin({'Yes', 'No'})]\n",
    "    df.streaming_movies = df.streaming_movies.fillna('No')\n",
    "    df.streaming_movies = df.streaming_movies.map({'Yes': 1, 'No': 0})\n",
    "    \n",
    "    print('--------------------------------------------------') if inspect else None\n",
    "    print(pd.value_counts(df.multiple_lines)) if inspect else None\n",
    "    df.multiple_lines = df.multiple_lines[df.multiple_lines.isin({'Yes', 'No'})]\n",
    "    df.multiple_lines = df.multiple_lines.fillna('No')\n",
    "    df.multiple_lines = df.multiple_lines.map({'Yes': 1, 'No': 0})\n",
    "    \n",
    "    print('--------------------------------------------------') if inspect else None\n",
    "    print('new feature charges_ratio') if inspect else None\n",
    "    df['charges_ratio'] = df.total_charges / df.days\n",
    "    df.charges_ratio = df.charges_ratio.clip(upper=100)\n",
    "    if inspect:\n",
    "        df.charges_ratio.hist(grid=False, bins=20)\n",
    "        plt.title('charges_ratio distribution')\n",
    "        plt.show()\n",
    "        print('charges_ratio max {}'.format(max(df.charges_ratio)))\n",
    "    \n",
    "    print('--------------------------------------------------') if inspect else None\n",
    "    print('new feature months payed') if inspect else None\n",
    "    df['months_payed'] = df.total_charges / df.monthly_charges\n",
    "    if inspect:\n",
    "        df.months_payed.hist(grid=False, bins=20)\n",
    "        plt.title('months_payed distribution')\n",
    "        plt.show()\n",
    "        print('months_payed max {}'.format(max(df.months_payed)))\n",
    "    \n",
    "    print('--------------------------------------------------') if inspect else None\n",
    "    \n",
    "    return df"
   ]
  },
  {
   "cell_type": "code",
   "execution_count": 748,
   "id": "cac51079",
   "metadata": {},
   "outputs": [
    {
     "name": "stdout",
     "output_type": "stream",
     "text": [
      "--------------------------------------------------\n",
      "not terminated 3916, terminated 1366\n",
      "--------------------------------------------------\n"
     ]
    },
    {
     "data": {
      "image/png": "[encoded data removed]",
      "text/plain": [
       "<Figure size 432x288 with 1 Axes>"
      ]
     },
     "metadata": {
      "needs_background": "light"
     },
     "output_type": "display_data"
    },
    {
     "name": "stdout",
     "output_type": "stream",
     "text": [
      "days max 571\n",
      "--------------------------------------------------\n",
      "Month-to-month    2853\n",
      "Two year          1305\n",
      "One year          1124\n",
      "Name: type, dtype: int64\n",
      "--------------------------------------------------\n",
      "Yes    3093\n",
      "No     2189\n",
      "Name: paperless_billing, dtype: int64\n",
      "--------------------------------------------------\n",
      "Electronic check             1730\n",
      "Mailed check                 1237\n",
      "Bank transfer (automatic)    1181\n",
      "Credit card (automatic)      1134\n",
      "Name: payment_method, dtype: int64\n",
      "--------------------------------------------------\n"
     ]
    },
    {
     "data": {
      "image/png": "[encoded data removed]",
      "text/plain": [
       "<Figure size 432x288 with 1 Axes>"
      ]
     },
     "metadata": {
      "needs_background": "light"
     },
     "output_type": "display_data"
    },
    {
     "name": "stdout",
     "output_type": "stream",
     "text": [
      "monthly charges max 118.75\n",
      "--------------------------------------------------\n"
     ]
    },
    {
     "data": {
      "image/png": "[encoded data removed]",
      "text/plain": [
       "<Figure size 432x288 with 1 Axes>"
      ]
     },
     "metadata": {
      "needs_background": "light"
     },
     "output_type": "display_data"
    },
    {
     "name": "stdout",
     "output_type": "stream",
     "text": [
      "total charges max 8684.8\n",
      "--------------------------------------------------\n",
      "Female    2650\n",
      "Male      2632\n",
      "Name: gender, dtype: int64\n",
      "--------------------------------------------------\n",
      "0    4453\n",
      "1     829\n",
      "Name: senior_citizen, dtype: int64\n",
      "--------------------------------------------------\n",
      "No     2690\n",
      "Yes    2592\n",
      "Name: partner, dtype: int64\n",
      "--------------------------------------------------\n",
      "No     3650\n",
      "Yes    1632\n",
      "Name: dependents, dtype: int64\n",
      "--------------------------------------------------\n",
      "Fiber optic    2272\n",
      "DSL            1864\n",
      "Name: internet_service, dtype: int64\n",
      "--------------------------------------------------\n",
      "No     2573\n",
      "Yes    1563\n",
      "Name: online_security, dtype: int64\n",
      "--------------------------------------------------\n",
      "No     2287\n",
      "Yes    1849\n",
      "Name: online_backup, dtype: int64\n",
      "--------------------------------------------------\n",
      "No     2321\n",
      "Yes    1815\n",
      "Name: device_protection, dtype: int64\n",
      "--------------------------------------------------\n",
      "No     2587\n",
      "Yes    1549\n",
      "Name: tech_support, dtype: int64\n",
      "--------------------------------------------------\n",
      "No     2120\n",
      "Yes    2016\n",
      "Name: streaming_tv, dtype: int64\n",
      "--------------------------------------------------\n",
      "No     2074\n",
      "Yes    2062\n",
      "Name: streaming_movies, dtype: int64\n",
      "--------------------------------------------------\n",
      "No     2552\n",
      "Yes    2202\n",
      "Name: multiple_lines, dtype: int64\n",
      "--------------------------------------------------\n",
      "new feature charges_ratio\n"
     ]
    },
    {
     "data": {
      "image/png": "[encoded data removed]",
      "text/plain": [
       "<Figure size 432x288 with 1 Axes>"
      ]
     },
     "metadata": {
      "needs_background": "light"
     },
     "output_type": "display_data"
    },
    {
     "name": "stdout",
     "output_type": "stream",
     "text": [
      "charges_ratio max 100.0\n",
      "--------------------------------------------------\n",
      "new feature months payed\n"
     ]
    },
    {
     "data": {
      "image/png": "[encoded data removed]",
      "text/plain": [
       "<Figure size 432x288 with 1 Axes>"
      ]
     },
     "metadata": {
      "needs_background": "light"
     },
     "output_type": "display_data"
    },
    {
     "name": "stdout",
     "output_type": "stream",
     "text": [
      "months_payed max 77.37777777777778\n",
      "--------------------------------------------------\n"
     ]
    }
   ],
   "source": [
    "train = preprocessing(train, True)"
   ]
  },
  {
   "cell_type": "code",
   "execution_count": 749,
   "id": "99936115",
   "metadata": {},
   "outputs": [],
   "source": [
    "numerical_cols = ['days', 'charges_ratio', 'monthly_charges'\n",
    "                  , 'total_charges', 'months_payed']"
   ]
  },
  {
   "cell_type": "code",
   "execution_count": 750,
   "id": "4f3a93d0",
   "metadata": {},
   "outputs": [],
   "source": [
    "def inspect_numerical_correlation(df, cols, target):\n",
    "    for col in cols:\n",
    "        df[df[target] == 1][col].plot.hist(bins=20, alpha=0.6, color='red')\n",
    "        df[df[target] == 0][col].plot.hist(bins=20, alpha=0.3, color='blue')\n",
    "        plt.title(col)\n",
    "        plt.show()\n",
    "        print('corr {}'.format(df[target].corr(df[col])))"
   ]
  },
  {
   "cell_type": "code",
   "execution_count": 751,
   "id": "611283af",
   "metadata": {},
   "outputs": [
    {
     "data": {
      "image/png": "[encoded data removed]",
      "text/plain": [
       "<Figure size 432x288 with 1 Axes>"
      ]
     },
     "metadata": {
      "needs_background": "light"
     },
     "output_type": "display_data"
    },
    {
     "name": "stdout",
     "output_type": "stream",
     "text": [
      "corr 0.019368370541344503\n"
     ]
    },
    {
     "data": {
      "image/png": "[encoded data removed]",
      "text/plain": [
       "<Figure size 432x288 with 1 Axes>"
      ]
     },
     "metadata": {
      "needs_background": "light"
     },
     "output_type": "display_data"
    },
    {
     "name": "stdout",
     "output_type": "stream",
     "text": [
      "corr -0.17078590940525593\n"
     ]
    },
    {
     "data": {
      "image/png": "[encoded data removed]",
      "text/plain": [
       "<Figure size 432x288 with 1 Axes>"
      ]
     },
     "metadata": {
      "needs_background": "light"
     },
     "output_type": "display_data"
    },
    {
     "name": "stdout",
     "output_type": "stream",
     "text": [
      "corr 0.1877036450390478\n"
     ]
    },
    {
     "data": {
      "image/png": "[encoded data removed]",
      "text/plain": [
       "<Figure size 432x288 with 1 Axes>"
      ]
     },
     "metadata": {
      "needs_background": "light"
     },
     "output_type": "display_data"
    },
    {
     "name": "stdout",
     "output_type": "stream",
     "text": [
      "corr -0.20120724391514147\n"
     ]
    },
    {
     "data": {
      "image/png": "[encoded data removed]",
      "text/plain": [
       "<Figure size 432x288 with 1 Axes>"
      ]
     },
     "metadata": {
      "needs_background": "light"
     },
     "output_type": "display_data"
    },
    {
     "name": "stdout",
     "output_type": "stream",
     "text": [
      "corr -0.3546589748296164\n"
     ]
    }
   ],
   "source": [
    "inspect_numerical_correlation(train, numerical_cols, 'terminated')"
   ]
  },
  {
   "cell_type": "markdown",
   "id": "986e7e0d",
   "metadata": {},
   "source": [
    "Корреляция"
   ]
  },
  {
   "cell_type": "code",
   "execution_count": 752,
   "id": "c8db3374",
   "metadata": {},
   "outputs": [],
   "source": [
    "def inspect_categorical_correlation(df, cols, target):\n",
    "    names = []\n",
    "    chi2_list = []\n",
    "    p_value_list = []\n",
    "    cramers_v_list = []\n",
    "\n",
    "    for col in cols:\n",
    "        if col == target:\n",
    "            continue\n",
    "        contingency_table = pd.crosstab(df[col], df[target])\n",
    "        chi2, p_value, _, _ = stats.chi2_contingency(contingency_table)\n",
    "        n = contingency_table.sum().sum()\n",
    "        phi_corr = np.sqrt(chi2 / (n * (min(contingency_table.shape)-1)))\n",
    "        cramers_v = phi_corr\n",
    "        names.append(col)\n",
    "        chi2_list.append(chi2)\n",
    "        p_value_list.append(p_value)\n",
    "        cramers_v_list.append(cramers_v)\n",
    "        \n",
    "    chi2_list, chi2_names = zip(*sorted(zip(chi2_list, list(names))))\n",
    "    p_value_list, p_value_names = zip(*sorted(zip(p_value_list, list(names))))\n",
    "    cramers_v_list, cramers_v_names = zip(*sorted(zip(cramers_v_list, list(names))))\n",
    "\n",
    "    #     print('{:40} Chi-square-{:5.1f} P-value-{:.2f} Cramer\\'s V-{:.2f}'\\\n",
    "    #           .format(str(col), chi2, p_value, cramers_v))\n",
    "    x_axis = range(1, len(names) + 1)\n",
    "    plt.barh(chi2_names, chi2_list)\n",
    "    plt.title('chi2')\n",
    "    plt.show()\n",
    "    plt.barh(p_value_names, p_value_list)\n",
    "    plt.title('p_value')\n",
    "    plt.show()\n",
    "    plt.barh(cramers_v_names, cramers_v_list)\n",
    "    plt.title('cramers_v')\n",
    "    plt.show()"
   ]
  },
  {
   "cell_type": "code",
   "execution_count": 753,
   "id": "4aa94bdb",
   "metadata": {},
   "outputs": [
    {
     "data": {
      "image/png": "[encoded data removed]",
      "text/plain": [
       "<Figure size 432x288 with 1 Axes>"
      ]
     },
     "metadata": {
      "needs_background": "light"
     },
     "output_type": "display_data"
    },
    {
     "data": {
      "image/png": "[encoded data removed]",
      "text/plain": [
       "<Figure size 432x288 with 1 Axes>"
      ]
     },
     "metadata": {
      "needs_background": "light"
     },
     "output_type": "display_data"
    },
    {
     "data": {
      "image/png": "[encoded data removed]",
      "text/plain": [
       "<Figure size 432x288 with 1 Axes>"
      ]
     },
     "metadata": {
      "needs_background": "light"
     },
     "output_type": "display_data"
    }
   ],
   "source": [
    "inspect_categorical_correlation(train, list(set(train.columns) - set(numerical_cols)), 'terminated')"
   ]
  },
  {
   "cell_type": "markdown",
   "id": "b829eca1",
   "metadata": {},
   "source": [
    "- Здесь видно что 'gender', 'multiple_lines', 'streaming_tv', 'streaming_moves' это слабые показатели.\n",
    "- А нам известно что чтобы улучшить ROC_AUC нужно выбирать только силные показатели"
   ]
  },
  {
   "cell_type": "code",
   "execution_count": 754,
   "id": "685b9811",
   "metadata": {},
   "outputs": [],
   "source": [
    "def preprocessing_remove_weak_columns(df):\n",
    "    weak_columns = ['gender', 'multiple_lines','days', 'months_payed']\n",
    "#                     , 'streaming_movies', 'streaming_tv', 'device_protection'\n",
    "#                     , 'online_backup', 'internet_service'\n",
    "#                     , 'senior_citizen', 'dependents', 'partner', 'tech_support'\n",
    "#                     , 'online_security', 'paperless_billing']\n",
    "    df = df.copy()\n",
    "    df = df.drop(columns=weak_columns)\n",
    "    return df"
   ]
  },
  {
   "cell_type": "code",
   "execution_count": 755,
   "id": "3239589e",
   "metadata": {},
   "outputs": [],
   "source": [
    "numerical_cols.remove('days')\n",
    "numerical_cols.remove('months_payed')\n",
    "# numerical_cols = ['months_payed', 'charges_ratio']"
   ]
  },
  {
   "cell_type": "code",
   "execution_count": 756,
   "id": "b927e0e4",
   "metadata": {},
   "outputs": [],
   "source": [
    "train = preprocessing_remove_weak_columns(train)"
   ]
  },
  {
   "cell_type": "code",
   "execution_count": 757,
   "id": "e0e3e4ea",
   "metadata": {},
   "outputs": [],
   "source": [
    "sca = StandardScaler()\n",
    "enc = OneHotEncoder(drop='first')"
   ]
  },
  {
   "cell_type": "code",
   "execution_count": 758,
   "id": "3d064d12",
   "metadata": {},
   "outputs": [],
   "source": [
    "X_train_cat = enc.fit_transform(train.drop(columns=[*(numerical_cols + ['terminated'])])).toarray()\n",
    "X_train_num = sca.fit_transform(train[numerical_cols])\n",
    "X_train_num = train[numerical_cols]\n",
    "X_train = np.hstack((X_train_cat, X_train_num))\n",
    "y_train = df_train.terminated"
   ]
  },
  {
   "cell_type": "markdown",
   "id": "d0e80717",
   "metadata": {},
   "source": [
    "### train different models"
   ]
  },
  {
   "cell_type": "code",
   "execution_count": 759,
   "id": "f726bc43",
   "metadata": {},
   "outputs": [
    {
     "name": "stdout",
     "output_type": "stream",
     "text": [
      "0.8511515141548479\n",
      "{'min_samples_leaf': 12, 'n_estimators': 200}\n"
     ]
    }
   ],
   "source": [
    "param_grid = {'n_estimators': [200], 'min_samples_leaf': [12, 16]}\n",
    "rfc = RandomForestClassifier(criterion='entropy')\n",
    "grid_rfc = GridSearchCV(rfc, param_grid, scoring='roc_auc')\n",
    "grid_rfc.fit(X_train, y_train)\n",
    "print(grid_rfc.best_score_)\n",
    "print(grid_rfc.best_params_)"
   ]
  },
  {
   "cell_type": "code",
   "execution_count": 760,
   "id": "c0d2ef37",
   "metadata": {},
   "outputs": [
    {
     "name": "stdout",
     "output_type": "stream",
     "text": [
      "0.8497661643438794\n",
      "{'max_depth': 2, 'n_estimators': 24}\n"
     ]
    }
   ],
   "source": [
    "param_grid = {'n_estimators': [24], 'max_depth': [2]}\n",
    "model_xgb = xgb.XGBClassifier(use_label_encoder=False, eval_metric='aucpr')\n",
    "grid_xgb = GridSearchCV(model_xgb, param_grid, scoring='roc_auc')\n",
    "grid_xgb.fit(X_train, y_train)\n",
    "print(grid_xgb.best_score_)\n",
    "print(grid_xgb.best_params_)"
   ]
  },
  {
   "cell_type": "code",
   "execution_count": 761,
   "id": "7ba8762b",
   "metadata": {},
   "outputs": [
    {
     "name": "stdout",
     "output_type": "stream",
     "text": [
      "0.8490487648967893\n",
      "{'max_depth': 2, 'n_estimators': 32}\n"
     ]
    }
   ],
   "source": [
    "param_grid = {'n_estimators': [32], 'max_depth': [2]}\n",
    "model_cat = CatBoostClassifier(loss_function='Logloss', eval_metric='AUC', verbose=False)\n",
    "grid_cat = GridSearchCV(model_cat, param_grid, scoring='roc_auc')\n",
    "grid_cat.fit(X_train, y_train)\n",
    "print(grid_cat.best_score_)\n",
    "print(grid_cat.best_params_)"
   ]
  },
  {
   "cell_type": "code",
   "execution_count": 762,
   "id": "1cd4d8b8",
   "metadata": {},
   "outputs": [
    {
     "name": "stdout",
     "output_type": "stream",
     "text": [
      "Epoch 1/40\n",
      "166/166 [==============================] - 1s 4ms/step - loss: 0.5623 - accuracy: 0.7404\n",
      "Epoch 2/40\n",
      "166/166 [==============================] - 1s 3ms/step - loss: 0.5306 - accuracy: 0.7482\n",
      "Epoch 3/40\n",
      "166/166 [==============================] - 1s 3ms/step - loss: 0.5362 - accuracy: 0.7607\n",
      "Epoch 4/40\n",
      "166/166 [==============================] - 1s 4ms/step - loss: 0.5373 - accuracy: 0.7685\n",
      "Epoch 5/40\n",
      "166/166 [==============================] - 1s 4ms/step - loss: 0.5291 - accuracy: 0.7660\n",
      "Epoch 6/40\n",
      "166/166 [==============================] - 1s 4ms/step - loss: 0.5344 - accuracy: 0.7569\n"
     ]
    },
    {
     "data": {
      "text/plain": [
       "<keras.callbacks.History at 0x7fb266727520>"
      ]
     },
     "execution_count": 762,
     "metadata": {},
     "output_type": "execute_result"
    }
   ],
   "source": [
    "callback = EarlyStopping(monitor='accuracy', patience=2)\n",
    "optimizer = Adam(learning_rate=0.005)\n",
    "\n",
    "model_ff = Sequential()\n",
    "model_ff.add(Dense(32, activation='relu', input_dim=X_train.shape[1]))\n",
    "model_ff.add(Dense(16, activation='tanh'))\n",
    "model_ff.add(Dense(1, activation='sigmoid'))\n",
    "\n",
    "model_ff.compile(loss='binary_crossentropy', \n",
    "                 optimizer=optimizer, metrics=['accuracy'])\n",
    "model_ff.fit(X_train, y_train, epochs=40, verbose=1, callbacks=[callback])"
   ]
  },
  {
   "cell_type": "markdown",
   "id": "2935a07f",
   "metadata": {},
   "source": [
    "### preprocess test data"
   ]
  },
  {
   "cell_type": "code",
   "execution_count": 763,
   "id": "7e8d26bc",
   "metadata": {},
   "outputs": [],
   "source": [
    "preprocessing_check_columns(test, list_expected_columns)"
   ]
  },
  {
   "cell_type": "code",
   "execution_count": 764,
   "id": "87199739",
   "metadata": {},
   "outputs": [],
   "source": [
    "preprocessing_check_format(test, dict_expected_format)"
   ]
  },
  {
   "cell_type": "code",
   "execution_count": 765,
   "id": "c69755f9",
   "metadata": {},
   "outputs": [],
   "source": [
    "test = preprocessing(test)"
   ]
  },
  {
   "cell_type": "code",
   "execution_count": 766,
   "id": "a9aee680",
   "metadata": {},
   "outputs": [],
   "source": [
    "test = preprocessing_remove_weak_columns(test)"
   ]
  },
  {
   "cell_type": "code",
   "execution_count": 767,
   "id": "da52a198",
   "metadata": {},
   "outputs": [],
   "source": [
    "X_test_cat = enc.transform(test.drop(columns=[*(numerical_cols + ['terminated'])])).toarray()\n",
    "X_test_num = sca.transform(test[numerical_cols])\n",
    "X_test_num = test[numerical_cols]\n",
    "X_test = np.hstack((X_test_cat, X_test_num))\n",
    "y_test = df_test.terminated"
   ]
  },
  {
   "cell_type": "markdown",
   "id": "3e3c2ca8",
   "metadata": {},
   "source": [
    "### testing"
   ]
  },
  {
   "cell_type": "code",
   "execution_count": 773,
   "id": "4b36f11c",
   "metadata": {},
   "outputs": [
    {
     "name": "stdout",
     "output_type": "stream",
     "text": [
      "CatBoost ROC AUC score: 0.8292889720500527\n"
     ]
    }
   ],
   "source": [
    "z_test = grid_cat.best_estimator_.predict_proba(X_test)[:,1]\n",
    "roc_auc = roc_auc_score(y_test, z_test)\n",
    "print('CatBoost ROC AUC score:', roc_auc)"
   ]
  },
  {
   "cell_type": "code",
   "execution_count": 769,
   "id": "bb0ab189",
   "metadata": {},
   "outputs": [
    {
     "data": {
      "image/png": "[encoded data removed]",
      "text/plain": [
       "<Figure size 432x288 with 1 Axes>"
      ]
     },
     "metadata": {
      "needs_background": "light"
     },
     "output_type": "display_data"
    }
   ],
   "source": [
    "fpr, tpr, thresholds = roc_curve(y_test, z_test)\n",
    "\n",
    "roc_auc = auc(fpr, tpr)\n",
    "\n",
    "plt.figure()\n",
    "plt.plot(fpr, tpr, label='ROC curve (AUC = %0.2f)' % roc_auc)\n",
    "plt.plot([0, 1], [0, 1], 'k--')  # Plotting the random guessing curve\n",
    "plt.xlim([0.0, 1.0])\n",
    "plt.ylim([0.0, 1.05])\n",
    "plt.xlabel('False Positive Rate')\n",
    "plt.ylabel('True Positive Rate')\n",
    "plt.title('Receiver Operating Characteristic')\n",
    "plt.legend(loc=\"lower right\")\n",
    "plt.show()"
   ]
  },
  {
   "cell_type": "code",
   "execution_count": null,
   "id": "f5c8641a",
   "metadata": {},
   "outputs": [],
   "source": [
    "# z_test = grid_rfc.best_estimator_.predict_proba(X_test)[:,1]\n",
    "# roc_auc = roc_auc_score(y_test, z_test)\n",
    "# print('RandomForestClassifier score:', roc_auc)"
   ]
  },
  {
   "cell_type": "code",
   "execution_count": null,
   "id": "8f0e3be3",
   "metadata": {},
   "outputs": [],
   "source": [
    "# fpr, tpr, thresholds = roc_curve(y_test, z_test)\n",
    "\n",
    "# roc_auc = auc(fpr, tpr)\n",
    "\n",
    "# plt.figure()\n",
    "# plt.plot(fpr, tpr, label='ROC curve (AUC = %0.2f)' % roc_auc)\n",
    "# plt.plot([0, 1], [0, 1], 'k--')  # Plotting the random guessing curve\n",
    "# plt.xlim([0.0, 1.0])\n",
    "# plt.ylim([0.0, 1.05])\n",
    "# plt.xlabel('False Positive Rate')\n",
    "# plt.ylabel('True Positive Rate')\n",
    "# plt.title('Receiver Operating Characteristic')\n",
    "# plt.legend(loc=\"lower right\")\n",
    "# plt.show()"
   ]
  },
  {
   "cell_type": "code",
   "execution_count": null,
   "id": "659645b4",
   "metadata": {},
   "outputs": [],
   "source": []
  },
  {
   "cell_type": "code",
   "execution_count": null,
   "id": "a23da1a1",
   "metadata": {},
   "outputs": [],
   "source": []
  }
 ],
 "metadata": {
  "ExecuteTimeLog": [
   {
    "duration": 30,
    "start_time": "2023-06-17T23:23:42.485Z"
   },
   {
    "duration": 17,
    "start_time": "2023-06-19T22:21:24.733Z"
   },
   {
    "duration": 9238,
    "start_time": "2023-06-20T01:25:59.626Z"
   },
   {
    "duration": 2,
    "start_time": "2023-06-20T01:26:11.597Z"
   },
   {
    "duration": 3,
    "start_time": "2023-06-20T01:26:12.667Z"
   },
   {
    "duration": 3,
    "start_time": "2023-06-20T01:26:13.823Z"
   },
   {
    "duration": 3,
    "start_time": "2023-06-20T01:26:13.971Z"
   },
   {
    "duration": 4,
    "start_time": "2023-06-20T01:26:14.184Z"
   },
   {
    "duration": 76,
    "start_time": "2023-06-20T01:26:14.495Z"
   },
   {
    "duration": 38,
    "start_time": "2023-06-20T01:26:15.189Z"
   },
   {
    "duration": 15,
    "start_time": "2023-06-20T01:26:15.359Z"
   },
   {
    "duration": 17,
    "start_time": "2023-06-20T01:26:15.551Z"
   },
   {
    "duration": 7,
    "start_time": "2023-06-20T01:26:15.729Z"
   },
   {
    "duration": 16,
    "start_time": "2023-06-20T01:26:15.924Z"
   },
   {
    "duration": 8,
    "start_time": "2023-06-20T01:26:16.159Z"
   },
   {
    "duration": 15,
    "start_time": "2023-06-20T01:26:16.700Z"
   },
   {
    "duration": 11,
    "start_time": "2023-06-20T01:26:16.869Z"
   },
   {
    "duration": 16,
    "start_time": "2023-06-20T01:26:17.035Z"
   },
   {
    "duration": 7,
    "start_time": "2023-06-20T01:26:17.212Z"
   },
   {
    "duration": 15,
    "start_time": "2023-06-20T01:26:17.811Z"
   },
   {
    "duration": 7,
    "start_time": "2023-06-20T01:26:19.045Z"
   },
   {
    "duration": 52,
    "start_time": "2023-06-20T01:26:34.984Z"
   },
   {
    "duration": 10,
    "start_time": "2023-06-20T01:26:35.320Z"
   },
   {
    "duration": 11,
    "start_time": "2023-06-20T01:26:35.518Z"
   },
   {
    "duration": 4,
    "start_time": "2023-06-20T01:26:35.708Z"
   },
   {
    "duration": 63,
    "start_time": "2023-06-20T01:26:36.697Z"
   },
   {
    "duration": 14,
    "start_time": "2023-06-20T01:26:36.779Z"
   },
   {
    "duration": 9,
    "start_time": "2023-06-20T01:26:36.981Z"
   },
   {
    "duration": 4,
    "start_time": "2023-06-20T01:26:37.416Z"
   },
   {
    "duration": 8,
    "start_time": "2023-06-20T01:26:37.627Z"
   },
   {
    "duration": 5,
    "start_time": "2023-06-20T01:26:37.822Z"
   },
   {
    "duration": 8,
    "start_time": "2023-06-20T01:26:38.036Z"
   },
   {
    "duration": 12,
    "start_time": "2023-06-20T01:26:38.216Z"
   },
   {
    "duration": 7,
    "start_time": "2023-06-20T01:26:38.384Z"
   },
   {
    "duration": 6,
    "start_time": "2023-06-20T01:26:38.597Z"
   },
   {
    "duration": 9,
    "start_time": "2023-06-20T01:26:38.806Z"
   },
   {
    "duration": 15,
    "start_time": "2023-06-20T01:26:38.988Z"
   },
   {
    "duration": 9,
    "start_time": "2023-06-20T01:26:39.199Z"
   },
   {
    "duration": 4,
    "start_time": "2023-06-20T01:26:39.412Z"
   },
   {
    "duration": 782,
    "start_time": "2023-06-20T01:26:39.640Z"
   },
   {
    "duration": 4,
    "start_time": "2023-06-20T01:26:40.425Z"
   },
   {
    "duration": 22,
    "start_time": "2023-06-20T01:26:40.436Z"
   },
   {
    "duration": 2218,
    "start_time": "2023-06-20T01:26:41.353Z"
   },
   {
    "duration": 4,
    "start_time": "2023-06-20T01:26:43.916Z"
   },
   {
    "duration": 4,
    "start_time": "2023-06-20T01:26:45.347Z"
   },
   {
    "duration": 30,
    "start_time": "2023-06-20T01:26:50.328Z"
   },
   {
    "duration": 8,
    "start_time": "2023-06-20T01:26:50.632Z"
   },
   {
    "duration": 135,
    "start_time": "2023-06-20T01:26:50.872Z"
   },
   {
    "duration": 149,
    "start_time": "2023-06-20T01:26:51.316Z"
   },
   {
    "duration": 8,
    "start_time": "2023-06-20T01:26:51.808Z"
   },
   {
    "duration": 11,
    "start_time": "2023-06-20T01:26:52.358Z"
   },
   {
    "duration": 4,
    "start_time": "2023-06-20T01:26:53.697Z"
   },
   {
    "duration": 4,
    "start_time": "2023-06-20T01:26:54.035Z"
   },
   {
    "duration": 8,
    "start_time": "2023-06-20T01:26:55.159Z"
   },
   {
    "duration": 6,
    "start_time": "2023-06-20T01:26:58.742Z"
   },
   {
    "duration": 30,
    "start_time": "2023-06-20T01:27:04.934Z"
   },
   {
    "duration": 8,
    "start_time": "2023-06-20T01:27:05.365Z"
   },
   {
    "duration": 133,
    "start_time": "2023-06-20T01:27:14.999Z"
   },
   {
    "duration": 12,
    "start_time": "2023-06-20T01:27:17.649Z"
   },
   {
    "duration": 4,
    "start_time": "2023-06-20T01:27:18.064Z"
   },
   {
    "duration": 9,
    "start_time": "2023-06-20T01:27:19.309Z"
   },
   {
    "duration": 4,
    "start_time": "2023-06-20T01:27:19.611Z"
   },
   {
    "duration": 5,
    "start_time": "2023-06-20T01:27:20.029Z"
   },
   {
    "duration": 5,
    "start_time": "2023-06-20T01:27:55.357Z"
   },
   {
    "duration": 10,
    "start_time": "2023-06-20T01:27:55.609Z"
   },
   {
    "duration": 118,
    "start_time": "2023-06-20T01:27:56.131Z"
   },
   {
    "duration": 22,
    "start_time": "2023-06-20T01:27:56.505Z"
   },
   {
    "duration": 21,
    "start_time": "2023-06-20T01:27:56.814Z"
   },
   {
    "duration": 11,
    "start_time": "2023-06-20T01:27:59.447Z"
   },
   {
    "duration": 5,
    "start_time": "2023-06-20T01:27:59.720Z"
   },
   {
    "duration": 32,
    "start_time": "2023-06-20T01:28:00.088Z"
   },
   {
    "duration": 347,
    "start_time": "2023-06-20T01:28:01.036Z"
   },
   {
    "duration": 4,
    "start_time": "2023-06-20T01:28:03.336Z"
   },
   {
    "duration": 18,
    "start_time": "2023-06-20T01:28:04.497Z"
   },
   {
    "duration": 5,
    "start_time": "2023-06-20T01:28:05.877Z"
   },
   {
    "duration": 14,
    "start_time": "2023-06-20T01:28:06.169Z"
   },
   {
    "duration": 3,
    "start_time": "2023-06-20T01:28:07.689Z"
   },
   {
    "duration": 12,
    "start_time": "2023-06-20T01:28:07.901Z"
   },
   {
    "duration": 38,
    "start_time": "2023-06-20T01:28:09.921Z"
   },
   {
    "duration": 3,
    "start_time": "2023-06-20T01:28:10.137Z"
   },
   {
    "duration": 7,
    "start_time": "2023-06-20T01:28:10.429Z"
   },
   {
    "duration": 3,
    "start_time": "2023-06-20T01:28:11.301Z"
   },
   {
    "duration": 14,
    "start_time": "2023-06-20T01:28:11.697Z"
   },
   {
    "duration": 9,
    "start_time": "2023-06-20T01:28:13.466Z"
   },
   {
    "duration": 4,
    "start_time": "2023-06-20T01:28:14.297Z"
   },
   {
    "duration": 2,
    "start_time": "2023-06-20T01:28:14.538Z"
   },
   {
    "duration": 1972,
    "start_time": "2023-06-20T01:28:17.043Z"
   },
   {
    "duration": 79131,
    "start_time": "2023-06-20T01:28:20.733Z"
   },
   {
    "duration": 730,
    "start_time": "2023-06-20T01:30:01.165Z"
   },
   {
    "duration": 20631,
    "start_time": "2023-06-20T01:30:03.426Z"
   },
   {
    "duration": 186,
    "start_time": "2023-06-20T01:30:29.626Z"
   },
   {
    "duration": 7,
    "start_time": "2023-06-20T01:30:32.462Z"
   },
   {
    "duration": 5,
    "start_time": "2023-06-20T01:30:35.278Z"
   },
   {
    "duration": 2,
    "start_time": "2023-06-20T01:33:33.038Z"
   },
   {
    "duration": 10,
    "start_time": "2023-06-20T01:33:51.080Z"
   },
   {
    "duration": 4,
    "start_time": "2023-06-20T01:34:22.322Z"
   },
   {
    "duration": 5,
    "start_time": "2023-06-20T01:34:24.038Z"
   },
   {
    "duration": 334,
    "start_time": "2023-06-20T01:34:25.050Z"
   },
   {
    "duration": 15,
    "start_time": "2023-06-20T01:36:45.932Z"
   },
   {
    "duration": 4,
    "start_time": "2023-06-20T01:37:24.692Z"
   },
   {
    "duration": 4,
    "start_time": "2023-06-20T01:37:50.812Z"
   },
   {
    "duration": 10,
    "start_time": "2023-06-20T01:37:53.681Z"
   },
   {
    "duration": 9,
    "start_time": "2023-06-20T01:38:01.583Z"
   },
   {
    "duration": 6,
    "start_time": "2023-06-20T01:38:10.032Z"
   },
   {
    "duration": 7,
    "start_time": "2023-06-20T01:38:42.250Z"
   },
   {
    "duration": 4,
    "start_time": "2023-06-20T01:38:46.208Z"
   },
   {
    "duration": 4,
    "start_time": "2023-06-20T01:38:47.538Z"
   },
   {
    "duration": 212,
    "start_time": "2023-06-20T01:38:48.782Z"
   },
   {
    "duration": 12,
    "start_time": "2023-06-20T01:43:00.398Z"
   },
   {
    "duration": 40,
    "start_time": "2023-06-20T01:43:03.029Z"
   },
   {
    "duration": 4,
    "start_time": "2023-06-20T01:43:29.673Z"
   },
   {
    "duration": 13399,
    "start_time": "2023-06-20T22:49:57.360Z"
   },
   {
    "duration": 3,
    "start_time": "2023-06-20T22:50:11.842Z"
   },
   {
    "duration": 3,
    "start_time": "2023-06-20T22:50:12.083Z"
   },
   {
    "duration": 3,
    "start_time": "2023-06-20T22:50:12.483Z"
   },
   {
    "duration": 4,
    "start_time": "2023-06-20T22:50:12.645Z"
   },
   {
    "duration": 4,
    "start_time": "2023-06-20T22:50:12.806Z"
   },
   {
    "duration": 23,
    "start_time": "2023-06-20T22:50:13.308Z"
   },
   {
    "duration": 17,
    "start_time": "2023-06-20T22:50:13.558Z"
   },
   {
    "duration": 14,
    "start_time": "2023-06-20T22:50:13.637Z"
   },
   {
    "duration": 7,
    "start_time": "2023-06-20T22:50:13.722Z"
   },
   {
    "duration": 7,
    "start_time": "2023-06-20T22:50:13.807Z"
   },
   {
    "duration": 7,
    "start_time": "2023-06-20T22:50:13.894Z"
   },
   {
    "duration": 8,
    "start_time": "2023-06-20T22:50:13.977Z"
   },
   {
    "duration": 5,
    "start_time": "2023-06-20T22:50:14.225Z"
   },
   {
    "duration": 10,
    "start_time": "2023-06-20T22:50:14.310Z"
   },
   {
    "duration": 6,
    "start_time": "2023-06-20T22:50:14.394Z"
   },
   {
    "duration": 8,
    "start_time": "2023-06-20T22:50:14.484Z"
   },
   {
    "duration": 4,
    "start_time": "2023-06-20T22:50:14.729Z"
   },
   {
    "duration": 6,
    "start_time": "2023-06-20T22:50:14.814Z"
   },
   {
    "duration": 14,
    "start_time": "2023-06-20T22:50:15.229Z"
   },
   {
    "duration": 9,
    "start_time": "2023-06-20T22:50:15.398Z"
   },
   {
    "duration": 12,
    "start_time": "2023-06-20T22:50:15.478Z"
   },
   {
    "duration": 5,
    "start_time": "2023-06-20T22:50:15.656Z"
   },
   {
    "duration": 25,
    "start_time": "2023-06-20T22:50:16.340Z"
   },
   {
    "duration": 14,
    "start_time": "2023-06-20T22:50:16.532Z"
   },
   {
    "duration": 9,
    "start_time": "2023-06-20T22:50:17.183Z"
   },
   {
    "duration": 5,
    "start_time": "2023-06-20T22:50:17.542Z"
   },
   {
    "duration": 8,
    "start_time": "2023-06-20T22:50:17.730Z"
   },
   {
    "duration": 6,
    "start_time": "2023-06-20T22:50:17.935Z"
   },
   {
    "duration": 9,
    "start_time": "2023-06-20T22:50:18.113Z"
   },
   {
    "duration": 9,
    "start_time": "2023-06-20T22:50:18.294Z"
   },
   {
    "duration": 7,
    "start_time": "2023-06-20T22:50:18.499Z"
   },
   {
    "duration": 8,
    "start_time": "2023-06-20T22:50:18.695Z"
   },
   {
    "duration": 11,
    "start_time": "2023-06-20T22:50:18.920Z"
   },
   {
    "duration": 24,
    "start_time": "2023-06-20T22:50:19.085Z"
   },
   {
    "duration": 10,
    "start_time": "2023-06-20T22:50:20.010Z"
   },
   {
    "duration": 6,
    "start_time": "2023-06-20T22:50:20.269Z"
   },
   {
    "duration": 800,
    "start_time": "2023-06-20T22:50:20.546Z"
   },
   {
    "duration": 4,
    "start_time": "2023-06-20T22:50:21.462Z"
   },
   {
    "duration": 19,
    "start_time": "2023-06-20T22:50:22.410Z"
   },
   {
    "duration": 2423,
    "start_time": "2023-06-20T22:50:22.615Z"
   },
   {
    "duration": 4,
    "start_time": "2023-06-20T22:50:25.040Z"
   },
   {
    "duration": 23,
    "start_time": "2023-06-20T22:50:25.056Z"
   },
   {
    "duration": 57,
    "start_time": "2023-06-20T22:50:25.081Z"
   },
   {
    "duration": 27,
    "start_time": "2023-06-20T22:50:25.140Z"
   },
   {
    "duration": 142,
    "start_time": "2023-06-20T22:50:25.168Z"
   },
   {
    "duration": 142,
    "start_time": "2023-06-20T22:50:25.312Z"
   },
   {
    "duration": 8,
    "start_time": "2023-06-20T22:50:25.456Z"
   },
   {
    "duration": 35,
    "start_time": "2023-06-20T22:50:25.466Z"
   },
   {
    "duration": 7,
    "start_time": "2023-06-20T22:50:25.504Z"
   },
   {
    "duration": 4,
    "start_time": "2023-06-20T22:50:25.544Z"
   },
   {
    "duration": 5,
    "start_time": "2023-06-20T22:50:25.750Z"
   },
   {
    "duration": 5,
    "start_time": "2023-06-20T22:50:26.838Z"
   },
   {
    "duration": 10,
    "start_time": "2023-06-20T22:50:31.392Z"
   },
   {
    "duration": 6,
    "start_time": "2023-06-20T22:50:31.584Z"
   },
   {
    "duration": 164,
    "start_time": "2023-06-20T22:50:32.052Z"
   },
   {
    "duration": 9,
    "start_time": "2023-06-20T22:50:32.304Z"
   },
   {
    "duration": 5,
    "start_time": "2023-06-20T22:50:32.554Z"
   },
   {
    "duration": 7,
    "start_time": "2023-06-20T22:50:32.762Z"
   },
   {
    "duration": 5,
    "start_time": "2023-06-20T22:50:33.314Z"
   },
   {
    "duration": 5,
    "start_time": "2023-06-20T22:50:33.633Z"
   },
   {
    "duration": 4,
    "start_time": "2023-06-20T22:50:54.243Z"
   },
   {
    "duration": 10,
    "start_time": "2023-06-20T22:50:54.470Z"
   },
   {
    "duration": 52,
    "start_time": "2023-06-20T22:50:54.694Z"
   },
   {
    "duration": 15,
    "start_time": "2023-06-20T22:50:54.889Z"
   },
   {
    "duration": 19,
    "start_time": "2023-06-20T22:50:55.055Z"
   },
   {
    "duration": 11,
    "start_time": "2023-06-20T22:50:55.964Z"
   },
   {
    "duration": 5,
    "start_time": "2023-06-20T22:50:56.229Z"
   },
   {
    "duration": 30,
    "start_time": "2023-06-20T22:50:56.782Z"
   },
   {
    "duration": 369,
    "start_time": "2023-06-20T22:50:57.187Z"
   },
   {
    "duration": 3,
    "start_time": "2023-06-20T22:50:58.148Z"
   },
   {
    "duration": 20,
    "start_time": "2023-06-20T22:50:58.371Z"
   },
   {
    "duration": 5,
    "start_time": "2023-06-20T22:50:59.253Z"
   },
   {
    "duration": 14,
    "start_time": "2023-06-20T22:50:59.486Z"
   },
   {
    "duration": 3,
    "start_time": "2023-06-20T22:51:01.567Z"
   },
   {
    "duration": 18,
    "start_time": "2023-06-20T22:51:01.853Z"
   },
   {
    "duration": 53,
    "start_time": "2023-06-20T22:51:04.130Z"
   },
   {
    "duration": 3,
    "start_time": "2023-06-20T22:51:04.339Z"
   },
   {
    "duration": 8,
    "start_time": "2023-06-20T22:51:04.597Z"
   },
   {
    "duration": 3,
    "start_time": "2023-06-20T22:51:05.236Z"
   },
   {
    "duration": 16,
    "start_time": "2023-06-20T22:51:05.583Z"
   },
   {
    "duration": 12,
    "start_time": "2023-06-20T22:51:08.534Z"
   },
   {
    "duration": 4,
    "start_time": "2023-06-20T22:51:08.766Z"
   },
   {
    "duration": 3,
    "start_time": "2023-06-20T22:51:09.148Z"
   },
   {
    "duration": 1943,
    "start_time": "2023-06-20T22:51:09.969Z"
   },
   {
    "duration": 58730,
    "start_time": "2023-06-20T22:51:18.343Z"
   },
   {
    "duration": 293,
    "start_time": "2023-06-20T22:52:50.463Z"
   },
   {
    "duration": 5782,
    "start_time": "2023-06-20T22:52:54.175Z"
   },
   {
    "duration": 170,
    "start_time": "2023-06-20T22:53:04.612Z"
   },
   {
    "duration": 8,
    "start_time": "2023-06-20T22:53:05.753Z"
   },
   {
    "duration": 39,
    "start_time": "2023-06-20T22:53:15.806Z"
   },
   {
    "duration": 25607,
    "start_time": "2023-06-20T22:53:20.694Z"
   },
   {
    "duration": 127,
    "start_time": "2023-06-20T22:53:53.072Z"
   },
   {
    "duration": 7,
    "start_time": "2023-06-20T22:53:54.308Z"
   },
   {
    "duration": 5,
    "start_time": "2023-06-20T22:53:55.949Z"
   },
   {
    "duration": 42,
    "start_time": "2023-06-20T22:54:16.563Z"
   },
   {
    "duration": 20383,
    "start_time": "2023-06-20T22:54:17.399Z"
   },
   {
    "duration": 114,
    "start_time": "2023-06-20T22:54:41.588Z"
   },
   {
    "duration": 7,
    "start_time": "2023-06-20T22:54:43.313Z"
   },
   {
    "duration": 5,
    "start_time": "2023-06-20T22:54:44.175Z"
   },
   {
    "duration": 39,
    "start_time": "2023-06-20T22:54:48.951Z"
   },
   {
    "duration": 19668,
    "start_time": "2023-06-20T22:54:49.635Z"
   },
   {
    "duration": 120,
    "start_time": "2023-06-20T22:55:13.470Z"
   },
   {
    "duration": 7,
    "start_time": "2023-06-20T22:55:14.923Z"
   },
   {
    "duration": 5,
    "start_time": "2023-06-20T22:55:15.684Z"
   },
   {
    "duration": 31,
    "start_time": "2023-06-20T22:56:17.570Z"
   },
   {
    "duration": 20241,
    "start_time": "2023-06-20T22:56:18.751Z"
   },
   {
    "duration": 105,
    "start_time": "2023-06-20T22:56:42.906Z"
   },
   {
    "duration": 7,
    "start_time": "2023-06-20T22:56:44.376Z"
   },
   {
    "duration": 5,
    "start_time": "2023-06-20T22:56:45.216Z"
   },
   {
    "duration": 39,
    "start_time": "2023-06-20T22:56:49.652Z"
   },
   {
    "duration": 20303,
    "start_time": "2023-06-20T22:56:50.393Z"
   },
   {
    "duration": 28,
    "start_time": "2023-06-20T22:57:21.472Z"
   },
   {
    "duration": 19469,
    "start_time": "2023-06-20T22:57:21.832Z"
   },
   {
    "duration": 109,
    "start_time": "2023-06-20T22:57:45.421Z"
   },
   {
    "duration": 7,
    "start_time": "2023-06-20T22:57:46.775Z"
   },
   {
    "duration": 5,
    "start_time": "2023-06-20T22:57:48.487Z"
   },
   {
    "duration": 30,
    "start_time": "2023-06-20T22:58:02.146Z"
   },
   {
    "duration": 19003,
    "start_time": "2023-06-20T22:58:03.180Z"
   },
   {
    "duration": 123,
    "start_time": "2023-06-20T22:58:27.693Z"
   },
   {
    "duration": 6,
    "start_time": "2023-06-20T22:58:29.113Z"
   },
   {
    "duration": 5,
    "start_time": "2023-06-20T22:58:31.670Z"
   },
   {
    "duration": 29,
    "start_time": "2023-06-20T22:58:42.188Z"
   },
   {
    "duration": 20170,
    "start_time": "2023-06-20T22:58:43.021Z"
   },
   {
    "duration": 28,
    "start_time": "2023-06-20T22:59:21.599Z"
   },
   {
    "duration": 29544,
    "start_time": "2023-06-20T22:59:22.425Z"
   },
   {
    "duration": 48533,
    "start_time": "2023-06-20T22:59:58.555Z"
   },
   {
    "duration": 136,
    "start_time": "2023-06-20T23:00:55.058Z"
   },
   {
    "duration": 6,
    "start_time": "2023-06-20T23:00:57.222Z"
   },
   {
    "duration": 5,
    "start_time": "2023-06-20T23:00:58.747Z"
   },
   {
    "duration": 38,
    "start_time": "2023-06-20T23:01:21.870Z"
   },
   {
    "duration": 85316,
    "start_time": "2023-06-20T23:01:22.368Z"
   },
   {
    "duration": 172,
    "start_time": "2023-06-20T23:02:55.216Z"
   },
   {
    "duration": 6,
    "start_time": "2023-06-20T23:02:57.232Z"
   },
   {
    "duration": 12,
    "start_time": "2023-06-20T23:02:59.152Z"
   },
   {
    "duration": 41,
    "start_time": "2023-06-20T23:03:24.030Z"
   },
   {
    "duration": 5066,
    "start_time": "2023-06-20T23:03:26.016Z"
   },
   {
    "duration": 112,
    "start_time": "2023-06-20T23:03:42.981Z"
   },
   {
    "duration": 54,
    "start_time": "2023-06-20T23:03:48.817Z"
   },
   {
    "duration": 8044,
    "start_time": "2023-06-20T23:03:49.839Z"
   },
   {
    "duration": 187,
    "start_time": "2023-06-20T23:04:15.216Z"
   },
   {
    "duration": 7,
    "start_time": "2023-06-20T23:04:16.403Z"
   },
   {
    "duration": 37,
    "start_time": "2023-06-20T23:04:23.596Z"
   },
   {
    "duration": 41,
    "start_time": "2023-06-20T23:04:27.060Z"
   },
   {
    "duration": 9699,
    "start_time": "2023-06-20T23:04:27.437Z"
   },
   {
    "duration": 42,
    "start_time": "2023-06-20T23:05:30.794Z"
   },
   {
    "duration": 12183,
    "start_time": "2023-06-20T23:05:31.399Z"
   },
   {
    "duration": 41,
    "start_time": "2023-06-20T23:05:50.214Z"
   },
   {
    "duration": 5684,
    "start_time": "2023-06-20T23:05:50.594Z"
   },
   {
    "duration": 40,
    "start_time": "2023-06-20T23:05:58.253Z"
   },
   {
    "duration": 8224,
    "start_time": "2023-06-20T23:05:58.547Z"
   },
   {
    "duration": 88,
    "start_time": "2023-06-20T23:06:15.828Z"
   },
   {
    "duration": 103,
    "start_time": "2023-06-20T23:06:24.168Z"
   },
   {
    "duration": 46,
    "start_time": "2023-06-20T23:06:27.734Z"
   },
   {
    "duration": 8088,
    "start_time": "2023-06-20T23:06:28.790Z"
   },
   {
    "duration": 41,
    "start_time": "2023-06-20T23:07:06.977Z"
   },
   {
    "duration": 4948,
    "start_time": "2023-06-20T23:07:07.551Z"
   },
   {
    "duration": 44,
    "start_time": "2023-06-20T23:07:16.750Z"
   },
   {
    "duration": 3057,
    "start_time": "2023-06-20T23:07:17.425Z"
   },
   {
    "duration": 45,
    "start_time": "2023-06-20T23:07:24.044Z"
   },
   {
    "duration": 3552,
    "start_time": "2023-06-20T23:07:24.647Z"
   },
   {
    "duration": 13018,
    "start_time": "2023-06-20T23:07:49.795Z"
   },
   {
    "duration": 3,
    "start_time": "2023-06-20T23:08:02.814Z"
   },
   {
    "duration": 15,
    "start_time": "2023-06-20T23:08:02.819Z"
   },
   {
    "duration": 34,
    "start_time": "2023-06-20T23:08:02.836Z"
   },
   {
    "duration": 5,
    "start_time": "2023-06-20T23:08:02.872Z"
   },
   {
    "duration": 7,
    "start_time": "2023-06-20T23:08:02.879Z"
   },
   {
    "duration": 32,
    "start_time": "2023-06-20T23:08:02.887Z"
   },
   {
    "duration": 7,
    "start_time": "2023-06-20T23:08:02.920Z"
   },
   {
    "duration": 47,
    "start_time": "2023-06-20T23:08:02.929Z"
   },
   {
    "duration": 6,
    "start_time": "2023-06-20T23:08:02.979Z"
   },
   {
    "duration": 8,
    "start_time": "2023-06-20T23:08:02.987Z"
   },
   {
    "duration": 22,
    "start_time": "2023-06-20T23:08:02.997Z"
   },
   {
    "duration": 7,
    "start_time": "2023-06-20T23:08:03.020Z"
   },
   {
    "duration": 13,
    "start_time": "2023-06-20T23:08:03.029Z"
   },
   {
    "duration": 31,
    "start_time": "2023-06-20T23:08:03.044Z"
   },
   {
    "duration": 14,
    "start_time": "2023-06-20T23:08:03.083Z"
   },
   {
    "duration": 8,
    "start_time": "2023-06-20T23:08:03.100Z"
   },
   {
    "duration": 6,
    "start_time": "2023-06-20T23:08:03.110Z"
   },
   {
    "duration": 10,
    "start_time": "2023-06-20T23:08:03.118Z"
   },
   {
    "duration": 13,
    "start_time": "2023-06-20T23:08:03.129Z"
   },
   {
    "duration": 8,
    "start_time": "2023-06-20T23:08:03.144Z"
   },
   {
    "duration": 26,
    "start_time": "2023-06-20T23:08:03.154Z"
   },
   {
    "duration": 6,
    "start_time": "2023-06-20T23:08:03.181Z"
   },
   {
    "duration": 24,
    "start_time": "2023-06-20T23:08:03.188Z"
   },
   {
    "duration": 14,
    "start_time": "2023-06-20T23:08:03.214Z"
   },
   {
    "duration": 28,
    "start_time": "2023-06-20T23:08:03.229Z"
   },
   {
    "duration": 6,
    "start_time": "2023-06-20T23:08:03.259Z"
   },
   {
    "duration": 10,
    "start_time": "2023-06-20T23:08:03.271Z"
   },
   {
    "duration": 9,
    "start_time": "2023-06-20T23:08:03.282Z"
   },
   {
    "duration": 32,
    "start_time": "2023-06-20T23:08:03.292Z"
   },
   {
    "duration": 18,
    "start_time": "2023-06-20T23:08:03.326Z"
   },
   {
    "duration": 13,
    "start_time": "2023-06-20T23:08:03.345Z"
   },
   {
    "duration": 5,
    "start_time": "2023-06-20T23:08:03.360Z"
   },
   {
    "duration": 8,
    "start_time": "2023-06-20T23:08:03.367Z"
   },
   {
    "duration": 18,
    "start_time": "2023-06-20T23:08:03.377Z"
   },
   {
    "duration": 10,
    "start_time": "2023-06-20T23:08:03.396Z"
   },
   {
    "duration": 3,
    "start_time": "2023-06-20T23:08:03.408Z"
   },
   {
    "duration": 862,
    "start_time": "2023-06-20T23:08:03.413Z"
   },
   {
    "duration": 3,
    "start_time": "2023-06-20T23:08:04.277Z"
   },
   {
    "duration": 30,
    "start_time": "2023-06-20T23:08:04.281Z"
   },
   {
    "duration": 2237,
    "start_time": "2023-06-20T23:08:04.313Z"
   },
   {
    "duration": 12,
    "start_time": "2023-06-20T23:08:06.556Z"
   },
   {
    "duration": 4,
    "start_time": "2023-06-20T23:08:06.570Z"
   },
   {
    "duration": 13,
    "start_time": "2023-06-20T23:08:06.575Z"
   },
   {
    "duration": 14,
    "start_time": "2023-06-20T23:08:06.589Z"
   },
   {
    "duration": 136,
    "start_time": "2023-06-20T23:08:06.605Z"
   },
   {
    "duration": 146,
    "start_time": "2023-06-20T23:08:06.742Z"
   },
   {
    "duration": 8,
    "start_time": "2023-06-20T23:08:06.890Z"
   },
   {
    "duration": 22,
    "start_time": "2023-06-20T23:08:06.900Z"
   },
   {
    "duration": 22,
    "start_time": "2023-06-20T23:08:06.924Z"
   },
   {
    "duration": 7,
    "start_time": "2023-06-20T23:08:06.947Z"
   },
   {
    "duration": 12,
    "start_time": "2023-06-20T23:08:06.956Z"
   },
   {
    "duration": 9,
    "start_time": "2023-06-20T23:08:06.970Z"
   },
   {
    "duration": 15,
    "start_time": "2023-06-20T23:08:06.980Z"
   },
   {
    "duration": 7,
    "start_time": "2023-06-20T23:08:06.996Z"
   },
   {
    "duration": 128,
    "start_time": "2023-06-20T23:08:07.004Z"
   },
   {
    "duration": 8,
    "start_time": "2023-06-20T23:08:07.134Z"
   },
   {
    "duration": 18,
    "start_time": "2023-06-20T23:08:07.144Z"
   },
   {
    "duration": 10,
    "start_time": "2023-06-20T23:08:07.170Z"
   },
   {
    "duration": 5,
    "start_time": "2023-06-20T23:08:07.182Z"
   },
   {
    "duration": 7,
    "start_time": "2023-06-20T23:08:07.188Z"
   },
   {
    "duration": 4,
    "start_time": "2023-06-20T23:08:07.196Z"
   },
   {
    "duration": 16,
    "start_time": "2023-06-20T23:08:07.202Z"
   },
   {
    "duration": 67,
    "start_time": "2023-06-20T23:08:07.219Z"
   },
   {
    "duration": 15,
    "start_time": "2023-06-20T23:08:07.288Z"
   },
   {
    "duration": 46,
    "start_time": "2023-06-20T23:08:07.304Z"
   },
   {
    "duration": 17,
    "start_time": "2023-06-20T23:08:07.352Z"
   },
   {
    "duration": 6,
    "start_time": "2023-06-20T23:08:07.377Z"
   },
   {
    "duration": 36,
    "start_time": "2023-06-20T23:08:07.384Z"
   },
   {
    "duration": 388,
    "start_time": "2023-06-20T23:08:07.422Z"
   },
   {
    "duration": 3,
    "start_time": "2023-06-20T23:08:07.812Z"
   },
   {
    "duration": 28,
    "start_time": "2023-06-20T23:08:07.816Z"
   },
   {
    "duration": 14,
    "start_time": "2023-06-20T23:08:07.845Z"
   },
   {
    "duration": 14,
    "start_time": "2023-06-20T23:08:07.869Z"
   },
   {
    "duration": 2,
    "start_time": "2023-06-20T23:08:07.885Z"
   },
   {
    "duration": 14,
    "start_time": "2023-06-20T23:08:07.889Z"
   },
   {
    "duration": 39,
    "start_time": "2023-06-20T23:08:07.905Z"
   },
   {
    "duration": 3,
    "start_time": "2023-06-20T23:08:07.964Z"
   },
   {
    "duration": 9,
    "start_time": "2023-06-20T23:08:07.968Z"
   },
   {
    "duration": 5,
    "start_time": "2023-06-20T23:08:07.978Z"
   },
   {
    "duration": 14,
    "start_time": "2023-06-20T23:08:07.984Z"
   },
   {
    "duration": 8,
    "start_time": "2023-06-20T23:08:08.003Z"
   },
   {
    "duration": 3,
    "start_time": "2023-06-20T23:08:08.013Z"
   },
   {
    "duration": 4,
    "start_time": "2023-06-20T23:08:08.017Z"
   },
   {
    "duration": 2102,
    "start_time": "2023-06-20T23:08:08.022Z"
   },
   {
    "duration": 256744,
    "start_time": "2023-06-20T23:08:10.125Z"
   },
   {
    "duration": 146,
    "start_time": "2023-06-20T23:12:26.871Z"
   },
   {
    "duration": 22964,
    "start_time": "2023-06-20T23:12:27.019Z"
   },
   {
    "duration": 225,
    "start_time": "2023-06-20T23:12:49.985Z"
   },
   {
    "duration": 6,
    "start_time": "2023-06-20T23:12:50.211Z"
   },
   {
    "duration": 51,
    "start_time": "2023-06-20T23:12:50.218Z"
   },
   {
    "duration": 10,
    "start_time": "2023-06-20T23:12:50.271Z"
   },
   {
    "duration": 6,
    "start_time": "2023-06-20T23:12:50.283Z"
   },
   {
    "duration": 129,
    "start_time": "2023-06-20T23:12:50.290Z"
   },
   {
    "duration": 19,
    "start_time": "2023-06-20T23:12:50.420Z"
   },
   {
    "duration": 3,
    "start_time": "2023-06-20T23:12:50.441Z"
   },
   {
    "duration": 10,
    "start_time": "2023-06-20T23:12:50.457Z"
   },
   {
    "duration": 6,
    "start_time": "2023-06-20T23:12:50.469Z"
   },
   {
    "duration": 19,
    "start_time": "2023-06-20T23:12:50.476Z"
   },
   {
    "duration": 13,
    "start_time": "2023-06-20T23:12:50.497Z"
   },
   {
    "duration": 9,
    "start_time": "2023-06-20T23:12:50.511Z"
   },
   {
    "duration": 195,
    "start_time": "2023-06-20T23:12:50.521Z"
   },
   {
    "duration": 152,
    "start_time": "2023-06-20T23:13:15.355Z"
   },
   {
    "duration": 8,
    "start_time": "2023-06-20T23:13:17.208Z"
   },
   {
    "duration": 5,
    "start_time": "2023-06-20T23:13:18.269Z"
   },
   {
    "duration": 29564,
    "start_time": "2023-06-20T23:13:30.233Z"
   },
   {
    "duration": 166,
    "start_time": "2023-06-20T23:14:04.611Z"
   },
   {
    "duration": 25011,
    "start_time": "2023-06-20T23:14:09.778Z"
   },
   {
    "duration": 148,
    "start_time": "2023-06-20T23:14:38.457Z"
   },
   {
    "duration": 73848,
    "start_time": "2023-06-20T23:14:41.832Z"
   },
   {
    "duration": 14142,
    "start_time": "2023-06-20T23:16:49.866Z"
   },
   {
    "duration": 6,
    "start_time": "2023-06-20T23:17:14.823Z"
   },
   {
    "duration": 5,
    "start_time": "2023-06-20T23:17:16.414Z"
   },
   {
    "duration": 13279,
    "start_time": "2023-06-20T23:18:04.736Z"
   },
   {
    "duration": 3,
    "start_time": "2023-06-20T23:18:18.017Z"
   },
   {
    "duration": 5,
    "start_time": "2023-06-20T23:18:18.021Z"
   },
   {
    "duration": 5,
    "start_time": "2023-06-20T23:18:18.028Z"
   },
   {
    "duration": 5,
    "start_time": "2023-06-20T23:18:18.034Z"
   },
   {
    "duration": 6,
    "start_time": "2023-06-20T23:18:18.040Z"
   },
   {
    "duration": 34,
    "start_time": "2023-06-20T23:18:18.047Z"
   },
   {
    "duration": 7,
    "start_time": "2023-06-20T23:18:18.083Z"
   },
   {
    "duration": 11,
    "start_time": "2023-06-20T23:18:18.092Z"
   },
   {
    "duration": 6,
    "start_time": "2023-06-20T23:18:18.105Z"
   },
   {
    "duration": 6,
    "start_time": "2023-06-20T23:18:18.113Z"
   },
   {
    "duration": 9,
    "start_time": "2023-06-20T23:18:18.121Z"
   },
   {
    "duration": 8,
    "start_time": "2023-06-20T23:18:18.131Z"
   },
   {
    "duration": 6,
    "start_time": "2023-06-20T23:18:18.140Z"
   },
   {
    "duration": 23,
    "start_time": "2023-06-20T23:18:18.148Z"
   },
   {
    "duration": 6,
    "start_time": "2023-06-20T23:18:18.172Z"
   },
   {
    "duration": 6,
    "start_time": "2023-06-20T23:18:18.180Z"
   },
   {
    "duration": 11,
    "start_time": "2023-06-20T23:18:18.188Z"
   },
   {
    "duration": 13,
    "start_time": "2023-06-20T23:18:18.201Z"
   },
   {
    "duration": 11,
    "start_time": "2023-06-20T23:18:18.215Z"
   },
   {
    "duration": 8,
    "start_time": "2023-06-20T23:18:18.227Z"
   },
   {
    "duration": 13,
    "start_time": "2023-06-20T23:18:18.236Z"
   },
   {
    "duration": 10,
    "start_time": "2023-06-20T23:18:18.251Z"
   },
   {
    "duration": 27,
    "start_time": "2023-06-20T23:18:18.263Z"
   },
   {
    "duration": 13,
    "start_time": "2023-06-20T23:18:18.292Z"
   },
   {
    "duration": 11,
    "start_time": "2023-06-20T23:18:18.306Z"
   },
   {
    "duration": 5,
    "start_time": "2023-06-20T23:18:18.319Z"
   },
   {
    "duration": 15,
    "start_time": "2023-06-20T23:18:18.327Z"
   },
   {
    "duration": 28,
    "start_time": "2023-06-20T23:18:18.344Z"
   },
   {
    "duration": 10,
    "start_time": "2023-06-20T23:18:18.374Z"
   },
   {
    "duration": 5,
    "start_time": "2023-06-20T23:18:18.386Z"
   },
   {
    "duration": 6,
    "start_time": "2023-06-20T23:18:18.392Z"
   },
   {
    "duration": 7,
    "start_time": "2023-06-20T23:18:18.400Z"
   },
   {
    "duration": 10,
    "start_time": "2023-06-20T23:18:18.409Z"
   },
   {
    "duration": 50,
    "start_time": "2023-06-20T23:18:18.420Z"
   },
   {
    "duration": 12,
    "start_time": "2023-06-20T23:18:18.472Z"
   },
   {
    "duration": 13,
    "start_time": "2023-06-20T23:18:18.486Z"
   },
   {
    "duration": 900,
    "start_time": "2023-06-20T23:18:18.501Z"
   },
   {
    "duration": 3,
    "start_time": "2023-06-20T23:18:21.332Z"
   },
   {
    "duration": 23,
    "start_time": "2023-06-20T23:18:22.018Z"
   },
   {
    "duration": 2376,
    "start_time": "2023-06-20T23:18:22.192Z"
   },
   {
    "duration": 4,
    "start_time": "2023-06-20T23:18:24.571Z"
   },
   {
    "duration": 14,
    "start_time": "2023-06-20T23:18:24.576Z"
   },
   {
    "duration": 10,
    "start_time": "2023-06-20T23:18:26.525Z"
   },
   {
    "duration": 8,
    "start_time": "2023-06-20T23:18:27.444Z"
   },
   {
    "duration": 139,
    "start_time": "2023-06-20T23:18:27.642Z"
   },
   {
    "duration": 162,
    "start_time": "2023-06-20T23:18:27.824Z"
   },
   {
    "duration": 10,
    "start_time": "2023-06-20T23:18:28.370Z"
   },
   {
    "duration": 12,
    "start_time": "2023-06-20T23:18:28.780Z"
   },
   {
    "duration": 5,
    "start_time": "2023-06-20T23:18:28.986Z"
   },
   {
    "duration": 4,
    "start_time": "2023-06-20T23:18:29.393Z"
   },
   {
    "duration": 6,
    "start_time": "2023-06-20T23:18:29.717Z"
   },
   {
    "duration": 5,
    "start_time": "2023-06-20T23:18:29.929Z"
   },
   {
    "duration": 10,
    "start_time": "2023-06-20T23:18:32.270Z"
   },
   {
    "duration": 8,
    "start_time": "2023-06-20T23:18:32.808Z"
   },
   {
    "duration": 130,
    "start_time": "2023-06-20T23:18:39.389Z"
   },
   {
    "duration": 9,
    "start_time": "2023-06-20T23:18:40.408Z"
   },
   {
    "duration": 4,
    "start_time": "2023-06-20T23:18:40.588Z"
   },
   {
    "duration": 8,
    "start_time": "2023-06-20T23:18:41.400Z"
   },
   {
    "duration": 4,
    "start_time": "2023-06-20T23:18:44.274Z"
   },
   {
    "duration": 6,
    "start_time": "2023-06-20T23:18:44.510Z"
   },
   {
    "duration": 4,
    "start_time": "2023-06-20T23:18:55.241Z"
   },
   {
    "duration": 11,
    "start_time": "2023-06-20T23:19:01.587Z"
   },
   {
    "duration": 49,
    "start_time": "2023-06-20T23:19:41.803Z"
   },
   {
    "duration": 15,
    "start_time": "2023-06-20T23:19:42.818Z"
   },
   {
    "duration": 21,
    "start_time": "2023-06-20T23:19:45.441Z"
   },
   {
    "duration": 12,
    "start_time": "2023-06-20T23:19:57.877Z"
   },
   {
    "duration": 6,
    "start_time": "2023-06-20T23:19:59.131Z"
   },
   {
    "duration": 34,
    "start_time": "2023-06-20T23:20:01.091Z"
   },
   {
    "duration": 367,
    "start_time": "2023-06-20T23:20:07.051Z"
   },
   {
    "duration": 3,
    "start_time": "2023-06-20T23:20:24.974Z"
   },
   {
    "duration": 18,
    "start_time": "2023-06-20T23:20:57.576Z"
   },
   {
    "duration": 5,
    "start_time": "2023-06-20T23:20:58.670Z"
   },
   {
    "duration": 14,
    "start_time": "2023-06-20T23:20:59.010Z"
   },
   {
    "duration": 3,
    "start_time": "2023-06-20T23:21:06.748Z"
   },
   {
    "duration": 13,
    "start_time": "2023-06-20T23:21:25.924Z"
   },
   {
    "duration": 43,
    "start_time": "2023-06-20T23:21:31.312Z"
   },
   {
    "duration": 3,
    "start_time": "2023-06-20T23:21:31.711Z"
   },
   {
    "duration": 8,
    "start_time": "2023-06-20T23:21:32.905Z"
   },
   {
    "duration": 3,
    "start_time": "2023-06-20T23:21:33.170Z"
   },
   {
    "duration": 17,
    "start_time": "2023-06-20T23:21:33.493Z"
   },
   {
    "duration": 9,
    "start_time": "2023-06-20T23:21:36.574Z"
   },
   {
    "duration": 4,
    "start_time": "2023-06-20T23:21:36.938Z"
   },
   {
    "duration": 3,
    "start_time": "2023-06-20T23:21:37.432Z"
   },
   {
    "duration": 267,
    "start_time": "2023-06-20T23:21:52.708Z"
   },
   {
    "duration": 6749,
    "start_time": "2023-06-20T23:22:04.718Z"
   },
   {
    "duration": 310,
    "start_time": "2023-06-20T23:22:32.883Z"
   },
   {
    "duration": 18834,
    "start_time": "2023-06-20T23:22:34.840Z"
   },
   {
    "duration": 137,
    "start_time": "2023-06-20T23:22:59.078Z"
   },
   {
    "duration": 7,
    "start_time": "2023-06-20T23:23:01.195Z"
   },
   {
    "duration": 5,
    "start_time": "2023-06-20T23:23:03.510Z"
   },
   {
    "duration": 28,
    "start_time": "2023-06-20T23:24:14.851Z"
   },
   {
    "duration": 2731,
    "start_time": "2023-06-20T23:24:15.092Z"
   },
   {
    "duration": 29,
    "start_time": "2023-06-20T23:24:21.740Z"
   },
   {
    "duration": 2834,
    "start_time": "2023-06-20T23:24:23.043Z"
   },
   {
    "duration": 31,
    "start_time": "2023-06-20T23:25:22.198Z"
   },
   {
    "duration": 12871,
    "start_time": "2023-06-20T23:25:26.519Z"
   },
   {
    "duration": 139,
    "start_time": "2023-06-20T23:25:43.247Z"
   },
   {
    "duration": 6,
    "start_time": "2023-06-20T23:25:45.436Z"
   },
   {
    "duration": 4,
    "start_time": "2023-06-20T23:25:46.948Z"
   },
   {
    "duration": 11294,
    "start_time": "2023-06-20T23:25:54.296Z"
   },
   {
    "duration": 102,
    "start_time": "2023-06-20T23:26:08.913Z"
   },
   {
    "duration": 7,
    "start_time": "2023-06-20T23:26:11.349Z"
   },
   {
    "duration": 6,
    "start_time": "2023-06-20T23:26:12.745Z"
   },
   {
    "duration": 11407,
    "start_time": "2023-06-20T23:26:18.177Z"
   },
   {
    "duration": 81,
    "start_time": "2023-06-20T23:26:32.550Z"
   },
   {
    "duration": 7,
    "start_time": "2023-06-20T23:26:34.365Z"
   },
   {
    "duration": 5,
    "start_time": "2023-06-20T23:26:34.566Z"
   },
   {
    "duration": 11376,
    "start_time": "2023-06-20T23:26:38.710Z"
   },
   {
    "duration": 97,
    "start_time": "2023-06-20T23:26:52.866Z"
   },
   {
    "duration": 7,
    "start_time": "2023-06-20T23:26:54.469Z"
   },
   {
    "duration": 5,
    "start_time": "2023-06-20T23:26:55.075Z"
   },
   {
    "duration": 32,
    "start_time": "2023-06-20T23:27:03.248Z"
   },
   {
    "duration": 11756,
    "start_time": "2023-06-20T23:27:04.928Z"
   },
   {
    "duration": 130,
    "start_time": "2023-06-20T23:27:22.434Z"
   },
   {
    "duration": 6,
    "start_time": "2023-06-20T23:27:23.978Z"
   },
   {
    "duration": 5,
    "start_time": "2023-06-20T23:27:25.803Z"
   },
   {
    "duration": 11204,
    "start_time": "2023-06-20T23:27:28.063Z"
   },
   {
    "duration": 83,
    "start_time": "2023-06-20T23:27:41.839Z"
   },
   {
    "duration": 8,
    "start_time": "2023-06-20T23:27:43.128Z"
   },
   {
    "duration": 5,
    "start_time": "2023-06-20T23:27:43.356Z"
   },
   {
    "duration": 11083,
    "start_time": "2023-06-20T23:27:54.095Z"
   },
   {
    "duration": 93,
    "start_time": "2023-06-20T23:28:08.076Z"
   },
   {
    "duration": 4,
    "start_time": "2023-06-20T23:28:09.352Z"
   },
   {
    "duration": 27,
    "start_time": "2023-06-20T23:28:20.995Z"
   },
   {
    "duration": 5822,
    "start_time": "2023-06-20T23:28:23.972Z"
   },
   {
    "duration": 131,
    "start_time": "2023-06-20T23:28:32.632Z"
   },
   {
    "duration": 5,
    "start_time": "2023-06-20T23:28:34.422Z"
   },
   {
    "duration": 2729,
    "start_time": "2023-06-20T23:28:39.534Z"
   },
   {
    "duration": 83,
    "start_time": "2023-06-20T23:28:43.741Z"
   },
   {
    "duration": 28,
    "start_time": "2023-06-20T23:28:48.149Z"
   },
   {
    "duration": 3440,
    "start_time": "2023-06-20T23:28:50.745Z"
   },
   {
    "duration": 111,
    "start_time": "2023-06-20T23:28:56.167Z"
   },
   {
    "duration": 5,
    "start_time": "2023-06-20T23:28:57.402Z"
   },
   {
    "duration": 2778,
    "start_time": "2023-06-20T23:29:01.082Z"
   },
   {
    "duration": 82,
    "start_time": "2023-06-20T23:29:05.785Z"
   },
   {
    "duration": 27,
    "start_time": "2023-06-20T23:29:14.133Z"
   },
   {
    "duration": 3266,
    "start_time": "2023-06-20T23:29:20.718Z"
   },
   {
    "duration": 182,
    "start_time": "2023-06-20T23:29:23.985Z"
   },
   {
    "duration": 595,
    "start_time": "2023-06-20T23:29:28.775Z"
   },
   {
    "duration": 122,
    "start_time": "2023-06-20T23:29:31.151Z"
   },
   {
    "duration": 549,
    "start_time": "2023-06-20T23:29:33.938Z"
   },
   {
    "duration": 84,
    "start_time": "2023-06-20T23:29:35.801Z"
   },
   {
    "duration": 563,
    "start_time": "2023-06-20T23:29:38.001Z"
   },
   {
    "duration": 83,
    "start_time": "2023-06-20T23:29:40.174Z"
   },
   {
    "duration": 600,
    "start_time": "2023-06-20T23:29:51.160Z"
   },
   {
    "duration": 109,
    "start_time": "2023-06-20T23:29:53.252Z"
   },
   {
    "duration": 527,
    "start_time": "2023-06-20T23:29:55.768Z"
   },
   {
    "duration": 85,
    "start_time": "2023-06-20T23:29:57.894Z"
   },
   {
    "duration": 37,
    "start_time": "2023-06-20T23:30:06.931Z"
   },
   {
    "duration": 3959,
    "start_time": "2023-06-20T23:30:07.817Z"
   },
   {
    "duration": 111,
    "start_time": "2023-06-20T23:30:13.790Z"
   },
   {
    "duration": 27,
    "start_time": "2023-06-20T23:30:21.774Z"
   },
   {
    "duration": 2195,
    "start_time": "2023-06-20T23:30:22.078Z"
   },
   {
    "duration": 134,
    "start_time": "2023-06-20T23:30:24.274Z"
   },
   {
    "duration": 28,
    "start_time": "2023-06-20T23:30:26.745Z"
   },
   {
    "duration": 2733,
    "start_time": "2023-06-20T23:30:29.231Z"
   },
   {
    "duration": 125,
    "start_time": "2023-06-20T23:30:31.966Z"
   },
   {
    "duration": 26,
    "start_time": "2023-06-20T23:30:36.487Z"
   },
   {
    "duration": 3291,
    "start_time": "2023-06-20T23:30:36.783Z"
   },
   {
    "duration": 143,
    "start_time": "2023-06-20T23:30:40.076Z"
   },
   {
    "duration": 34,
    "start_time": "2023-06-20T23:30:43.869Z"
   },
   {
    "duration": 3753,
    "start_time": "2023-06-20T23:30:46.120Z"
   },
   {
    "duration": 130,
    "start_time": "2023-06-20T23:30:49.875Z"
   },
   {
    "duration": 28,
    "start_time": "2023-06-20T23:30:54.673Z"
   },
   {
    "duration": 4339,
    "start_time": "2023-06-20T23:30:54.848Z"
   },
   {
    "duration": 190,
    "start_time": "2023-06-20T23:30:59.189Z"
   },
   {
    "duration": 28,
    "start_time": "2023-06-20T23:31:05.472Z"
   },
   {
    "duration": 2133,
    "start_time": "2023-06-20T23:31:05.649Z"
   },
   {
    "duration": 145,
    "start_time": "2023-06-20T23:31:07.783Z"
   },
   {
    "duration": 38,
    "start_time": "2023-06-20T23:31:19.334Z"
   },
   {
    "duration": 4748,
    "start_time": "2023-06-20T23:31:20.110Z"
   },
   {
    "duration": 187,
    "start_time": "2023-06-20T23:31:26.686Z"
   },
   {
    "duration": 4,
    "start_time": "2023-06-20T23:31:28.998Z"
   },
   {
    "duration": 327,
    "start_time": "2023-06-20T23:33:25.216Z"
   },
   {
    "duration": 18,
    "start_time": "2023-06-20T23:33:34.855Z"
   },
   {
    "duration": 11,
    "start_time": "2023-06-20T23:33:39.688Z"
   },
   {
    "duration": 4,
    "start_time": "2023-06-20T23:33:58.940Z"
   },
   {
    "duration": 10,
    "start_time": "2023-06-20T23:34:01.285Z"
   },
   {
    "duration": 32,
    "start_time": "2023-06-20T23:34:09.890Z"
   },
   {
    "duration": 3,
    "start_time": "2023-06-20T23:34:10.090Z"
   },
   {
    "duration": 8,
    "start_time": "2023-06-20T23:34:10.261Z"
   },
   {
    "duration": 3,
    "start_time": "2023-06-20T23:34:10.409Z"
   },
   {
    "duration": 15,
    "start_time": "2023-06-20T23:34:10.773Z"
   },
   {
    "duration": 10,
    "start_time": "2023-06-20T23:34:14.550Z"
   },
   {
    "duration": 4,
    "start_time": "2023-06-20T23:34:14.718Z"
   },
   {
    "duration": 2,
    "start_time": "2023-06-20T23:34:15.095Z"
   },
   {
    "duration": 28,
    "start_time": "2023-06-20T23:34:24.982Z"
   },
   {
    "duration": 1662,
    "start_time": "2023-06-20T23:34:25.803Z"
   },
   {
    "duration": 111,
    "start_time": "2023-06-20T23:34:29.461Z"
   },
   {
    "duration": 1151,
    "start_time": "2023-06-20T23:34:32.919Z"
   },
   {
    "duration": 75,
    "start_time": "2023-06-20T23:34:35.579Z"
   },
   {
    "duration": 1132,
    "start_time": "2023-06-20T23:34:37.644Z"
   },
   {
    "duration": 76,
    "start_time": "2023-06-20T23:34:40.212Z"
   },
   {
    "duration": 1112,
    "start_time": "2023-06-20T23:34:42.678Z"
   },
   {
    "duration": 72,
    "start_time": "2023-06-20T23:34:45.510Z"
   },
   {
    "duration": 1267,
    "start_time": "2023-06-20T23:34:51.511Z"
   },
   {
    "duration": 28,
    "start_time": "2023-06-20T23:34:55.079Z"
   },
   {
    "duration": 30,
    "start_time": "2023-06-20T23:34:58.067Z"
   },
   {
    "duration": 1668,
    "start_time": "2023-06-20T23:34:58.889Z"
   },
   {
    "duration": 92,
    "start_time": "2023-06-20T23:35:03.441Z"
   },
   {
    "duration": 4,
    "start_time": "2023-06-20T23:35:04.372Z"
   },
   {
    "duration": 26,
    "start_time": "2023-06-20T23:35:09.679Z"
   },
   {
    "duration": 1948,
    "start_time": "2023-06-20T23:35:10.024Z"
   },
   {
    "duration": 107,
    "start_time": "2023-06-20T23:35:14.360Z"
   },
   {
    "duration": 28,
    "start_time": "2023-06-20T23:35:19.037Z"
   },
   {
    "duration": 2301,
    "start_time": "2023-06-20T23:35:19.194Z"
   },
   {
    "duration": 137,
    "start_time": "2023-06-20T23:35:21.497Z"
   },
   {
    "duration": 29,
    "start_time": "2023-06-20T23:35:30.322Z"
   },
   {
    "duration": 2717,
    "start_time": "2023-06-20T23:35:30.476Z"
   },
   {
    "duration": 161,
    "start_time": "2023-06-20T23:35:33.195Z"
   },
   {
    "duration": 28,
    "start_time": "2023-06-20T23:35:46.397Z"
   },
   {
    "duration": 2668,
    "start_time": "2023-06-20T23:35:46.617Z"
   },
   {
    "duration": 92,
    "start_time": "2023-06-20T23:35:51.422Z"
   },
   {
    "duration": 68,
    "start_time": "2023-06-20T23:36:05.493Z"
   },
   {
    "duration": 14,
    "start_time": "2023-06-20T23:36:07.315Z"
   },
   {
    "duration": 16,
    "start_time": "2023-06-20T23:36:08.466Z"
   },
   {
    "duration": 17,
    "start_time": "2023-06-20T23:36:11.168Z"
   },
   {
    "duration": 10,
    "start_time": "2023-06-20T23:36:15.664Z"
   },
   {
    "duration": 6,
    "start_time": "2023-06-20T23:36:16.464Z"
   },
   {
    "duration": 30,
    "start_time": "2023-06-20T23:36:18.732Z"
   },
   {
    "duration": 396,
    "start_time": "2023-06-20T23:36:22.472Z"
   },
   {
    "duration": 3,
    "start_time": "2023-06-20T23:36:28.208Z"
   },
   {
    "duration": 19,
    "start_time": "2023-06-20T23:36:28.383Z"
   },
   {
    "duration": 4,
    "start_time": "2023-06-20T23:36:31.435Z"
   },
   {
    "duration": 12,
    "start_time": "2023-06-20T23:36:31.613Z"
   },
   {
    "duration": 3,
    "start_time": "2023-06-20T23:36:32.590Z"
   },
   {
    "duration": 12,
    "start_time": "2023-06-20T23:36:32.741Z"
   },
   {
    "duration": 28,
    "start_time": "2023-06-20T23:36:33.405Z"
   },
   {
    "duration": 2,
    "start_time": "2023-06-20T23:36:33.574Z"
   },
   {
    "duration": 7,
    "start_time": "2023-06-20T23:36:33.738Z"
   },
   {
    "duration": 3,
    "start_time": "2023-06-20T23:36:33.893Z"
   },
   {
    "duration": 14,
    "start_time": "2023-06-20T23:36:34.054Z"
   },
   {
    "duration": 10,
    "start_time": "2023-06-20T23:36:34.701Z"
   },
   {
    "duration": 3,
    "start_time": "2023-06-20T23:36:34.860Z"
   },
   {
    "duration": 3,
    "start_time": "2023-06-20T23:36:35.024Z"
   },
   {
    "duration": 224,
    "start_time": "2023-06-20T23:36:35.550Z"
   },
   {
    "duration": 5785,
    "start_time": "2023-06-20T23:36:36.788Z"
   },
   {
    "duration": 107,
    "start_time": "2023-06-20T23:36:42.575Z"
   },
   {
    "duration": 2702,
    "start_time": "2023-06-20T23:36:42.684Z"
   },
   {
    "duration": 132,
    "start_time": "2023-06-20T23:36:45.388Z"
   },
   {
    "duration": 5,
    "start_time": "2023-06-20T23:36:45.522Z"
   },
   {
    "duration": 33,
    "start_time": "2023-06-20T23:36:45.528Z"
   },
   {
    "duration": 27,
    "start_time": "2023-06-20T23:36:56.719Z"
   },
   {
    "duration": 4927,
    "start_time": "2023-06-20T23:36:59.365Z"
   },
   {
    "duration": 97,
    "start_time": "2023-06-20T23:37:06.997Z"
   },
   {
    "duration": 55,
    "start_time": "2023-06-20T23:37:16.657Z"
   },
   {
    "duration": 14,
    "start_time": "2023-06-20T23:37:16.829Z"
   },
   {
    "duration": 30,
    "start_time": "2023-06-20T23:37:16.988Z"
   },
   {
    "duration": 12,
    "start_time": "2023-06-20T23:37:17.768Z"
   },
   {
    "duration": 6,
    "start_time": "2023-06-20T23:37:17.903Z"
   },
   {
    "duration": 35,
    "start_time": "2023-06-20T23:37:18.067Z"
   },
   {
    "duration": 371,
    "start_time": "2023-06-20T23:37:18.401Z"
   },
   {
    "duration": 4,
    "start_time": "2023-06-20T23:37:19.230Z"
   },
   {
    "duration": 21,
    "start_time": "2023-06-20T23:37:19.399Z"
   },
   {
    "duration": 5,
    "start_time": "2023-06-20T23:37:19.743Z"
   },
   {
    "duration": 15,
    "start_time": "2023-06-20T23:37:19.941Z"
   },
   {
    "duration": 3,
    "start_time": "2023-06-20T23:37:21.003Z"
   },
   {
    "duration": 21,
    "start_time": "2023-06-20T23:37:21.174Z"
   },
   {
    "duration": 47,
    "start_time": "2023-06-20T23:37:21.883Z"
   },
   {
    "duration": 2,
    "start_time": "2023-06-20T23:37:22.085Z"
   },
   {
    "duration": 8,
    "start_time": "2023-06-20T23:37:22.249Z"
   },
   {
    "duration": 3,
    "start_time": "2023-06-20T23:37:22.698Z"
   },
   {
    "duration": 17,
    "start_time": "2023-06-20T23:37:22.897Z"
   },
   {
    "duration": 11,
    "start_time": "2023-06-20T23:37:23.698Z"
   },
   {
    "duration": 3,
    "start_time": "2023-06-20T23:37:23.878Z"
   },
   {
    "duration": 3,
    "start_time": "2023-06-20T23:37:24.086Z"
   },
   {
    "duration": 284,
    "start_time": "2023-06-20T23:37:24.624Z"
   },
   {
    "duration": 86391,
    "start_time": "2023-06-20T23:37:25.867Z"
   },
   {
    "duration": 32,
    "start_time": "2023-06-20T23:38:52.260Z"
   },
   {
    "duration": 6593,
    "start_time": "2023-06-20T23:38:52.294Z"
   },
   {
    "duration": 171,
    "start_time": "2023-06-20T23:38:58.890Z"
   },
   {
    "duration": 5,
    "start_time": "2023-06-20T23:38:59.063Z"
   },
   {
    "duration": 9,
    "start_time": "2023-06-20T23:38:59.069Z"
   },
   {
    "duration": 9,
    "start_time": "2023-06-20T23:38:59.080Z"
   },
   {
    "duration": 10,
    "start_time": "2023-06-20T23:39:39.439Z"
   },
   {
    "duration": 46,
    "start_time": "2023-06-20T23:39:40.149Z"
   },
   {
    "duration": 2,
    "start_time": "2023-06-20T23:39:40.314Z"
   },
   {
    "duration": 8,
    "start_time": "2023-06-20T23:39:40.480Z"
   },
   {
    "duration": 3,
    "start_time": "2023-06-20T23:39:41.391Z"
   },
   {
    "duration": 12,
    "start_time": "2023-06-20T23:39:41.570Z"
   },
   {
    "duration": 10,
    "start_time": "2023-06-20T23:39:45.383Z"
   },
   {
    "duration": 6,
    "start_time": "2023-06-20T23:39:45.395Z"
   },
   {
    "duration": 40,
    "start_time": "2023-06-20T23:39:45.402Z"
   },
   {
    "duration": 28,
    "start_time": "2023-06-20T23:39:49.798Z"
   },
   {
    "duration": 8260,
    "start_time": "2023-06-20T23:39:50.615Z"
   },
   {
    "duration": 90,
    "start_time": "2023-06-20T23:40:02.441Z"
   },
   {
    "duration": 5,
    "start_time": "2023-06-20T23:40:03.713Z"
   },
   {
    "duration": 25,
    "start_time": "2023-06-20T23:40:14.393Z"
   },
   {
    "duration": 9579,
    "start_time": "2023-06-20T23:40:14.797Z"
   },
   {
    "duration": 85,
    "start_time": "2023-06-20T23:40:27.971Z"
   },
   {
    "duration": 5,
    "start_time": "2023-06-20T23:40:29.049Z"
   },
   {
    "duration": 38,
    "start_time": "2023-06-20T23:40:43.182Z"
   },
   {
    "duration": 10059,
    "start_time": "2023-06-20T23:40:43.441Z"
   },
   {
    "duration": 85,
    "start_time": "2023-06-20T23:40:57.671Z"
   },
   {
    "duration": 5,
    "start_time": "2023-06-20T23:40:59.440Z"
   },
   {
    "duration": 40,
    "start_time": "2023-06-20T23:41:16.783Z"
   },
   {
    "duration": 12475,
    "start_time": "2023-06-20T23:41:17.101Z"
   },
   {
    "duration": 109,
    "start_time": "2023-06-20T23:41:29.578Z"
   },
   {
    "duration": 40,
    "start_time": "2023-06-20T23:41:39.907Z"
   },
   {
    "duration": 12703,
    "start_time": "2023-06-20T23:41:40.100Z"
   },
   {
    "duration": 163,
    "start_time": "2023-06-20T23:41:52.805Z"
   },
   {
    "duration": 9,
    "start_time": "2023-06-20T23:42:14.749Z"
   },
   {
    "duration": 40,
    "start_time": "2023-06-20T23:42:15.707Z"
   },
   {
    "duration": 3,
    "start_time": "2023-06-20T23:42:15.789Z"
   },
   {
    "duration": 9,
    "start_time": "2023-06-20T23:42:15.872Z"
   },
   {
    "duration": 3,
    "start_time": "2023-06-20T23:42:15.959Z"
   },
   {
    "duration": 16,
    "start_time": "2023-06-20T23:42:16.040Z"
   },
   {
    "duration": 10,
    "start_time": "2023-06-20T23:42:16.420Z"
   },
   {
    "duration": 3,
    "start_time": "2023-06-20T23:42:16.596Z"
   },
   {
    "duration": 3,
    "start_time": "2023-06-20T23:42:16.856Z"
   },
   {
    "duration": 38,
    "start_time": "2023-06-20T23:42:24.728Z"
   },
   {
    "duration": 10488,
    "start_time": "2023-06-20T23:42:25.101Z"
   },
   {
    "duration": 149,
    "start_time": "2023-06-20T23:42:38.718Z"
   },
   {
    "duration": 5,
    "start_time": "2023-06-20T23:42:40.425Z"
   },
   {
    "duration": 51,
    "start_time": "2023-06-20T23:42:50.824Z"
   },
   {
    "duration": 12859,
    "start_time": "2023-06-20T23:42:51.303Z"
   },
   {
    "duration": 140,
    "start_time": "2023-06-20T23:43:07.843Z"
   },
   {
    "duration": 5,
    "start_time": "2023-06-20T23:43:09.060Z"
   },
   {
    "duration": 60,
    "start_time": "2023-06-20T23:43:15.096Z"
   },
   {
    "duration": 14682,
    "start_time": "2023-06-20T23:43:15.303Z"
   },
   {
    "duration": 195,
    "start_time": "2023-06-20T23:43:29.987Z"
   },
   {
    "duration": 93,
    "start_time": "2023-06-20T23:43:34.786Z"
   },
   {
    "duration": 5,
    "start_time": "2023-06-20T23:43:41.808Z"
   },
   {
    "duration": 60,
    "start_time": "2023-06-20T23:44:05.171Z"
   },
   {
    "duration": 19693,
    "start_time": "2023-06-20T23:44:05.397Z"
   },
   {
    "duration": 183,
    "start_time": "2023-06-20T23:44:28.710Z"
   },
   {
    "duration": 5,
    "start_time": "2023-06-20T23:44:30.584Z"
   },
   {
    "duration": 65,
    "start_time": "2023-06-20T23:44:39.561Z"
   },
   {
    "duration": 36839,
    "start_time": "2023-06-20T23:44:39.745Z"
   },
   {
    "duration": 304,
    "start_time": "2023-06-20T23:45:16.586Z"
   },
   {
    "duration": 62,
    "start_time": "2023-06-20T23:45:30.548Z"
   },
   {
    "duration": 41893,
    "start_time": "2023-06-20T23:45:30.877Z"
   },
   {
    "duration": 214,
    "start_time": "2023-06-20T23:47:26.589Z"
   },
   {
    "duration": 64,
    "start_time": "2023-06-20T23:47:36.918Z"
   },
   {
    "duration": 12256,
    "start_time": "2023-06-20T23:47:37.306Z"
   },
   {
    "duration": 240,
    "start_time": "2023-06-20T23:47:53.060Z"
   },
   {
    "duration": 5,
    "start_time": "2023-06-20T23:47:55.376Z"
   },
   {
    "duration": 69,
    "start_time": "2023-06-20T23:48:14.107Z"
   },
   {
    "duration": 39877,
    "start_time": "2023-06-20T23:48:15.998Z"
   },
   {
    "duration": 569,
    "start_time": "2023-06-20T23:49:47.420Z"
   },
   {
    "duration": 69,
    "start_time": "2023-06-20T23:50:00.441Z"
   },
   {
    "duration": 10255,
    "start_time": "2023-06-20T23:50:01.519Z"
   },
   {
    "duration": 625,
    "start_time": "2023-06-20T23:50:14.543Z"
   },
   {
    "duration": 9393,
    "start_time": "2023-06-20T23:50:18.071Z"
   },
   {
    "duration": 626,
    "start_time": "2023-06-20T23:50:30.141Z"
   },
   {
    "duration": 9695,
    "start_time": "2023-06-20T23:50:33.171Z"
   },
   {
    "duration": 626,
    "start_time": "2023-06-20T23:50:44.043Z"
   },
   {
    "duration": 9755,
    "start_time": "2023-06-20T23:50:47.310Z"
   },
   {
    "duration": 551,
    "start_time": "2023-06-20T23:50:58.212Z"
   },
   {
    "duration": 9811,
    "start_time": "2023-06-20T23:51:01.560Z"
   },
   {
    "duration": 485,
    "start_time": "2023-06-20T23:51:14.100Z"
   },
   {
    "duration": 85,
    "start_time": "2023-06-20T23:51:25.072Z"
   },
   {
    "duration": 10073,
    "start_time": "2023-06-20T23:51:27.686Z"
   },
   {
    "duration": 544,
    "start_time": "2023-06-20T23:51:40.633Z"
   },
   {
    "duration": 9636,
    "start_time": "2023-06-20T23:51:44.239Z"
   },
   {
    "duration": 540,
    "start_time": "2023-06-20T23:51:55.033Z"
   },
   {
    "duration": 9353,
    "start_time": "2023-06-20T23:51:58.210Z"
   },
   {
    "duration": 494,
    "start_time": "2023-06-20T23:52:08.787Z"
   },
   {
    "duration": 9225,
    "start_time": "2023-06-20T23:52:11.750Z"
   },
   {
    "duration": 475,
    "start_time": "2023-06-20T23:52:21.898Z"
   },
   {
    "duration": 9435,
    "start_time": "2023-06-20T23:52:25.429Z"
   },
   {
    "duration": 508,
    "start_time": "2023-06-20T23:52:38.167Z"
   },
   {
    "duration": 116,
    "start_time": "2023-06-20T23:52:47.669Z"
   },
   {
    "duration": 23119,
    "start_time": "2023-06-20T23:52:50.140Z"
   },
   {
    "duration": 1036,
    "start_time": "2023-06-20T23:53:18.038Z"
   },
   {
    "duration": 22280,
    "start_time": "2023-06-20T23:53:22.389Z"
   },
   {
    "duration": 1042,
    "start_time": "2023-06-20T23:53:46.042Z"
   },
   {
    "duration": 22761,
    "start_time": "2023-06-20T23:53:50.309Z"
   },
   {
    "duration": 1021,
    "start_time": "2023-06-20T23:54:22.645Z"
   },
   {
    "duration": 22055,
    "start_time": "2023-06-20T23:54:26.814Z"
   },
   {
    "duration": 1060,
    "start_time": "2023-06-20T23:54:52.324Z"
   },
   {
    "duration": 129,
    "start_time": "2023-06-20T23:54:58.333Z"
   },
   {
    "duration": 66358,
    "start_time": "2023-06-20T23:55:01.706Z"
   },
   {
    "duration": 1026,
    "start_time": "2023-06-20T23:56:27.357Z"
   },
   {
    "duration": 102,
    "start_time": "2023-06-20T23:56:42.477Z"
   },
   {
    "duration": 66782,
    "start_time": "2023-06-20T23:56:43.189Z"
   },
   {
    "duration": 1096,
    "start_time": "2023-06-20T23:57:49.973Z"
   },
   {
    "duration": 6,
    "start_time": "2023-06-20T23:58:39.398Z"
   },
   {
    "duration": 102,
    "start_time": "2023-06-20T23:59:12.781Z"
   },
   {
    "duration": 67297,
    "start_time": "2023-06-20T23:59:13.077Z"
   },
   {
    "duration": 122,
    "start_time": "2023-06-21T00:00:30.652Z"
   },
   {
    "duration": 133330,
    "start_time": "2023-06-21T00:00:33.329Z"
   },
   {
    "duration": 1049,
    "start_time": "2023-06-21T00:03:08.228Z"
   },
   {
    "duration": 4,
    "start_time": "2023-06-21T00:03:11.336Z"
   },
   {
    "duration": 125,
    "start_time": "2023-06-21T00:03:41.902Z"
   },
   {
    "duration": 42,
    "start_time": "2023-06-21T00:04:53.429Z"
   },
   {
    "duration": 11106,
    "start_time": "2023-06-21T00:04:53.676Z"
   },
   {
    "duration": 175,
    "start_time": "2023-06-21T00:05:08.416Z"
   },
   {
    "duration": 5,
    "start_time": "2023-06-21T00:05:09.806Z"
   },
   {
    "duration": 122,
    "start_time": "2023-06-21T00:05:53.626Z"
   },
   {
    "duration": 6,
    "start_time": "2023-06-21T00:06:17.972Z"
   },
   {
    "duration": 4,
    "start_time": "2023-06-21T00:07:05.602Z"
   },
   {
    "duration": 5,
    "start_time": "2023-06-21T00:07:18.279Z"
   },
   {
    "duration": 139,
    "start_time": "2023-06-21T00:07:36.440Z"
   },
   {
    "duration": 100,
    "start_time": "2023-06-21T00:07:40.401Z"
   },
   {
    "duration": 21,
    "start_time": "2023-06-21T00:07:44.323Z"
   },
   {
    "duration": 6,
    "start_time": "2023-06-21T00:07:47.870Z"
   },
   {
    "duration": 19,
    "start_time": "2023-06-21T00:08:19.289Z"
   },
   {
    "duration": 6,
    "start_time": "2023-06-21T00:08:29.918Z"
   },
   {
    "duration": 7,
    "start_time": "2023-06-21T00:08:33.854Z"
   },
   {
    "duration": 7,
    "start_time": "2023-06-21T00:08:41.135Z"
   },
   {
    "duration": 6,
    "start_time": "2023-06-21T00:08:43.839Z"
   },
   {
    "duration": 4,
    "start_time": "2023-06-21T00:09:22.857Z"
   },
   {
    "duration": 3,
    "start_time": "2023-06-21T00:09:24.346Z"
   },
   {
    "duration": 19,
    "start_time": "2023-06-21T00:09:29.258Z"
   },
   {
    "duration": 5,
    "start_time": "2023-06-21T00:10:35.134Z"
   },
   {
    "duration": 7,
    "start_time": "2023-06-21T00:10:39.808Z"
   },
   {
    "duration": 118,
    "start_time": "2023-06-21T00:13:00.083Z"
   },
   {
    "duration": 5,
    "start_time": "2023-06-21T00:13:04.268Z"
   },
   {
    "duration": 122,
    "start_time": "2023-06-21T00:13:04.745Z"
   },
   {
    "duration": 3,
    "start_time": "2023-06-21T00:13:12.030Z"
   },
   {
    "duration": 4,
    "start_time": "2023-06-21T00:13:18.626Z"
   },
   {
    "duration": 20,
    "start_time": "2023-06-21T00:14:52.148Z"
   },
   {
    "duration": 101,
    "start_time": "2023-06-21T00:16:22.191Z"
   },
   {
    "duration": 172,
    "start_time": "2023-06-21T00:16:28.798Z"
   },
   {
    "duration": 113,
    "start_time": "2023-06-21T00:16:35.979Z"
   },
   {
    "duration": 140,
    "start_time": "2023-06-21T00:16:56.046Z"
   },
   {
    "duration": 3,
    "start_time": "2023-06-21T00:20:26.322Z"
   },
   {
    "duration": 7,
    "start_time": "2023-06-21T00:20:34.626Z"
   },
   {
    "duration": 3,
    "start_time": "2023-06-21T00:20:50.911Z"
   },
   {
    "duration": 8,
    "start_time": "2023-06-21T00:20:55.520Z"
   },
   {
    "duration": 4,
    "start_time": "2023-06-21T00:21:38.448Z"
   },
   {
    "duration": 8,
    "start_time": "2023-06-21T00:21:39.165Z"
   },
   {
    "duration": 16,
    "start_time": "2023-06-21T00:22:17.758Z"
   },
   {
    "duration": 13,
    "start_time": "2023-06-21T00:22:24.334Z"
   },
   {
    "duration": 7,
    "start_time": "2023-06-21T00:22:41.071Z"
   },
   {
    "duration": 9,
    "start_time": "2023-06-21T00:22:52.435Z"
   },
   {
    "duration": 6,
    "start_time": "2023-06-21T00:23:02.159Z"
   },
   {
    "duration": 18,
    "start_time": "2023-06-21T00:23:12.657Z"
   },
   {
    "duration": 21,
    "start_time": "2023-06-21T00:23:38.212Z"
   },
   {
    "duration": 29,
    "start_time": "2023-06-21T00:25:19.451Z"
   },
   {
    "duration": 18,
    "start_time": "2023-06-21T00:26:05.965Z"
   },
   {
    "duration": 15,
    "start_time": "2023-06-21T00:26:12.020Z"
   },
   {
    "duration": 22,
    "start_time": "2023-06-21T00:26:19.133Z"
   },
   {
    "duration": 23,
    "start_time": "2023-06-21T00:28:04.054Z"
   },
   {
    "duration": 13,
    "start_time": "2023-06-21T00:28:43.733Z"
   },
   {
    "duration": 4,
    "start_time": "2023-06-21T00:28:57.601Z"
   },
   {
    "duration": 25423,
    "start_time": "2023-06-21T00:30:04.735Z"
   },
   {
    "duration": 16,
    "start_time": "2023-06-21T00:31:50.439Z"
   },
   {
    "duration": 16,
    "start_time": "2023-06-21T00:32:42.005Z"
   },
   {
    "duration": 14,
    "start_time": "2023-06-21T00:33:27.233Z"
   },
   {
    "duration": 14,
    "start_time": "2023-06-21T00:34:46.029Z"
   },
   {
    "duration": 3,
    "start_time": "2023-06-21T00:35:15.623Z"
   },
   {
    "duration": 2,
    "start_time": "2023-06-21T00:35:27.585Z"
   },
   {
    "duration": 2,
    "start_time": "2023-06-21T00:36:12.627Z"
   },
   {
    "duration": 7,
    "start_time": "2023-06-21T00:36:30.701Z"
   },
   {
    "duration": 4,
    "start_time": "2023-06-21T00:36:37.522Z"
   },
   {
    "duration": 8,
    "start_time": "2023-06-21T00:36:41.187Z"
   },
   {
    "duration": 20,
    "start_time": "2023-06-21T00:36:47.214Z"
   },
   {
    "duration": 2,
    "start_time": "2023-06-21T00:37:04.847Z"
   },
   {
    "duration": 26,
    "start_time": "2023-06-21T00:37:12.153Z"
   },
   {
    "duration": 33,
    "start_time": "2023-06-21T00:37:24.589Z"
   },
   {
    "duration": 15,
    "start_time": "2023-06-21T00:37:32.851Z"
   },
   {
    "duration": 5,
    "start_time": "2023-06-21T00:37:36.976Z"
   },
   {
    "duration": 13,
    "start_time": "2023-06-21T00:37:40.595Z"
   },
   {
    "duration": 4,
    "start_time": "2023-06-21T00:37:41.162Z"
   },
   {
    "duration": 16,
    "start_time": "2023-06-21T00:37:58.342Z"
   },
   {
    "duration": 13,
    "start_time": "2023-06-21T00:38:00.785Z"
   },
   {
    "duration": 15,
    "start_time": "2023-06-21T00:38:35.103Z"
   },
   {
    "duration": 11,
    "start_time": "2023-06-21T00:38:37.529Z"
   },
   {
    "duration": 143,
    "start_time": "2023-06-21T00:38:43.094Z"
   },
   {
    "duration": 37067,
    "start_time": "2023-06-21T00:39:04.424Z"
   },
   {
    "duration": 76345,
    "start_time": "2023-06-21T00:39:43.521Z"
   },
   {
    "duration": 4,
    "start_time": "2023-06-21T00:41:07.180Z"
   },
   {
    "duration": 3,
    "start_time": "2023-06-21T00:41:10.090Z"
   },
   {
    "duration": 2,
    "start_time": "2023-06-21T00:41:14.652Z"
   },
   {
    "duration": 10,
    "start_time": "2023-06-21T00:41:15.747Z"
   },
   {
    "duration": 2,
    "start_time": "2023-06-21T00:41:20.560Z"
   },
   {
    "duration": 127,
    "start_time": "2023-06-21T00:41:20.775Z"
   },
   {
    "duration": 1606,
    "start_time": "2023-06-21T00:41:48.945Z"
   },
   {
    "duration": 3,
    "start_time": "2023-06-21T00:42:15.452Z"
   },
   {
    "duration": 13,
    "start_time": "2023-06-21T00:42:21.951Z"
   },
   {
    "duration": 4,
    "start_time": "2023-06-21T00:42:56.920Z"
   },
   {
    "duration": 52560,
    "start_time": "2023-06-21T00:43:24.708Z"
   },
   {
    "duration": 4,
    "start_time": "2023-06-21T00:44:20.154Z"
   },
   {
    "duration": 4,
    "start_time": "2023-06-21T00:44:21.891Z"
   },
   {
    "duration": 2,
    "start_time": "2023-06-21T00:44:27.546Z"
   },
   {
    "duration": 11,
    "start_time": "2023-06-21T00:44:32.585Z"
   },
   {
    "duration": 2,
    "start_time": "2023-06-21T00:44:36.288Z"
   },
   {
    "duration": 124,
    "start_time": "2023-06-21T00:44:36.524Z"
   },
   {
    "duration": 2669,
    "start_time": "2023-06-21T00:45:08.306Z"
   },
   {
    "duration": 18,
    "start_time": "2023-06-21T00:45:34.876Z"
   },
   {
    "duration": 4154,
    "start_time": "2023-06-21T00:45:50.003Z"
   },
   {
    "duration": 90,
    "start_time": "2023-06-21T00:47:13.154Z"
   },
   {
    "duration": 2502,
    "start_time": "2023-06-21T00:47:16.082Z"
   },
   {
    "duration": 70612,
    "start_time": "2023-06-21T00:48:15.458Z"
   },
   {
    "duration": 3,
    "start_time": "2023-06-21T00:49:31.964Z"
   },
   {
    "duration": 9,
    "start_time": "2023-06-21T00:49:41.334Z"
   },
   {
    "duration": 2,
    "start_time": "2023-06-21T00:49:43.650Z"
   },
   {
    "duration": 122,
    "start_time": "2023-06-21T00:49:44.522Z"
   },
   {
    "duration": 5,
    "start_time": "2023-06-21T01:52:24.851Z"
   },
   {
    "duration": 5,
    "start_time": "2023-06-21T01:52:28.748Z"
   },
   {
    "duration": 12081,
    "start_time": "2023-06-21T01:52:36.934Z"
   },
   {
    "duration": 3,
    "start_time": "2023-06-21T01:52:51.224Z"
   },
   {
    "duration": 3,
    "start_time": "2023-06-21T01:52:51.410Z"
   },
   {
    "duration": 3,
    "start_time": "2023-06-21T01:52:51.948Z"
   },
   {
    "duration": 3,
    "start_time": "2023-06-21T01:52:52.134Z"
   },
   {
    "duration": 4,
    "start_time": "2023-06-21T01:52:52.308Z"
   },
   {
    "duration": 26,
    "start_time": "2023-06-21T01:52:52.464Z"
   },
   {
    "duration": 18,
    "start_time": "2023-06-21T01:52:52.991Z"
   },
   {
    "duration": 13,
    "start_time": "2023-06-21T01:52:53.162Z"
   },
   {
    "duration": 7,
    "start_time": "2023-06-21T01:52:53.335Z"
   },
   {
    "duration": 8,
    "start_time": "2023-06-21T01:52:53.505Z"
   },
   {
    "duration": 7,
    "start_time": "2023-06-21T01:52:53.683Z"
   },
   {
    "duration": 8,
    "start_time": "2023-06-21T01:52:53.845Z"
   },
   {
    "duration": 5,
    "start_time": "2023-06-21T01:52:54.369Z"
   },
   {
    "duration": 11,
    "start_time": "2023-06-21T01:52:54.545Z"
   },
   {
    "duration": 6,
    "start_time": "2023-06-21T01:52:54.706Z"
   },
   {
    "duration": 7,
    "start_time": "2023-06-21T01:52:54.883Z"
   },
   {
    "duration": 5,
    "start_time": "2023-06-21T01:52:55.415Z"
   },
   {
    "duration": 7,
    "start_time": "2023-06-21T01:52:55.576Z"
   },
   {
    "duration": 13,
    "start_time": "2023-06-21T01:52:56.445Z"
   },
   {
    "duration": 8,
    "start_time": "2023-06-21T01:52:56.770Z"
   },
   {
    "duration": 10,
    "start_time": "2023-06-21T01:52:56.961Z"
   },
   {
    "duration": 3,
    "start_time": "2023-06-21T01:52:57.120Z"
   },
   {
    "duration": 25,
    "start_time": "2023-06-21T01:52:57.657Z"
   },
   {
    "duration": 13,
    "start_time": "2023-06-21T01:52:57.837Z"
   },
   {
    "duration": 11,
    "start_time": "2023-06-21T01:52:58.004Z"
   },
   {
    "duration": 5,
    "start_time": "2023-06-21T01:52:58.348Z"
   },
   {
    "duration": 8,
    "start_time": "2023-06-21T01:52:58.518Z"
   },
   {
    "duration": 5,
    "start_time": "2023-06-21T01:52:58.700Z"
   },
   {
    "duration": 9,
    "start_time": "2023-06-21T01:52:58.881Z"
   },
   {
    "duration": 5,
    "start_time": "2023-06-21T01:52:59.053Z"
   },
   {
    "duration": 5,
    "start_time": "2023-06-21T01:52:59.225Z"
   },
   {
    "duration": 5,
    "start_time": "2023-06-21T01:52:59.402Z"
   },
   {
    "duration": 9,
    "start_time": "2023-06-21T01:52:59.578Z"
   },
   {
    "duration": 18,
    "start_time": "2023-06-21T01:52:59.750Z"
   },
   {
    "duration": 10,
    "start_time": "2023-06-21T01:53:00.301Z"
   },
   {
    "duration": 5,
    "start_time": "2023-06-21T01:53:00.476Z"
   },
   {
    "duration": 791,
    "start_time": "2023-06-21T01:53:00.648Z"
   },
   {
    "duration": 3,
    "start_time": "2023-06-21T01:53:01.441Z"
   },
   {
    "duration": 87,
    "start_time": "2023-06-21T01:53:01.446Z"
   },
   {
    "duration": 2213,
    "start_time": "2023-06-21T01:53:01.537Z"
   },
   {
    "duration": 4,
    "start_time": "2023-06-21T01:53:03.755Z"
   },
   {
    "duration": 7,
    "start_time": "2023-06-21T01:53:03.761Z"
   },
   {
    "duration": 12,
    "start_time": "2023-06-21T01:53:03.770Z"
   },
   {
    "duration": 7,
    "start_time": "2023-06-21T01:53:03.784Z"
   },
   {
    "duration": 144,
    "start_time": "2023-06-21T01:53:03.792Z"
   },
   {
    "duration": 140,
    "start_time": "2023-06-21T01:53:03.938Z"
   },
   {
    "duration": 9,
    "start_time": "2023-06-21T01:53:04.079Z"
   },
   {
    "duration": 10,
    "start_time": "2023-06-21T01:53:04.089Z"
   },
   {
    "duration": 4,
    "start_time": "2023-06-21T01:53:04.101Z"
   },
   {
    "duration": 5,
    "start_time": "2023-06-21T01:53:04.106Z"
   },
   {
    "duration": 5,
    "start_time": "2023-06-21T01:53:04.244Z"
   },
   {
    "duration": 4,
    "start_time": "2023-06-21T01:53:04.423Z"
   },
   {
    "duration": 10,
    "start_time": "2023-06-21T01:53:05.335Z"
   },
   {
    "duration": 8,
    "start_time": "2023-06-21T01:53:05.529Z"
   },
   {
    "duration": 124,
    "start_time": "2023-06-21T01:53:06.092Z"
   },
   {
    "duration": 9,
    "start_time": "2023-06-21T01:53:06.272Z"
   },
   {
    "duration": 5,
    "start_time": "2023-06-21T01:53:06.447Z"
   },
   {
    "duration": 8,
    "start_time": "2023-06-21T01:53:06.628Z"
   },
   {
    "duration": 4,
    "start_time": "2023-06-21T01:53:06.816Z"
   },
   {
    "duration": 5,
    "start_time": "2023-06-21T01:53:07.008Z"
   },
   {
    "duration": 4,
    "start_time": "2023-06-21T01:53:08.151Z"
   },
   {
    "duration": 11,
    "start_time": "2023-06-21T01:53:08.564Z"
   },
   {
    "duration": 63,
    "start_time": "2023-06-21T01:53:08.765Z"
   },
   {
    "duration": 14,
    "start_time": "2023-06-21T01:53:08.994Z"
   },
   {
    "duration": 21,
    "start_time": "2023-06-21T01:53:09.192Z"
   },
   {
    "duration": 11,
    "start_time": "2023-06-21T01:53:10.888Z"
   },
   {
    "duration": 5,
    "start_time": "2023-06-21T01:53:11.084Z"
   },
   {
    "duration": 32,
    "start_time": "2023-06-21T01:53:11.489Z"
   },
   {
    "duration": 341,
    "start_time": "2023-06-21T01:53:12.566Z"
   },
   {
    "duration": 4,
    "start_time": "2023-06-21T01:53:13.498Z"
   },
   {
    "duration": 17,
    "start_time": "2023-06-21T01:53:13.690Z"
   },
   {
    "duration": 5,
    "start_time": "2023-06-21T01:53:14.302Z"
   },
   {
    "duration": 12,
    "start_time": "2023-06-21T01:53:14.793Z"
   },
   {
    "duration": 3,
    "start_time": "2023-06-21T01:53:17.252Z"
   },
   {
    "duration": 12,
    "start_time": "2023-06-21T01:53:17.667Z"
   },
   {
    "duration": 38,
    "start_time": "2023-06-21T01:53:18.994Z"
   },
   {
    "duration": 2,
    "start_time": "2023-06-21T01:53:19.192Z"
   },
   {
    "duration": 7,
    "start_time": "2023-06-21T01:53:19.454Z"
   },
   {
    "duration": 3,
    "start_time": "2023-06-21T01:53:19.689Z"
   },
   {
    "duration": 14,
    "start_time": "2023-06-21T01:53:19.929Z"
   },
   {
    "duration": 9,
    "start_time": "2023-06-21T01:53:21.248Z"
   },
   {
    "duration": 4,
    "start_time": "2023-06-21T01:53:21.574Z"
   },
   {
    "duration": 3,
    "start_time": "2023-06-21T01:53:21.844Z"
   },
   {
    "duration": 1557,
    "start_time": "2023-06-21T01:53:26.047Z"
   },
   {
    "duration": 49478,
    "start_time": "2023-06-21T01:54:02.799Z"
   },
   {
    "duration": 5,
    "start_time": "2023-06-21T01:55:59.650Z"
   },
   {
    "duration": 2,
    "start_time": "2023-06-21T01:56:10.167Z"
   },
   {
    "duration": 365,
    "start_time": "2023-06-21T01:56:12.365Z"
   },
   {
    "duration": 11127,
    "start_time": "2023-06-21T01:56:12.732Z"
   },
   {
    "duration": 3,
    "start_time": "2023-06-21T01:56:26.401Z"
   },
   {
    "duration": 10,
    "start_time": "2023-06-21T01:56:27.588Z"
   },
   {
    "duration": 29,
    "start_time": "2023-06-21T01:56:39.350Z"
   },
   {
    "duration": 2,
    "start_time": "2023-06-21T01:56:41.961Z"
   },
   {
    "duration": 122,
    "start_time": "2023-06-21T01:56:42.621Z"
   },
   {
    "duration": 18,
    "start_time": "2023-06-21T01:58:54.829Z"
   },
   {
    "duration": 4,
    "start_time": "2023-06-21T01:58:59.930Z"
   },
   {
    "duration": 3,
    "start_time": "2023-06-21T01:59:00.532Z"
   },
   {
    "duration": 257,
    "start_time": "2023-06-21T01:59:01.014Z"
   },
   {
    "duration": 3,
    "start_time": "2023-06-21T01:59:17.069Z"
   },
   {
    "duration": 2,
    "start_time": "2023-06-21T01:59:28.607Z"
   },
   {
    "duration": 4,
    "start_time": "2023-06-21T01:59:30.110Z"
   },
   {
    "duration": 5,
    "start_time": "2023-06-21T01:59:30.535Z"
   },
   {
    "duration": 183,
    "start_time": "2023-06-21T01:59:32.528Z"
   },
   {
    "duration": 582,
    "start_time": "2023-06-21T14:52:02.981Z"
   },
   {
    "duration": 18564,
    "start_time": "2023-06-21T15:10:26.667Z"
   },
   {
    "duration": 5,
    "start_time": "2023-06-21T15:10:45.237Z"
   },
   {
    "duration": 56,
    "start_time": "2023-06-21T15:10:45.246Z"
   },
   {
    "duration": 4,
    "start_time": "2023-06-21T15:10:45.304Z"
   },
   {
    "duration": 40,
    "start_time": "2023-06-21T15:10:45.310Z"
   },
   {
    "duration": 20,
    "start_time": "2023-06-21T15:10:45.353Z"
   },
   {
    "duration": 193,
    "start_time": "2023-06-21T15:10:45.375Z"
   },
   {
    "duration": 17,
    "start_time": "2023-06-21T15:10:45.571Z"
   },
   {
    "duration": 18,
    "start_time": "2023-06-21T15:10:45.590Z"
   },
   {
    "duration": 33,
    "start_time": "2023-06-21T15:10:45.611Z"
   },
   {
    "duration": 14,
    "start_time": "2023-06-21T15:10:45.646Z"
   },
   {
    "duration": 16,
    "start_time": "2023-06-21T15:10:45.662Z"
   },
   {
    "duration": 11,
    "start_time": "2023-06-21T15:10:45.680Z"
   },
   {
    "duration": 9,
    "start_time": "2023-06-21T15:10:45.692Z"
   },
   {
    "duration": 22,
    "start_time": "2023-06-21T15:10:45.703Z"
   },
   {
    "duration": 28,
    "start_time": "2023-06-21T15:10:45.727Z"
   },
   {
    "duration": 8,
    "start_time": "2023-06-21T15:10:45.758Z"
   },
   {
    "duration": 15,
    "start_time": "2023-06-21T15:10:45.768Z"
   },
   {
    "duration": 8,
    "start_time": "2023-06-21T15:10:45.784Z"
   },
   {
    "duration": 15,
    "start_time": "2023-06-21T15:10:45.795Z"
   },
   {
    "duration": 16,
    "start_time": "2023-06-21T15:10:45.820Z"
   },
   {
    "duration": 25,
    "start_time": "2023-06-21T15:10:45.838Z"
   },
   {
    "duration": 17,
    "start_time": "2023-06-21T15:10:45.865Z"
   },
   {
    "duration": 27,
    "start_time": "2023-06-21T15:10:45.884Z"
   },
   {
    "duration": 53,
    "start_time": "2023-06-21T15:10:45.913Z"
   },
   {
    "duration": 13,
    "start_time": "2023-06-21T15:10:45.968Z"
   },
   {
    "duration": 5,
    "start_time": "2023-06-21T15:10:45.983Z"
   },
   {
    "duration": 10,
    "start_time": "2023-06-21T15:10:45.994Z"
   },
   {
    "duration": 29,
    "start_time": "2023-06-21T15:10:46.006Z"
   },
   {
    "duration": 16,
    "start_time": "2023-06-21T15:10:46.037Z"
   },
   {
    "duration": 29,
    "start_time": "2023-06-21T15:10:46.055Z"
   },
   {
    "duration": 17,
    "start_time": "2023-06-21T15:10:46.087Z"
   },
   {
    "duration": 22,
    "start_time": "2023-06-21T15:10:46.106Z"
   },
   {
    "duration": 19,
    "start_time": "2023-06-21T15:10:46.130Z"
   },
   {
    "duration": 41,
    "start_time": "2023-06-21T15:10:46.152Z"
   },
   {
    "duration": 18,
    "start_time": "2023-06-21T15:10:46.195Z"
   },
   {
    "duration": 32,
    "start_time": "2023-06-21T15:10:46.221Z"
   },
   {
    "duration": 1062,
    "start_time": "2023-06-21T15:10:46.259Z"
   },
   {
    "duration": 8,
    "start_time": "2023-06-21T15:10:47.322Z"
   },
   {
    "duration": 45,
    "start_time": "2023-06-21T15:10:47.331Z"
   },
   {
    "duration": 3082,
    "start_time": "2023-06-21T15:10:47.378Z"
   },
   {
    "duration": 4,
    "start_time": "2023-06-21T15:10:50.465Z"
   },
   {
    "duration": 15,
    "start_time": "2023-06-21T15:10:50.471Z"
   },
   {
    "duration": 27,
    "start_time": "2023-06-21T15:10:50.488Z"
   },
   {
    "duration": 22,
    "start_time": "2023-06-21T15:10:50.518Z"
   },
   {
    "duration": 174,
    "start_time": "2023-06-21T15:10:50.547Z"
   },
   {
    "duration": 171,
    "start_time": "2023-06-21T15:10:50.729Z"
   },
   {
    "duration": 8,
    "start_time": "2023-06-21T15:10:50.902Z"
   },
   {
    "duration": 25,
    "start_time": "2023-06-21T15:10:50.918Z"
   },
   {
    "duration": 12,
    "start_time": "2023-06-21T15:10:50.945Z"
   },
   {
    "duration": 22,
    "start_time": "2023-06-21T15:10:50.958Z"
   },
   {
    "duration": 14,
    "start_time": "2023-06-21T15:10:50.982Z"
   },
   {
    "duration": 29,
    "start_time": "2023-06-21T15:10:50.997Z"
   },
   {
    "duration": 30,
    "start_time": "2023-06-21T15:10:51.036Z"
   },
   {
    "duration": 8,
    "start_time": "2023-06-21T15:10:51.068Z"
   },
   {
    "duration": 172,
    "start_time": "2023-06-21T15:10:51.078Z"
   },
   {
    "duration": 11,
    "start_time": "2023-06-21T15:10:51.252Z"
   },
   {
    "duration": 21,
    "start_time": "2023-06-21T15:10:51.265Z"
   },
   {
    "duration": 42,
    "start_time": "2023-06-21T15:10:51.287Z"
   },
   {
    "duration": 10,
    "start_time": "2023-06-21T15:10:51.353Z"
   },
   {
    "duration": 14,
    "start_time": "2023-06-21T15:10:51.367Z"
   },
   {
    "duration": 12,
    "start_time": "2023-06-21T15:10:51.383Z"
   },
   {
    "duration": 41,
    "start_time": "2023-06-21T15:10:51.397Z"
   },
   {
    "duration": 65,
    "start_time": "2023-06-21T15:10:51.439Z"
   },
   {
    "duration": 40,
    "start_time": "2023-06-21T15:10:51.506Z"
   },
   {
    "duration": 50,
    "start_time": "2023-06-21T15:10:51.555Z"
   },
   {
    "duration": 18,
    "start_time": "2023-06-21T15:10:51.607Z"
   },
   {
    "duration": 38,
    "start_time": "2023-06-21T15:10:51.628Z"
   },
   {
    "duration": 59,
    "start_time": "2023-06-21T15:10:51.670Z"
   },
   {
    "duration": 649,
    "start_time": "2023-06-21T15:10:51.742Z"
   },
   {
    "duration": 4,
    "start_time": "2023-06-21T15:10:52.392Z"
   },
   {
    "duration": 75,
    "start_time": "2023-06-21T15:10:52.398Z"
   },
   {
    "duration": 5,
    "start_time": "2023-06-21T15:10:52.474Z"
   },
   {
    "duration": 24,
    "start_time": "2023-06-21T15:10:52.480Z"
   },
   {
    "duration": 3,
    "start_time": "2023-06-21T15:10:52.509Z"
   },
   {
    "duration": 40,
    "start_time": "2023-06-21T15:10:52.513Z"
   },
   {
    "duration": 46,
    "start_time": "2023-06-21T15:10:52.556Z"
   },
   {
    "duration": 3,
    "start_time": "2023-06-21T15:10:52.604Z"
   },
   {
    "duration": 22,
    "start_time": "2023-06-21T15:10:52.609Z"
   },
   {
    "duration": 11,
    "start_time": "2023-06-21T15:10:52.639Z"
   },
   {
    "duration": 25,
    "start_time": "2023-06-21T15:10:52.653Z"
   },
   {
    "duration": 16,
    "start_time": "2023-06-21T15:10:52.680Z"
   },
   {
    "duration": 5,
    "start_time": "2023-06-21T15:10:52.698Z"
   },
   {
    "duration": 6,
    "start_time": "2023-06-21T15:10:52.705Z"
   },
   {
    "duration": 5,
    "start_time": "2023-06-21T15:12:29.254Z"
   },
   {
    "duration": 42,
    "start_time": "2023-06-21T15:12:31.825Z"
   },
   {
    "duration": 517,
    "start_time": "2023-06-21T15:12:32.208Z"
   },
   {
    "duration": 4,
    "start_time": "2023-06-21T15:12:33.051Z"
   },
   {
    "duration": 35,
    "start_time": "2023-06-21T15:12:33.208Z"
   },
   {
    "duration": 8,
    "start_time": "2023-06-21T15:12:33.554Z"
   },
   {
    "duration": 25,
    "start_time": "2023-06-21T15:12:33.740Z"
   },
   {
    "duration": 8,
    "start_time": "2023-06-21T15:12:34.837Z"
   },
   {
    "duration": 27,
    "start_time": "2023-06-21T15:12:35.012Z"
   },
   {
    "duration": 39,
    "start_time": "2023-06-21T15:12:35.951Z"
   },
   {
    "duration": 7,
    "start_time": "2023-06-21T15:12:36.109Z"
   },
   {
    "duration": 7,
    "start_time": "2023-06-21T15:12:38.982Z"
   },
   {
    "duration": 3,
    "start_time": "2023-06-21T15:12:39.167Z"
   },
   {
    "duration": 20,
    "start_time": "2023-06-21T15:12:39.671Z"
   },
   {
    "duration": 31,
    "start_time": "2023-06-21T15:12:40.939Z"
   },
   {
    "duration": 10,
    "start_time": "2023-06-21T15:12:41.532Z"
   },
   {
    "duration": 3,
    "start_time": "2023-06-21T15:12:41.704Z"
   },
   {
    "duration": 11306,
    "start_time": "2023-06-21T15:13:59.915Z"
   },
   {
    "duration": 3,
    "start_time": "2023-06-21T15:14:29.176Z"
   },
   {
    "duration": 22470,
    "start_time": "2023-06-21T15:14:49.461Z"
   },
   {
    "duration": 6,
    "start_time": "2023-06-21T15:15:20.029Z"
   },
   {
    "duration": 39951,
    "start_time": "2023-06-21T15:15:45.812Z"
   },
   {
    "duration": 4,
    "start_time": "2023-06-21T15:16:25.765Z"
   },
   {
    "duration": 31168,
    "start_time": "2023-06-21T15:19:11.596Z"
   },
   {
    "duration": 3,
    "start_time": "2023-06-21T15:19:42.766Z"
   },
   {
    "duration": 9,
    "start_time": "2023-06-21T15:26:43.714Z"
   },
   {
    "duration": 3,
    "start_time": "2023-06-21T15:27:25.778Z"
   },
   {
    "duration": 63,
    "start_time": "2023-06-21T15:27:31.310Z"
   },
   {
    "duration": 2,
    "start_time": "2023-06-21T15:27:33.257Z"
   },
   {
    "duration": 160,
    "start_time": "2023-06-21T15:27:33.463Z"
   },
   {
    "duration": 41350,
    "start_time": "2023-06-21T15:27:58.211Z"
   },
   {
    "duration": 4,
    "start_time": "2023-06-21T15:43:19.404Z"
   },
   {
    "duration": 3,
    "start_time": "2023-06-21T15:43:23.921Z"
   },
   {
    "duration": 71,
    "start_time": "2023-06-21T15:43:30.438Z"
   },
   {
    "duration": 2,
    "start_time": "2023-06-21T15:43:32.542Z"
   },
   {
    "duration": 157,
    "start_time": "2023-06-21T15:43:33.166Z"
   },
   {
    "duration": 33407,
    "start_time": "2023-06-21T15:43:57.630Z"
   },
   {
    "duration": 4,
    "start_time": "2023-06-21T15:44:31.039Z"
   },
   {
    "duration": 5,
    "start_time": "2023-06-21T15:45:19.961Z"
   },
   {
    "duration": 4,
    "start_time": "2023-06-21T15:45:21.438Z"
   },
   {
    "duration": 89,
    "start_time": "2023-06-21T15:45:26.343Z"
   },
   {
    "duration": 2,
    "start_time": "2023-06-21T15:45:28.063Z"
   },
   {
    "duration": 165,
    "start_time": "2023-06-21T15:45:28.341Z"
   },
   {
    "duration": 38,
    "start_time": "2023-06-21T15:46:19.734Z"
   },
   {
    "duration": 11154,
    "start_time": "2023-06-21T15:49:36.733Z"
   },
   {
    "duration": 462171,
    "start_time": "2023-06-21T15:49:50.170Z"
   },
   {
    "duration": 5,
    "start_time": "2023-06-21T16:01:18.959Z"
   },
   {
    "duration": 3,
    "start_time": "2023-06-21T16:01:22.207Z"
   },
   {
    "duration": 67,
    "start_time": "2023-06-21T16:01:28.872Z"
   },
   {
    "duration": 3,
    "start_time": "2023-06-21T16:01:32.313Z"
   },
   {
    "duration": 176,
    "start_time": "2023-06-21T16:01:32.772Z"
   },
   {
    "duration": 17647,
    "start_time": "2023-06-21T16:21:25.458Z"
   },
   {
    "duration": 4,
    "start_time": "2023-06-21T16:21:43.107Z"
   },
   {
    "duration": 13,
    "start_time": "2023-06-21T16:21:43.113Z"
   },
   {
    "duration": 13,
    "start_time": "2023-06-21T16:21:43.128Z"
   },
   {
    "duration": 15,
    "start_time": "2023-06-21T16:21:43.146Z"
   },
   {
    "duration": 19,
    "start_time": "2023-06-21T16:21:43.166Z"
   },
   {
    "duration": 101,
    "start_time": "2023-06-21T16:21:43.193Z"
   },
   {
    "duration": 20,
    "start_time": "2023-06-21T16:21:43.296Z"
   },
   {
    "duration": 30,
    "start_time": "2023-06-21T16:21:43.325Z"
   },
   {
    "duration": 15,
    "start_time": "2023-06-21T16:21:43.363Z"
   },
   {
    "duration": 12,
    "start_time": "2023-06-21T16:21:43.381Z"
   },
   {
    "duration": 19,
    "start_time": "2023-06-21T16:21:43.395Z"
   },
   {
    "duration": 16,
    "start_time": "2023-06-21T16:21:43.416Z"
   },
   {
    "duration": 40,
    "start_time": "2023-06-21T16:21:43.434Z"
   },
   {
    "duration": 28,
    "start_time": "2023-06-21T16:21:43.477Z"
   },
   {
    "duration": 35,
    "start_time": "2023-06-21T16:21:43.508Z"
   },
   {
    "duration": 27,
    "start_time": "2023-06-21T16:21:43.554Z"
   },
   {
    "duration": 16,
    "start_time": "2023-06-21T16:21:43.583Z"
   },
   {
    "duration": 32,
    "start_time": "2023-06-21T16:21:43.602Z"
   },
   {
    "duration": 54,
    "start_time": "2023-06-21T16:21:43.636Z"
   },
   {
    "duration": 10,
    "start_time": "2023-06-21T16:21:43.693Z"
   },
   {
    "duration": 45,
    "start_time": "2023-06-21T16:21:43.705Z"
   },
   {
    "duration": 8,
    "start_time": "2023-06-21T16:21:43.765Z"
   },
   {
    "duration": 25,
    "start_time": "2023-06-21T16:21:43.776Z"
   },
   {
    "duration": 26,
    "start_time": "2023-06-21T16:21:43.803Z"
   },
   {
    "duration": 19,
    "start_time": "2023-06-21T16:21:43.831Z"
   },
   {
    "duration": 24,
    "start_time": "2023-06-21T16:21:43.855Z"
   },
   {
    "duration": 12,
    "start_time": "2023-06-21T16:21:43.885Z"
   },
   {
    "duration": 26,
    "start_time": "2023-06-21T16:21:43.899Z"
   },
   {
    "duration": 43,
    "start_time": "2023-06-21T16:21:43.927Z"
   },
   {
    "duration": 64,
    "start_time": "2023-06-21T16:21:43.973Z"
   },
   {
    "duration": 49,
    "start_time": "2023-06-21T16:21:44.039Z"
   },
   {
    "duration": 17,
    "start_time": "2023-06-21T16:21:44.090Z"
   },
   {
    "duration": 47,
    "start_time": "2023-06-21T16:21:44.109Z"
   },
   {
    "duration": 37,
    "start_time": "2023-06-21T16:21:44.163Z"
   },
   {
    "duration": 41,
    "start_time": "2023-06-21T16:21:44.202Z"
   },
   {
    "duration": 9,
    "start_time": "2023-06-21T16:21:44.245Z"
   },
   {
    "duration": 1067,
    "start_time": "2023-06-21T16:21:44.256Z"
   },
   {
    "duration": 8,
    "start_time": "2023-06-21T16:21:45.325Z"
   },
   {
    "duration": 195,
    "start_time": "2023-06-21T16:21:45.335Z"
   },
   {
    "duration": 2756,
    "start_time": "2023-06-21T16:21:45.537Z"
   },
   {
    "duration": 7,
    "start_time": "2023-06-21T16:21:48.295Z"
   },
   {
    "duration": 10,
    "start_time": "2023-06-21T16:21:48.315Z"
   },
   {
    "duration": 38,
    "start_time": "2023-06-21T16:21:48.326Z"
   },
   {
    "duration": 12,
    "start_time": "2023-06-21T16:21:48.367Z"
   },
   {
    "duration": 155,
    "start_time": "2023-06-21T16:21:48.380Z"
   },
   {
    "duration": 163,
    "start_time": "2023-06-21T16:21:48.537Z"
   },
   {
    "duration": 16,
    "start_time": "2023-06-21T16:21:48.715Z"
   },
   {
    "duration": 18,
    "start_time": "2023-06-21T16:21:48.737Z"
   },
   {
    "duration": 6,
    "start_time": "2023-06-21T16:21:48.760Z"
   },
   {
    "duration": 8,
    "start_time": "2023-06-21T16:21:48.768Z"
   },
   {
    "duration": 13,
    "start_time": "2023-06-21T16:21:48.778Z"
   },
   {
    "duration": 7,
    "start_time": "2023-06-21T16:21:48.793Z"
   },
   {
    "duration": 52,
    "start_time": "2023-06-21T16:21:48.803Z"
   },
   {
    "duration": 11,
    "start_time": "2023-06-21T16:21:48.858Z"
   },
   {
    "duration": 246,
    "start_time": "2023-06-21T16:21:48.872Z"
   },
   {
    "duration": 12,
    "start_time": "2023-06-21T16:21:49.120Z"
   },
   {
    "duration": 5,
    "start_time": "2023-06-21T16:21:49.135Z"
   },
   {
    "duration": 19,
    "start_time": "2023-06-21T16:21:49.143Z"
   },
   {
    "duration": 5,
    "start_time": "2023-06-21T16:21:49.165Z"
   },
   {
    "duration": 17,
    "start_time": "2023-06-21T16:21:49.172Z"
   },
   {
    "duration": 20,
    "start_time": "2023-06-21T16:21:49.191Z"
   },
   {
    "duration": 38,
    "start_time": "2023-06-21T16:21:49.214Z"
   },
   {
    "duration": 98,
    "start_time": "2023-06-21T16:21:49.266Z"
   },
   {
    "duration": 26,
    "start_time": "2023-06-21T16:21:49.366Z"
   },
   {
    "duration": 42,
    "start_time": "2023-06-21T16:21:49.394Z"
   },
   {
    "duration": 19,
    "start_time": "2023-06-21T16:21:49.444Z"
   },
   {
    "duration": 22,
    "start_time": "2023-06-21T16:21:49.465Z"
   },
   {
    "duration": 9,
    "start_time": "2023-06-21T16:21:49.489Z"
   },
   {
    "duration": 51,
    "start_time": "2023-06-21T16:21:49.500Z"
   },
   {
    "duration": 577,
    "start_time": "2023-06-21T16:21:49.552Z"
   },
   {
    "duration": 10,
    "start_time": "2023-06-21T16:21:50.138Z"
   },
   {
    "duration": 40,
    "start_time": "2023-06-21T16:21:50.156Z"
   },
   {
    "duration": 6,
    "start_time": "2023-06-21T16:21:50.201Z"
   },
   {
    "duration": 38,
    "start_time": "2023-06-21T16:21:50.209Z"
   },
   {
    "duration": 5,
    "start_time": "2023-06-21T16:21:50.249Z"
   },
   {
    "duration": 23,
    "start_time": "2023-06-21T16:21:50.259Z"
   },
   {
    "duration": 66,
    "start_time": "2023-06-21T16:21:50.285Z"
   },
   {
    "duration": 7,
    "start_time": "2023-06-21T16:21:50.352Z"
   },
   {
    "duration": 19,
    "start_time": "2023-06-21T16:21:50.361Z"
   },
   {
    "duration": 12,
    "start_time": "2023-06-21T16:21:50.382Z"
   },
   {
    "duration": 34,
    "start_time": "2023-06-21T16:21:50.401Z"
   },
   {
    "duration": 17,
    "start_time": "2023-06-21T16:21:50.445Z"
   },
   {
    "duration": 46,
    "start_time": "2023-06-21T16:21:50.464Z"
   },
   {
    "duration": 27,
    "start_time": "2023-06-21T16:21:50.512Z"
   },
   {
    "duration": 31846,
    "start_time": "2023-06-21T16:21:50.548Z"
   },
   {
    "duration": 4,
    "start_time": "2023-06-21T16:22:22.397Z"
   },
   {
    "duration": 18,
    "start_time": "2023-06-21T16:22:22.418Z"
   },
   {
    "duration": 1508800,
    "start_time": "2023-06-21T16:22:22.442Z"
   },
   {
    "duration": 0,
    "start_time": "2023-06-21T16:47:31.246Z"
   },
   {
    "duration": 0,
    "start_time": "2023-06-21T16:47:31.249Z"
   },
   {
    "duration": 0,
    "start_time": "2023-06-21T16:47:31.250Z"
   },
   {
    "duration": 0,
    "start_time": "2023-06-21T16:47:31.251Z"
   },
   {
    "duration": 0,
    "start_time": "2023-06-21T16:47:31.252Z"
   },
   {
    "duration": 0,
    "start_time": "2023-06-21T16:47:31.253Z"
   },
   {
    "duration": 0,
    "start_time": "2023-06-21T16:47:31.253Z"
   },
   {
    "duration": 0,
    "start_time": "2023-06-21T16:47:31.254Z"
   },
   {
    "duration": 0,
    "start_time": "2023-06-21T16:47:31.255Z"
   },
   {
    "duration": 0,
    "start_time": "2023-06-21T16:47:31.256Z"
   },
   {
    "duration": 0,
    "start_time": "2023-06-21T16:47:31.257Z"
   },
   {
    "duration": 0,
    "start_time": "2023-06-21T16:47:31.258Z"
   },
   {
    "duration": 0,
    "start_time": "2023-06-21T16:47:31.259Z"
   },
   {
    "duration": 0,
    "start_time": "2023-06-21T16:47:31.261Z"
   },
   {
    "duration": 0,
    "start_time": "2023-06-21T16:47:31.262Z"
   },
   {
    "duration": 0,
    "start_time": "2023-06-21T16:47:31.263Z"
   },
   {
    "duration": 465677,
    "start_time": "2023-06-21T16:47:51.151Z"
   },
   {
    "duration": 120366,
    "start_time": "2023-06-21T16:55:40.259Z"
   },
   {
    "duration": 15232,
    "start_time": "2023-06-21T16:57:53.239Z"
   },
   {
    "duration": 3,
    "start_time": "2023-06-21T16:58:08.473Z"
   },
   {
    "duration": 15,
    "start_time": "2023-06-21T16:58:08.477Z"
   },
   {
    "duration": 6,
    "start_time": "2023-06-21T16:58:08.494Z"
   },
   {
    "duration": 8,
    "start_time": "2023-06-21T16:58:08.502Z"
   },
   {
    "duration": 27,
    "start_time": "2023-06-21T16:58:08.512Z"
   },
   {
    "duration": 48,
    "start_time": "2023-06-21T16:58:08.541Z"
   },
   {
    "duration": 6,
    "start_time": "2023-06-21T16:58:08.591Z"
   },
   {
    "duration": 42,
    "start_time": "2023-06-21T16:58:08.598Z"
   },
   {
    "duration": 9,
    "start_time": "2023-06-21T16:58:08.642Z"
   },
   {
    "duration": 22,
    "start_time": "2023-06-21T16:58:08.653Z"
   },
   {
    "duration": 22,
    "start_time": "2023-06-21T16:58:08.677Z"
   },
   {
    "duration": 22,
    "start_time": "2023-06-21T16:58:08.700Z"
   },
   {
    "duration": 32,
    "start_time": "2023-06-21T16:58:08.725Z"
   },
   {
    "duration": 12,
    "start_time": "2023-06-21T16:58:08.759Z"
   },
   {
    "duration": 67,
    "start_time": "2023-06-21T16:58:08.773Z"
   },
   {
    "duration": 10,
    "start_time": "2023-06-21T16:58:08.842Z"
   },
   {
    "duration": 11,
    "start_time": "2023-06-21T16:58:08.854Z"
   },
   {
    "duration": 9,
    "start_time": "2023-06-21T16:58:08.866Z"
   },
   {
    "duration": 13,
    "start_time": "2023-06-21T16:58:08.876Z"
   },
   {
    "duration": 15,
    "start_time": "2023-06-21T16:58:08.891Z"
   },
   {
    "duration": 36,
    "start_time": "2023-06-21T16:58:08.908Z"
   },
   {
    "duration": 19,
    "start_time": "2023-06-21T16:58:08.946Z"
   },
   {
    "duration": 53,
    "start_time": "2023-06-21T16:58:08.966Z"
   },
   {
    "duration": 69,
    "start_time": "2023-06-21T16:58:09.020Z"
   },
   {
    "duration": 59,
    "start_time": "2023-06-21T16:58:09.090Z"
   },
   {
    "duration": 31,
    "start_time": "2023-06-21T16:58:09.151Z"
   },
   {
    "duration": 92,
    "start_time": "2023-06-21T16:58:09.184Z"
   },
   {
    "duration": 70,
    "start_time": "2023-06-21T16:58:09.278Z"
   },
   {
    "duration": 43,
    "start_time": "2023-06-21T16:58:09.350Z"
   },
   {
    "duration": 64,
    "start_time": "2023-06-21T16:58:09.395Z"
   },
   {
    "duration": 39,
    "start_time": "2023-06-21T16:58:09.460Z"
   },
   {
    "duration": 44,
    "start_time": "2023-06-21T16:58:09.501Z"
   },
   {
    "duration": 35,
    "start_time": "2023-06-21T16:58:09.549Z"
   },
   {
    "duration": 34,
    "start_time": "2023-06-21T16:58:09.586Z"
   },
   {
    "duration": 47,
    "start_time": "2023-06-21T16:58:09.622Z"
   },
   {
    "duration": 21,
    "start_time": "2023-06-21T16:58:09.671Z"
   },
   {
    "duration": 1079,
    "start_time": "2023-06-21T16:58:09.695Z"
   },
   {
    "duration": 4,
    "start_time": "2023-06-21T16:58:10.775Z"
   },
   {
    "duration": 67,
    "start_time": "2023-06-21T16:58:10.780Z"
   },
   {
    "duration": 2633,
    "start_time": "2023-06-21T16:58:10.853Z"
   },
   {
    "duration": 4,
    "start_time": "2023-06-21T16:58:13.488Z"
   },
   {
    "duration": 12,
    "start_time": "2023-06-21T16:58:13.494Z"
   },
   {
    "duration": 34,
    "start_time": "2023-06-21T16:58:13.518Z"
   },
   {
    "duration": 8,
    "start_time": "2023-06-21T16:58:13.554Z"
   },
   {
    "duration": 170,
    "start_time": "2023-06-21T16:58:13.564Z"
   },
   {
    "duration": 183,
    "start_time": "2023-06-21T16:58:13.743Z"
   },
   {
    "duration": 12,
    "start_time": "2023-06-21T16:58:13.930Z"
   },
   {
    "duration": 40,
    "start_time": "2023-06-21T16:58:13.946Z"
   },
   {
    "duration": 57,
    "start_time": "2023-06-21T16:58:13.988Z"
   },
   {
    "duration": 7,
    "start_time": "2023-06-21T16:58:14.051Z"
   },
   {
    "duration": 37,
    "start_time": "2023-06-21T16:58:14.060Z"
   },
   {
    "duration": 46,
    "start_time": "2023-06-21T16:58:14.099Z"
   },
   {
    "duration": 12,
    "start_time": "2023-06-21T16:58:14.147Z"
   },
   {
    "duration": 15,
    "start_time": "2023-06-21T16:58:14.161Z"
   },
   {
    "duration": 177,
    "start_time": "2023-06-21T16:58:14.178Z"
   },
   {
    "duration": 9,
    "start_time": "2023-06-21T16:58:14.357Z"
   },
   {
    "duration": 5,
    "start_time": "2023-06-21T16:58:14.368Z"
   },
   {
    "duration": 61,
    "start_time": "2023-06-21T16:58:14.375Z"
   },
   {
    "duration": 15,
    "start_time": "2023-06-21T16:58:14.437Z"
   },
   {
    "duration": 47,
    "start_time": "2023-06-21T16:58:14.454Z"
   },
   {
    "duration": 7,
    "start_time": "2023-06-21T16:58:14.504Z"
   },
   {
    "duration": 32,
    "start_time": "2023-06-21T16:58:14.513Z"
   },
   {
    "duration": 57,
    "start_time": "2023-06-21T16:58:14.550Z"
   },
   {
    "duration": 40,
    "start_time": "2023-06-21T16:58:14.608Z"
   },
   {
    "duration": 20,
    "start_time": "2023-06-21T16:58:14.650Z"
   },
   {
    "duration": 33,
    "start_time": "2023-06-21T16:58:14.672Z"
   },
   {
    "duration": 7,
    "start_time": "2023-06-21T16:58:14.707Z"
   },
   {
    "duration": 29,
    "start_time": "2023-06-21T16:58:14.716Z"
   },
   {
    "duration": 138,
    "start_time": "2023-06-21T16:58:14.750Z"
   },
   {
    "duration": 490,
    "start_time": "2023-06-21T16:58:14.890Z"
   },
   {
    "duration": 4,
    "start_time": "2023-06-21T16:58:15.382Z"
   },
   {
    "duration": 42,
    "start_time": "2023-06-21T16:58:15.388Z"
   },
   {
    "duration": 12,
    "start_time": "2023-06-21T16:58:15.432Z"
   },
   {
    "duration": 19,
    "start_time": "2023-06-21T16:58:15.446Z"
   },
   {
    "duration": 9,
    "start_time": "2023-06-21T16:58:15.468Z"
   },
   {
    "duration": 30,
    "start_time": "2023-06-21T16:58:15.479Z"
   },
   {
    "duration": 76,
    "start_time": "2023-06-21T16:58:15.511Z"
   },
   {
    "duration": 3,
    "start_time": "2023-06-21T16:58:15.590Z"
   },
   {
    "duration": 57,
    "start_time": "2023-06-21T16:58:15.594Z"
   },
   {
    "duration": 12,
    "start_time": "2023-06-21T16:58:15.656Z"
   },
   {
    "duration": 33,
    "start_time": "2023-06-21T16:58:15.670Z"
   },
   {
    "duration": 17,
    "start_time": "2023-06-21T16:58:15.705Z"
   },
   {
    "duration": 8,
    "start_time": "2023-06-21T16:58:15.724Z"
   },
   {
    "duration": 9,
    "start_time": "2023-06-21T16:58:15.734Z"
   },
   {
    "duration": 29316,
    "start_time": "2023-06-21T16:58:15.745Z"
   },
   {
    "duration": 5,
    "start_time": "2023-06-21T16:58:45.063Z"
   },
   {
    "duration": 5,
    "start_time": "2023-06-21T16:58:45.070Z"
   },
   {
    "duration": 145792,
    "start_time": "2023-06-21T16:58:45.076Z"
   },
   {
    "duration": 5,
    "start_time": "2023-06-21T17:01:10.870Z"
   },
   {
    "duration": 19,
    "start_time": "2023-06-21T17:01:10.917Z"
   },
   {
    "duration": 374,
    "start_time": "2023-06-21T17:01:10.938Z"
   },
   {
    "duration": 11548,
    "start_time": "2023-06-21T17:01:11.322Z"
   },
   {
    "duration": 3,
    "start_time": "2023-06-21T17:01:22.872Z"
   },
   {
    "duration": 60,
    "start_time": "2023-06-21T17:01:22.877Z"
   },
   {
    "duration": 4,
    "start_time": "2023-06-21T17:01:22.938Z"
   },
   {
    "duration": 208,
    "start_time": "2023-06-21T17:01:22.944Z"
   },
   {
    "duration": 27,
    "start_time": "2023-06-21T17:01:23.157Z"
   },
   {
    "duration": 3,
    "start_time": "2023-06-21T17:01:23.186Z"
   },
   {
    "duration": 7,
    "start_time": "2023-06-21T17:01:23.191Z"
   },
   {
    "duration": 15,
    "start_time": "2023-06-21T17:01:23.200Z"
   },
   {
    "duration": 18,
    "start_time": "2023-06-21T17:01:23.217Z"
   },
   {
    "duration": 18,
    "start_time": "2023-06-21T17:01:23.242Z"
   },
   {
    "duration": 5,
    "start_time": "2023-06-21T17:01:23.264Z"
   },
   {
    "duration": 228,
    "start_time": "2023-06-21T17:01:23.271Z"
   },
   {
    "duration": 24629,
    "start_time": "2023-06-22T17:27:18.054Z"
   },
   {
    "duration": 2,
    "start_time": "2023-06-22T17:27:42.685Z"
   },
   {
    "duration": 6,
    "start_time": "2023-06-22T17:27:42.689Z"
   },
   {
    "duration": 33,
    "start_time": "2023-06-22T17:27:42.698Z"
   },
   {
    "duration": 9,
    "start_time": "2023-06-22T17:27:42.732Z"
   },
   {
    "duration": 9,
    "start_time": "2023-06-22T17:27:42.742Z"
   },
   {
    "duration": 191,
    "start_time": "2023-06-22T17:27:42.752Z"
   },
   {
    "duration": 36,
    "start_time": "2023-06-22T17:27:42.944Z"
   },
   {
    "duration": 11,
    "start_time": "2023-06-22T17:27:42.982Z"
   },
   {
    "duration": 48,
    "start_time": "2023-06-22T17:27:42.995Z"
   },
   {
    "duration": 6,
    "start_time": "2023-06-22T17:27:43.044Z"
   },
   {
    "duration": 21,
    "start_time": "2023-06-22T17:27:43.051Z"
   },
   {
    "duration": 8,
    "start_time": "2023-06-22T17:27:43.074Z"
   },
   {
    "duration": 61,
    "start_time": "2023-06-22T17:27:43.084Z"
   },
   {
    "duration": 15,
    "start_time": "2023-06-22T17:27:43.146Z"
   },
   {
    "duration": 72,
    "start_time": "2023-06-22T17:27:43.162Z"
   },
   {
    "duration": 13,
    "start_time": "2023-06-22T17:27:43.236Z"
   },
   {
    "duration": 21,
    "start_time": "2023-06-22T17:27:43.251Z"
   },
   {
    "duration": 6,
    "start_time": "2023-06-22T17:27:43.274Z"
   },
   {
    "duration": 79,
    "start_time": "2023-06-22T17:27:43.282Z"
   },
   {
    "duration": 9,
    "start_time": "2023-06-22T17:27:43.363Z"
   },
   {
    "duration": 13,
    "start_time": "2023-06-22T17:27:43.374Z"
   },
   {
    "duration": 36,
    "start_time": "2023-06-22T17:27:43.390Z"
   },
   {
    "duration": 46,
    "start_time": "2023-06-22T17:27:43.430Z"
   },
   {
    "duration": 24,
    "start_time": "2023-06-22T17:27:43.479Z"
   },
   {
    "duration": 52,
    "start_time": "2023-06-22T17:27:43.505Z"
   },
   {
    "duration": 5,
    "start_time": "2023-06-22T17:27:43.560Z"
   },
   {
    "duration": 15,
    "start_time": "2023-06-22T17:27:43.572Z"
   },
   {
    "duration": 18,
    "start_time": "2023-06-22T17:27:43.590Z"
   },
   {
    "duration": 33,
    "start_time": "2023-06-22T17:27:43.609Z"
   },
   {
    "duration": 10,
    "start_time": "2023-06-22T17:27:43.643Z"
   },
   {
    "duration": 14,
    "start_time": "2023-06-22T17:27:43.654Z"
   },
   {
    "duration": 9,
    "start_time": "2023-06-22T17:27:43.669Z"
   },
   {
    "duration": 13,
    "start_time": "2023-06-22T17:27:43.680Z"
   },
   {
    "duration": 65,
    "start_time": "2023-06-22T17:27:43.694Z"
   },
   {
    "duration": 15,
    "start_time": "2023-06-22T17:27:43.761Z"
   },
   {
    "duration": 30,
    "start_time": "2023-06-22T17:27:43.779Z"
   },
   {
    "duration": 778,
    "start_time": "2023-06-22T17:27:43.810Z"
   },
   {
    "duration": 4,
    "start_time": "2023-06-22T17:27:44.589Z"
   },
   {
    "duration": 57,
    "start_time": "2023-06-22T17:27:44.594Z"
   },
   {
    "duration": 2271,
    "start_time": "2023-06-22T17:27:44.654Z"
   },
   {
    "duration": 3,
    "start_time": "2023-06-22T17:27:46.930Z"
   },
   {
    "duration": 5,
    "start_time": "2023-06-22T17:27:46.935Z"
   },
   {
    "duration": 47,
    "start_time": "2023-06-22T17:27:46.942Z"
   },
   {
    "duration": 7,
    "start_time": "2023-06-22T17:27:46.990Z"
   },
   {
    "duration": 290,
    "start_time": "2023-06-22T17:27:46.998Z"
   },
   {
    "duration": 145,
    "start_time": "2023-06-22T17:27:47.290Z"
   },
   {
    "duration": 8,
    "start_time": "2023-06-22T17:27:47.437Z"
   },
   {
    "duration": 11,
    "start_time": "2023-06-22T17:27:47.446Z"
   },
   {
    "duration": 5,
    "start_time": "2023-06-22T17:27:47.458Z"
   },
   {
    "duration": 6,
    "start_time": "2023-06-22T17:27:47.464Z"
   },
   {
    "duration": 8,
    "start_time": "2023-06-22T17:27:47.471Z"
   },
   {
    "duration": 14,
    "start_time": "2023-06-22T17:27:47.480Z"
   },
   {
    "duration": 63,
    "start_time": "2023-06-22T17:27:47.495Z"
   },
   {
    "duration": 6,
    "start_time": "2023-06-22T17:27:47.560Z"
   },
   {
    "duration": 130,
    "start_time": "2023-06-22T17:27:47.567Z"
   },
   {
    "duration": 7,
    "start_time": "2023-06-22T17:27:47.707Z"
   },
   {
    "duration": 3,
    "start_time": "2023-06-22T17:27:47.715Z"
   },
   {
    "duration": 15,
    "start_time": "2023-06-22T17:27:47.719Z"
   },
   {
    "duration": 12,
    "start_time": "2023-06-22T17:27:47.736Z"
   },
   {
    "duration": 9,
    "start_time": "2023-06-22T17:27:47.750Z"
   },
   {
    "duration": 8,
    "start_time": "2023-06-22T17:27:47.760Z"
   },
   {
    "duration": 16,
    "start_time": "2023-06-22T17:27:47.770Z"
   },
   {
    "duration": 140,
    "start_time": "2023-06-22T17:27:47.788Z"
   },
   {
    "duration": 13,
    "start_time": "2023-06-22T17:27:47.931Z"
   },
   {
    "duration": 27,
    "start_time": "2023-06-22T17:27:47.946Z"
   },
   {
    "duration": 9,
    "start_time": "2023-06-22T17:27:47.975Z"
   },
   {
    "duration": 7,
    "start_time": "2023-06-22T17:27:47.985Z"
   },
   {
    "duration": 4,
    "start_time": "2023-06-22T17:27:47.993Z"
   },
   {
    "duration": 83,
    "start_time": "2023-06-22T17:27:47.999Z"
   },
   {
    "duration": 486,
    "start_time": "2023-06-22T17:27:48.083Z"
   },
   {
    "duration": 3,
    "start_time": "2023-06-22T17:27:48.570Z"
   },
   {
    "duration": 60,
    "start_time": "2023-06-22T17:27:48.575Z"
   },
   {
    "duration": 11,
    "start_time": "2023-06-22T17:27:48.637Z"
   },
   {
    "duration": 18,
    "start_time": "2023-06-22T17:27:48.650Z"
   },
   {
    "duration": 3,
    "start_time": "2023-06-22T17:27:48.670Z"
   },
   {
    "duration": 17,
    "start_time": "2023-06-22T17:27:48.679Z"
   },
   {
    "duration": 58,
    "start_time": "2023-06-22T17:27:48.698Z"
   },
   {
    "duration": 2,
    "start_time": "2023-06-22T17:27:48.758Z"
   },
   {
    "duration": 11,
    "start_time": "2023-06-22T17:27:48.761Z"
   },
   {
    "duration": 9,
    "start_time": "2023-06-22T17:27:48.773Z"
   },
   {
    "duration": 15,
    "start_time": "2023-06-22T17:27:48.783Z"
   },
   {
    "duration": 14,
    "start_time": "2023-06-22T17:27:54.122Z"
   },
   {
    "duration": 3,
    "start_time": "2023-06-22T17:27:54.424Z"
   },
   {
    "duration": 3,
    "start_time": "2023-06-22T17:27:54.638Z"
   },
   {
    "duration": 27144,
    "start_time": "2023-06-22T17:27:55.348Z"
   },
   {
    "duration": 28,
    "start_time": "2023-06-22T17:28:22.494Z"
   },
   {
    "duration": 10,
    "start_time": "2023-06-22T17:28:22.524Z"
   },
   {
    "duration": 178981,
    "start_time": "2023-06-22T17:28:22.536Z"
   },
   {
    "duration": 4,
    "start_time": "2023-06-22T17:31:21.519Z"
   },
   {
    "duration": 22,
    "start_time": "2023-06-22T17:31:21.524Z"
   },
   {
    "duration": 251,
    "start_time": "2023-06-22T17:31:21.548Z"
   },
   {
    "duration": 306,
    "start_time": "2023-06-22T17:59:23.253Z"
   },
   {
    "duration": 46,
    "start_time": "2023-06-22T17:59:31.292Z"
   },
   {
    "duration": 10529,
    "start_time": "2023-06-22T17:59:32.032Z"
   },
   {
    "duration": 2,
    "start_time": "2023-06-22T17:59:49.674Z"
   },
   {
    "duration": 101,
    "start_time": "2023-06-22T17:59:50.026Z"
   },
   {
    "duration": 2,
    "start_time": "2023-06-22T17:59:52.061Z"
   },
   {
    "duration": 241,
    "start_time": "2023-06-22T17:59:52.231Z"
   },
   {
    "duration": 33,
    "start_time": "2023-06-22T17:59:58.226Z"
   },
   {
    "duration": 4,
    "start_time": "2023-06-22T18:00:00.327Z"
   },
   {
    "duration": 13,
    "start_time": "2023-06-22T18:00:05.699Z"
   },
   {
    "duration": 8,
    "start_time": "2023-06-22T18:00:06.026Z"
   },
   {
    "duration": 3,
    "start_time": "2023-06-22T18:00:38.049Z"
   },
   {
    "duration": 4,
    "start_time": "2023-06-22T18:00:38.832Z"
   },
   {
    "duration": 10,
    "start_time": "2023-06-22T18:00:39.199Z"
   },
   {
    "duration": 209,
    "start_time": "2023-06-22T18:00:39.472Z"
   },
   {
    "duration": 117,
    "start_time": "2023-06-22T18:01:31.151Z"
   },
   {
    "duration": 13,
    "start_time": "2023-06-22T18:01:32.243Z"
   },
   {
    "duration": 20,
    "start_time": "2023-06-22T18:01:35.663Z"
   },
   {
    "duration": 9,
    "start_time": "2023-06-22T18:01:38.555Z"
   },
   {
    "duration": 5,
    "start_time": "2023-06-22T18:01:38.636Z"
   },
   {
    "duration": 5,
    "start_time": "2023-06-22T18:01:38.824Z"
   },
   {
    "duration": 32,
    "start_time": "2023-06-22T18:01:38.885Z"
   },
   {
    "duration": 399,
    "start_time": "2023-06-22T18:01:39.056Z"
   },
   {
    "duration": 4,
    "start_time": "2023-06-22T18:01:39.473Z"
   },
   {
    "duration": 14,
    "start_time": "2023-06-22T18:01:39.556Z"
   },
   {
    "duration": 10,
    "start_time": "2023-06-22T18:01:39.734Z"
   },
   {
    "duration": 19,
    "start_time": "2023-06-22T18:01:39.825Z"
   },
   {
    "duration": 18,
    "start_time": "2023-06-22T18:01:40.322Z"
   },
   {
    "duration": 25,
    "start_time": "2023-06-22T18:01:40.396Z"
   },
   {
    "duration": 27,
    "start_time": "2023-06-22T18:01:40.736Z"
   },
   {
    "duration": 6,
    "start_time": "2023-06-22T18:01:40.829Z"
   },
   {
    "duration": 22,
    "start_time": "2023-06-22T18:01:40.895Z"
   },
   {
    "duration": 3,
    "start_time": "2023-06-22T18:01:40.981Z"
   },
   {
    "duration": 12,
    "start_time": "2023-06-22T18:01:41.065Z"
   },
   {
    "duration": 17,
    "start_time": "2023-06-22T18:01:41.396Z"
   },
   {
    "duration": 5,
    "start_time": "2023-06-22T18:01:41.479Z"
   },
   {
    "duration": 4,
    "start_time": "2023-06-22T18:01:41.564Z"
   },
   {
    "duration": 22111,
    "start_time": "2023-06-22T18:01:41.832Z"
   },
   {
    "duration": 4,
    "start_time": "2023-06-22T18:02:03.945Z"
   },
   {
    "duration": 9,
    "start_time": "2023-06-22T18:02:03.950Z"
   },
   {
    "duration": 185180,
    "start_time": "2023-06-22T18:02:03.961Z"
   },
   {
    "duration": 26,
    "start_time": "2023-06-22T18:05:09.202Z"
   },
   {
    "duration": 10,
    "start_time": "2023-06-22T18:05:09.236Z"
   },
   {
    "duration": 65,
    "start_time": "2023-06-22T18:05:09.248Z"
   },
   {
    "duration": 7040,
    "start_time": "2023-06-22T18:05:09.317Z"
   },
   {
    "duration": 2,
    "start_time": "2023-06-22T18:05:16.359Z"
   },
   {
    "duration": 175,
    "start_time": "2023-06-22T18:05:16.365Z"
   },
   {
    "duration": 2,
    "start_time": "2023-06-22T18:05:16.546Z"
   },
   {
    "duration": 210,
    "start_time": "2023-06-22T18:05:16.551Z"
   },
   {
    "duration": 27,
    "start_time": "2023-06-22T18:05:16.764Z"
   },
   {
    "duration": 20,
    "start_time": "2023-06-22T18:05:16.793Z"
   },
   {
    "duration": 43,
    "start_time": "2023-06-22T18:05:16.814Z"
   },
   {
    "duration": 8,
    "start_time": "2023-06-22T18:05:16.858Z"
   },
   {
    "duration": 8,
    "start_time": "2023-06-22T18:05:16.867Z"
   },
   {
    "duration": 26,
    "start_time": "2023-06-22T18:05:16.877Z"
   },
   {
    "duration": 42,
    "start_time": "2023-06-22T18:05:16.904Z"
   },
   {
    "duration": 315,
    "start_time": "2023-06-22T18:05:16.948Z"
   },
   {
    "duration": 360,
    "start_time": "2023-06-22T18:07:00.886Z"
   },
   {
    "duration": 13,
    "start_time": "2023-06-22T18:07:01.249Z"
   },
   {
    "duration": 26,
    "start_time": "2023-06-22T18:07:02.422Z"
   },
   {
    "duration": 13,
    "start_time": "2023-06-22T18:07:34.281Z"
   },
   {
    "duration": 5,
    "start_time": "2023-06-22T18:07:34.491Z"
   },
   {
    "duration": 4,
    "start_time": "2023-06-22T18:07:36.082Z"
   },
   {
    "duration": 49,
    "start_time": "2023-06-22T18:07:39.990Z"
   },
   {
    "duration": 460,
    "start_time": "2023-06-22T18:07:41.023Z"
   },
   {
    "duration": 8,
    "start_time": "2023-06-22T18:07:45.116Z"
   },
   {
    "duration": 32,
    "start_time": "2023-06-22T18:07:46.181Z"
   },
   {
    "duration": 6,
    "start_time": "2023-06-22T18:08:09.385Z"
   },
   {
    "duration": 7,
    "start_time": "2023-06-22T18:08:13.270Z"
   },
   {
    "duration": 10,
    "start_time": "2023-06-22T18:08:14.064Z"
   },
   {
    "duration": 40,
    "start_time": "2023-06-22T18:08:15.711Z"
   },
   {
    "duration": 6,
    "start_time": "2023-06-22T18:08:15.934Z"
   },
   {
    "duration": 10,
    "start_time": "2023-06-22T18:08:16.091Z"
   },
   {
    "duration": 4,
    "start_time": "2023-06-22T18:08:16.263Z"
   },
   {
    "duration": 23,
    "start_time": "2023-06-22T18:08:16.426Z"
   },
   {
    "duration": 12,
    "start_time": "2023-06-22T18:08:17.182Z"
   },
   {
    "duration": 5,
    "start_time": "2023-06-22T18:08:17.340Z"
   },
   {
    "duration": 5,
    "start_time": "2023-06-22T18:08:17.524Z"
   },
   {
    "duration": 26790,
    "start_time": "2023-06-22T18:08:18.271Z"
   },
   {
    "duration": 6,
    "start_time": "2023-06-22T18:08:45.064Z"
   },
   {
    "duration": 25,
    "start_time": "2023-06-22T18:08:45.072Z"
   },
   {
    "duration": 42,
    "start_time": "2023-06-22T18:08:54.624Z"
   },
   {
    "duration": 183585,
    "start_time": "2023-06-22T18:09:03.448Z"
   },
   {
    "duration": 5,
    "start_time": "2023-06-22T18:12:07.038Z"
   },
   {
    "duration": 25,
    "start_time": "2023-06-22T18:12:07.044Z"
   },
   {
    "duration": 68,
    "start_time": "2023-06-22T18:12:26.157Z"
   },
   {
    "duration": 12,
    "start_time": "2023-06-22T18:12:35.529Z"
   },
   {
    "duration": 3,
    "start_time": "2023-06-22T18:12:35.740Z"
   },
   {
    "duration": 54,
    "start_time": "2023-06-22T18:12:42.266Z"
   },
   {
    "duration": 125,
    "start_time": "2023-06-22T18:12:52.600Z"
   },
   {
    "duration": 88,
    "start_time": "2023-06-22T18:12:56.137Z"
   },
   {
    "duration": 12192,
    "start_time": "2023-06-22T18:14:14.534Z"
   },
   {
    "duration": 5,
    "start_time": "2023-06-22T18:14:26.734Z"
   },
   {
    "duration": 8,
    "start_time": "2023-06-22T18:14:26.740Z"
   },
   {
    "duration": 4,
    "start_time": "2023-06-22T18:14:26.750Z"
   },
   {
    "duration": 7,
    "start_time": "2023-06-22T18:14:26.755Z"
   },
   {
    "duration": 7,
    "start_time": "2023-06-22T18:14:26.764Z"
   },
   {
    "duration": 98,
    "start_time": "2023-06-22T18:14:26.773Z"
   },
   {
    "duration": 31,
    "start_time": "2023-06-22T18:14:26.872Z"
   },
   {
    "duration": 18,
    "start_time": "2023-06-22T18:14:26.916Z"
   },
   {
    "duration": 19,
    "start_time": "2023-06-22T18:14:26.936Z"
   },
   {
    "duration": 6,
    "start_time": "2023-06-22T18:14:26.957Z"
   },
   {
    "duration": 18,
    "start_time": "2023-06-22T18:14:26.965Z"
   },
   {
    "duration": 7,
    "start_time": "2023-06-22T18:14:26.984Z"
   },
   {
    "duration": 27,
    "start_time": "2023-06-22T18:14:26.992Z"
   },
   {
    "duration": 12,
    "start_time": "2023-06-22T18:14:27.034Z"
   },
   {
    "duration": 28,
    "start_time": "2023-06-22T18:14:27.047Z"
   },
   {
    "duration": 9,
    "start_time": "2023-06-22T18:14:27.076Z"
   },
   {
    "duration": 43,
    "start_time": "2023-06-22T18:14:27.086Z"
   },
   {
    "duration": 9,
    "start_time": "2023-06-22T18:14:27.135Z"
   },
   {
    "duration": 53,
    "start_time": "2023-06-22T18:14:27.145Z"
   },
   {
    "duration": 21,
    "start_time": "2023-06-22T18:14:27.200Z"
   },
   {
    "duration": 27,
    "start_time": "2023-06-22T18:14:27.222Z"
   },
   {
    "duration": 8,
    "start_time": "2023-06-22T18:14:27.251Z"
   },
   {
    "duration": 36,
    "start_time": "2023-06-22T18:14:27.260Z"
   },
   {
    "duration": 31,
    "start_time": "2023-06-22T18:14:27.298Z"
   },
   {
    "duration": 19,
    "start_time": "2023-06-22T18:14:27.330Z"
   },
   {
    "duration": 5,
    "start_time": "2023-06-22T18:14:27.351Z"
   },
   {
    "duration": 8,
    "start_time": "2023-06-22T18:14:27.361Z"
   },
   {
    "duration": 12,
    "start_time": "2023-06-22T18:14:27.370Z"
   },
   {
    "duration": 8,
    "start_time": "2023-06-22T18:14:27.384Z"
   },
   {
    "duration": 51,
    "start_time": "2023-06-22T18:14:27.394Z"
   },
   {
    "duration": 18,
    "start_time": "2023-06-22T18:14:27.447Z"
   },
   {
    "duration": 19,
    "start_time": "2023-06-22T18:14:27.466Z"
   },
   {
    "duration": 13,
    "start_time": "2023-06-22T18:14:27.487Z"
   },
   {
    "duration": 41,
    "start_time": "2023-06-22T18:14:27.521Z"
   },
   {
    "duration": 13,
    "start_time": "2023-06-22T18:14:27.564Z"
   },
   {
    "duration": 5,
    "start_time": "2023-06-22T18:14:27.579Z"
   },
   {
    "duration": 787,
    "start_time": "2023-06-22T18:14:27.586Z"
   },
   {
    "duration": 3,
    "start_time": "2023-06-22T18:14:28.374Z"
   },
   {
    "duration": 41,
    "start_time": "2023-06-22T18:14:28.378Z"
   },
   {
    "duration": 2132,
    "start_time": "2023-06-22T18:14:28.420Z"
   },
   {
    "duration": 4,
    "start_time": "2023-06-22T18:14:30.554Z"
   },
   {
    "duration": 78,
    "start_time": "2023-06-22T18:14:30.559Z"
   },
   {
    "duration": 111,
    "start_time": "2023-06-22T18:14:30.638Z"
   },
   {
    "duration": 44,
    "start_time": "2023-06-22T18:14:30.754Z"
   },
   {
    "duration": 226,
    "start_time": "2023-06-22T18:14:30.810Z"
   },
   {
    "duration": 128,
    "start_time": "2023-06-22T18:14:31.038Z"
   },
   {
    "duration": 8,
    "start_time": "2023-06-22T18:14:31.168Z"
   },
   {
    "duration": 73,
    "start_time": "2023-06-22T18:14:31.177Z"
   },
   {
    "duration": 74,
    "start_time": "2023-06-22T18:14:31.251Z"
   },
   {
    "duration": 7,
    "start_time": "2023-06-22T18:14:31.326Z"
   },
   {
    "duration": 55,
    "start_time": "2023-06-22T18:14:31.335Z"
   },
   {
    "duration": 51,
    "start_time": "2023-06-22T18:14:31.392Z"
   },
   {
    "duration": 85,
    "start_time": "2023-06-22T18:14:31.444Z"
   },
   {
    "duration": 19,
    "start_time": "2023-06-22T18:14:31.534Z"
   },
   {
    "duration": 184,
    "start_time": "2023-06-22T18:14:31.554Z"
   },
   {
    "duration": 10,
    "start_time": "2023-06-22T18:14:31.739Z"
   },
   {
    "duration": 35,
    "start_time": "2023-06-22T18:14:31.750Z"
   },
   {
    "duration": 62,
    "start_time": "2023-06-22T18:14:31.787Z"
   },
   {
    "duration": 24,
    "start_time": "2023-06-22T18:14:31.850Z"
   },
   {
    "duration": 19,
    "start_time": "2023-06-22T18:14:31.875Z"
   },
   {
    "duration": 44,
    "start_time": "2023-06-22T18:14:31.896Z"
   },
   {
    "duration": 32,
    "start_time": "2023-06-22T18:14:31.941Z"
   },
   {
    "duration": 119,
    "start_time": "2023-06-22T18:14:31.975Z"
   },
   {
    "duration": 30,
    "start_time": "2023-06-22T18:14:32.096Z"
   },
   {
    "duration": 63,
    "start_time": "2023-06-22T18:14:32.130Z"
   },
   {
    "duration": 68,
    "start_time": "2023-06-22T18:14:32.196Z"
   },
   {
    "duration": 25,
    "start_time": "2023-06-22T18:14:32.265Z"
   },
   {
    "duration": 71,
    "start_time": "2023-06-22T18:14:32.292Z"
   },
   {
    "duration": 47,
    "start_time": "2023-06-22T18:14:32.365Z"
   },
   {
    "duration": 545,
    "start_time": "2023-06-22T18:14:32.414Z"
   },
   {
    "duration": 4,
    "start_time": "2023-06-22T18:14:32.961Z"
   },
   {
    "duration": 24,
    "start_time": "2023-06-22T18:14:32.967Z"
   },
   {
    "duration": 16,
    "start_time": "2023-06-22T18:14:32.993Z"
   },
   {
    "duration": 36,
    "start_time": "2023-06-22T18:14:33.010Z"
   },
   {
    "duration": 12,
    "start_time": "2023-06-22T18:14:33.048Z"
   },
   {
    "duration": 13,
    "start_time": "2023-06-22T18:14:33.062Z"
   },
   {
    "duration": 55,
    "start_time": "2023-06-22T18:14:33.077Z"
   },
   {
    "duration": 3,
    "start_time": "2023-06-22T18:14:33.133Z"
   },
   {
    "duration": 25,
    "start_time": "2023-06-22T18:14:33.137Z"
   },
   {
    "duration": 3,
    "start_time": "2023-06-22T18:14:33.164Z"
   },
   {
    "duration": 17,
    "start_time": "2023-06-22T18:14:33.172Z"
   },
   {
    "duration": 28,
    "start_time": "2023-06-22T18:14:33.191Z"
   },
   {
    "duration": 39,
    "start_time": "2023-06-22T18:14:33.221Z"
   },
   {
    "duration": 5,
    "start_time": "2023-06-22T18:14:33.263Z"
   },
   {
    "duration": 28101,
    "start_time": "2023-06-22T18:14:33.270Z"
   },
   {
    "duration": 3,
    "start_time": "2023-06-22T18:15:01.373Z"
   },
   {
    "duration": 70,
    "start_time": "2023-06-22T18:15:01.377Z"
   },
   {
    "duration": 186693,
    "start_time": "2023-06-22T18:15:01.448Z"
   },
   {
    "duration": 5,
    "start_time": "2023-06-22T18:18:08.144Z"
   },
   {
    "duration": 48,
    "start_time": "2023-06-22T18:18:08.150Z"
   },
   {
    "duration": 227,
    "start_time": "2023-06-22T18:18:08.199Z"
   },
   {
    "duration": 10955,
    "start_time": "2023-06-22T18:18:08.434Z"
   },
   {
    "duration": 3,
    "start_time": "2023-06-22T18:18:19.391Z"
   },
   {
    "duration": 158,
    "start_time": "2023-06-22T18:18:19.397Z"
   },
   {
    "duration": 3,
    "start_time": "2023-06-22T18:18:19.558Z"
   },
   {
    "duration": 131,
    "start_time": "2023-06-22T18:18:19.563Z"
   },
   {
    "duration": 46,
    "start_time": "2023-06-22T18:18:19.695Z"
   },
   {
    "duration": 14,
    "start_time": "2023-06-22T18:18:19.742Z"
   },
   {
    "duration": 11,
    "start_time": "2023-06-22T18:18:19.757Z"
   },
   {
    "duration": 12,
    "start_time": "2023-06-22T18:18:19.769Z"
   },
   {
    "duration": 15,
    "start_time": "2023-06-22T18:18:19.782Z"
   },
   {
    "duration": 53,
    "start_time": "2023-06-22T18:18:19.798Z"
   },
   {
    "duration": 19,
    "start_time": "2023-06-22T18:18:19.852Z"
   },
   {
    "duration": 251,
    "start_time": "2023-06-22T18:18:19.872Z"
   },
   {
    "duration": 12234,
    "start_time": "2023-06-22T18:36:47.375Z"
   },
   {
    "duration": 3,
    "start_time": "2023-06-22T18:36:59.610Z"
   },
   {
    "duration": 22,
    "start_time": "2023-06-22T18:36:59.626Z"
   },
   {
    "duration": 16,
    "start_time": "2023-06-22T18:36:59.651Z"
   },
   {
    "duration": 7,
    "start_time": "2023-06-22T18:36:59.669Z"
   },
   {
    "duration": 65,
    "start_time": "2023-06-22T18:36:59.677Z"
   },
   {
    "duration": 179,
    "start_time": "2023-06-22T18:36:59.744Z"
   },
   {
    "duration": 39,
    "start_time": "2023-06-22T18:36:59.924Z"
   },
   {
    "duration": 13,
    "start_time": "2023-06-22T18:36:59.964Z"
   },
   {
    "duration": 18,
    "start_time": "2023-06-22T18:36:59.980Z"
   },
   {
    "duration": 19,
    "start_time": "2023-06-22T18:37:00.002Z"
   },
   {
    "duration": 61,
    "start_time": "2023-06-22T18:37:00.023Z"
   },
   {
    "duration": 48,
    "start_time": "2023-06-22T18:37:00.086Z"
   },
   {
    "duration": 46,
    "start_time": "2023-06-22T18:37:00.136Z"
   },
   {
    "duration": 81,
    "start_time": "2023-06-22T18:37:00.183Z"
   },
   {
    "duration": 79,
    "start_time": "2023-06-22T18:37:00.265Z"
   },
   {
    "duration": 32,
    "start_time": "2023-06-22T18:37:00.346Z"
   },
   {
    "duration": 70,
    "start_time": "2023-06-22T18:37:00.380Z"
   },
   {
    "duration": 20,
    "start_time": "2023-06-22T18:37:00.452Z"
   },
   {
    "duration": 108,
    "start_time": "2023-06-22T18:37:00.475Z"
   },
   {
    "duration": 10,
    "start_time": "2023-06-22T18:37:00.585Z"
   },
   {
    "duration": 89,
    "start_time": "2023-06-22T18:37:00.596Z"
   },
   {
    "duration": 67,
    "start_time": "2023-06-22T18:37:00.687Z"
   },
   {
    "duration": 107,
    "start_time": "2023-06-22T18:37:00.757Z"
   },
   {
    "duration": 63,
    "start_time": "2023-06-22T18:37:00.866Z"
   },
   {
    "duration": 41,
    "start_time": "2023-06-22T18:37:00.936Z"
   },
   {
    "duration": 88,
    "start_time": "2023-06-22T18:37:00.979Z"
   },
   {
    "duration": 104,
    "start_time": "2023-06-22T18:37:01.072Z"
   },
   {
    "duration": 93,
    "start_time": "2023-06-22T18:37:01.178Z"
   },
   {
    "duration": 94,
    "start_time": "2023-06-22T18:37:01.273Z"
   },
   {
    "duration": 113,
    "start_time": "2023-06-22T18:37:01.369Z"
   },
   {
    "duration": 157,
    "start_time": "2023-06-22T18:37:01.484Z"
   },
   {
    "duration": 123,
    "start_time": "2023-06-22T18:37:01.643Z"
   },
   {
    "duration": 87,
    "start_time": "2023-06-22T18:37:01.767Z"
   },
   {
    "duration": 42,
    "start_time": "2023-06-22T18:37:01.856Z"
   },
   {
    "duration": 129,
    "start_time": "2023-06-22T18:37:01.905Z"
   },
   {
    "duration": 101,
    "start_time": "2023-06-22T18:37:02.035Z"
   },
   {
    "duration": 1012,
    "start_time": "2023-06-22T18:37:02.138Z"
   },
   {
    "duration": 4,
    "start_time": "2023-06-22T18:37:03.152Z"
   },
   {
    "duration": 35,
    "start_time": "2023-06-22T18:37:03.158Z"
   },
   {
    "duration": 2288,
    "start_time": "2023-06-22T18:37:03.194Z"
   },
   {
    "duration": 5,
    "start_time": "2023-06-22T18:37:05.485Z"
   },
   {
    "duration": 74,
    "start_time": "2023-06-22T18:37:05.492Z"
   },
   {
    "duration": 99,
    "start_time": "2023-06-22T18:37:05.568Z"
   },
   {
    "duration": 46,
    "start_time": "2023-06-22T18:37:05.670Z"
   },
   {
    "duration": 215,
    "start_time": "2023-06-22T18:37:05.718Z"
   },
   {
    "duration": 156,
    "start_time": "2023-06-22T18:37:05.936Z"
   },
   {
    "duration": 19,
    "start_time": "2023-06-22T18:37:06.094Z"
   },
   {
    "duration": 54,
    "start_time": "2023-06-22T18:37:06.114Z"
   },
   {
    "duration": 29,
    "start_time": "2023-06-22T18:37:06.170Z"
   },
   {
    "duration": 50,
    "start_time": "2023-06-22T18:37:06.201Z"
   },
   {
    "duration": 46,
    "start_time": "2023-06-22T18:37:06.253Z"
   },
   {
    "duration": 78,
    "start_time": "2023-06-22T18:37:06.302Z"
   },
   {
    "duration": 92,
    "start_time": "2023-06-22T18:37:06.382Z"
   },
   {
    "duration": 7,
    "start_time": "2023-06-22T18:37:06.476Z"
   },
   {
    "duration": 135,
    "start_time": "2023-06-22T18:37:06.485Z"
   },
   {
    "duration": 9,
    "start_time": "2023-06-22T18:37:06.622Z"
   },
   {
    "duration": 20,
    "start_time": "2023-06-22T18:37:06.632Z"
   },
   {
    "duration": 14,
    "start_time": "2023-06-22T18:37:06.654Z"
   },
   {
    "duration": 10,
    "start_time": "2023-06-22T18:37:06.670Z"
   },
   {
    "duration": 13,
    "start_time": "2023-06-22T18:37:06.681Z"
   },
   {
    "duration": 56,
    "start_time": "2023-06-22T18:37:06.696Z"
   },
   {
    "duration": 16,
    "start_time": "2023-06-22T18:37:06.754Z"
   },
   {
    "duration": 153,
    "start_time": "2023-06-22T18:37:06.772Z"
   },
   {
    "duration": 23,
    "start_time": "2023-06-22T18:37:06.926Z"
   },
   {
    "duration": 17,
    "start_time": "2023-06-22T18:37:06.956Z"
   },
   {
    "duration": 346,
    "start_time": "2023-06-22T18:37:06.975Z"
   },
   {
    "duration": 0,
    "start_time": "2023-06-22T18:37:07.329Z"
   },
   {
    "duration": 0,
    "start_time": "2023-06-22T18:37:07.330Z"
   },
   {
    "duration": 0,
    "start_time": "2023-06-22T18:37:07.330Z"
   },
   {
    "duration": 0,
    "start_time": "2023-06-22T18:37:07.331Z"
   },
   {
    "duration": 0,
    "start_time": "2023-06-22T18:37:07.331Z"
   },
   {
    "duration": 0,
    "start_time": "2023-06-22T18:37:07.332Z"
   },
   {
    "duration": 0,
    "start_time": "2023-06-22T18:37:07.332Z"
   },
   {
    "duration": 0,
    "start_time": "2023-06-22T18:37:07.333Z"
   },
   {
    "duration": 0,
    "start_time": "2023-06-22T18:37:07.342Z"
   },
   {
    "duration": 0,
    "start_time": "2023-06-22T18:37:07.343Z"
   },
   {
    "duration": 0,
    "start_time": "2023-06-22T18:37:07.344Z"
   },
   {
    "duration": 0,
    "start_time": "2023-06-22T18:37:07.346Z"
   },
   {
    "duration": 0,
    "start_time": "2023-06-22T18:37:07.346Z"
   },
   {
    "duration": 0,
    "start_time": "2023-06-22T18:37:07.348Z"
   },
   {
    "duration": 0,
    "start_time": "2023-06-22T18:37:07.348Z"
   },
   {
    "duration": 0,
    "start_time": "2023-06-22T18:37:07.349Z"
   },
   {
    "duration": 0,
    "start_time": "2023-06-22T18:37:07.350Z"
   },
   {
    "duration": 0,
    "start_time": "2023-06-22T18:37:07.351Z"
   },
   {
    "duration": 0,
    "start_time": "2023-06-22T18:37:07.353Z"
   },
   {
    "duration": 0,
    "start_time": "2023-06-22T18:37:07.354Z"
   },
   {
    "duration": 0,
    "start_time": "2023-06-22T18:37:07.355Z"
   },
   {
    "duration": 0,
    "start_time": "2023-06-22T18:37:07.356Z"
   },
   {
    "duration": 0,
    "start_time": "2023-06-22T18:37:07.357Z"
   },
   {
    "duration": 0,
    "start_time": "2023-06-22T18:37:07.358Z"
   },
   {
    "duration": 0,
    "start_time": "2023-06-22T18:37:07.358Z"
   },
   {
    "duration": 0,
    "start_time": "2023-06-22T18:37:07.360Z"
   },
   {
    "duration": 0,
    "start_time": "2023-06-22T18:37:07.361Z"
   },
   {
    "duration": 0,
    "start_time": "2023-06-22T18:37:07.362Z"
   },
   {
    "duration": 0,
    "start_time": "2023-06-22T18:37:07.362Z"
   },
   {
    "duration": 0,
    "start_time": "2023-06-22T18:37:07.364Z"
   },
   {
    "duration": 0,
    "start_time": "2023-06-22T18:37:07.364Z"
   },
   {
    "duration": 0,
    "start_time": "2023-06-22T18:37:07.366Z"
   },
   {
    "duration": 0,
    "start_time": "2023-06-22T18:37:07.367Z"
   },
   {
    "duration": 0,
    "start_time": "2023-06-22T18:37:07.368Z"
   },
   {
    "duration": 0,
    "start_time": "2023-06-22T18:37:07.369Z"
   },
   {
    "duration": 0,
    "start_time": "2023-06-22T18:37:07.369Z"
   },
   {
    "duration": 0,
    "start_time": "2023-06-22T18:37:07.370Z"
   },
   {
    "duration": 0,
    "start_time": "2023-06-22T18:37:07.371Z"
   },
   {
    "duration": 0,
    "start_time": "2023-06-22T18:37:07.372Z"
   },
   {
    "duration": 5,
    "start_time": "2023-06-22T18:39:23.555Z"
   },
   {
    "duration": 10,
    "start_time": "2023-06-22T18:39:27.942Z"
   },
   {
    "duration": 15,
    "start_time": "2023-06-22T18:39:28.029Z"
   },
   {
    "duration": 20,
    "start_time": "2023-06-22T18:39:28.209Z"
   },
   {
    "duration": 50,
    "start_time": "2023-06-22T18:39:28.269Z"
   },
   {
    "duration": 366,
    "start_time": "2023-06-22T18:39:28.443Z"
   },
   {
    "duration": 3,
    "start_time": "2023-06-22T18:39:28.863Z"
   },
   {
    "duration": 20,
    "start_time": "2023-06-22T18:39:28.943Z"
   },
   {
    "duration": 6,
    "start_time": "2023-06-22T18:39:29.119Z"
   },
   {
    "duration": 3,
    "start_time": "2023-06-22T18:39:29.222Z"
   },
   {
    "duration": 2,
    "start_time": "2023-06-22T18:39:29.983Z"
   },
   {
    "duration": 10,
    "start_time": "2023-06-22T18:39:29.986Z"
   },
   {
    "duration": 39,
    "start_time": "2023-06-22T18:39:30.124Z"
   },
   {
    "duration": 9,
    "start_time": "2023-06-22T18:39:30.225Z"
   },
   {
    "duration": 7,
    "start_time": "2023-06-22T18:39:30.271Z"
   },
   {
    "duration": 2,
    "start_time": "2023-06-22T18:39:30.358Z"
   },
   {
    "duration": 12,
    "start_time": "2023-06-22T18:39:30.445Z"
   },
   {
    "duration": 8,
    "start_time": "2023-06-22T18:39:30.776Z"
   },
   {
    "duration": 4,
    "start_time": "2023-06-22T18:39:30.855Z"
   },
   {
    "duration": 2,
    "start_time": "2023-06-22T18:39:30.943Z"
   },
   {
    "duration": 27845,
    "start_time": "2023-06-22T18:39:31.229Z"
   },
   {
    "duration": 5,
    "start_time": "2023-06-22T18:39:59.076Z"
   },
   {
    "duration": 7,
    "start_time": "2023-06-22T18:39:59.082Z"
   },
   {
    "duration": 182855,
    "start_time": "2023-06-22T18:39:59.091Z"
   },
   {
    "duration": 78,
    "start_time": "2023-06-22T18:43:01.950Z"
   },
   {
    "duration": 41,
    "start_time": "2023-06-22T18:43:02.030Z"
   },
   {
    "duration": 196,
    "start_time": "2023-06-22T18:43:02.072Z"
   },
   {
    "duration": 9503,
    "start_time": "2023-06-22T18:43:02.269Z"
   },
   {
    "duration": 3,
    "start_time": "2023-06-22T18:43:11.773Z"
   },
   {
    "duration": 120,
    "start_time": "2023-06-22T18:43:11.813Z"
   },
   {
    "duration": 14,
    "start_time": "2023-06-22T18:43:11.938Z"
   },
   {
    "duration": 156,
    "start_time": "2023-06-22T18:43:11.953Z"
   },
   {
    "duration": 37,
    "start_time": "2023-06-22T18:43:12.112Z"
   },
   {
    "duration": 6,
    "start_time": "2023-06-22T18:43:12.152Z"
   },
   {
    "duration": 13,
    "start_time": "2023-06-22T18:43:12.160Z"
   },
   {
    "duration": 15,
    "start_time": "2023-06-22T18:43:12.175Z"
   },
   {
    "duration": 49,
    "start_time": "2023-06-22T18:43:12.192Z"
   },
   {
    "duration": 15,
    "start_time": "2023-06-22T18:43:12.244Z"
   },
   {
    "duration": 14,
    "start_time": "2023-06-22T18:43:12.260Z"
   },
   {
    "duration": 209,
    "start_time": "2023-06-22T18:43:12.276Z"
   },
   {
    "duration": 5,
    "start_time": "2023-06-22T18:44:50.242Z"
   },
   {
    "duration": 9,
    "start_time": "2023-06-22T18:44:55.271Z"
   },
   {
    "duration": 14,
    "start_time": "2023-06-22T18:44:56.820Z"
   },
   {
    "duration": 17,
    "start_time": "2023-06-22T18:44:56.926Z"
   },
   {
    "duration": 33,
    "start_time": "2023-06-22T18:44:57.231Z"
   },
   {
    "duration": 15,
    "start_time": "2023-06-22T18:44:57.329Z"
   },
   {
    "duration": 24,
    "start_time": "2023-06-22T18:44:57.422Z"
   },
   {
    "duration": 2,
    "start_time": "2023-06-22T18:44:57.474Z"
   },
   {
    "duration": 20,
    "start_time": "2023-06-22T18:44:57.730Z"
   },
   {
    "duration": 14,
    "start_time": "2023-06-22T18:44:58.430Z"
   },
   {
    "duration": 13,
    "start_time": "2023-06-22T18:44:58.620Z"
   },
   {
    "duration": 3,
    "start_time": "2023-06-22T18:44:58.760Z"
   },
   {
    "duration": 4877,
    "start_time": "2023-06-22T18:45:02.176Z"
   },
   {
    "duration": 4,
    "start_time": "2023-06-22T18:45:11.871Z"
   },
   {
    "duration": 3,
    "start_time": "2023-06-22T18:45:12.172Z"
   },
   {
    "duration": 179773,
    "start_time": "2023-06-22T18:45:18.146Z"
   },
   {
    "duration": 11,
    "start_time": "2023-06-22T18:48:42.022Z"
   },
   {
    "duration": 4,
    "start_time": "2023-06-22T18:48:42.439Z"
   },
   {
    "duration": 59,
    "start_time": "2023-06-22T18:48:44.262Z"
   },
   {
    "duration": 10881,
    "start_time": "2023-06-22T18:48:44.535Z"
   },
   {
    "duration": 3,
    "start_time": "2023-06-22T18:48:59.725Z"
   },
   {
    "duration": 78,
    "start_time": "2023-06-22T18:49:00.137Z"
   },
   {
    "duration": 3,
    "start_time": "2023-06-22T18:49:01.179Z"
   },
   {
    "duration": 145,
    "start_time": "2023-06-22T18:49:01.942Z"
   },
   {
    "duration": 19674,
    "start_time": "2023-06-22T18:52:19.342Z"
   },
   {
    "duration": 3,
    "start_time": "2023-06-22T18:52:39.020Z"
   },
   {
    "duration": 42,
    "start_time": "2023-06-22T18:52:39.026Z"
   },
   {
    "duration": 3,
    "start_time": "2023-06-22T18:52:39.073Z"
   },
   {
    "duration": 9,
    "start_time": "2023-06-22T18:52:39.078Z"
   },
   {
    "duration": 16,
    "start_time": "2023-06-22T18:52:39.088Z"
   },
   {
    "duration": 184,
    "start_time": "2023-06-22T18:52:39.106Z"
   },
   {
    "duration": 64,
    "start_time": "2023-06-22T18:52:39.293Z"
   },
   {
    "duration": 21,
    "start_time": "2023-06-22T18:52:39.366Z"
   },
   {
    "duration": 28,
    "start_time": "2023-06-22T18:52:39.389Z"
   },
   {
    "duration": 65,
    "start_time": "2023-06-22T18:52:39.419Z"
   },
   {
    "duration": 40,
    "start_time": "2023-06-22T18:52:39.486Z"
   },
   {
    "duration": 50,
    "start_time": "2023-06-22T18:52:39.527Z"
   },
   {
    "duration": 19,
    "start_time": "2023-06-22T18:52:39.581Z"
   },
   {
    "duration": 16,
    "start_time": "2023-06-22T18:52:39.602Z"
   },
   {
    "duration": 66,
    "start_time": "2023-06-22T18:52:39.620Z"
   },
   {
    "duration": 15,
    "start_time": "2023-06-22T18:52:39.689Z"
   },
   {
    "duration": 68,
    "start_time": "2023-06-22T18:52:39.706Z"
   },
   {
    "duration": 7,
    "start_time": "2023-06-22T18:52:39.775Z"
   },
   {
    "duration": 102,
    "start_time": "2023-06-22T18:52:39.785Z"
   },
   {
    "duration": 8,
    "start_time": "2023-06-22T18:52:39.888Z"
   },
   {
    "duration": 64,
    "start_time": "2023-06-22T18:52:39.897Z"
   },
   {
    "duration": 11,
    "start_time": "2023-06-22T18:52:39.963Z"
   },
   {
    "duration": 52,
    "start_time": "2023-06-22T18:52:39.976Z"
   },
   {
    "duration": 16,
    "start_time": "2023-06-22T18:52:40.030Z"
   },
   {
    "duration": 55,
    "start_time": "2023-06-22T18:52:40.048Z"
   },
   {
    "duration": 16,
    "start_time": "2023-06-22T18:52:40.105Z"
   },
   {
    "duration": 52,
    "start_time": "2023-06-22T18:52:40.123Z"
   },
   {
    "duration": 6,
    "start_time": "2023-06-22T18:52:40.178Z"
   },
   {
    "duration": 24,
    "start_time": "2023-06-22T18:52:40.186Z"
   },
   {
    "duration": 72,
    "start_time": "2023-06-22T18:52:40.212Z"
   },
   {
    "duration": 8,
    "start_time": "2023-06-22T18:52:40.286Z"
   },
   {
    "duration": 60,
    "start_time": "2023-06-22T18:52:40.295Z"
   },
   {
    "duration": 29,
    "start_time": "2023-06-22T18:52:40.357Z"
   },
   {
    "duration": 122,
    "start_time": "2023-06-22T18:52:40.389Z"
   },
   {
    "duration": 61,
    "start_time": "2023-06-22T18:52:40.512Z"
   },
   {
    "duration": 14,
    "start_time": "2023-06-22T18:52:40.578Z"
   },
   {
    "duration": 1095,
    "start_time": "2023-06-22T18:52:40.594Z"
   },
   {
    "duration": 4,
    "start_time": "2023-06-22T18:52:41.691Z"
   },
   {
    "duration": 81,
    "start_time": "2023-06-22T18:52:41.697Z"
   },
   {
    "duration": 2852,
    "start_time": "2023-06-22T18:52:41.785Z"
   },
   {
    "duration": 5,
    "start_time": "2023-06-22T18:52:44.645Z"
   },
   {
    "duration": 58,
    "start_time": "2023-06-22T18:52:44.651Z"
   },
   {
    "duration": 137,
    "start_time": "2023-06-22T18:52:44.711Z"
   },
   {
    "duration": 68,
    "start_time": "2023-06-22T18:52:44.851Z"
   },
   {
    "duration": 474,
    "start_time": "2023-06-22T18:52:44.922Z"
   },
   {
    "duration": 316,
    "start_time": "2023-06-22T18:52:45.398Z"
   },
   {
    "duration": 10,
    "start_time": "2023-06-22T18:52:45.716Z"
   },
   {
    "duration": 81,
    "start_time": "2023-06-22T18:52:45.728Z"
   },
   {
    "duration": 73,
    "start_time": "2023-06-22T18:52:45.812Z"
   },
   {
    "duration": 6,
    "start_time": "2023-06-22T18:52:45.888Z"
   },
   {
    "duration": 69,
    "start_time": "2023-06-22T18:52:45.897Z"
   },
   {
    "duration": 29,
    "start_time": "2023-06-22T18:52:45.969Z"
   },
   {
    "duration": 138,
    "start_time": "2023-06-22T18:52:46.000Z"
   },
   {
    "duration": 19,
    "start_time": "2023-06-22T18:52:46.141Z"
   },
   {
    "duration": 357,
    "start_time": "2023-06-22T18:52:46.169Z"
   },
   {
    "duration": 13,
    "start_time": "2023-06-22T18:52:46.534Z"
   },
   {
    "duration": 40,
    "start_time": "2023-06-22T18:52:46.555Z"
   },
   {
    "duration": 82,
    "start_time": "2023-06-22T18:52:46.598Z"
   },
   {
    "duration": 53,
    "start_time": "2023-06-22T18:52:46.683Z"
   },
   {
    "duration": 128,
    "start_time": "2023-06-22T18:52:46.740Z"
   },
   {
    "duration": 12,
    "start_time": "2023-06-22T18:52:46.871Z"
   },
   {
    "duration": 18,
    "start_time": "2023-06-22T18:52:46.885Z"
   },
   {
    "duration": 311,
    "start_time": "2023-06-22T18:52:46.908Z"
   },
   {
    "duration": 29,
    "start_time": "2023-06-22T18:52:47.220Z"
   },
   {
    "duration": 46,
    "start_time": "2023-06-22T18:52:47.251Z"
   },
   {
    "duration": 42,
    "start_time": "2023-06-22T18:52:47.299Z"
   },
   {
    "duration": 35,
    "start_time": "2023-06-22T18:52:47.344Z"
   },
   {
    "duration": 4,
    "start_time": "2023-06-22T18:52:47.381Z"
   },
   {
    "duration": 78,
    "start_time": "2023-06-22T18:52:47.387Z"
   },
   {
    "duration": 509,
    "start_time": "2023-06-22T18:52:47.467Z"
   },
   {
    "duration": 4,
    "start_time": "2023-06-22T18:52:47.978Z"
   },
   {
    "duration": 65,
    "start_time": "2023-06-22T18:52:47.983Z"
   },
   {
    "duration": 81,
    "start_time": "2023-06-22T18:52:48.049Z"
   },
   {
    "duration": 72,
    "start_time": "2023-06-22T18:52:48.133Z"
   },
   {
    "duration": 124,
    "start_time": "2023-06-22T18:52:48.206Z"
   },
   {
    "duration": 52,
    "start_time": "2023-06-22T18:52:48.334Z"
   },
   {
    "duration": 93,
    "start_time": "2023-06-22T18:52:48.388Z"
   },
   {
    "duration": 3,
    "start_time": "2023-06-22T18:52:48.484Z"
   },
   {
    "duration": 10,
    "start_time": "2023-06-22T18:52:48.488Z"
   },
   {
    "duration": 60,
    "start_time": "2023-06-22T18:52:48.510Z"
   },
   {
    "duration": 24,
    "start_time": "2023-06-22T18:52:48.572Z"
   },
   {
    "duration": 23,
    "start_time": "2023-06-22T18:52:48.598Z"
   },
   {
    "duration": 58,
    "start_time": "2023-06-22T18:52:48.623Z"
   },
   {
    "duration": 12,
    "start_time": "2023-06-22T18:52:48.683Z"
   },
   {
    "duration": 5736,
    "start_time": "2023-06-22T18:52:48.698Z"
   },
   {
    "duration": 4,
    "start_time": "2023-06-22T18:52:54.436Z"
   },
   {
    "duration": 13,
    "start_time": "2023-06-22T18:52:54.442Z"
   },
   {
    "duration": 184783,
    "start_time": "2023-06-22T18:52:54.466Z"
   },
   {
    "duration": 49,
    "start_time": "2023-06-22T18:55:59.259Z"
   },
   {
    "duration": 9,
    "start_time": "2023-06-22T18:55:59.315Z"
   },
   {
    "duration": 358,
    "start_time": "2023-06-22T18:55:59.331Z"
   },
   {
    "duration": 10950,
    "start_time": "2023-06-22T18:55:59.691Z"
   },
   {
    "duration": 7,
    "start_time": "2023-06-22T18:56:10.646Z"
   },
   {
    "duration": 91,
    "start_time": "2023-06-22T18:56:10.654Z"
   },
   {
    "duration": 3,
    "start_time": "2023-06-22T18:56:10.747Z"
   },
   {
    "duration": 312,
    "start_time": "2023-06-22T18:56:10.754Z"
   },
   {
    "duration": 22,
    "start_time": "2023-06-22T18:56:11.068Z"
   },
   {
    "duration": 3,
    "start_time": "2023-06-22T18:56:11.092Z"
   },
   {
    "duration": 15,
    "start_time": "2023-06-22T18:56:11.096Z"
   },
   {
    "duration": 42,
    "start_time": "2023-06-22T18:56:11.113Z"
   },
   {
    "duration": 5,
    "start_time": "2023-06-22T18:56:11.157Z"
   },
   {
    "duration": 6,
    "start_time": "2023-06-22T18:56:11.164Z"
   },
   {
    "duration": 6,
    "start_time": "2023-06-22T18:56:11.171Z"
   },
   {
    "duration": 210,
    "start_time": "2023-06-22T18:56:11.179Z"
   },
   {
    "duration": 8,
    "start_time": "2023-06-22T18:56:32.255Z"
   },
   {
    "duration": 6,
    "start_time": "2023-06-22T18:56:42.678Z"
   },
   {
    "duration": 363,
    "start_time": "2023-06-22T18:59:49.322Z"
   },
   {
    "duration": 14,
    "start_time": "2023-06-22T19:00:00.399Z"
   },
   {
    "duration": 20,
    "start_time": "2023-06-22T19:02:40.346Z"
   },
   {
    "duration": 22,
    "start_time": "2023-06-22T19:03:02.750Z"
   },
   {
    "duration": 4155,
    "start_time": "2023-06-22T19:03:07.566Z"
   },
   {
    "duration": 3742,
    "start_time": "2023-06-22T19:03:22.849Z"
   },
   {
    "duration": 4426,
    "start_time": "2023-06-22T19:05:09.050Z"
   },
   {
    "duration": 97,
    "start_time": "2023-06-22T19:05:29.794Z"
   },
   {
    "duration": 44,
    "start_time": "2023-06-22T19:05:34.048Z"
   },
   {
    "duration": 8045,
    "start_time": "2023-06-22T19:05:53.422Z"
   },
   {
    "duration": 7552,
    "start_time": "2023-06-22T19:06:02.543Z"
   },
   {
    "duration": 10597,
    "start_time": "2023-06-22T19:06:27.890Z"
   },
   {
    "duration": 13681,
    "start_time": "2023-06-22T19:06:58.382Z"
   },
   {
    "duration": 27257,
    "start_time": "2023-06-22T19:07:26.039Z"
   },
   {
    "duration": 11433,
    "start_time": "2023-06-22T19:08:19.919Z"
   },
   {
    "duration": 20459,
    "start_time": "2023-06-22T19:11:02.442Z"
   },
   {
    "duration": 16287,
    "start_time": "2023-06-22T19:13:52.661Z"
   },
   {
    "duration": 16000,
    "start_time": "2023-06-22T19:15:58.545Z"
   },
   {
    "duration": 29767,
    "start_time": "2023-06-22T19:19:06.330Z"
   },
   {
    "duration": 44,
    "start_time": "2023-06-22T19:22:09.122Z"
   },
   {
    "duration": 31929,
    "start_time": "2023-06-22T19:22:18.726Z"
   },
   {
    "duration": 12751,
    "start_time": "2023-06-22T19:25:57.879Z"
   },
   {
    "duration": 8972,
    "start_time": "2023-06-22T19:28:38.889Z"
   },
   {
    "duration": 9,
    "start_time": "2023-06-22T19:32:18.045Z"
   },
   {
    "duration": 16,
    "start_time": "2023-06-22T19:32:21.726Z"
   },
   {
    "duration": 3,
    "start_time": "2023-06-22T19:32:28.529Z"
   },
   {
    "duration": 135,
    "start_time": "2023-06-22T19:32:30.692Z"
   },
   {
    "duration": 4707,
    "start_time": "2023-06-22T19:37:24.447Z"
   },
   {
    "duration": 26,
    "start_time": "2023-06-22T19:37:50.432Z"
   },
   {
    "duration": 16,
    "start_time": "2023-06-22T19:38:06.622Z"
   },
   {
    "duration": 4180,
    "start_time": "2023-06-22T19:38:08.257Z"
   },
   {
    "duration": 16,
    "start_time": "2023-06-22T19:38:21.050Z"
   },
   {
    "duration": 4809,
    "start_time": "2023-06-22T19:38:24.682Z"
   },
   {
    "duration": 40,
    "start_time": "2023-06-22T19:38:29.599Z"
   },
   {
    "duration": 12,
    "start_time": "2023-06-22T19:38:46.296Z"
   },
   {
    "duration": 700,
    "start_time": "2023-06-22T19:38:47.080Z"
   },
   {
    "duration": 27,
    "start_time": "2023-06-22T19:38:55.386Z"
   },
   {
    "duration": 3,
    "start_time": "2023-06-22T19:39:07.780Z"
   },
   {
    "duration": 666,
    "start_time": "2023-06-22T19:39:08.659Z"
   },
   {
    "duration": 3,
    "start_time": "2023-06-22T19:39:52.091Z"
   },
   {
    "duration": 646,
    "start_time": "2023-06-22T19:39:53.179Z"
   },
   {
    "duration": 32,
    "start_time": "2023-06-22T19:39:55.102Z"
   },
   {
    "duration": 3,
    "start_time": "2023-06-22T19:40:03.435Z"
   },
   {
    "duration": 882,
    "start_time": "2023-06-22T19:40:03.880Z"
   },
   {
    "duration": 20,
    "start_time": "2023-06-22T19:40:05.927Z"
   },
   {
    "duration": 2,
    "start_time": "2023-06-22T19:40:15.146Z"
   },
   {
    "duration": 921,
    "start_time": "2023-06-22T19:40:15.930Z"
   },
   {
    "duration": 27,
    "start_time": "2023-06-22T19:40:17.790Z"
   },
   {
    "duration": 10500,
    "start_time": "2023-06-22T19:40:21.860Z"
   },
   {
    "duration": 26,
    "start_time": "2023-06-22T19:40:53.930Z"
   },
   {
    "duration": 2250,
    "start_time": "2023-06-22T19:41:08.241Z"
   },
   {
    "duration": 10620,
    "start_time": "2023-06-22T19:41:16.159Z"
   },
   {
    "duration": 14,
    "start_time": "2023-06-22T19:41:30.729Z"
   },
   {
    "duration": 4035,
    "start_time": "2023-06-22T19:41:32.450Z"
   },
   {
    "duration": 20,
    "start_time": "2023-06-22T19:41:42.343Z"
   },
   {
    "duration": 3960,
    "start_time": "2023-06-22T19:41:46.338Z"
   },
   {
    "duration": 23,
    "start_time": "2023-06-22T19:41:51.335Z"
   },
   {
    "duration": 3,
    "start_time": "2023-06-22T19:41:54.495Z"
   },
   {
    "duration": 718,
    "start_time": "2023-06-22T19:41:55.407Z"
   },
   {
    "duration": 24,
    "start_time": "2023-06-22T19:41:57.617Z"
   },
   {
    "duration": 3,
    "start_time": "2023-06-22T19:42:25.579Z"
   },
   {
    "duration": 596,
    "start_time": "2023-06-22T19:42:27.342Z"
   },
   {
    "duration": 21,
    "start_time": "2023-06-22T19:42:29.034Z"
   },
   {
    "duration": 3,
    "start_time": "2023-06-22T19:42:33.031Z"
   },
   {
    "duration": 653,
    "start_time": "2023-06-22T19:42:33.878Z"
   },
   {
    "duration": 26,
    "start_time": "2023-06-22T19:42:36.091Z"
   },
   {
    "duration": 3,
    "start_time": "2023-06-22T19:42:42.326Z"
   },
   {
    "duration": 818,
    "start_time": "2023-06-22T19:42:43.432Z"
   },
   {
    "duration": 12,
    "start_time": "2023-06-22T19:42:44.252Z"
   },
   {
    "duration": 3,
    "start_time": "2023-06-22T19:42:58.380Z"
   },
   {
    "duration": 602,
    "start_time": "2023-06-22T19:42:59.378Z"
   },
   {
    "duration": 13,
    "start_time": "2023-06-22T19:43:01.150Z"
   },
   {
    "duration": 13,
    "start_time": "2023-06-22T19:43:06.000Z"
   },
   {
    "duration": 708,
    "start_time": "2023-06-22T19:43:07.126Z"
   },
   {
    "duration": 12,
    "start_time": "2023-06-22T19:43:08.583Z"
   },
   {
    "duration": 0,
    "start_time": "2023-06-22T19:45:18.363Z"
   },
   {
    "duration": 0,
    "start_time": "2023-06-22T19:45:18.364Z"
   },
   {
    "duration": 54,
    "start_time": "2023-06-22T19:45:24.963Z"
   },
   {
    "duration": 174,
    "start_time": "2023-06-22T19:45:26.425Z"
   },
   {
    "duration": 55,
    "start_time": "2023-06-22T19:45:34.984Z"
   },
   {
    "duration": 104,
    "start_time": "2023-06-22T19:45:35.638Z"
   },
   {
    "duration": 62,
    "start_time": "2023-06-22T19:45:46.973Z"
   },
   {
    "duration": 85,
    "start_time": "2023-06-22T19:45:48.330Z"
   },
   {
    "duration": 59,
    "start_time": "2023-06-22T19:45:50.300Z"
   },
   {
    "duration": 105,
    "start_time": "2023-06-22T19:45:50.882Z"
   },
   {
    "duration": 52,
    "start_time": "2023-06-22T19:46:01.226Z"
   },
   {
    "duration": 10887,
    "start_time": "2023-06-22T19:46:01.550Z"
   },
   {
    "duration": 12,
    "start_time": "2023-06-22T19:46:34.673Z"
   },
   {
    "duration": 812,
    "start_time": "2023-06-22T19:47:22.344Z"
   },
   {
    "duration": 13,
    "start_time": "2023-06-22T19:47:26.448Z"
   },
   {
    "duration": 688,
    "start_time": "2023-06-22T19:49:06.083Z"
   },
   {
    "duration": 13,
    "start_time": "2023-06-22T19:49:08.055Z"
   },
   {
    "duration": 33406,
    "start_time": "2023-06-22T19:49:09.130Z"
   },
   {
    "duration": 83,
    "start_time": "2023-06-22T19:49:42.538Z"
   },
   {
    "duration": 8,
    "start_time": "2023-06-22T19:52:48.432Z"
   },
   {
    "duration": 30,
    "start_time": "2023-06-22T19:54:40.392Z"
   },
   {
    "duration": 86,
    "start_time": "2023-06-22T19:54:41.794Z"
   },
   {
    "duration": 3,
    "start_time": "2023-06-22T19:54:41.882Z"
   },
   {
    "duration": 8,
    "start_time": "2023-06-22T19:54:41.960Z"
   },
   {
    "duration": 4,
    "start_time": "2023-06-22T19:54:42.043Z"
   },
   {
    "duration": 8,
    "start_time": "2023-06-22T19:54:42.134Z"
   },
   {
    "duration": 9,
    "start_time": "2023-06-22T19:54:42.481Z"
   },
   {
    "duration": 3,
    "start_time": "2023-06-22T19:54:42.543Z"
   },
   {
    "duration": 5,
    "start_time": "2023-06-22T19:54:42.634Z"
   },
   {
    "duration": 5528,
    "start_time": "2023-06-22T19:54:42.885Z"
   },
   {
    "duration": 7,
    "start_time": "2023-06-22T19:54:48.414Z"
   },
   {
    "duration": 38,
    "start_time": "2023-06-22T19:54:48.422Z"
   },
   {
    "duration": 867,
    "start_time": "2023-06-22T19:54:48.462Z"
   },
   {
    "duration": 33218,
    "start_time": "2023-06-22T19:54:49.331Z"
   },
   {
    "duration": 110,
    "start_time": "2023-06-22T19:55:22.551Z"
   },
   {
    "duration": 21210,
    "start_time": "2023-06-22T19:55:22.663Z"
   },
   {
    "duration": 5,
    "start_time": "2023-06-22T19:55:43.874Z"
   },
   {
    "duration": 14,
    "start_time": "2023-06-22T19:55:43.881Z"
   },
   {
    "duration": 38,
    "start_time": "2023-06-22T19:55:43.899Z"
   },
   {
    "duration": 238,
    "start_time": "2023-06-22T19:55:43.939Z"
   },
   {
    "duration": 55,
    "start_time": "2023-06-22T19:55:44.178Z"
   },
   {
    "duration": 22,
    "start_time": "2023-06-22T19:55:44.234Z"
   },
   {
    "duration": 0,
    "start_time": "2023-06-22T19:55:44.258Z"
   },
   {
    "duration": 0,
    "start_time": "2023-06-22T19:55:44.259Z"
   },
   {
    "duration": 0,
    "start_time": "2023-06-22T19:55:44.261Z"
   },
   {
    "duration": 0,
    "start_time": "2023-06-22T19:55:44.262Z"
   },
   {
    "duration": 0,
    "start_time": "2023-06-22T19:55:44.263Z"
   },
   {
    "duration": 0,
    "start_time": "2023-06-22T19:55:44.264Z"
   },
   {
    "duration": 11659,
    "start_time": "2023-06-22T19:59:07.932Z"
   },
   {
    "duration": 3,
    "start_time": "2023-06-22T19:59:19.594Z"
   },
   {
    "duration": 45,
    "start_time": "2023-06-22T19:59:19.599Z"
   },
   {
    "duration": 10,
    "start_time": "2023-06-22T19:59:19.646Z"
   },
   {
    "duration": 7,
    "start_time": "2023-06-22T19:59:19.657Z"
   },
   {
    "duration": 15,
    "start_time": "2023-06-22T19:59:19.666Z"
   },
   {
    "duration": 95,
    "start_time": "2023-06-22T19:59:19.683Z"
   },
   {
    "duration": 51,
    "start_time": "2023-06-22T19:59:19.781Z"
   },
   {
    "duration": 14,
    "start_time": "2023-06-22T19:59:19.834Z"
   },
   {
    "duration": 19,
    "start_time": "2023-06-22T19:59:19.850Z"
   },
   {
    "duration": 7,
    "start_time": "2023-06-22T19:59:19.872Z"
   },
   {
    "duration": 18,
    "start_time": "2023-06-22T19:59:19.880Z"
   },
   {
    "duration": 30,
    "start_time": "2023-06-22T19:59:19.899Z"
   },
   {
    "duration": 26,
    "start_time": "2023-06-22T19:59:19.935Z"
   },
   {
    "duration": 9,
    "start_time": "2023-06-22T19:59:19.963Z"
   },
   {
    "duration": 23,
    "start_time": "2023-06-22T19:59:19.974Z"
   },
   {
    "duration": 19,
    "start_time": "2023-06-22T19:59:19.998Z"
   },
   {
    "duration": 52,
    "start_time": "2023-06-22T19:59:20.018Z"
   },
   {
    "duration": 25,
    "start_time": "2023-06-22T19:59:20.072Z"
   },
   {
    "duration": 96,
    "start_time": "2023-06-22T19:59:20.098Z"
   },
   {
    "duration": 37,
    "start_time": "2023-06-22T19:59:20.196Z"
   },
   {
    "duration": 51,
    "start_time": "2023-06-22T19:59:20.235Z"
   },
   {
    "duration": 61,
    "start_time": "2023-06-22T19:59:20.288Z"
   },
   {
    "duration": 66,
    "start_time": "2023-06-22T19:59:20.351Z"
   },
   {
    "duration": 19,
    "start_time": "2023-06-22T19:59:20.429Z"
   },
   {
    "duration": 36,
    "start_time": "2023-06-22T19:59:20.450Z"
   },
   {
    "duration": 44,
    "start_time": "2023-06-22T19:59:20.489Z"
   },
   {
    "duration": 34,
    "start_time": "2023-06-22T19:59:20.535Z"
   },
   {
    "duration": 73,
    "start_time": "2023-06-22T19:59:20.570Z"
   },
   {
    "duration": 42,
    "start_time": "2023-06-22T19:59:20.644Z"
   },
   {
    "duration": 65,
    "start_time": "2023-06-22T19:59:20.688Z"
   },
   {
    "duration": 20,
    "start_time": "2023-06-22T19:59:20.755Z"
   },
   {
    "duration": 12,
    "start_time": "2023-06-22T19:59:20.777Z"
   },
   {
    "duration": 55,
    "start_time": "2023-06-22T19:59:20.790Z"
   },
   {
    "duration": 42,
    "start_time": "2023-06-22T19:59:20.847Z"
   },
   {
    "duration": 53,
    "start_time": "2023-06-22T19:59:20.891Z"
   },
   {
    "duration": 21,
    "start_time": "2023-06-22T19:59:20.947Z"
   },
   {
    "duration": 920,
    "start_time": "2023-06-22T19:59:20.970Z"
   },
   {
    "duration": 34,
    "start_time": "2023-06-22T19:59:21.891Z"
   },
   {
    "duration": 44,
    "start_time": "2023-06-22T19:59:21.934Z"
   },
   {
    "duration": 2402,
    "start_time": "2023-06-22T19:59:21.985Z"
   },
   {
    "duration": 23,
    "start_time": "2023-06-22T19:59:24.389Z"
   },
   {
    "duration": 18,
    "start_time": "2023-06-22T19:59:24.422Z"
   },
   {
    "duration": 38,
    "start_time": "2023-06-22T19:59:24.442Z"
   },
   {
    "duration": 11,
    "start_time": "2023-06-22T19:59:24.482Z"
   },
   {
    "duration": 180,
    "start_time": "2023-06-22T19:59:24.495Z"
   },
   {
    "duration": 147,
    "start_time": "2023-06-22T19:59:24.677Z"
   },
   {
    "duration": 9,
    "start_time": "2023-06-22T19:59:24.830Z"
   },
   {
    "duration": 15,
    "start_time": "2023-06-22T19:59:24.841Z"
   },
   {
    "duration": 6,
    "start_time": "2023-06-22T19:59:24.858Z"
   },
   {
    "duration": 19,
    "start_time": "2023-06-22T19:59:24.865Z"
   },
   {
    "duration": 68,
    "start_time": "2023-06-22T19:59:24.886Z"
   },
   {
    "duration": 33,
    "start_time": "2023-06-22T19:59:24.956Z"
   },
   {
    "duration": 75,
    "start_time": "2023-06-22T19:59:24.991Z"
   },
   {
    "duration": 7,
    "start_time": "2023-06-22T19:59:25.068Z"
   },
   {
    "duration": 144,
    "start_time": "2023-06-22T19:59:25.077Z"
   },
   {
    "duration": 19,
    "start_time": "2023-06-22T19:59:25.223Z"
   },
   {
    "duration": 50,
    "start_time": "2023-06-22T19:59:25.243Z"
   },
   {
    "duration": 66,
    "start_time": "2023-06-22T19:59:25.295Z"
   },
   {
    "duration": 24,
    "start_time": "2023-06-22T19:59:25.363Z"
   },
   {
    "duration": 20,
    "start_time": "2023-06-22T19:59:25.389Z"
   },
   {
    "duration": 48,
    "start_time": "2023-06-22T19:59:25.417Z"
   },
   {
    "duration": 42,
    "start_time": "2023-06-22T19:59:25.467Z"
   },
   {
    "duration": 145,
    "start_time": "2023-06-22T19:59:25.510Z"
   },
   {
    "duration": 13,
    "start_time": "2023-06-22T19:59:25.656Z"
   },
   {
    "duration": 24,
    "start_time": "2023-06-22T19:59:25.671Z"
   },
   {
    "duration": 32,
    "start_time": "2023-06-22T19:59:25.697Z"
   },
   {
    "duration": 10,
    "start_time": "2023-06-22T19:59:25.731Z"
   },
   {
    "duration": 8,
    "start_time": "2023-06-22T19:59:25.743Z"
   },
   {
    "duration": 34,
    "start_time": "2023-06-22T19:59:25.752Z"
   },
   {
    "duration": 481,
    "start_time": "2023-06-22T19:59:25.788Z"
   },
   {
    "duration": 3,
    "start_time": "2023-06-22T19:59:26.272Z"
   },
   {
    "duration": 39,
    "start_time": "2023-06-22T19:59:26.278Z"
   },
   {
    "duration": 30,
    "start_time": "2023-06-22T19:59:26.318Z"
   },
   {
    "duration": 17,
    "start_time": "2023-06-22T19:59:26.351Z"
   },
   {
    "duration": 9,
    "start_time": "2023-06-22T19:59:26.370Z"
   },
   {
    "duration": 15,
    "start_time": "2023-06-22T19:59:26.380Z"
   },
   {
    "duration": 66,
    "start_time": "2023-06-22T19:59:26.397Z"
   },
   {
    "duration": 5,
    "start_time": "2023-06-22T19:59:26.465Z"
   },
   {
    "duration": 39,
    "start_time": "2023-06-22T19:59:26.472Z"
   },
   {
    "duration": 37,
    "start_time": "2023-06-22T19:59:26.513Z"
   },
   {
    "duration": 12,
    "start_time": "2023-06-22T19:59:26.552Z"
   },
   {
    "duration": 23,
    "start_time": "2023-06-22T19:59:26.567Z"
   },
   {
    "duration": 4,
    "start_time": "2023-06-22T19:59:26.592Z"
   },
   {
    "duration": 45,
    "start_time": "2023-06-22T19:59:26.597Z"
   },
   {
    "duration": 5120,
    "start_time": "2023-06-22T19:59:26.644Z"
   },
   {
    "duration": 6,
    "start_time": "2023-06-22T19:59:31.766Z"
   },
   {
    "duration": 65,
    "start_time": "2023-06-22T19:59:31.774Z"
   },
   {
    "duration": 927,
    "start_time": "2023-06-22T19:59:31.841Z"
   },
   {
    "duration": 33073,
    "start_time": "2023-06-22T19:59:32.770Z"
   },
   {
    "duration": 253,
    "start_time": "2023-06-22T20:00:05.844Z"
   },
   {
    "duration": 9423,
    "start_time": "2023-06-22T20:00:06.099Z"
   },
   {
    "duration": 6,
    "start_time": "2023-06-22T20:00:15.527Z"
   },
   {
    "duration": 422,
    "start_time": "2023-06-22T20:00:15.544Z"
   },
   {
    "duration": 0,
    "start_time": "2023-06-22T20:00:15.968Z"
   },
   {
    "duration": 0,
    "start_time": "2023-06-22T20:00:15.970Z"
   },
   {
    "duration": 0,
    "start_time": "2023-06-22T20:00:15.971Z"
   },
   {
    "duration": 0,
    "start_time": "2023-06-22T20:00:15.973Z"
   },
   {
    "duration": 0,
    "start_time": "2023-06-22T20:00:15.974Z"
   },
   {
    "duration": 0,
    "start_time": "2023-06-22T20:00:15.976Z"
   },
   {
    "duration": 0,
    "start_time": "2023-06-22T20:00:15.977Z"
   },
   {
    "duration": 0,
    "start_time": "2023-06-22T20:00:15.980Z"
   },
   {
    "duration": 0,
    "start_time": "2023-06-22T20:00:15.982Z"
   },
   {
    "duration": 0,
    "start_time": "2023-06-22T20:00:15.983Z"
   },
   {
    "duration": 16552,
    "start_time": "2023-06-22T20:01:49.097Z"
   },
   {
    "duration": 3,
    "start_time": "2023-06-22T20:02:05.653Z"
   },
   {
    "duration": 8,
    "start_time": "2023-06-22T20:02:05.658Z"
   },
   {
    "duration": 16,
    "start_time": "2023-06-22T20:02:05.668Z"
   },
   {
    "duration": 39,
    "start_time": "2023-06-22T20:02:05.687Z"
   },
   {
    "duration": 32,
    "start_time": "2023-06-22T20:02:05.727Z"
   },
   {
    "duration": 130,
    "start_time": "2023-06-22T20:02:05.761Z"
   },
   {
    "duration": 42,
    "start_time": "2023-06-22T20:02:05.894Z"
   },
   {
    "duration": 14,
    "start_time": "2023-06-22T20:02:05.939Z"
   },
   {
    "duration": 58,
    "start_time": "2023-06-22T20:02:05.955Z"
   },
   {
    "duration": 67,
    "start_time": "2023-06-22T20:02:06.015Z"
   },
   {
    "duration": 49,
    "start_time": "2023-06-22T20:02:06.084Z"
   },
   {
    "duration": 29,
    "start_time": "2023-06-22T20:02:06.135Z"
   },
   {
    "duration": 53,
    "start_time": "2023-06-22T20:02:06.170Z"
   },
   {
    "duration": 28,
    "start_time": "2023-06-22T20:02:06.224Z"
   },
   {
    "duration": 67,
    "start_time": "2023-06-22T20:02:06.253Z"
   },
   {
    "duration": 11,
    "start_time": "2023-06-22T20:02:06.323Z"
   },
   {
    "duration": 28,
    "start_time": "2023-06-22T20:02:06.337Z"
   },
   {
    "duration": 11,
    "start_time": "2023-06-22T20:02:06.367Z"
   },
   {
    "duration": 70,
    "start_time": "2023-06-22T20:02:06.381Z"
   },
   {
    "duration": 9,
    "start_time": "2023-06-22T20:02:06.453Z"
   },
   {
    "duration": 35,
    "start_time": "2023-06-22T20:02:06.463Z"
   },
   {
    "duration": 31,
    "start_time": "2023-06-22T20:02:06.506Z"
   },
   {
    "duration": 43,
    "start_time": "2023-06-22T20:02:06.539Z"
   },
   {
    "duration": 20,
    "start_time": "2023-06-22T20:02:06.584Z"
   },
   {
    "duration": 45,
    "start_time": "2023-06-22T20:02:06.615Z"
   },
   {
    "duration": 15,
    "start_time": "2023-06-22T20:02:06.663Z"
   },
   {
    "duration": 19,
    "start_time": "2023-06-22T20:02:06.679Z"
   },
   {
    "duration": 43,
    "start_time": "2023-06-22T20:02:06.699Z"
   },
   {
    "duration": 12,
    "start_time": "2023-06-22T20:02:06.744Z"
   },
   {
    "duration": 7,
    "start_time": "2023-06-22T20:02:06.758Z"
   },
   {
    "duration": 14,
    "start_time": "2023-06-22T20:02:06.766Z"
   },
   {
    "duration": 13,
    "start_time": "2023-06-22T20:02:06.781Z"
   },
   {
    "duration": 35,
    "start_time": "2023-06-22T20:02:06.795Z"
   },
   {
    "duration": 22,
    "start_time": "2023-06-22T20:02:06.832Z"
   },
   {
    "duration": 8,
    "start_time": "2023-06-22T20:02:06.855Z"
   },
   {
    "duration": 4,
    "start_time": "2023-06-22T20:02:06.865Z"
   },
   {
    "duration": 747,
    "start_time": "2023-06-22T20:02:06.870Z"
   },
   {
    "duration": 7,
    "start_time": "2023-06-22T20:02:07.618Z"
   },
   {
    "duration": 32,
    "start_time": "2023-06-22T20:02:07.627Z"
   },
   {
    "duration": 2119,
    "start_time": "2023-06-22T20:02:07.665Z"
   },
   {
    "duration": 4,
    "start_time": "2023-06-22T20:02:09.786Z"
   },
   {
    "duration": 34,
    "start_time": "2023-06-22T20:02:09.791Z"
   },
   {
    "duration": 33,
    "start_time": "2023-06-22T20:02:09.827Z"
   },
   {
    "duration": 8,
    "start_time": "2023-06-22T20:02:09.863Z"
   },
   {
    "duration": 211,
    "start_time": "2023-06-22T20:02:09.873Z"
   },
   {
    "duration": 157,
    "start_time": "2023-06-22T20:02:10.085Z"
   },
   {
    "duration": 7,
    "start_time": "2023-06-22T20:02:10.243Z"
   },
   {
    "duration": 14,
    "start_time": "2023-06-22T20:02:10.253Z"
   },
   {
    "duration": 4,
    "start_time": "2023-06-22T20:02:10.269Z"
   },
   {
    "duration": 34,
    "start_time": "2023-06-22T20:02:10.275Z"
   },
   {
    "duration": 10,
    "start_time": "2023-06-22T20:02:10.321Z"
   },
   {
    "duration": 14,
    "start_time": "2023-06-22T20:02:10.334Z"
   },
   {
    "duration": 31,
    "start_time": "2023-06-22T20:02:10.350Z"
   },
   {
    "duration": 9,
    "start_time": "2023-06-22T20:02:10.384Z"
   },
   {
    "duration": 146,
    "start_time": "2023-06-22T20:02:10.394Z"
   },
   {
    "duration": 9,
    "start_time": "2023-06-22T20:02:10.542Z"
   },
   {
    "duration": 28,
    "start_time": "2023-06-22T20:02:10.552Z"
   },
   {
    "duration": 46,
    "start_time": "2023-06-22T20:02:10.583Z"
   },
   {
    "duration": 11,
    "start_time": "2023-06-22T20:02:10.631Z"
   },
   {
    "duration": 16,
    "start_time": "2023-06-22T20:02:10.644Z"
   },
   {
    "duration": 17,
    "start_time": "2023-06-22T20:02:10.662Z"
   },
   {
    "duration": 12,
    "start_time": "2023-06-22T20:02:10.680Z"
   },
   {
    "duration": 140,
    "start_time": "2023-06-22T20:02:10.693Z"
   },
   {
    "duration": 13,
    "start_time": "2023-06-22T20:02:10.835Z"
   },
   {
    "duration": 25,
    "start_time": "2023-06-22T20:02:10.850Z"
   },
   {
    "duration": 29,
    "start_time": "2023-06-22T20:02:10.877Z"
   },
   {
    "duration": 26,
    "start_time": "2023-06-22T20:02:10.908Z"
   },
   {
    "duration": 11,
    "start_time": "2023-06-22T20:02:10.936Z"
   },
   {
    "duration": 34,
    "start_time": "2023-06-22T20:02:10.949Z"
   },
   {
    "duration": 349,
    "start_time": "2023-06-22T20:02:10.984Z"
   },
   {
    "duration": 5,
    "start_time": "2023-06-22T20:02:11.334Z"
   },
   {
    "duration": 42,
    "start_time": "2023-06-22T20:02:11.340Z"
   },
   {
    "duration": 6,
    "start_time": "2023-06-22T20:02:11.385Z"
   },
   {
    "duration": 55,
    "start_time": "2023-06-22T20:02:11.393Z"
   },
   {
    "duration": 12,
    "start_time": "2023-06-22T20:02:11.452Z"
   },
   {
    "duration": 21,
    "start_time": "2023-06-22T20:02:11.467Z"
   },
   {
    "duration": 11,
    "start_time": "2023-06-22T20:02:11.493Z"
   },
   {
    "duration": 84,
    "start_time": "2023-06-22T20:02:11.505Z"
   },
   {
    "duration": 5,
    "start_time": "2023-06-22T20:02:11.591Z"
   },
   {
    "duration": 48,
    "start_time": "2023-06-22T20:02:11.598Z"
   },
   {
    "duration": 21,
    "start_time": "2023-06-22T20:02:11.648Z"
   },
   {
    "duration": 19,
    "start_time": "2023-06-22T20:02:11.670Z"
   },
   {
    "duration": 10,
    "start_time": "2023-06-22T20:02:11.691Z"
   },
   {
    "duration": 26,
    "start_time": "2023-06-22T20:02:11.702Z"
   },
   {
    "duration": 9,
    "start_time": "2023-06-22T20:02:11.730Z"
   },
   {
    "duration": 11914,
    "start_time": "2023-06-22T20:02:16.358Z"
   },
   {
    "duration": 2,
    "start_time": "2023-06-22T20:02:28.274Z"
   },
   {
    "duration": 17,
    "start_time": "2023-06-22T20:02:28.277Z"
   },
   {
    "duration": 42,
    "start_time": "2023-06-22T20:02:28.296Z"
   },
   {
    "duration": 15,
    "start_time": "2023-06-22T20:02:28.340Z"
   },
   {
    "duration": 9,
    "start_time": "2023-06-22T20:02:28.356Z"
   },
   {
    "duration": 113,
    "start_time": "2023-06-22T20:02:28.366Z"
   },
   {
    "duration": 44,
    "start_time": "2023-06-22T20:02:28.480Z"
   },
   {
    "duration": 14,
    "start_time": "2023-06-22T20:02:28.525Z"
   },
   {
    "duration": 17,
    "start_time": "2023-06-22T20:02:28.543Z"
   },
   {
    "duration": 10,
    "start_time": "2023-06-22T20:02:28.562Z"
   },
   {
    "duration": 50,
    "start_time": "2023-06-22T20:02:28.573Z"
   },
   {
    "duration": 41,
    "start_time": "2023-06-22T20:02:28.624Z"
   },
   {
    "duration": 23,
    "start_time": "2023-06-22T20:02:28.667Z"
   },
   {
    "duration": 16,
    "start_time": "2023-06-22T20:02:28.692Z"
   },
   {
    "duration": 44,
    "start_time": "2023-06-22T20:02:28.709Z"
   },
   {
    "duration": 7,
    "start_time": "2023-06-22T20:02:28.755Z"
   },
   {
    "duration": 25,
    "start_time": "2023-06-22T20:02:28.764Z"
   },
   {
    "duration": 67,
    "start_time": "2023-06-22T20:02:28.790Z"
   },
   {
    "duration": 107,
    "start_time": "2023-06-22T20:02:28.858Z"
   },
   {
    "duration": 8,
    "start_time": "2023-06-22T20:02:28.967Z"
   },
   {
    "duration": 71,
    "start_time": "2023-06-22T20:02:28.976Z"
   },
   {
    "duration": 29,
    "start_time": "2023-06-22T20:02:29.049Z"
   },
   {
    "duration": 85,
    "start_time": "2023-06-22T20:02:29.081Z"
   },
   {
    "duration": 12,
    "start_time": "2023-06-22T20:02:29.168Z"
   },
   {
    "duration": 36,
    "start_time": "2023-06-22T20:02:29.182Z"
   },
   {
    "duration": 37,
    "start_time": "2023-06-22T20:02:29.220Z"
   },
   {
    "duration": 11,
    "start_time": "2023-06-22T20:02:29.265Z"
   },
   {
    "duration": 81,
    "start_time": "2023-06-22T20:02:29.279Z"
   },
   {
    "duration": 16,
    "start_time": "2023-06-22T20:02:29.362Z"
   },
   {
    "duration": 8,
    "start_time": "2023-06-22T20:02:29.380Z"
   },
   {
    "duration": 41,
    "start_time": "2023-06-22T20:02:29.389Z"
   },
   {
    "duration": 16,
    "start_time": "2023-06-22T20:02:29.433Z"
   },
   {
    "duration": 19,
    "start_time": "2023-06-22T20:02:29.450Z"
   },
   {
    "duration": 35,
    "start_time": "2023-06-22T20:02:29.471Z"
   },
   {
    "duration": 37,
    "start_time": "2023-06-22T20:02:29.508Z"
   },
   {
    "duration": 19,
    "start_time": "2023-06-22T20:02:29.547Z"
   },
   {
    "duration": 838,
    "start_time": "2023-06-22T20:02:29.567Z"
   },
   {
    "duration": 4,
    "start_time": "2023-06-22T20:02:30.410Z"
   },
   {
    "duration": 64,
    "start_time": "2023-06-22T20:02:30.416Z"
   },
   {
    "duration": 2361,
    "start_time": "2023-06-22T20:02:30.482Z"
   },
   {
    "duration": 5,
    "start_time": "2023-06-22T20:02:32.846Z"
   },
   {
    "duration": 17,
    "start_time": "2023-06-22T20:02:32.853Z"
   },
   {
    "duration": 50,
    "start_time": "2023-06-22T20:02:32.872Z"
   },
   {
    "duration": 11,
    "start_time": "2023-06-22T20:02:32.925Z"
   },
   {
    "duration": 154,
    "start_time": "2023-06-22T20:02:32.937Z"
   },
   {
    "duration": 148,
    "start_time": "2023-06-22T20:02:33.092Z"
   },
   {
    "duration": 9,
    "start_time": "2023-06-22T20:02:33.242Z"
   },
   {
    "duration": 27,
    "start_time": "2023-06-22T20:02:33.254Z"
   },
   {
    "duration": 10,
    "start_time": "2023-06-22T20:02:33.282Z"
   },
   {
    "duration": 46,
    "start_time": "2023-06-22T20:02:33.294Z"
   },
   {
    "duration": 7,
    "start_time": "2023-06-22T20:02:33.342Z"
   },
   {
    "duration": 29,
    "start_time": "2023-06-22T20:02:33.351Z"
   },
   {
    "duration": 56,
    "start_time": "2023-06-22T20:02:33.382Z"
   },
   {
    "duration": 8,
    "start_time": "2023-06-22T20:02:33.440Z"
   },
   {
    "duration": 152,
    "start_time": "2023-06-22T20:02:33.450Z"
   },
   {
    "duration": 9,
    "start_time": "2023-06-22T20:02:33.604Z"
   },
   {
    "duration": 38,
    "start_time": "2023-06-22T20:02:33.615Z"
   },
   {
    "duration": 12,
    "start_time": "2023-06-22T20:02:33.654Z"
   },
   {
    "duration": 11,
    "start_time": "2023-06-22T20:02:33.668Z"
   },
   {
    "duration": 14,
    "start_time": "2023-06-22T20:02:33.680Z"
   },
   {
    "duration": 58,
    "start_time": "2023-06-22T20:02:33.696Z"
   },
   {
    "duration": 13,
    "start_time": "2023-06-22T20:02:33.755Z"
   },
   {
    "duration": 158,
    "start_time": "2023-06-22T20:02:33.770Z"
   },
   {
    "duration": 16,
    "start_time": "2023-06-22T20:02:33.930Z"
   },
   {
    "duration": 34,
    "start_time": "2023-06-22T20:02:33.947Z"
   },
   {
    "duration": 15,
    "start_time": "2023-06-22T20:02:33.983Z"
   },
   {
    "duration": 60,
    "start_time": "2023-06-22T20:02:33.999Z"
   },
   {
    "duration": 7,
    "start_time": "2023-06-22T20:02:34.060Z"
   },
   {
    "duration": 65,
    "start_time": "2023-06-22T20:02:34.069Z"
   },
   {
    "duration": 348,
    "start_time": "2023-06-22T20:02:34.136Z"
   },
   {
    "duration": 3,
    "start_time": "2023-06-22T20:02:34.485Z"
   },
   {
    "duration": 64,
    "start_time": "2023-06-22T20:02:34.489Z"
   },
   {
    "duration": 6,
    "start_time": "2023-06-22T20:02:34.555Z"
   },
   {
    "duration": 31,
    "start_time": "2023-06-22T20:02:34.563Z"
   },
   {
    "duration": 8,
    "start_time": "2023-06-22T20:02:34.597Z"
   },
   {
    "duration": 41,
    "start_time": "2023-06-22T20:02:34.608Z"
   },
   {
    "duration": 3,
    "start_time": "2023-06-22T20:02:34.651Z"
   },
   {
    "duration": 75,
    "start_time": "2023-06-22T20:02:34.655Z"
   },
   {
    "duration": 12,
    "start_time": "2023-06-22T20:02:34.732Z"
   },
   {
    "duration": 17,
    "start_time": "2023-06-22T20:02:34.746Z"
   },
   {
    "duration": 19,
    "start_time": "2023-06-22T20:02:34.768Z"
   },
   {
    "duration": 58,
    "start_time": "2023-06-22T20:02:34.788Z"
   },
   {
    "duration": 28,
    "start_time": "2023-06-22T20:02:34.847Z"
   },
   {
    "duration": 59,
    "start_time": "2023-06-22T20:02:34.876Z"
   },
   {
    "duration": 15,
    "start_time": "2023-06-22T20:02:34.937Z"
   },
   {
    "duration": 4880,
    "start_time": "2023-06-22T20:02:34.954Z"
   },
   {
    "duration": 5,
    "start_time": "2023-06-22T20:02:39.835Z"
   },
   {
    "duration": 7,
    "start_time": "2023-06-22T20:02:39.842Z"
   },
   {
    "duration": 739,
    "start_time": "2023-06-22T20:02:39.851Z"
   },
   {
    "duration": 31931,
    "start_time": "2023-06-22T20:02:40.592Z"
   },
   {
    "duration": 172,
    "start_time": "2023-06-22T20:03:12.524Z"
   },
   {
    "duration": 9711,
    "start_time": "2023-06-22T20:03:12.698Z"
   },
   {
    "duration": 4,
    "start_time": "2023-06-22T20:03:22.410Z"
   },
   {
    "duration": 45,
    "start_time": "2023-06-22T20:03:22.415Z"
   },
   {
    "duration": 76,
    "start_time": "2023-06-22T20:03:22.462Z"
   },
   {
    "duration": 151,
    "start_time": "2023-06-22T20:03:22.540Z"
   },
   {
    "duration": 21,
    "start_time": "2023-06-22T20:03:22.692Z"
   },
   {
    "duration": 33,
    "start_time": "2023-06-22T20:03:22.715Z"
   },
   {
    "duration": 21,
    "start_time": "2023-06-22T20:03:22.749Z"
   },
   {
    "duration": 10,
    "start_time": "2023-06-22T20:03:22.772Z"
   },
   {
    "duration": 54,
    "start_time": "2023-06-22T20:03:22.783Z"
   },
   {
    "duration": 65,
    "start_time": "2023-06-22T20:03:22.839Z"
   },
   {
    "duration": 45,
    "start_time": "2023-06-22T20:03:22.907Z"
   },
   {
    "duration": 225,
    "start_time": "2023-06-22T20:03:22.954Z"
   },
   {
    "duration": 13745,
    "start_time": "2023-06-22T20:04:13.284Z"
   },
   {
    "duration": 7,
    "start_time": "2023-06-22T20:04:27.030Z"
   },
   {
    "duration": 6,
    "start_time": "2023-06-22T20:04:27.038Z"
   },
   {
    "duration": 4,
    "start_time": "2023-06-22T20:04:27.046Z"
   },
   {
    "duration": 7,
    "start_time": "2023-06-22T20:04:27.052Z"
   },
   {
    "duration": 5,
    "start_time": "2023-06-22T20:04:27.061Z"
   },
   {
    "duration": 162,
    "start_time": "2023-06-22T20:04:27.067Z"
   },
   {
    "duration": 27,
    "start_time": "2023-06-22T20:04:27.231Z"
   },
   {
    "duration": 17,
    "start_time": "2023-06-22T20:04:27.259Z"
   },
   {
    "duration": 18,
    "start_time": "2023-06-22T20:04:27.279Z"
   },
   {
    "duration": 14,
    "start_time": "2023-06-22T20:04:27.298Z"
   },
   {
    "duration": 45,
    "start_time": "2023-06-22T20:04:27.313Z"
   },
   {
    "duration": 8,
    "start_time": "2023-06-22T20:04:27.360Z"
   },
   {
    "duration": 20,
    "start_time": "2023-06-22T20:04:27.369Z"
   },
   {
    "duration": 8,
    "start_time": "2023-06-22T20:04:27.391Z"
   },
   {
    "duration": 58,
    "start_time": "2023-06-22T20:04:27.402Z"
   },
   {
    "duration": 10,
    "start_time": "2023-06-22T20:04:27.462Z"
   },
   {
    "duration": 25,
    "start_time": "2023-06-22T20:04:27.473Z"
   },
   {
    "duration": 23,
    "start_time": "2023-06-22T20:04:27.505Z"
   },
   {
    "duration": 108,
    "start_time": "2023-06-22T20:04:27.529Z"
   },
   {
    "duration": 7,
    "start_time": "2023-06-22T20:04:27.639Z"
   },
   {
    "duration": 13,
    "start_time": "2023-06-22T20:04:27.648Z"
   },
   {
    "duration": 10,
    "start_time": "2023-06-22T20:04:27.662Z"
   },
   {
    "duration": 49,
    "start_time": "2023-06-22T20:04:27.674Z"
   },
   {
    "duration": 19,
    "start_time": "2023-06-22T20:04:27.725Z"
   },
   {
    "duration": 27,
    "start_time": "2023-06-22T20:04:27.746Z"
   },
   {
    "duration": 11,
    "start_time": "2023-06-22T20:04:27.774Z"
   },
   {
    "duration": 22,
    "start_time": "2023-06-22T20:04:27.789Z"
   },
   {
    "duration": 33,
    "start_time": "2023-06-22T20:04:27.812Z"
   },
   {
    "duration": 9,
    "start_time": "2023-06-22T20:04:27.847Z"
   },
   {
    "duration": 7,
    "start_time": "2023-06-22T20:04:27.858Z"
   },
   {
    "duration": 6,
    "start_time": "2023-06-22T20:04:27.866Z"
   },
   {
    "duration": 5,
    "start_time": "2023-06-22T20:04:27.873Z"
   },
   {
    "duration": 9,
    "start_time": "2023-06-22T20:04:27.880Z"
   },
   {
    "duration": 20,
    "start_time": "2023-06-22T20:04:27.890Z"
   },
   {
    "duration": 41,
    "start_time": "2023-06-22T20:04:27.911Z"
   },
   {
    "duration": 4,
    "start_time": "2023-06-22T20:04:27.955Z"
   },
   {
    "duration": 808,
    "start_time": "2023-06-22T20:04:27.960Z"
   },
   {
    "duration": 3,
    "start_time": "2023-06-22T20:04:28.770Z"
   },
   {
    "duration": 56,
    "start_time": "2023-06-22T20:04:28.774Z"
   },
   {
    "duration": 2148,
    "start_time": "2023-06-22T20:04:28.835Z"
   },
   {
    "duration": 5,
    "start_time": "2023-06-22T20:04:30.985Z"
   },
   {
    "duration": 60,
    "start_time": "2023-06-22T20:04:31.009Z"
   },
   {
    "duration": 94,
    "start_time": "2023-06-22T20:04:31.070Z"
   },
   {
    "duration": 12,
    "start_time": "2023-06-22T20:04:31.165Z"
   },
   {
    "duration": 173,
    "start_time": "2023-06-22T20:04:31.179Z"
   },
   {
    "duration": 133,
    "start_time": "2023-06-22T20:04:31.354Z"
   },
   {
    "duration": 27,
    "start_time": "2023-06-22T20:04:31.489Z"
   },
   {
    "duration": 43,
    "start_time": "2023-06-22T20:04:31.524Z"
   },
   {
    "duration": 29,
    "start_time": "2023-06-22T20:04:31.569Z"
   },
   {
    "duration": 66,
    "start_time": "2023-06-22T20:04:31.600Z"
   },
   {
    "duration": 19,
    "start_time": "2023-06-22T20:04:31.668Z"
   },
   {
    "duration": 49,
    "start_time": "2023-06-22T20:04:31.689Z"
   },
   {
    "duration": 93,
    "start_time": "2023-06-22T20:04:31.741Z"
   },
   {
    "duration": 9,
    "start_time": "2023-06-22T20:04:31.835Z"
   },
   {
    "duration": 167,
    "start_time": "2023-06-22T20:04:31.845Z"
   },
   {
    "duration": 14,
    "start_time": "2023-06-22T20:04:32.013Z"
   },
   {
    "duration": 30,
    "start_time": "2023-06-22T20:04:32.028Z"
   },
   {
    "duration": 23,
    "start_time": "2023-06-22T20:04:32.060Z"
   },
   {
    "duration": 29,
    "start_time": "2023-06-22T20:04:32.085Z"
   },
   {
    "duration": 92,
    "start_time": "2023-06-22T20:04:32.118Z"
   },
   {
    "duration": 40,
    "start_time": "2023-06-22T20:04:32.212Z"
   },
   {
    "duration": 17,
    "start_time": "2023-06-22T20:04:32.254Z"
   },
   {
    "duration": 156,
    "start_time": "2023-06-22T20:04:32.273Z"
   },
   {
    "duration": 20,
    "start_time": "2023-06-22T20:04:32.430Z"
   },
   {
    "duration": 26,
    "start_time": "2023-06-22T20:04:32.453Z"
   },
   {
    "duration": 12,
    "start_time": "2023-06-22T20:04:32.482Z"
   },
   {
    "duration": 62,
    "start_time": "2023-06-22T20:04:32.495Z"
   },
   {
    "duration": 21,
    "start_time": "2023-06-22T20:04:32.559Z"
   },
   {
    "duration": 85,
    "start_time": "2023-06-22T20:04:32.582Z"
   },
   {
    "duration": 365,
    "start_time": "2023-06-22T20:04:32.668Z"
   },
   {
    "duration": 4,
    "start_time": "2023-06-22T20:04:33.036Z"
   },
   {
    "duration": 23,
    "start_time": "2023-06-22T20:04:33.042Z"
   },
   {
    "duration": 4,
    "start_time": "2023-06-22T20:04:33.066Z"
   },
   {
    "duration": 12,
    "start_time": "2023-06-22T20:04:33.071Z"
   },
   {
    "duration": 2,
    "start_time": "2023-06-22T20:04:33.084Z"
   },
   {
    "duration": 30,
    "start_time": "2023-06-22T20:04:33.087Z"
   },
   {
    "duration": 9,
    "start_time": "2023-06-22T20:04:33.124Z"
   },
   {
    "duration": 38,
    "start_time": "2023-06-22T20:04:33.134Z"
   },
   {
    "duration": 3,
    "start_time": "2023-06-22T20:04:33.174Z"
   },
   {
    "duration": 30,
    "start_time": "2023-06-22T20:04:33.179Z"
   },
   {
    "duration": 24,
    "start_time": "2023-06-22T20:04:33.214Z"
   },
   {
    "duration": 9,
    "start_time": "2023-06-22T20:04:33.239Z"
   },
   {
    "duration": 8,
    "start_time": "2023-06-22T20:04:33.250Z"
   },
   {
    "duration": 7,
    "start_time": "2023-06-22T20:04:33.260Z"
   },
   {
    "duration": 6,
    "start_time": "2023-06-22T20:04:33.268Z"
   },
   {
    "duration": 4654,
    "start_time": "2023-06-22T20:04:33.276Z"
   },
   {
    "duration": 5,
    "start_time": "2023-06-22T20:04:37.940Z"
   },
   {
    "duration": 13,
    "start_time": "2023-06-22T20:04:37.948Z"
   },
   {
    "duration": 728,
    "start_time": "2023-06-22T20:04:37.963Z"
   },
   {
    "duration": 32746,
    "start_time": "2023-06-22T20:04:38.693Z"
   },
   {
    "duration": 152,
    "start_time": "2023-06-22T20:05:11.441Z"
   },
   {
    "duration": 9966,
    "start_time": "2023-06-22T20:05:11.594Z"
   },
   {
    "duration": 4,
    "start_time": "2023-06-22T20:05:21.562Z"
   },
   {
    "duration": 22,
    "start_time": "2023-06-22T20:05:21.568Z"
   },
   {
    "duration": 12,
    "start_time": "2023-06-22T20:05:21.591Z"
   },
   {
    "duration": 165,
    "start_time": "2023-06-22T20:05:21.604Z"
   },
   {
    "duration": 19,
    "start_time": "2023-06-22T20:05:21.771Z"
   },
   {
    "duration": 352,
    "start_time": "2023-06-22T20:05:21.792Z"
   },
   {
    "duration": 0,
    "start_time": "2023-06-22T20:05:22.146Z"
   },
   {
    "duration": 0,
    "start_time": "2023-06-22T20:05:22.147Z"
   },
   {
    "duration": 0,
    "start_time": "2023-06-22T20:05:22.148Z"
   },
   {
    "duration": 0,
    "start_time": "2023-06-22T20:05:22.149Z"
   },
   {
    "duration": 0,
    "start_time": "2023-06-22T20:05:22.150Z"
   },
   {
    "duration": 0,
    "start_time": "2023-06-22T20:05:22.151Z"
   },
   {
    "duration": 15360,
    "start_time": "2023-06-22T20:05:57.090Z"
   },
   {
    "duration": 3,
    "start_time": "2023-06-22T20:06:12.452Z"
   },
   {
    "duration": 39,
    "start_time": "2023-06-22T20:06:12.456Z"
   },
   {
    "duration": 52,
    "start_time": "2023-06-22T20:06:12.497Z"
   },
   {
    "duration": 26,
    "start_time": "2023-06-22T20:06:12.551Z"
   },
   {
    "duration": 9,
    "start_time": "2023-06-22T20:06:12.578Z"
   },
   {
    "duration": 152,
    "start_time": "2023-06-22T20:06:12.589Z"
   },
   {
    "duration": 27,
    "start_time": "2023-06-22T20:06:12.743Z"
   },
   {
    "duration": 13,
    "start_time": "2023-06-22T20:06:12.771Z"
   },
   {
    "duration": 17,
    "start_time": "2023-06-22T20:06:12.785Z"
   },
   {
    "duration": 17,
    "start_time": "2023-06-22T20:06:12.803Z"
   },
   {
    "duration": 38,
    "start_time": "2023-06-22T20:06:12.821Z"
   },
   {
    "duration": 8,
    "start_time": "2023-06-22T20:06:12.861Z"
   },
   {
    "duration": 18,
    "start_time": "2023-06-22T20:06:12.872Z"
   },
   {
    "duration": 17,
    "start_time": "2023-06-22T20:06:12.892Z"
   },
   {
    "duration": 62,
    "start_time": "2023-06-22T20:06:12.911Z"
   },
   {
    "duration": 7,
    "start_time": "2023-06-22T20:06:12.975Z"
   },
   {
    "duration": 49,
    "start_time": "2023-06-22T20:06:12.984Z"
   },
   {
    "duration": 8,
    "start_time": "2023-06-22T20:06:13.040Z"
   },
   {
    "duration": 82,
    "start_time": "2023-06-22T20:06:13.050Z"
   },
   {
    "duration": 10,
    "start_time": "2023-06-22T20:06:13.138Z"
   },
   {
    "duration": 25,
    "start_time": "2023-06-22T20:06:13.151Z"
   },
   {
    "duration": 6,
    "start_time": "2023-06-22T20:06:13.177Z"
   },
   {
    "duration": 55,
    "start_time": "2023-06-22T20:06:13.185Z"
   },
   {
    "duration": 26,
    "start_time": "2023-06-22T20:06:13.243Z"
   },
   {
    "duration": 19,
    "start_time": "2023-06-22T20:06:13.271Z"
   },
   {
    "duration": 16,
    "start_time": "2023-06-22T20:06:13.293Z"
   },
   {
    "duration": 52,
    "start_time": "2023-06-22T20:06:13.311Z"
   },
   {
    "duration": 10,
    "start_time": "2023-06-22T20:06:13.365Z"
   },
   {
    "duration": 9,
    "start_time": "2023-06-22T20:06:13.377Z"
   },
   {
    "duration": 8,
    "start_time": "2023-06-22T20:06:13.388Z"
   },
   {
    "duration": 60,
    "start_time": "2023-06-22T20:06:13.398Z"
   },
   {
    "duration": 23,
    "start_time": "2023-06-22T20:06:13.460Z"
   },
   {
    "duration": 12,
    "start_time": "2023-06-22T20:06:13.485Z"
   },
   {
    "duration": 69,
    "start_time": "2023-06-22T20:06:13.499Z"
   },
   {
    "duration": 22,
    "start_time": "2023-06-22T20:06:13.570Z"
   },
   {
    "duration": 15,
    "start_time": "2023-06-22T20:06:13.594Z"
   },
   {
    "duration": 787,
    "start_time": "2023-06-22T20:06:13.610Z"
   },
   {
    "duration": 3,
    "start_time": "2023-06-22T20:06:14.400Z"
   },
   {
    "duration": 51,
    "start_time": "2023-06-22T20:06:14.404Z"
   },
   {
    "duration": 2254,
    "start_time": "2023-06-22T20:06:14.459Z"
   },
   {
    "duration": 5,
    "start_time": "2023-06-22T20:06:16.714Z"
   },
   {
    "duration": 39,
    "start_time": "2023-06-22T20:06:16.720Z"
   },
   {
    "duration": 67,
    "start_time": "2023-06-22T20:06:16.760Z"
   },
   {
    "duration": 13,
    "start_time": "2023-06-22T20:06:16.828Z"
   },
   {
    "duration": 135,
    "start_time": "2023-06-22T20:06:16.842Z"
   },
   {
    "duration": 174,
    "start_time": "2023-06-22T20:06:16.978Z"
   },
   {
    "duration": 11,
    "start_time": "2023-06-22T20:06:17.154Z"
   },
   {
    "duration": 12,
    "start_time": "2023-06-22T20:06:17.167Z"
   },
   {
    "duration": 6,
    "start_time": "2023-06-22T20:06:17.181Z"
   },
   {
    "duration": 53,
    "start_time": "2023-06-22T20:06:17.189Z"
   },
   {
    "duration": 6,
    "start_time": "2023-06-22T20:06:17.245Z"
   },
   {
    "duration": 13,
    "start_time": "2023-06-22T20:06:17.253Z"
   },
   {
    "duration": 30,
    "start_time": "2023-06-22T20:06:17.268Z"
   },
   {
    "duration": 15,
    "start_time": "2023-06-22T20:06:17.314Z"
   },
   {
    "duration": 211,
    "start_time": "2023-06-22T20:06:17.331Z"
   },
   {
    "duration": 13,
    "start_time": "2023-06-22T20:06:17.544Z"
   },
   {
    "duration": 15,
    "start_time": "2023-06-22T20:06:17.559Z"
   },
   {
    "duration": 9,
    "start_time": "2023-06-22T20:06:17.575Z"
   },
   {
    "duration": 7,
    "start_time": "2023-06-22T20:06:17.585Z"
   },
   {
    "duration": 21,
    "start_time": "2023-06-22T20:06:17.593Z"
   },
   {
    "duration": 36,
    "start_time": "2023-06-22T20:06:17.625Z"
   },
   {
    "duration": 24,
    "start_time": "2023-06-22T20:06:17.662Z"
   },
   {
    "duration": 160,
    "start_time": "2023-06-22T20:06:17.687Z"
   },
   {
    "duration": 16,
    "start_time": "2023-06-22T20:06:17.849Z"
   },
   {
    "duration": 31,
    "start_time": "2023-06-22T20:06:17.867Z"
   },
   {
    "duration": 27,
    "start_time": "2023-06-22T20:06:17.900Z"
   },
   {
    "duration": 15,
    "start_time": "2023-06-22T20:06:17.930Z"
   },
   {
    "duration": 4,
    "start_time": "2023-06-22T20:06:17.947Z"
   },
   {
    "duration": 40,
    "start_time": "2023-06-22T20:06:17.954Z"
   },
   {
    "duration": 382,
    "start_time": "2023-06-22T20:06:17.996Z"
   },
   {
    "duration": 3,
    "start_time": "2023-06-22T20:06:18.380Z"
   },
   {
    "duration": 48,
    "start_time": "2023-06-22T20:06:18.384Z"
   },
   {
    "duration": 4,
    "start_time": "2023-06-22T20:06:18.434Z"
   },
   {
    "duration": 19,
    "start_time": "2023-06-22T20:06:18.440Z"
   },
   {
    "duration": 3,
    "start_time": "2023-06-22T20:06:18.461Z"
   },
   {
    "duration": 21,
    "start_time": "2023-06-22T20:06:18.465Z"
   },
   {
    "duration": 48,
    "start_time": "2023-06-22T20:06:18.488Z"
   },
   {
    "duration": 3,
    "start_time": "2023-06-22T20:06:18.538Z"
   },
   {
    "duration": 12,
    "start_time": "2023-06-22T20:06:18.543Z"
   },
   {
    "duration": 9,
    "start_time": "2023-06-22T20:06:18.556Z"
   },
   {
    "duration": 11,
    "start_time": "2023-06-22T20:06:18.566Z"
   },
   {
    "duration": 9,
    "start_time": "2023-06-22T20:06:18.579Z"
   },
   {
    "duration": 4,
    "start_time": "2023-06-22T20:06:18.590Z"
   },
   {
    "duration": 31,
    "start_time": "2023-06-22T20:06:18.609Z"
   },
   {
    "duration": 4531,
    "start_time": "2023-06-22T20:06:18.641Z"
   },
   {
    "duration": 6,
    "start_time": "2023-06-22T20:06:23.173Z"
   },
   {
    "duration": 7,
    "start_time": "2023-06-22T20:06:23.180Z"
   },
   {
    "duration": 893,
    "start_time": "2023-06-22T20:06:23.201Z"
   },
   {
    "duration": 3552,
    "start_time": "2023-06-22T20:06:24.096Z"
   },
   {
    "duration": 301,
    "start_time": "2023-06-22T20:06:27.649Z"
   },
   {
    "duration": 10930,
    "start_time": "2023-06-22T20:06:27.951Z"
   },
   {
    "duration": 3,
    "start_time": "2023-06-22T20:06:38.882Z"
   },
   {
    "duration": 48,
    "start_time": "2023-06-22T20:06:38.886Z"
   },
   {
    "duration": 7,
    "start_time": "2023-06-22T20:06:38.936Z"
   },
   {
    "duration": 127,
    "start_time": "2023-06-22T20:06:38.945Z"
   },
   {
    "duration": 33,
    "start_time": "2023-06-22T20:06:39.073Z"
   },
   {
    "duration": 322,
    "start_time": "2023-06-22T20:06:39.114Z"
   },
   {
    "duration": 0,
    "start_time": "2023-06-22T20:06:39.438Z"
   },
   {
    "duration": 0,
    "start_time": "2023-06-22T20:06:39.439Z"
   },
   {
    "duration": 0,
    "start_time": "2023-06-22T20:06:39.440Z"
   },
   {
    "duration": 0,
    "start_time": "2023-06-22T20:06:39.442Z"
   },
   {
    "duration": 0,
    "start_time": "2023-06-22T20:06:39.442Z"
   },
   {
    "duration": 0,
    "start_time": "2023-06-22T20:06:39.443Z"
   },
   {
    "duration": 14271,
    "start_time": "2023-06-22T20:07:29.597Z"
   },
   {
    "duration": 3,
    "start_time": "2023-06-22T20:07:43.870Z"
   },
   {
    "duration": 13,
    "start_time": "2023-06-22T20:07:43.875Z"
   },
   {
    "duration": 9,
    "start_time": "2023-06-22T20:07:43.889Z"
   },
   {
    "duration": 36,
    "start_time": "2023-06-22T20:07:43.910Z"
   },
   {
    "duration": 16,
    "start_time": "2023-06-22T20:07:43.949Z"
   },
   {
    "duration": 110,
    "start_time": "2023-06-22T20:07:43.966Z"
   },
   {
    "duration": 50,
    "start_time": "2023-06-22T20:07:44.079Z"
   },
   {
    "duration": 61,
    "start_time": "2023-06-22T20:07:44.133Z"
   },
   {
    "duration": 66,
    "start_time": "2023-06-22T20:07:44.197Z"
   },
   {
    "duration": 10,
    "start_time": "2023-06-22T20:07:44.265Z"
   },
   {
    "duration": 52,
    "start_time": "2023-06-22T20:07:44.277Z"
   },
   {
    "duration": 21,
    "start_time": "2023-06-22T20:07:44.337Z"
   },
   {
    "duration": 75,
    "start_time": "2023-06-22T20:07:44.362Z"
   },
   {
    "duration": 23,
    "start_time": "2023-06-22T20:07:44.439Z"
   },
   {
    "duration": 22,
    "start_time": "2023-06-22T20:07:44.465Z"
   },
   {
    "duration": 20,
    "start_time": "2023-06-22T20:07:44.490Z"
   },
   {
    "duration": 60,
    "start_time": "2023-06-22T20:07:44.519Z"
   },
   {
    "duration": 6,
    "start_time": "2023-06-22T20:07:44.581Z"
   },
   {
    "duration": 152,
    "start_time": "2023-06-22T20:07:44.589Z"
   },
   {
    "duration": 14,
    "start_time": "2023-06-22T20:07:44.743Z"
   },
   {
    "duration": 20,
    "start_time": "2023-06-22T20:07:44.759Z"
   },
   {
    "duration": 6,
    "start_time": "2023-06-22T20:07:44.781Z"
   },
   {
    "duration": 71,
    "start_time": "2023-06-22T20:07:44.790Z"
   },
   {
    "duration": 28,
    "start_time": "2023-06-22T20:07:44.864Z"
   },
   {
    "duration": 75,
    "start_time": "2023-06-22T20:07:44.894Z"
   },
   {
    "duration": 5,
    "start_time": "2023-06-22T20:07:44.973Z"
   },
   {
    "duration": 16,
    "start_time": "2023-06-22T20:07:44.980Z"
   },
   {
    "duration": 70,
    "start_time": "2023-06-22T20:07:45.003Z"
   },
   {
    "duration": 86,
    "start_time": "2023-06-22T20:07:45.075Z"
   },
   {
    "duration": 10,
    "start_time": "2023-06-22T20:07:45.163Z"
   },
   {
    "duration": 16,
    "start_time": "2023-06-22T20:07:45.175Z"
   },
   {
    "duration": 48,
    "start_time": "2023-06-22T20:07:45.193Z"
   },
   {
    "duration": 17,
    "start_time": "2023-06-22T20:07:45.242Z"
   },
   {
    "duration": 29,
    "start_time": "2023-06-22T20:07:45.262Z"
   },
   {
    "duration": 24,
    "start_time": "2023-06-22T20:07:45.293Z"
   },
   {
    "duration": 39,
    "start_time": "2023-06-22T20:07:45.322Z"
   },
   {
    "duration": 1230,
    "start_time": "2023-06-22T20:07:45.363Z"
   },
   {
    "duration": 16,
    "start_time": "2023-06-22T20:07:46.595Z"
   },
   {
    "duration": 70,
    "start_time": "2023-06-22T20:07:46.616Z"
   },
   {
    "duration": 2333,
    "start_time": "2023-06-22T20:07:46.692Z"
   },
   {
    "duration": 6,
    "start_time": "2023-06-22T20:07:49.039Z"
   },
   {
    "duration": 44,
    "start_time": "2023-06-22T20:07:49.048Z"
   },
   {
    "duration": 75,
    "start_time": "2023-06-22T20:07:49.094Z"
   },
   {
    "duration": 8,
    "start_time": "2023-06-22T20:07:49.170Z"
   },
   {
    "duration": 139,
    "start_time": "2023-06-22T20:07:49.180Z"
   },
   {
    "duration": 148,
    "start_time": "2023-06-22T20:07:49.321Z"
   },
   {
    "duration": 12,
    "start_time": "2023-06-22T20:07:49.472Z"
   },
   {
    "duration": 37,
    "start_time": "2023-06-22T20:07:49.487Z"
   },
   {
    "duration": 35,
    "start_time": "2023-06-22T20:07:49.527Z"
   },
   {
    "duration": 5,
    "start_time": "2023-06-22T20:07:49.565Z"
   },
   {
    "duration": 9,
    "start_time": "2023-06-22T20:07:49.572Z"
   },
   {
    "duration": 8,
    "start_time": "2023-06-22T20:07:49.583Z"
   },
   {
    "duration": 67,
    "start_time": "2023-06-22T20:07:49.593Z"
   },
   {
    "duration": 8,
    "start_time": "2023-06-22T20:07:49.662Z"
   },
   {
    "duration": 244,
    "start_time": "2023-06-22T20:07:49.673Z"
   },
   {
    "duration": 18,
    "start_time": "2023-06-22T20:07:49.923Z"
   },
   {
    "duration": 7,
    "start_time": "2023-06-22T20:07:49.943Z"
   },
   {
    "duration": 14,
    "start_time": "2023-06-22T20:07:49.952Z"
   },
   {
    "duration": 12,
    "start_time": "2023-06-22T20:07:49.968Z"
   },
   {
    "duration": 12,
    "start_time": "2023-06-22T20:07:49.982Z"
   },
   {
    "duration": 13,
    "start_time": "2023-06-22T20:07:49.995Z"
   },
   {
    "duration": 52,
    "start_time": "2023-06-22T20:07:50.009Z"
   },
   {
    "duration": 170,
    "start_time": "2023-06-22T20:07:50.063Z"
   },
   {
    "duration": 16,
    "start_time": "2023-06-22T20:07:50.234Z"
   },
   {
    "duration": 24,
    "start_time": "2023-06-22T20:07:50.252Z"
   },
   {
    "duration": 10,
    "start_time": "2023-06-22T20:07:50.279Z"
   },
   {
    "duration": 45,
    "start_time": "2023-06-22T20:07:50.299Z"
   },
   {
    "duration": 20,
    "start_time": "2023-06-22T20:07:50.345Z"
   },
   {
    "duration": 49,
    "start_time": "2023-06-22T20:07:50.367Z"
   },
   {
    "duration": 411,
    "start_time": "2023-06-22T20:07:50.417Z"
   },
   {
    "duration": 3,
    "start_time": "2023-06-22T20:07:50.830Z"
   },
   {
    "duration": 47,
    "start_time": "2023-06-22T20:07:50.834Z"
   },
   {
    "duration": 4,
    "start_time": "2023-06-22T20:07:50.882Z"
   },
   {
    "duration": 33,
    "start_time": "2023-06-22T20:07:50.888Z"
   },
   {
    "duration": 25,
    "start_time": "2023-06-22T20:07:50.922Z"
   },
   {
    "duration": 21,
    "start_time": "2023-06-22T20:07:50.949Z"
   },
   {
    "duration": 64,
    "start_time": "2023-06-22T20:07:50.972Z"
   },
   {
    "duration": 4,
    "start_time": "2023-06-22T20:07:51.043Z"
   },
   {
    "duration": 16,
    "start_time": "2023-06-22T20:07:51.049Z"
   },
   {
    "duration": 10,
    "start_time": "2023-06-22T20:07:51.067Z"
   },
   {
    "duration": 17,
    "start_time": "2023-06-22T20:07:51.079Z"
   },
   {
    "duration": 56,
    "start_time": "2023-06-22T20:07:51.098Z"
   },
   {
    "duration": 4,
    "start_time": "2023-06-22T20:07:51.156Z"
   },
   {
    "duration": 85,
    "start_time": "2023-06-22T20:07:51.162Z"
   },
   {
    "duration": 5596,
    "start_time": "2023-06-22T20:07:51.249Z"
   },
   {
    "duration": 5,
    "start_time": "2023-06-22T20:07:56.847Z"
   },
   {
    "duration": 6,
    "start_time": "2023-06-22T20:07:56.854Z"
   },
   {
    "duration": 841,
    "start_time": "2023-06-22T20:07:56.862Z"
   },
   {
    "duration": 3635,
    "start_time": "2023-06-22T20:07:57.714Z"
   },
   {
    "duration": 178,
    "start_time": "2023-06-22T20:08:01.350Z"
   },
   {
    "duration": 11020,
    "start_time": "2023-06-22T20:08:01.532Z"
   },
   {
    "duration": 3,
    "start_time": "2023-06-22T20:08:12.554Z"
   },
   {
    "duration": 26,
    "start_time": "2023-06-22T20:08:12.559Z"
   },
   {
    "duration": 3,
    "start_time": "2023-06-22T20:08:12.588Z"
   },
   {
    "duration": 221,
    "start_time": "2023-06-22T20:08:12.593Z"
   },
   {
    "duration": 21,
    "start_time": "2023-06-22T20:08:12.816Z"
   },
   {
    "duration": 10,
    "start_time": "2023-06-22T20:08:12.845Z"
   },
   {
    "duration": 8,
    "start_time": "2023-06-22T20:08:12.857Z"
   },
   {
    "duration": 19,
    "start_time": "2023-06-22T20:08:12.867Z"
   },
   {
    "duration": 6,
    "start_time": "2023-06-22T20:08:12.888Z"
   },
   {
    "duration": 58,
    "start_time": "2023-06-22T20:08:12.896Z"
   },
   {
    "duration": 23,
    "start_time": "2023-06-22T20:08:12.956Z"
   },
   {
    "duration": 343,
    "start_time": "2023-06-22T20:08:12.982Z"
   },
   {
    "duration": 121,
    "start_time": "2023-06-22T20:10:47.720Z"
   },
   {
    "duration": 15,
    "start_time": "2023-06-22T20:10:52.238Z"
   },
   {
    "duration": 334,
    "start_time": "2023-06-22T20:11:02.433Z"
   },
   {
    "duration": 13654,
    "start_time": "2023-06-22T20:11:40.702Z"
   },
   {
    "duration": 7,
    "start_time": "2023-06-22T20:11:54.358Z"
   },
   {
    "duration": 24,
    "start_time": "2023-06-22T20:11:54.367Z"
   },
   {
    "duration": 57,
    "start_time": "2023-06-22T20:11:54.393Z"
   },
   {
    "duration": 11,
    "start_time": "2023-06-22T20:11:54.453Z"
   },
   {
    "duration": 8,
    "start_time": "2023-06-22T20:11:54.466Z"
   },
   {
    "duration": 133,
    "start_time": "2023-06-22T20:11:54.476Z"
   },
   {
    "duration": 47,
    "start_time": "2023-06-22T20:11:54.621Z"
   },
   {
    "duration": 15,
    "start_time": "2023-06-22T20:11:54.670Z"
   },
   {
    "duration": 50,
    "start_time": "2023-06-22T20:11:54.687Z"
   },
   {
    "duration": 23,
    "start_time": "2023-06-22T20:11:54.741Z"
   },
   {
    "duration": 51,
    "start_time": "2023-06-22T20:11:54.766Z"
   },
   {
    "duration": 47,
    "start_time": "2023-06-22T20:11:54.819Z"
   },
   {
    "duration": 19,
    "start_time": "2023-06-22T20:11:54.871Z"
   },
   {
    "duration": 17,
    "start_time": "2023-06-22T20:11:54.892Z"
   },
   {
    "duration": 62,
    "start_time": "2023-06-22T20:11:54.910Z"
   },
   {
    "duration": 11,
    "start_time": "2023-06-22T20:11:54.976Z"
   },
   {
    "duration": 77,
    "start_time": "2023-06-22T20:11:54.989Z"
   },
   {
    "duration": 7,
    "start_time": "2023-06-22T20:11:55.068Z"
   },
   {
    "duration": 157,
    "start_time": "2023-06-22T20:11:55.076Z"
   },
   {
    "duration": 10,
    "start_time": "2023-06-22T20:11:55.238Z"
   },
   {
    "duration": 22,
    "start_time": "2023-06-22T20:11:55.251Z"
   },
   {
    "duration": 8,
    "start_time": "2023-06-22T20:11:55.275Z"
   },
   {
    "duration": 64,
    "start_time": "2023-06-22T20:11:55.286Z"
   },
   {
    "duration": 33,
    "start_time": "2023-06-22T20:11:55.352Z"
   },
   {
    "duration": 99,
    "start_time": "2023-06-22T20:11:55.387Z"
   },
   {
    "duration": 95,
    "start_time": "2023-06-22T20:11:55.488Z"
   },
   {
    "duration": 76,
    "start_time": "2023-06-22T20:11:55.586Z"
   },
   {
    "duration": 52,
    "start_time": "2023-06-22T20:11:55.667Z"
   },
   {
    "duration": 57,
    "start_time": "2023-06-22T20:11:55.723Z"
   },
   {
    "duration": 74,
    "start_time": "2023-06-22T20:11:55.782Z"
   },
   {
    "duration": 14,
    "start_time": "2023-06-22T20:11:55.859Z"
   },
   {
    "duration": 9,
    "start_time": "2023-06-22T20:11:55.875Z"
   },
   {
    "duration": 31,
    "start_time": "2023-06-22T20:11:55.886Z"
   },
   {
    "duration": 40,
    "start_time": "2023-06-22T20:11:55.920Z"
   },
   {
    "duration": 21,
    "start_time": "2023-06-22T20:11:55.963Z"
   },
   {
    "duration": 22,
    "start_time": "2023-06-22T20:11:55.987Z"
   },
   {
    "duration": 1061,
    "start_time": "2023-06-22T20:11:56.010Z"
   },
   {
    "duration": 4,
    "start_time": "2023-06-22T20:11:57.073Z"
   },
   {
    "duration": 58,
    "start_time": "2023-06-22T20:11:57.079Z"
   },
   {
    "duration": 2716,
    "start_time": "2023-06-22T20:11:57.146Z"
   },
   {
    "duration": 4,
    "start_time": "2023-06-22T20:11:59.864Z"
   },
   {
    "duration": 98,
    "start_time": "2023-06-22T20:11:59.871Z"
   },
   {
    "duration": 71,
    "start_time": "2023-06-22T20:11:59.971Z"
   },
   {
    "duration": 52,
    "start_time": "2023-06-22T20:12:00.045Z"
   },
   {
    "duration": 233,
    "start_time": "2023-06-22T20:12:00.099Z"
   },
   {
    "duration": 139,
    "start_time": "2023-06-22T20:12:00.335Z"
   },
   {
    "duration": 9,
    "start_time": "2023-06-22T20:12:00.476Z"
   },
   {
    "duration": 82,
    "start_time": "2023-06-22T20:12:00.487Z"
   },
   {
    "duration": 62,
    "start_time": "2023-06-22T20:12:00.570Z"
   },
   {
    "duration": 31,
    "start_time": "2023-06-22T20:12:00.636Z"
   },
   {
    "duration": 78,
    "start_time": "2023-06-22T20:12:00.674Z"
   },
   {
    "duration": 102,
    "start_time": "2023-06-22T20:12:00.754Z"
   },
   {
    "duration": 100,
    "start_time": "2023-06-22T20:12:00.858Z"
   },
   {
    "duration": 209,
    "start_time": "2023-06-22T20:12:00.960Z"
   },
   {
    "duration": 251,
    "start_time": "2023-06-22T20:12:01.171Z"
   },
   {
    "duration": 13,
    "start_time": "2023-06-22T20:12:01.424Z"
   },
   {
    "duration": 76,
    "start_time": "2023-06-22T20:12:01.438Z"
   },
   {
    "duration": 164,
    "start_time": "2023-06-22T20:12:01.521Z"
   },
   {
    "duration": 81,
    "start_time": "2023-06-22T20:12:01.687Z"
   },
   {
    "duration": 68,
    "start_time": "2023-06-22T20:12:01.770Z"
   },
   {
    "duration": 51,
    "start_time": "2023-06-22T20:12:01.840Z"
   },
   {
    "duration": 163,
    "start_time": "2023-06-22T20:12:01.893Z"
   },
   {
    "duration": 371,
    "start_time": "2023-06-22T20:12:02.058Z"
   },
   {
    "duration": 28,
    "start_time": "2023-06-22T20:12:02.431Z"
   },
   {
    "duration": 125,
    "start_time": "2023-06-22T20:12:02.461Z"
   },
   {
    "duration": 64,
    "start_time": "2023-06-22T20:12:02.589Z"
   },
   {
    "duration": 30,
    "start_time": "2023-06-22T20:12:02.660Z"
   },
   {
    "duration": 71,
    "start_time": "2023-06-22T20:12:02.691Z"
   },
   {
    "duration": 105,
    "start_time": "2023-06-22T20:12:02.764Z"
   },
   {
    "duration": 527,
    "start_time": "2023-06-22T20:12:02.870Z"
   },
   {
    "duration": 9,
    "start_time": "2023-06-22T20:12:03.406Z"
   },
   {
    "duration": 119,
    "start_time": "2023-06-22T20:12:03.422Z"
   },
   {
    "duration": 43,
    "start_time": "2023-06-22T20:12:03.547Z"
   },
   {
    "duration": 90,
    "start_time": "2023-06-22T20:12:03.592Z"
   },
   {
    "duration": 7,
    "start_time": "2023-06-22T20:12:03.684Z"
   },
   {
    "duration": 95,
    "start_time": "2023-06-22T20:12:03.694Z"
   },
   {
    "duration": 67,
    "start_time": "2023-06-22T20:12:03.792Z"
   },
   {
    "duration": 8,
    "start_time": "2023-06-22T20:12:03.862Z"
   },
   {
    "duration": 13,
    "start_time": "2023-06-22T20:12:03.872Z"
   },
   {
    "duration": 10,
    "start_time": "2023-06-22T20:12:03.887Z"
   },
   {
    "duration": 78,
    "start_time": "2023-06-22T20:12:03.898Z"
   },
   {
    "duration": 11,
    "start_time": "2023-06-22T20:12:03.978Z"
   },
   {
    "duration": 33,
    "start_time": "2023-06-22T20:12:03.991Z"
   },
   {
    "duration": 38,
    "start_time": "2023-06-22T20:12:04.026Z"
   },
   {
    "duration": 5163,
    "start_time": "2023-06-22T20:12:04.067Z"
   },
   {
    "duration": 4,
    "start_time": "2023-06-22T20:12:09.231Z"
   },
   {
    "duration": 25,
    "start_time": "2023-06-22T20:12:09.237Z"
   },
   {
    "duration": 823,
    "start_time": "2023-06-22T20:12:09.264Z"
   },
   {
    "duration": 3728,
    "start_time": "2023-06-22T20:12:10.089Z"
   },
   {
    "duration": 210,
    "start_time": "2023-06-22T20:12:13.829Z"
   },
   {
    "duration": 11503,
    "start_time": "2023-06-22T20:12:14.044Z"
   },
   {
    "duration": 3,
    "start_time": "2023-06-22T20:12:25.549Z"
   },
   {
    "duration": 28,
    "start_time": "2023-06-22T20:12:25.554Z"
   },
   {
    "duration": 77,
    "start_time": "2023-06-22T20:12:25.584Z"
   },
   {
    "duration": 215,
    "start_time": "2023-06-22T20:12:25.662Z"
   },
   {
    "duration": 51,
    "start_time": "2023-06-22T20:12:25.882Z"
   },
   {
    "duration": 32,
    "start_time": "2023-06-22T20:12:25.937Z"
   },
   {
    "duration": 23,
    "start_time": "2023-06-22T20:12:25.971Z"
   },
   {
    "duration": 79,
    "start_time": "2023-06-22T20:12:25.996Z"
   },
   {
    "duration": 17,
    "start_time": "2023-06-22T20:12:26.077Z"
   },
   {
    "duration": 86,
    "start_time": "2023-06-22T20:12:26.096Z"
   },
   {
    "duration": 48,
    "start_time": "2023-06-22T20:12:26.185Z"
   },
   {
    "duration": 278,
    "start_time": "2023-06-22T20:12:26.241Z"
   },
   {
    "duration": 15,
    "start_time": "2023-06-22T20:14:07.383Z"
   },
   {
    "duration": 1222,
    "start_time": "2023-06-22T20:14:59.762Z"
   },
   {
    "duration": 36,
    "start_time": "2023-06-22T20:15:06.019Z"
   },
   {
    "duration": 3680,
    "start_time": "2023-06-22T20:16:55.161Z"
   },
   {
    "duration": 22,
    "start_time": "2023-06-22T20:17:34.238Z"
   },
   {
    "duration": 75,
    "start_time": "2023-06-22T20:55:49.300Z"
   },
   {
    "duration": 17576,
    "start_time": "2023-06-22T20:56:06.941Z"
   },
   {
    "duration": 63,
    "start_time": "2023-06-22T20:56:26.093Z"
   },
   {
    "duration": 261995,
    "start_time": "2023-06-22T20:56:27.149Z"
   },
   {
    "duration": 132912,
    "start_time": "2023-06-22T21:00:55.297Z"
   },
   {
    "duration": 324,
    "start_time": "2023-06-22T21:03:12.330Z"
   },
   {
    "duration": 128669,
    "start_time": "2023-06-22T21:03:17.019Z"
   },
   {
    "duration": 152,
    "start_time": "2023-06-22T21:05:30.143Z"
   },
   {
    "duration": 114074,
    "start_time": "2023-06-22T21:05:32.998Z"
   },
   {
    "duration": 129,
    "start_time": "2023-06-22T21:08:31.627Z"
   },
   {
    "duration": 44,
    "start_time": "2023-06-22T21:09:04.617Z"
   },
   {
    "duration": 6276,
    "start_time": "2023-06-22T21:09:06.015Z"
   },
   {
    "duration": 42,
    "start_time": "2023-06-22T21:09:15.825Z"
   },
   {
    "duration": 288,
    "start_time": "2023-06-22T21:09:16.245Z"
   },
   {
    "duration": 65,
    "start_time": "2023-06-22T21:09:21.284Z"
   },
   {
    "duration": 234,
    "start_time": "2023-06-22T21:09:22.638Z"
   },
   {
    "duration": 48,
    "start_time": "2023-06-22T21:10:04.247Z"
   },
   {
    "duration": 15296,
    "start_time": "2023-06-22T21:12:12.193Z"
   },
   {
    "duration": 30,
    "start_time": "2023-06-22T21:12:27.491Z"
   },
   {
    "duration": 46,
    "start_time": "2023-06-22T21:12:27.529Z"
   },
   {
    "duration": 22,
    "start_time": "2023-06-22T21:12:27.577Z"
   },
   {
    "duration": 64,
    "start_time": "2023-06-22T21:12:27.609Z"
   },
   {
    "duration": 88,
    "start_time": "2023-06-22T21:12:27.674Z"
   },
   {
    "duration": 157,
    "start_time": "2023-06-22T21:12:27.764Z"
   },
   {
    "duration": 51,
    "start_time": "2023-06-22T21:12:27.922Z"
   },
   {
    "duration": 38,
    "start_time": "2023-06-22T21:12:27.978Z"
   },
   {
    "duration": 63,
    "start_time": "2023-06-22T21:12:28.019Z"
   },
   {
    "duration": 8,
    "start_time": "2023-06-22T21:12:28.084Z"
   },
   {
    "duration": 93,
    "start_time": "2023-06-22T21:12:28.093Z"
   },
   {
    "duration": 25,
    "start_time": "2023-06-22T21:12:28.187Z"
   },
   {
    "duration": 78,
    "start_time": "2023-06-22T21:12:28.214Z"
   },
   {
    "duration": 47,
    "start_time": "2023-06-22T21:12:28.294Z"
   },
   {
    "duration": 34,
    "start_time": "2023-06-22T21:12:28.342Z"
   },
   {
    "duration": 7,
    "start_time": "2023-06-22T21:12:28.377Z"
   },
   {
    "duration": 35,
    "start_time": "2023-06-22T21:12:28.386Z"
   },
   {
    "duration": 31,
    "start_time": "2023-06-22T21:12:28.422Z"
   },
   {
    "duration": 109,
    "start_time": "2023-06-22T21:12:28.454Z"
   },
   {
    "duration": 9,
    "start_time": "2023-06-22T21:12:28.565Z"
   },
   {
    "duration": 16,
    "start_time": "2023-06-22T21:12:28.576Z"
   },
   {
    "duration": 70,
    "start_time": "2023-06-22T21:12:28.593Z"
   },
   {
    "duration": 63,
    "start_time": "2023-06-22T21:12:28.665Z"
   },
   {
    "duration": 25,
    "start_time": "2023-06-22T21:12:28.730Z"
   },
   {
    "duration": 19,
    "start_time": "2023-06-22T21:12:28.762Z"
   },
   {
    "duration": 12,
    "start_time": "2023-06-22T21:12:28.782Z"
   },
   {
    "duration": 60,
    "start_time": "2023-06-22T21:12:28.809Z"
   },
   {
    "duration": 15,
    "start_time": "2023-06-22T21:12:28.871Z"
   },
   {
    "duration": 8,
    "start_time": "2023-06-22T21:12:28.888Z"
   },
   {
    "duration": 69,
    "start_time": "2023-06-22T21:12:28.902Z"
   },
   {
    "duration": 87,
    "start_time": "2023-06-22T21:12:28.973Z"
   },
   {
    "duration": 72,
    "start_time": "2023-06-22T21:12:29.061Z"
   },
   {
    "duration": 43,
    "start_time": "2023-06-22T21:12:29.134Z"
   },
   {
    "duration": 17,
    "start_time": "2023-06-22T21:12:29.179Z"
   },
   {
    "duration": 78,
    "start_time": "2023-06-22T21:12:29.198Z"
   },
   {
    "duration": 6,
    "start_time": "2023-06-22T21:12:29.278Z"
   },
   {
    "duration": 891,
    "start_time": "2023-06-22T21:12:29.285Z"
   },
   {
    "duration": 5,
    "start_time": "2023-06-22T21:12:30.177Z"
   },
   {
    "duration": 254,
    "start_time": "2023-06-22T21:12:30.183Z"
   },
   {
    "duration": 2442,
    "start_time": "2023-06-22T21:12:30.439Z"
   },
   {
    "duration": 5,
    "start_time": "2023-06-22T21:12:32.889Z"
   },
   {
    "duration": 49,
    "start_time": "2023-06-22T21:12:32.896Z"
   },
   {
    "duration": 36,
    "start_time": "2023-06-22T21:12:32.957Z"
   },
   {
    "duration": 39,
    "start_time": "2023-06-22T21:12:32.995Z"
   },
   {
    "duration": 186,
    "start_time": "2023-06-22T21:12:33.044Z"
   },
   {
    "duration": 190,
    "start_time": "2023-06-22T21:12:33.231Z"
   },
   {
    "duration": 11,
    "start_time": "2023-06-22T21:12:33.422Z"
   },
   {
    "duration": 38,
    "start_time": "2023-06-22T21:12:33.434Z"
   },
   {
    "duration": 7,
    "start_time": "2023-06-22T21:12:33.474Z"
   },
   {
    "duration": 10,
    "start_time": "2023-06-22T21:12:33.482Z"
   },
   {
    "duration": 8,
    "start_time": "2023-06-22T21:12:33.494Z"
   },
   {
    "duration": 4,
    "start_time": "2023-06-22T21:12:33.504Z"
   },
   {
    "duration": 112,
    "start_time": "2023-06-22T21:12:33.518Z"
   },
   {
    "duration": 25,
    "start_time": "2023-06-22T21:12:33.632Z"
   },
   {
    "duration": 262,
    "start_time": "2023-06-22T21:12:33.662Z"
   },
   {
    "duration": 16,
    "start_time": "2023-06-22T21:12:33.937Z"
   },
   {
    "duration": 12,
    "start_time": "2023-06-22T21:12:33.958Z"
   },
   {
    "duration": 10,
    "start_time": "2023-06-22T21:12:33.972Z"
   },
   {
    "duration": 7,
    "start_time": "2023-06-22T21:12:33.984Z"
   },
   {
    "duration": 12,
    "start_time": "2023-06-22T21:12:33.993Z"
   },
   {
    "duration": 62,
    "start_time": "2023-06-22T21:12:34.007Z"
   },
   {
    "duration": 16,
    "start_time": "2023-06-22T21:12:34.071Z"
   },
   {
    "duration": 198,
    "start_time": "2023-06-22T21:12:34.089Z"
   },
   {
    "duration": 44,
    "start_time": "2023-06-22T21:12:34.289Z"
   },
   {
    "duration": 56,
    "start_time": "2023-06-22T21:12:34.339Z"
   },
   {
    "duration": 53,
    "start_time": "2023-06-22T21:12:34.397Z"
   },
   {
    "duration": 19,
    "start_time": "2023-06-22T21:12:34.464Z"
   },
   {
    "duration": 8,
    "start_time": "2023-06-22T21:12:34.485Z"
   },
   {
    "duration": 75,
    "start_time": "2023-06-22T21:12:34.495Z"
   },
   {
    "duration": 470,
    "start_time": "2023-06-22T21:12:34.571Z"
   },
   {
    "duration": 22,
    "start_time": "2023-06-22T21:12:35.043Z"
   },
   {
    "duration": 63,
    "start_time": "2023-06-22T21:12:35.066Z"
   },
   {
    "duration": 6,
    "start_time": "2023-06-22T21:12:35.134Z"
   },
   {
    "duration": 39,
    "start_time": "2023-06-22T21:12:35.142Z"
   },
   {
    "duration": 3,
    "start_time": "2023-06-22T21:12:35.183Z"
   },
   {
    "duration": 87,
    "start_time": "2023-06-22T21:12:35.188Z"
   },
   {
    "duration": 74,
    "start_time": "2023-06-22T21:12:35.277Z"
   },
   {
    "duration": 30,
    "start_time": "2023-06-22T21:12:35.352Z"
   },
   {
    "duration": 15,
    "start_time": "2023-06-22T21:12:35.383Z"
   },
   {
    "duration": 83,
    "start_time": "2023-06-22T21:12:35.409Z"
   },
   {
    "duration": 79,
    "start_time": "2023-06-22T21:12:35.510Z"
   },
   {
    "duration": 114,
    "start_time": "2023-06-22T21:12:35.591Z"
   },
   {
    "duration": 90,
    "start_time": "2023-06-22T21:12:35.707Z"
   },
   {
    "duration": 83,
    "start_time": "2023-06-22T21:12:35.799Z"
   },
   {
    "duration": 5681,
    "start_time": "2023-06-22T21:12:35.884Z"
   },
   {
    "duration": 6,
    "start_time": "2023-06-22T21:12:41.570Z"
   },
   {
    "duration": 97,
    "start_time": "2023-06-22T21:12:41.581Z"
   },
   {
    "duration": 1018,
    "start_time": "2023-06-22T21:12:41.680Z"
   },
   {
    "duration": 3781,
    "start_time": "2023-06-22T21:12:42.700Z"
   },
   {
    "duration": 273,
    "start_time": "2023-06-22T21:12:46.513Z"
   },
   {
    "duration": 2105,
    "start_time": "2023-06-22T21:13:02.653Z"
   },
   {
    "duration": 226,
    "start_time": "2023-06-22T21:13:08.031Z"
   },
   {
    "duration": 707,
    "start_time": "2023-06-22T21:13:11.146Z"
   },
   {
    "duration": 169,
    "start_time": "2023-06-22T21:13:14.370Z"
   },
   {
    "duration": 728,
    "start_time": "2023-06-22T21:13:16.733Z"
   },
   {
    "duration": 202,
    "start_time": "2023-06-22T21:13:19.061Z"
   },
   {
    "duration": 688,
    "start_time": "2023-06-22T21:13:21.190Z"
   },
   {
    "duration": 124,
    "start_time": "2023-06-22T21:13:23.463Z"
   },
   {
    "duration": 627,
    "start_time": "2023-06-22T21:13:25.461Z"
   },
   {
    "duration": 127,
    "start_time": "2023-06-22T21:13:27.830Z"
   },
   {
    "duration": 618,
    "start_time": "2023-06-22T21:13:31.160Z"
   },
   {
    "duration": 158,
    "start_time": "2023-06-22T21:13:33.424Z"
   },
   {
    "duration": 726,
    "start_time": "2023-06-22T21:13:40.962Z"
   },
   {
    "duration": 130,
    "start_time": "2023-06-22T21:13:42.496Z"
   },
   {
    "duration": 742,
    "start_time": "2023-06-22T21:13:45.532Z"
   },
   {
    "duration": 126,
    "start_time": "2023-06-22T21:13:47.062Z"
   },
   {
    "duration": 625,
    "start_time": "2023-06-22T21:13:48.656Z"
   },
   {
    "duration": 171,
    "start_time": "2023-06-22T21:13:49.837Z"
   },
   {
    "duration": 694,
    "start_time": "2023-06-22T21:13:51.942Z"
   },
   {
    "duration": 266,
    "start_time": "2023-06-22T21:13:54.463Z"
   },
   {
    "duration": 625,
    "start_time": "2023-06-22T21:13:56.138Z"
   },
   {
    "duration": 219,
    "start_time": "2023-06-22T21:13:56.765Z"
   },
   {
    "duration": 713,
    "start_time": "2023-06-22T21:13:58.641Z"
   },
   {
    "duration": 130,
    "start_time": "2023-06-22T21:13:59.356Z"
   },
   {
    "duration": 738,
    "start_time": "2023-06-22T21:14:00.430Z"
   },
   {
    "duration": 124,
    "start_time": "2023-06-22T21:14:01.170Z"
   },
   {
    "duration": 646,
    "start_time": "2023-06-22T21:14:02.655Z"
   },
   {
    "duration": 144,
    "start_time": "2023-06-22T21:14:03.303Z"
   },
   {
    "duration": 705,
    "start_time": "2023-06-22T21:14:04.481Z"
   },
   {
    "duration": 156,
    "start_time": "2023-06-22T21:14:05.188Z"
   },
   {
    "duration": 723,
    "start_time": "2023-06-22T21:14:06.133Z"
   },
   {
    "duration": 120,
    "start_time": "2023-06-22T21:14:06.861Z"
   },
   {
    "duration": 704,
    "start_time": "2023-06-22T21:14:08.315Z"
   },
   {
    "duration": 139,
    "start_time": "2023-06-22T21:14:09.020Z"
   },
   {
    "duration": 707,
    "start_time": "2023-06-22T21:14:10.451Z"
   },
   {
    "duration": 183,
    "start_time": "2023-06-22T21:14:11.160Z"
   },
   {
    "duration": 632,
    "start_time": "2023-06-22T21:14:12.528Z"
   },
   {
    "duration": 131,
    "start_time": "2023-06-22T21:14:13.163Z"
   },
   {
    "duration": 670,
    "start_time": "2023-06-22T21:14:14.498Z"
   },
   {
    "duration": 119,
    "start_time": "2023-06-22T21:14:15.171Z"
   },
   {
    "duration": 689,
    "start_time": "2023-06-22T21:14:16.685Z"
   },
   {
    "duration": 113,
    "start_time": "2023-06-22T21:14:17.376Z"
   },
   {
    "duration": 725,
    "start_time": "2023-06-22T21:14:18.253Z"
   },
   {
    "duration": 132,
    "start_time": "2023-06-22T21:14:18.981Z"
   },
   {
    "duration": 707,
    "start_time": "2023-06-22T21:14:20.185Z"
   },
   {
    "duration": 157,
    "start_time": "2023-06-22T21:14:20.894Z"
   },
   {
    "duration": 632,
    "start_time": "2023-06-22T21:14:22.539Z"
   },
   {
    "duration": 122,
    "start_time": "2023-06-22T21:14:23.173Z"
   },
   {
    "duration": 578,
    "start_time": "2023-06-22T21:14:24.299Z"
   },
   {
    "duration": 126,
    "start_time": "2023-06-22T21:14:24.903Z"
   },
   {
    "duration": 644,
    "start_time": "2023-06-22T21:14:26.357Z"
   },
   {
    "duration": 222,
    "start_time": "2023-06-22T21:14:27.007Z"
   },
   {
    "duration": 629,
    "start_time": "2023-06-22T21:14:28.741Z"
   },
   {
    "duration": 242,
    "start_time": "2023-06-22T21:14:29.371Z"
   },
   {
    "duration": 631,
    "start_time": "2023-06-22T21:14:30.747Z"
   },
   {
    "duration": 210,
    "start_time": "2023-06-22T21:14:31.380Z"
   },
   {
    "duration": 702,
    "start_time": "2023-06-22T21:14:32.557Z"
   },
   {
    "duration": 131,
    "start_time": "2023-06-22T21:14:33.260Z"
   },
   {
    "duration": 684,
    "start_time": "2023-06-22T21:14:34.586Z"
   },
   {
    "duration": 252,
    "start_time": "2023-06-22T21:14:35.272Z"
   },
   {
    "duration": 703,
    "start_time": "2023-06-22T21:14:36.629Z"
   },
   {
    "duration": 168,
    "start_time": "2023-06-22T21:14:37.341Z"
   },
   {
    "duration": 687,
    "start_time": "2023-06-22T21:14:38.685Z"
   },
   {
    "duration": 189,
    "start_time": "2023-06-22T21:14:39.374Z"
   },
   {
    "duration": 695,
    "start_time": "2023-06-22T21:14:40.922Z"
   },
   {
    "duration": 151,
    "start_time": "2023-06-22T21:14:41.625Z"
   },
   {
    "duration": 720,
    "start_time": "2023-06-22T21:14:43.047Z"
   },
   {
    "duration": 148,
    "start_time": "2023-06-22T21:14:43.769Z"
   },
   {
    "duration": 1398,
    "start_time": "2023-06-22T21:14:45.330Z"
   },
   {
    "duration": 232,
    "start_time": "2023-06-22T21:14:46.730Z"
   },
   {
    "duration": 814,
    "start_time": "2023-06-22T21:14:48.040Z"
   },
   {
    "duration": 186,
    "start_time": "2023-06-22T21:14:48.857Z"
   },
   {
    "duration": 1394,
    "start_time": "2023-06-22T21:14:50.698Z"
   },
   {
    "duration": 246,
    "start_time": "2023-06-22T21:14:52.096Z"
   },
   {
    "duration": 1489,
    "start_time": "2023-06-22T21:14:56.182Z"
   },
   {
    "duration": 170,
    "start_time": "2023-06-22T21:14:57.673Z"
   },
   {
    "duration": 755,
    "start_time": "2023-06-22T21:15:00.296Z"
   },
   {
    "duration": 249,
    "start_time": "2023-06-22T21:15:01.053Z"
   },
   {
    "duration": 766,
    "start_time": "2023-06-22T21:15:03.363Z"
   },
   {
    "duration": 137,
    "start_time": "2023-06-22T21:15:04.139Z"
   },
   {
    "duration": 807,
    "start_time": "2023-06-22T21:15:05.585Z"
   },
   {
    "duration": 202,
    "start_time": "2023-06-22T21:15:06.396Z"
   },
   {
    "duration": 683,
    "start_time": "2023-06-22T21:15:07.889Z"
   },
   {
    "duration": 121,
    "start_time": "2023-06-22T21:15:08.576Z"
   },
   {
    "duration": 727,
    "start_time": "2023-06-22T21:15:10.190Z"
   },
   {
    "duration": 143,
    "start_time": "2023-06-22T21:15:10.918Z"
   },
   {
    "duration": 646,
    "start_time": "2023-06-22T21:15:12.552Z"
   },
   {
    "duration": 148,
    "start_time": "2023-06-22T21:15:13.200Z"
   },
   {
    "duration": 682,
    "start_time": "2023-06-22T21:15:16.379Z"
   },
   {
    "duration": 142,
    "start_time": "2023-06-22T21:15:17.063Z"
   },
   {
    "duration": 711,
    "start_time": "2023-06-22T21:15:22.326Z"
   },
   {
    "duration": 169,
    "start_time": "2023-06-22T21:15:23.046Z"
   },
   {
    "duration": 736,
    "start_time": "2023-06-22T21:15:25.259Z"
   },
   {
    "duration": 157,
    "start_time": "2023-06-22T21:15:25.997Z"
   },
   {
    "duration": 61,
    "start_time": "2023-06-22T21:16:03.089Z"
   },
   {
    "duration": 15176,
    "start_time": "2023-06-22T21:16:11.218Z"
   },
   {
    "duration": 293,
    "start_time": "2023-06-22T21:16:28.052Z"
   },
   {
    "duration": 14671,
    "start_time": "2023-06-22T21:16:31.980Z"
   },
   {
    "duration": 140,
    "start_time": "2023-06-22T21:16:49.358Z"
   },
   {
    "duration": 13938,
    "start_time": "2023-06-22T21:16:52.027Z"
   },
   {
    "duration": 207,
    "start_time": "2023-06-22T21:17:17.440Z"
   },
   {
    "duration": 14040,
    "start_time": "2023-06-22T21:17:34.334Z"
   },
   {
    "duration": 133,
    "start_time": "2023-06-22T21:17:48.376Z"
   },
   {
    "duration": 67137,
    "start_time": "2023-06-22T21:17:55.220Z"
   },
   {
    "duration": 105,
    "start_time": "2023-06-22T21:19:45.129Z"
   },
   {
    "duration": 69374,
    "start_time": "2023-06-22T21:19:50.026Z"
   },
   {
    "duration": 113,
    "start_time": "2023-06-22T21:21:02.596Z"
   },
   {
    "duration": 36,
    "start_time": "2023-06-22T21:21:29.732Z"
   },
   {
    "duration": 446,
    "start_time": "2023-06-22T21:21:31.385Z"
   },
   {
    "duration": 59,
    "start_time": "2023-06-22T21:21:39.582Z"
   },
   {
    "duration": 34,
    "start_time": "2023-06-22T21:21:45.699Z"
   },
   {
    "duration": 211,
    "start_time": "2023-06-22T21:21:46.459Z"
   },
   {
    "duration": 30,
    "start_time": "2023-06-22T21:21:54.061Z"
   },
   {
    "duration": 3005,
    "start_time": "2023-06-22T21:21:54.633Z"
   },
   {
    "duration": 31,
    "start_time": "2023-06-22T21:22:03.652Z"
   },
   {
    "duration": 2659,
    "start_time": "2023-06-22T21:22:04.679Z"
   },
   {
    "duration": 3909,
    "start_time": "2023-06-22T21:22:21.222Z"
   },
   {
    "duration": 147,
    "start_time": "2023-06-22T21:22:27.783Z"
   },
   {
    "duration": 31,
    "start_time": "2023-06-22T21:23:09.531Z"
   },
   {
    "duration": 3193,
    "start_time": "2023-06-22T21:23:10.741Z"
   },
   {
    "duration": 158,
    "start_time": "2023-06-22T21:23:20.079Z"
   },
   {
    "duration": 29,
    "start_time": "2023-06-22T21:23:27.128Z"
   },
   {
    "duration": 5325,
    "start_time": "2023-06-22T21:23:27.622Z"
   },
   {
    "duration": 36,
    "start_time": "2023-06-22T21:23:38.924Z"
   },
   {
    "duration": 10357,
    "start_time": "2023-06-22T21:23:39.579Z"
   },
   {
    "duration": 124,
    "start_time": "2023-06-22T21:23:54.230Z"
   },
   {
    "duration": 30,
    "start_time": "2023-06-22T21:24:04.827Z"
   },
   {
    "duration": 5189,
    "start_time": "2023-06-22T21:24:05.747Z"
   },
   {
    "duration": 119,
    "start_time": "2023-06-22T21:24:15.753Z"
   },
   {
    "duration": 32,
    "start_time": "2023-06-22T21:24:25.029Z"
   },
   {
    "duration": 6055,
    "start_time": "2023-06-22T21:24:26.080Z"
   },
   {
    "duration": 124,
    "start_time": "2023-06-22T21:24:34.827Z"
   },
   {
    "duration": 35,
    "start_time": "2023-06-22T21:24:40.482Z"
   },
   {
    "duration": 9367,
    "start_time": "2023-06-22T21:24:40.781Z"
   },
   {
    "duration": 176,
    "start_time": "2023-06-22T21:24:53.888Z"
   },
   {
    "duration": 45,
    "start_time": "2023-06-22T21:24:58.558Z"
   },
   {
    "duration": 28874,
    "start_time": "2023-06-22T21:24:58.983Z"
   },
   {
    "duration": 125,
    "start_time": "2023-06-22T21:25:31.637Z"
   },
   {
    "duration": 34,
    "start_time": "2023-06-22T21:25:44.939Z"
   },
   {
    "duration": 29782,
    "start_time": "2023-06-22T21:25:45.881Z"
   },
   {
    "duration": 226,
    "start_time": "2023-06-22T21:26:19.317Z"
   },
   {
    "duration": 32,
    "start_time": "2023-06-22T21:26:22.855Z"
   },
   {
    "duration": 31005,
    "start_time": "2023-06-22T21:26:23.134Z"
   },
   {
    "duration": 141,
    "start_time": "2023-06-22T21:26:54.141Z"
   },
   {
    "duration": 112,
    "start_time": "2023-06-22T21:26:58.532Z"
   },
   {
    "duration": 44,
    "start_time": "2023-06-22T21:27:08.685Z"
   },
   {
    "duration": 50821,
    "start_time": "2023-06-22T21:27:09.325Z"
   },
   {
    "duration": 166,
    "start_time": "2023-06-22T21:28:05.822Z"
   },
   {
    "duration": 36,
    "start_time": "2023-06-22T21:28:12.525Z"
   },
   {
    "duration": 80263,
    "start_time": "2023-06-22T21:28:12.877Z"
   },
   {
    "duration": 160,
    "start_time": "2023-06-22T21:29:38.178Z"
   },
   {
    "duration": 44,
    "start_time": "2023-06-22T21:30:01.600Z"
   },
   {
    "duration": 79471,
    "start_time": "2023-06-22T21:30:02.961Z"
   },
   {
    "duration": 128,
    "start_time": "2023-06-22T21:31:27.039Z"
   },
   {
    "duration": 41,
    "start_time": "2023-06-22T21:31:38.396Z"
   },
   {
    "duration": 80963,
    "start_time": "2023-06-22T21:31:39.592Z"
   },
   {
    "duration": 148,
    "start_time": "2023-06-22T21:33:07.692Z"
   },
   {
    "duration": 34,
    "start_time": "2023-06-22T21:33:24.033Z"
   },
   {
    "duration": 80139,
    "start_time": "2023-06-22T21:33:24.425Z"
   },
   {
    "duration": 127,
    "start_time": "2023-06-22T21:34:47.625Z"
   },
   {
    "duration": 55,
    "start_time": "2023-06-22T21:34:58.070Z"
   },
   {
    "duration": 79571,
    "start_time": "2023-06-22T21:34:58.296Z"
   },
   {
    "duration": 177,
    "start_time": "2023-06-22T21:36:24.698Z"
   },
   {
    "duration": 42,
    "start_time": "2023-06-22T21:36:29.582Z"
   },
   {
    "duration": 50569,
    "start_time": "2023-06-22T21:36:29.886Z"
   },
   {
    "duration": 173,
    "start_time": "2023-06-22T21:37:20.457Z"
   },
   {
    "duration": 115,
    "start_time": "2023-06-22T21:38:02.258Z"
   },
   {
    "duration": 35,
    "start_time": "2023-06-22T21:38:21.639Z"
   },
   {
    "duration": 75845,
    "start_time": "2023-06-22T21:38:22.384Z"
   },
   {
    "duration": 132,
    "start_time": "2023-06-22T21:39:38.231Z"
   },
   {
    "duration": 32,
    "start_time": "2023-06-22T21:39:54.766Z"
   },
   {
    "duration": 79012,
    "start_time": "2023-06-22T21:39:54.943Z"
   },
   {
    "duration": 156,
    "start_time": "2023-06-22T21:41:13.957Z"
   },
   {
    "duration": 48,
    "start_time": "2023-06-22T21:41:26.221Z"
   },
   {
    "duration": 42867,
    "start_time": "2023-06-22T21:41:26.435Z"
   },
   {
    "duration": 163,
    "start_time": "2023-06-22T21:42:09.303Z"
   },
   {
    "duration": 52,
    "start_time": "2023-06-22T21:43:05.924Z"
   },
   {
    "duration": 41481,
    "start_time": "2023-06-22T21:43:06.626Z"
   },
   {
    "duration": 145,
    "start_time": "2023-06-22T21:43:48.109Z"
   },
   {
    "duration": 49,
    "start_time": "2023-06-22T21:44:00.197Z"
   },
   {
    "duration": 4322,
    "start_time": "2023-06-22T21:44:00.814Z"
   },
   {
    "duration": 151,
    "start_time": "2023-06-22T21:44:05.138Z"
   },
   {
    "duration": 2078,
    "start_time": "2023-06-22T21:44:28.758Z"
   },
   {
    "duration": 218,
    "start_time": "2023-06-22T21:44:32.496Z"
   },
   {
    "duration": 40,
    "start_time": "2023-06-22T21:44:34.477Z"
   },
   {
    "duration": 2449,
    "start_time": "2023-06-22T21:44:34.697Z"
   },
   {
    "duration": 134,
    "start_time": "2023-06-22T21:44:37.151Z"
   },
   {
    "duration": 1888,
    "start_time": "2023-06-22T21:44:40.865Z"
   },
   {
    "duration": 138,
    "start_time": "2023-06-22T21:44:43.666Z"
   },
   {
    "duration": 2608,
    "start_time": "2023-06-22T21:44:46.222Z"
   },
   {
    "duration": 119,
    "start_time": "2023-06-22T21:44:49.067Z"
   },
   {
    "duration": 2606,
    "start_time": "2023-06-22T21:44:51.647Z"
   },
   {
    "duration": 110,
    "start_time": "2023-06-22T21:44:54.626Z"
   },
   {
    "duration": 30,
    "start_time": "2023-06-22T21:44:58.443Z"
   },
   {
    "duration": 2080,
    "start_time": "2023-06-22T21:45:02.222Z"
   },
   {
    "duration": 157,
    "start_time": "2023-06-22T21:45:05.834Z"
   },
   {
    "duration": 2591,
    "start_time": "2023-06-22T21:45:08.543Z"
   },
   {
    "duration": 104,
    "start_time": "2023-06-22T21:45:11.438Z"
   },
   {
    "duration": 266,
    "start_time": "2023-06-22T21:45:19.164Z"
   },
   {
    "duration": 824,
    "start_time": "2023-06-22T21:45:20.226Z"
   },
   {
    "duration": 242,
    "start_time": "2023-06-22T21:45:23.380Z"
   },
   {
    "duration": 690,
    "start_time": "2023-06-22T21:45:26.394Z"
   },
   {
    "duration": 124,
    "start_time": "2023-06-22T21:45:28.757Z"
   },
   {
    "duration": 429,
    "start_time": "2023-06-22T21:45:31.280Z"
   },
   {
    "duration": 101,
    "start_time": "2023-06-22T21:45:32.764Z"
   },
   {
    "duration": 385,
    "start_time": "2023-06-22T21:45:34.938Z"
   },
   {
    "duration": 130,
    "start_time": "2023-06-22T21:45:36.130Z"
   },
   {
    "duration": 393,
    "start_time": "2023-06-22T21:45:38.049Z"
   },
   {
    "duration": 102,
    "start_time": "2023-06-22T21:45:39.326Z"
   },
   {
    "duration": 384,
    "start_time": "2023-06-22T21:45:41.548Z"
   },
   {
    "duration": 111,
    "start_time": "2023-06-22T21:45:42.675Z"
   },
   {
    "duration": 391,
    "start_time": "2023-06-22T21:45:44.252Z"
   },
   {
    "duration": 107,
    "start_time": "2023-06-22T21:45:45.246Z"
   },
   {
    "duration": 403,
    "start_time": "2023-06-22T21:45:47.257Z"
   },
   {
    "duration": 111,
    "start_time": "2023-06-22T21:45:48.650Z"
   },
   {
    "duration": 418,
    "start_time": "2023-06-22T21:45:50.127Z"
   },
   {
    "duration": 111,
    "start_time": "2023-06-22T21:45:51.143Z"
   },
   {
    "duration": 402,
    "start_time": "2023-06-22T21:45:52.466Z"
   },
   {
    "duration": 128,
    "start_time": "2023-06-22T21:45:53.405Z"
   },
   {
    "duration": 384,
    "start_time": "2023-06-22T21:45:54.726Z"
   },
   {
    "duration": 118,
    "start_time": "2023-06-22T21:45:55.574Z"
   },
   {
    "duration": 397,
    "start_time": "2023-06-22T21:45:58.455Z"
   },
   {
    "duration": 120,
    "start_time": "2023-06-22T21:45:59.634Z"
   },
   {
    "duration": 3840,
    "start_time": "2023-06-22T21:46:03.826Z"
   },
   {
    "duration": 101,
    "start_time": "2023-06-22T21:46:09.751Z"
   },
   {
    "duration": 34,
    "start_time": "2023-06-22T21:46:48.740Z"
   },
   {
    "duration": 5808,
    "start_time": "2023-06-22T21:46:49.399Z"
   },
   {
    "duration": 1632,
    "start_time": "2023-06-22T21:47:05.734Z"
   },
   {
    "duration": 42,
    "start_time": "2023-06-22T21:47:10.022Z"
   },
   {
    "duration": 3195,
    "start_time": "2023-06-22T21:47:10.296Z"
   },
   {
    "duration": 144,
    "start_time": "2023-06-22T21:47:18.235Z"
   },
   {
    "duration": 2644,
    "start_time": "2023-06-22T21:47:21.400Z"
   },
   {
    "duration": 106,
    "start_time": "2023-06-22T21:47:24.838Z"
   },
   {
    "duration": 37,
    "start_time": "2023-06-22T21:47:36.465Z"
   },
   {
    "duration": 5750,
    "start_time": "2023-06-22T21:47:37.034Z"
   },
   {
    "duration": 155,
    "start_time": "2023-06-22T21:47:45.029Z"
   },
   {
    "duration": 1488,
    "start_time": "2023-06-22T21:47:53.234Z"
   },
   {
    "duration": 108,
    "start_time": "2023-06-22T21:47:55.728Z"
   },
   {
    "duration": 34,
    "start_time": "2023-06-22T21:47:58.264Z"
   },
   {
    "duration": 2019,
    "start_time": "2023-06-22T21:47:58.942Z"
   },
   {
    "duration": 150,
    "start_time": "2023-06-22T21:48:03.118Z"
   },
   {
    "duration": 521,
    "start_time": "2023-06-22T21:48:07.026Z"
   },
   {
    "duration": 96,
    "start_time": "2023-06-22T21:48:07.549Z"
   },
   {
    "duration": 502,
    "start_time": "2023-06-22T21:48:09.835Z"
   },
   {
    "duration": 104,
    "start_time": "2023-06-22T21:48:10.339Z"
   },
   {
    "duration": 500,
    "start_time": "2023-06-22T21:48:11.926Z"
   },
   {
    "duration": 69,
    "start_time": "2023-06-22T21:48:12.428Z"
   },
   {
    "duration": 479,
    "start_time": "2023-06-22T21:48:13.883Z"
   },
   {
    "duration": 128,
    "start_time": "2023-06-22T21:48:14.364Z"
   },
   {
    "duration": 488,
    "start_time": "2023-06-22T21:48:17.134Z"
   },
   {
    "duration": 109,
    "start_time": "2023-06-22T21:48:17.624Z"
   },
   {
    "duration": 550,
    "start_time": "2023-06-22T21:48:19.296Z"
   },
   {
    "duration": 103,
    "start_time": "2023-06-22T21:48:19.848Z"
   },
   {
    "duration": 33,
    "start_time": "2023-06-22T21:48:27.329Z"
   },
   {
    "duration": 1177,
    "start_time": "2023-06-22T21:48:27.752Z"
   },
   {
    "duration": 158,
    "start_time": "2023-06-22T21:48:30.371Z"
   },
   {
    "duration": 46,
    "start_time": "2023-06-22T21:48:41.685Z"
   },
   {
    "duration": 26,
    "start_time": "2023-06-22T21:48:42.397Z"
   },
   {
    "duration": 39,
    "start_time": "2023-06-22T21:48:48.825Z"
   },
   {
    "duration": 13943,
    "start_time": "2023-06-22T21:48:49.229Z"
   },
   {
    "duration": 131,
    "start_time": "2023-06-22T21:49:06.350Z"
   },
   {
    "duration": 13014,
    "start_time": "2023-06-22T21:49:11.653Z"
   },
   {
    "duration": 111,
    "start_time": "2023-06-22T21:49:26.425Z"
   },
   {
    "duration": 39,
    "start_time": "2023-06-22T21:49:28.592Z"
   },
   {
    "duration": 13565,
    "start_time": "2023-06-22T21:49:29.673Z"
   },
   {
    "duration": 121,
    "start_time": "2023-06-22T21:49:45.148Z"
   },
   {
    "duration": 37,
    "start_time": "2023-06-22T21:49:55.131Z"
   },
   {
    "duration": 35,
    "start_time": "2023-06-22T21:49:55.626Z"
   },
   {
    "duration": 14607,
    "start_time": "2023-06-22T21:50:00.545Z"
   },
   {
    "duration": 200,
    "start_time": "2023-06-22T21:50:20.542Z"
   },
   {
    "duration": 14371,
    "start_time": "2023-06-22T21:50:23.381Z"
   },
   {
    "duration": 154,
    "start_time": "2023-06-22T21:50:38.685Z"
   },
   {
    "duration": 14035,
    "start_time": "2023-06-22T21:50:40.730Z"
   },
   {
    "duration": 133,
    "start_time": "2023-06-22T21:50:55.732Z"
   },
   {
    "duration": 33,
    "start_time": "2023-06-22T21:51:00.150Z"
   },
   {
    "duration": 14586,
    "start_time": "2023-06-22T21:51:01.752Z"
   },
   {
    "duration": 176,
    "start_time": "2023-06-22T21:51:18.083Z"
   },
   {
    "duration": 45,
    "start_time": "2023-06-22T21:51:23.138Z"
   },
   {
    "duration": 15023,
    "start_time": "2023-06-22T21:51:23.847Z"
   },
   {
    "duration": 147,
    "start_time": "2023-06-22T21:51:40.190Z"
   },
   {
    "duration": 14907,
    "start_time": "2023-06-22T21:51:46.947Z"
   },
   {
    "duration": 96,
    "start_time": "2023-06-22T21:52:03.265Z"
   },
   {
    "duration": 13991,
    "start_time": "2023-06-22T21:52:07.341Z"
   },
   {
    "duration": 115,
    "start_time": "2023-06-22T21:52:22.826Z"
   },
   {
    "duration": 20560,
    "start_time": "2023-06-22T21:52:25.163Z"
   },
   {
    "duration": 99,
    "start_time": "2023-06-22T21:52:45.725Z"
   },
   {
    "duration": 13629,
    "start_time": "2023-06-22T21:52:50.500Z"
   },
   {
    "duration": 73,
    "start_time": "2023-06-22T21:53:13.119Z"
   },
   {
    "duration": 36,
    "start_time": "2023-06-22T21:53:27.215Z"
   },
   {
    "duration": 595,
    "start_time": "2023-06-22T21:53:28.447Z"
   },
   {
    "duration": 123,
    "start_time": "2023-06-22T21:53:32.215Z"
   },
   {
    "duration": 154,
    "start_time": "2023-06-22T21:53:35.389Z"
   },
   {
    "duration": 387,
    "start_time": "2023-06-22T21:53:36.960Z"
   },
   {
    "duration": 144,
    "start_time": "2023-06-22T21:53:38.798Z"
   },
   {
    "duration": 106,
    "start_time": "2023-06-22T21:53:41.011Z"
   },
   {
    "duration": 142,
    "start_time": "2023-06-22T21:53:42.598Z"
   },
   {
    "duration": 78,
    "start_time": "2023-06-22T21:53:44.023Z"
   },
   {
    "duration": 103,
    "start_time": "2023-06-22T21:53:45.541Z"
   },
   {
    "duration": 91,
    "start_time": "2023-06-22T21:53:46.861Z"
   },
   {
    "duration": 160,
    "start_time": "2023-06-22T21:53:51.169Z"
   },
   {
    "duration": 85,
    "start_time": "2023-06-22T21:53:52.117Z"
   },
   {
    "duration": 167,
    "start_time": "2023-06-22T21:53:53.755Z"
   },
   {
    "duration": 103,
    "start_time": "2023-06-22T21:53:54.811Z"
   },
   {
    "duration": 175,
    "start_time": "2023-06-22T21:53:56.249Z"
   },
   {
    "duration": 104,
    "start_time": "2023-06-22T21:53:57.115Z"
   },
   {
    "duration": 105,
    "start_time": "2023-06-22T21:53:58.339Z"
   },
   {
    "duration": 98,
    "start_time": "2023-06-22T21:53:59.320Z"
   },
   {
    "duration": 128,
    "start_time": "2023-06-22T21:54:00.616Z"
   },
   {
    "duration": 86,
    "start_time": "2023-06-22T21:54:01.581Z"
   },
   {
    "duration": 106,
    "start_time": "2023-06-22T21:54:02.829Z"
   },
   {
    "duration": 99,
    "start_time": "2023-06-22T21:54:03.521Z"
   },
   {
    "duration": 141,
    "start_time": "2023-06-22T21:54:04.697Z"
   },
   {
    "duration": 109,
    "start_time": "2023-06-22T21:54:05.400Z"
   },
   {
    "duration": 101,
    "start_time": "2023-06-22T21:54:06.537Z"
   },
   {
    "duration": 93,
    "start_time": "2023-06-22T21:54:07.227Z"
   },
   {
    "duration": 122,
    "start_time": "2023-06-22T21:54:08.320Z"
   },
   {
    "duration": 104,
    "start_time": "2023-06-22T21:54:09.011Z"
   },
   {
    "duration": 158,
    "start_time": "2023-06-22T21:54:10.062Z"
   },
   {
    "duration": 89,
    "start_time": "2023-06-22T21:54:10.767Z"
   },
   {
    "duration": 142,
    "start_time": "2023-06-22T21:54:11.788Z"
   },
   {
    "duration": 81,
    "start_time": "2023-06-22T21:54:12.421Z"
   },
   {
    "duration": 120,
    "start_time": "2023-06-22T21:54:13.512Z"
   },
   {
    "duration": 79,
    "start_time": "2023-06-22T21:54:14.063Z"
   },
   {
    "duration": 170,
    "start_time": "2023-06-22T21:54:15.157Z"
   },
   {
    "duration": 126,
    "start_time": "2023-06-22T21:54:15.853Z"
   },
   {
    "duration": 120,
    "start_time": "2023-06-22T21:54:16.915Z"
   },
   {
    "duration": 97,
    "start_time": "2023-06-22T21:54:17.454Z"
   },
   {
    "duration": 150,
    "start_time": "2023-06-22T21:54:18.577Z"
   },
   {
    "duration": 98,
    "start_time": "2023-06-22T21:54:19.211Z"
   },
   {
    "duration": 158,
    "start_time": "2023-06-22T21:54:20.359Z"
   },
   {
    "duration": 120,
    "start_time": "2023-06-22T21:54:21.002Z"
   },
   {
    "duration": 162,
    "start_time": "2023-06-22T21:54:22.154Z"
   },
   {
    "duration": 86,
    "start_time": "2023-06-22T21:54:22.595Z"
   },
   {
    "duration": 163,
    "start_time": "2023-06-22T21:54:23.758Z"
   },
   {
    "duration": 81,
    "start_time": "2023-06-22T21:54:24.189Z"
   },
   {
    "duration": 161,
    "start_time": "2023-06-22T21:54:25.265Z"
   },
   {
    "duration": 79,
    "start_time": "2023-06-22T21:54:25.689Z"
   },
   {
    "duration": 136,
    "start_time": "2023-06-22T21:54:26.698Z"
   },
   {
    "duration": 104,
    "start_time": "2023-06-22T21:54:27.114Z"
   },
   {
    "duration": 122,
    "start_time": "2023-06-22T21:54:28.215Z"
   },
   {
    "duration": 94,
    "start_time": "2023-06-22T21:54:28.564Z"
   },
   {
    "duration": 162,
    "start_time": "2023-06-22T21:54:29.764Z"
   },
   {
    "duration": 84,
    "start_time": "2023-06-22T21:54:30.273Z"
   },
   {
    "duration": 168,
    "start_time": "2023-06-22T21:54:31.454Z"
   },
   {
    "duration": 110,
    "start_time": "2023-06-22T21:54:31.911Z"
   },
   {
    "duration": 165,
    "start_time": "2023-06-22T21:54:32.955Z"
   },
   {
    "duration": 111,
    "start_time": "2023-06-22T21:54:33.439Z"
   },
   {
    "duration": 157,
    "start_time": "2023-06-22T21:54:34.469Z"
   },
   {
    "duration": 89,
    "start_time": "2023-06-22T21:54:34.939Z"
   },
   {
    "duration": 208,
    "start_time": "2023-06-22T21:54:36.042Z"
   },
   {
    "duration": 87,
    "start_time": "2023-06-22T21:54:36.489Z"
   },
   {
    "duration": 179,
    "start_time": "2023-06-22T21:54:38.529Z"
   },
   {
    "duration": 101,
    "start_time": "2023-06-22T21:54:39.058Z"
   },
   {
    "duration": 177,
    "start_time": "2023-06-22T21:54:40.250Z"
   },
   {
    "duration": 98,
    "start_time": "2023-06-22T21:54:40.851Z"
   },
   {
    "duration": 101,
    "start_time": "2023-06-22T21:54:42.048Z"
   },
   {
    "duration": 112,
    "start_time": "2023-06-22T21:54:42.649Z"
   },
   {
    "duration": 149,
    "start_time": "2023-06-22T21:54:44.190Z"
   },
   {
    "duration": 93,
    "start_time": "2023-06-22T21:54:44.755Z"
   },
   {
    "duration": 171,
    "start_time": "2023-06-22T21:54:45.870Z"
   },
   {
    "duration": 80,
    "start_time": "2023-06-22T21:54:46.393Z"
   },
   {
    "duration": 177,
    "start_time": "2023-06-22T21:54:47.454Z"
   },
   {
    "duration": 96,
    "start_time": "2023-06-22T21:54:47.983Z"
   },
   {
    "duration": 121,
    "start_time": "2023-06-22T21:54:49.120Z"
   },
   {
    "duration": 124,
    "start_time": "2023-06-22T21:54:49.715Z"
   },
   {
    "duration": 165,
    "start_time": "2023-06-22T21:54:50.770Z"
   },
   {
    "duration": 105,
    "start_time": "2023-06-22T21:54:51.221Z"
   },
   {
    "duration": 175,
    "start_time": "2023-06-22T21:54:52.349Z"
   },
   {
    "duration": 94,
    "start_time": "2023-06-22T21:54:52.859Z"
   },
   {
    "duration": 168,
    "start_time": "2023-06-22T21:54:54.060Z"
   },
   {
    "duration": 146,
    "start_time": "2023-06-22T21:54:54.600Z"
   },
   {
    "duration": 136,
    "start_time": "2023-06-22T21:54:55.819Z"
   },
   {
    "duration": 109,
    "start_time": "2023-06-22T21:54:56.416Z"
   },
   {
    "duration": 223,
    "start_time": "2023-06-22T21:54:57.562Z"
   },
   {
    "duration": 100,
    "start_time": "2023-06-22T21:54:58.074Z"
   },
   {
    "duration": 152,
    "start_time": "2023-06-22T21:54:59.289Z"
   },
   {
    "duration": 98,
    "start_time": "2023-06-22T21:54:59.873Z"
   },
   {
    "duration": 158,
    "start_time": "2023-06-22T21:55:00.981Z"
   },
   {
    "duration": 118,
    "start_time": "2023-06-22T21:55:01.518Z"
   },
   {
    "duration": 144,
    "start_time": "2023-06-22T21:55:02.684Z"
   },
   {
    "duration": 93,
    "start_time": "2023-06-22T21:55:03.235Z"
   },
   {
    "duration": 134,
    "start_time": "2023-06-22T21:55:04.515Z"
   },
   {
    "duration": 93,
    "start_time": "2023-06-22T21:55:05.059Z"
   },
   {
    "duration": 132,
    "start_time": "2023-06-22T21:55:06.316Z"
   },
   {
    "duration": 110,
    "start_time": "2023-06-22T21:55:06.823Z"
   },
   {
    "duration": 109,
    "start_time": "2023-06-22T21:55:07.944Z"
   },
   {
    "duration": 112,
    "start_time": "2023-06-22T21:55:08.491Z"
   },
   {
    "duration": 174,
    "start_time": "2023-06-22T21:55:09.743Z"
   },
   {
    "duration": 92,
    "start_time": "2023-06-22T21:55:10.567Z"
   },
   {
    "duration": 111,
    "start_time": "2023-06-22T21:55:11.945Z"
   },
   {
    "duration": 94,
    "start_time": "2023-06-22T21:55:12.463Z"
   },
   {
    "duration": 108,
    "start_time": "2023-06-22T21:55:13.731Z"
   },
   {
    "duration": 106,
    "start_time": "2023-06-22T21:55:14.359Z"
   },
   {
    "duration": 128,
    "start_time": "2023-06-22T21:55:15.615Z"
   },
   {
    "duration": 122,
    "start_time": "2023-06-22T21:55:16.124Z"
   },
   {
    "duration": 139,
    "start_time": "2023-06-22T21:55:17.304Z"
   },
   {
    "duration": 105,
    "start_time": "2023-06-22T21:55:17.822Z"
   },
   {
    "duration": 150,
    "start_time": "2023-06-22T21:55:18.984Z"
   },
   {
    "duration": 138,
    "start_time": "2023-06-22T21:55:19.484Z"
   },
   {
    "duration": 147,
    "start_time": "2023-06-22T21:55:20.788Z"
   },
   {
    "duration": 139,
    "start_time": "2023-06-22T21:55:21.285Z"
   },
   {
    "duration": 37,
    "start_time": "2023-06-22T21:55:27.318Z"
   },
   {
    "duration": 6430,
    "start_time": "2023-06-22T21:55:28.490Z"
   },
   {
    "duration": 119,
    "start_time": "2023-06-22T21:55:38.848Z"
   },
   {
    "duration": 2409,
    "start_time": "2023-06-22T21:55:43.316Z"
   },
   {
    "duration": 105,
    "start_time": "2023-06-22T21:55:49.126Z"
   },
   {
    "duration": 2428,
    "start_time": "2023-06-22T21:55:51.585Z"
   },
   {
    "duration": 119,
    "start_time": "2023-06-22T21:55:54.102Z"
   },
   {
    "duration": 2309,
    "start_time": "2023-06-22T21:55:56.617Z"
   },
   {
    "duration": 123,
    "start_time": "2023-06-22T21:56:00.206Z"
   },
   {
    "duration": 2636,
    "start_time": "2023-06-22T21:56:02.391Z"
   },
   {
    "duration": 105,
    "start_time": "2023-06-22T21:56:05.029Z"
   },
   {
    "duration": 2316,
    "start_time": "2023-06-22T21:56:06.920Z"
   },
   {
    "duration": 100,
    "start_time": "2023-06-22T21:56:10.878Z"
   },
   {
    "duration": 2316,
    "start_time": "2023-06-22T21:56:12.543Z"
   },
   {
    "duration": 123,
    "start_time": "2023-06-22T21:56:14.997Z"
   },
   {
    "duration": 2370,
    "start_time": "2023-06-22T21:56:16.660Z"
   },
   {
    "duration": 107,
    "start_time": "2023-06-22T21:56:19.198Z"
   },
   {
    "duration": 2362,
    "start_time": "2023-06-22T21:56:20.860Z"
   },
   {
    "duration": 114,
    "start_time": "2023-06-22T21:56:23.224Z"
   },
   {
    "duration": 2381,
    "start_time": "2023-06-22T21:56:24.650Z"
   },
   {
    "duration": 91,
    "start_time": "2023-06-22T21:56:27.291Z"
   },
   {
    "duration": 2323,
    "start_time": "2023-06-22T21:56:28.622Z"
   },
   {
    "duration": 40,
    "start_time": "2023-06-22T21:56:37.223Z"
   },
   {
    "duration": 6035,
    "start_time": "2023-06-22T21:56:40.617Z"
   },
   {
    "duration": 147,
    "start_time": "2023-06-22T21:56:49.058Z"
   },
   {
    "duration": 5546,
    "start_time": "2023-06-22T21:56:52.619Z"
   },
   {
    "duration": 100,
    "start_time": "2023-06-22T21:57:01.363Z"
   },
   {
    "duration": 5473,
    "start_time": "2023-06-22T21:57:03.255Z"
   },
   {
    "duration": 88,
    "start_time": "2023-06-22T21:57:10.494Z"
   },
   {
    "duration": 51,
    "start_time": "2023-06-22T21:57:28.260Z"
   },
   {
    "duration": 5499,
    "start_time": "2023-06-22T21:57:29.732Z"
   },
   {
    "duration": 151,
    "start_time": "2023-06-22T21:57:37.681Z"
   },
   {
    "duration": 4891,
    "start_time": "2023-06-22T21:57:40.752Z"
   },
   {
    "duration": 85,
    "start_time": "2023-06-22T21:57:46.752Z"
   },
   {
    "duration": 5192,
    "start_time": "2023-06-22T21:57:49.946Z"
   },
   {
    "duration": 118,
    "start_time": "2023-06-22T21:57:59.016Z"
   },
   {
    "duration": 5001,
    "start_time": "2023-06-22T21:58:02.351Z"
   },
   {
    "duration": 111,
    "start_time": "2023-06-22T21:58:09.716Z"
   },
   {
    "duration": 72,
    "start_time": "2023-06-22T21:58:25.887Z"
   },
   {
    "duration": 33643,
    "start_time": "2023-06-22T21:58:26.798Z"
   },
   {
    "duration": 140,
    "start_time": "2023-06-22T21:59:03.519Z"
   },
   {
    "duration": 66,
    "start_time": "2023-06-22T21:59:15.414Z"
   },
   {
    "duration": 41846,
    "start_time": "2023-06-22T21:59:16.143Z"
   },
   {
    "duration": 196,
    "start_time": "2023-06-22T21:59:57.992Z"
   },
   {
    "duration": 78,
    "start_time": "2023-06-22T22:00:14.339Z"
   },
   {
    "duration": 39863,
    "start_time": "2023-06-22T22:00:15.159Z"
   },
   {
    "duration": 193,
    "start_time": "2023-06-22T22:00:59.156Z"
   },
   {
    "duration": 19847,
    "start_time": "2023-06-22T22:01:06.395Z"
   },
   {
    "duration": 145,
    "start_time": "2023-06-22T22:01:27.452Z"
   },
   {
    "duration": 68,
    "start_time": "2023-06-22T22:01:35.655Z"
   },
   {
    "duration": 26832,
    "start_time": "2023-06-22T22:01:38.502Z"
   },
   {
    "duration": 210,
    "start_time": "2023-06-22T22:02:06.651Z"
   },
   {
    "duration": 41045,
    "start_time": "2023-06-22T22:02:09.767Z"
   },
   {
    "duration": 138,
    "start_time": "2023-06-22T22:02:50.815Z"
   },
   {
    "duration": 68,
    "start_time": "2023-06-22T22:03:07.047Z"
   },
   {
    "duration": 26146,
    "start_time": "2023-06-22T22:03:09.294Z"
   },
   {
    "duration": 218,
    "start_time": "2023-06-22T22:03:36.815Z"
   },
   {
    "duration": 25919,
    "start_time": "2023-06-22T22:03:39.815Z"
   },
   {
    "duration": 147,
    "start_time": "2023-06-22T22:04:08.529Z"
   },
   {
    "duration": 156,
    "start_time": "2023-06-22T22:04:36.465Z"
   },
   {
    "duration": 287964,
    "start_time": "2023-06-22T22:04:38.076Z"
   },
   {
    "duration": 823,
    "start_time": "2023-06-22T22:09:26.043Z"
   },
   {
    "duration": 756,
    "start_time": "2023-06-22T22:09:28.605Z"
   },
   {
    "duration": 163,
    "start_time": "2023-06-22T22:09:56.378Z"
   },
   {
    "duration": 204839,
    "start_time": "2023-06-22T22:09:57.328Z"
   },
   {
    "duration": 1070,
    "start_time": "2023-06-22T22:13:31.177Z"
   },
   {
    "duration": 46,
    "start_time": "2023-06-22T22:14:13.546Z"
   },
   {
    "duration": 28548,
    "start_time": "2023-06-22T22:14:15.165Z"
   },
   {
    "duration": 173,
    "start_time": "2023-06-22T22:14:46.744Z"
   },
   {
    "duration": 32,
    "start_time": "2023-06-22T22:15:12.734Z"
   },
   {
    "duration": 57,
    "start_time": "2023-06-22T22:15:20.346Z"
   },
   {
    "duration": 28100,
    "start_time": "2023-06-22T22:15:21.172Z"
   },
   {
    "duration": 178,
    "start_time": "2023-06-22T22:15:52.181Z"
   },
   {
    "duration": 43,
    "start_time": "2023-06-22T22:15:57.824Z"
   },
   {
    "duration": 41569,
    "start_time": "2023-06-22T22:15:59.075Z"
   },
   {
    "duration": 137,
    "start_time": "2023-06-22T22:16:40.646Z"
   },
   {
    "duration": 36,
    "start_time": "2023-06-22T22:16:49.639Z"
   },
   {
    "duration": 25528,
    "start_time": "2023-06-22T22:16:50.330Z"
   },
   {
    "duration": 149,
    "start_time": "2023-06-22T22:17:20.155Z"
   },
   {
    "duration": 44,
    "start_time": "2023-06-22T22:17:24.743Z"
   },
   {
    "duration": 27022,
    "start_time": "2023-06-22T22:17:25.928Z"
   },
   {
    "duration": 197,
    "start_time": "2023-06-22T22:19:59.895Z"
   },
   {
    "duration": 45,
    "start_time": "2023-06-22T22:20:29.299Z"
   },
   {
    "duration": 26942,
    "start_time": "2023-06-22T22:20:31.323Z"
   },
   {
    "duration": 186,
    "start_time": "2023-06-22T22:20:58.267Z"
   },
   {
    "duration": 50,
    "start_time": "2023-06-22T22:23:17.930Z"
   },
   {
    "duration": 27519,
    "start_time": "2023-06-22T22:23:18.249Z"
   },
   {
    "duration": 199,
    "start_time": "2023-06-22T22:23:45.770Z"
   },
   {
    "duration": 14983,
    "start_time": "2023-06-22T22:25:16.670Z"
   },
   {
    "duration": 3,
    "start_time": "2023-06-22T22:25:31.656Z"
   },
   {
    "duration": 90,
    "start_time": "2023-06-22T22:25:31.660Z"
   },
   {
    "duration": 8,
    "start_time": "2023-06-22T22:25:31.752Z"
   },
   {
    "duration": 6,
    "start_time": "2023-06-22T22:25:31.762Z"
   },
   {
    "duration": 20,
    "start_time": "2023-06-22T22:25:31.770Z"
   },
   {
    "duration": 164,
    "start_time": "2023-06-22T22:25:31.792Z"
   },
   {
    "duration": 36,
    "start_time": "2023-06-22T22:25:31.958Z"
   },
   {
    "duration": 25,
    "start_time": "2023-06-22T22:25:31.996Z"
   },
   {
    "duration": 49,
    "start_time": "2023-06-22T22:25:32.023Z"
   },
   {
    "duration": 6,
    "start_time": "2023-06-22T22:25:32.074Z"
   },
   {
    "duration": 33,
    "start_time": "2023-06-22T22:25:32.082Z"
   },
   {
    "duration": 34,
    "start_time": "2023-06-22T22:25:32.116Z"
   },
   {
    "duration": 29,
    "start_time": "2023-06-22T22:25:32.151Z"
   },
   {
    "duration": 43,
    "start_time": "2023-06-22T22:25:32.182Z"
   },
   {
    "duration": 58,
    "start_time": "2023-06-22T22:25:32.226Z"
   },
   {
    "duration": 292,
    "start_time": "2023-06-22T22:25:32.286Z"
   },
   {
    "duration": 52,
    "start_time": "2023-06-22T22:25:32.580Z"
   },
   {
    "duration": 36,
    "start_time": "2023-06-22T22:25:32.634Z"
   },
   {
    "duration": 90,
    "start_time": "2023-06-22T22:25:32.672Z"
   },
   {
    "duration": 8,
    "start_time": "2023-06-22T22:25:32.763Z"
   },
   {
    "duration": 19,
    "start_time": "2023-06-22T22:25:32.772Z"
   },
   {
    "duration": 12,
    "start_time": "2023-06-22T22:25:32.793Z"
   },
   {
    "duration": 72,
    "start_time": "2023-06-22T22:25:32.806Z"
   },
   {
    "duration": 13,
    "start_time": "2023-06-22T22:25:32.880Z"
   },
   {
    "duration": 41,
    "start_time": "2023-06-22T22:25:32.895Z"
   },
   {
    "duration": 7,
    "start_time": "2023-06-22T22:25:32.944Z"
   },
   {
    "duration": 8,
    "start_time": "2023-06-22T22:25:32.956Z"
   },
   {
    "duration": 8,
    "start_time": "2023-06-22T22:25:32.965Z"
   },
   {
    "duration": 8,
    "start_time": "2023-06-22T22:25:32.975Z"
   },
   {
    "duration": 7,
    "start_time": "2023-06-22T22:25:32.984Z"
   },
   {
    "duration": 5,
    "start_time": "2023-06-22T22:25:32.993Z"
   },
   {
    "duration": 32,
    "start_time": "2023-06-22T22:25:33.017Z"
   },
   {
    "duration": 13,
    "start_time": "2023-06-22T22:25:33.050Z"
   },
   {
    "duration": 18,
    "start_time": "2023-06-22T22:25:33.065Z"
   },
   {
    "duration": 37,
    "start_time": "2023-06-22T22:25:33.084Z"
   },
   {
    "duration": 39,
    "start_time": "2023-06-22T22:25:33.122Z"
   },
   {
    "duration": 798,
    "start_time": "2023-06-22T22:25:33.163Z"
   },
   {
    "duration": 3,
    "start_time": "2023-06-22T22:25:33.963Z"
   },
   {
    "duration": 20,
    "start_time": "2023-06-22T22:25:33.968Z"
   },
   {
    "duration": 2330,
    "start_time": "2023-06-22T22:25:33.990Z"
   },
   {
    "duration": 11,
    "start_time": "2023-06-22T22:25:36.322Z"
   },
   {
    "duration": 36,
    "start_time": "2023-06-22T22:25:36.334Z"
   },
   {
    "duration": 74,
    "start_time": "2023-06-22T22:25:36.372Z"
   },
   {
    "duration": 7,
    "start_time": "2023-06-22T22:25:36.448Z"
   },
   {
    "duration": 165,
    "start_time": "2023-06-22T22:25:36.457Z"
   },
   {
    "duration": 140,
    "start_time": "2023-06-22T22:25:36.627Z"
   },
   {
    "duration": 7,
    "start_time": "2023-06-22T22:25:36.769Z"
   },
   {
    "duration": 10,
    "start_time": "2023-06-22T22:25:36.778Z"
   },
   {
    "duration": 30,
    "start_time": "2023-06-22T22:25:36.790Z"
   },
   {
    "duration": 17,
    "start_time": "2023-06-22T22:25:36.827Z"
   },
   {
    "duration": 22,
    "start_time": "2023-06-22T22:25:36.845Z"
   },
   {
    "duration": 19,
    "start_time": "2023-06-22T22:25:36.869Z"
   },
   {
    "duration": 80,
    "start_time": "2023-06-22T22:25:36.889Z"
   },
   {
    "duration": 7,
    "start_time": "2023-06-22T22:25:36.971Z"
   },
   {
    "duration": 167,
    "start_time": "2023-06-22T22:25:36.979Z"
   },
   {
    "duration": 8,
    "start_time": "2023-06-22T22:25:37.147Z"
   },
   {
    "duration": 7,
    "start_time": "2023-06-22T22:25:37.157Z"
   },
   {
    "duration": 13,
    "start_time": "2023-06-22T22:25:37.165Z"
   },
   {
    "duration": 5,
    "start_time": "2023-06-22T22:25:37.179Z"
   },
   {
    "duration": 9,
    "start_time": "2023-06-22T22:25:37.186Z"
   },
   {
    "duration": 62,
    "start_time": "2023-06-22T22:25:37.197Z"
   },
   {
    "duration": 32,
    "start_time": "2023-06-22T22:25:37.261Z"
   },
   {
    "duration": 178,
    "start_time": "2023-06-22T22:25:37.295Z"
   },
   {
    "duration": 14,
    "start_time": "2023-06-22T22:25:37.475Z"
   },
   {
    "duration": 69,
    "start_time": "2023-06-22T22:25:37.491Z"
   },
   {
    "duration": 19,
    "start_time": "2023-06-22T22:25:37.561Z"
   },
   {
    "duration": 9,
    "start_time": "2023-06-22T22:25:37.582Z"
   },
   {
    "duration": 56,
    "start_time": "2023-06-22T22:25:37.592Z"
   },
   {
    "duration": 46,
    "start_time": "2023-06-22T22:25:37.650Z"
   },
   {
    "duration": 387,
    "start_time": "2023-06-22T22:25:37.697Z"
   },
   {
    "duration": 3,
    "start_time": "2023-06-22T22:25:38.086Z"
   },
   {
    "duration": 55,
    "start_time": "2023-06-22T22:25:38.090Z"
   },
   {
    "duration": 14,
    "start_time": "2023-06-22T22:25:38.150Z"
   },
   {
    "duration": 16,
    "start_time": "2023-06-22T22:25:38.166Z"
   },
   {
    "duration": 2,
    "start_time": "2023-06-22T22:25:38.184Z"
   },
   {
    "duration": 22,
    "start_time": "2023-06-22T22:25:38.188Z"
   },
   {
    "duration": 79,
    "start_time": "2023-06-22T22:25:38.211Z"
   },
   {
    "duration": 3,
    "start_time": "2023-06-22T22:25:38.291Z"
   },
   {
    "duration": 60,
    "start_time": "2023-06-22T22:25:38.295Z"
   },
   {
    "duration": 10,
    "start_time": "2023-06-22T22:25:38.356Z"
   },
   {
    "duration": 18,
    "start_time": "2023-06-22T22:25:38.371Z"
   },
   {
    "duration": 14,
    "start_time": "2023-06-22T22:25:38.391Z"
   },
   {
    "duration": 31,
    "start_time": "2023-06-22T22:25:38.406Z"
   },
   {
    "duration": 11,
    "start_time": "2023-06-22T22:25:38.439Z"
   },
   {
    "duration": 4834,
    "start_time": "2023-06-22T22:25:38.451Z"
   },
   {
    "duration": 4,
    "start_time": "2023-06-22T22:25:43.286Z"
   },
   {
    "duration": 52,
    "start_time": "2023-06-22T22:25:43.291Z"
   },
   {
    "duration": 911,
    "start_time": "2023-06-22T22:25:43.344Z"
   },
   {
    "duration": 3688,
    "start_time": "2023-06-22T22:25:44.257Z"
   },
   {
    "duration": 144,
    "start_time": "2023-06-22T22:25:47.947Z"
   },
   {
    "duration": 26768,
    "start_time": "2023-06-22T22:25:48.092Z"
   },
   {
    "duration": 294,
    "start_time": "2023-06-22T22:26:14.862Z"
   },
   {
    "duration": 116,
    "start_time": "2023-06-22T22:26:15.158Z"
   },
   {
    "duration": 13,
    "start_time": "2023-06-22T22:26:15.275Z"
   },
   {
    "duration": 56,
    "start_time": "2023-06-22T22:26:15.290Z"
   },
   {
    "duration": 208,
    "start_time": "2023-06-22T22:26:15.348Z"
   },
   {
    "duration": 20,
    "start_time": "2023-06-22T22:26:15.558Z"
   },
   {
    "duration": 5,
    "start_time": "2023-06-22T22:26:15.580Z"
   },
   {
    "duration": 6,
    "start_time": "2023-06-22T22:26:15.587Z"
   },
   {
    "duration": 56,
    "start_time": "2023-06-22T22:26:15.595Z"
   },
   {
    "duration": 14,
    "start_time": "2023-06-22T22:26:15.653Z"
   },
   {
    "duration": 6,
    "start_time": "2023-06-22T22:26:15.669Z"
   },
   {
    "duration": 11,
    "start_time": "2023-06-22T22:26:15.676Z"
   },
   {
    "duration": 257,
    "start_time": "2023-06-22T22:26:15.688Z"
   },
   {
    "duration": 11109,
    "start_time": "2023-06-24T19:08:42.411Z"
   },
   {
    "duration": 3,
    "start_time": "2023-06-24T19:08:53.523Z"
   },
   {
    "duration": 14,
    "start_time": "2023-06-24T19:08:53.528Z"
   },
   {
    "duration": 3,
    "start_time": "2023-06-24T19:08:56.034Z"
   },
   {
    "duration": 4,
    "start_time": "2023-06-24T19:08:56.544Z"
   },
   {
    "duration": 10,
    "start_time": "2023-06-24T19:08:56.850Z"
   },
   {
    "duration": 137,
    "start_time": "2023-06-24T19:08:57.310Z"
   },
   {
    "duration": 36,
    "start_time": "2023-06-24T19:09:00.304Z"
   },
   {
    "duration": 16,
    "start_time": "2023-06-24T19:09:00.671Z"
   },
   {
    "duration": 17,
    "start_time": "2023-06-24T19:09:01.368Z"
   },
   {
    "duration": 17,
    "start_time": "2023-06-24T19:09:01.852Z"
   },
   {
    "duration": 16,
    "start_time": "2023-06-24T19:09:02.209Z"
   },
   {
    "duration": 9,
    "start_time": "2023-06-24T19:09:03.238Z"
   },
   {
    "duration": 16,
    "start_time": "2023-06-24T19:09:04.817Z"
   },
   {
    "duration": 13,
    "start_time": "2023-06-24T19:09:05.297Z"
   },
   {
    "duration": 16,
    "start_time": "2023-06-24T19:09:06.206Z"
   },
   {
    "duration": 8,
    "start_time": "2023-06-24T19:09:06.408Z"
   },
   {
    "duration": 15,
    "start_time": "2023-06-24T19:09:06.909Z"
   },
   {
    "duration": 8,
    "start_time": "2023-06-24T19:09:07.080Z"
   },
   {
    "duration": 79,
    "start_time": "2023-06-24T19:09:07.943Z"
   },
   {
    "duration": 10,
    "start_time": "2023-06-24T19:09:08.301Z"
   },
   {
    "duration": 16,
    "start_time": "2023-06-24T19:09:08.489Z"
   },
   {
    "duration": 4,
    "start_time": "2023-06-24T19:09:08.673Z"
   },
   {
    "duration": 60,
    "start_time": "2023-06-24T19:09:09.180Z"
   },
   {
    "duration": 20,
    "start_time": "2023-06-24T19:09:09.364Z"
   },
   {
    "duration": 11,
    "start_time": "2023-06-24T19:09:09.532Z"
   },
   {
    "duration": 5,
    "start_time": "2023-06-24T19:09:09.892Z"
   },
   {
    "duration": 9,
    "start_time": "2023-06-24T19:09:10.074Z"
   },
   {
    "duration": 6,
    "start_time": "2023-06-24T19:09:10.312Z"
   },
   {
    "duration": 11,
    "start_time": "2023-06-24T19:09:10.486Z"
   },
   {
    "duration": 6,
    "start_time": "2023-06-24T19:09:10.735Z"
   },
   {
    "duration": 8,
    "start_time": "2023-06-24T19:09:11.247Z"
   },
   {
    "duration": 6,
    "start_time": "2023-06-24T19:09:11.451Z"
   },
   {
    "duration": 10,
    "start_time": "2023-06-24T19:09:11.636Z"
   },
   {
    "duration": 24,
    "start_time": "2023-06-24T19:09:11.831Z"
   },
   {
    "duration": 12,
    "start_time": "2023-06-24T19:09:12.583Z"
   },
   {
    "duration": 5,
    "start_time": "2023-06-24T19:09:12.962Z"
   },
   {
    "duration": 978,
    "start_time": "2023-06-24T19:09:13.133Z"
   },
   {
    "duration": 4,
    "start_time": "2023-06-24T19:09:14.114Z"
   },
   {
    "duration": 29,
    "start_time": "2023-06-24T19:09:14.237Z"
   },
   {
    "duration": 2678,
    "start_time": "2023-06-24T19:09:14.429Z"
   },
   {
    "duration": 4,
    "start_time": "2023-06-24T19:09:17.109Z"
   },
   {
    "duration": 16,
    "start_time": "2023-06-24T19:09:17.114Z"
   },
   {
    "duration": 50,
    "start_time": "2023-06-24T19:09:17.132Z"
   },
   {
    "duration": 8,
    "start_time": "2023-06-24T19:09:17.184Z"
   },
   {
    "duration": 165,
    "start_time": "2023-06-24T19:09:17.193Z"
   },
   {
    "duration": 163,
    "start_time": "2023-06-24T19:09:17.359Z"
   },
   {
    "duration": 10,
    "start_time": "2023-06-24T19:09:17.524Z"
   },
   {
    "duration": 44,
    "start_time": "2023-06-24T19:09:17.537Z"
   },
   {
    "duration": 26,
    "start_time": "2023-06-24T19:09:17.583Z"
   },
   {
    "duration": 5,
    "start_time": "2023-06-24T19:09:17.668Z"
   },
   {
    "duration": 5,
    "start_time": "2023-06-24T19:09:17.878Z"
   },
   {
    "duration": 7,
    "start_time": "2023-06-24T19:09:18.068Z"
   },
   {
    "duration": 28,
    "start_time": "2023-06-24T19:09:19.574Z"
   },
   {
    "duration": 7,
    "start_time": "2023-06-24T19:09:19.793Z"
   },
   {
    "duration": 164,
    "start_time": "2023-06-24T19:09:20.443Z"
   },
   {
    "duration": 11,
    "start_time": "2023-06-24T19:09:21.798Z"
   },
   {
    "duration": 5,
    "start_time": "2023-06-24T19:09:22.019Z"
   },
   {
    "duration": 10,
    "start_time": "2023-06-24T19:09:22.237Z"
   },
   {
    "duration": 5,
    "start_time": "2023-06-24T19:09:22.442Z"
   },
   {
    "duration": 5,
    "start_time": "2023-06-24T19:09:22.778Z"
   },
   {
    "duration": 5,
    "start_time": "2023-06-24T19:09:25.474Z"
   },
   {
    "duration": 10261,
    "start_time": "2023-06-24T19:21:28.864Z"
   },
   {
    "duration": 3,
    "start_time": "2023-06-24T19:21:39.127Z"
   },
   {
    "duration": 13,
    "start_time": "2023-06-24T19:21:39.132Z"
   },
   {
    "duration": 9,
    "start_time": "2023-06-24T19:21:39.148Z"
   },
   {
    "duration": 7,
    "start_time": "2023-06-24T19:21:39.159Z"
   },
   {
    "duration": 6,
    "start_time": "2023-06-24T19:21:39.168Z"
   },
   {
    "duration": 96,
    "start_time": "2023-06-24T19:21:39.175Z"
   },
   {
    "duration": 26,
    "start_time": "2023-06-24T19:21:39.273Z"
   },
   {
    "duration": 19,
    "start_time": "2023-06-24T19:21:39.301Z"
   },
   {
    "duration": 17,
    "start_time": "2023-06-24T19:21:39.324Z"
   },
   {
    "duration": 19,
    "start_time": "2023-06-24T19:21:39.345Z"
   },
   {
    "duration": 31,
    "start_time": "2023-06-24T19:21:39.366Z"
   },
   {
    "duration": 8,
    "start_time": "2023-06-24T19:21:39.400Z"
   },
   {
    "duration": 21,
    "start_time": "2023-06-24T19:21:39.410Z"
   },
   {
    "duration": 14,
    "start_time": "2023-06-24T19:21:39.433Z"
   },
   {
    "duration": 25,
    "start_time": "2023-06-24T19:21:39.449Z"
   },
   {
    "duration": 8,
    "start_time": "2023-06-24T19:21:39.476Z"
   },
   {
    "duration": 18,
    "start_time": "2023-06-24T19:21:39.486Z"
   },
   {
    "duration": 8,
    "start_time": "2023-06-24T19:21:39.506Z"
   },
   {
    "duration": 65,
    "start_time": "2023-06-24T19:21:39.515Z"
   },
   {
    "duration": 10,
    "start_time": "2023-06-24T19:21:39.582Z"
   },
   {
    "duration": 30,
    "start_time": "2023-06-24T19:21:39.594Z"
   },
   {
    "duration": 11,
    "start_time": "2023-06-24T19:21:39.626Z"
   },
   {
    "duration": 37,
    "start_time": "2023-06-24T19:21:39.640Z"
   },
   {
    "duration": 17,
    "start_time": "2023-06-24T19:21:39.679Z"
   },
   {
    "duration": 20,
    "start_time": "2023-06-24T19:21:39.698Z"
   },
   {
    "duration": 6,
    "start_time": "2023-06-24T19:21:39.720Z"
   },
   {
    "duration": 13,
    "start_time": "2023-06-24T19:21:39.731Z"
   },
   {
    "duration": 15,
    "start_time": "2023-06-24T19:21:39.747Z"
   },
   {
    "duration": 12,
    "start_time": "2023-06-24T19:21:39.764Z"
   },
   {
    "duration": 10,
    "start_time": "2023-06-24T19:21:39.779Z"
   },
   {
    "duration": 10,
    "start_time": "2023-06-24T19:21:39.791Z"
   },
   {
    "duration": 8,
    "start_time": "2023-06-24T19:21:39.803Z"
   },
   {
    "duration": 14,
    "start_time": "2023-06-24T19:21:39.812Z"
   },
   {
    "duration": 39,
    "start_time": "2023-06-24T19:21:39.828Z"
   },
   {
    "duration": 19,
    "start_time": "2023-06-24T19:21:39.869Z"
   },
   {
    "duration": 13,
    "start_time": "2023-06-24T19:21:39.891Z"
   },
   {
    "duration": 966,
    "start_time": "2023-06-24T19:21:39.907Z"
   },
   {
    "duration": 4,
    "start_time": "2023-06-24T19:21:40.876Z"
   },
   {
    "duration": 41,
    "start_time": "2023-06-24T19:21:40.882Z"
   },
   {
    "duration": 2818,
    "start_time": "2023-06-24T19:21:40.925Z"
   },
   {
    "duration": 4,
    "start_time": "2023-06-24T19:21:43.745Z"
   },
   {
    "duration": 8,
    "start_time": "2023-06-24T19:21:43.752Z"
   },
   {
    "duration": 32,
    "start_time": "2023-06-24T19:21:43.762Z"
   },
   {
    "duration": 8,
    "start_time": "2023-06-24T19:21:43.796Z"
   },
   {
    "duration": 170,
    "start_time": "2023-06-24T19:21:43.806Z"
   },
   {
    "duration": 173,
    "start_time": "2023-06-24T19:21:43.979Z"
   },
   {
    "duration": 10,
    "start_time": "2023-06-24T19:21:44.154Z"
   },
   {
    "duration": 21,
    "start_time": "2023-06-24T19:21:44.167Z"
   },
   {
    "duration": 12,
    "start_time": "2023-06-24T19:21:44.190Z"
   },
   {
    "duration": 9,
    "start_time": "2023-06-24T19:21:44.205Z"
   },
   {
    "duration": 10,
    "start_time": "2023-06-24T19:21:44.215Z"
   },
   {
    "duration": 9,
    "start_time": "2023-06-24T19:21:44.227Z"
   },
   {
    "duration": 28,
    "start_time": "2023-06-24T19:21:44.253Z"
   },
   {
    "duration": 7,
    "start_time": "2023-06-24T19:21:44.283Z"
   },
   {
    "duration": 152,
    "start_time": "2023-06-24T19:21:44.293Z"
   },
   {
    "duration": 11,
    "start_time": "2023-06-24T19:21:44.447Z"
   },
   {
    "duration": 7,
    "start_time": "2023-06-24T19:21:44.460Z"
   },
   {
    "duration": 16,
    "start_time": "2023-06-24T19:21:44.469Z"
   },
   {
    "duration": 8,
    "start_time": "2023-06-24T19:21:44.487Z"
   },
   {
    "duration": 10,
    "start_time": "2023-06-24T19:21:44.497Z"
   },
   {
    "duration": 18,
    "start_time": "2023-06-24T19:21:44.509Z"
   },
   {
    "duration": 32,
    "start_time": "2023-06-24T19:21:44.530Z"
   },
   {
    "duration": 121,
    "start_time": "2023-06-24T19:21:44.565Z"
   },
   {
    "duration": 16,
    "start_time": "2023-06-24T19:21:44.688Z"
   },
   {
    "duration": 27,
    "start_time": "2023-06-24T19:21:44.706Z"
   },
   {
    "duration": 27,
    "start_time": "2023-06-24T19:21:44.736Z"
   },
   {
    "duration": 9,
    "start_time": "2023-06-24T19:21:44.765Z"
   },
   {
    "duration": 6,
    "start_time": "2023-06-24T19:21:44.776Z"
   },
   {
    "duration": 79,
    "start_time": "2023-06-24T19:21:44.784Z"
   },
   {
    "duration": 445,
    "start_time": "2023-06-24T19:21:44.865Z"
   },
   {
    "duration": 6,
    "start_time": "2023-06-24T19:21:45.312Z"
   },
   {
    "duration": 91,
    "start_time": "2023-06-24T19:21:45.321Z"
   },
   {
    "duration": 119,
    "start_time": "2023-06-24T19:21:45.414Z"
   },
   {
    "duration": 35,
    "start_time": "2023-06-24T19:21:45.535Z"
   },
   {
    "duration": 7,
    "start_time": "2023-06-24T19:21:45.572Z"
   },
   {
    "duration": 32,
    "start_time": "2023-06-24T19:21:45.581Z"
   },
   {
    "duration": 46,
    "start_time": "2023-06-24T19:21:45.616Z"
   },
   {
    "duration": 3,
    "start_time": "2023-06-24T19:21:45.664Z"
   },
   {
    "duration": 12,
    "start_time": "2023-06-24T19:21:45.669Z"
   },
   {
    "duration": 13,
    "start_time": "2023-06-24T19:21:45.683Z"
   },
   {
    "duration": 23,
    "start_time": "2023-06-24T19:21:45.703Z"
   },
   {
    "duration": 26,
    "start_time": "2023-06-24T19:21:45.728Z"
   },
   {
    "duration": 5,
    "start_time": "2023-06-24T19:21:45.756Z"
   },
   {
    "duration": 13,
    "start_time": "2023-06-24T19:21:45.763Z"
   },
   {
    "duration": 4737,
    "start_time": "2023-06-24T19:21:45.779Z"
   },
   {
    "duration": 4,
    "start_time": "2023-06-24T19:21:50.517Z"
   },
   {
    "duration": 29,
    "start_time": "2023-06-24T19:21:50.523Z"
   },
   {
    "duration": 636,
    "start_time": "2023-06-24T19:21:50.554Z"
   },
   {
    "duration": 1082,
    "start_time": "2023-06-24T19:21:51.191Z"
   },
   {
    "duration": 374,
    "start_time": "2023-06-24T19:21:52.276Z"
   },
   {
    "duration": 35324,
    "start_time": "2023-06-24T19:21:52.652Z"
   },
   {
    "duration": 460,
    "start_time": "2023-06-24T19:22:27.978Z"
   },
   {
    "duration": 142,
    "start_time": "2023-06-24T19:22:28.441Z"
   },
   {
    "duration": 17,
    "start_time": "2023-06-24T19:22:28.586Z"
   },
   {
    "duration": 26,
    "start_time": "2023-06-24T19:22:28.606Z"
   },
   {
    "duration": 180,
    "start_time": "2023-06-24T19:22:28.634Z"
   },
   {
    "duration": 25,
    "start_time": "2023-06-24T19:22:28.816Z"
   },
   {
    "duration": 58,
    "start_time": "2023-06-24T19:22:28.852Z"
   },
   {
    "duration": 49,
    "start_time": "2023-06-24T19:22:28.912Z"
   },
   {
    "duration": 28,
    "start_time": "2023-06-24T19:22:28.963Z"
   },
   {
    "duration": 43,
    "start_time": "2023-06-24T19:22:28.993Z"
   },
   {
    "duration": 34,
    "start_time": "2023-06-24T19:22:29.038Z"
   },
   {
    "duration": 35,
    "start_time": "2023-06-24T19:22:29.073Z"
   },
   {
    "duration": 246,
    "start_time": "2023-06-24T19:22:29.111Z"
   },
   {
    "duration": 27,
    "start_time": "2023-06-24T19:41:00.968Z"
   },
   {
    "duration": 125,
    "start_time": "2023-06-24T19:41:11.367Z"
   },
   {
    "duration": 11,
    "start_time": "2023-06-24T19:42:52.889Z"
   },
   {
    "duration": 5,
    "start_time": "2023-06-24T19:47:31.460Z"
   },
   {
    "duration": 288,
    "start_time": "2023-06-24T19:52:34.046Z"
   },
   {
    "duration": 44,
    "start_time": "2023-06-24T19:52:43.548Z"
   },
   {
    "duration": 45,
    "start_time": "2023-06-24T19:52:51.214Z"
   },
   {
    "duration": 20,
    "start_time": "2023-06-24T19:52:59.098Z"
   },
   {
    "duration": 27,
    "start_time": "2023-06-24T19:53:04.300Z"
   },
   {
    "duration": 4,
    "start_time": "2023-06-24T20:03:25.514Z"
   },
   {
    "duration": 19,
    "start_time": "2023-06-24T20:03:33.388Z"
   },
   {
    "duration": 8,
    "start_time": "2023-06-24T20:03:38.289Z"
   },
   {
    "duration": 5,
    "start_time": "2023-06-24T20:03:48.324Z"
   },
   {
    "duration": 6,
    "start_time": "2023-06-24T20:03:48.717Z"
   },
   {
    "duration": 4,
    "start_time": "2023-06-24T20:04:09.575Z"
   },
   {
    "duration": 6,
    "start_time": "2023-06-24T20:04:10.592Z"
   },
   {
    "duration": 4,
    "start_time": "2023-06-24T20:04:23.496Z"
   },
   {
    "duration": 7,
    "start_time": "2023-06-24T20:04:25.289Z"
   },
   {
    "duration": 5,
    "start_time": "2023-06-24T20:04:29.352Z"
   },
   {
    "duration": 6,
    "start_time": "2023-06-24T20:04:30.511Z"
   },
   {
    "duration": 4,
    "start_time": "2023-06-24T20:05:34.193Z"
   },
   {
    "duration": 31,
    "start_time": "2023-06-24T20:05:34.801Z"
   },
   {
    "duration": 4,
    "start_time": "2023-06-24T20:05:46.007Z"
   },
   {
    "duration": 4,
    "start_time": "2023-06-24T20:05:46.691Z"
   },
   {
    "duration": 3,
    "start_time": "2023-06-24T20:05:56.197Z"
   },
   {
    "duration": 6,
    "start_time": "2023-06-24T20:05:56.784Z"
   },
   {
    "duration": 4,
    "start_time": "2023-06-24T20:06:08.030Z"
   },
   {
    "duration": 4,
    "start_time": "2023-06-24T20:06:08.606Z"
   },
   {
    "duration": 4,
    "start_time": "2023-06-24T20:06:14.797Z"
   },
   {
    "duration": 5,
    "start_time": "2023-06-24T20:06:15.745Z"
   },
   {
    "duration": 4,
    "start_time": "2023-06-24T20:06:24.029Z"
   },
   {
    "duration": 6,
    "start_time": "2023-06-24T20:06:24.459Z"
   },
   {
    "duration": 3,
    "start_time": "2023-06-24T20:06:36.790Z"
   },
   {
    "duration": 4,
    "start_time": "2023-06-24T20:06:37.328Z"
   },
   {
    "duration": 5,
    "start_time": "2023-06-24T20:06:57.801Z"
   },
   {
    "duration": 18,
    "start_time": "2023-06-24T20:08:10.633Z"
   },
   {
    "duration": 4,
    "start_time": "2023-06-24T20:09:22.797Z"
   },
   {
    "duration": 5,
    "start_time": "2023-06-24T20:09:23.879Z"
   },
   {
    "duration": 4,
    "start_time": "2023-06-24T20:10:32.194Z"
   },
   {
    "duration": 4,
    "start_time": "2023-06-24T20:14:48.020Z"
   },
   {
    "duration": 7,
    "start_time": "2023-06-24T20:14:48.454Z"
   },
   {
    "duration": 63,
    "start_time": "2023-06-24T20:23:52.899Z"
   },
   {
    "duration": 7,
    "start_time": "2023-06-24T20:24:07.252Z"
   },
   {
    "duration": 5,
    "start_time": "2023-06-24T20:24:22.682Z"
   },
   {
    "duration": 6,
    "start_time": "2023-06-24T20:24:23.724Z"
   },
   {
    "duration": 4,
    "start_time": "2023-06-24T20:24:56.559Z"
   },
   {
    "duration": 14,
    "start_time": "2023-06-24T20:24:56.954Z"
   },
   {
    "duration": 4,
    "start_time": "2023-06-24T20:25:52.498Z"
   },
   {
    "duration": 6,
    "start_time": "2023-06-24T20:25:52.959Z"
   },
   {
    "duration": 14,
    "start_time": "2023-06-24T20:25:53.486Z"
   },
   {
    "duration": 4,
    "start_time": "2023-06-24T20:25:57.778Z"
   },
   {
    "duration": 6,
    "start_time": "2023-06-24T20:25:58.378Z"
   },
   {
    "duration": 3,
    "start_time": "2023-06-24T20:26:55.106Z"
   },
   {
    "duration": 9,
    "start_time": "2023-06-24T20:26:55.380Z"
   },
   {
    "duration": 4,
    "start_time": "2023-06-24T20:26:59.374Z"
   },
   {
    "duration": 18,
    "start_time": "2023-06-24T20:42:58.888Z"
   },
   {
    "duration": 22,
    "start_time": "2023-06-24T20:53:39.480Z"
   },
   {
    "duration": 25,
    "start_time": "2023-06-24T20:53:44.981Z"
   },
   {
    "duration": 26,
    "start_time": "2023-06-24T20:53:48.514Z"
   },
   {
    "duration": 26,
    "start_time": "2023-06-24T20:54:49.191Z"
   },
   {
    "duration": 23,
    "start_time": "2023-06-24T21:17:22.531Z"
   },
   {
    "duration": 3,
    "start_time": "2023-06-24T21:17:31.985Z"
   },
   {
    "duration": 5,
    "start_time": "2023-06-24T21:17:32.169Z"
   },
   {
    "duration": 4,
    "start_time": "2023-06-24T21:17:32.337Z"
   },
   {
    "duration": 4,
    "start_time": "2023-06-24T21:17:32.523Z"
   },
   {
    "duration": 37,
    "start_time": "2023-06-24T21:17:32.726Z"
   },
   {
    "duration": 4,
    "start_time": "2023-06-24T21:17:50.351Z"
   },
   {
    "duration": 4,
    "start_time": "2023-06-24T21:17:51.153Z"
   },
   {
    "duration": 26,
    "start_time": "2023-06-24T21:17:51.360Z"
   },
   {
    "duration": 3,
    "start_time": "2023-06-24T21:18:13.573Z"
   },
   {
    "duration": 4,
    "start_time": "2023-06-24T21:18:14.147Z"
   },
   {
    "duration": 46,
    "start_time": "2023-06-24T21:18:14.154Z"
   },
   {
    "duration": 5,
    "start_time": "2023-06-24T21:18:20.569Z"
   },
   {
    "duration": 5,
    "start_time": "2023-06-24T21:18:20.777Z"
   },
   {
    "duration": 3,
    "start_time": "2023-06-24T21:18:20.926Z"
   },
   {
    "duration": 3,
    "start_time": "2023-06-24T21:18:38.830Z"
   },
   {
    "duration": 3,
    "start_time": "2023-06-24T21:25:32.099Z"
   },
   {
    "duration": 3,
    "start_time": "2023-06-24T21:26:05.033Z"
   },
   {
    "duration": 33,
    "start_time": "2023-06-24T21:26:11.666Z"
   },
   {
    "duration": 3,
    "start_time": "2023-06-24T21:26:38.719Z"
   },
   {
    "duration": 110,
    "start_time": "2023-06-24T21:26:38.899Z"
   },
   {
    "duration": 4,
    "start_time": "2023-06-24T21:26:55.943Z"
   },
   {
    "duration": 10,
    "start_time": "2023-06-24T21:27:03.924Z"
   },
   {
    "duration": 5,
    "start_time": "2023-06-24T21:27:09.037Z"
   },
   {
    "duration": 12,
    "start_time": "2023-06-24T21:27:09.200Z"
   },
   {
    "duration": 4,
    "start_time": "2023-06-24T21:28:16.572Z"
   },
   {
    "duration": 9,
    "start_time": "2023-06-24T21:28:17.009Z"
   },
   {
    "duration": 4,
    "start_time": "2023-06-24T21:28:31.597Z"
   },
   {
    "duration": 34,
    "start_time": "2023-06-24T21:28:31.805Z"
   },
   {
    "duration": 3,
    "start_time": "2023-06-24T21:28:39.132Z"
   },
   {
    "duration": 10,
    "start_time": "2023-06-24T21:28:39.463Z"
   },
   {
    "duration": 83,
    "start_time": "2023-06-24T21:29:11.209Z"
   },
   {
    "duration": 9,
    "start_time": "2023-06-24T21:29:11.542Z"
   },
   {
    "duration": 56,
    "start_time": "2023-06-24T21:29:39.939Z"
   },
   {
    "duration": 4,
    "start_time": "2023-06-24T21:29:53.238Z"
   },
   {
    "duration": 53,
    "start_time": "2023-06-24T21:29:57.044Z"
   },
   {
    "duration": 8,
    "start_time": "2023-06-24T21:29:57.819Z"
   },
   {
    "duration": 4,
    "start_time": "2023-06-24T21:29:59.962Z"
   },
   {
    "duration": 4,
    "start_time": "2023-06-24T21:31:07.747Z"
   },
   {
    "duration": 211,
    "start_time": "2023-06-24T21:31:08.395Z"
   },
   {
    "duration": 5,
    "start_time": "2023-06-24T21:31:48.006Z"
   },
   {
    "duration": 216,
    "start_time": "2023-06-24T21:31:48.236Z"
   },
   {
    "duration": 5,
    "start_time": "2023-06-24T21:32:17.868Z"
   },
   {
    "duration": 210,
    "start_time": "2023-06-24T21:32:18.347Z"
   },
   {
    "duration": 5,
    "start_time": "2023-06-24T21:32:29.109Z"
   },
   {
    "duration": 174,
    "start_time": "2023-06-24T21:32:30.035Z"
   },
   {
    "duration": 5,
    "start_time": "2023-06-24T21:33:01.955Z"
   },
   {
    "duration": 175,
    "start_time": "2023-06-24T21:33:02.131Z"
   },
   {
    "duration": 5,
    "start_time": "2023-06-24T21:34:52.545Z"
   },
   {
    "duration": 149,
    "start_time": "2023-06-24T21:34:52.695Z"
   },
   {
    "duration": 5,
    "start_time": "2023-06-24T21:35:00.249Z"
   },
   {
    "duration": 151,
    "start_time": "2023-06-24T21:35:00.539Z"
   },
   {
    "duration": 6,
    "start_time": "2023-06-24T21:35:59.208Z"
   },
   {
    "duration": 157,
    "start_time": "2023-06-24T21:35:59.560Z"
   },
   {
    "duration": 4,
    "start_time": "2023-06-24T21:36:26.082Z"
   },
   {
    "duration": 184,
    "start_time": "2023-06-24T21:36:26.499Z"
   },
   {
    "duration": 7,
    "start_time": "2023-06-24T21:37:45.958Z"
   },
   {
    "duration": 384,
    "start_time": "2023-06-24T21:37:46.296Z"
   },
   {
    "duration": 5,
    "start_time": "2023-06-24T21:38:54.214Z"
   },
   {
    "duration": 149,
    "start_time": "2023-06-24T21:38:54.386Z"
   },
   {
    "duration": 6,
    "start_time": "2023-06-24T21:40:53.502Z"
   },
   {
    "duration": 176,
    "start_time": "2023-06-24T21:40:53.683Z"
   },
   {
    "duration": 6,
    "start_time": "2023-06-24T21:41:03.570Z"
   },
   {
    "duration": 166,
    "start_time": "2023-06-24T21:41:03.817Z"
   },
   {
    "duration": 7,
    "start_time": "2023-06-24T21:41:30.713Z"
   },
   {
    "duration": 190,
    "start_time": "2023-06-24T21:41:31.034Z"
   },
   {
    "duration": 5,
    "start_time": "2023-06-24T21:41:56.928Z"
   },
   {
    "duration": 42,
    "start_time": "2023-06-24T21:41:57.521Z"
   },
   {
    "duration": 9,
    "start_time": "2023-06-24T21:42:05.324Z"
   },
   {
    "duration": 160,
    "start_time": "2023-06-24T21:42:05.747Z"
   },
   {
    "duration": 9,
    "start_time": "2023-06-24T21:42:28.498Z"
   },
   {
    "duration": 169,
    "start_time": "2023-06-24T21:42:28.699Z"
   },
   {
    "duration": 7,
    "start_time": "2023-06-24T21:42:46.688Z"
   },
   {
    "duration": 190,
    "start_time": "2023-06-24T21:42:46.930Z"
   },
   {
    "duration": 10,
    "start_time": "2023-06-24T21:43:17.270Z"
   },
   {
    "duration": 172,
    "start_time": "2023-06-24T21:43:17.509Z"
   },
   {
    "duration": 6,
    "start_time": "2023-06-24T21:43:45.691Z"
   },
   {
    "duration": 170,
    "start_time": "2023-06-24T21:43:45.913Z"
   },
   {
    "duration": 6,
    "start_time": "2023-06-24T21:44:08.203Z"
   },
   {
    "duration": 190,
    "start_time": "2023-06-24T21:44:08.374Z"
   },
   {
    "duration": 9,
    "start_time": "2023-06-24T21:47:34.458Z"
   },
   {
    "duration": 167,
    "start_time": "2023-06-24T21:47:34.736Z"
   },
   {
    "duration": 7,
    "start_time": "2023-06-24T21:59:40.802Z"
   },
   {
    "duration": 185,
    "start_time": "2023-06-24T21:59:41.058Z"
   },
   {
    "duration": 8,
    "start_time": "2023-06-24T22:01:11.864Z"
   },
   {
    "duration": 175,
    "start_time": "2023-06-24T22:01:12.042Z"
   },
   {
    "duration": 8,
    "start_time": "2023-06-24T22:04:25.703Z"
   },
   {
    "duration": 231,
    "start_time": "2023-06-24T22:04:25.714Z"
   },
   {
    "duration": 11,
    "start_time": "2023-06-24T22:07:27.259Z"
   },
   {
    "duration": 207,
    "start_time": "2023-06-24T22:07:27.482Z"
   },
   {
    "duration": 9,
    "start_time": "2023-06-24T22:09:34.711Z"
   },
   {
    "duration": 348,
    "start_time": "2023-06-24T22:09:35.038Z"
   },
   {
    "duration": 9,
    "start_time": "2023-06-24T22:10:47.383Z"
   },
   {
    "duration": 353,
    "start_time": "2023-06-24T22:10:48.884Z"
   },
   {
    "duration": 13,
    "start_time": "2023-06-24T22:11:21.545Z"
   },
   {
    "duration": 393,
    "start_time": "2023-06-24T22:11:21.702Z"
   },
   {
    "duration": 307,
    "start_time": "2023-06-24T22:11:59.101Z"
   },
   {
    "duration": 362,
    "start_time": "2023-06-24T22:11:59.411Z"
   },
   {
    "duration": 16,
    "start_time": "2023-06-24T22:12:09.951Z"
   },
   {
    "duration": 351,
    "start_time": "2023-06-24T22:12:10.124Z"
   },
   {
    "duration": 10,
    "start_time": "2023-06-24T22:12:31.740Z"
   },
   {
    "duration": 367,
    "start_time": "2023-06-24T22:12:31.921Z"
   },
   {
    "duration": 11,
    "start_time": "2023-06-24T22:14:52.289Z"
   },
   {
    "duration": 520,
    "start_time": "2023-06-24T22:14:52.785Z"
   },
   {
    "duration": 11,
    "start_time": "2023-06-24T22:17:29.487Z"
   },
   {
    "duration": 532,
    "start_time": "2023-06-24T22:17:29.500Z"
   },
   {
    "duration": 22,
    "start_time": "2023-06-24T22:36:40.548Z"
   },
   {
    "duration": 523,
    "start_time": "2023-06-24T22:36:40.776Z"
   },
   {
    "duration": 19,
    "start_time": "2023-06-24T22:37:57.066Z"
   },
   {
    "duration": 526,
    "start_time": "2023-06-24T22:37:58.944Z"
   },
   {
    "duration": 15,
    "start_time": "2023-06-24T22:41:27.839Z"
   },
   {
    "duration": 843,
    "start_time": "2023-06-24T22:41:28.000Z"
   },
   {
    "duration": 15,
    "start_time": "2023-06-24T22:43:18.978Z"
   },
   {
    "duration": 561,
    "start_time": "2023-06-24T22:43:19.121Z"
   },
   {
    "duration": 24,
    "start_time": "2023-06-24T22:45:19.648Z"
   },
   {
    "duration": 635,
    "start_time": "2023-06-24T22:45:19.703Z"
   },
   {
    "duration": 18,
    "start_time": "2023-06-24T22:46:23.595Z"
   },
   {
    "duration": 559,
    "start_time": "2023-06-24T22:46:24.696Z"
   },
   {
    "duration": 17,
    "start_time": "2023-06-24T22:47:08.081Z"
   },
   {
    "duration": 639,
    "start_time": "2023-06-24T22:47:08.287Z"
   },
   {
    "duration": 18,
    "start_time": "2023-06-24T22:47:40.290Z"
   },
   {
    "duration": 20,
    "start_time": "2023-06-24T22:48:12.766Z"
   },
   {
    "duration": 627,
    "start_time": "2023-06-24T22:48:12.943Z"
   },
   {
    "duration": 27,
    "start_time": "2023-06-24T22:48:44.302Z"
   },
   {
    "duration": 644,
    "start_time": "2023-06-24T22:48:44.678Z"
   },
   {
    "duration": 325,
    "start_time": "2023-06-24T22:49:14.910Z"
   },
   {
    "duration": 636,
    "start_time": "2023-06-24T22:49:15.648Z"
   },
   {
    "duration": 32,
    "start_time": "2023-06-24T22:49:55.078Z"
   },
   {
    "duration": 639,
    "start_time": "2023-06-24T22:49:55.265Z"
   },
   {
    "duration": 24,
    "start_time": "2023-06-24T22:50:14.367Z"
   },
   {
    "duration": 641,
    "start_time": "2023-06-24T22:50:14.393Z"
   },
   {
    "duration": 85,
    "start_time": "2023-06-24T22:50:29.095Z"
   },
   {
    "duration": 97,
    "start_time": "2023-06-24T22:50:40.448Z"
   },
   {
    "duration": 23,
    "start_time": "2023-06-24T22:50:43.610Z"
   },
   {
    "duration": 28,
    "start_time": "2023-06-24T22:50:45.666Z"
   },
   {
    "duration": 131,
    "start_time": "2023-06-24T22:50:54.271Z"
   },
   {
    "duration": 20,
    "start_time": "2023-06-24T22:50:54.546Z"
   },
   {
    "duration": 23,
    "start_time": "2023-06-24T22:50:54.742Z"
   },
   {
    "duration": 4,
    "start_time": "2023-06-24T22:50:55.431Z"
   },
   {
    "duration": 3,
    "start_time": "2023-06-24T22:50:55.669Z"
   },
   {
    "duration": 3,
    "start_time": "2023-06-24T22:50:55.876Z"
   },
   {
    "duration": 6,
    "start_time": "2023-06-24T22:50:56.059Z"
   },
   {
    "duration": 3,
    "start_time": "2023-06-24T22:50:56.270Z"
   },
   {
    "duration": 4,
    "start_time": "2023-06-24T22:50:56.475Z"
   },
   {
    "duration": 25,
    "start_time": "2023-06-24T22:50:56.866Z"
   },
   {
    "duration": 109,
    "start_time": "2023-06-24T22:50:56.920Z"
   },
   {
    "duration": 537,
    "start_time": "2023-06-24T22:51:06.474Z"
   },
   {
    "duration": 4,
    "start_time": "2023-06-24T22:54:26.468Z"
   },
   {
    "duration": 4,
    "start_time": "2023-06-24T22:57:32.403Z"
   },
   {
    "duration": 8,
    "start_time": "2023-06-24T23:02:01.839Z"
   },
   {
    "duration": 19,
    "start_time": "2023-06-24T23:02:11.143Z"
   },
   {
    "duration": 4,
    "start_time": "2023-06-24T23:04:07.167Z"
   },
   {
    "duration": 620,
    "start_time": "2023-06-24T23:04:33.238Z"
   },
   {
    "duration": 4,
    "start_time": "2023-06-24T23:04:46.440Z"
   },
   {
    "duration": 871,
    "start_time": "2023-06-24T23:04:46.639Z"
   },
   {
    "duration": 6,
    "start_time": "2023-06-24T23:05:37.015Z"
   },
   {
    "duration": 649,
    "start_time": "2023-06-24T23:05:37.599Z"
   },
   {
    "duration": 5,
    "start_time": "2023-06-24T23:05:50.899Z"
   },
   {
    "duration": 602,
    "start_time": "2023-06-24T23:05:51.607Z"
   },
   {
    "duration": 5,
    "start_time": "2023-06-24T23:09:33.510Z"
   },
   {
    "duration": 662,
    "start_time": "2023-06-24T23:09:33.944Z"
   },
   {
    "duration": 6,
    "start_time": "2023-06-24T23:13:20.674Z"
   },
   {
    "duration": 22,
    "start_time": "2023-06-24T23:14:32.266Z"
   },
   {
    "duration": 33,
    "start_time": "2023-06-24T23:14:48.644Z"
   },
   {
    "duration": 35,
    "start_time": "2023-06-24T23:15:30.436Z"
   },
   {
    "duration": 18,
    "start_time": "2023-06-24T23:15:57.697Z"
   },
   {
    "duration": 26,
    "start_time": "2023-06-24T23:16:12.940Z"
   },
   {
    "duration": 23,
    "start_time": "2023-06-24T23:16:29.148Z"
   },
   {
    "duration": 6,
    "start_time": "2023-06-24T23:16:35.660Z"
   },
   {
    "duration": 4,
    "start_time": "2023-06-24T23:16:41.159Z"
   },
   {
    "duration": 18,
    "start_time": "2023-06-24T23:16:45.572Z"
   },
   {
    "duration": 5,
    "start_time": "2023-06-24T23:17:07.934Z"
   },
   {
    "duration": 18,
    "start_time": "2023-06-24T23:17:19.617Z"
   },
   {
    "duration": 3,
    "start_time": "2023-06-24T23:17:25.114Z"
   },
   {
    "duration": 7,
    "start_time": "2023-06-24T23:18:09.757Z"
   },
   {
    "duration": 71,
    "start_time": "2023-06-24T23:18:10.141Z"
   },
   {
    "duration": 19,
    "start_time": "2023-06-24T23:18:21.964Z"
   },
   {
    "duration": 123,
    "start_time": "2023-06-24T23:18:34.920Z"
   },
   {
    "duration": 12,
    "start_time": "2023-06-24T23:18:35.104Z"
   },
   {
    "duration": 17,
    "start_time": "2023-06-24T23:18:35.595Z"
   },
   {
    "duration": 3,
    "start_time": "2023-06-24T23:18:36.475Z"
   },
   {
    "duration": 5,
    "start_time": "2023-06-24T23:18:36.627Z"
   },
   {
    "duration": 4,
    "start_time": "2023-06-24T23:18:36.797Z"
   },
   {
    "duration": 4,
    "start_time": "2023-06-24T23:18:36.971Z"
   },
   {
    "duration": 3,
    "start_time": "2023-06-24T23:18:37.167Z"
   },
   {
    "duration": 5,
    "start_time": "2023-06-24T23:18:37.311Z"
   },
   {
    "duration": 34,
    "start_time": "2023-06-24T23:18:37.665Z"
   },
   {
    "duration": 794,
    "start_time": "2023-06-24T23:18:37.701Z"
   },
   {
    "duration": 4,
    "start_time": "2023-06-24T23:18:38.499Z"
   },
   {
    "duration": 32,
    "start_time": "2023-06-24T23:18:38.505Z"
   },
   {
    "duration": 958,
    "start_time": "2023-06-24T23:18:38.539Z"
   },
   {
    "duration": 6,
    "start_time": "2023-06-24T23:18:40.432Z"
   },
   {
    "duration": 23,
    "start_time": "2023-06-24T23:18:41.119Z"
   },
   {
    "duration": 5,
    "start_time": "2023-06-24T23:19:00.635Z"
   },
   {
    "duration": 785,
    "start_time": "2023-06-24T23:19:06.192Z"
   },
   {
    "duration": 4,
    "start_time": "2023-06-24T23:22:39.829Z"
   },
   {
    "duration": 3,
    "start_time": "2023-06-24T23:23:39.320Z"
   },
   {
    "duration": 5,
    "start_time": "2023-06-24T23:23:57.826Z"
   },
   {
    "duration": 15,
    "start_time": "2023-06-24T23:24:02.108Z"
   },
   {
    "duration": 7,
    "start_time": "2023-06-24T23:28:43.391Z"
   },
   {
    "duration": 151,
    "start_time": "2023-06-24T23:28:44.262Z"
   },
   {
    "duration": 10,
    "start_time": "2023-06-24T23:29:25.436Z"
   },
   {
    "duration": 466,
    "start_time": "2023-06-24T23:29:26.067Z"
   },
   {
    "duration": 8,
    "start_time": "2023-06-24T23:29:44.271Z"
   },
   {
    "duration": 639,
    "start_time": "2023-06-24T23:29:44.435Z"
   },
   {
    "duration": 10,
    "start_time": "2023-06-24T23:31:19.238Z"
   },
   {
    "duration": 17,
    "start_time": "2023-06-24T23:31:19.411Z"
   },
   {
    "duration": 3,
    "start_time": "2023-06-24T23:31:19.722Z"
   },
   {
    "duration": 4,
    "start_time": "2023-06-24T23:31:19.887Z"
   },
   {
    "duration": 5,
    "start_time": "2023-06-24T23:31:20.061Z"
   },
   {
    "duration": 4,
    "start_time": "2023-06-24T23:31:20.211Z"
   },
   {
    "duration": 3,
    "start_time": "2023-06-24T23:31:20.375Z"
   },
   {
    "duration": 4,
    "start_time": "2023-06-24T23:31:20.521Z"
   },
   {
    "duration": 28,
    "start_time": "2023-06-24T23:31:20.849Z"
   },
   {
    "duration": 610,
    "start_time": "2023-06-24T23:31:20.879Z"
   },
   {
    "duration": 3,
    "start_time": "2023-06-24T23:31:21.491Z"
   },
   {
    "duration": 11,
    "start_time": "2023-06-24T23:31:21.496Z"
   },
   {
    "duration": 624,
    "start_time": "2023-06-24T23:31:21.509Z"
   },
   {
    "duration": 6,
    "start_time": "2023-06-24T23:31:22.136Z"
   },
   {
    "duration": 725,
    "start_time": "2023-06-24T23:31:22.151Z"
   },
   {
    "duration": 4,
    "start_time": "2023-06-24T23:31:22.878Z"
   },
   {
    "duration": 7,
    "start_time": "2023-06-24T23:31:22.915Z"
   },
   {
    "duration": 17,
    "start_time": "2023-06-24T23:38:40.578Z"
   },
   {
    "duration": 4,
    "start_time": "2023-06-24T23:38:48.924Z"
   },
   {
    "duration": 24,
    "start_time": "2023-06-24T23:38:49.971Z"
   },
   {
    "duration": 2653,
    "start_time": "2023-06-24T23:38:54.840Z"
   },
   {
    "duration": 4625,
    "start_time": "2023-06-24T23:46:47.427Z"
   },
   {
    "duration": 3,
    "start_time": "2023-06-24T23:47:05.542Z"
   },
   {
    "duration": 29,
    "start_time": "2023-06-24T23:47:06.833Z"
   },
   {
    "duration": 4691,
    "start_time": "2023-06-24T23:47:09.479Z"
   },
   {
    "duration": 73982,
    "start_time": "2023-06-24T23:48:29.989Z"
   },
   {
    "duration": 3915,
    "start_time": "2023-06-24T23:49:57.542Z"
   },
   {
    "duration": 15441,
    "start_time": "2023-06-24T23:50:18.718Z"
   },
   {
    "duration": 45219,
    "start_time": "2023-06-24T23:50:58.848Z"
   },
   {
    "duration": 10359,
    "start_time": "2023-06-24T23:51:56.302Z"
   },
   {
    "duration": 3,
    "start_time": "2023-06-24T23:53:30.758Z"
   },
   {
    "duration": 4,
    "start_time": "2023-06-24T23:53:30.972Z"
   },
   {
    "duration": 54,
    "start_time": "2023-06-24T23:53:31.324Z"
   },
   {
    "duration": 5,
    "start_time": "2023-06-24T23:53:31.640Z"
   },
   {
    "duration": 31,
    "start_time": "2023-06-24T23:53:32.378Z"
   },
   {
    "duration": 28,
    "start_time": "2023-06-24T23:53:51.939Z"
   },
   {
    "duration": 12,
    "start_time": "2023-06-24T23:54:42.329Z"
   },
   {
    "duration": 17,
    "start_time": "2023-06-24T23:54:42.530Z"
   },
   {
    "duration": 3,
    "start_time": "2023-06-24T23:54:42.897Z"
   },
   {
    "duration": 4,
    "start_time": "2023-06-24T23:54:43.086Z"
   },
   {
    "duration": 4,
    "start_time": "2023-06-24T23:54:43.275Z"
   },
   {
    "duration": 3,
    "start_time": "2023-06-24T23:54:43.446Z"
   },
   {
    "duration": 3,
    "start_time": "2023-06-24T23:54:43.614Z"
   },
   {
    "duration": 5,
    "start_time": "2023-06-24T23:54:43.759Z"
   },
   {
    "duration": 26,
    "start_time": "2023-06-24T23:54:44.091Z"
   },
   {
    "duration": 585,
    "start_time": "2023-06-24T23:54:44.119Z"
   },
   {
    "duration": 3,
    "start_time": "2023-06-24T23:54:44.707Z"
   },
   {
    "duration": 16,
    "start_time": "2023-06-24T23:54:44.712Z"
   },
   {
    "duration": 596,
    "start_time": "2023-06-24T23:54:44.731Z"
   },
   {
    "duration": 8,
    "start_time": "2023-06-24T23:54:45.330Z"
   },
   {
    "duration": 702,
    "start_time": "2023-06-24T23:54:45.352Z"
   },
   {
    "duration": 4,
    "start_time": "2023-06-24T23:54:46.057Z"
   },
   {
    "duration": 13,
    "start_time": "2023-06-24T23:54:46.062Z"
   },
   {
    "duration": 29,
    "start_time": "2023-06-24T23:54:46.078Z"
   },
   {
    "duration": 9,
    "start_time": "2023-06-24T23:54:46.109Z"
   },
   {
    "duration": 32,
    "start_time": "2023-06-24T23:54:46.120Z"
   },
   {
    "duration": 4594,
    "start_time": "2023-06-24T23:54:48.194Z"
   },
   {
    "duration": 9779,
    "start_time": "2023-06-24T23:54:52.791Z"
   },
   {
    "duration": 4,
    "start_time": "2023-06-24T23:55:06.800Z"
   },
   {
    "duration": 4,
    "start_time": "2023-06-24T23:55:07.521Z"
   },
   {
    "duration": 51,
    "start_time": "2023-06-24T23:55:08.493Z"
   },
   {
    "duration": 6,
    "start_time": "2023-06-24T23:55:09.296Z"
   },
   {
    "duration": 26,
    "start_time": "2023-06-24T23:55:10.480Z"
   },
   {
    "duration": 35,
    "start_time": "2023-06-24T23:55:20.874Z"
   },
   {
    "duration": 24,
    "start_time": "2023-06-24T23:55:55.933Z"
   },
   {
    "duration": 4062,
    "start_time": "2023-06-24T23:55:57.906Z"
   },
   {
    "duration": 5694,
    "start_time": "2023-06-24T23:56:01.970Z"
   },
   {
    "duration": 30,
    "start_time": "2023-06-24T23:56:07.666Z"
   },
   {
    "duration": 0,
    "start_time": "2023-06-24T23:56:07.752Z"
   },
   {
    "duration": 0,
    "start_time": "2023-06-24T23:56:07.754Z"
   },
   {
    "duration": 0,
    "start_time": "2023-06-24T23:56:07.755Z"
   },
   {
    "duration": 0,
    "start_time": "2023-06-24T23:56:07.757Z"
   },
   {
    "duration": 12,
    "start_time": "2023-06-24T23:56:26.448Z"
   },
   {
    "duration": 18,
    "start_time": "2023-06-24T23:56:26.626Z"
   },
   {
    "duration": 3,
    "start_time": "2023-06-24T23:56:26.950Z"
   },
   {
    "duration": 4,
    "start_time": "2023-06-24T23:56:27.102Z"
   },
   {
    "duration": 3,
    "start_time": "2023-06-24T23:56:27.248Z"
   },
   {
    "duration": 3,
    "start_time": "2023-06-24T23:56:27.387Z"
   },
   {
    "duration": 2,
    "start_time": "2023-06-24T23:56:27.539Z"
   },
   {
    "duration": 3,
    "start_time": "2023-06-24T23:56:27.678Z"
   },
   {
    "duration": 21,
    "start_time": "2023-06-24T23:56:28.021Z"
   },
   {
    "duration": 614,
    "start_time": "2023-06-24T23:56:28.045Z"
   },
   {
    "duration": 4,
    "start_time": "2023-06-24T23:56:28.661Z"
   },
   {
    "duration": 16,
    "start_time": "2023-06-24T23:56:28.667Z"
   },
   {
    "duration": 617,
    "start_time": "2023-06-24T23:56:28.685Z"
   },
   {
    "duration": 7,
    "start_time": "2023-06-24T23:56:29.304Z"
   },
   {
    "duration": 1022,
    "start_time": "2023-06-24T23:56:29.313Z"
   },
   {
    "duration": 15,
    "start_time": "2023-06-24T23:56:30.338Z"
   },
   {
    "duration": 19,
    "start_time": "2023-06-24T23:56:30.355Z"
   },
   {
    "duration": 24,
    "start_time": "2023-06-24T23:56:30.376Z"
   },
   {
    "duration": 53,
    "start_time": "2023-06-24T23:56:30.403Z"
   },
   {
    "duration": 47,
    "start_time": "2023-06-24T23:56:30.458Z"
   },
   {
    "duration": 4166,
    "start_time": "2023-06-24T23:56:30.507Z"
   },
   {
    "duration": 5789,
    "start_time": "2023-06-24T23:56:34.675Z"
   },
   {
    "duration": 2,
    "start_time": "2023-06-24T23:56:40.466Z"
   },
   {
    "duration": 13,
    "start_time": "2023-06-24T23:56:40.471Z"
   },
   {
    "duration": 80,
    "start_time": "2023-06-24T23:56:40.486Z"
   },
   {
    "duration": 6,
    "start_time": "2023-06-24T23:56:40.704Z"
   },
   {
    "duration": 14,
    "start_time": "2023-06-24T23:56:43.391Z"
   },
   {
    "duration": 21,
    "start_time": "2023-06-24T23:57:46.366Z"
   },
   {
    "duration": 78,
    "start_time": "2023-06-24T23:58:05.482Z"
   },
   {
    "duration": 146,
    "start_time": "2023-06-24T23:58:07.648Z"
   },
   {
    "duration": 78,
    "start_time": "2023-06-24T23:58:11.404Z"
   },
   {
    "duration": 78,
    "start_time": "2023-06-24T23:58:13.571Z"
   },
   {
    "duration": 138,
    "start_time": "2023-06-24T23:58:15.666Z"
   },
   {
    "duration": 77,
    "start_time": "2023-06-24T23:58:44.402Z"
   },
   {
    "duration": 145,
    "start_time": "2023-06-24T23:58:45.219Z"
   },
   {
    "duration": 22539,
    "start_time": "2023-06-25T00:00:55.762Z"
   },
   {
    "duration": 4476,
    "start_time": "2023-06-25T00:01:27.491Z"
   },
   {
    "duration": 4953,
    "start_time": "2023-06-25T00:01:41.225Z"
   },
   {
    "duration": 4884,
    "start_time": "2023-06-25T00:01:54.691Z"
   },
   {
    "duration": 10046,
    "start_time": "2023-06-25T00:02:05.743Z"
   },
   {
    "duration": 3,
    "start_time": "2023-06-25T00:03:00.067Z"
   },
   {
    "duration": 2,
    "start_time": "2023-06-25T00:03:00.202Z"
   },
   {
    "duration": 128,
    "start_time": "2023-06-25T00:03:03.784Z"
   },
   {
    "duration": 175,
    "start_time": "2023-06-25T00:03:05.310Z"
   },
   {
    "duration": 171,
    "start_time": "2023-06-25T00:03:16.925Z"
   },
   {
    "duration": 114,
    "start_time": "2023-06-25T00:03:20.012Z"
   },
   {
    "duration": 127,
    "start_time": "2023-06-25T00:03:24.685Z"
   },
   {
    "duration": 7906,
    "start_time": "2023-06-25T00:03:30.786Z"
   },
   {
    "duration": 9296,
    "start_time": "2023-06-25T00:03:43.599Z"
   },
   {
    "duration": 4278,
    "start_time": "2023-06-25T00:03:59.878Z"
   },
   {
    "duration": 9474,
    "start_time": "2023-06-25T00:04:09.684Z"
   },
   {
    "duration": 14,
    "start_time": "2023-06-25T00:05:08.382Z"
   },
   {
    "duration": 18,
    "start_time": "2023-06-25T00:05:08.525Z"
   },
   {
    "duration": 3,
    "start_time": "2023-06-25T00:05:08.823Z"
   },
   {
    "duration": 4,
    "start_time": "2023-06-25T00:05:08.963Z"
   },
   {
    "duration": 4,
    "start_time": "2023-06-25T00:05:09.111Z"
   },
   {
    "duration": 3,
    "start_time": "2023-06-25T00:05:09.268Z"
   },
   {
    "duration": 3,
    "start_time": "2023-06-25T00:05:09.449Z"
   },
   {
    "duration": 4,
    "start_time": "2023-06-25T00:05:09.594Z"
   },
   {
    "duration": 26,
    "start_time": "2023-06-25T00:05:09.890Z"
   },
   {
    "duration": 642,
    "start_time": "2023-06-25T00:05:09.918Z"
   },
   {
    "duration": 3,
    "start_time": "2023-06-25T00:05:10.562Z"
   },
   {
    "duration": 45,
    "start_time": "2023-06-25T00:05:10.566Z"
   },
   {
    "duration": 596,
    "start_time": "2023-06-25T00:05:10.613Z"
   },
   {
    "duration": 8,
    "start_time": "2023-06-25T00:05:11.211Z"
   },
   {
    "duration": 706,
    "start_time": "2023-06-25T00:05:11.326Z"
   },
   {
    "duration": 5,
    "start_time": "2023-06-25T00:05:12.034Z"
   },
   {
    "duration": 4,
    "start_time": "2023-06-25T00:05:12.106Z"
   },
   {
    "duration": 5,
    "start_time": "2023-06-25T00:05:12.362Z"
   },
   {
    "duration": 3,
    "start_time": "2023-06-25T00:05:12.584Z"
   },
   {
    "duration": 24,
    "start_time": "2023-06-25T00:05:13.016Z"
   },
   {
    "duration": 3715,
    "start_time": "2023-06-25T00:05:13.700Z"
   },
   {
    "duration": 7348,
    "start_time": "2023-06-25T00:05:17.417Z"
   },
   {
    "duration": 10,
    "start_time": "2023-06-25T00:07:17.478Z"
   },
   {
    "duration": 17,
    "start_time": "2023-06-25T00:07:17.654Z"
   },
   {
    "duration": 4,
    "start_time": "2023-06-25T00:07:18.306Z"
   },
   {
    "duration": 5,
    "start_time": "2023-06-25T00:07:18.376Z"
   },
   {
    "duration": 4,
    "start_time": "2023-06-25T00:07:18.458Z"
   },
   {
    "duration": 4,
    "start_time": "2023-06-25T00:07:18.544Z"
   },
   {
    "duration": 3,
    "start_time": "2023-06-25T00:07:18.628Z"
   },
   {
    "duration": 4,
    "start_time": "2023-06-25T00:07:18.730Z"
   },
   {
    "duration": 22,
    "start_time": "2023-06-25T00:07:18.985Z"
   },
   {
    "duration": 574,
    "start_time": "2023-06-25T00:07:19.009Z"
   },
   {
    "duration": 4,
    "start_time": "2023-06-25T00:07:19.585Z"
   },
   {
    "duration": 6,
    "start_time": "2023-06-25T00:07:19.592Z"
   },
   {
    "duration": 622,
    "start_time": "2023-06-25T00:07:19.600Z"
   },
   {
    "duration": 7,
    "start_time": "2023-06-25T00:07:20.223Z"
   },
   {
    "duration": 1032,
    "start_time": "2023-06-25T00:07:20.233Z"
   },
   {
    "duration": 5,
    "start_time": "2023-06-25T00:07:21.268Z"
   },
   {
    "duration": 10,
    "start_time": "2023-06-25T00:07:21.277Z"
   },
   {
    "duration": 16,
    "start_time": "2023-06-25T00:07:21.288Z"
   },
   {
    "duration": 17,
    "start_time": "2023-06-25T00:07:21.306Z"
   },
   {
    "duration": 33,
    "start_time": "2023-06-25T00:07:21.325Z"
   },
   {
    "duration": 4124,
    "start_time": "2023-06-25T00:07:21.360Z"
   },
   {
    "duration": 6377,
    "start_time": "2023-06-25T00:07:25.487Z"
   },
   {
    "duration": 5535,
    "start_time": "2023-06-25T00:07:34.544Z"
   },
   {
    "duration": 127,
    "start_time": "2023-06-25T00:10:17.420Z"
   },
   {
    "duration": 12,
    "start_time": "2023-06-25T00:10:17.749Z"
   },
   {
    "duration": 18,
    "start_time": "2023-06-25T00:10:18.133Z"
   },
   {
    "duration": 3,
    "start_time": "2023-06-25T00:10:18.669Z"
   },
   {
    "duration": 4,
    "start_time": "2023-06-25T00:10:18.830Z"
   },
   {
    "duration": 3,
    "start_time": "2023-06-25T00:10:19.018Z"
   },
   {
    "duration": 3,
    "start_time": "2023-06-25T00:10:19.125Z"
   },
   {
    "duration": 3,
    "start_time": "2023-06-25T00:10:19.234Z"
   },
   {
    "duration": 4,
    "start_time": "2023-06-25T00:10:19.438Z"
   },
   {
    "duration": 23,
    "start_time": "2023-06-25T00:10:19.762Z"
   },
   {
    "duration": 599,
    "start_time": "2023-06-25T00:10:19.787Z"
   },
   {
    "duration": 4,
    "start_time": "2023-06-25T00:10:20.388Z"
   },
   {
    "duration": 18,
    "start_time": "2023-06-25T00:10:20.393Z"
   },
   {
    "duration": 615,
    "start_time": "2023-06-25T00:10:20.413Z"
   },
   {
    "duration": 7,
    "start_time": "2023-06-25T00:10:21.843Z"
   },
   {
    "duration": 673,
    "start_time": "2023-06-25T00:10:22.025Z"
   },
   {
    "duration": 4,
    "start_time": "2023-06-25T00:10:22.701Z"
   },
   {
    "duration": 3,
    "start_time": "2023-06-25T00:10:22.880Z"
   },
   {
    "duration": 6,
    "start_time": "2023-06-25T00:10:23.287Z"
   },
   {
    "duration": 3,
    "start_time": "2023-06-25T00:10:25.235Z"
   },
   {
    "duration": 1222,
    "start_time": "2023-06-25T00:10:26.260Z"
   },
   {
    "duration": 4,
    "start_time": "2023-06-25T00:10:35.393Z"
   },
   {
    "duration": 6,
    "start_time": "2023-06-25T00:10:36.220Z"
   },
   {
    "duration": 3,
    "start_time": "2023-06-25T00:10:37.699Z"
   },
   {
    "duration": 35,
    "start_time": "2023-06-25T00:10:38.349Z"
   },
   {
    "duration": 47,
    "start_time": "2023-06-25T00:11:29.244Z"
   },
   {
    "duration": 29,
    "start_time": "2023-06-25T00:12:38.210Z"
   },
   {
    "duration": 16,
    "start_time": "2023-06-25T00:12:38.831Z"
   },
   {
    "duration": 3,
    "start_time": "2023-06-25T00:12:39.230Z"
   },
   {
    "duration": 5,
    "start_time": "2023-06-25T00:12:39.386Z"
   },
   {
    "duration": 4,
    "start_time": "2023-06-25T00:12:39.518Z"
   },
   {
    "duration": 4,
    "start_time": "2023-06-25T00:12:39.638Z"
   },
   {
    "duration": 3,
    "start_time": "2023-06-25T00:12:39.835Z"
   },
   {
    "duration": 4,
    "start_time": "2023-06-25T00:12:39.983Z"
   },
   {
    "duration": 24,
    "start_time": "2023-06-25T00:12:40.324Z"
   },
   {
    "duration": 641,
    "start_time": "2023-06-25T00:12:40.350Z"
   },
   {
    "duration": 3,
    "start_time": "2023-06-25T00:12:40.993Z"
   },
   {
    "duration": 11,
    "start_time": "2023-06-25T00:12:40.997Z"
   },
   {
    "duration": 634,
    "start_time": "2023-06-25T00:12:41.100Z"
   },
   {
    "duration": 6,
    "start_time": "2023-06-25T00:12:41.736Z"
   },
   {
    "duration": 1116,
    "start_time": "2023-06-25T00:12:42.015Z"
   },
   {
    "duration": 5,
    "start_time": "2023-06-25T00:12:43.134Z"
   },
   {
    "duration": 4,
    "start_time": "2023-06-25T00:12:43.574Z"
   },
   {
    "duration": 5,
    "start_time": "2023-06-25T00:12:43.880Z"
   },
   {
    "duration": 3,
    "start_time": "2023-06-25T00:12:44.280Z"
   },
   {
    "duration": 12,
    "start_time": "2023-06-25T00:12:44.865Z"
   },
   {
    "duration": 3,
    "start_time": "2023-06-25T00:12:45.046Z"
   },
   {
    "duration": 28,
    "start_time": "2023-06-25T00:12:45.611Z"
   },
   {
    "duration": 5196,
    "start_time": "2023-06-25T00:12:46.812Z"
   },
   {
    "duration": 39778,
    "start_time": "2023-06-25T00:12:52.010Z"
   },
   {
    "duration": 13607,
    "start_time": "2023-06-25T00:13:31.791Z"
   },
   {
    "duration": 4,
    "start_time": "2023-06-25T00:13:45.401Z"
   },
   {
    "duration": 23,
    "start_time": "2023-06-25T00:13:45.408Z"
   },
   {
    "duration": 85,
    "start_time": "2023-06-25T00:13:45.433Z"
   },
   {
    "duration": 6,
    "start_time": "2023-06-25T00:13:45.519Z"
   },
   {
    "duration": 13,
    "start_time": "2023-06-25T00:13:45.526Z"
   },
   {
    "duration": 58,
    "start_time": "2023-06-25T00:13:45.541Z"
   },
   {
    "duration": 0,
    "start_time": "2023-06-25T00:13:45.601Z"
   },
   {
    "duration": 0,
    "start_time": "2023-06-25T00:13:45.602Z"
   },
   {
    "duration": 24,
    "start_time": "2023-06-25T00:14:04.586Z"
   },
   {
    "duration": 5,
    "start_time": "2023-06-25T00:14:29.126Z"
   },
   {
    "duration": 15,
    "start_time": "2023-06-25T00:14:29.699Z"
   },
   {
    "duration": 140,
    "start_time": "2023-06-25T00:14:31.078Z"
   },
   {
    "duration": 154,
    "start_time": "2023-06-25T00:14:31.288Z"
   },
   {
    "duration": 7685,
    "start_time": "2023-06-25T00:14:53.288Z"
   },
   {
    "duration": 23190,
    "start_time": "2023-06-25T00:15:06.216Z"
   },
   {
    "duration": 32,
    "start_time": "2023-06-25T00:15:33.870Z"
   },
   {
    "duration": 47,
    "start_time": "2023-06-25T00:15:34.028Z"
   },
   {
    "duration": 38,
    "start_time": "2023-06-25T00:15:34.212Z"
   },
   {
    "duration": 40,
    "start_time": "2023-06-25T00:15:34.423Z"
   },
   {
    "duration": 47,
    "start_time": "2023-06-25T00:15:44.728Z"
   },
   {
    "duration": 52,
    "start_time": "2023-06-25T00:15:54.683Z"
   },
   {
    "duration": 11,
    "start_time": "2023-06-25T00:16:09.392Z"
   },
   {
    "duration": 19,
    "start_time": "2023-06-25T00:16:09.893Z"
   },
   {
    "duration": 3,
    "start_time": "2023-06-25T00:16:10.047Z"
   },
   {
    "duration": 6,
    "start_time": "2023-06-25T00:16:10.131Z"
   },
   {
    "duration": 3,
    "start_time": "2023-06-25T00:16:10.214Z"
   },
   {
    "duration": 3,
    "start_time": "2023-06-25T00:16:10.298Z"
   },
   {
    "duration": 3,
    "start_time": "2023-06-25T00:16:10.384Z"
   },
   {
    "duration": 8,
    "start_time": "2023-06-25T00:16:10.476Z"
   },
   {
    "duration": 30,
    "start_time": "2023-06-25T00:16:10.740Z"
   },
   {
    "duration": 652,
    "start_time": "2023-06-25T00:16:10.772Z"
   },
   {
    "duration": 3,
    "start_time": "2023-06-25T00:16:11.426Z"
   },
   {
    "duration": 7,
    "start_time": "2023-06-25T00:16:11.430Z"
   },
   {
    "duration": 655,
    "start_time": "2023-06-25T00:16:11.460Z"
   },
   {
    "duration": 7,
    "start_time": "2023-06-25T00:16:12.117Z"
   },
   {
    "duration": 797,
    "start_time": "2023-06-25T00:16:12.126Z"
   },
   {
    "duration": 5,
    "start_time": "2023-06-25T00:16:12.925Z"
   },
   {
    "duration": 5,
    "start_time": "2023-06-25T00:16:12.933Z"
   },
   {
    "duration": 27,
    "start_time": "2023-06-25T00:16:12.940Z"
   },
   {
    "duration": 30,
    "start_time": "2023-06-25T00:16:12.969Z"
   },
   {
    "duration": 17,
    "start_time": "2023-06-25T00:16:13.000Z"
   },
   {
    "duration": 6,
    "start_time": "2023-06-25T00:16:13.018Z"
   },
   {
    "duration": 57,
    "start_time": "2023-06-25T00:16:13.025Z"
   },
   {
    "duration": 5356,
    "start_time": "2023-06-25T00:16:13.084Z"
   },
   {
    "duration": 40648,
    "start_time": "2023-06-25T00:16:18.442Z"
   },
   {
    "duration": 12914,
    "start_time": "2023-06-25T00:16:59.092Z"
   },
   {
    "duration": 2,
    "start_time": "2023-06-25T00:17:12.008Z"
   },
   {
    "duration": 9,
    "start_time": "2023-06-25T00:17:12.012Z"
   },
   {
    "duration": 78,
    "start_time": "2023-06-25T00:17:12.052Z"
   },
   {
    "duration": 6,
    "start_time": "2023-06-25T00:17:12.131Z"
   },
   {
    "duration": 9,
    "start_time": "2023-06-25T00:17:12.138Z"
   },
   {
    "duration": 43,
    "start_time": "2023-06-25T00:17:12.149Z"
   },
   {
    "duration": 187,
    "start_time": "2023-06-25T00:17:12.193Z"
   },
   {
    "duration": 148,
    "start_time": "2023-06-25T00:17:12.382Z"
   },
   {
    "duration": 27686,
    "start_time": "2023-06-25T00:22:54.111Z"
   },
   {
    "duration": 170,
    "start_time": "2023-06-25T00:23:28.522Z"
   },
   {
    "duration": 155,
    "start_time": "2023-06-25T00:23:30.127Z"
   },
   {
    "duration": 24098,
    "start_time": "2023-06-25T00:23:40.791Z"
   },
   {
    "duration": 260,
    "start_time": "2023-06-25T00:24:08.311Z"
   },
   {
    "duration": 157,
    "start_time": "2023-06-25T00:24:09.390Z"
   },
   {
    "duration": 9430,
    "start_time": "2023-06-25T00:24:15.127Z"
   },
   {
    "duration": 169,
    "start_time": "2023-06-25T00:24:29.406Z"
   },
   {
    "duration": 161,
    "start_time": "2023-06-25T00:24:30.499Z"
   },
   {
    "duration": 4113,
    "start_time": "2023-06-25T00:24:42.683Z"
   },
   {
    "duration": 158,
    "start_time": "2023-06-25T00:24:51.440Z"
   },
   {
    "duration": 166,
    "start_time": "2023-06-25T00:24:52.504Z"
   },
   {
    "duration": 11,
    "start_time": "2023-06-25T00:26:05.096Z"
   },
   {
    "duration": 19,
    "start_time": "2023-06-25T00:26:05.597Z"
   },
   {
    "duration": 3,
    "start_time": "2023-06-25T00:26:05.764Z"
   },
   {
    "duration": 5,
    "start_time": "2023-06-25T00:26:05.842Z"
   },
   {
    "duration": 3,
    "start_time": "2023-06-25T00:26:05.924Z"
   },
   {
    "duration": 3,
    "start_time": "2023-06-25T00:26:06.012Z"
   },
   {
    "duration": 2,
    "start_time": "2023-06-25T00:26:06.092Z"
   },
   {
    "duration": 3,
    "start_time": "2023-06-25T00:26:06.176Z"
   },
   {
    "duration": 32,
    "start_time": "2023-06-25T00:26:06.449Z"
   },
   {
    "duration": 610,
    "start_time": "2023-06-25T00:26:06.483Z"
   },
   {
    "duration": 4,
    "start_time": "2023-06-25T00:26:07.094Z"
   },
   {
    "duration": 19,
    "start_time": "2023-06-25T00:26:07.100Z"
   },
   {
    "duration": 660,
    "start_time": "2023-06-25T00:26:07.121Z"
   },
   {
    "duration": 8,
    "start_time": "2023-06-25T00:26:07.784Z"
   },
   {
    "duration": 837,
    "start_time": "2023-06-25T00:26:07.794Z"
   },
   {
    "duration": 5,
    "start_time": "2023-06-25T00:26:08.633Z"
   },
   {
    "duration": 25,
    "start_time": "2023-06-25T00:26:08.640Z"
   },
   {
    "duration": 16,
    "start_time": "2023-06-25T00:26:08.668Z"
   },
   {
    "duration": 7,
    "start_time": "2023-06-25T00:26:08.687Z"
   },
   {
    "duration": 10,
    "start_time": "2023-06-25T00:26:08.696Z"
   },
   {
    "duration": 3,
    "start_time": "2023-06-25T00:26:08.708Z"
   },
   {
    "duration": 24,
    "start_time": "2023-06-25T00:26:08.713Z"
   },
   {
    "duration": 0,
    "start_time": "2023-06-25T00:26:08.740Z"
   },
   {
    "duration": 0,
    "start_time": "2023-06-25T00:26:08.757Z"
   },
   {
    "duration": 0,
    "start_time": "2023-06-25T00:26:08.758Z"
   },
   {
    "duration": 0,
    "start_time": "2023-06-25T00:26:08.759Z"
   },
   {
    "duration": 0,
    "start_time": "2023-06-25T00:26:08.760Z"
   },
   {
    "duration": 0,
    "start_time": "2023-06-25T00:26:08.761Z"
   },
   {
    "duration": 0,
    "start_time": "2023-06-25T00:26:08.761Z"
   },
   {
    "duration": 0,
    "start_time": "2023-06-25T00:26:08.763Z"
   },
   {
    "duration": 0,
    "start_time": "2023-06-25T00:26:08.764Z"
   },
   {
    "duration": 139,
    "start_time": "2023-06-25T00:26:08.850Z"
   },
   {
    "duration": 167,
    "start_time": "2023-06-25T00:26:08.991Z"
   },
   {
    "duration": 2,
    "start_time": "2023-06-25T00:26:09.162Z"
   },
   {
    "duration": 23,
    "start_time": "2023-06-25T00:26:09.170Z"
   },
   {
    "duration": 31,
    "start_time": "2023-06-25T00:26:25.783Z"
   },
   {
    "duration": 4580,
    "start_time": "2023-06-25T00:26:27.488Z"
   },
   {
    "duration": 22397,
    "start_time": "2023-06-25T00:26:32.070Z"
   },
   {
    "duration": 6226,
    "start_time": "2023-06-25T00:26:54.469Z"
   },
   {
    "duration": 4,
    "start_time": "2023-06-25T00:27:00.697Z"
   },
   {
    "duration": 60,
    "start_time": "2023-06-25T00:27:00.702Z"
   },
   {
    "duration": 92,
    "start_time": "2023-06-25T00:27:00.764Z"
   },
   {
    "duration": 8,
    "start_time": "2023-06-25T00:27:00.858Z"
   },
   {
    "duration": 63,
    "start_time": "2023-06-25T00:27:00.868Z"
   },
   {
    "duration": 72,
    "start_time": "2023-06-25T00:27:00.934Z"
   },
   {
    "duration": 197,
    "start_time": "2023-06-25T00:27:01.008Z"
   },
   {
    "duration": 182,
    "start_time": "2023-06-25T00:27:01.207Z"
   },
   {
    "duration": 22470,
    "start_time": "2023-06-25T16:37:04.260Z"
   },
   {
    "duration": 5,
    "start_time": "2023-06-25T16:37:31.476Z"
   },
   {
    "duration": 5,
    "start_time": "2023-06-25T16:37:31.976Z"
   },
   {
    "duration": 3,
    "start_time": "2023-06-25T16:37:32.114Z"
   },
   {
    "duration": 3,
    "start_time": "2023-06-25T16:37:32.212Z"
   },
   {
    "duration": 4,
    "start_time": "2023-06-25T16:37:32.311Z"
   },
   {
    "duration": 129,
    "start_time": "2023-06-25T16:37:32.382Z"
   },
   {
    "duration": 49,
    "start_time": "2023-06-25T16:37:32.618Z"
   },
   {
    "duration": 24,
    "start_time": "2023-06-25T16:37:32.713Z"
   },
   {
    "duration": 17,
    "start_time": "2023-06-25T16:37:32.801Z"
   },
   {
    "duration": 9,
    "start_time": "2023-06-25T16:37:32.880Z"
   },
   {
    "duration": 39,
    "start_time": "2023-06-25T16:37:32.951Z"
   },
   {
    "duration": 9,
    "start_time": "2023-06-25T16:37:33.032Z"
   },
   {
    "duration": 16,
    "start_time": "2023-06-25T16:37:33.304Z"
   },
   {
    "duration": 15,
    "start_time": "2023-06-25T16:37:33.384Z"
   },
   {
    "duration": 33,
    "start_time": "2023-06-25T16:37:33.457Z"
   },
   {
    "duration": 8,
    "start_time": "2023-06-25T16:37:33.535Z"
   },
   {
    "duration": 16,
    "start_time": "2023-06-25T16:37:33.808Z"
   },
   {
    "duration": 10,
    "start_time": "2023-06-25T16:37:33.883Z"
   },
   {
    "duration": 68,
    "start_time": "2023-06-25T16:37:34.303Z"
   },
   {
    "duration": 29,
    "start_time": "2023-06-25T16:37:34.452Z"
   },
   {
    "duration": 17,
    "start_time": "2023-06-25T16:37:34.548Z"
   },
   {
    "duration": 5,
    "start_time": "2023-06-25T16:37:34.622Z"
   },
   {
    "duration": 48,
    "start_time": "2023-06-25T16:37:34.911Z"
   },
   {
    "duration": 19,
    "start_time": "2023-06-25T16:37:34.982Z"
   },
   {
    "duration": 11,
    "start_time": "2023-06-25T16:37:35.037Z"
   },
   {
    "duration": 5,
    "start_time": "2023-06-25T16:37:35.212Z"
   },
   {
    "duration": 10,
    "start_time": "2023-06-25T16:37:35.310Z"
   },
   {
    "duration": 8,
    "start_time": "2023-06-25T16:37:35.399Z"
   },
   {
    "duration": 13,
    "start_time": "2023-06-25T16:37:35.471Z"
   },
   {
    "duration": 6,
    "start_time": "2023-06-25T16:37:35.542Z"
   },
   {
    "duration": 5,
    "start_time": "2023-06-25T16:37:35.624Z"
   },
   {
    "duration": 6,
    "start_time": "2023-06-25T16:37:35.712Z"
   },
   {
    "duration": 14,
    "start_time": "2023-06-25T16:37:35.808Z"
   },
   {
    "duration": 20,
    "start_time": "2023-06-25T16:37:35.903Z"
   },
   {
    "duration": 15,
    "start_time": "2023-06-25T16:37:36.130Z"
   },
   {
    "duration": 6,
    "start_time": "2023-06-25T16:37:36.211Z"
   },
   {
    "duration": 1055,
    "start_time": "2023-06-25T16:37:36.305Z"
   },
   {
    "duration": 4,
    "start_time": "2023-06-25T16:37:37.516Z"
   },
   {
    "duration": 38,
    "start_time": "2023-06-25T16:37:37.749Z"
   },
   {
    "duration": 3027,
    "start_time": "2023-06-25T16:37:38.211Z"
   },
   {
    "duration": 5,
    "start_time": "2023-06-25T16:37:41.240Z"
   },
   {
    "duration": 36,
    "start_time": "2023-06-25T16:37:41.253Z"
   },
   {
    "duration": 36,
    "start_time": "2023-06-25T16:37:41.291Z"
   },
   {
    "duration": 10,
    "start_time": "2023-06-25T16:37:41.330Z"
   },
   {
    "duration": 170,
    "start_time": "2023-06-25T16:37:41.343Z"
   },
   {
    "duration": 181,
    "start_time": "2023-06-25T16:37:41.515Z"
   },
   {
    "duration": 9,
    "start_time": "2023-06-25T16:37:41.698Z"
   },
   {
    "duration": 11,
    "start_time": "2023-06-25T16:37:41.709Z"
   },
   {
    "duration": 5,
    "start_time": "2023-06-25T16:37:41.722Z"
   },
   {
    "duration": 32,
    "start_time": "2023-06-25T16:37:41.729Z"
   },
   {
    "duration": 6,
    "start_time": "2023-06-25T16:37:42.407Z"
   },
   {
    "duration": 7,
    "start_time": "2023-06-25T16:37:42.578Z"
   },
   {
    "duration": 29,
    "start_time": "2023-06-25T16:37:43.507Z"
   },
   {
    "duration": 7,
    "start_time": "2023-06-25T16:37:43.710Z"
   },
   {
    "duration": 161,
    "start_time": "2023-06-25T16:37:44.020Z"
   },
   {
    "duration": 10,
    "start_time": "2023-06-25T16:37:44.217Z"
   },
   {
    "duration": 5,
    "start_time": "2023-06-25T16:37:44.410Z"
   },
   {
    "duration": 8,
    "start_time": "2023-06-25T16:37:44.610Z"
   },
   {
    "duration": 4,
    "start_time": "2023-06-25T16:37:44.740Z"
   },
   {
    "duration": 7,
    "start_time": "2023-06-25T16:37:44.929Z"
   },
   {
    "duration": 10,
    "start_time": "2023-06-25T16:37:46.053Z"
   },
   {
    "duration": 21,
    "start_time": "2023-06-25T16:37:46.241Z"
   },
   {
    "duration": 143,
    "start_time": "2023-06-25T16:37:46.528Z"
   },
   {
    "duration": 17,
    "start_time": "2023-06-25T16:37:46.711Z"
   },
   {
    "duration": 23,
    "start_time": "2023-06-25T16:37:46.912Z"
   },
   {
    "duration": 24,
    "start_time": "2023-06-25T16:37:47.861Z"
   },
   {
    "duration": 6,
    "start_time": "2023-06-25T16:37:48.035Z"
   },
   {
    "duration": 6,
    "start_time": "2023-06-25T16:37:48.410Z"
   },
   {
    "duration": 41,
    "start_time": "2023-06-25T16:37:48.609Z"
   },
   {
    "duration": 468,
    "start_time": "2023-06-25T16:37:49.234Z"
   },
   {
    "duration": 5,
    "start_time": "2023-06-25T16:37:51.311Z"
   },
   {
    "duration": 19,
    "start_time": "2023-06-25T16:37:51.503Z"
   },
   {
    "duration": 5,
    "start_time": "2023-06-25T16:37:51.908Z"
   },
   {
    "duration": 17,
    "start_time": "2023-06-25T16:37:52.108Z"
   },
   {
    "duration": 4,
    "start_time": "2023-06-25T16:37:53.303Z"
   },
   {
    "duration": 17,
    "start_time": "2023-06-25T16:37:53.503Z"
   },
   {
    "duration": 49,
    "start_time": "2023-06-25T16:37:54.308Z"
   },
   {
    "duration": 3,
    "start_time": "2023-06-25T16:37:54.507Z"
   },
   {
    "duration": 11,
    "start_time": "2023-06-25T16:37:54.712Z"
   },
   {
    "duration": 4,
    "start_time": "2023-06-25T16:37:54.911Z"
   },
   {
    "duration": 24,
    "start_time": "2023-06-25T16:37:55.111Z"
   },
   {
    "duration": 11,
    "start_time": "2023-06-25T16:37:55.840Z"
   },
   {
    "duration": 4,
    "start_time": "2023-06-25T16:37:56.033Z"
   },
   {
    "duration": 4,
    "start_time": "2023-06-25T16:37:56.340Z"
   },
   {
    "duration": 4711,
    "start_time": "2023-06-25T16:38:00.081Z"
   },
   {
    "duration": 4,
    "start_time": "2023-06-25T16:38:04.794Z"
   },
   {
    "duration": 18,
    "start_time": "2023-06-25T16:38:04.800Z"
   },
   {
    "duration": 1323,
    "start_time": "2023-06-25T16:38:04.821Z"
   },
   {
    "duration": 1453,
    "start_time": "2023-06-25T16:38:06.146Z"
   },
   {
    "duration": 392,
    "start_time": "2023-06-25T16:38:07.600Z"
   },
   {
    "duration": 35101,
    "start_time": "2023-06-25T16:38:07.994Z"
   },
   {
    "duration": 20,
    "start_time": "2023-06-25T16:38:43.097Z"
   },
   {
    "duration": 7,
    "start_time": "2023-06-25T16:38:43.119Z"
   },
   {
    "duration": 176,
    "start_time": "2023-06-25T16:38:43.129Z"
   },
   {
    "duration": 33,
    "start_time": "2023-06-25T16:38:43.307Z"
   },
   {
    "duration": 16,
    "start_time": "2023-06-25T16:38:43.343Z"
   },
   {
    "duration": 45,
    "start_time": "2023-06-25T16:38:43.361Z"
   },
   {
    "duration": 6,
    "start_time": "2023-06-25T16:38:43.408Z"
   },
   {
    "duration": 6,
    "start_time": "2023-06-25T16:38:43.416Z"
   },
   {
    "duration": 14,
    "start_time": "2023-06-25T16:38:43.424Z"
   },
   {
    "duration": 45,
    "start_time": "2023-06-25T16:38:43.440Z"
   },
   {
    "duration": 248,
    "start_time": "2023-06-25T16:38:43.488Z"
   },
   {
    "duration": 153,
    "start_time": "2023-06-25T16:38:43.738Z"
   },
   {
    "duration": 9,
    "start_time": "2023-06-25T16:38:43.893Z"
   },
   {
    "duration": 38,
    "start_time": "2023-06-25T16:38:43.904Z"
   },
   {
    "duration": 41,
    "start_time": "2023-06-25T16:38:43.944Z"
   },
   {
    "duration": 53,
    "start_time": "2023-06-25T16:38:43.987Z"
   },
   {
    "duration": 53,
    "start_time": "2023-06-25T16:38:44.042Z"
   },
   {
    "duration": 12,
    "start_time": "2023-06-25T16:38:44.097Z"
   },
   {
    "duration": 7,
    "start_time": "2023-06-25T16:38:44.111Z"
   },
   {
    "duration": 7,
    "start_time": "2023-06-25T16:38:44.120Z"
   },
   {
    "duration": 32,
    "start_time": "2023-06-25T16:38:44.130Z"
   },
   {
    "duration": 661,
    "start_time": "2023-06-25T16:38:44.170Z"
   },
   {
    "duration": 26,
    "start_time": "2023-06-25T16:38:44.833Z"
   },
   {
    "duration": 26,
    "start_time": "2023-06-25T16:41:12.614Z"
   },
   {
    "duration": 1005,
    "start_time": "2023-06-25T16:41:13.607Z"
   },
   {
    "duration": 38,
    "start_time": "2023-06-25T16:41:58.838Z"
   },
   {
    "duration": 1026,
    "start_time": "2023-06-25T16:42:00.362Z"
   },
   {
    "duration": 30,
    "start_time": "2023-06-25T16:42:08.300Z"
   },
   {
    "duration": 774,
    "start_time": "2023-06-25T16:42:09.028Z"
   },
   {
    "duration": 7,
    "start_time": "2023-06-25T16:42:26.274Z"
   },
   {
    "duration": 5,
    "start_time": "2023-06-25T16:42:26.930Z"
   },
   {
    "duration": 967,
    "start_time": "2023-06-25T16:42:27.604Z"
   },
   {
    "duration": 8,
    "start_time": "2023-06-25T16:43:03.077Z"
   },
   {
    "duration": 770,
    "start_time": "2023-06-25T16:43:04.940Z"
   },
   {
    "duration": 5,
    "start_time": "2023-06-25T16:43:14.181Z"
   },
   {
    "duration": 12,
    "start_time": "2023-06-25T16:43:48.900Z"
   },
   {
    "duration": 17,
    "start_time": "2023-06-25T16:43:49.725Z"
   },
   {
    "duration": 5,
    "start_time": "2023-06-25T16:43:51.619Z"
   },
   {
    "duration": 21,
    "start_time": "2023-06-25T16:43:51.626Z"
   },
   {
    "duration": 47,
    "start_time": "2023-06-25T16:43:51.650Z"
   },
   {
    "duration": 5,
    "start_time": "2023-06-25T16:43:51.700Z"
   },
   {
    "duration": 5,
    "start_time": "2023-06-25T16:43:51.708Z"
   },
   {
    "duration": 4,
    "start_time": "2023-06-25T16:43:51.738Z"
   },
   {
    "duration": 24,
    "start_time": "2023-06-25T16:43:51.910Z"
   },
   {
    "duration": 835,
    "start_time": "2023-06-25T16:43:52.306Z"
   },
   {
    "duration": 3,
    "start_time": "2023-06-25T16:43:53.416Z"
   },
   {
    "duration": 4,
    "start_time": "2023-06-25T16:43:54.311Z"
   },
   {
    "duration": 1194,
    "start_time": "2023-06-25T16:43:55.112Z"
   },
   {
    "duration": 10,
    "start_time": "2023-06-25T16:44:12.794Z"
   },
   {
    "duration": 784,
    "start_time": "2023-06-25T16:44:14.280Z"
   },
   {
    "duration": 4,
    "start_time": "2023-06-25T16:44:29.492Z"
   },
   {
    "duration": 4,
    "start_time": "2023-06-25T16:44:42.084Z"
   },
   {
    "duration": 7,
    "start_time": "2023-06-25T16:44:43.235Z"
   },
   {
    "duration": 3,
    "start_time": "2023-06-25T16:45:01.099Z"
   },
   {
    "duration": 52,
    "start_time": "2023-06-25T16:45:36.829Z"
   },
   {
    "duration": 5716,
    "start_time": "2023-06-25T16:45:40.678Z"
   },
   {
    "duration": 47778,
    "start_time": "2023-06-25T16:46:04.482Z"
   },
   {
    "duration": 405,
    "start_time": "2023-06-25T16:47:43.290Z"
   },
   {
    "duration": 19430,
    "start_time": "2023-06-25T16:48:27.269Z"
   },
   {
    "duration": 6183,
    "start_time": "2023-06-25T16:48:50.483Z"
   },
   {
    "duration": 2,
    "start_time": "2023-06-25T16:49:18.896Z"
   },
   {
    "duration": 4,
    "start_time": "2023-06-25T16:49:19.992Z"
   },
   {
    "duration": 252,
    "start_time": "2023-06-25T16:49:21.093Z"
   },
   {
    "duration": 7,
    "start_time": "2023-06-25T16:49:27.513Z"
   },
   {
    "duration": 18,
    "start_time": "2023-06-25T16:49:29.889Z"
   },
   {
    "duration": 15,
    "start_time": "2023-06-25T16:50:17.797Z"
   },
   {
    "duration": 182,
    "start_time": "2023-06-25T16:50:52.548Z"
   },
   {
    "duration": 13,
    "start_time": "2023-06-25T16:53:04.542Z"
   },
   {
    "duration": 18,
    "start_time": "2023-06-25T16:53:04.907Z"
   },
   {
    "duration": 3,
    "start_time": "2023-06-25T16:53:05.722Z"
   },
   {
    "duration": 4,
    "start_time": "2023-06-25T16:53:05.919Z"
   },
   {
    "duration": 3,
    "start_time": "2023-06-25T16:53:06.107Z"
   },
   {
    "duration": 4,
    "start_time": "2023-06-25T16:53:06.291Z"
   },
   {
    "duration": 5,
    "start_time": "2023-06-25T16:53:06.486Z"
   },
   {
    "duration": 4,
    "start_time": "2023-06-25T16:53:06.647Z"
   },
   {
    "duration": 34,
    "start_time": "2023-06-25T16:53:06.828Z"
   },
   {
    "duration": 817,
    "start_time": "2023-06-25T16:53:06.991Z"
   },
   {
    "duration": 3,
    "start_time": "2023-06-25T16:53:07.810Z"
   },
   {
    "duration": 8,
    "start_time": "2023-06-25T16:53:07.814Z"
   },
   {
    "duration": 1175,
    "start_time": "2023-06-25T16:53:07.916Z"
   },
   {
    "duration": 31,
    "start_time": "2023-06-25T16:53:22.073Z"
   },
   {
    "duration": 746,
    "start_time": "2023-06-25T16:53:23.918Z"
   },
   {
    "duration": 40,
    "start_time": "2023-06-25T16:54:21.733Z"
   },
   {
    "duration": 757,
    "start_time": "2023-06-25T16:54:22.147Z"
   },
   {
    "duration": 42,
    "start_time": "2023-06-25T16:54:37.434Z"
   },
   {
    "duration": 858,
    "start_time": "2023-06-25T16:54:38.025Z"
   },
   {
    "duration": 3,
    "start_time": "2023-06-25T16:54:47.923Z"
   },
   {
    "duration": 5,
    "start_time": "2023-06-25T16:54:51.011Z"
   },
   {
    "duration": 881,
    "start_time": "2023-06-25T16:54:52.707Z"
   },
   {
    "duration": 8,
    "start_time": "2023-06-25T16:55:20.413Z"
   },
   {
    "duration": 1053,
    "start_time": "2023-06-25T16:55:21.536Z"
   },
   {
    "duration": 25,
    "start_time": "2023-06-25T16:55:29.972Z"
   },
   {
    "duration": 41,
    "start_time": "2023-06-25T16:55:30.141Z"
   },
   {
    "duration": 4,
    "start_time": "2023-06-25T16:55:30.489Z"
   },
   {
    "duration": 11,
    "start_time": "2023-06-25T16:55:30.660Z"
   },
   {
    "duration": 119,
    "start_time": "2023-06-25T16:55:30.822Z"
   },
   {
    "duration": 14,
    "start_time": "2023-06-25T16:55:31.001Z"
   },
   {
    "duration": 5,
    "start_time": "2023-06-25T16:55:31.193Z"
   },
   {
    "duration": 7,
    "start_time": "2023-06-25T16:55:31.376Z"
   },
   {
    "duration": 41,
    "start_time": "2023-06-25T16:55:31.542Z"
   },
   {
    "duration": 851,
    "start_time": "2023-06-25T16:55:31.713Z"
   },
   {
    "duration": 7,
    "start_time": "2023-06-25T16:55:32.572Z"
   },
   {
    "duration": 45,
    "start_time": "2023-06-25T16:55:32.587Z"
   },
   {
    "duration": 990,
    "start_time": "2023-06-25T16:55:32.635Z"
   },
   {
    "duration": 7,
    "start_time": "2023-06-25T16:55:33.627Z"
   },
   {
    "duration": 809,
    "start_time": "2023-06-25T16:55:33.636Z"
   },
   {
    "duration": 4,
    "start_time": "2023-06-25T16:55:36.924Z"
   },
   {
    "duration": 7,
    "start_time": "2023-06-25T16:55:37.331Z"
   },
   {
    "duration": 3,
    "start_time": "2023-06-25T16:55:37.919Z"
   },
   {
    "duration": 43,
    "start_time": "2023-06-25T16:55:38.428Z"
   },
   {
    "duration": 5587,
    "start_time": "2023-06-25T16:55:39.799Z"
   },
   {
    "duration": 46903,
    "start_time": "2023-06-25T16:55:48.885Z"
   },
   {
    "duration": 20657,
    "start_time": "2023-06-25T16:56:38.307Z"
   },
   {
    "duration": 3361,
    "start_time": "2023-06-25T16:57:06.172Z"
   },
   {
    "duration": 4,
    "start_time": "2023-06-25T16:57:12.502Z"
   },
   {
    "duration": 7,
    "start_time": "2023-06-25T16:57:12.894Z"
   },
   {
    "duration": 83,
    "start_time": "2023-06-25T16:57:13.344Z"
   },
   {
    "duration": 7,
    "start_time": "2023-06-25T16:57:14.299Z"
   },
   {
    "duration": 27,
    "start_time": "2023-06-25T16:57:14.976Z"
   },
   {
    "duration": 34,
    "start_time": "2023-06-25T16:57:19.460Z"
   },
   {
    "duration": 181,
    "start_time": "2023-06-25T16:57:26.620Z"
   },
   {
    "duration": 11,
    "start_time": "2023-06-25T16:58:32.938Z"
   },
   {
    "duration": 16,
    "start_time": "2023-06-25T16:58:33.193Z"
   },
   {
    "duration": 12,
    "start_time": "2023-06-25T16:58:33.671Z"
   },
   {
    "duration": 4,
    "start_time": "2023-06-25T16:58:33.820Z"
   },
   {
    "duration": 3,
    "start_time": "2023-06-25T16:58:34.004Z"
   },
   {
    "duration": 4,
    "start_time": "2023-06-25T16:58:34.190Z"
   },
   {
    "duration": 3,
    "start_time": "2023-06-25T16:58:34.340Z"
   },
   {
    "duration": 4,
    "start_time": "2023-06-25T16:58:34.515Z"
   },
   {
    "duration": 24,
    "start_time": "2023-06-25T16:58:34.691Z"
   },
   {
    "duration": 1086,
    "start_time": "2023-06-25T16:58:34.850Z"
   },
   {
    "duration": 23,
    "start_time": "2023-06-25T16:58:35.938Z"
   },
   {
    "duration": 51,
    "start_time": "2023-06-25T16:58:35.972Z"
   },
   {
    "duration": 975,
    "start_time": "2023-06-25T16:58:36.025Z"
   },
   {
    "duration": 8,
    "start_time": "2023-06-25T16:58:37.002Z"
   },
   {
    "duration": 852,
    "start_time": "2023-06-25T16:58:37.012Z"
   },
   {
    "duration": 21,
    "start_time": "2023-06-25T16:58:37.870Z"
   },
   {
    "duration": 39,
    "start_time": "2023-06-25T16:58:37.893Z"
   },
   {
    "duration": 12,
    "start_time": "2023-06-25T16:58:37.934Z"
   },
   {
    "duration": 75,
    "start_time": "2023-06-25T16:58:37.948Z"
   },
   {
    "duration": 5072,
    "start_time": "2023-06-25T16:58:38.025Z"
   },
   {
    "duration": 43906,
    "start_time": "2023-06-25T16:58:43.102Z"
   },
   {
    "duration": 14266,
    "start_time": "2023-06-25T16:59:27.010Z"
   },
   {
    "duration": 4326,
    "start_time": "2023-06-25T16:59:41.285Z"
   },
   {
    "duration": 3,
    "start_time": "2023-06-25T16:59:45.614Z"
   },
   {
    "duration": 64,
    "start_time": "2023-06-25T16:59:45.618Z"
   },
   {
    "duration": 56,
    "start_time": "2023-06-25T16:59:45.688Z"
   },
   {
    "duration": 14,
    "start_time": "2023-06-25T16:59:45.746Z"
   },
   {
    "duration": 42,
    "start_time": "2023-06-25T16:59:45.762Z"
   },
   {
    "duration": 10,
    "start_time": "2023-06-25T16:59:45.806Z"
   },
   {
    "duration": 179,
    "start_time": "2023-06-25T16:59:45.818Z"
   },
   {
    "duration": 18,
    "start_time": "2023-06-25T17:01:18.951Z"
   },
   {
    "duration": 41,
    "start_time": "2023-06-25T17:01:19.172Z"
   },
   {
    "duration": 3,
    "start_time": "2023-06-25T17:01:19.502Z"
   },
   {
    "duration": 9,
    "start_time": "2023-06-25T17:01:19.692Z"
   },
   {
    "duration": 3,
    "start_time": "2023-06-25T17:01:19.842Z"
   },
   {
    "duration": 3,
    "start_time": "2023-06-25T17:01:20.011Z"
   },
   {
    "duration": 4,
    "start_time": "2023-06-25T17:01:20.196Z"
   },
   {
    "duration": 5,
    "start_time": "2023-06-25T17:01:20.344Z"
   },
   {
    "duration": 24,
    "start_time": "2023-06-25T17:01:20.522Z"
   },
   {
    "duration": 821,
    "start_time": "2023-06-25T17:01:20.697Z"
   },
   {
    "duration": 3,
    "start_time": "2023-06-25T17:01:21.521Z"
   },
   {
    "duration": 7,
    "start_time": "2023-06-25T17:01:21.526Z"
   },
   {
    "duration": 1209,
    "start_time": "2023-06-25T17:01:21.535Z"
   },
   {
    "duration": 18,
    "start_time": "2023-06-25T17:01:22.765Z"
   },
   {
    "duration": 855,
    "start_time": "2023-06-25T17:01:22.786Z"
   },
   {
    "duration": 23,
    "start_time": "2023-06-25T17:01:23.643Z"
   },
   {
    "duration": 43,
    "start_time": "2023-06-25T17:01:23.676Z"
   },
   {
    "duration": 12,
    "start_time": "2023-06-25T17:01:23.721Z"
   },
   {
    "duration": 43,
    "start_time": "2023-06-25T17:01:23.735Z"
   },
   {
    "duration": 5610,
    "start_time": "2023-06-25T17:01:23.784Z"
   },
   {
    "duration": 48184,
    "start_time": "2023-06-25T17:01:29.404Z"
   },
   {
    "duration": 24362,
    "start_time": "2023-06-25T17:02:17.597Z"
   },
   {
    "duration": 6547,
    "start_time": "2023-06-25T17:02:41.970Z"
   },
   {
    "duration": 4,
    "start_time": "2023-06-25T17:02:48.519Z"
   },
   {
    "duration": 38,
    "start_time": "2023-06-25T17:02:48.526Z"
   },
   {
    "duration": 110,
    "start_time": "2023-06-25T17:02:48.565Z"
   },
   {
    "duration": 22,
    "start_time": "2023-06-25T17:02:48.677Z"
   },
   {
    "duration": 42,
    "start_time": "2023-06-25T17:02:48.701Z"
   },
   {
    "duration": 29,
    "start_time": "2023-06-25T17:02:48.746Z"
   },
   {
    "duration": 223,
    "start_time": "2023-06-25T17:02:48.777Z"
   },
   {
    "duration": 89,
    "start_time": "2023-06-25T17:03:34.082Z"
   },
   {
    "duration": 15,
    "start_time": "2023-06-25T17:03:38.928Z"
   },
   {
    "duration": 11,
    "start_time": "2023-06-25T17:03:46.833Z"
   },
   {
    "duration": 22,
    "start_time": "2023-06-25T17:03:51.394Z"
   },
   {
    "duration": 1897,
    "start_time": "2023-06-25T17:05:08.523Z"
   },
   {
    "duration": 23630,
    "start_time": "2023-06-25T17:06:10.140Z"
   },
   {
    "duration": 86224,
    "start_time": "2023-06-25T17:07:33.034Z"
   },
   {
    "duration": 1174,
    "start_time": "2023-06-25T17:10:01.833Z"
   },
   {
    "duration": 87941,
    "start_time": "2023-06-25T17:11:39.034Z"
   },
   {
    "duration": 40941,
    "start_time": "2023-06-25T17:13:57.282Z"
   },
   {
    "duration": 2869,
    "start_time": "2023-06-25T17:15:01.295Z"
   },
   {
    "duration": 40,
    "start_time": "2023-06-25T17:15:10.586Z"
   },
   {
    "duration": 30,
    "start_time": "2023-06-25T17:15:10.917Z"
   },
   {
    "duration": 13,
    "start_time": "2023-06-25T17:15:30.802Z"
   },
   {
    "duration": 25,
    "start_time": "2023-06-25T17:15:30.985Z"
   },
   {
    "duration": 2,
    "start_time": "2023-06-25T17:15:31.326Z"
   },
   {
    "duration": 5,
    "start_time": "2023-06-25T17:15:31.498Z"
   },
   {
    "duration": 11,
    "start_time": "2023-06-25T17:15:31.680Z"
   },
   {
    "duration": 4,
    "start_time": "2023-06-25T17:15:31.842Z"
   },
   {
    "duration": 3,
    "start_time": "2023-06-25T17:15:32.005Z"
   },
   {
    "duration": 4,
    "start_time": "2023-06-25T17:15:32.319Z"
   },
   {
    "duration": 50,
    "start_time": "2023-06-25T17:15:32.547Z"
   },
   {
    "duration": 840,
    "start_time": "2023-06-25T17:15:32.701Z"
   },
   {
    "duration": 10,
    "start_time": "2023-06-25T17:15:33.551Z"
   },
   {
    "duration": 40,
    "start_time": "2023-06-25T17:15:33.568Z"
   },
   {
    "duration": 919,
    "start_time": "2023-06-25T17:15:33.694Z"
   },
   {
    "duration": 328,
    "start_time": "2023-06-25T17:15:34.615Z"
   },
   {
    "duration": 903,
    "start_time": "2023-06-25T17:15:34.944Z"
   },
   {
    "duration": 11,
    "start_time": "2023-06-25T17:15:35.852Z"
   },
   {
    "duration": 50,
    "start_time": "2023-06-25T17:15:35.877Z"
   },
   {
    "duration": 73,
    "start_time": "2023-06-25T17:15:35.929Z"
   },
   {
    "duration": 31,
    "start_time": "2023-06-25T17:15:37.404Z"
   },
   {
    "duration": 3,
    "start_time": "2023-06-25T17:15:41.403Z"
   },
   {
    "duration": 5,
    "start_time": "2023-06-25T17:15:42.145Z"
   },
   {
    "duration": 67,
    "start_time": "2023-06-25T17:15:42.850Z"
   },
   {
    "duration": 5,
    "start_time": "2023-06-25T17:15:43.442Z"
   },
   {
    "duration": 15,
    "start_time": "2023-06-25T17:15:44.101Z"
   },
   {
    "duration": 27,
    "start_time": "2023-06-25T17:15:48.976Z"
   },
   {
    "duration": 184,
    "start_time": "2023-06-25T17:15:55.507Z"
   },
   {
    "duration": 13,
    "start_time": "2023-06-25T17:19:29.441Z"
   },
   {
    "duration": 18,
    "start_time": "2023-06-25T17:19:29.832Z"
   },
   {
    "duration": 11,
    "start_time": "2023-06-25T17:19:31.354Z"
   },
   {
    "duration": 8,
    "start_time": "2023-06-25T17:19:31.582Z"
   },
   {
    "duration": 6,
    "start_time": "2023-06-25T17:19:32.084Z"
   },
   {
    "duration": 14,
    "start_time": "2023-06-25T17:19:32.157Z"
   },
   {
    "duration": 3,
    "start_time": "2023-06-25T17:19:32.236Z"
   },
   {
    "duration": 4,
    "start_time": "2023-06-25T17:19:32.320Z"
   },
   {
    "duration": 31,
    "start_time": "2023-06-25T17:19:32.406Z"
   },
   {
    "duration": 848,
    "start_time": "2023-06-25T17:19:32.490Z"
   },
   {
    "duration": 3,
    "start_time": "2023-06-25T17:19:33.341Z"
   },
   {
    "duration": 59,
    "start_time": "2023-06-25T17:19:33.345Z"
   },
   {
    "duration": 885,
    "start_time": "2023-06-25T17:19:33.406Z"
   },
   {
    "duration": 7,
    "start_time": "2023-06-25T17:19:34.293Z"
   },
   {
    "duration": 798,
    "start_time": "2023-06-25T17:19:34.302Z"
   },
   {
    "duration": 4,
    "start_time": "2023-06-25T17:19:35.102Z"
   },
   {
    "duration": 15,
    "start_time": "2023-06-25T17:19:35.107Z"
   },
   {
    "duration": 14,
    "start_time": "2023-06-25T17:19:35.124Z"
   },
   {
    "duration": 47,
    "start_time": "2023-06-25T17:19:35.140Z"
   },
   {
    "duration": 0,
    "start_time": "2023-06-25T17:19:35.189Z"
   },
   {
    "duration": 0,
    "start_time": "2023-06-25T17:19:35.190Z"
   },
   {
    "duration": 0,
    "start_time": "2023-06-25T17:19:35.190Z"
   },
   {
    "duration": 0,
    "start_time": "2023-06-25T17:19:35.193Z"
   },
   {
    "duration": 0,
    "start_time": "2023-06-25T17:19:35.195Z"
   },
   {
    "duration": 0,
    "start_time": "2023-06-25T17:19:35.196Z"
   },
   {
    "duration": 0,
    "start_time": "2023-06-25T17:19:35.198Z"
   },
   {
    "duration": 0,
    "start_time": "2023-06-25T17:19:35.199Z"
   },
   {
    "duration": 0,
    "start_time": "2023-06-25T17:19:35.200Z"
   },
   {
    "duration": 20,
    "start_time": "2023-06-25T17:19:35.318Z"
   },
   {
    "duration": 187,
    "start_time": "2023-06-25T17:19:35.906Z"
   },
   {
    "duration": 3,
    "start_time": "2023-06-25T17:19:36.409Z"
   },
   {
    "duration": 12,
    "start_time": "2023-06-25T17:20:14.501Z"
   },
   {
    "duration": 20,
    "start_time": "2023-06-25T17:20:14.794Z"
   },
   {
    "duration": 7,
    "start_time": "2023-06-25T17:20:15.382Z"
   },
   {
    "duration": 5,
    "start_time": "2023-06-25T17:20:15.692Z"
   },
   {
    "duration": 5,
    "start_time": "2023-06-25T17:20:16.060Z"
   },
   {
    "duration": 4,
    "start_time": "2023-06-25T17:20:16.336Z"
   },
   {
    "duration": 3,
    "start_time": "2023-06-25T17:20:16.533Z"
   },
   {
    "duration": 5,
    "start_time": "2023-06-25T17:20:16.743Z"
   },
   {
    "duration": 24,
    "start_time": "2023-06-25T17:20:16.907Z"
   },
   {
    "duration": 803,
    "start_time": "2023-06-25T17:20:17.080Z"
   },
   {
    "duration": 11,
    "start_time": "2023-06-25T17:20:17.889Z"
   },
   {
    "duration": 8,
    "start_time": "2023-06-25T17:20:17.904Z"
   },
   {
    "duration": 1261,
    "start_time": "2023-06-25T17:20:17.914Z"
   },
   {
    "duration": 12,
    "start_time": "2023-06-25T17:20:19.184Z"
   },
   {
    "duration": 863,
    "start_time": "2023-06-25T17:20:19.200Z"
   },
   {
    "duration": 3,
    "start_time": "2023-06-25T17:20:20.066Z"
   },
   {
    "duration": 37,
    "start_time": "2023-06-25T17:20:20.073Z"
   },
   {
    "duration": 3,
    "start_time": "2023-06-25T17:20:20.112Z"
   },
   {
    "duration": 42,
    "start_time": "2023-06-25T17:20:20.117Z"
   },
   {
    "duration": 19850,
    "start_time": "2023-06-25T17:20:20.161Z"
   },
   {
    "duration": 80467,
    "start_time": "2023-06-25T17:20:40.013Z"
   },
   {
    "duration": 48761,
    "start_time": "2023-06-25T17:22:00.483Z"
   },
   {
    "duration": 9534,
    "start_time": "2023-06-25T17:22:49.246Z"
   },
   {
    "duration": 14,
    "start_time": "2023-06-25T17:22:58.782Z"
   },
   {
    "duration": 28,
    "start_time": "2023-06-25T17:22:58.799Z"
   },
   {
    "duration": 89,
    "start_time": "2023-06-25T17:22:58.830Z"
   },
   {
    "duration": 13,
    "start_time": "2023-06-25T17:22:58.921Z"
   },
   {
    "duration": 41,
    "start_time": "2023-06-25T17:22:58.937Z"
   },
   {
    "duration": 37,
    "start_time": "2023-06-25T17:22:58.986Z"
   },
   {
    "duration": 204,
    "start_time": "2023-06-25T17:22:59.025Z"
   },
   {
    "duration": 5,
    "start_time": "2023-06-25T17:28:20.405Z"
   },
   {
    "duration": 19,
    "start_time": "2023-06-25T17:30:34.955Z"
   },
   {
    "duration": 31,
    "start_time": "2023-06-25T17:30:35.147Z"
   },
   {
    "duration": 6,
    "start_time": "2023-06-25T17:30:36.295Z"
   },
   {
    "duration": 4,
    "start_time": "2023-06-25T17:30:36.608Z"
   },
   {
    "duration": 6,
    "start_time": "2023-06-25T17:30:37.102Z"
   },
   {
    "duration": 4,
    "start_time": "2023-06-25T17:30:37.500Z"
   },
   {
    "duration": 4,
    "start_time": "2023-06-25T17:30:38.636Z"
   },
   {
    "duration": 10,
    "start_time": "2023-06-25T17:30:38.879Z"
   },
   {
    "duration": 42,
    "start_time": "2023-06-25T17:30:40.415Z"
   },
   {
    "duration": 1008,
    "start_time": "2023-06-25T17:30:41.523Z"
   },
   {
    "duration": 4,
    "start_time": "2023-06-25T17:30:57.279Z"
   },
   {
    "duration": 6,
    "start_time": "2023-06-25T17:30:58.787Z"
   },
   {
    "duration": 1530,
    "start_time": "2023-06-25T17:31:00.751Z"
   },
   {
    "duration": 22,
    "start_time": "2023-06-25T17:32:34.581Z"
   },
   {
    "duration": 18,
    "start_time": "2023-06-25T17:32:34.795Z"
   },
   {
    "duration": 9,
    "start_time": "2023-06-25T17:32:35.393Z"
   },
   {
    "duration": 4,
    "start_time": "2023-06-25T17:32:35.629Z"
   },
   {
    "duration": 8,
    "start_time": "2023-06-25T17:32:35.949Z"
   },
   {
    "duration": 3,
    "start_time": "2023-06-25T17:32:36.321Z"
   },
   {
    "duration": 4,
    "start_time": "2023-06-25T17:32:36.902Z"
   },
   {
    "duration": 4,
    "start_time": "2023-06-25T17:32:37.096Z"
   },
   {
    "duration": 34,
    "start_time": "2023-06-25T17:32:37.583Z"
   },
   {
    "duration": 1278,
    "start_time": "2023-06-25T17:32:38.606Z"
   },
   {
    "duration": 4,
    "start_time": "2023-06-25T17:32:57.693Z"
   },
   {
    "duration": 7,
    "start_time": "2023-06-25T17:32:58.988Z"
   },
   {
    "duration": 1386,
    "start_time": "2023-06-25T17:32:59.428Z"
   },
   {
    "duration": 12,
    "start_time": "2023-06-25T17:34:00.497Z"
   },
   {
    "duration": 802,
    "start_time": "2023-06-25T17:34:01.114Z"
   },
   {
    "duration": 5,
    "start_time": "2023-06-25T17:34:21.783Z"
   },
   {
    "duration": 7,
    "start_time": "2023-06-25T17:34:23.389Z"
   },
   {
    "duration": 4,
    "start_time": "2023-06-25T17:34:23.908Z"
   },
   {
    "duration": 25,
    "start_time": "2023-06-25T17:35:00.785Z"
   },
   {
    "duration": 28,
    "start_time": "2023-06-25T17:35:33.377Z"
   },
   {
    "duration": 4,
    "start_time": "2023-06-25T17:35:46.006Z"
   },
   {
    "duration": 5,
    "start_time": "2023-06-25T17:35:52.815Z"
   },
   {
    "duration": 31,
    "start_time": "2023-06-25T17:36:05.534Z"
   },
   {
    "duration": 27,
    "start_time": "2023-06-25T17:36:28.072Z"
   },
   {
    "duration": 28,
    "start_time": "2023-06-25T17:36:32.576Z"
   },
   {
    "duration": 5,
    "start_time": "2023-06-25T17:36:42.802Z"
   },
   {
    "duration": 10,
    "start_time": "2023-06-25T17:37:09.915Z"
   },
   {
    "duration": 19,
    "start_time": "2023-06-25T17:37:10.409Z"
   },
   {
    "duration": 5,
    "start_time": "2023-06-25T17:37:10.582Z"
   },
   {
    "duration": 8,
    "start_time": "2023-06-25T17:37:10.654Z"
   },
   {
    "duration": 3,
    "start_time": "2023-06-25T17:37:10.735Z"
   },
   {
    "duration": 4,
    "start_time": "2023-06-25T17:37:10.826Z"
   },
   {
    "duration": 2,
    "start_time": "2023-06-25T17:37:11.074Z"
   },
   {
    "duration": 4,
    "start_time": "2023-06-25T17:37:11.242Z"
   },
   {
    "duration": 26,
    "start_time": "2023-06-25T17:37:11.411Z"
   },
   {
    "duration": 1409,
    "start_time": "2023-06-25T17:37:11.579Z"
   },
   {
    "duration": 3,
    "start_time": "2023-06-25T17:37:12.991Z"
   },
   {
    "duration": 20,
    "start_time": "2023-06-25T17:37:12.996Z"
   },
   {
    "duration": 1396,
    "start_time": "2023-06-25T17:37:13.018Z"
   },
   {
    "duration": 8,
    "start_time": "2023-06-25T17:37:14.416Z"
   },
   {
    "duration": 782,
    "start_time": "2023-06-25T17:37:14.427Z"
   },
   {
    "duration": 3,
    "start_time": "2023-06-25T17:37:15.211Z"
   },
   {
    "duration": 28,
    "start_time": "2023-06-25T17:37:15.216Z"
   },
   {
    "duration": 12,
    "start_time": "2023-06-25T17:37:15.246Z"
   },
   {
    "duration": 15,
    "start_time": "2023-06-25T17:37:15.856Z"
   },
   {
    "duration": 34,
    "start_time": "2023-06-25T17:37:17.060Z"
   },
   {
    "duration": 5,
    "start_time": "2023-06-25T17:37:34.707Z"
   },
   {
    "duration": 18,
    "start_time": "2023-06-25T17:38:12.014Z"
   },
   {
    "duration": 19,
    "start_time": "2023-06-25T17:39:25.999Z"
   },
   {
    "duration": 22,
    "start_time": "2023-06-25T17:39:38.395Z"
   },
   {
    "duration": 18,
    "start_time": "2023-06-25T17:39:55.280Z"
   },
   {
    "duration": 14,
    "start_time": "2023-06-25T17:40:33.180Z"
   },
   {
    "duration": 17,
    "start_time": "2023-06-25T17:40:33.684Z"
   },
   {
    "duration": 3,
    "start_time": "2023-06-25T17:40:33.832Z"
   },
   {
    "duration": 4,
    "start_time": "2023-06-25T17:40:33.919Z"
   },
   {
    "duration": 3,
    "start_time": "2023-06-25T17:40:33.995Z"
   },
   {
    "duration": 5,
    "start_time": "2023-06-25T17:40:34.092Z"
   },
   {
    "duration": 4,
    "start_time": "2023-06-25T17:40:34.182Z"
   },
   {
    "duration": 4,
    "start_time": "2023-06-25T17:40:34.245Z"
   },
   {
    "duration": 43,
    "start_time": "2023-06-25T17:40:34.336Z"
   },
   {
    "duration": 1193,
    "start_time": "2023-06-25T17:40:34.412Z"
   },
   {
    "duration": 4,
    "start_time": "2023-06-25T17:40:35.611Z"
   },
   {
    "duration": 17,
    "start_time": "2023-06-25T17:40:35.617Z"
   },
   {
    "duration": 1775,
    "start_time": "2023-06-25T17:40:35.636Z"
   },
   {
    "duration": 7,
    "start_time": "2023-06-25T17:40:37.413Z"
   },
   {
    "duration": 1180,
    "start_time": "2023-06-25T17:40:37.422Z"
   },
   {
    "duration": 7,
    "start_time": "2023-06-25T17:40:38.609Z"
   },
   {
    "duration": 81,
    "start_time": "2023-06-25T17:40:38.618Z"
   },
   {
    "duration": 31,
    "start_time": "2023-06-25T17:40:38.701Z"
   },
   {
    "duration": 14,
    "start_time": "2023-06-25T17:40:38.735Z"
   },
   {
    "duration": 74,
    "start_time": "2023-06-25T17:40:38.751Z"
   },
   {
    "duration": 0,
    "start_time": "2023-06-25T17:40:38.827Z"
   },
   {
    "duration": 0,
    "start_time": "2023-06-25T17:40:38.828Z"
   },
   {
    "duration": 10,
    "start_time": "2023-06-25T17:41:18.129Z"
   },
   {
    "duration": 24,
    "start_time": "2023-06-25T17:41:18.341Z"
   },
   {
    "duration": 8,
    "start_time": "2023-06-25T17:41:18.677Z"
   },
   {
    "duration": 5,
    "start_time": "2023-06-25T17:41:18.829Z"
   },
   {
    "duration": 3,
    "start_time": "2023-06-25T17:41:18.990Z"
   },
   {
    "duration": 3,
    "start_time": "2023-06-25T17:41:19.137Z"
   },
   {
    "duration": 2,
    "start_time": "2023-06-25T17:41:19.294Z"
   },
   {
    "duration": 8,
    "start_time": "2023-06-25T17:41:19.449Z"
   },
   {
    "duration": 26,
    "start_time": "2023-06-25T17:41:19.603Z"
   },
   {
    "duration": 1164,
    "start_time": "2023-06-25T17:41:19.770Z"
   },
   {
    "duration": 2,
    "start_time": "2023-06-25T17:41:20.936Z"
   },
   {
    "duration": 57,
    "start_time": "2023-06-25T17:41:20.940Z"
   },
   {
    "duration": 1649,
    "start_time": "2023-06-25T17:41:20.999Z"
   },
   {
    "duration": 23,
    "start_time": "2023-06-25T17:41:22.650Z"
   },
   {
    "duration": 855,
    "start_time": "2023-06-25T17:41:22.726Z"
   },
   {
    "duration": 6,
    "start_time": "2023-06-25T17:41:23.585Z"
   },
   {
    "duration": 12,
    "start_time": "2023-06-25T17:41:24.374Z"
   },
   {
    "duration": 9,
    "start_time": "2023-06-25T17:41:25.870Z"
   },
   {
    "duration": 5,
    "start_time": "2023-06-25T17:41:26.480Z"
   },
   {
    "duration": 25,
    "start_time": "2023-06-25T17:41:34.626Z"
   },
   {
    "duration": 12,
    "start_time": "2023-06-25T17:42:09.121Z"
   },
   {
    "duration": 16,
    "start_time": "2023-06-25T17:42:09.617Z"
   },
   {
    "duration": 4,
    "start_time": "2023-06-25T17:42:09.784Z"
   },
   {
    "duration": 5,
    "start_time": "2023-06-25T17:42:09.884Z"
   },
   {
    "duration": 3,
    "start_time": "2023-06-25T17:42:09.945Z"
   },
   {
    "duration": 4,
    "start_time": "2023-06-25T17:42:10.029Z"
   },
   {
    "duration": 3,
    "start_time": "2023-06-25T17:42:10.113Z"
   },
   {
    "duration": 4,
    "start_time": "2023-06-25T17:42:10.197Z"
   },
   {
    "duration": 27,
    "start_time": "2023-06-25T17:42:10.292Z"
   },
   {
    "duration": 1216,
    "start_time": "2023-06-25T17:42:10.383Z"
   },
   {
    "duration": 3,
    "start_time": "2023-06-25T17:42:11.601Z"
   },
   {
    "duration": 87,
    "start_time": "2023-06-25T17:42:11.606Z"
   },
   {
    "duration": 1316,
    "start_time": "2023-06-25T17:42:11.696Z"
   },
   {
    "duration": 302,
    "start_time": "2023-06-25T17:42:13.014Z"
   },
   {
    "duration": 795,
    "start_time": "2023-06-25T17:42:13.319Z"
   },
   {
    "duration": 4,
    "start_time": "2023-06-25T17:42:14.117Z"
   },
   {
    "duration": 13,
    "start_time": "2023-06-25T17:42:14.123Z"
   },
   {
    "duration": 21,
    "start_time": "2023-06-25T17:42:14.137Z"
   },
   {
    "duration": 33,
    "start_time": "2023-06-25T17:42:14.160Z"
   },
   {
    "duration": 155,
    "start_time": "2023-06-25T17:42:14.195Z"
   },
   {
    "duration": 0,
    "start_time": "2023-06-25T17:42:14.361Z"
   },
   {
    "duration": 0,
    "start_time": "2023-06-25T17:42:14.362Z"
   },
   {
    "duration": 309,
    "start_time": "2023-06-25T17:42:29.282Z"
   },
   {
    "duration": 35,
    "start_time": "2023-06-25T17:42:51.780Z"
   },
   {
    "duration": 26804,
    "start_time": "2023-06-25T17:43:03.483Z"
   },
   {
    "duration": 80898,
    "start_time": "2023-06-25T17:43:30.292Z"
   },
   {
    "duration": 51755,
    "start_time": "2023-06-25T17:44:51.198Z"
   },
   {
    "duration": 6460,
    "start_time": "2023-06-25T17:45:48.101Z"
   },
   {
    "duration": 5,
    "start_time": "2023-06-25T17:45:58.196Z"
   },
   {
    "duration": 5,
    "start_time": "2023-06-25T17:45:58.833Z"
   },
   {
    "duration": 67,
    "start_time": "2023-06-25T17:45:59.377Z"
   },
   {
    "duration": 7,
    "start_time": "2023-06-25T17:46:00.806Z"
   },
   {
    "duration": 4,
    "start_time": "2023-06-25T17:46:04.310Z"
   },
   {
    "duration": 51,
    "start_time": "2023-06-25T17:46:11.141Z"
   },
   {
    "duration": 17,
    "start_time": "2023-06-25T17:46:17.287Z"
   },
   {
    "duration": 51,
    "start_time": "2023-06-25T17:46:18.849Z"
   },
   {
    "duration": 2942,
    "start_time": "2023-06-25T17:46:26.874Z"
   },
   {
    "duration": 15,
    "start_time": "2023-06-25T17:48:11.802Z"
   },
   {
    "duration": 31,
    "start_time": "2023-06-25T17:48:12.037Z"
   },
   {
    "duration": 3,
    "start_time": "2023-06-25T17:48:12.734Z"
   },
   {
    "duration": 4,
    "start_time": "2023-06-25T17:48:13.028Z"
   },
   {
    "duration": 4,
    "start_time": "2023-06-25T17:48:13.427Z"
   },
   {
    "duration": 3,
    "start_time": "2023-06-25T17:48:13.715Z"
   },
   {
    "duration": 3,
    "start_time": "2023-06-25T17:48:14.031Z"
   },
   {
    "duration": 14,
    "start_time": "2023-06-25T17:48:14.473Z"
   },
   {
    "duration": 36,
    "start_time": "2023-06-25T17:48:15.096Z"
   },
   {
    "duration": 884,
    "start_time": "2023-06-25T17:48:16.107Z"
   },
   {
    "duration": 26,
    "start_time": "2023-06-25T17:48:41.909Z"
   },
   {
    "duration": 985,
    "start_time": "2023-06-25T17:48:42.421Z"
   },
   {
    "duration": 17,
    "start_time": "2023-06-25T17:49:01.574Z"
   },
   {
    "duration": 18,
    "start_time": "2023-06-25T17:49:01.819Z"
   },
   {
    "duration": 4,
    "start_time": "2023-06-25T17:49:02.200Z"
   },
   {
    "duration": 65,
    "start_time": "2023-06-25T17:49:02.340Z"
   },
   {
    "duration": 9,
    "start_time": "2023-06-25T17:49:02.507Z"
   },
   {
    "duration": 12,
    "start_time": "2023-06-25T17:49:02.681Z"
   },
   {
    "duration": 14,
    "start_time": "2023-06-25T17:49:02.849Z"
   },
   {
    "duration": 4,
    "start_time": "2023-06-25T17:49:03.007Z"
   },
   {
    "duration": 23,
    "start_time": "2023-06-25T17:49:03.193Z"
   },
   {
    "duration": 1010,
    "start_time": "2023-06-25T17:49:03.974Z"
   },
   {
    "duration": 5,
    "start_time": "2023-06-25T17:49:22.587Z"
   },
   {
    "duration": 4,
    "start_time": "2023-06-25T17:49:24.811Z"
   },
   {
    "duration": 1490,
    "start_time": "2023-06-25T17:49:25.628Z"
   },
   {
    "duration": 8,
    "start_time": "2023-06-25T17:49:47.834Z"
   },
   {
    "duration": 790,
    "start_time": "2023-06-25T17:49:48.907Z"
   },
   {
    "duration": 3,
    "start_time": "2023-06-25T17:49:52.929Z"
   },
   {
    "duration": 3,
    "start_time": "2023-06-25T17:50:07.895Z"
   },
   {
    "duration": 6,
    "start_time": "2023-06-25T17:50:11.044Z"
   },
   {
    "duration": 3,
    "start_time": "2023-06-25T17:50:13.224Z"
   },
   {
    "duration": 43,
    "start_time": "2023-06-25T17:50:14.650Z"
   },
   {
    "duration": 25212,
    "start_time": "2023-06-25T17:50:16.403Z"
   },
   {
    "duration": 83045,
    "start_time": "2023-06-25T17:50:44.540Z"
   },
   {
    "duration": 27468,
    "start_time": "2023-06-25T17:52:54.615Z"
   },
   {
    "duration": 4863,
    "start_time": "2023-06-25T17:55:44.949Z"
   },
   {
    "duration": 4,
    "start_time": "2023-06-25T17:55:52.030Z"
   },
   {
    "duration": 4,
    "start_time": "2023-06-25T17:55:52.924Z"
   },
   {
    "duration": 64,
    "start_time": "2023-06-25T17:55:53.193Z"
   },
   {
    "duration": 6,
    "start_time": "2023-06-25T17:55:53.940Z"
   },
   {
    "duration": 19,
    "start_time": "2023-06-25T17:55:55.694Z"
   },
   {
    "duration": 29,
    "start_time": "2023-06-25T17:55:57.592Z"
   },
   {
    "duration": 192,
    "start_time": "2023-06-25T17:56:02.832Z"
   },
   {
    "duration": 17,
    "start_time": "2023-06-25T17:59:14.641Z"
   },
   {
    "duration": 18,
    "start_time": "2023-06-25T17:59:14.819Z"
   },
   {
    "duration": 4,
    "start_time": "2023-06-25T17:59:15.200Z"
   },
   {
    "duration": 8,
    "start_time": "2023-06-25T17:59:15.402Z"
   },
   {
    "duration": 4,
    "start_time": "2023-06-25T17:59:15.631Z"
   },
   {
    "duration": 4,
    "start_time": "2023-06-25T17:59:15.823Z"
   },
   {
    "duration": 4,
    "start_time": "2023-06-25T17:59:16.002Z"
   },
   {
    "duration": 11,
    "start_time": "2023-06-25T17:59:16.192Z"
   },
   {
    "duration": 45,
    "start_time": "2023-06-25T17:59:16.376Z"
   },
   {
    "duration": 1001,
    "start_time": "2023-06-25T17:59:16.536Z"
   },
   {
    "duration": 3,
    "start_time": "2023-06-25T17:59:17.540Z"
   },
   {
    "duration": 58,
    "start_time": "2023-06-25T17:59:17.544Z"
   },
   {
    "duration": 1553,
    "start_time": "2023-06-25T17:59:17.605Z"
   },
   {
    "duration": 20,
    "start_time": "2023-06-25T17:59:19.169Z"
   },
   {
    "duration": 905,
    "start_time": "2023-06-25T17:59:19.191Z"
   },
   {
    "duration": 4,
    "start_time": "2023-06-25T17:59:22.903Z"
   },
   {
    "duration": 3,
    "start_time": "2023-06-25T17:59:23.547Z"
   },
   {
    "duration": 17,
    "start_time": "2023-06-25T17:59:24.052Z"
   },
   {
    "duration": 5,
    "start_time": "2023-06-25T17:59:24.703Z"
   },
   {
    "duration": 43,
    "start_time": "2023-06-25T17:59:27.553Z"
   },
   {
    "duration": 17490,
    "start_time": "2023-06-25T17:59:28.584Z"
   },
   {
    "duration": 84691,
    "start_time": "2023-06-25T17:59:46.076Z"
   },
   {
    "duration": 28034,
    "start_time": "2023-06-25T18:01:10.775Z"
   },
   {
    "duration": 4078,
    "start_time": "2023-06-25T18:01:38.811Z"
   },
   {
    "duration": 4,
    "start_time": "2023-06-25T18:01:42.890Z"
   },
   {
    "duration": 6,
    "start_time": "2023-06-25T18:01:42.896Z"
   },
   {
    "duration": 56,
    "start_time": "2023-06-25T18:01:42.904Z"
   },
   {
    "duration": 14,
    "start_time": "2023-06-25T18:01:42.962Z"
   },
   {
    "duration": 31,
    "start_time": "2023-06-25T18:01:42.978Z"
   },
   {
    "duration": 14,
    "start_time": "2023-06-25T18:01:43.011Z"
   },
   {
    "duration": 488,
    "start_time": "2023-06-25T18:01:43.027Z"
   },
   {
    "duration": 11,
    "start_time": "2023-06-25T18:03:33.701Z"
   },
   {
    "duration": 17,
    "start_time": "2023-06-25T18:03:33.933Z"
   },
   {
    "duration": 13,
    "start_time": "2023-06-25T18:03:34.267Z"
   },
   {
    "duration": 4,
    "start_time": "2023-06-25T18:03:34.432Z"
   },
   {
    "duration": 4,
    "start_time": "2023-06-25T18:03:34.609Z"
   },
   {
    "duration": 4,
    "start_time": "2023-06-25T18:03:34.801Z"
   },
   {
    "duration": 3,
    "start_time": "2023-06-25T18:03:34.976Z"
   },
   {
    "duration": 6,
    "start_time": "2023-06-25T18:03:35.147Z"
   },
   {
    "duration": 32,
    "start_time": "2023-06-25T18:03:35.378Z"
   },
   {
    "duration": 1003,
    "start_time": "2023-06-25T18:03:38.011Z"
   },
   {
    "duration": 3,
    "start_time": "2023-06-25T18:03:39.016Z"
   },
   {
    "duration": 19,
    "start_time": "2023-06-25T18:03:39.020Z"
   },
   {
    "duration": 1052,
    "start_time": "2023-06-25T18:03:43.550Z"
   },
   {
    "duration": 10,
    "start_time": "2023-06-25T18:03:47.036Z"
   },
   {
    "duration": 763,
    "start_time": "2023-06-25T18:03:47.275Z"
   },
   {
    "duration": 4,
    "start_time": "2023-06-25T18:04:06.201Z"
   },
   {
    "duration": 3,
    "start_time": "2023-06-25T18:04:06.610Z"
   },
   {
    "duration": 8,
    "start_time": "2023-06-25T18:04:13.062Z"
   },
   {
    "duration": 3,
    "start_time": "2023-06-25T18:04:29.774Z"
   },
   {
    "duration": 33,
    "start_time": "2023-06-25T18:04:33.132Z"
   },
   {
    "duration": 19632,
    "start_time": "2023-06-25T18:04:34.141Z"
   },
   {
    "duration": 79798,
    "start_time": "2023-06-25T18:04:53.780Z"
   },
   {
    "duration": 20733,
    "start_time": "2023-06-25T18:06:13.579Z"
   },
   {
    "duration": 7008,
    "start_time": "2023-06-25T18:06:34.314Z"
   },
   {
    "duration": 38,
    "start_time": "2023-06-25T18:06:41.325Z"
   },
   {
    "duration": 47,
    "start_time": "2023-06-25T18:06:41.369Z"
   },
   {
    "duration": 94,
    "start_time": "2023-06-25T18:06:41.418Z"
   },
   {
    "duration": 6,
    "start_time": "2023-06-25T18:06:41.513Z"
   },
   {
    "duration": 14,
    "start_time": "2023-06-25T18:06:41.521Z"
   },
   {
    "duration": 32,
    "start_time": "2023-06-25T18:06:41.537Z"
   },
   {
    "duration": 189,
    "start_time": "2023-06-25T18:06:41.577Z"
   },
   {
    "duration": 11,
    "start_time": "2023-06-25T18:09:02.037Z"
   },
   {
    "duration": 23,
    "start_time": "2023-06-25T18:09:02.536Z"
   },
   {
    "duration": 3,
    "start_time": "2023-06-25T18:09:02.714Z"
   },
   {
    "duration": 4,
    "start_time": "2023-06-25T18:09:02.797Z"
   },
   {
    "duration": 4,
    "start_time": "2023-06-25T18:09:02.873Z"
   },
   {
    "duration": 15,
    "start_time": "2023-06-25T18:09:02.949Z"
   },
   {
    "duration": 4,
    "start_time": "2023-06-25T18:09:03.032Z"
   },
   {
    "duration": 3,
    "start_time": "2023-06-25T18:09:03.117Z"
   },
   {
    "duration": 29,
    "start_time": "2023-06-25T18:09:03.214Z"
   },
   {
    "duration": 941,
    "start_time": "2023-06-25T18:09:03.292Z"
   },
   {
    "duration": 3,
    "start_time": "2023-06-25T18:09:04.235Z"
   },
   {
    "duration": 56,
    "start_time": "2023-06-25T18:09:04.240Z"
   },
   {
    "duration": 1118,
    "start_time": "2023-06-25T18:09:04.298Z"
   },
   {
    "duration": 7,
    "start_time": "2023-06-25T18:09:05.418Z"
   },
   {
    "duration": 782,
    "start_time": "2023-06-25T18:09:05.427Z"
   },
   {
    "duration": 4,
    "start_time": "2023-06-25T18:09:06.211Z"
   },
   {
    "duration": 28,
    "start_time": "2023-06-25T18:09:06.216Z"
   },
   {
    "duration": 55,
    "start_time": "2023-06-25T18:09:06.246Z"
   },
   {
    "duration": 14,
    "start_time": "2023-06-25T18:09:06.304Z"
   },
   {
    "duration": 65,
    "start_time": "2023-06-25T18:09:06.321Z"
   },
   {
    "duration": 9008,
    "start_time": "2023-06-25T18:09:06.388Z"
   },
   {
    "duration": 40394,
    "start_time": "2023-06-25T18:09:15.399Z"
   },
   {
    "duration": 3764,
    "start_time": "2023-06-25T18:09:55.795Z"
   },
   {
    "duration": 5127,
    "start_time": "2023-06-25T18:09:59.564Z"
   },
   {
    "duration": 3,
    "start_time": "2023-06-25T18:10:04.693Z"
   },
   {
    "duration": 34,
    "start_time": "2023-06-25T18:10:04.697Z"
   },
   {
    "duration": 105,
    "start_time": "2023-06-25T18:10:04.733Z"
   },
   {
    "duration": 5,
    "start_time": "2023-06-25T18:10:04.841Z"
   },
   {
    "duration": 49,
    "start_time": "2023-06-25T18:10:04.847Z"
   },
   {
    "duration": 15,
    "start_time": "2023-06-25T18:10:04.899Z"
   },
   {
    "duration": 167,
    "start_time": "2023-06-25T18:10:04.916Z"
   },
   {
    "duration": 18,
    "start_time": "2023-06-25T18:10:45.661Z"
   },
   {
    "duration": 17,
    "start_time": "2023-06-25T18:10:46.175Z"
   },
   {
    "duration": 4,
    "start_time": "2023-06-25T18:10:46.314Z"
   },
   {
    "duration": 4,
    "start_time": "2023-06-25T18:10:46.406Z"
   },
   {
    "duration": 3,
    "start_time": "2023-06-25T18:10:46.499Z"
   },
   {
    "duration": 3,
    "start_time": "2023-06-25T18:10:46.577Z"
   },
   {
    "duration": 7,
    "start_time": "2023-06-25T18:10:46.655Z"
   },
   {
    "duration": 4,
    "start_time": "2023-06-25T18:10:46.734Z"
   },
   {
    "duration": 25,
    "start_time": "2023-06-25T18:10:46.820Z"
   },
   {
    "duration": 1198,
    "start_time": "2023-06-25T18:10:46.908Z"
   },
   {
    "duration": 3,
    "start_time": "2023-06-25T18:10:48.108Z"
   },
   {
    "duration": 20,
    "start_time": "2023-06-25T18:10:48.113Z"
   },
   {
    "duration": 1176,
    "start_time": "2023-06-25T18:10:48.135Z"
   },
   {
    "duration": 9,
    "start_time": "2023-06-25T18:10:49.312Z"
   },
   {
    "duration": 765,
    "start_time": "2023-06-25T18:10:49.323Z"
   },
   {
    "duration": 4,
    "start_time": "2023-06-25T18:10:50.090Z"
   },
   {
    "duration": 28,
    "start_time": "2023-06-25T18:10:50.096Z"
   },
   {
    "duration": 14,
    "start_time": "2023-06-25T18:10:50.126Z"
   },
   {
    "duration": 5,
    "start_time": "2023-06-25T18:10:50.143Z"
   },
   {
    "duration": 62,
    "start_time": "2023-06-25T18:10:50.150Z"
   },
   {
    "duration": 0,
    "start_time": "2023-06-25T18:10:50.213Z"
   },
   {
    "duration": 0,
    "start_time": "2023-06-25T18:10:50.215Z"
   },
   {
    "duration": 0,
    "start_time": "2023-06-25T18:10:50.216Z"
   },
   {
    "duration": 0,
    "start_time": "2023-06-25T18:10:50.217Z"
   },
   {
    "duration": 0,
    "start_time": "2023-06-25T18:10:50.218Z"
   },
   {
    "duration": 0,
    "start_time": "2023-06-25T18:10:50.220Z"
   },
   {
    "duration": 0,
    "start_time": "2023-06-25T18:10:50.220Z"
   },
   {
    "duration": 0,
    "start_time": "2023-06-25T18:10:50.222Z"
   },
   {
    "duration": 0,
    "start_time": "2023-06-25T18:10:50.223Z"
   },
   {
    "duration": 0,
    "start_time": "2023-06-25T18:10:50.224Z"
   },
   {
    "duration": 162,
    "start_time": "2023-06-25T18:10:50.226Z"
   },
   {
    "duration": 11,
    "start_time": "2023-06-25T18:11:00.006Z"
   },
   {
    "duration": 17,
    "start_time": "2023-06-25T18:11:00.514Z"
   },
   {
    "duration": 4,
    "start_time": "2023-06-25T18:11:00.675Z"
   },
   {
    "duration": 154,
    "start_time": "2023-06-25T18:11:00.751Z"
   },
   {
    "duration": 138,
    "start_time": "2023-06-25T18:11:00.907Z"
   },
   {
    "duration": 135,
    "start_time": "2023-06-25T18:11:01.048Z"
   },
   {
    "duration": 14,
    "start_time": "2023-06-25T18:11:01.185Z"
   },
   {
    "duration": 8,
    "start_time": "2023-06-25T18:11:01.201Z"
   },
   {
    "duration": 42,
    "start_time": "2023-06-25T18:11:01.211Z"
   },
   {
    "duration": 988,
    "start_time": "2023-06-25T18:11:01.276Z"
   },
   {
    "duration": 12,
    "start_time": "2023-06-25T18:11:02.266Z"
   },
   {
    "duration": 33,
    "start_time": "2023-06-25T18:11:02.287Z"
   },
   {
    "duration": 1418,
    "start_time": "2023-06-25T18:11:02.322Z"
   },
   {
    "duration": 24,
    "start_time": "2023-06-25T18:11:03.742Z"
   },
   {
    "duration": 785,
    "start_time": "2023-06-25T18:11:03.776Z"
   },
   {
    "duration": 7,
    "start_time": "2023-06-25T18:11:04.571Z"
   },
   {
    "duration": 35,
    "start_time": "2023-06-25T18:11:04.580Z"
   },
   {
    "duration": 22,
    "start_time": "2023-06-25T18:11:04.616Z"
   },
   {
    "duration": 96,
    "start_time": "2023-06-25T18:11:04.640Z"
   },
   {
    "duration": 96,
    "start_time": "2023-06-25T18:11:04.738Z"
   },
   {
    "duration": 0,
    "start_time": "2023-06-25T18:11:04.837Z"
   },
   {
    "duration": 0,
    "start_time": "2023-06-25T18:11:04.838Z"
   },
   {
    "duration": 0,
    "start_time": "2023-06-25T18:11:04.839Z"
   },
   {
    "duration": 0,
    "start_time": "2023-06-25T18:11:04.841Z"
   },
   {
    "duration": 0,
    "start_time": "2023-06-25T18:11:04.842Z"
   },
   {
    "duration": 23,
    "start_time": "2023-06-25T18:11:04.916Z"
   },
   {
    "duration": 58,
    "start_time": "2023-06-25T18:11:05.118Z"
   },
   {
    "duration": 7,
    "start_time": "2023-06-25T18:11:05.304Z"
   },
   {
    "duration": 24,
    "start_time": "2023-06-25T18:11:05.500Z"
   },
   {
    "duration": 15,
    "start_time": "2023-06-25T18:11:05.826Z"
   },
   {
    "duration": 153,
    "start_time": "2023-06-25T18:11:07.277Z"
   },
   {
    "duration": 12,
    "start_time": "2023-06-25T18:11:40.798Z"
   },
   {
    "duration": 18,
    "start_time": "2023-06-25T18:11:41.294Z"
   },
   {
    "duration": 3,
    "start_time": "2023-06-25T18:11:41.462Z"
   },
   {
    "duration": 6,
    "start_time": "2023-06-25T18:11:41.538Z"
   },
   {
    "duration": 3,
    "start_time": "2023-06-25T18:11:41.627Z"
   },
   {
    "duration": 4,
    "start_time": "2023-06-25T18:11:41.706Z"
   },
   {
    "duration": 3,
    "start_time": "2023-06-25T18:11:41.792Z"
   },
   {
    "duration": 3,
    "start_time": "2023-06-25T18:11:41.895Z"
   },
   {
    "duration": 28,
    "start_time": "2023-06-25T18:11:41.967Z"
   },
   {
    "duration": 890,
    "start_time": "2023-06-25T18:11:42.037Z"
   },
   {
    "duration": 3,
    "start_time": "2023-06-25T18:11:42.929Z"
   },
   {
    "duration": 29,
    "start_time": "2023-06-25T18:11:42.934Z"
   },
   {
    "duration": 1017,
    "start_time": "2023-06-25T18:11:42.966Z"
   },
   {
    "duration": 6,
    "start_time": "2023-06-25T18:11:43.985Z"
   },
   {
    "duration": 736,
    "start_time": "2023-06-25T18:11:43.993Z"
   },
   {
    "duration": 3,
    "start_time": "2023-06-25T18:11:44.731Z"
   },
   {
    "duration": 26,
    "start_time": "2023-06-25T18:11:44.736Z"
   },
   {
    "duration": 10,
    "start_time": "2023-06-25T18:11:44.764Z"
   },
   {
    "duration": 8,
    "start_time": "2023-06-25T18:11:44.777Z"
   },
   {
    "duration": 35,
    "start_time": "2023-06-25T18:11:44.787Z"
   },
   {
    "duration": 11389,
    "start_time": "2023-06-25T18:11:44.823Z"
   },
   {
    "duration": 26647,
    "start_time": "2023-06-25T18:11:56.215Z"
   },
   {
    "duration": 4012,
    "start_time": "2023-06-25T18:12:22.864Z"
   },
   {
    "duration": 2916,
    "start_time": "2023-06-25T18:12:26.878Z"
   },
   {
    "duration": 3,
    "start_time": "2023-06-25T18:12:29.796Z"
   },
   {
    "duration": 17,
    "start_time": "2023-06-25T18:12:29.800Z"
   },
   {
    "duration": 70,
    "start_time": "2023-06-25T18:12:29.819Z"
   },
   {
    "duration": 6,
    "start_time": "2023-06-25T18:12:29.891Z"
   },
   {
    "duration": 33,
    "start_time": "2023-06-25T18:12:29.898Z"
   },
   {
    "duration": 22,
    "start_time": "2023-06-25T18:12:29.934Z"
   },
   {
    "duration": 172,
    "start_time": "2023-06-25T18:12:29.967Z"
   },
   {
    "duration": 2,
    "start_time": "2023-06-25T18:12:30.141Z"
   },
   {
    "duration": 12,
    "start_time": "2023-06-25T18:14:27.226Z"
   },
   {
    "duration": 20,
    "start_time": "2023-06-25T18:14:27.716Z"
   },
   {
    "duration": 4,
    "start_time": "2023-06-25T18:14:27.895Z"
   },
   {
    "duration": 4,
    "start_time": "2023-06-25T18:14:27.984Z"
   },
   {
    "duration": 12,
    "start_time": "2023-06-25T18:14:28.049Z"
   },
   {
    "duration": 4,
    "start_time": "2023-06-25T18:14:28.141Z"
   },
   {
    "duration": 4,
    "start_time": "2023-06-25T18:14:28.224Z"
   },
   {
    "duration": 5,
    "start_time": "2023-06-25T18:14:28.306Z"
   },
   {
    "duration": 428,
    "start_time": "2023-06-25T18:14:28.396Z"
   },
   {
    "duration": 1018,
    "start_time": "2023-06-25T18:14:28.827Z"
   },
   {
    "duration": 12,
    "start_time": "2023-06-25T18:14:29.847Z"
   },
   {
    "duration": 39,
    "start_time": "2023-06-25T18:14:29.861Z"
   },
   {
    "duration": 1183,
    "start_time": "2023-06-25T18:14:29.902Z"
   },
   {
    "duration": 11,
    "start_time": "2023-06-25T18:14:31.087Z"
   },
   {
    "duration": 934,
    "start_time": "2023-06-25T18:14:31.100Z"
   },
   {
    "duration": 4,
    "start_time": "2023-06-25T18:14:32.036Z"
   },
   {
    "duration": 90,
    "start_time": "2023-06-25T18:14:32.052Z"
   },
   {
    "duration": 0,
    "start_time": "2023-06-25T18:14:32.145Z"
   },
   {
    "duration": 0,
    "start_time": "2023-06-25T18:14:32.147Z"
   },
   {
    "duration": 0,
    "start_time": "2023-06-25T18:14:32.148Z"
   },
   {
    "duration": 0,
    "start_time": "2023-06-25T18:14:32.149Z"
   },
   {
    "duration": 0,
    "start_time": "2023-06-25T18:14:32.150Z"
   },
   {
    "duration": 0,
    "start_time": "2023-06-25T18:14:32.151Z"
   },
   {
    "duration": 0,
    "start_time": "2023-06-25T18:14:32.152Z"
   },
   {
    "duration": 0,
    "start_time": "2023-06-25T18:14:32.152Z"
   },
   {
    "duration": 0,
    "start_time": "2023-06-25T18:14:32.153Z"
   },
   {
    "duration": 0,
    "start_time": "2023-06-25T18:14:32.154Z"
   },
   {
    "duration": 0,
    "start_time": "2023-06-25T18:14:32.159Z"
   },
   {
    "duration": 0,
    "start_time": "2023-06-25T18:14:32.160Z"
   },
   {
    "duration": 0,
    "start_time": "2023-06-25T18:14:32.164Z"
   },
   {
    "duration": 0,
    "start_time": "2023-06-25T18:14:32.167Z"
   },
   {
    "duration": 0,
    "start_time": "2023-06-25T18:14:32.168Z"
   },
   {
    "duration": 0,
    "start_time": "2023-06-25T18:14:32.174Z"
   },
   {
    "duration": 11,
    "start_time": "2023-06-25T18:15:00.604Z"
   },
   {
    "duration": 20,
    "start_time": "2023-06-25T18:15:00.874Z"
   },
   {
    "duration": 3,
    "start_time": "2023-06-25T18:15:01.206Z"
   },
   {
    "duration": 4,
    "start_time": "2023-06-25T18:15:01.376Z"
   },
   {
    "duration": 3,
    "start_time": "2023-06-25T18:15:01.537Z"
   },
   {
    "duration": 4,
    "start_time": "2023-06-25T18:15:01.710Z"
   },
   {
    "duration": 4,
    "start_time": "2023-06-25T18:15:01.891Z"
   },
   {
    "duration": 5,
    "start_time": "2023-06-25T18:15:02.062Z"
   },
   {
    "duration": 33,
    "start_time": "2023-06-25T18:15:02.238Z"
   },
   {
    "duration": 922,
    "start_time": "2023-06-25T18:15:02.422Z"
   },
   {
    "duration": 9,
    "start_time": "2023-06-25T18:15:03.352Z"
   },
   {
    "duration": 44,
    "start_time": "2023-06-25T18:15:03.363Z"
   },
   {
    "duration": 1473,
    "start_time": "2023-06-25T18:15:03.410Z"
   },
   {
    "duration": 8,
    "start_time": "2023-06-25T18:15:04.885Z"
   },
   {
    "duration": 926,
    "start_time": "2023-06-25T18:15:04.895Z"
   },
   {
    "duration": 3,
    "start_time": "2023-06-25T18:15:05.823Z"
   },
   {
    "duration": 57,
    "start_time": "2023-06-25T18:15:05.828Z"
   },
   {
    "duration": 31,
    "start_time": "2023-06-25T18:15:05.887Z"
   },
   {
    "duration": 26,
    "start_time": "2023-06-25T18:15:05.920Z"
   },
   {
    "duration": 66,
    "start_time": "2023-06-25T18:15:05.949Z"
   },
   {
    "duration": 10682,
    "start_time": "2023-06-25T18:15:06.017Z"
   },
   {
    "duration": 45981,
    "start_time": "2023-06-25T18:15:16.704Z"
   },
   {
    "duration": 3959,
    "start_time": "2023-06-25T18:16:02.687Z"
   },
   {
    "duration": 4083,
    "start_time": "2023-06-25T18:16:06.649Z"
   },
   {
    "duration": 3,
    "start_time": "2023-06-25T18:16:10.734Z"
   },
   {
    "duration": 44,
    "start_time": "2023-06-25T18:16:10.752Z"
   },
   {
    "duration": 67,
    "start_time": "2023-06-25T18:16:10.798Z"
   },
   {
    "duration": 29,
    "start_time": "2023-06-25T18:16:10.867Z"
   },
   {
    "duration": 21,
    "start_time": "2023-06-25T18:16:10.898Z"
   },
   {
    "duration": 14,
    "start_time": "2023-06-25T18:16:10.920Z"
   },
   {
    "duration": 158,
    "start_time": "2023-06-25T18:16:10.936Z"
   },
   {
    "duration": 89,
    "start_time": "2023-06-25T18:18:05.015Z"
   },
   {
    "duration": 25,
    "start_time": "2023-06-25T18:18:08.280Z"
   },
   {
    "duration": 10,
    "start_time": "2023-06-25T18:18:14.403Z"
   },
   {
    "duration": 15,
    "start_time": "2023-06-25T18:18:17.307Z"
   }
  ],
  "kernelspec": {
   "display_name": "Python 3 (ipykernel)",
   "language": "python",
   "name": "python3"
  },
  "language_info": {
   "codemirror_mode": {
    "name": "ipython",
    "version": 3
   },
   "file_extension": ".py",
   "mimetype": "text/x-python",
   "name": "python",
   "nbconvert_exporter": "python",
   "pygments_lexer": "ipython3",
   "version": "3.9.5"
  },
  "toc": {
   "base_numbering": 1,
   "nav_menu": {},
   "number_sections": true,
   "sideBar": true,
   "skip_h1_title": true,
   "title_cell": "Table of Contents",
   "title_sidebar": "Contents",
   "toc_cell": false,
   "toc_position": {
    "height": "calc(100% - 180px)",
    "left": "10px",
    "top": "150px",
    "width": "165px"
   },
   "toc_section_display": true,
   "toc_window_display": true
  }
 },
 "nbformat": 4,
 "nbformat_minor": 5
}
