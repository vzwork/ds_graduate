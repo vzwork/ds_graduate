{
 "cells": [
  {
   "cell_type": "markdown",
   "id": "ad154198",
   "metadata": {},
   "source": [
    "# Проект (Телеком)"
   ]
  },
  {
   "cell_type": "markdown",
   "id": "499cf00b",
   "metadata": {},
   "source": [
    "- Проект (Телеком)\n",
    "- Описание Проекта\n",
    "- Выгрузка Данных\n",
    "- Исследовательский Анализ + Предобработка Данных\n",
    "- Обучение Моделей\n",
    "- Тестировка Модели\n",
    "- Вывод"
   ]
  },
  {
   "cell_type": "markdown",
   "id": "7ba0cc04",
   "metadata": {},
   "source": [
    "# Описание Проекта"
   ]
  },
  {
   "cell_type": "markdown",
   "id": "1942c448",
   "metadata": {},
   "source": [
    "Оператор связи «ТелеДом» хочет бороться с оттоком клиентов. Для этого его сотрудники начнут предлагать промокоды и специальные условия всем, кто планирует отказаться от услуг связи. Чтобы заранее находить таких пользователей, «ТелеДому» нужна модель, которая будет предсказывать, разорвёт ли абонент договор. Команда оператора собрала персональные данные о некоторых клиентах, информацию об их тарифах и услугах. Задача — обучить на этих данных модель для прогноза оттока клиентов."
   ]
  },
  {
   "cell_type": "markdown",
   "id": "deb0a356",
   "metadata": {},
   "source": [
    "# Выгрузка Данных"
   ]
  },
  {
   "cell_type": "code",
   "execution_count": 1,
   "id": "eb417bad",
   "metadata": {},
   "outputs": [],
   "source": [
    "import sys\n",
    "import random\n",
    "\n",
    "import psycopg2\n",
    "import pandas as pd\n",
    "import matplotlib.pyplot as plt\n",
    "import numpy as np\n",
    "import scipy.stats as stats\n",
    "import seaborn as sns\n",
    "import tensorflow as tf\n",
    "\n",
    "from sklearn.model_selection import train_test_split\n",
    "from sklearn.preprocessing import OneHotEncoder\n",
    "from sklearn.preprocessing import StandardScaler\n",
    "\n",
    "from sklearn.metrics import roc_auc_score, roc_curve, auc, accuracy_score\n",
    "from sklearn.model_selection import GridSearchCV\n",
    "from sklearn.ensemble import RandomForestClassifier\n",
    "import xgboost as xgb\n",
    "from tensorflow.keras.callbacks import EarlyStopping\n",
    "from tensorflow.keras import Sequential\n",
    "from tensorflow.keras.layers import Dense, Dropout"
   ]
  },
  {
   "cell_type": "code",
   "execution_count": 2,
   "id": "5511bc16",
   "metadata": {},
   "outputs": [],
   "source": [
    "RANDOM_STATE = 180623"
   ]
  },
  {
   "cell_type": "code",
   "execution_count": 3,
   "id": "3c3a9a21",
   "metadata": {},
   "outputs": [],
   "source": [
    "random.seed(RANDOM_STATE)"
   ]
  },
  {
   "cell_type": "markdown",
   "id": "71344a91",
   "metadata": {},
   "source": [
    "### Описание Данных\n",
    "database - telecom.\n",
    "- contract - информация о договорах;\n",
    "- personal - персональные данные клиентов;\n",
    "- internet - информация об интернет-услугах;\n",
    "- phone - информация об услугах телефонии.\n",
    "\n",
    "(Информация о договорах актуальна на 1 февраля 2020.)"
   ]
  },
  {
   "cell_type": "code",
   "execution_count": 4,
   "id": "42c2555f",
   "metadata": {},
   "outputs": [],
   "source": [
    "db_config = {\n",
    "'user': 'praktikum_student',# имя пользователя,\n",
    "'password': 'Sdf4$2;d-d30pp',# пароль,\n",
    "'host': 'rc1b-wcoijxj3yxfsf3fs.mdb.yandexcloud.net',\n",
    "'port': 6432,# порт подключения,\n",
    "'database': 'data-science-final'# название базы данных,\n",
    "}"
   ]
  },
  {
   "cell_type": "code",
   "execution_count": 5,
   "id": "7eccbcd8",
   "metadata": {},
   "outputs": [],
   "source": [
    "def connect(params_dic):\n",
    "    conn = None\n",
    "    try:\n",
    "        print('Connecting to the PostgreSQL database...')\n",
    "        conn = psycopg2.connect(**params_dic)\n",
    "    except (Exception, psycopg2.DatabaseError) as error:\n",
    "        print(error)\n",
    "        sys.exit(1) \n",
    "    print(\"Connection successful\")\n",
    "    return conn"
   ]
  },
  {
   "cell_type": "code",
   "execution_count": 6,
   "id": "8ed04bfb",
   "metadata": {},
   "outputs": [],
   "source": [
    "def postgresql_to_dataframe(conn, select_query, column_names):\n",
    "    cursor = conn.cursor()\n",
    "    try:\n",
    "        cursor.execute(select_query)\n",
    "    except (Exception, psycopg2.DatabaseError) as error:\n",
    "        print(\"Error: %s\" % error)\n",
    "        conn.rollback()\n",
    "        cursor.close()\n",
    "        return 1\n",
    "    \n",
    "    # Naturally we get a list of tupples\n",
    "    tupples = cursor.fetchall()\n",
    "    cursor.close()\n",
    "    \n",
    "    # We just need to turn it into a pandas dataframe\n",
    "    df = pd.DataFrame(tupples, columns=column_names)\n",
    "    return df"
   ]
  },
  {
   "cell_type": "code",
   "execution_count": 7,
   "id": "ac3cb5b9",
   "metadata": {},
   "outputs": [
    {
     "name": "stdout",
     "output_type": "stream",
     "text": [
      "Connecting to the PostgreSQL database...\n",
      "Connection successful\n"
     ]
    }
   ],
   "source": [
    "conn = connect(db_config)"
   ]
  },
  {
   "cell_type": "markdown",
   "id": "d84d1cd2",
   "metadata": {},
   "source": [
    "### Проверим Данные"
   ]
  },
  {
   "cell_type": "code",
   "execution_count": 8,
   "id": "d199ffc0",
   "metadata": {},
   "outputs": [],
   "source": [
    "query_contract_info = \\\n",
    "\"SELECT table_name, column_name, data_type FROM information_schema.columns WHERE table_name = 'contract';\"\n",
    "columns_contract_info = ['table_name', 'column_name', 'data_type']\n",
    "contract_info = postgresql_to_dataframe(conn, query_contract_info, columns_contract_info)"
   ]
  },
  {
   "cell_type": "code",
   "execution_count": 9,
   "id": "0dcb3dff",
   "metadata": {},
   "outputs": [
    {
     "data": {
      "text/html": [
       "<div>\n",
       "<style scoped>\n",
       "    .dataframe tbody tr th:only-of-type {\n",
       "        vertical-align: middle;\n",
       "    }\n",
       "\n",
       "    .dataframe tbody tr th {\n",
       "        vertical-align: top;\n",
       "    }\n",
       "\n",
       "    .dataframe thead th {\n",
       "        text-align: right;\n",
       "    }\n",
       "</style>\n",
       "<table border=\"1\" class=\"dataframe\">\n",
       "  <thead>\n",
       "    <tr style=\"text-align: right;\">\n",
       "      <th></th>\n",
       "      <th>table_name</th>\n",
       "      <th>column_name</th>\n",
       "      <th>data_type</th>\n",
       "    </tr>\n",
       "  </thead>\n",
       "  <tbody>\n",
       "    <tr>\n",
       "      <th>0</th>\n",
       "      <td>contract</td>\n",
       "      <td>customerID</td>\n",
       "      <td>text</td>\n",
       "    </tr>\n",
       "    <tr>\n",
       "      <th>1</th>\n",
       "      <td>contract</td>\n",
       "      <td>BeginDate</td>\n",
       "      <td>date</td>\n",
       "    </tr>\n",
       "    <tr>\n",
       "      <th>2</th>\n",
       "      <td>contract</td>\n",
       "      <td>EndDate</td>\n",
       "      <td>date</td>\n",
       "    </tr>\n",
       "    <tr>\n",
       "      <th>3</th>\n",
       "      <td>contract</td>\n",
       "      <td>Type</td>\n",
       "      <td>text</td>\n",
       "    </tr>\n",
       "    <tr>\n",
       "      <th>4</th>\n",
       "      <td>contract</td>\n",
       "      <td>PaperlessBilling</td>\n",
       "      <td>text</td>\n",
       "    </tr>\n",
       "    <tr>\n",
       "      <th>5</th>\n",
       "      <td>contract</td>\n",
       "      <td>PaymentMethod</td>\n",
       "      <td>text</td>\n",
       "    </tr>\n",
       "    <tr>\n",
       "      <th>6</th>\n",
       "      <td>contract</td>\n",
       "      <td>MonthlyCharges</td>\n",
       "      <td>numeric</td>\n",
       "    </tr>\n",
       "    <tr>\n",
       "      <th>7</th>\n",
       "      <td>contract</td>\n",
       "      <td>TotalCharges</td>\n",
       "      <td>numeric</td>\n",
       "    </tr>\n",
       "  </tbody>\n",
       "</table>\n",
       "</div>"
      ],
      "text/plain": [
       "  table_name       column_name data_type\n",
       "0   contract        customerID      text\n",
       "1   contract         BeginDate      date\n",
       "2   contract           EndDate      date\n",
       "3   contract              Type      text\n",
       "4   contract  PaperlessBilling      text\n",
       "5   contract     PaymentMethod      text\n",
       "6   contract    MonthlyCharges   numeric\n",
       "7   contract      TotalCharges   numeric"
      ]
     },
     "execution_count": 9,
     "metadata": {},
     "output_type": "execute_result"
    }
   ],
   "source": [
    "contract_info"
   ]
  },
  {
   "cell_type": "code",
   "execution_count": 10,
   "id": "e24430da",
   "metadata": {},
   "outputs": [],
   "source": [
    "query_personal_info = \\\n",
    "\"SELECT table_name, column_name, data_type FROM information_schema.columns WHERE table_name = 'personal';\"\n",
    "columns_personal_info = ['table_name', 'column_name', 'data_type']\n",
    "personal_info = postgresql_to_dataframe(conn, query_personal_info, columns_personal_info)"
   ]
  },
  {
   "cell_type": "code",
   "execution_count": 11,
   "id": "4b7bdfbf",
   "metadata": {},
   "outputs": [
    {
     "data": {
      "text/html": [
       "<div>\n",
       "<style scoped>\n",
       "    .dataframe tbody tr th:only-of-type {\n",
       "        vertical-align: middle;\n",
       "    }\n",
       "\n",
       "    .dataframe tbody tr th {\n",
       "        vertical-align: top;\n",
       "    }\n",
       "\n",
       "    .dataframe thead th {\n",
       "        text-align: right;\n",
       "    }\n",
       "</style>\n",
       "<table border=\"1\" class=\"dataframe\">\n",
       "  <thead>\n",
       "    <tr style=\"text-align: right;\">\n",
       "      <th></th>\n",
       "      <th>table_name</th>\n",
       "      <th>column_name</th>\n",
       "      <th>data_type</th>\n",
       "    </tr>\n",
       "  </thead>\n",
       "  <tbody>\n",
       "    <tr>\n",
       "      <th>0</th>\n",
       "      <td>personal</td>\n",
       "      <td>customerID</td>\n",
       "      <td>text</td>\n",
       "    </tr>\n",
       "    <tr>\n",
       "      <th>1</th>\n",
       "      <td>personal</td>\n",
       "      <td>gender</td>\n",
       "      <td>text</td>\n",
       "    </tr>\n",
       "    <tr>\n",
       "      <th>2</th>\n",
       "      <td>personal</td>\n",
       "      <td>SeniorCitizen</td>\n",
       "      <td>integer</td>\n",
       "    </tr>\n",
       "    <tr>\n",
       "      <th>3</th>\n",
       "      <td>personal</td>\n",
       "      <td>Partner</td>\n",
       "      <td>text</td>\n",
       "    </tr>\n",
       "    <tr>\n",
       "      <th>4</th>\n",
       "      <td>personal</td>\n",
       "      <td>Dependents</td>\n",
       "      <td>text</td>\n",
       "    </tr>\n",
       "  </tbody>\n",
       "</table>\n",
       "</div>"
      ],
      "text/plain": [
       "  table_name    column_name data_type\n",
       "0   personal     customerID      text\n",
       "1   personal         gender      text\n",
       "2   personal  SeniorCitizen   integer\n",
       "3   personal        Partner      text\n",
       "4   personal     Dependents      text"
      ]
     },
     "execution_count": 11,
     "metadata": {},
     "output_type": "execute_result"
    }
   ],
   "source": [
    "personal_info"
   ]
  },
  {
   "cell_type": "code",
   "execution_count": 12,
   "id": "b7ff714a",
   "metadata": {},
   "outputs": [],
   "source": [
    "query_internet_info =\\\n",
    "\"SELECT table_name, column_name, data_type FROM information_schema.columns WHERE table_name = 'internet';\"\n",
    "columns_internet_info = ['table_name', 'column_name', 'data_type']\n",
    "internet_info = postgresql_to_dataframe(conn, query_internet_info, columns_internet_info)"
   ]
  },
  {
   "cell_type": "code",
   "execution_count": 13,
   "id": "bd949dd0",
   "metadata": {},
   "outputs": [
    {
     "data": {
      "text/html": [
       "<div>\n",
       "<style scoped>\n",
       "    .dataframe tbody tr th:only-of-type {\n",
       "        vertical-align: middle;\n",
       "    }\n",
       "\n",
       "    .dataframe tbody tr th {\n",
       "        vertical-align: top;\n",
       "    }\n",
       "\n",
       "    .dataframe thead th {\n",
       "        text-align: right;\n",
       "    }\n",
       "</style>\n",
       "<table border=\"1\" class=\"dataframe\">\n",
       "  <thead>\n",
       "    <tr style=\"text-align: right;\">\n",
       "      <th></th>\n",
       "      <th>table_name</th>\n",
       "      <th>column_name</th>\n",
       "      <th>data_type</th>\n",
       "    </tr>\n",
       "  </thead>\n",
       "  <tbody>\n",
       "    <tr>\n",
       "      <th>0</th>\n",
       "      <td>internet</td>\n",
       "      <td>c1</td>\n",
       "      <td>text</td>\n",
       "    </tr>\n",
       "    <tr>\n",
       "      <th>1</th>\n",
       "      <td>internet</td>\n",
       "      <td>c2</td>\n",
       "      <td>text</td>\n",
       "    </tr>\n",
       "    <tr>\n",
       "      <th>2</th>\n",
       "      <td>internet</td>\n",
       "      <td>c3</td>\n",
       "      <td>text</td>\n",
       "    </tr>\n",
       "    <tr>\n",
       "      <th>3</th>\n",
       "      <td>internet</td>\n",
       "      <td>c4</td>\n",
       "      <td>text</td>\n",
       "    </tr>\n",
       "    <tr>\n",
       "      <th>4</th>\n",
       "      <td>internet</td>\n",
       "      <td>c5</td>\n",
       "      <td>text</td>\n",
       "    </tr>\n",
       "    <tr>\n",
       "      <th>5</th>\n",
       "      <td>internet</td>\n",
       "      <td>c6</td>\n",
       "      <td>text</td>\n",
       "    </tr>\n",
       "    <tr>\n",
       "      <th>6</th>\n",
       "      <td>internet</td>\n",
       "      <td>c7</td>\n",
       "      <td>text</td>\n",
       "    </tr>\n",
       "    <tr>\n",
       "      <th>7</th>\n",
       "      <td>internet</td>\n",
       "      <td>c8</td>\n",
       "      <td>text</td>\n",
       "    </tr>\n",
       "  </tbody>\n",
       "</table>\n",
       "</div>"
      ],
      "text/plain": [
       "  table_name column_name data_type\n",
       "0   internet          c1      text\n",
       "1   internet          c2      text\n",
       "2   internet          c3      text\n",
       "3   internet          c4      text\n",
       "4   internet          c5      text\n",
       "5   internet          c6      text\n",
       "6   internet          c7      text\n",
       "7   internet          c8      text"
      ]
     },
     "execution_count": 13,
     "metadata": {},
     "output_type": "execute_result"
    }
   ],
   "source": [
    "internet_info"
   ]
  },
  {
   "cell_type": "markdown",
   "id": "aa79ce0c",
   "metadata": {},
   "source": [
    "В описании проекта данные о таблице 'internet' выглядят вот так:\n",
    "- customerID — ID пользователя;\n",
    "- InternetService — тип подключения;\n",
    "- OnlineSecurity — блокировка опасных сайтов;\n",
    "- OnlineBackup — облачное хранилище файлов для резервного копирования данных;\n",
    "- DeviceProtection — антивирус;\n",
    "- TechSupport — выделенная линия технической поддержки;\n",
    "- StreamingTV — стриминговое телевидение;\n",
    "- StreamingMovies — каталог фильмов."
   ]
  },
  {
   "cell_type": "markdown",
   "id": "4f5fb56d",
   "metadata": {},
   "source": [
    "Стоит выбрать несколько строк данных чтобы проверить если данные хранятся в таком же порядке."
   ]
  },
  {
   "cell_type": "code",
   "execution_count": 14,
   "id": "77d7b279",
   "metadata": {},
   "outputs": [],
   "source": [
    "query_internet_sample =\\\n",
    "\"SELECT * FROM telecom.internet LIMIT 5;\"\n",
    "columns_internet_sample = ['customerID', 'ItnernetService', 'OnlineSecurity', 'OnlineBackup',\n",
    "                           'DeviceProtection', 'TechSupport', 'StreamingTV', 'StreamingMovies']\n",
    "internet_sample = postgresql_to_dataframe(conn, query_internet_sample, columns_internet_sample)"
   ]
  },
  {
   "cell_type": "code",
   "execution_count": 15,
   "id": "486cb0c2",
   "metadata": {},
   "outputs": [
    {
     "data": {
      "text/html": [
       "<div>\n",
       "<style scoped>\n",
       "    .dataframe tbody tr th:only-of-type {\n",
       "        vertical-align: middle;\n",
       "    }\n",
       "\n",
       "    .dataframe tbody tr th {\n",
       "        vertical-align: top;\n",
       "    }\n",
       "\n",
       "    .dataframe thead th {\n",
       "        text-align: right;\n",
       "    }\n",
       "</style>\n",
       "<table border=\"1\" class=\"dataframe\">\n",
       "  <thead>\n",
       "    <tr style=\"text-align: right;\">\n",
       "      <th></th>\n",
       "      <th>customerID</th>\n",
       "      <th>ItnernetService</th>\n",
       "      <th>OnlineSecurity</th>\n",
       "      <th>OnlineBackup</th>\n",
       "      <th>DeviceProtection</th>\n",
       "      <th>TechSupport</th>\n",
       "      <th>StreamingTV</th>\n",
       "      <th>StreamingMovies</th>\n",
       "    </tr>\n",
       "  </thead>\n",
       "  <tbody>\n",
       "    <tr>\n",
       "      <th>0</th>\n",
       "      <td>customerID</td>\n",
       "      <td>InternetService</td>\n",
       "      <td>OnlineSecurity</td>\n",
       "      <td>OnlineBackup</td>\n",
       "      <td>DeviceProtection</td>\n",
       "      <td>TechSupport</td>\n",
       "      <td>StreamingTV</td>\n",
       "      <td>StreamingMovies</td>\n",
       "    </tr>\n",
       "    <tr>\n",
       "      <th>1</th>\n",
       "      <td>7590-VHVEG</td>\n",
       "      <td>DSL</td>\n",
       "      <td>No</td>\n",
       "      <td>Yes</td>\n",
       "      <td>No</td>\n",
       "      <td>No</td>\n",
       "      <td>No</td>\n",
       "      <td>No</td>\n",
       "    </tr>\n",
       "    <tr>\n",
       "      <th>2</th>\n",
       "      <td>5575-GNVDE</td>\n",
       "      <td>DSL</td>\n",
       "      <td>Yes</td>\n",
       "      <td>No</td>\n",
       "      <td>Yes</td>\n",
       "      <td>No</td>\n",
       "      <td>No</td>\n",
       "      <td>No</td>\n",
       "    </tr>\n",
       "    <tr>\n",
       "      <th>3</th>\n",
       "      <td>3668-QPYBK</td>\n",
       "      <td>DSL</td>\n",
       "      <td>Yes</td>\n",
       "      <td>Yes</td>\n",
       "      <td>No</td>\n",
       "      <td>No</td>\n",
       "      <td>No</td>\n",
       "      <td>No</td>\n",
       "    </tr>\n",
       "    <tr>\n",
       "      <th>4</th>\n",
       "      <td>7795-CFOCW</td>\n",
       "      <td>DSL</td>\n",
       "      <td>Yes</td>\n",
       "      <td>No</td>\n",
       "      <td>Yes</td>\n",
       "      <td>Yes</td>\n",
       "      <td>No</td>\n",
       "      <td>No</td>\n",
       "    </tr>\n",
       "  </tbody>\n",
       "</table>\n",
       "</div>"
      ],
      "text/plain": [
       "   customerID  ItnernetService  OnlineSecurity  OnlineBackup   \n",
       "0  customerID  InternetService  OnlineSecurity  OnlineBackup  \\\n",
       "1  7590-VHVEG              DSL              No           Yes   \n",
       "2  5575-GNVDE              DSL             Yes            No   \n",
       "3  3668-QPYBK              DSL             Yes           Yes   \n",
       "4  7795-CFOCW              DSL             Yes            No   \n",
       "\n",
       "   DeviceProtection  TechSupport  StreamingTV  StreamingMovies  \n",
       "0  DeviceProtection  TechSupport  StreamingTV  StreamingMovies  \n",
       "1                No           No           No               No  \n",
       "2               Yes           No           No               No  \n",
       "3                No           No           No               No  \n",
       "4               Yes          Yes           No               No  "
      ]
     },
     "execution_count": 15,
     "metadata": {},
     "output_type": "execute_result"
    }
   ],
   "source": [
    "internet_sample"
   ]
  },
  {
   "cell_type": "code",
   "execution_count": 16,
   "id": "7f5b424c",
   "metadata": {},
   "outputs": [],
   "source": [
    "query_phone_info =\\\n",
    "\"SELECT table_name, column_name, data_type FROM information_schema.columns WHERE table_name = 'phone';\"\n",
    "columns_phone_info = ['table_name', 'column_name', 'data_type']\n",
    "phone_info = postgresql_to_dataframe(conn, query_phone_info, columns_phone_info)"
   ]
  },
  {
   "cell_type": "code",
   "execution_count": 17,
   "id": "3516f211",
   "metadata": {},
   "outputs": [
    {
     "data": {
      "text/html": [
       "<div>\n",
       "<style scoped>\n",
       "    .dataframe tbody tr th:only-of-type {\n",
       "        vertical-align: middle;\n",
       "    }\n",
       "\n",
       "    .dataframe tbody tr th {\n",
       "        vertical-align: top;\n",
       "    }\n",
       "\n",
       "    .dataframe thead th {\n",
       "        text-align: right;\n",
       "    }\n",
       "</style>\n",
       "<table border=\"1\" class=\"dataframe\">\n",
       "  <thead>\n",
       "    <tr style=\"text-align: right;\">\n",
       "      <th></th>\n",
       "      <th>table_name</th>\n",
       "      <th>column_name</th>\n",
       "      <th>data_type</th>\n",
       "    </tr>\n",
       "  </thead>\n",
       "  <tbody>\n",
       "    <tr>\n",
       "      <th>0</th>\n",
       "      <td>phone</td>\n",
       "      <td>c1</td>\n",
       "      <td>text</td>\n",
       "    </tr>\n",
       "    <tr>\n",
       "      <th>1</th>\n",
       "      <td>phone</td>\n",
       "      <td>c2</td>\n",
       "      <td>text</td>\n",
       "    </tr>\n",
       "  </tbody>\n",
       "</table>\n",
       "</div>"
      ],
      "text/plain": [
       "  table_name column_name data_type\n",
       "0      phone          c1      text\n",
       "1      phone          c2      text"
      ]
     },
     "execution_count": 17,
     "metadata": {},
     "output_type": "execute_result"
    }
   ],
   "source": [
    "phone_info"
   ]
  },
  {
   "cell_type": "markdown",
   "id": "a8adfb58",
   "metadata": {},
   "source": [
    "В описании проекта данные о таблице 'phone' выглядят вот так:\n",
    "- customerID — ID пользователя;\n",
    "- MultipleLines — подключение телефона к нескольким линиям"
   ]
  },
  {
   "cell_type": "markdown",
   "id": "1f843439",
   "metadata": {},
   "source": [
    "Стоит выбрать несколько строк данных чтобы проверить если данные хранятся в таком же порядке."
   ]
  },
  {
   "cell_type": "code",
   "execution_count": 18,
   "id": "e2830376",
   "metadata": {},
   "outputs": [],
   "source": [
    "query_phone_sample = \\\n",
    "\"SELECT * FROM telecom.phone LIMIT 5;\"\n",
    "columns_phone_sample = ['customerID', 'MultipleLines']\n",
    "phone_sample = postgresql_to_dataframe(conn, query_phone_sample, columns_phone_sample)"
   ]
  },
  {
   "cell_type": "code",
   "execution_count": 19,
   "id": "8384cf4d",
   "metadata": {},
   "outputs": [
    {
     "data": {
      "text/html": [
       "<div>\n",
       "<style scoped>\n",
       "    .dataframe tbody tr th:only-of-type {\n",
       "        vertical-align: middle;\n",
       "    }\n",
       "\n",
       "    .dataframe tbody tr th {\n",
       "        vertical-align: top;\n",
       "    }\n",
       "\n",
       "    .dataframe thead th {\n",
       "        text-align: right;\n",
       "    }\n",
       "</style>\n",
       "<table border=\"1\" class=\"dataframe\">\n",
       "  <thead>\n",
       "    <tr style=\"text-align: right;\">\n",
       "      <th></th>\n",
       "      <th>customerID</th>\n",
       "      <th>MultipleLines</th>\n",
       "    </tr>\n",
       "  </thead>\n",
       "  <tbody>\n",
       "    <tr>\n",
       "      <th>0</th>\n",
       "      <td>customerID</td>\n",
       "      <td>MultipleLines</td>\n",
       "    </tr>\n",
       "    <tr>\n",
       "      <th>1</th>\n",
       "      <td>5575-GNVDE</td>\n",
       "      <td>No</td>\n",
       "    </tr>\n",
       "    <tr>\n",
       "      <th>2</th>\n",
       "      <td>3668-QPYBK</td>\n",
       "      <td>No</td>\n",
       "    </tr>\n",
       "    <tr>\n",
       "      <th>3</th>\n",
       "      <td>9237-HQITU</td>\n",
       "      <td>No</td>\n",
       "    </tr>\n",
       "    <tr>\n",
       "      <th>4</th>\n",
       "      <td>9305-CDSKC</td>\n",
       "      <td>Yes</td>\n",
       "    </tr>\n",
       "  </tbody>\n",
       "</table>\n",
       "</div>"
      ],
      "text/plain": [
       "   customerID  MultipleLines\n",
       "0  customerID  MultipleLines\n",
       "1  5575-GNVDE             No\n",
       "2  3668-QPYBK             No\n",
       "3  9237-HQITU             No\n",
       "4  9305-CDSKC            Yes"
      ]
     },
     "execution_count": 19,
     "metadata": {},
     "output_type": "execute_result"
    }
   ],
   "source": [
    "phone_sample"
   ]
  },
  {
   "cell_type": "markdown",
   "id": "7359e96c",
   "metadata": {},
   "source": [
    "# Исследовательскй Анализ + Предобрабока Данных"
   ]
  },
  {
   "cell_type": "markdown",
   "id": "822af8c9",
   "metadata": {},
   "source": [
    "- Наша модель будет предсказывать если данные ползьватель относится к гуппе которые скорее всего перестанут пользоваться услугами компании.\n",
    "- Нам нужно будет выделить тех ползователей которые перeстали пользоваться услугами и скорее всего мы будем использовать 'telecom.contract' таблицу и 'EndDate' колонку.\n",
    "- У нас будут абоненты с уникальным идентификатором 'customerID' и целевой переменной.\n",
    "- Только остается объединить все остальные полезные признаки (Feature Engineering)."
   ]
  },
  {
   "cell_type": "markdown",
   "id": "ce4569bf",
   "metadata": {},
   "source": [
    "Feature Engineering:\n",
    "- Большинство признаков по 'customerID' можно будет проверить на корреляцию с не большой выборкой для скорости.\n",
    "- Когда мы будем проверять корреляцию нужно будет обращать внимание на качественные и количественные переменные.\n",
    "- Можно будет еще построить признаки по дате:\n",
    "  - Сколько обонент уже ползуется услугами.\n",
    "  - Можно еще провести анализ по окончании действия договоров в зависимости от времени года.\n",
    "  - Этот пункт как совет для компании как улучшить сервис."
   ]
  },
  {
   "cell_type": "markdown",
   "id": "035b7c65",
   "metadata": {},
   "source": [
    "Проверка корреляции:\n",
    "- Мы построим таблицу состоящую из 'customerID' и 'terminated' (целевой признак)\n",
    "- Потом будем рандомно выбирать данные из колонок и сопостовлять по 'customerID'"
   ]
  },
  {
   "cell_type": "code",
   "execution_count": 20,
   "id": "98e10c43",
   "metadata": {},
   "outputs": [],
   "source": [
    "query_customer =\\\n",
    "'SELECT \"customerID\", \"EndDate\" FROM telecom.contract;'\n",
    "columns_customer = ['customerID', 'EndDate']\n",
    "customer = postgresql_to_dataframe(conn, query_customer, columns_customer)"
   ]
  },
  {
   "cell_type": "markdown",
   "id": "1b9660eb",
   "metadata": {},
   "source": [
    "\"posgreSQL работает с учетом регистра, нужно использовать кавычки правильно\""
   ]
  },
  {
   "cell_type": "code",
   "execution_count": 21,
   "id": "5c8b37b7",
   "metadata": {},
   "outputs": [
    {
     "data": {
      "text/html": [
       "<div>\n",
       "<style scoped>\n",
       "    .dataframe tbody tr th:only-of-type {\n",
       "        vertical-align: middle;\n",
       "    }\n",
       "\n",
       "    .dataframe tbody tr th {\n",
       "        vertical-align: top;\n",
       "    }\n",
       "\n",
       "    .dataframe thead th {\n",
       "        text-align: right;\n",
       "    }\n",
       "</style>\n",
       "<table border=\"1\" class=\"dataframe\">\n",
       "  <thead>\n",
       "    <tr style=\"text-align: right;\">\n",
       "      <th></th>\n",
       "      <th>customerID</th>\n",
       "      <th>EndDate</th>\n",
       "    </tr>\n",
       "  </thead>\n",
       "  <tbody>\n",
       "    <tr>\n",
       "      <th>3866</th>\n",
       "      <td>7629-WIXZF</td>\n",
       "      <td>None</td>\n",
       "    </tr>\n",
       "    <tr>\n",
       "      <th>3406</th>\n",
       "      <td>7228-PAQPD</td>\n",
       "      <td>None</td>\n",
       "    </tr>\n",
       "    <tr>\n",
       "      <th>293</th>\n",
       "      <td>9878-TNQGW</td>\n",
       "      <td>2019-12-01</td>\n",
       "    </tr>\n",
       "    <tr>\n",
       "      <th>3081</th>\n",
       "      <td>5035-BVCXS</td>\n",
       "      <td>None</td>\n",
       "    </tr>\n",
       "  </tbody>\n",
       "</table>\n",
       "</div>"
      ],
      "text/plain": [
       "      customerID     EndDate\n",
       "3866  7629-WIXZF        None\n",
       "3406  7228-PAQPD        None\n",
       "293   9878-TNQGW  2019-12-01\n",
       "3081  5035-BVCXS        None"
      ]
     },
     "execution_count": 21,
     "metadata": {},
     "output_type": "execute_result"
    }
   ],
   "source": [
    "customer.sample(4)"
   ]
  },
  {
   "cell_type": "code",
   "execution_count": 22,
   "id": "c7e9e700",
   "metadata": {},
   "outputs": [
    {
     "name": "stdout",
     "output_type": "stream",
     "text": [
      "<class 'pandas.core.frame.DataFrame'>\n",
      "RangeIndex: 7043 entries, 0 to 7042\n",
      "Data columns (total 2 columns):\n",
      " #   Column      Non-Null Count  Dtype \n",
      "---  ------      --------------  ----- \n",
      " 0   customerID  7043 non-null   object\n",
      " 1   EndDate     1869 non-null   object\n",
      "dtypes: object(2)\n",
      "memory usage: 110.2+ KB\n"
     ]
    }
   ],
   "source": [
    "customer.info()"
   ]
  },
  {
   "cell_type": "code",
   "execution_count": 23,
   "id": "a318e1a3",
   "metadata": {},
   "outputs": [],
   "source": [
    "customer['terminated'] = customer.EndDate.notna()"
   ]
  },
  {
   "cell_type": "markdown",
   "id": "6cfb020b",
   "metadata": {},
   "source": [
    "### Проверка Качественных Параметров\n",
    "- Type\n",
    "- PaperlessBilling\n",
    "- PaymentMethod\n",
    "- gender\n",
    "- SeniorCitizen\n",
    "- Partner\n",
    "- Dependents\n",
    "- ItnernetService - OHE?\n",
    "- OnlineSecurity\n",
    "- OnlineBackup\n",
    "- DeviceProtection\n",
    "- TechSupport\n",
    "- StreamingTV\n",
    "- StreamingMovies\n",
    "- MultipleLines"
   ]
  },
  {
   "cell_type": "code",
   "execution_count": 24,
   "id": "c826784c",
   "metadata": {},
   "outputs": [],
   "source": [
    "query_categorical =\\\n",
    "'''\n",
    "WITH good_ids AS (\n",
    "    SELECT \"customerID\"\n",
    "    FROM telecom.contract\n",
    "    ORDER BY RANDOM()\n",
    "    LIMIT 1000\n",
    "), contract_categorical AS (\n",
    "    SELECT \"customerID\", \"Type\", \"PaperlessBilling\", \"PaymentMethod\"\n",
    "    FROM telecom.contract\n",
    "    WHERE \"customerID\" IN (\n",
    "        SELECT *\n",
    "        FROM good_ids\n",
    "    )\n",
    "), personal_categorical AS (\n",
    "    SELECT *\n",
    "    FROM telecom.personal\n",
    "    WHERE \"customerID\" IN (\n",
    "        SELECT *\n",
    "        FROM good_ids\n",
    "    )\n",
    "), internet_categorical AS (\n",
    "    SELECT *\n",
    "    FROM telecom.internet\n",
    "    WHERE \"c1\" IN (\n",
    "        SELECT *\n",
    "        FROM good_ids\n",
    "    )\n",
    "), phone_categorical AS (\n",
    "    SELECT *\n",
    "    FROM telecom.phone\n",
    "    WHERE \"c1\" IN (\n",
    "        SELECT *\n",
    "        FROM good_ids\n",
    "    )\n",
    ")\n",
    "\n",
    "SELECT \n",
    "    key.*, \n",
    "    cc.\"Type\", cc.\"PaperlessBilling\", cc.\"PaymentMethod\",\n",
    "    pc.\"gender\", pc.\"SeniorCitizen\", pc.\"Partner\", \"Dependents\",\n",
    "    ic.\"c2\", ic.\"c3\", ic.\"c4\", ic.\"c5\", ic.\"c6\", ic.\"c7\", ic.\"c8\",\n",
    "    phone_categorical.\"c2\"\n",
    "FROM good_ids AS key\n",
    "    INNER JOIN contract_categorical AS cc\n",
    "    ON key.\"customerID\" = cc.\"customerID\"\n",
    "    INNER JOIN personal_categorical AS pc\n",
    "    ON key.\"customerID\" = pc.\"customerID\"\n",
    "    INNER JOIN internet_categorical AS ic\n",
    "    ON key.\"customerID\" = ic.\"c1\"\n",
    "    INNER JOIN phone_categorical\n",
    "    ON key.\"customerID\" = phone_categorical.\"c1\"\n",
    "    ;\n",
    "'''\n",
    "columns_categorical = [\n",
    "    'customerID', \n",
    "    'Type', 'PaperlessBilling', 'PaymentMethod',\n",
    "    'gender', 'SeniorCitizen', 'Partner', 'Dependents',\n",
    "    'InternetService', 'OnlineSecurity', 'OnlineBackup',\n",
    "    'DeviceProtection', 'TechSupport', 'StreamingTV', 'StreamingMovies',\n",
    "    'MultipleLines'\n",
    "]\n",
    "categorical = postgresql_to_dataframe(conn, query_categorical, columns_categorical)"
   ]
  },
  {
   "cell_type": "code",
   "execution_count": 25,
   "id": "dbcb7599",
   "metadata": {},
   "outputs": [
    {
     "data": {
      "text/html": [
       "<div>\n",
       "<style scoped>\n",
       "    .dataframe tbody tr th:only-of-type {\n",
       "        vertical-align: middle;\n",
       "    }\n",
       "\n",
       "    .dataframe tbody tr th {\n",
       "        vertical-align: top;\n",
       "    }\n",
       "\n",
       "    .dataframe thead th {\n",
       "        text-align: right;\n",
       "    }\n",
       "</style>\n",
       "<table border=\"1\" class=\"dataframe\">\n",
       "  <thead>\n",
       "    <tr style=\"text-align: right;\">\n",
       "      <th></th>\n",
       "      <th>customerID</th>\n",
       "      <th>Type</th>\n",
       "      <th>PaperlessBilling</th>\n",
       "      <th>PaymentMethod</th>\n",
       "      <th>gender</th>\n",
       "      <th>SeniorCitizen</th>\n",
       "      <th>Partner</th>\n",
       "      <th>Dependents</th>\n",
       "      <th>InternetService</th>\n",
       "      <th>OnlineSecurity</th>\n",
       "      <th>OnlineBackup</th>\n",
       "      <th>DeviceProtection</th>\n",
       "      <th>TechSupport</th>\n",
       "      <th>StreamingTV</th>\n",
       "      <th>StreamingMovies</th>\n",
       "      <th>MultipleLines</th>\n",
       "    </tr>\n",
       "  </thead>\n",
       "  <tbody>\n",
       "    <tr>\n",
       "      <th>0</th>\n",
       "      <td>0003-MKNFE</td>\n",
       "      <td>Month-to-month</td>\n",
       "      <td>No</td>\n",
       "      <td>Mailed check</td>\n",
       "      <td>Male</td>\n",
       "      <td>0</td>\n",
       "      <td>No</td>\n",
       "      <td>No</td>\n",
       "      <td>DSL</td>\n",
       "      <td>No</td>\n",
       "      <td>No</td>\n",
       "      <td>No</td>\n",
       "      <td>No</td>\n",
       "      <td>No</td>\n",
       "      <td>Yes</td>\n",
       "      <td>Yes</td>\n",
       "    </tr>\n",
       "    <tr>\n",
       "      <th>1</th>\n",
       "      <td>0013-SMEOE</td>\n",
       "      <td>Two year</td>\n",
       "      <td>Yes</td>\n",
       "      <td>Bank transfer (automatic)</td>\n",
       "      <td>Female</td>\n",
       "      <td>1</td>\n",
       "      <td>Yes</td>\n",
       "      <td>No</td>\n",
       "      <td>Fiber optic</td>\n",
       "      <td>Yes</td>\n",
       "      <td>Yes</td>\n",
       "      <td>Yes</td>\n",
       "      <td>Yes</td>\n",
       "      <td>Yes</td>\n",
       "      <td>Yes</td>\n",
       "      <td>No</td>\n",
       "    </tr>\n",
       "    <tr>\n",
       "      <th>2</th>\n",
       "      <td>0020-INWCK</td>\n",
       "      <td>Two year</td>\n",
       "      <td>Yes</td>\n",
       "      <td>Credit card (automatic)</td>\n",
       "      <td>Female</td>\n",
       "      <td>0</td>\n",
       "      <td>Yes</td>\n",
       "      <td>Yes</td>\n",
       "      <td>Fiber optic</td>\n",
       "      <td>No</td>\n",
       "      <td>Yes</td>\n",
       "      <td>Yes</td>\n",
       "      <td>No</td>\n",
       "      <td>No</td>\n",
       "      <td>Yes</td>\n",
       "      <td>Yes</td>\n",
       "    </tr>\n",
       "    <tr>\n",
       "      <th>3</th>\n",
       "      <td>0107-YHINA</td>\n",
       "      <td>Month-to-month</td>\n",
       "      <td>Yes</td>\n",
       "      <td>Electronic check</td>\n",
       "      <td>Male</td>\n",
       "      <td>0</td>\n",
       "      <td>No</td>\n",
       "      <td>Yes</td>\n",
       "      <td>Fiber optic</td>\n",
       "      <td>No</td>\n",
       "      <td>No</td>\n",
       "      <td>Yes</td>\n",
       "      <td>No</td>\n",
       "      <td>Yes</td>\n",
       "      <td>Yes</td>\n",
       "      <td>Yes</td>\n",
       "    </tr>\n",
       "    <tr>\n",
       "      <th>4</th>\n",
       "      <td>0135-NMXAP</td>\n",
       "      <td>Month-to-month</td>\n",
       "      <td>Yes</td>\n",
       "      <td>Bank transfer (automatic)</td>\n",
       "      <td>Female</td>\n",
       "      <td>0</td>\n",
       "      <td>No</td>\n",
       "      <td>No</td>\n",
       "      <td>Fiber optic</td>\n",
       "      <td>No</td>\n",
       "      <td>Yes</td>\n",
       "      <td>No</td>\n",
       "      <td>No</td>\n",
       "      <td>Yes</td>\n",
       "      <td>No</td>\n",
       "      <td>Yes</td>\n",
       "    </tr>\n",
       "  </tbody>\n",
       "</table>\n",
       "</div>"
      ],
      "text/plain": [
       "   customerID            Type PaperlessBilling              PaymentMethod   \n",
       "0  0003-MKNFE  Month-to-month               No               Mailed check  \\\n",
       "1  0013-SMEOE        Two year              Yes  Bank transfer (automatic)   \n",
       "2  0020-INWCK        Two year              Yes    Credit card (automatic)   \n",
       "3  0107-YHINA  Month-to-month              Yes           Electronic check   \n",
       "4  0135-NMXAP  Month-to-month              Yes  Bank transfer (automatic)   \n",
       "\n",
       "   gender  SeniorCitizen Partner Dependents InternetService OnlineSecurity   \n",
       "0    Male              0      No         No             DSL             No  \\\n",
       "1  Female              1     Yes         No     Fiber optic            Yes   \n",
       "2  Female              0     Yes        Yes     Fiber optic             No   \n",
       "3    Male              0      No        Yes     Fiber optic             No   \n",
       "4  Female              0      No         No     Fiber optic             No   \n",
       "\n",
       "  OnlineBackup DeviceProtection TechSupport StreamingTV StreamingMovies   \n",
       "0           No               No          No          No             Yes  \\\n",
       "1          Yes              Yes         Yes         Yes             Yes   \n",
       "2          Yes              Yes          No          No             Yes   \n",
       "3           No              Yes          No         Yes             Yes   \n",
       "4          Yes               No          No         Yes              No   \n",
       "\n",
       "  MultipleLines  \n",
       "0           Yes  \n",
       "1            No  \n",
       "2           Yes  \n",
       "3           Yes  \n",
       "4           Yes  "
      ]
     },
     "execution_count": 25,
     "metadata": {},
     "output_type": "execute_result"
    }
   ],
   "source": [
    "categorical.head()"
   ]
  },
  {
   "cell_type": "code",
   "execution_count": 26,
   "id": "6247636b",
   "metadata": {},
   "outputs": [
    {
     "name": "stdout",
     "output_type": "stream",
     "text": [
      "customerID           697\n",
      "Type                 3\n",
      "PaperlessBilling     2\n",
      "PaymentMethod        4\n",
      "gender               2\n",
      "SeniorCitizen        2\n",
      "Partner              2\n",
      "Dependents           2\n",
      "InternetService      2\n",
      "OnlineSecurity       2\n",
      "OnlineBackup         2\n",
      "DeviceProtection     2\n",
      "TechSupport          2\n",
      "StreamingTV          2\n",
      "StreamingMovies      2\n",
      "MultipleLines        2\n"
     ]
    }
   ],
   "source": [
    "for column in categorical.columns:\n",
    "    print(\"{:20} {}\".format(column, len(pd.unique(categorical[column]))))"
   ]
  },
  {
   "cell_type": "markdown",
   "id": "500592cf",
   "metadata": {},
   "source": [
    "Благодоря INNER JOIN у нас нет пропусков, но видно что теперь выборка содержит меньше значений, этого должно хватить для корреляции \n",
    "\n",
    "- 'Type' нужно провести OneHotEncoding\n",
    "- 'PaymentMethod' нужно провести OneHotEncoding"
   ]
  },
  {
   "cell_type": "code",
   "execution_count": 27,
   "id": "398e285f",
   "metadata": {},
   "outputs": [
    {
     "data": {
      "text/plain": [
       "array(['Month-to-month', 'Two year', 'One year'], dtype=object)"
      ]
     },
     "execution_count": 27,
     "metadata": {},
     "output_type": "execute_result"
    }
   ],
   "source": [
    "pd.unique(categorical.Type)"
   ]
  },
  {
   "cell_type": "code",
   "execution_count": 28,
   "id": "5e08d09a",
   "metadata": {},
   "outputs": [],
   "source": [
    "categorical['Type_month_to_month'] = categorical.Type == 'Month-to-month'\n",
    "categorical['Type_one_year'] = categorical.Type == 'One year'\n",
    "categorical['Type_two_year'] = categorical.Type == 'Two year'\n",
    "categorical = categorical.drop(columns=['Type'])"
   ]
  },
  {
   "cell_type": "code",
   "execution_count": 29,
   "id": "ed210c91",
   "metadata": {},
   "outputs": [
    {
     "data": {
      "text/plain": [
       "array(['Mailed check', 'Bank transfer (automatic)',\n",
       "       'Credit card (automatic)', 'Electronic check'], dtype=object)"
      ]
     },
     "execution_count": 29,
     "metadata": {},
     "output_type": "execute_result"
    }
   ],
   "source": [
    "pd.unique(categorical.PaymentMethod)"
   ]
  },
  {
   "cell_type": "code",
   "execution_count": 30,
   "id": "4ca46f84",
   "metadata": {},
   "outputs": [],
   "source": [
    "categorical['PaymentMethod_electronic_check'] = categorical['PaymentMethod'] == 'Electronic check'\n",
    "categorical['PaymentMethod_bank_transfer_(automatic)'] = categorical['PaymentMethod'] == 'Bank transfer (automatic)'\n",
    "categorical['PaymentMethod_credict_card_(automatic)'] = categorical['PaymentMethod'] == 'Credit card (automatic)'\n",
    "categorical['PaymentMethod_mailed_check'] = categorical['PaymentMethod'] == 'Mailed check'\n",
    "categorical = categorical.drop(columns=['PaymentMethod'])"
   ]
  },
  {
   "cell_type": "code",
   "execution_count": 31,
   "id": "114b2937",
   "metadata": {},
   "outputs": [],
   "source": [
    "categorical['gender_male'] = categorical['gender'] == 'Male'\n",
    "categorical = categorical.drop(columns=['gender'])"
   ]
  },
  {
   "cell_type": "code",
   "execution_count": 32,
   "id": "0e44fb04",
   "metadata": {},
   "outputs": [],
   "source": [
    "categorical['SeniorCitizen'] = categorical['SeniorCitizen'] == 1"
   ]
  },
  {
   "cell_type": "code",
   "execution_count": 33,
   "id": "e5bde5db",
   "metadata": {},
   "outputs": [],
   "source": [
    "categorical['InternetService_fiber_optic_not_DSL'] = categorical['InternetService'] == 'Fiber optic'\n",
    "categorical = categorical.drop(columns=['InternetService'])"
   ]
  },
  {
   "cell_type": "code",
   "execution_count": 34,
   "id": "efd27c39",
   "metadata": {},
   "outputs": [],
   "source": [
    "yes_no_cols = ['PaperlessBilling', 'Partner', 'Dependents', 'OnlineSecurity', 'OnlineBackup',\n",
    "               'DeviceProtection', 'TechSupport', 'StreamingTV', 'StreamingMovies', 'MultipleLines']\n",
    "for col in yes_no_cols:\n",
    "    categorical[col] = categorical[col] == 'Yes'"
   ]
  },
  {
   "cell_type": "code",
   "execution_count": 35,
   "id": "98401769",
   "metadata": {},
   "outputs": [
    {
     "data": {
      "text/html": [
       "<div>\n",
       "<style scoped>\n",
       "    .dataframe tbody tr th:only-of-type {\n",
       "        vertical-align: middle;\n",
       "    }\n",
       "\n",
       "    .dataframe tbody tr th {\n",
       "        vertical-align: top;\n",
       "    }\n",
       "\n",
       "    .dataframe thead th {\n",
       "        text-align: right;\n",
       "    }\n",
       "</style>\n",
       "<table border=\"1\" class=\"dataframe\">\n",
       "  <thead>\n",
       "    <tr style=\"text-align: right;\">\n",
       "      <th></th>\n",
       "      <th>customerID</th>\n",
       "      <th>PaperlessBilling</th>\n",
       "      <th>SeniorCitizen</th>\n",
       "      <th>Partner</th>\n",
       "      <th>Dependents</th>\n",
       "      <th>OnlineSecurity</th>\n",
       "      <th>OnlineBackup</th>\n",
       "      <th>DeviceProtection</th>\n",
       "      <th>TechSupport</th>\n",
       "      <th>StreamingTV</th>\n",
       "      <th>...</th>\n",
       "      <th>MultipleLines</th>\n",
       "      <th>Type_month_to_month</th>\n",
       "      <th>Type_one_year</th>\n",
       "      <th>Type_two_year</th>\n",
       "      <th>PaymentMethod_electronic_check</th>\n",
       "      <th>PaymentMethod_bank_transfer_(automatic)</th>\n",
       "      <th>PaymentMethod_credict_card_(automatic)</th>\n",
       "      <th>PaymentMethod_mailed_check</th>\n",
       "      <th>gender_male</th>\n",
       "      <th>InternetService_fiber_optic_not_DSL</th>\n",
       "    </tr>\n",
       "  </thead>\n",
       "  <tbody>\n",
       "    <tr>\n",
       "      <th>0</th>\n",
       "      <td>0003-MKNFE</td>\n",
       "      <td>False</td>\n",
       "      <td>False</td>\n",
       "      <td>False</td>\n",
       "      <td>False</td>\n",
       "      <td>False</td>\n",
       "      <td>False</td>\n",
       "      <td>False</td>\n",
       "      <td>False</td>\n",
       "      <td>False</td>\n",
       "      <td>...</td>\n",
       "      <td>True</td>\n",
       "      <td>True</td>\n",
       "      <td>False</td>\n",
       "      <td>False</td>\n",
       "      <td>False</td>\n",
       "      <td>False</td>\n",
       "      <td>False</td>\n",
       "      <td>True</td>\n",
       "      <td>True</td>\n",
       "      <td>False</td>\n",
       "    </tr>\n",
       "    <tr>\n",
       "      <th>1</th>\n",
       "      <td>0013-SMEOE</td>\n",
       "      <td>True</td>\n",
       "      <td>True</td>\n",
       "      <td>True</td>\n",
       "      <td>False</td>\n",
       "      <td>True</td>\n",
       "      <td>True</td>\n",
       "      <td>True</td>\n",
       "      <td>True</td>\n",
       "      <td>True</td>\n",
       "      <td>...</td>\n",
       "      <td>False</td>\n",
       "      <td>False</td>\n",
       "      <td>False</td>\n",
       "      <td>True</td>\n",
       "      <td>False</td>\n",
       "      <td>True</td>\n",
       "      <td>False</td>\n",
       "      <td>False</td>\n",
       "      <td>False</td>\n",
       "      <td>True</td>\n",
       "    </tr>\n",
       "    <tr>\n",
       "      <th>2</th>\n",
       "      <td>0020-INWCK</td>\n",
       "      <td>True</td>\n",
       "      <td>False</td>\n",
       "      <td>True</td>\n",
       "      <td>True</td>\n",
       "      <td>False</td>\n",
       "      <td>True</td>\n",
       "      <td>True</td>\n",
       "      <td>False</td>\n",
       "      <td>False</td>\n",
       "      <td>...</td>\n",
       "      <td>True</td>\n",
       "      <td>False</td>\n",
       "      <td>False</td>\n",
       "      <td>True</td>\n",
       "      <td>False</td>\n",
       "      <td>False</td>\n",
       "      <td>True</td>\n",
       "      <td>False</td>\n",
       "      <td>False</td>\n",
       "      <td>True</td>\n",
       "    </tr>\n",
       "  </tbody>\n",
       "</table>\n",
       "<p>3 rows × 21 columns</p>\n",
       "</div>"
      ],
      "text/plain": [
       "   customerID  PaperlessBilling  SeniorCitizen  Partner  Dependents   \n",
       "0  0003-MKNFE             False          False    False       False  \\\n",
       "1  0013-SMEOE              True           True     True       False   \n",
       "2  0020-INWCK              True          False     True        True   \n",
       "\n",
       "   OnlineSecurity  OnlineBackup  DeviceProtection  TechSupport  StreamingTV   \n",
       "0           False         False             False        False        False  \\\n",
       "1            True          True              True         True         True   \n",
       "2           False          True              True        False        False   \n",
       "\n",
       "   ...  MultipleLines  Type_month_to_month  Type_one_year  Type_two_year   \n",
       "0  ...           True                 True          False          False  \\\n",
       "1  ...          False                False          False           True   \n",
       "2  ...           True                False          False           True   \n",
       "\n",
       "   PaymentMethod_electronic_check  PaymentMethod_bank_transfer_(automatic)   \n",
       "0                           False                                    False  \\\n",
       "1                           False                                     True   \n",
       "2                           False                                    False   \n",
       "\n",
       "   PaymentMethod_credict_card_(automatic)  PaymentMethod_mailed_check   \n",
       "0                                   False                        True  \\\n",
       "1                                   False                       False   \n",
       "2                                    True                       False   \n",
       "\n",
       "   gender_male  InternetService_fiber_optic_not_DSL  \n",
       "0         True                                False  \n",
       "1        False                                 True  \n",
       "2        False                                 True  \n",
       "\n",
       "[3 rows x 21 columns]"
      ]
     },
     "execution_count": 35,
     "metadata": {},
     "output_type": "execute_result"
    }
   ],
   "source": [
    "categorical.head(3)"
   ]
  },
  {
   "cell_type": "code",
   "execution_count": 36,
   "id": "299f8d82",
   "metadata": {},
   "outputs": [],
   "source": [
    "categorical = pd.merge(categorical, customer, on='customerID', how='inner')"
   ]
  },
  {
   "cell_type": "code",
   "execution_count": 37,
   "id": "10cf3bde",
   "metadata": {},
   "outputs": [],
   "source": [
    "categorical = categorical.drop(columns=['EndDate'])"
   ]
  },
  {
   "cell_type": "code",
   "execution_count": 38,
   "id": "cdec6a1c",
   "metadata": {},
   "outputs": [
    {
     "data": {
      "image/png": "[encoded data removed]",
      "text/plain": [
       "<Figure size 640x480 with 1 Axes>"
      ]
     },
     "metadata": {},
     "output_type": "display_data"
    },
    {
     "data": {
      "image/png": "[encoded data removed]",
      "text/plain": [
       "<Figure size 640x480 with 1 Axes>"
      ]
     },
     "metadata": {},
     "output_type": "display_data"
    },
    {
     "data": {
      "image/png": "[encoded data removed]",
      "text/plain": [
       "<Figure size 640x480 with 1 Axes>"
      ]
     },
     "metadata": {},
     "output_type": "display_data"
    }
   ],
   "source": [
    "names = []\n",
    "chi2_list = []\n",
    "p_value_list = []\n",
    "cramers_v_list = []\n",
    "\n",
    "significant_cols = []\n",
    "\n",
    "for col in categorical.columns:\n",
    "    if col == 'customerID' or col == 'terminated':\n",
    "        continue\n",
    "    \n",
    "    # Create a contingency table\n",
    "    contingency_table = pd.crosstab(categorical[col], categorical['terminated'])\n",
    "\n",
    "    # Perform the chi-square test\n",
    "    chi2, p_value, _, _ = stats.chi2_contingency(contingency_table)\n",
    "\n",
    "    # Calculate Cramer's V\n",
    "    n = contingency_table.sum().sum()\n",
    "    phi_corr = np.sqrt(chi2 / (n * (min(contingency_table.shape)-1)))\n",
    "    cramers_v = phi_corr\n",
    "    \n",
    "    if cramers_v > 0.04:\n",
    "        significant_cols.append(col)\n",
    "    \n",
    "    names.append(col)\n",
    "    chi2_list.append(chi2)\n",
    "    p_value_list.append(p_value)\n",
    "    cramers_v_list.append(cramers_v)\n",
    "    \n",
    "#     print('{:40} Chi-square-{:5.1f} P-value-{:.2f} Cramer\\'s V-{:.2f}'\\\n",
    "#           .format(str(col), chi2, p_value, cramers_v))\n",
    "x_axis = range(1, len(names) + 1)\n",
    "plt.barh(names, chi2_list)\n",
    "plt.title('chi2')\n",
    "plt.show()\n",
    "plt.barh(names, p_value_list)\n",
    "plt.title('p_value')\n",
    "plt.show()\n",
    "plt.barh(names, cramers_v_list)\n",
    "plt.title('cramers_v')\n",
    "plt.show()"
   ]
  },
  {
   "cell_type": "code",
   "execution_count": 39,
   "id": "afefae68",
   "metadata": {},
   "outputs": [],
   "source": [
    "def cramers_v(x, y):\n",
    "    contingency_table = pd.crosstab(x, y)\n",
    "    chi2, _, _, _ = stats.chi2_contingency(contingency_table)\n",
    "\n",
    "    n = contingency_table.sum().sum()\n",
    "    cramers_v = np.sqrt(chi2 / (n * (min(contingency_table.shape) - 1)))\n",
    "\n",
    "    return cramers_v"
   ]
  },
  {
   "cell_type": "code",
   "execution_count": 40,
   "id": "aee846cf",
   "metadata": {},
   "outputs": [
    {
     "data": {
      "text/html": [
       "<div>\n",
       "<style scoped>\n",
       "    .dataframe tbody tr th:only-of-type {\n",
       "        vertical-align: middle;\n",
       "    }\n",
       "\n",
       "    .dataframe tbody tr th {\n",
       "        vertical-align: top;\n",
       "    }\n",
       "\n",
       "    .dataframe thead th {\n",
       "        text-align: right;\n",
       "    }\n",
       "</style>\n",
       "<table border=\"1\" class=\"dataframe\">\n",
       "  <thead>\n",
       "    <tr style=\"text-align: right;\">\n",
       "      <th></th>\n",
       "      <th>terminated</th>\n",
       "      <th>PaperlessBilling</th>\n",
       "    </tr>\n",
       "  </thead>\n",
       "  <tbody>\n",
       "    <tr>\n",
       "      <th>terminated</th>\n",
       "      <td>1.000000</td>\n",
       "      <td>0.157762</td>\n",
       "    </tr>\n",
       "    <tr>\n",
       "      <th>PaperlessBilling</th>\n",
       "      <td>0.157762</td>\n",
       "      <td>1.000000</td>\n",
       "    </tr>\n",
       "  </tbody>\n",
       "</table>\n",
       "</div>"
      ],
      "text/plain": [
       "                  terminated  PaperlessBilling\n",
       "terminated          1.000000          0.157762\n",
       "PaperlessBilling    0.157762          1.000000"
      ]
     },
     "execution_count": 40,
     "metadata": {},
     "output_type": "execute_result"
    }
   ],
   "source": [
    "# Calculate the correlation matrixa\n",
    "categorical[['terminated', 'PaperlessBilling']].corr(method=cramers_v)"
   ]
  },
  {
   "cell_type": "code",
   "execution_count": 41,
   "id": "77948aca",
   "metadata": {},
   "outputs": [
    {
     "data": {
      "image/png": "[encoded data removed]",
      "text/plain": [
       "<Figure size 640x480 with 2 Axes>"
      ]
     },
     "metadata": {},
     "output_type": "display_data"
    }
   ],
   "source": [
    "# Calculate the correlation matrixa\n",
    "correlation_matrix = categorical.drop(columns=['customerID']).corr(method=cramers_v)\n",
    "\n",
    "# Plot the correlation matrix as a heatmap\n",
    "sns.heatmap(correlation_matrix, cmap='coolwarm')\n",
    "\n",
    "# Show the plot\n",
    "plt.show()"
   ]
  },
  {
   "cell_type": "code",
   "execution_count": 42,
   "id": "b3417ee6",
   "metadata": {},
   "outputs": [
    {
     "data": {
      "text/plain": [
       "['PaperlessBilling',\n",
       " 'SeniorCitizen',\n",
       " 'Partner',\n",
       " 'Dependents',\n",
       " 'OnlineSecurity',\n",
       " 'OnlineBackup',\n",
       " 'DeviceProtection',\n",
       " 'TechSupport',\n",
       " 'StreamingTV',\n",
       " 'StreamingMovies',\n",
       " 'Type_month_to_month',\n",
       " 'Type_one_year',\n",
       " 'Type_two_year',\n",
       " 'PaymentMethod_electronic_check',\n",
       " 'PaymentMethod_bank_transfer_(automatic)',\n",
       " 'PaymentMethod_credict_card_(automatic)',\n",
       " 'PaymentMethod_mailed_check',\n",
       " 'InternetService_fiber_optic_not_DSL']"
      ]
     },
     "execution_count": 42,
     "metadata": {},
     "output_type": "execute_result"
    }
   ],
   "source": [
    "significant_cols"
   ]
  },
  {
   "cell_type": "code",
   "execution_count": 43,
   "id": "a8af1e4d",
   "metadata": {},
   "outputs": [
    {
     "name": "stdout",
     "output_type": "stream",
     "text": [
      "target value count ratio 0.35\n"
     ]
    }
   ],
   "source": [
    "print('target value count ratio {:.2f}'.format(categorical.terminated.sum() /\\\n",
    "                                               categorical.shape[0]))"
   ]
  },
  {
   "cell_type": "markdown",
   "id": "58c92866",
   "metadata": {},
   "source": [
    "Это количество данных где мы потеряли клиентов, чтобы корреляция не потерялась"
   ]
  },
  {
   "cell_type": "markdown",
   "id": "41d9b088",
   "metadata": {},
   "source": [
    "<div class=\"alert alert-warning\">\n",
    "    <h2> Комментарий ревьюера <a class=\"tocSkip\"> </h2>\n",
    "    \n",
    "<b>Некоторые замечания и рекомендации💡:</b> Напоминаю о проверке дисбаланса классов\n",
    "    \n",
    "Знай, что метрика ROC-AUC устойчива к дисбалансу классов, поэтому нам можно не проводить балансировку классов"
   ]
  },
  {
   "cell_type": "markdown",
   "id": "4cc9dd2d",
   "metadata": {},
   "source": [
    "### Проверим Корреляцию на Колличественных Данных"
   ]
  },
  {
   "cell_type": "markdown",
   "id": "42c3571e",
   "metadata": {},
   "source": [
    "- MontlyCharges\n",
    "- TotalCharges"
   ]
  },
  {
   "cell_type": "code",
   "execution_count": 44,
   "id": "6f029f22",
   "metadata": {},
   "outputs": [],
   "source": [
    "query_numerical =\\\n",
    "'''\n",
    "WITH good_ids AS (\n",
    "    SELECT \"customerID\"\n",
    "    FROM telecom.contract\n",
    "    ORDER BY RANDOM()\n",
    "    LIMIT 1000\n",
    ")\n",
    "\n",
    "SELECT \"customerID\", \"MonthlyCharges\", \"TotalCharges\"\n",
    "FROM telecom.contract\n",
    "WHERE \"customerID\" IN (\n",
    "    SELECT *\n",
    "    FROM good_ids\n",
    ");\n",
    "'''\n",
    "columns_numerical = ['customerID', 'MonthlyCharges', 'TotalCharges']\n",
    "numerical = postgresql_to_dataframe(conn, query_numerical, columns_numerical)"
   ]
  },
  {
   "cell_type": "code",
   "execution_count": 45,
   "id": "2f7610a1",
   "metadata": {},
   "outputs": [
    {
     "data": {
      "text/html": [
       "<div>\n",
       "<style scoped>\n",
       "    .dataframe tbody tr th:only-of-type {\n",
       "        vertical-align: middle;\n",
       "    }\n",
       "\n",
       "    .dataframe tbody tr th {\n",
       "        vertical-align: top;\n",
       "    }\n",
       "\n",
       "    .dataframe thead th {\n",
       "        text-align: right;\n",
       "    }\n",
       "</style>\n",
       "<table border=\"1\" class=\"dataframe\">\n",
       "  <thead>\n",
       "    <tr style=\"text-align: right;\">\n",
       "      <th></th>\n",
       "      <th>customerID</th>\n",
       "      <th>MonthlyCharges</th>\n",
       "      <th>TotalCharges</th>\n",
       "    </tr>\n",
       "  </thead>\n",
       "  <tbody>\n",
       "    <tr>\n",
       "      <th>0</th>\n",
       "      <td>4367-NUYAO</td>\n",
       "      <td>25.75</td>\n",
       "      <td>None</td>\n",
       "    </tr>\n",
       "    <tr>\n",
       "      <th>1</th>\n",
       "      <td>2923-ARZLG</td>\n",
       "      <td>19.7</td>\n",
       "      <td>None</td>\n",
       "    </tr>\n",
       "    <tr>\n",
       "      <th>2</th>\n",
       "      <td>2775-SEFEE</td>\n",
       "      <td>61.9</td>\n",
       "      <td>None</td>\n",
       "    </tr>\n",
       "  </tbody>\n",
       "</table>\n",
       "</div>"
      ],
      "text/plain": [
       "   customerID MonthlyCharges TotalCharges\n",
       "0  4367-NUYAO          25.75         None\n",
       "1  2923-ARZLG           19.7         None\n",
       "2  2775-SEFEE           61.9         None"
      ]
     },
     "execution_count": 45,
     "metadata": {},
     "output_type": "execute_result"
    }
   ],
   "source": [
    "numerical.head(3)"
   ]
  },
  {
   "cell_type": "code",
   "execution_count": 46,
   "id": "7d4a6c73",
   "metadata": {},
   "outputs": [
    {
     "data": {
      "image/png": "[encoded data removed]",
      "text/plain": [
       "<Figure size 640x480 with 1 Axes>"
      ]
     },
     "metadata": {},
     "output_type": "display_data"
    }
   ],
   "source": [
    "numerical.MonthlyCharges.hist()\n",
    "plt.title('Распределение Величины Месечных Оплат')\n",
    "plt.xlabel('Величина Оплат')\n",
    "plt.ylabel('кол-во')\n",
    "plt.show()"
   ]
  },
  {
   "cell_type": "code",
   "execution_count": 47,
   "id": "2ae8aef6",
   "metadata": {},
   "outputs": [
    {
     "data": {
      "image/png": "[encoded data removed]",
      "text/plain": [
       "<Figure size 640x480 with 1 Axes>"
      ]
     },
     "metadata": {},
     "output_type": "display_data"
    }
   ],
   "source": [
    "numerical.TotalCharges.hist()\n",
    "plt.title('Распределение Величины Всех Оплат')\n",
    "plt.xlabel('Величина Оплат')\n",
    "plt.ylabel('кол-во')\n",
    "plt.show()"
   ]
  },
  {
   "cell_type": "code",
   "execution_count": 48,
   "id": "3ea9fc5b",
   "metadata": {},
   "outputs": [],
   "source": [
    "numerical = pd.merge(numerical, customer, on='customerID', how='inner')"
   ]
  },
  {
   "cell_type": "code",
   "execution_count": 49,
   "id": "8c3d83f8",
   "metadata": {},
   "outputs": [
    {
     "name": "stdout",
     "output_type": "stream",
     "text": [
      "<class 'pandas.core.frame.DataFrame'>\n",
      "RangeIndex: 1000 entries, 0 to 999\n",
      "Data columns (total 5 columns):\n",
      " #   Column          Non-Null Count  Dtype \n",
      "---  ------          --------------  ----- \n",
      " 0   customerID      1000 non-null   object\n",
      " 1   MonthlyCharges  1000 non-null   object\n",
      " 2   TotalCharges    996 non-null    object\n",
      " 3   EndDate         271 non-null    object\n",
      " 4   terminated      1000 non-null   bool  \n",
      "dtypes: bool(1), object(4)\n",
      "memory usage: 32.4+ KB\n"
     ]
    }
   ],
   "source": [
    "numerical.info()"
   ]
  },
  {
   "cell_type": "code",
   "execution_count": 50,
   "id": "e580107f",
   "metadata": {},
   "outputs": [],
   "source": [
    "numerical.MonthlyCharges = numerical.MonthlyCharges.astype('float')"
   ]
  },
  {
   "cell_type": "code",
   "execution_count": 51,
   "id": "73cb617a",
   "metadata": {},
   "outputs": [],
   "source": [
    "numerical.TotalCharges = numerical.TotalCharges.astype('float')"
   ]
  },
  {
   "cell_type": "code",
   "execution_count": 52,
   "id": "015c6275",
   "metadata": {},
   "outputs": [
    {
     "data": {
      "text/plain": [
       "0.20682320136210716"
      ]
     },
     "execution_count": 52,
     "metadata": {},
     "output_type": "execute_result"
    }
   ],
   "source": [
    "numerical.MonthlyCharges.corr(numerical.terminated)"
   ]
  },
  {
   "cell_type": "code",
   "execution_count": 53,
   "id": "51a02bb9",
   "metadata": {},
   "outputs": [
    {
     "data": {
      "text/plain": [
       "-0.17383681124650874"
      ]
     },
     "execution_count": 53,
     "metadata": {},
     "output_type": "execute_result"
    }
   ],
   "source": [
    "numerical.TotalCharges.corr(numerical.terminated)"
   ]
  },
  {
   "cell_type": "markdown",
   "id": "76e57a68",
   "metadata": {},
   "source": [
    "Наблюдается корреляция которая пригодится"
   ]
  },
  {
   "cell_type": "markdown",
   "id": "0445c69d",
   "metadata": {},
   "source": [
    "Построим новые данные:\n",
    "- сколько клиент на продолжении времени пользуется услугами"
   ]
  },
  {
   "cell_type": "code",
   "execution_count": 54,
   "id": "d0cd431c",
   "metadata": {},
   "outputs": [],
   "source": [
    "query_contract_length =\\\n",
    "'''\n",
    "WITH good_ids AS (\n",
    "    SELECT \"customerID\"\n",
    "    FROM telecom.contract\n",
    "    ORDER BY RANDOM()\n",
    "    LIMIT 1000\n",
    ")\n",
    "\n",
    "SELECT \"customerID\", COALESCE(\"EndDate\", '2020-02-1') - \"BeginDate\" AS \"ContractLifeDays\"\n",
    "FROM telecom.contract\n",
    "WHERE \"customerID\" IN (\n",
    "    SELECT *\n",
    "    FROM good_ids\n",
    ");\n",
    "'''\n",
    "columns_contract_length = ['customerID', 'ContractLifeDays']\n",
    "contract_length = postgresql_to_dataframe(conn, query_contract_length, columns_contract_length)"
   ]
  },
  {
   "cell_type": "code",
   "execution_count": 55,
   "id": "a0419102",
   "metadata": {},
   "outputs": [
    {
     "data": {
      "text/html": [
       "<div>\n",
       "<style scoped>\n",
       "    .dataframe tbody tr th:only-of-type {\n",
       "        vertical-align: middle;\n",
       "    }\n",
       "\n",
       "    .dataframe tbody tr th {\n",
       "        vertical-align: top;\n",
       "    }\n",
       "\n",
       "    .dataframe thead th {\n",
       "        text-align: right;\n",
       "    }\n",
       "</style>\n",
       "<table border=\"1\" class=\"dataframe\">\n",
       "  <thead>\n",
       "    <tr style=\"text-align: right;\">\n",
       "      <th></th>\n",
       "      <th>customerID</th>\n",
       "      <th>ContractLifeDays</th>\n",
       "    </tr>\n",
       "  </thead>\n",
       "  <tbody>\n",
       "    <tr>\n",
       "      <th>0</th>\n",
       "      <td>8779-QRDMV</td>\n",
       "      <td>297</td>\n",
       "    </tr>\n",
       "    <tr>\n",
       "      <th>1</th>\n",
       "      <td>5698-BQJOH</td>\n",
       "      <td>241</td>\n",
       "    </tr>\n",
       "    <tr>\n",
       "      <th>2</th>\n",
       "      <td>5919-TMRGD</td>\n",
       "      <td>206</td>\n",
       "    </tr>\n",
       "    <tr>\n",
       "      <th>3</th>\n",
       "      <td>6207-WIOLX</td>\n",
       "      <td>397</td>\n",
       "    </tr>\n",
       "    <tr>\n",
       "      <th>4</th>\n",
       "      <td>1875-QIVME</td>\n",
       "      <td>160</td>\n",
       "    </tr>\n",
       "  </tbody>\n",
       "</table>\n",
       "</div>"
      ],
      "text/plain": [
       "   customerID  ContractLifeDays\n",
       "0  8779-QRDMV               297\n",
       "1  5698-BQJOH               241\n",
       "2  5919-TMRGD               206\n",
       "3  6207-WIOLX               397\n",
       "4  1875-QIVME               160"
      ]
     },
     "execution_count": 55,
     "metadata": {},
     "output_type": "execute_result"
    }
   ],
   "source": [
    "contract_length.head(5)"
   ]
  },
  {
   "cell_type": "code",
   "execution_count": 56,
   "id": "1e05e143",
   "metadata": {},
   "outputs": [
    {
     "data": {
      "image/png": "[encoded data removed]",
      "text/plain": [
       "<Figure size 640x480 with 1 Axes>"
      ]
     },
     "metadata": {},
     "output_type": "display_data"
    }
   ],
   "source": [
    "contract_length.ContractLifeDays.hist()\n",
    "plt.title('Распределение Длительности Контрактов')\n",
    "plt.xlabel('Длина Контракта (дни)')\n",
    "plt.ylabel('кол-во')\n",
    "plt.show()"
   ]
  },
  {
   "cell_type": "code",
   "execution_count": 57,
   "id": "9aa4c61c",
   "metadata": {},
   "outputs": [],
   "source": [
    "contract_length = pd.merge(contract_length, customer, on='customerID', how='inner')"
   ]
  },
  {
   "cell_type": "code",
   "execution_count": 58,
   "id": "a958880d",
   "metadata": {},
   "outputs": [],
   "source": [
    "contract_length = contract_length.drop(columns='EndDate')"
   ]
  },
  {
   "cell_type": "code",
   "execution_count": 59,
   "id": "01c1a06f",
   "metadata": {},
   "outputs": [
    {
     "data": {
      "text/html": [
       "<div>\n",
       "<style scoped>\n",
       "    .dataframe tbody tr th:only-of-type {\n",
       "        vertical-align: middle;\n",
       "    }\n",
       "\n",
       "    .dataframe tbody tr th {\n",
       "        vertical-align: top;\n",
       "    }\n",
       "\n",
       "    .dataframe thead th {\n",
       "        text-align: right;\n",
       "    }\n",
       "</style>\n",
       "<table border=\"1\" class=\"dataframe\">\n",
       "  <thead>\n",
       "    <tr style=\"text-align: right;\">\n",
       "      <th></th>\n",
       "      <th>customerID</th>\n",
       "      <th>ContractLifeDays</th>\n",
       "      <th>terminated</th>\n",
       "    </tr>\n",
       "  </thead>\n",
       "  <tbody>\n",
       "    <tr>\n",
       "      <th>0</th>\n",
       "      <td>8779-QRDMV</td>\n",
       "      <td>297</td>\n",
       "      <td>True</td>\n",
       "    </tr>\n",
       "    <tr>\n",
       "      <th>1</th>\n",
       "      <td>5698-BQJOH</td>\n",
       "      <td>241</td>\n",
       "      <td>True</td>\n",
       "    </tr>\n",
       "    <tr>\n",
       "      <th>2</th>\n",
       "      <td>5919-TMRGD</td>\n",
       "      <td>206</td>\n",
       "      <td>True</td>\n",
       "    </tr>\n",
       "    <tr>\n",
       "      <th>3</th>\n",
       "      <td>6207-WIOLX</td>\n",
       "      <td>397</td>\n",
       "      <td>True</td>\n",
       "    </tr>\n",
       "    <tr>\n",
       "      <th>4</th>\n",
       "      <td>1875-QIVME</td>\n",
       "      <td>160</td>\n",
       "      <td>True</td>\n",
       "    </tr>\n",
       "  </tbody>\n",
       "</table>\n",
       "</div>"
      ],
      "text/plain": [
       "   customerID  ContractLifeDays  terminated\n",
       "0  8779-QRDMV               297        True\n",
       "1  5698-BQJOH               241        True\n",
       "2  5919-TMRGD               206        True\n",
       "3  6207-WIOLX               397        True\n",
       "4  1875-QIVME               160        True"
      ]
     },
     "execution_count": 59,
     "metadata": {},
     "output_type": "execute_result"
    }
   ],
   "source": [
    "contract_length.head()"
   ]
  },
  {
   "cell_type": "code",
   "execution_count": 60,
   "id": "ee9e870d",
   "metadata": {},
   "outputs": [
    {
     "name": "stdout",
     "output_type": "stream",
     "text": [
      "target value count ratio 0.25\n"
     ]
    }
   ],
   "source": [
    "print('target value count ratio {:.2f}'.format(contract_length.terminated.sum() /\\\n",
    "                                               contract_length.shape[0]))"
   ]
  },
  {
   "cell_type": "code",
   "execution_count": 61,
   "id": "609a425c",
   "metadata": {},
   "outputs": [
    {
     "data": {
      "text/plain": [
       "-0.00517189550145891"
      ]
     },
     "execution_count": 61,
     "metadata": {},
     "output_type": "execute_result"
    }
   ],
   "source": [
    "contract_length.ContractLifeDays.corr(contract_length.terminated)"
   ]
  },
  {
   "cell_type": "markdown",
   "id": "1b655247",
   "metadata": {},
   "source": [
    "Видно что корреляция очень слабая, даже не стоит использовать эти данные."
   ]
  },
  {
   "cell_type": "markdown",
   "id": "ed0a5521",
   "metadata": {},
   "source": [
    "### Выгрузка Данных"
   ]
  },
  {
   "cell_type": "code",
   "execution_count": 62,
   "id": "356b1180",
   "metadata": {},
   "outputs": [
    {
     "data": {
      "text/plain": [
       "['PaperlessBilling',\n",
       " 'SeniorCitizen',\n",
       " 'Partner',\n",
       " 'Dependents',\n",
       " 'OnlineSecurity',\n",
       " 'OnlineBackup',\n",
       " 'DeviceProtection',\n",
       " 'TechSupport',\n",
       " 'StreamingTV',\n",
       " 'StreamingMovies',\n",
       " 'Type_month_to_month',\n",
       " 'Type_one_year',\n",
       " 'Type_two_year',\n",
       " 'PaymentMethod_electronic_check',\n",
       " 'PaymentMethod_bank_transfer_(automatic)',\n",
       " 'PaymentMethod_credict_card_(automatic)',\n",
       " 'PaymentMethod_mailed_check',\n",
       " 'InternetService_fiber_optic_not_DSL']"
      ]
     },
     "execution_count": 62,
     "metadata": {},
     "output_type": "execute_result"
    }
   ],
   "source": [
    "significant_cols"
   ]
  },
  {
   "cell_type": "code",
   "execution_count": 63,
   "id": "1c1437e8",
   "metadata": {},
   "outputs": [
    {
     "data": {
      "text/html": [
       "<div>\n",
       "<style scoped>\n",
       "    .dataframe tbody tr th:only-of-type {\n",
       "        vertical-align: middle;\n",
       "    }\n",
       "\n",
       "    .dataframe tbody tr th {\n",
       "        vertical-align: top;\n",
       "    }\n",
       "\n",
       "    .dataframe thead th {\n",
       "        text-align: right;\n",
       "    }\n",
       "</style>\n",
       "<table border=\"1\" class=\"dataframe\">\n",
       "  <thead>\n",
       "    <tr style=\"text-align: right;\">\n",
       "      <th></th>\n",
       "      <th>customerID</th>\n",
       "      <th>ItnernetService</th>\n",
       "      <th>OnlineSecurity</th>\n",
       "      <th>OnlineBackup</th>\n",
       "      <th>DeviceProtection</th>\n",
       "      <th>TechSupport</th>\n",
       "      <th>StreamingTV</th>\n",
       "      <th>StreamingMovies</th>\n",
       "    </tr>\n",
       "  </thead>\n",
       "  <tbody>\n",
       "    <tr>\n",
       "      <th>0</th>\n",
       "      <td>customerID</td>\n",
       "      <td>InternetService</td>\n",
       "      <td>OnlineSecurity</td>\n",
       "      <td>OnlineBackup</td>\n",
       "      <td>DeviceProtection</td>\n",
       "      <td>TechSupport</td>\n",
       "      <td>StreamingTV</td>\n",
       "      <td>StreamingMovies</td>\n",
       "    </tr>\n",
       "    <tr>\n",
       "      <th>1</th>\n",
       "      <td>7590-VHVEG</td>\n",
       "      <td>DSL</td>\n",
       "      <td>No</td>\n",
       "      <td>Yes</td>\n",
       "      <td>No</td>\n",
       "      <td>No</td>\n",
       "      <td>No</td>\n",
       "      <td>No</td>\n",
       "    </tr>\n",
       "  </tbody>\n",
       "</table>\n",
       "</div>"
      ],
      "text/plain": [
       "   customerID  ItnernetService  OnlineSecurity  OnlineBackup   \n",
       "0  customerID  InternetService  OnlineSecurity  OnlineBackup  \\\n",
       "1  7590-VHVEG              DSL              No           Yes   \n",
       "\n",
       "   DeviceProtection  TechSupport  StreamingTV  StreamingMovies  \n",
       "0  DeviceProtection  TechSupport  StreamingTV  StreamingMovies  \n",
       "1                No           No           No               No  "
      ]
     },
     "execution_count": 63,
     "metadata": {},
     "output_type": "execute_result"
    }
   ],
   "source": [
    "internet_sample.head(2)"
   ]
  },
  {
   "cell_type": "code",
   "execution_count": 64,
   "id": "4ffa1cca",
   "metadata": {},
   "outputs": [],
   "source": [
    "query_df = \\\n",
    "'''\n",
    "SELECT \n",
    "    CASE\n",
    "        WHEN c.\"EndDate\" IS NOT NULL THEN TRUE\n",
    "        ELSE FALSE\n",
    "    END AS terminated,\n",
    "    COALESCE(c.\"EndDate\", '2020-02-1') - c.\"BeginDate\" AS \"ContractLifeDays\",\n",
    "    c.\"Type\", c.\"PaymentMethod\", c.\"MonthlyCharges\", c.\"TotalCharges\", c.\"PaperlessBilling\",\n",
    "    p.\"SeniorCitizen\", p.\"Partner\", p.\"Dependents\",\n",
    "    i.\"c2\", i.\"c3\", i.\"c4\", i.\"c5\", i.\"c6\", i.\"c7\", i.\"c8\",\n",
    "    phone.\"c2\"\n",
    "FROM telecom.contract AS c\n",
    "    LEFT JOIN telecom.personal AS p\n",
    "    ON c.\"customerID\" = p.\"customerID\"\n",
    "    LEFT JOIN telecom.internet AS i\n",
    "    ON c.\"customerID\" = i.\"c1\"\n",
    "    LEFT JOIN telecom.phone\n",
    "    ON c.\"customerID\" = phone.\"c1\"\n",
    "'''\n",
    "columns_df = ['terminated', 'days', 'type', 'payment_method', 'monthly_charges',\n",
    "              'total_charges', 'paperless_billing', 'senior_citizen', 'partner', 'dependents',\n",
    "              'internet_service', 'online_security', 'online_backup', 'device_protection', \n",
    "              'tech_support', 'streaming_tv', 'streaming_movies', 'multiple_lines']\n",
    "df = postgresql_to_dataframe(conn, query_df, columns_df)"
   ]
  },
  {
   "cell_type": "code",
   "execution_count": 65,
   "id": "4c2004a3",
   "metadata": {},
   "outputs": [
    {
     "data": {
      "text/html": [
       "<div>\n",
       "<style scoped>\n",
       "    .dataframe tbody tr th:only-of-type {\n",
       "        vertical-align: middle;\n",
       "    }\n",
       "\n",
       "    .dataframe tbody tr th {\n",
       "        vertical-align: top;\n",
       "    }\n",
       "\n",
       "    .dataframe thead th {\n",
       "        text-align: right;\n",
       "    }\n",
       "</style>\n",
       "<table border=\"1\" class=\"dataframe\">\n",
       "  <thead>\n",
       "    <tr style=\"text-align: right;\">\n",
       "      <th></th>\n",
       "      <th>terminated</th>\n",
       "      <th>days</th>\n",
       "      <th>type</th>\n",
       "      <th>payment_method</th>\n",
       "      <th>monthly_charges</th>\n",
       "      <th>total_charges</th>\n",
       "      <th>paperless_billing</th>\n",
       "      <th>senior_citizen</th>\n",
       "      <th>partner</th>\n",
       "      <th>dependents</th>\n",
       "      <th>internet_service</th>\n",
       "      <th>online_security</th>\n",
       "      <th>online_backup</th>\n",
       "      <th>device_protection</th>\n",
       "      <th>tech_support</th>\n",
       "      <th>streaming_tv</th>\n",
       "      <th>streaming_movies</th>\n",
       "      <th>multiple_lines</th>\n",
       "    </tr>\n",
       "  </thead>\n",
       "  <tbody>\n",
       "    <tr>\n",
       "      <th>0</th>\n",
       "      <td>False</td>\n",
       "      <td>0</td>\n",
       "      <td>Two year</td>\n",
       "      <td>Bank transfer (automatic)</td>\n",
       "      <td>52.55</td>\n",
       "      <td>None</td>\n",
       "      <td>Yes</td>\n",
       "      <td>0</td>\n",
       "      <td>Yes</td>\n",
       "      <td>Yes</td>\n",
       "      <td>DSL</td>\n",
       "      <td>Yes</td>\n",
       "      <td>No</td>\n",
       "      <td>Yes</td>\n",
       "      <td>Yes</td>\n",
       "      <td>Yes</td>\n",
       "      <td>No</td>\n",
       "      <td>None</td>\n",
       "    </tr>\n",
       "    <tr>\n",
       "      <th>1</th>\n",
       "      <td>False</td>\n",
       "      <td>0</td>\n",
       "      <td>Two year</td>\n",
       "      <td>Mailed check</td>\n",
       "      <td>20.25</td>\n",
       "      <td>None</td>\n",
       "      <td>No</td>\n",
       "      <td>0</td>\n",
       "      <td>No</td>\n",
       "      <td>Yes</td>\n",
       "      <td>None</td>\n",
       "      <td>None</td>\n",
       "      <td>None</td>\n",
       "      <td>None</td>\n",
       "      <td>None</td>\n",
       "      <td>None</td>\n",
       "      <td>None</td>\n",
       "      <td>No</td>\n",
       "    </tr>\n",
       "  </tbody>\n",
       "</table>\n",
       "</div>"
      ],
      "text/plain": [
       "   terminated  days      type             payment_method monthly_charges   \n",
       "0       False     0  Two year  Bank transfer (automatic)           52.55  \\\n",
       "1       False     0  Two year               Mailed check           20.25   \n",
       "\n",
       "  total_charges paperless_billing  senior_citizen partner dependents   \n",
       "0          None               Yes               0     Yes        Yes  \\\n",
       "1          None                No               0      No        Yes   \n",
       "\n",
       "  internet_service online_security online_backup device_protection   \n",
       "0              DSL             Yes            No               Yes  \\\n",
       "1             None            None          None              None   \n",
       "\n",
       "  tech_support streaming_tv streaming_movies multiple_lines  \n",
       "0          Yes          Yes               No           None  \n",
       "1         None         None             None             No  "
      ]
     },
     "execution_count": 65,
     "metadata": {},
     "output_type": "execute_result"
    }
   ],
   "source": [
    "df.head(2)"
   ]
  },
  {
   "cell_type": "code",
   "execution_count": 66,
   "id": "8bb07fb8",
   "metadata": {},
   "outputs": [
    {
     "name": "stdout",
     "output_type": "stream",
     "text": [
      "<class 'pandas.core.frame.DataFrame'>\n",
      "RangeIndex: 7043 entries, 0 to 7042\n",
      "Data columns (total 18 columns):\n",
      " #   Column             Non-Null Count  Dtype \n",
      "---  ------             --------------  ----- \n",
      " 0   terminated         7043 non-null   bool  \n",
      " 1   days               7043 non-null   int64 \n",
      " 2   type               7043 non-null   object\n",
      " 3   payment_method     7043 non-null   object\n",
      " 4   monthly_charges    7043 non-null   object\n",
      " 5   total_charges      7032 non-null   object\n",
      " 6   paperless_billing  7043 non-null   object\n",
      " 7   senior_citizen     7043 non-null   int64 \n",
      " 8   partner            7043 non-null   object\n",
      " 9   dependents         7043 non-null   object\n",
      " 10  internet_service   5517 non-null   object\n",
      " 11  online_security    5517 non-null   object\n",
      " 12  online_backup      5517 non-null   object\n",
      " 13  device_protection  5517 non-null   object\n",
      " 14  tech_support       5517 non-null   object\n",
      " 15  streaming_tv       5517 non-null   object\n",
      " 16  streaming_movies   5517 non-null   object\n",
      " 17  multiple_lines     6361 non-null   object\n",
      "dtypes: bool(1), int64(2), object(15)\n",
      "memory usage: 942.4+ KB\n"
     ]
    }
   ],
   "source": [
    "df.info()"
   ]
  },
  {
   "cell_type": "code",
   "execution_count": 67,
   "id": "a9d90c5a",
   "metadata": {},
   "outputs": [],
   "source": [
    "df.monthly_charges = df.monthly_charges.astype('float')\n",
    "df.total_charges = df.total_charges.astype('float')"
   ]
  },
  {
   "cell_type": "code",
   "execution_count": 68,
   "id": "cffd2e5c",
   "metadata": {},
   "outputs": [],
   "source": [
    "df.days = df.total_charges.fillna(0)\n",
    "df.monthly_charges = df.monthly_charges.fillna(0)\n",
    "df.total_charges = df.total_charges.fillna(0)"
   ]
  },
  {
   "cell_type": "code",
   "execution_count": 69,
   "id": "4d23aa79",
   "metadata": {},
   "outputs": [
    {
     "name": "stdout",
     "output_type": "stream",
     "text": [
      "type\n",
      "Month-to-month    3875\n",
      "Two year          1695\n",
      "One year          1473\n",
      "Name: count, dtype: int64\n",
      "payment_method\n",
      "Electronic check             2365\n",
      "Mailed check                 1612\n",
      "Bank transfer (automatic)    1544\n",
      "Credit card (automatic)      1522\n",
      "Name: count, dtype: int64\n",
      "paperless_billing\n",
      "Yes    4171\n",
      "No     2872\n",
      "Name: count, dtype: int64\n",
      "partner\n",
      "No     3641\n",
      "Yes    3402\n",
      "Name: count, dtype: int64\n",
      "dependents\n",
      "No     4933\n",
      "Yes    2110\n",
      "Name: count, dtype: int64\n",
      "internet_service\n",
      "Fiber optic    3096\n",
      "DSL            2421\n",
      "Name: count, dtype: int64\n",
      "online_security\n",
      "No     3498\n",
      "Yes    2019\n",
      "Name: count, dtype: int64\n",
      "online_backup\n",
      "No     3088\n",
      "Yes    2429\n",
      "Name: count, dtype: int64\n",
      "device_protection\n",
      "No     3095\n",
      "Yes    2422\n",
      "Name: count, dtype: int64\n",
      "tech_support\n",
      "No     3473\n",
      "Yes    2044\n",
      "Name: count, dtype: int64\n",
      "streaming_tv\n",
      "No     2810\n",
      "Yes    2707\n",
      "Name: count, dtype: int64\n",
      "streaming_movies\n",
      "No     2785\n",
      "Yes    2732\n",
      "Name: count, dtype: int64\n",
      "multiple_lines\n",
      "No     3390\n",
      "Yes    2971\n",
      "Name: count, dtype: int64\n"
     ]
    }
   ],
   "source": [
    "for col in df.columns:\n",
    "    if df[col].dtype == 'object':\n",
    "        print(df[col].value_counts())"
   ]
  },
  {
   "cell_type": "markdown",
   "id": "cdd15234",
   "metadata": {},
   "source": [
    "Не знаю как это можно прокоментировать"
   ]
  },
  {
   "cell_type": "code",
   "execution_count": 70,
   "id": "d37c8516",
   "metadata": {},
   "outputs": [
    {
     "data": {
      "image/png": "[encoded data removed]",
      "text/plain": [
       "<Figure size 640x480 with 1 Axes>"
      ]
     },
     "metadata": {},
     "output_type": "display_data"
    },
    {
     "data": {
      "image/png": "[encoded data removed]",
      "text/plain": [
       "<Figure size 640x480 with 1 Axes>"
      ]
     },
     "metadata": {},
     "output_type": "display_data"
    },
    {
     "data": {
      "image/png": "[encoded data removed]",
      "text/plain": [
       "<Figure size 640x480 with 1 Axes>"
      ]
     },
     "metadata": {},
     "output_type": "display_data"
    }
   ],
   "source": [
    "for col in df.columns:\n",
    "    if df[col].dtype == 'float64' or df[col].dtype == 'float64':\n",
    "        df[col].hist()\n",
    "        plt.title(col)\n",
    "        plt.show()"
   ]
  },
  {
   "cell_type": "markdown",
   "id": "58e6e5c5",
   "metadata": {},
   "source": [
    "Данные распределенные нормально"
   ]
  },
  {
   "cell_type": "code",
   "execution_count": 71,
   "id": "c2a0b596",
   "metadata": {},
   "outputs": [],
   "source": [
    "df.senior_citizen = df.senior_citizen.fillna(0)"
   ]
  },
  {
   "cell_type": "code",
   "execution_count": 72,
   "id": "ac27620f",
   "metadata": {},
   "outputs": [
    {
     "name": "stdout",
     "output_type": "stream",
     "text": [
      "type                 ['Two year' 'Month-to-month' 'One year']\n",
      "payment_method       ['Bank transfer (automatic)' 'Mailed check' 'Electronic check'\n",
      " 'Credit card (automatic)']\n",
      "paperless_billing    ['Yes' 'No']\n",
      "partner              ['Yes' 'No']\n",
      "dependents           ['Yes' 'No']\n",
      "internet_service     ['DSL' None 'Fiber optic']\n",
      "online_security      ['Yes' None 'No']\n",
      "online_backup        ['No' None 'Yes']\n",
      "device_protection    ['Yes' None 'No']\n",
      "tech_support         ['Yes' None 'No']\n",
      "streaming_tv         ['Yes' None 'No']\n",
      "streaming_movies     ['No' None 'Yes']\n",
      "multiple_lines       [None 'No' 'Yes']\n"
     ]
    }
   ],
   "source": [
    "for col in df.columns:\n",
    "    if df[col].dtype == 'object':\n",
    "        print('{:20} {}'.format(col, pd.unique(df[col])))"
   ]
  },
  {
   "cell_type": "markdown",
   "id": "253a19a4",
   "metadata": {},
   "source": [
    "где можно заполним пропуски на 'No' в последнем случаем заполним 'DSL' так как это более частый провайдер"
   ]
  },
  {
   "cell_type": "code",
   "execution_count": 73,
   "id": "477ada2c",
   "metadata": {},
   "outputs": [],
   "source": [
    "df.internet_service = df.internet_service.fillna('DSL')"
   ]
  },
  {
   "cell_type": "code",
   "execution_count": 74,
   "id": "4b7bbeeb",
   "metadata": {},
   "outputs": [],
   "source": [
    "df = df.fillna('No')"
   ]
  },
  {
   "cell_type": "code",
   "execution_count": 75,
   "id": "b1701c80",
   "metadata": {},
   "outputs": [],
   "source": [
    "enc = OneHotEncoder(drop='first')"
   ]
  },
  {
   "cell_type": "code",
   "execution_count": 76,
   "id": "c814d0c4",
   "metadata": {},
   "outputs": [],
   "source": [
    "df_train, df_test = train_test_split(df, test_size=0.25, random_state=RANDOM_STATE)"
   ]
  },
  {
   "cell_type": "code",
   "execution_count": 77,
   "id": "d387048b",
   "metadata": {},
   "outputs": [],
   "source": [
    "X_train_cat = enc.fit_transform(\n",
    "    df_train.drop(columns=['terminated', 'days', \n",
    "                                 'monthly_charges', 'total_charges'])).toarray()"
   ]
  },
  {
   "cell_type": "code",
   "execution_count": 78,
   "id": "c79a951c",
   "metadata": {},
   "outputs": [],
   "source": [
    "sca = StandardScaler()"
   ]
  },
  {
   "cell_type": "code",
   "execution_count": 79,
   "id": "5032b805",
   "metadata": {},
   "outputs": [],
   "source": [
    "X_train_num = sca.fit_transform(df_train[['days', 'monthly_charges', 'total_charges']])"
   ]
  },
  {
   "cell_type": "code",
   "execution_count": 80,
   "id": "5cab3952",
   "metadata": {},
   "outputs": [],
   "source": [
    "X_train = np.hstack((X_train_cat, X_train_num))"
   ]
  },
  {
   "cell_type": "code",
   "execution_count": 81,
   "id": "944a3025",
   "metadata": {},
   "outputs": [],
   "source": [
    "X_test_cat = enc.transform(df_test.drop(columns=['terminated', 'days', \n",
    "                          'monthly_charges', 'total_charges'])).toarray()"
   ]
  },
  {
   "cell_type": "code",
   "execution_count": 82,
   "id": "50fd4bc9",
   "metadata": {},
   "outputs": [],
   "source": [
    "X_train_num = sca.fit_transform(df_train[['days', 'monthly_charges', 'total_charges']])\n",
    "X_test_num = sca.transform(df_test[['days', 'monthly_charges', 'total_charges']])"
   ]
  },
  {
   "cell_type": "code",
   "execution_count": 83,
   "id": "b06e2df1",
   "metadata": {},
   "outputs": [],
   "source": [
    "X_train = np.hstack((X_train_cat, X_train_num))\n",
    "X_test = np.hstack((X_test_cat, X_test_num))"
   ]
  },
  {
   "cell_type": "code",
   "execution_count": 84,
   "id": "160face5",
   "metadata": {},
   "outputs": [],
   "source": [
    "y_train = df_train.terminated\n",
    "y_test = df_test.terminated"
   ]
  },
  {
   "cell_type": "markdown",
   "id": "5679fd5d",
   "metadata": {},
   "source": [
    "# Обучение Моделей"
   ]
  },
  {
   "cell_type": "markdown",
   "id": "d703770a",
   "metadata": {},
   "source": [
    "Попробуем и оценим модели метрикой ROC-AUC:\n",
    "- RandomForest\n",
    "- XGBoost\n",
    "- Feed-forward neural network with Keras"
   ]
  },
  {
   "cell_type": "code",
   "execution_count": 85,
   "id": "dabe536b",
   "metadata": {},
   "outputs": [
    {
     "data": {
      "text/plain": [
       "0.842493497727679"
      ]
     },
     "execution_count": 85,
     "metadata": {},
     "output_type": "execute_result"
    }
   ],
   "source": [
    "param_grid = {'n_estimators': [2, 4, 8, 16], 'max_depth': [4, 8, 16]}\n",
    "rfc = RandomForestClassifier()\n",
    "grid_rfc = GridSearchCV(rfc, param_grid, scoring='roc_auc')\n",
    "grid_rfc.fit(X_train, y_train)\n",
    "grid_rfc.best_score_"
   ]
  },
  {
   "cell_type": "code",
   "execution_count": 86,
   "id": "e3dbba02",
   "metadata": {},
   "outputs": [
    {
     "data": {
      "text/plain": [
       "0.8468499378384386"
      ]
     },
     "execution_count": 86,
     "metadata": {},
     "output_type": "execute_result"
    }
   ],
   "source": [
    "param_grid = {'n_estimators': [16, 32], 'max_depth': [4, 8, 16]}\n",
    "model_xgb = xgb.XGBClassifier()\n",
    "grid_xgb = GridSearchCV(model_xgb, param_grid, scoring='roc_auc')\n",
    "grid_xgb.fit(X_train, y_train)\n",
    "grid_xgb.best_score_"
   ]
  },
  {
   "cell_type": "code",
   "execution_count": 87,
   "id": "c8cadcae",
   "metadata": {},
   "outputs": [
    {
     "name": "stdout",
     "output_type": "stream",
     "text": [
      "Metal device set to: Apple M1 Pro\n"
     ]
    }
   ],
   "source": [
    "callback = EarlyStopping(monitor='auc', patience=2)\n",
    "\n",
    "model_ff = Sequential()\n",
    "model_ff.add(Dense(128, activation='relu', input_dim=X_train.shape[1]))\n",
    "model_ff.add(Dropout(0.4))\n",
    "model_ff.add(Dense(64, activation='relu'))\n",
    "model_ff.add(Dropout(0.4))\n",
    "model_ff.add(Dense(16, activation='relu'))\n",
    "model_ff.add(Dense(1, activation='sigmoid'))\n",
    "\n",
    "model_ff.compile(loss='binary_crossentropy', \n",
    "                 optimizer='adam', metrics=[tf.keras.metrics.AUC()])"
   ]
  },
  {
   "cell_type": "code",
   "execution_count": 88,
   "id": "1853826b",
   "metadata": {},
   "outputs": [
    {
     "name": "stdout",
     "output_type": "stream",
     "text": [
      "Epoch 1/40\n"
     ]
    },
    {
     "name": "stderr",
     "output_type": "stream",
     "text": [
      "2023-06-18 14:37:28.848463: W tensorflow/tsl/platform/profile_utils/cpu_utils.cc:128] Failed to get CPU frequency: 0 Hz\n"
     ]
    },
    {
     "name": "stdout",
     "output_type": "stream",
     "text": [
      "166/166 - 3s - loss: 0.4839 - auc: 0.7768 - 3s/epoch - 19ms/step\n",
      "Epoch 2/40\n",
      "166/166 - 2s - loss: 0.4337 - auc: 0.8306 - 2s/epoch - 13ms/step\n",
      "Epoch 3/40\n",
      "166/166 - 2s - loss: 0.4274 - auc: 0.8367 - 2s/epoch - 13ms/step\n",
      "Epoch 4/40\n",
      "166/166 - 2s - loss: 0.4237 - auc: 0.8393 - 2s/epoch - 13ms/step\n",
      "Epoch 5/40\n",
      "166/166 - 2s - loss: 0.4191 - auc: 0.8435 - 2s/epoch - 13ms/step\n",
      "Epoch 6/40\n",
      "166/166 - 2s - loss: 0.4195 - auc: 0.8431 - 2s/epoch - 12ms/step\n",
      "Epoch 7/40\n",
      "166/166 - 2s - loss: 0.4170 - auc: 0.8458 - 2s/epoch - 13ms/step\n",
      "Epoch 8/40\n",
      "166/166 - 2s - loss: 0.4176 - auc: 0.8449 - 2s/epoch - 12ms/step\n",
      "Epoch 9/40\n",
      "166/166 - 2s - loss: 0.4110 - auc: 0.8504 - 2s/epoch - 12ms/step\n",
      "Epoch 10/40\n",
      "166/166 - 2s - loss: 0.4134 - auc: 0.8493 - 2s/epoch - 13ms/step\n",
      "Epoch 11/40\n",
      "166/166 - 2s - loss: 0.4124 - auc: 0.8491 - 2s/epoch - 12ms/step\n"
     ]
    },
    {
     "data": {
      "text/plain": [
       "<keras.callbacks.History at 0x2863de020>"
      ]
     },
     "execution_count": 88,
     "metadata": {},
     "output_type": "execute_result"
    }
   ],
   "source": [
    "model_ff.fit(X_train, y_train, epochs=40, callbacks=[callback], verbose=2)"
   ]
  },
  {
   "cell_type": "markdown",
   "id": "dc558e98",
   "metadata": {},
   "source": [
    "# Тестировка Модели"
   ]
  },
  {
   "cell_type": "markdown",
   "id": "502fee43",
   "metadata": {},
   "source": [
    "- Проеверим качество лучшей модели по ROC-AUC\n",
    "- Построим матрицу ошибок\n",
    "- Проанализируем вашность оснобных признаков\n",
    "- Проведем дополнительное исследование самого важного признака"
   ]
  },
  {
   "cell_type": "code",
   "execution_count": 89,
   "id": "0b627698",
   "metadata": {
    "scrolled": true
   },
   "outputs": [
    {
     "name": "stdout",
     "output_type": "stream",
     "text": [
      "56/56 [==============================] - 0s 4ms/step\n",
      "Feed-forward neural network ROC AUC score: 0.8305740030035043\n"
     ]
    }
   ],
   "source": [
    "z_test = model_ff.predict(X_test)\n",
    "# z_test = (np.round(z_test) == 1).reshape(1, -1)[0]\n",
    "roc_auc = roc_auc_score(y_test, z_test)\n",
    "print('Feed-forward neural network ROC AUC score:', roc_auc)"
   ]
  },
  {
   "cell_type": "code",
   "execution_count": 100,
   "id": "8bbd7b71",
   "metadata": {},
   "outputs": [
    {
     "data": {
      "text/plain": [
       "0.6830810946103787"
      ]
     },
     "execution_count": 100,
     "metadata": {},
     "output_type": "execute_result"
    }
   ],
   "source": [
    "roc_auc_score(y_test, (np.round(z_test.reshape(1, -1)) == 1)[0])"
   ]
  },
  {
   "cell_type": "code",
   "execution_count": 101,
   "id": "e0215420",
   "metadata": {},
   "outputs": [
    {
     "name": "stdout",
     "output_type": "stream",
     "text": [
      "Feed-forward neural network accuracy score: 0.7904599659284497\n"
     ]
    }
   ],
   "source": [
    "accuracy = accuracy_score(y_test, (np.round(z_test.reshape(1, -1)) == 1)[0])\n",
    "print('Feed-forward neural network accuracy score:', accuracy)"
   ]
  },
  {
   "cell_type": "code",
   "execution_count": 102,
   "id": "146972a2",
   "metadata": {},
   "outputs": [
    {
     "data": {
      "image/png": "[encoded data removed]",
      "text/plain": [
       "<Figure size 640x480 with 1 Axes>"
      ]
     },
     "metadata": {},
     "output_type": "display_data"
    }
   ],
   "source": [
    "fpr, tpr, thresholds = roc_curve(y_test, z_test)\n",
    "\n",
    "roc_auc = auc(fpr, tpr)\n",
    "\n",
    "plt.figure()\n",
    "plt.plot(fpr, tpr, label='ROC curve (AUC = %0.2f)' % roc_auc)\n",
    "plt.plot([0, 1], [0, 1], 'k--')  # Plotting the random guessing curve\n",
    "plt.xlim([0.0, 1.0])\n",
    "plt.ylim([0.0, 1.05])\n",
    "plt.xlabel('False Positive Rate')\n",
    "plt.ylabel('True Positive Rate')\n",
    "plt.title('Receiver Operating Characteristic')\n",
    "plt.legend(loc=\"lower right\")\n",
    "plt.show()"
   ]
  },
  {
   "cell_type": "code",
   "execution_count": 131,
   "id": "3cf74305",
   "metadata": {},
   "outputs": [
    {
     "data": {
      "text/html": [
       "<div>\n",
       "<style scoped>\n",
       "    .dataframe tbody tr th:only-of-type {\n",
       "        vertical-align: middle;\n",
       "    }\n",
       "\n",
       "    .dataframe tbody tr th {\n",
       "        vertical-align: top;\n",
       "    }\n",
       "\n",
       "    .dataframe thead th {\n",
       "        text-align: right;\n",
       "    }\n",
       "</style>\n",
       "<table border=\"1\" class=\"dataframe\">\n",
       "  <thead>\n",
       "    <tr style=\"text-align: right;\">\n",
       "      <th>Predicted</th>\n",
       "      <th>False</th>\n",
       "      <th>True</th>\n",
       "    </tr>\n",
       "    <tr>\n",
       "      <th>Actual</th>\n",
       "      <th></th>\n",
       "      <th></th>\n",
       "    </tr>\n",
       "  </thead>\n",
       "  <tbody>\n",
       "    <tr>\n",
       "      <th>False</th>\n",
       "      <td>3</td>\n",
       "      <td>1</td>\n",
       "    </tr>\n",
       "    <tr>\n",
       "      <th>True</th>\n",
       "      <td>342</td>\n",
       "      <td>90</td>\n",
       "    </tr>\n",
       "  </tbody>\n",
       "</table>\n",
       "</div>"
      ],
      "text/plain": [
       "Predicted  False  True \n",
       "Actual                 \n",
       "False          3      1\n",
       "True         342     90"
      ]
     },
     "execution_count": 131,
     "metadata": {},
     "output_type": "execute_result"
    }
   ],
   "source": [
    "confusion_matrix = pd.crosstab(pd.Series(y_test, name='Actual'),\n",
    "                               pd.Series((np.round(z_test.reshape(1, -1)) == 1)[0], name='Predicted'))\n",
    "\n",
    "confusion_matrix"
   ]
  },
  {
   "cell_type": "code",
   "execution_count": 137,
   "id": "dc42fc1c",
   "metadata": {},
   "outputs": [],
   "source": [
    "precision = confusion_matrix.iloc[1, 1] / (confusion_matrix.iloc[1, 1] + confusion_matrix.iloc[0, 1])"
   ]
  },
  {
   "cell_type": "code",
   "execution_count": 138,
   "id": "c124337a",
   "metadata": {},
   "outputs": [],
   "source": [
    "recall = confusion_matrix.iloc[1, 0] / (confusion_matrix.iloc[1, 1] + confusion_matrix.iloc[0, 0])"
   ]
  },
  {
   "cell_type": "code",
   "execution_count": 139,
   "id": "5cc16e55",
   "metadata": {},
   "outputs": [
    {
     "name": "stdout",
     "output_type": "stream",
     "text": [
      "Precision: 0.989010989010989\n",
      "Accuracy: 0.9908256880733946\n"
     ]
    }
   ],
   "source": [
    "# Display precision and accuracy\n",
    "\n",
    "print(\"Precision:\", precision)\n",
    "print(\"Accuracy:\", accuracy)"
   ]
  },
  {
   "cell_type": "code",
   "execution_count": 152,
   "id": "f660c754",
   "metadata": {},
   "outputs": [],
   "source": [
    "column_names = enc.get_feature_names_out().tolist() + ['days', 'monthly_charges', 'total_charges']"
   ]
  },
  {
   "cell_type": "code",
   "execution_count": 156,
   "id": "2e11a9b0",
   "metadata": {},
   "outputs": [],
   "source": [
    "feature_importance = model_ff.layers[0].get_weights()[0]"
   ]
  },
  {
   "cell_type": "code",
   "execution_count": 163,
   "id": "87116738",
   "metadata": {},
   "outputs": [
    {
     "data": {
      "text/plain": [
       "[0.010392983,\n",
       " 0.034175247,\n",
       " -0.0022335462,\n",
       " -0.021322753,\n",
       " 0.0008001439,\n",
       " -0.009857387,\n",
       " -0.013163676,\n",
       " -0.024082758,\n",
       " -0.019312376,\n",
       " -0.029641721,\n",
       " 0.004450753,\n",
       " -0.011950035,\n",
       " -0.034843985,\n",
       " -0.008095067,\n",
       " -0.008948614,\n",
       " -0.023995822,\n",
       " 0.004396116,\n",
       " -0.0036663665,\n",
       " -0.010592404,\n",
       " -0.0030323823]"
      ]
     },
     "execution_count": 163,
     "metadata": {},
     "output_type": "execute_result"
    }
   ],
   "source": [
    "[x.mean() for x in feature_importance]"
   ]
  },
  {
   "cell_type": "code",
   "execution_count": 165,
   "id": "93fdcbdc",
   "metadata": {},
   "outputs": [
    {
     "data": {
      "image/png": "[encoded data removed]",
      "text/plain": [
       "<Figure size 640x480 with 1 Axes>"
      ]
     },
     "metadata": {},
     "output_type": "display_data"
    }
   ],
   "source": [
    "plt.barh(column_names, [abs(x.mean()) for x in feature_importance])\n",
    "plt.show()"
   ]
  },
  {
   "cell_type": "markdown",
   "id": "842ca62d",
   "metadata": {},
   "source": [
    "# Вывод"
   ]
  },
  {
   "cell_type": "markdown",
   "id": "89646f19",
   "metadata": {},
   "source": [
    "На данном этапе нужной метрики не получилось добится. Из матрицы ошибок создется впечатление что модель работает очень хорошо. Точно такое же впечатление создается из показателей полноты и точности. У меня не получилось применить 'predict_proba'. Из исследования важности показателей мы наблюдаем важность 'type_Two year' и 'device_protection_Yes'. Данное исследование не полное, так как совет был исползовать 'drop=\"first\"' вместо 'drop=\"if_binary\"'."
   ]
  }
 ],
 "metadata": {
  "ExecuteTimeLog": [
   {
    "duration": 30,
    "start_time": "2023-06-17T23:23:42.485Z"
   }
  ],
  "kernelspec": {
   "display_name": "Python 3 (ipykernel)",
   "language": "python",
   "name": "python3"
  },
  "language_info": {
   "codemirror_mode": {
    "name": "ipython",
    "version": 3
   },
   "file_extension": ".py",
   "mimetype": "text/x-python",
   "name": "python",
   "nbconvert_exporter": "python",
   "pygments_lexer": "ipython3",
   "version": "3.10.10"
  },
  "toc": {
   "base_numbering": 1,
   "nav_menu": {},
   "number_sections": true,
   "sideBar": true,
   "skip_h1_title": true,
   "title_cell": "Table of Contents",
   "title_sidebar": "Contents",
   "toc_cell": false,
   "toc_position": {
    "height": "calc(100% - 180px)",
    "left": "10px",
    "top": "150px",
    "width": "165px"
   },
   "toc_section_display": true,
   "toc_window_display": true
  }
 },
 "nbformat": 4,
 "nbformat_minor": 5
}
