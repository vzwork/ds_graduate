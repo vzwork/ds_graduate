{
 "cells": [
  {
   "cell_type": "markdown",
   "id": "ad154198",
   "metadata": {},
   "source": [
    "# Проект (Телеком)"
   ]
  },
  {
   "cell_type": "markdown",
   "id": "499cf00b",
   "metadata": {},
   "source": [
    "- Проект (Телеком)\n",
    "- Описание Проекта\n",
    "- Выгрузка Данных\n",
    "- Исследовательский Анализ + Предобработка Данных\n",
    "- Обучение Моделей\n",
    "- Тестировка Модели\n",
    "- Вывод"
   ]
  },
  {
   "cell_type": "markdown",
   "id": "7ba0cc04",
   "metadata": {},
   "source": [
    "# Описание Проекта"
   ]
  },
  {
   "cell_type": "markdown",
   "id": "1942c448",
   "metadata": {},
   "source": [
    "Оператор связи «ТелеДом» хочет бороться с оттоком клиентов. Для этого его сотрудники начнут предлагать промокоды и специальные условия всем, кто планирует отказаться от услуг связи. Чтобы заранее находить таких пользователей, «ТелеДому» нужна модель, которая будет предсказывать, разорвёт ли абонент договор. Команда оператора собрала персональные данные о некоторых клиентах, информацию об их тарифах и услугах. Задача — обучить на этих данных модель для прогноза оттока клиентов."
   ]
  },
  {
   "cell_type": "markdown",
   "id": "deb0a356",
   "metadata": {},
   "source": [
    "# Выгрузка Данных"
   ]
  },
  {
   "cell_type": "code",
   "execution_count": 1,
   "id": "eb417bad",
   "metadata": {},
   "outputs": [],
   "source": [
    "import sys\n",
    "import random\n",
    "\n",
    "import psycopg2\n",
    "import pandas as pd\n",
    "import matplotlib.pyplot as plt\n",
    "import numpy as np\n",
    "\n",
    "from sklearn.model_selection import train_test_split\n",
    "from sklearn.preprocessing import OneHotEncoder\n",
    "from sklearn.preprocessing import StandardScaler\n",
    "\n",
    "from sklearn.metrics import roc_auc_score, roc_curve, auc\n",
    "from sklearn.model_selection import GridSearchCV\n",
    "from sklearn.ensemble import RandomForestClassifier\n",
    "import xgboost as xgb\n",
    "from tensorflow.keras.callbacks import EarlyStopping\n",
    "from tensorflow.keras import Sequential\n",
    "from tensorflow.keras.layers import Dense, Dropout"
   ]
  },
  {
   "cell_type": "code",
   "execution_count": 2,
   "id": "5511bc16",
   "metadata": {},
   "outputs": [],
   "source": [
    "RANDOM_STATE = 150623"
   ]
  },
  {
   "cell_type": "code",
   "execution_count": 3,
   "id": "3c3a9a21",
   "metadata": {},
   "outputs": [],
   "source": [
    "random.seed(RANDOM_STATE)"
   ]
  },
  {
   "cell_type": "markdown",
   "id": "71344a91",
   "metadata": {},
   "source": [
    "### Описание Данных\n",
    "database - telecom.\n",
    "- contract - информация о договорах;\n",
    "- personal - персональные данные клиентов;\n",
    "- internet - информация об интернет-услугах;\n",
    "- phone - информация об услугах телефонии.\n",
    "\n",
    "(Информация о договорах актуальна на 1 февраля 2020.)"
   ]
  },
  {
   "cell_type": "code",
   "execution_count": 4,
   "id": "42c2555f",
   "metadata": {},
   "outputs": [],
   "source": [
    "db_config = {\n",
    "'user': 'praktikum_student',# имя пользователя,\n",
    "'password': 'Sdf4$2;d-d30pp',# пароль,\n",
    "'host': 'rc1b-wcoijxj3yxfsf3fs.mdb.yandexcloud.net',\n",
    "'port': 6432,# порт подключения,\n",
    "'database': 'data-science-final'# название базы данных,\n",
    "}"
   ]
  },
  {
   "cell_type": "code",
   "execution_count": 5,
   "id": "7eccbcd8",
   "metadata": {},
   "outputs": [],
   "source": [
    "def connect(params_dic):\n",
    "    conn = None\n",
    "    try:\n",
    "        print('Connecting to the PostgreSQL database...')\n",
    "        conn = psycopg2.connect(**params_dic)\n",
    "    except (Exception, psycopg2.DatabaseError) as error:\n",
    "        print(error)\n",
    "        sys.exit(1) \n",
    "    print(\"Connection successful\")\n",
    "    return conn"
   ]
  },
  {
   "cell_type": "code",
   "execution_count": 6,
   "id": "8ed04bfb",
   "metadata": {},
   "outputs": [],
   "source": [
    "def postgresql_to_dataframe(conn, select_query, column_names):\n",
    "    cursor = conn.cursor()\n",
    "    try:\n",
    "        cursor.execute(select_query)\n",
    "    except (Exception, psycopg2.DatabaseError) as error:\n",
    "        print(\"Error: %s\" % error)\n",
    "        conn.rollback()\n",
    "        cursor.close()\n",
    "        return 1\n",
    "    \n",
    "    # Naturally we get a list of tupples\n",
    "    tupples = cursor.fetchall()\n",
    "    cursor.close()\n",
    "    \n",
    "    # We just need to turn it into a pandas dataframe\n",
    "    df = pd.DataFrame(tupples, columns=column_names)\n",
    "    return df"
   ]
  },
  {
   "cell_type": "code",
   "execution_count": 7,
   "id": "ac3cb5b9",
   "metadata": {},
   "outputs": [
    {
     "name": "stdout",
     "output_type": "stream",
     "text": [
      "Connecting to the PostgreSQL database...\n",
      "Connection successful\n"
     ]
    }
   ],
   "source": [
    "conn = connect(db_config)"
   ]
  },
  {
   "cell_type": "markdown",
   "id": "d84d1cd2",
   "metadata": {},
   "source": [
    "### Проверим Данные"
   ]
  },
  {
   "cell_type": "code",
   "execution_count": 8,
   "id": "d199ffc0",
   "metadata": {},
   "outputs": [],
   "source": [
    "query_contract_info = \\\n",
    "\"SELECT table_name, column_name, data_type FROM information_schema.columns WHERE table_name = 'contract';\"\n",
    "columns_contract_info = ['table_name', 'column_name', 'data_type']\n",
    "contract_info = postgresql_to_dataframe(conn, query_contract_info, columns_contract_info)"
   ]
  },
  {
   "cell_type": "code",
   "execution_count": 9,
   "id": "0dcb3dff",
   "metadata": {},
   "outputs": [
    {
     "data": {
      "text/html": [
       "<div>\n",
       "<style scoped>\n",
       "    .dataframe tbody tr th:only-of-type {\n",
       "        vertical-align: middle;\n",
       "    }\n",
       "\n",
       "    .dataframe tbody tr th {\n",
       "        vertical-align: top;\n",
       "    }\n",
       "\n",
       "    .dataframe thead th {\n",
       "        text-align: right;\n",
       "    }\n",
       "</style>\n",
       "<table border=\"1\" class=\"dataframe\">\n",
       "  <thead>\n",
       "    <tr style=\"text-align: right;\">\n",
       "      <th></th>\n",
       "      <th>table_name</th>\n",
       "      <th>column_name</th>\n",
       "      <th>data_type</th>\n",
       "    </tr>\n",
       "  </thead>\n",
       "  <tbody>\n",
       "    <tr>\n",
       "      <th>0</th>\n",
       "      <td>contract</td>\n",
       "      <td>customerID</td>\n",
       "      <td>text</td>\n",
       "    </tr>\n",
       "    <tr>\n",
       "      <th>1</th>\n",
       "      <td>contract</td>\n",
       "      <td>BeginDate</td>\n",
       "      <td>date</td>\n",
       "    </tr>\n",
       "    <tr>\n",
       "      <th>2</th>\n",
       "      <td>contract</td>\n",
       "      <td>EndDate</td>\n",
       "      <td>date</td>\n",
       "    </tr>\n",
       "    <tr>\n",
       "      <th>3</th>\n",
       "      <td>contract</td>\n",
       "      <td>Type</td>\n",
       "      <td>text</td>\n",
       "    </tr>\n",
       "    <tr>\n",
       "      <th>4</th>\n",
       "      <td>contract</td>\n",
       "      <td>PaperlessBilling</td>\n",
       "      <td>text</td>\n",
       "    </tr>\n",
       "    <tr>\n",
       "      <th>5</th>\n",
       "      <td>contract</td>\n",
       "      <td>PaymentMethod</td>\n",
       "      <td>text</td>\n",
       "    </tr>\n",
       "    <tr>\n",
       "      <th>6</th>\n",
       "      <td>contract</td>\n",
       "      <td>MonthlyCharges</td>\n",
       "      <td>numeric</td>\n",
       "    </tr>\n",
       "    <tr>\n",
       "      <th>7</th>\n",
       "      <td>contract</td>\n",
       "      <td>TotalCharges</td>\n",
       "      <td>numeric</td>\n",
       "    </tr>\n",
       "  </tbody>\n",
       "</table>\n",
       "</div>"
      ],
      "text/plain": [
       "  table_name       column_name data_type\n",
       "0   contract        customerID      text\n",
       "1   contract         BeginDate      date\n",
       "2   contract           EndDate      date\n",
       "3   contract              Type      text\n",
       "4   contract  PaperlessBilling      text\n",
       "5   contract     PaymentMethod      text\n",
       "6   contract    MonthlyCharges   numeric\n",
       "7   contract      TotalCharges   numeric"
      ]
     },
     "execution_count": 9,
     "metadata": {},
     "output_type": "execute_result"
    }
   ],
   "source": [
    "contract_info"
   ]
  },
  {
   "cell_type": "code",
   "execution_count": 10,
   "id": "e24430da",
   "metadata": {},
   "outputs": [],
   "source": [
    "query_personal_info = \\\n",
    "\"SELECT table_name, column_name, data_type FROM information_schema.columns WHERE table_name = 'personal';\"\n",
    "columns_personal_info = ['table_name', 'column_name', 'data_type']\n",
    "personal_info = postgresql_to_dataframe(conn, query_personal_info, columns_personal_info)"
   ]
  },
  {
   "cell_type": "code",
   "execution_count": 11,
   "id": "4b7bdfbf",
   "metadata": {},
   "outputs": [
    {
     "data": {
      "text/html": [
       "<div>\n",
       "<style scoped>\n",
       "    .dataframe tbody tr th:only-of-type {\n",
       "        vertical-align: middle;\n",
       "    }\n",
       "\n",
       "    .dataframe tbody tr th {\n",
       "        vertical-align: top;\n",
       "    }\n",
       "\n",
       "    .dataframe thead th {\n",
       "        text-align: right;\n",
       "    }\n",
       "</style>\n",
       "<table border=\"1\" class=\"dataframe\">\n",
       "  <thead>\n",
       "    <tr style=\"text-align: right;\">\n",
       "      <th></th>\n",
       "      <th>table_name</th>\n",
       "      <th>column_name</th>\n",
       "      <th>data_type</th>\n",
       "    </tr>\n",
       "  </thead>\n",
       "  <tbody>\n",
       "    <tr>\n",
       "      <th>0</th>\n",
       "      <td>personal</td>\n",
       "      <td>customerID</td>\n",
       "      <td>text</td>\n",
       "    </tr>\n",
       "    <tr>\n",
       "      <th>1</th>\n",
       "      <td>personal</td>\n",
       "      <td>gender</td>\n",
       "      <td>text</td>\n",
       "    </tr>\n",
       "    <tr>\n",
       "      <th>2</th>\n",
       "      <td>personal</td>\n",
       "      <td>SeniorCitizen</td>\n",
       "      <td>integer</td>\n",
       "    </tr>\n",
       "    <tr>\n",
       "      <th>3</th>\n",
       "      <td>personal</td>\n",
       "      <td>Partner</td>\n",
       "      <td>text</td>\n",
       "    </tr>\n",
       "    <tr>\n",
       "      <th>4</th>\n",
       "      <td>personal</td>\n",
       "      <td>Dependents</td>\n",
       "      <td>text</td>\n",
       "    </tr>\n",
       "  </tbody>\n",
       "</table>\n",
       "</div>"
      ],
      "text/plain": [
       "  table_name    column_name data_type\n",
       "0   personal     customerID      text\n",
       "1   personal         gender      text\n",
       "2   personal  SeniorCitizen   integer\n",
       "3   personal        Partner      text\n",
       "4   personal     Dependents      text"
      ]
     },
     "execution_count": 11,
     "metadata": {},
     "output_type": "execute_result"
    }
   ],
   "source": [
    "personal_info"
   ]
  },
  {
   "cell_type": "code",
   "execution_count": 12,
   "id": "b7ff714a",
   "metadata": {},
   "outputs": [],
   "source": [
    "query_internet_info =\\\n",
    "\"SELECT table_name, column_name, data_type FROM information_schema.columns WHERE table_name = 'internet';\"\n",
    "columns_internet_info = ['table_name', 'column_name', 'data_type']\n",
    "internet_info = postgresql_to_dataframe(conn, query_internet_info, columns_internet_info)"
   ]
  },
  {
   "cell_type": "code",
   "execution_count": 13,
   "id": "bd949dd0",
   "metadata": {},
   "outputs": [
    {
     "data": {
      "text/html": [
       "<div>\n",
       "<style scoped>\n",
       "    .dataframe tbody tr th:only-of-type {\n",
       "        vertical-align: middle;\n",
       "    }\n",
       "\n",
       "    .dataframe tbody tr th {\n",
       "        vertical-align: top;\n",
       "    }\n",
       "\n",
       "    .dataframe thead th {\n",
       "        text-align: right;\n",
       "    }\n",
       "</style>\n",
       "<table border=\"1\" class=\"dataframe\">\n",
       "  <thead>\n",
       "    <tr style=\"text-align: right;\">\n",
       "      <th></th>\n",
       "      <th>table_name</th>\n",
       "      <th>column_name</th>\n",
       "      <th>data_type</th>\n",
       "    </tr>\n",
       "  </thead>\n",
       "  <tbody>\n",
       "    <tr>\n",
       "      <th>0</th>\n",
       "      <td>internet</td>\n",
       "      <td>c1</td>\n",
       "      <td>text</td>\n",
       "    </tr>\n",
       "    <tr>\n",
       "      <th>1</th>\n",
       "      <td>internet</td>\n",
       "      <td>c2</td>\n",
       "      <td>text</td>\n",
       "    </tr>\n",
       "    <tr>\n",
       "      <th>2</th>\n",
       "      <td>internet</td>\n",
       "      <td>c3</td>\n",
       "      <td>text</td>\n",
       "    </tr>\n",
       "    <tr>\n",
       "      <th>3</th>\n",
       "      <td>internet</td>\n",
       "      <td>c4</td>\n",
       "      <td>text</td>\n",
       "    </tr>\n",
       "    <tr>\n",
       "      <th>4</th>\n",
       "      <td>internet</td>\n",
       "      <td>c5</td>\n",
       "      <td>text</td>\n",
       "    </tr>\n",
       "    <tr>\n",
       "      <th>5</th>\n",
       "      <td>internet</td>\n",
       "      <td>c6</td>\n",
       "      <td>text</td>\n",
       "    </tr>\n",
       "    <tr>\n",
       "      <th>6</th>\n",
       "      <td>internet</td>\n",
       "      <td>c7</td>\n",
       "      <td>text</td>\n",
       "    </tr>\n",
       "    <tr>\n",
       "      <th>7</th>\n",
       "      <td>internet</td>\n",
       "      <td>c8</td>\n",
       "      <td>text</td>\n",
       "    </tr>\n",
       "  </tbody>\n",
       "</table>\n",
       "</div>"
      ],
      "text/plain": [
       "  table_name column_name data_type\n",
       "0   internet          c1      text\n",
       "1   internet          c2      text\n",
       "2   internet          c3      text\n",
       "3   internet          c4      text\n",
       "4   internet          c5      text\n",
       "5   internet          c6      text\n",
       "6   internet          c7      text\n",
       "7   internet          c8      text"
      ]
     },
     "execution_count": 13,
     "metadata": {},
     "output_type": "execute_result"
    }
   ],
   "source": [
    "internet_info"
   ]
  },
  {
   "cell_type": "markdown",
   "id": "aa79ce0c",
   "metadata": {},
   "source": [
    "В описании проекта данные о таблице 'internet' выглядят вот так:\n",
    "- customerID — ID пользователя;\n",
    "- InternetService — тип подключения;\n",
    "- OnlineSecurity — блокировка опасных сайтов;\n",
    "- OnlineBackup — облачное хранилище файлов для резервного копирования данных;\n",
    "- DeviceProtection — антивирус;\n",
    "- TechSupport — выделенная линия технической поддержки;\n",
    "- StreamingTV — стриминговое телевидение;\n",
    "- StreamingMovies — каталог фильмов."
   ]
  },
  {
   "cell_type": "markdown",
   "id": "4f5fb56d",
   "metadata": {},
   "source": [
    "Стоит выбрать несколько строк данных чтобы проверить если данные хранятся в таком же порядке."
   ]
  },
  {
   "cell_type": "code",
   "execution_count": 14,
   "id": "77d7b279",
   "metadata": {},
   "outputs": [],
   "source": [
    "query_internet_sample =\\\n",
    "\"SELECT * FROM telecom.internet LIMIT 5;\"\n",
    "columns_internet_sample = ['customerID', 'ItnernetService', 'OnlineSecurity', 'OnlineBackup',\n",
    "                           'DeviceProtection', 'TechSupport', 'StreamingTV', 'StreamingMovies']\n",
    "internet_sample = postgresql_to_dataframe(conn, query_internet_sample, columns_internet_sample)"
   ]
  },
  {
   "cell_type": "code",
   "execution_count": 15,
   "id": "486cb0c2",
   "metadata": {},
   "outputs": [
    {
     "data": {
      "text/html": [
       "<div>\n",
       "<style scoped>\n",
       "    .dataframe tbody tr th:only-of-type {\n",
       "        vertical-align: middle;\n",
       "    }\n",
       "\n",
       "    .dataframe tbody tr th {\n",
       "        vertical-align: top;\n",
       "    }\n",
       "\n",
       "    .dataframe thead th {\n",
       "        text-align: right;\n",
       "    }\n",
       "</style>\n",
       "<table border=\"1\" class=\"dataframe\">\n",
       "  <thead>\n",
       "    <tr style=\"text-align: right;\">\n",
       "      <th></th>\n",
       "      <th>customerID</th>\n",
       "      <th>ItnernetService</th>\n",
       "      <th>OnlineSecurity</th>\n",
       "      <th>OnlineBackup</th>\n",
       "      <th>DeviceProtection</th>\n",
       "      <th>TechSupport</th>\n",
       "      <th>StreamingTV</th>\n",
       "      <th>StreamingMovies</th>\n",
       "    </tr>\n",
       "  </thead>\n",
       "  <tbody>\n",
       "    <tr>\n",
       "      <th>0</th>\n",
       "      <td>customerID</td>\n",
       "      <td>InternetService</td>\n",
       "      <td>OnlineSecurity</td>\n",
       "      <td>OnlineBackup</td>\n",
       "      <td>DeviceProtection</td>\n",
       "      <td>TechSupport</td>\n",
       "      <td>StreamingTV</td>\n",
       "      <td>StreamingMovies</td>\n",
       "    </tr>\n",
       "    <tr>\n",
       "      <th>1</th>\n",
       "      <td>7590-VHVEG</td>\n",
       "      <td>DSL</td>\n",
       "      <td>No</td>\n",
       "      <td>Yes</td>\n",
       "      <td>No</td>\n",
       "      <td>No</td>\n",
       "      <td>No</td>\n",
       "      <td>No</td>\n",
       "    </tr>\n",
       "    <tr>\n",
       "      <th>2</th>\n",
       "      <td>5575-GNVDE</td>\n",
       "      <td>DSL</td>\n",
       "      <td>Yes</td>\n",
       "      <td>No</td>\n",
       "      <td>Yes</td>\n",
       "      <td>No</td>\n",
       "      <td>No</td>\n",
       "      <td>No</td>\n",
       "    </tr>\n",
       "    <tr>\n",
       "      <th>3</th>\n",
       "      <td>3668-QPYBK</td>\n",
       "      <td>DSL</td>\n",
       "      <td>Yes</td>\n",
       "      <td>Yes</td>\n",
       "      <td>No</td>\n",
       "      <td>No</td>\n",
       "      <td>No</td>\n",
       "      <td>No</td>\n",
       "    </tr>\n",
       "    <tr>\n",
       "      <th>4</th>\n",
       "      <td>7795-CFOCW</td>\n",
       "      <td>DSL</td>\n",
       "      <td>Yes</td>\n",
       "      <td>No</td>\n",
       "      <td>Yes</td>\n",
       "      <td>Yes</td>\n",
       "      <td>No</td>\n",
       "      <td>No</td>\n",
       "    </tr>\n",
       "  </tbody>\n",
       "</table>\n",
       "</div>"
      ],
      "text/plain": [
       "   customerID  ItnernetService  OnlineSecurity  OnlineBackup   \n",
       "0  customerID  InternetService  OnlineSecurity  OnlineBackup  \\\n",
       "1  7590-VHVEG              DSL              No           Yes   \n",
       "2  5575-GNVDE              DSL             Yes            No   \n",
       "3  3668-QPYBK              DSL             Yes           Yes   \n",
       "4  7795-CFOCW              DSL             Yes            No   \n",
       "\n",
       "   DeviceProtection  TechSupport  StreamingTV  StreamingMovies  \n",
       "0  DeviceProtection  TechSupport  StreamingTV  StreamingMovies  \n",
       "1                No           No           No               No  \n",
       "2               Yes           No           No               No  \n",
       "3                No           No           No               No  \n",
       "4               Yes          Yes           No               No  "
      ]
     },
     "execution_count": 15,
     "metadata": {},
     "output_type": "execute_result"
    }
   ],
   "source": [
    "internet_sample"
   ]
  },
  {
   "cell_type": "code",
   "execution_count": 16,
   "id": "7f5b424c",
   "metadata": {},
   "outputs": [],
   "source": [
    "query_phone_info =\\\n",
    "\"SELECT table_name, column_name, data_type FROM information_schema.columns WHERE table_name = 'phone';\"\n",
    "columns_phone_info = ['table_name', 'column_name', 'data_type']\n",
    "phone_info = postgresql_to_dataframe(conn, query_phone_info, columns_phone_info)"
   ]
  },
  {
   "cell_type": "code",
   "execution_count": 17,
   "id": "3516f211",
   "metadata": {},
   "outputs": [
    {
     "data": {
      "text/html": [
       "<div>\n",
       "<style scoped>\n",
       "    .dataframe tbody tr th:only-of-type {\n",
       "        vertical-align: middle;\n",
       "    }\n",
       "\n",
       "    .dataframe tbody tr th {\n",
       "        vertical-align: top;\n",
       "    }\n",
       "\n",
       "    .dataframe thead th {\n",
       "        text-align: right;\n",
       "    }\n",
       "</style>\n",
       "<table border=\"1\" class=\"dataframe\">\n",
       "  <thead>\n",
       "    <tr style=\"text-align: right;\">\n",
       "      <th></th>\n",
       "      <th>table_name</th>\n",
       "      <th>column_name</th>\n",
       "      <th>data_type</th>\n",
       "    </tr>\n",
       "  </thead>\n",
       "  <tbody>\n",
       "    <tr>\n",
       "      <th>0</th>\n",
       "      <td>phone</td>\n",
       "      <td>c1</td>\n",
       "      <td>text</td>\n",
       "    </tr>\n",
       "    <tr>\n",
       "      <th>1</th>\n",
       "      <td>phone</td>\n",
       "      <td>c2</td>\n",
       "      <td>text</td>\n",
       "    </tr>\n",
       "  </tbody>\n",
       "</table>\n",
       "</div>"
      ],
      "text/plain": [
       "  table_name column_name data_type\n",
       "0      phone          c1      text\n",
       "1      phone          c2      text"
      ]
     },
     "execution_count": 17,
     "metadata": {},
     "output_type": "execute_result"
    }
   ],
   "source": [
    "phone_info"
   ]
  },
  {
   "cell_type": "markdown",
   "id": "a8adfb58",
   "metadata": {},
   "source": [
    "В описании проекта данные о таблице 'phone' выглядят вот так:\n",
    "- customerID — ID пользователя;\n",
    "- MultipleLines — подключение телефона к нескольким линиям"
   ]
  },
  {
   "cell_type": "markdown",
   "id": "1f843439",
   "metadata": {},
   "source": [
    "Стоит выбрать несколько строк данных чтобы проверить если данные хранятся в таком же порядке."
   ]
  },
  {
   "cell_type": "code",
   "execution_count": 18,
   "id": "e2830376",
   "metadata": {},
   "outputs": [],
   "source": [
    "query_phone_sample = \\\n",
    "\"SELECT * FROM telecom.phone LIMIT 5;\"\n",
    "columns_phone_sample = ['customerID', 'MultipleLines']\n",
    "phone_sample = postgresql_to_dataframe(conn, query_phone_sample, columns_phone_sample)"
   ]
  },
  {
   "cell_type": "code",
   "execution_count": 19,
   "id": "8384cf4d",
   "metadata": {},
   "outputs": [
    {
     "data": {
      "text/html": [
       "<div>\n",
       "<style scoped>\n",
       "    .dataframe tbody tr th:only-of-type {\n",
       "        vertical-align: middle;\n",
       "    }\n",
       "\n",
       "    .dataframe tbody tr th {\n",
       "        vertical-align: top;\n",
       "    }\n",
       "\n",
       "    .dataframe thead th {\n",
       "        text-align: right;\n",
       "    }\n",
       "</style>\n",
       "<table border=\"1\" class=\"dataframe\">\n",
       "  <thead>\n",
       "    <tr style=\"text-align: right;\">\n",
       "      <th></th>\n",
       "      <th>customerID</th>\n",
       "      <th>MultipleLines</th>\n",
       "    </tr>\n",
       "  </thead>\n",
       "  <tbody>\n",
       "    <tr>\n",
       "      <th>0</th>\n",
       "      <td>customerID</td>\n",
       "      <td>MultipleLines</td>\n",
       "    </tr>\n",
       "    <tr>\n",
       "      <th>1</th>\n",
       "      <td>5575-GNVDE</td>\n",
       "      <td>No</td>\n",
       "    </tr>\n",
       "    <tr>\n",
       "      <th>2</th>\n",
       "      <td>3668-QPYBK</td>\n",
       "      <td>No</td>\n",
       "    </tr>\n",
       "    <tr>\n",
       "      <th>3</th>\n",
       "      <td>9237-HQITU</td>\n",
       "      <td>No</td>\n",
       "    </tr>\n",
       "    <tr>\n",
       "      <th>4</th>\n",
       "      <td>9305-CDSKC</td>\n",
       "      <td>Yes</td>\n",
       "    </tr>\n",
       "  </tbody>\n",
       "</table>\n",
       "</div>"
      ],
      "text/plain": [
       "   customerID  MultipleLines\n",
       "0  customerID  MultipleLines\n",
       "1  5575-GNVDE             No\n",
       "2  3668-QPYBK             No\n",
       "3  9237-HQITU             No\n",
       "4  9305-CDSKC            Yes"
      ]
     },
     "execution_count": 19,
     "metadata": {},
     "output_type": "execute_result"
    }
   ],
   "source": [
    "phone_sample"
   ]
  },
  {
   "cell_type": "markdown",
   "id": "7359e96c",
   "metadata": {},
   "source": [
    "# Исследовательскй Анализ + Предобрабока Данных"
   ]
  },
  {
   "cell_type": "markdown",
   "id": "822af8c9",
   "metadata": {},
   "source": [
    "- Наша модель будет предсказывать если данные ползьватель относится к гуппе которые скорее всего перестанут пользоваться услугами компании.\n",
    "- Нам нужно будет выделить тех ползователей которые перeстали пользоваться услугами и скорее всего мы будем использовать 'telecom.contract' таблицу и 'EndDate' колонку.\n",
    "- У нас будут абоненты с уникальным идентификатором 'customerID' и целевой переменной.\n",
    "- Только остается объединить все остальные полезные признаки (Feature Engineering)."
   ]
  },
  {
   "cell_type": "markdown",
   "id": "ce4569bf",
   "metadata": {},
   "source": [
    "Feature Engineering:\n",
    "- Большинство признаков по 'customerID' можно будет проверить на корреляцию с не большой выборкой для скорости.\n",
    "- Когда мы будем проверять корреляцию нужно будет обращать внимание на качественные и количественные переменные.\n",
    "- Можно будет еще построить признаки по дате:\n",
    "  - Сколько обонент уже ползуется услугами.\n",
    "  - Можно еще провести анализ по окончании действия договоров в зависимости от времени года.\n",
    "  - Этот пункт как совет для компании как улучшить сервис."
   ]
  },
  {
   "cell_type": "markdown",
   "id": "035b7c65",
   "metadata": {},
   "source": [
    "Проверка корреляции:\n",
    "- Мы построим таблицу состоящую из 'customerID' и 'terminated' (целевой признак)\n",
    "- Потом будем рандомно выбирать данные из колонок и сопостовлять по 'customerID'"
   ]
  },
  {
   "cell_type": "code",
   "execution_count": 20,
   "id": "98e10c43",
   "metadata": {},
   "outputs": [],
   "source": [
    "query_customer =\\\n",
    "'SELECT \"customerID\", \"EndDate\" FROM telecom.contract;'\n",
    "columns_customer = ['customerID', 'EndDate']\n",
    "customer = postgresql_to_dataframe(conn, query_customer, columns_customer)"
   ]
  },
  {
   "cell_type": "markdown",
   "id": "1b9660eb",
   "metadata": {},
   "source": [
    "\"posgreSQL работает с учетом регистра, нужно использовать кавычки правильно\""
   ]
  },
  {
   "cell_type": "code",
   "execution_count": 21,
   "id": "5c8b37b7",
   "metadata": {},
   "outputs": [
    {
     "data": {
      "text/html": [
       "<div>\n",
       "<style scoped>\n",
       "    .dataframe tbody tr th:only-of-type {\n",
       "        vertical-align: middle;\n",
       "    }\n",
       "\n",
       "    .dataframe tbody tr th {\n",
       "        vertical-align: top;\n",
       "    }\n",
       "\n",
       "    .dataframe thead th {\n",
       "        text-align: right;\n",
       "    }\n",
       "</style>\n",
       "<table border=\"1\" class=\"dataframe\">\n",
       "  <thead>\n",
       "    <tr style=\"text-align: right;\">\n",
       "      <th></th>\n",
       "      <th>customerID</th>\n",
       "      <th>EndDate</th>\n",
       "    </tr>\n",
       "  </thead>\n",
       "  <tbody>\n",
       "    <tr>\n",
       "      <th>4348</th>\n",
       "      <td>1335-HQMKX</td>\n",
       "      <td>None</td>\n",
       "    </tr>\n",
       "    <tr>\n",
       "      <th>2047</th>\n",
       "      <td>4195-NZGTA</td>\n",
       "      <td>None</td>\n",
       "    </tr>\n",
       "    <tr>\n",
       "      <th>5983</th>\n",
       "      <td>4163-HFTUK</td>\n",
       "      <td>None</td>\n",
       "    </tr>\n",
       "    <tr>\n",
       "      <th>1770</th>\n",
       "      <td>1062-LHZOD</td>\n",
       "      <td>2019-10-01</td>\n",
       "    </tr>\n",
       "  </tbody>\n",
       "</table>\n",
       "</div>"
      ],
      "text/plain": [
       "      customerID     EndDate\n",
       "4348  1335-HQMKX        None\n",
       "2047  4195-NZGTA        None\n",
       "5983  4163-HFTUK        None\n",
       "1770  1062-LHZOD  2019-10-01"
      ]
     },
     "execution_count": 21,
     "metadata": {},
     "output_type": "execute_result"
    }
   ],
   "source": [
    "customer.sample(4)"
   ]
  },
  {
   "cell_type": "code",
   "execution_count": 22,
   "id": "c7e9e700",
   "metadata": {},
   "outputs": [
    {
     "name": "stdout",
     "output_type": "stream",
     "text": [
      "<class 'pandas.core.frame.DataFrame'>\n",
      "RangeIndex: 7043 entries, 0 to 7042\n",
      "Data columns (total 2 columns):\n",
      " #   Column      Non-Null Count  Dtype \n",
      "---  ------      --------------  ----- \n",
      " 0   customerID  7043 non-null   object\n",
      " 1   EndDate     1869 non-null   object\n",
      "dtypes: object(2)\n",
      "memory usage: 110.2+ KB\n"
     ]
    }
   ],
   "source": [
    "customer.info()"
   ]
  },
  {
   "cell_type": "code",
   "execution_count": 23,
   "id": "a318e1a3",
   "metadata": {},
   "outputs": [],
   "source": [
    "customer['terminated'] = customer.EndDate.notna()"
   ]
  },
  {
   "cell_type": "markdown",
   "id": "6cfb020b",
   "metadata": {},
   "source": [
    "### Проверка Качественных Параметров\n",
    "- Type\n",
    "- PaperlessBilling\n",
    "- PaymentMethod\n",
    "- gender\n",
    "- SeniorCitizen\n",
    "- Partner\n",
    "- Dependents\n",
    "- ItnernetService - OHE?\n",
    "- OnlineSecurity\n",
    "- OnlineBackup\n",
    "- DeviceProtection\n",
    "- TechSupport\n",
    "- StreamingTV\n",
    "- StreamingMovies\n",
    "- MultipleLines"
   ]
  },
  {
   "cell_type": "code",
   "execution_count": 24,
   "id": "c826784c",
   "metadata": {},
   "outputs": [],
   "source": [
    "query_categorical =\\\n",
    "'''\n",
    "WITH good_ids AS (\n",
    "    SELECT \"customerID\"\n",
    "    FROM telecom.contract\n",
    "    ORDER BY RANDOM()\n",
    "    LIMIT 1000\n",
    "), contract_categorical AS (\n",
    "    SELECT \"customerID\", \"Type\", \"PaperlessBilling\", \"PaymentMethod\"\n",
    "    FROM telecom.contract\n",
    "    WHERE \"customerID\" IN (\n",
    "        SELECT *\n",
    "        FROM good_ids\n",
    "    )\n",
    "), personal_categorical AS (\n",
    "    SELECT *\n",
    "    FROM telecom.personal\n",
    "    WHERE \"customerID\" IN (\n",
    "        SELECT *\n",
    "        FROM good_ids\n",
    "    )\n",
    "), internet_categorical AS (\n",
    "    SELECT *\n",
    "    FROM telecom.internet\n",
    "    WHERE \"c1\" IN (\n",
    "        SELECT *\n",
    "        FROM good_ids\n",
    "    )\n",
    "), phone_categorical AS (\n",
    "    SELECT *\n",
    "    FROM telecom.phone\n",
    "    WHERE \"c1\" IN (\n",
    "        SELECT *\n",
    "        FROM good_ids\n",
    "    )\n",
    ")\n",
    "\n",
    "SELECT \n",
    "    key.*, \n",
    "    cc.\"Type\", cc.\"PaperlessBilling\", cc.\"PaymentMethod\",\n",
    "    pc.\"gender\", pc.\"SeniorCitizen\", pc.\"Partner\", \"Dependents\",\n",
    "    ic.\"c2\", ic.\"c3\", ic.\"c4\", ic.\"c5\", ic.\"c6\", ic.\"c7\", ic.\"c8\",\n",
    "    phone_categorical.\"c2\"\n",
    "FROM good_ids AS key\n",
    "    INNER JOIN contract_categorical AS cc\n",
    "    ON key.\"customerID\" = cc.\"customerID\"\n",
    "    INNER JOIN personal_categorical AS pc\n",
    "    ON key.\"customerID\" = pc.\"customerID\"\n",
    "    INNER JOIN internet_categorical AS ic\n",
    "    ON key.\"customerID\" = ic.\"c1\"\n",
    "    INNER JOIN phone_categorical\n",
    "    ON key.\"customerID\" = phone_categorical.\"c1\"\n",
    "    ;\n",
    "'''\n",
    "columns_categorical = [\n",
    "    'customerID', \n",
    "    'Type', 'PaperlessBilling', 'PaymentMethod',\n",
    "    'gender', 'SeniorCitizen', 'Partner', 'Dependents',\n",
    "    'InternetService', 'OnlineSecurity', 'OnlineBackup',\n",
    "    'DeviceProtection', 'TechSupport', 'StreamingTV', 'StreamingMovies',\n",
    "    'MultipleLines'\n",
    "]\n",
    "categorical = postgresql_to_dataframe(conn, query_categorical, columns_categorical)"
   ]
  },
  {
   "cell_type": "code",
   "execution_count": 25,
   "id": "dbcb7599",
   "metadata": {},
   "outputs": [
    {
     "data": {
      "text/html": [
       "<div>\n",
       "<style scoped>\n",
       "    .dataframe tbody tr th:only-of-type {\n",
       "        vertical-align: middle;\n",
       "    }\n",
       "\n",
       "    .dataframe tbody tr th {\n",
       "        vertical-align: top;\n",
       "    }\n",
       "\n",
       "    .dataframe thead th {\n",
       "        text-align: right;\n",
       "    }\n",
       "</style>\n",
       "<table border=\"1\" class=\"dataframe\">\n",
       "  <thead>\n",
       "    <tr style=\"text-align: right;\">\n",
       "      <th></th>\n",
       "      <th>customerID</th>\n",
       "      <th>Type</th>\n",
       "      <th>PaperlessBilling</th>\n",
       "      <th>PaymentMethod</th>\n",
       "      <th>gender</th>\n",
       "      <th>SeniorCitizen</th>\n",
       "      <th>Partner</th>\n",
       "      <th>Dependents</th>\n",
       "      <th>InternetService</th>\n",
       "      <th>OnlineSecurity</th>\n",
       "      <th>OnlineBackup</th>\n",
       "      <th>DeviceProtection</th>\n",
       "      <th>TechSupport</th>\n",
       "      <th>StreamingTV</th>\n",
       "      <th>StreamingMovies</th>\n",
       "      <th>MultipleLines</th>\n",
       "    </tr>\n",
       "  </thead>\n",
       "  <tbody>\n",
       "    <tr>\n",
       "      <th>0</th>\n",
       "      <td>0013-EXCHZ</td>\n",
       "      <td>Month-to-month</td>\n",
       "      <td>Yes</td>\n",
       "      <td>Mailed check</td>\n",
       "      <td>Female</td>\n",
       "      <td>1</td>\n",
       "      <td>Yes</td>\n",
       "      <td>No</td>\n",
       "      <td>Fiber optic</td>\n",
       "      <td>No</td>\n",
       "      <td>No</td>\n",
       "      <td>No</td>\n",
       "      <td>Yes</td>\n",
       "      <td>Yes</td>\n",
       "      <td>No</td>\n",
       "      <td>No</td>\n",
       "    </tr>\n",
       "    <tr>\n",
       "      <th>1</th>\n",
       "      <td>0018-NYROU</td>\n",
       "      <td>Month-to-month</td>\n",
       "      <td>Yes</td>\n",
       "      <td>Electronic check</td>\n",
       "      <td>Female</td>\n",
       "      <td>0</td>\n",
       "      <td>Yes</td>\n",
       "      <td>No</td>\n",
       "      <td>Fiber optic</td>\n",
       "      <td>No</td>\n",
       "      <td>No</td>\n",
       "      <td>No</td>\n",
       "      <td>No</td>\n",
       "      <td>No</td>\n",
       "      <td>No</td>\n",
       "      <td>No</td>\n",
       "    </tr>\n",
       "    <tr>\n",
       "      <th>2</th>\n",
       "      <td>0023-XUOPT</td>\n",
       "      <td>Month-to-month</td>\n",
       "      <td>No</td>\n",
       "      <td>Electronic check</td>\n",
       "      <td>Female</td>\n",
       "      <td>0</td>\n",
       "      <td>Yes</td>\n",
       "      <td>No</td>\n",
       "      <td>Fiber optic</td>\n",
       "      <td>No</td>\n",
       "      <td>Yes</td>\n",
       "      <td>Yes</td>\n",
       "      <td>No</td>\n",
       "      <td>Yes</td>\n",
       "      <td>No</td>\n",
       "      <td>Yes</td>\n",
       "    </tr>\n",
       "    <tr>\n",
       "      <th>3</th>\n",
       "      <td>0058-EVZWM</td>\n",
       "      <td>Month-to-month</td>\n",
       "      <td>Yes</td>\n",
       "      <td>Bank transfer (automatic)</td>\n",
       "      <td>Female</td>\n",
       "      <td>0</td>\n",
       "      <td>Yes</td>\n",
       "      <td>No</td>\n",
       "      <td>Fiber optic</td>\n",
       "      <td>Yes</td>\n",
       "      <td>No</td>\n",
       "      <td>No</td>\n",
       "      <td>No</td>\n",
       "      <td>Yes</td>\n",
       "      <td>No</td>\n",
       "      <td>Yes</td>\n",
       "    </tr>\n",
       "    <tr>\n",
       "      <th>4</th>\n",
       "      <td>0064-YIJGF</td>\n",
       "      <td>Month-to-month</td>\n",
       "      <td>Yes</td>\n",
       "      <td>Bank transfer (automatic)</td>\n",
       "      <td>Male</td>\n",
       "      <td>0</td>\n",
       "      <td>Yes</td>\n",
       "      <td>Yes</td>\n",
       "      <td>Fiber optic</td>\n",
       "      <td>No</td>\n",
       "      <td>No</td>\n",
       "      <td>No</td>\n",
       "      <td>No</td>\n",
       "      <td>No</td>\n",
       "      <td>No</td>\n",
       "      <td>Yes</td>\n",
       "    </tr>\n",
       "  </tbody>\n",
       "</table>\n",
       "</div>"
      ],
      "text/plain": [
       "   customerID            Type PaperlessBilling              PaymentMethod   \n",
       "0  0013-EXCHZ  Month-to-month              Yes               Mailed check  \\\n",
       "1  0018-NYROU  Month-to-month              Yes           Electronic check   \n",
       "2  0023-XUOPT  Month-to-month               No           Electronic check   \n",
       "3  0058-EVZWM  Month-to-month              Yes  Bank transfer (automatic)   \n",
       "4  0064-YIJGF  Month-to-month              Yes  Bank transfer (automatic)   \n",
       "\n",
       "   gender  SeniorCitizen Partner Dependents InternetService OnlineSecurity   \n",
       "0  Female              1     Yes         No     Fiber optic             No  \\\n",
       "1  Female              0     Yes         No     Fiber optic             No   \n",
       "2  Female              0     Yes         No     Fiber optic             No   \n",
       "3  Female              0     Yes         No     Fiber optic            Yes   \n",
       "4    Male              0     Yes        Yes     Fiber optic             No   \n",
       "\n",
       "  OnlineBackup DeviceProtection TechSupport StreamingTV StreamingMovies   \n",
       "0           No               No         Yes         Yes              No  \\\n",
       "1           No               No          No          No              No   \n",
       "2          Yes              Yes          No         Yes              No   \n",
       "3           No               No          No         Yes              No   \n",
       "4           No               No          No          No              No   \n",
       "\n",
       "  MultipleLines  \n",
       "0            No  \n",
       "1            No  \n",
       "2           Yes  \n",
       "3           Yes  \n",
       "4           Yes  "
      ]
     },
     "execution_count": 25,
     "metadata": {},
     "output_type": "execute_result"
    }
   ],
   "source": [
    "categorical.head()"
   ]
  },
  {
   "cell_type": "code",
   "execution_count": 26,
   "id": "6247636b",
   "metadata": {},
   "outputs": [
    {
     "name": "stdout",
     "output_type": "stream",
     "text": [
      "customerID           689\n",
      "Type                 3\n",
      "PaperlessBilling     2\n",
      "PaymentMethod        4\n",
      "gender               2\n",
      "SeniorCitizen        2\n",
      "Partner              2\n",
      "Dependents           2\n",
      "InternetService      2\n",
      "OnlineSecurity       2\n",
      "OnlineBackup         2\n",
      "DeviceProtection     2\n",
      "TechSupport          2\n",
      "StreamingTV          2\n",
      "StreamingMovies      2\n",
      "MultipleLines        2\n"
     ]
    }
   ],
   "source": [
    "for column in categorical.columns:\n",
    "    print(\"{:20} {}\".format(column, len(pd.unique(categorical[column]))))"
   ]
  },
  {
   "cell_type": "markdown",
   "id": "500592cf",
   "metadata": {},
   "source": [
    "Благодоря INNER JOIN у нас нет пропусков, но видно что теперь выборка содержит меньше значений, этого должно хватить для корреляции \n",
    "\n",
    "- 'Type' нужно провести OneHotEncoding\n",
    "- 'PaymentMethod' нужно провести OneHotEncoding"
   ]
  },
  {
   "cell_type": "code",
   "execution_count": 27,
   "id": "398e285f",
   "metadata": {},
   "outputs": [
    {
     "data": {
      "text/plain": [
       "array(['Month-to-month', 'Two year', 'One year'], dtype=object)"
      ]
     },
     "execution_count": 27,
     "metadata": {},
     "output_type": "execute_result"
    }
   ],
   "source": [
    "pd.unique(categorical.Type)"
   ]
  },
  {
   "cell_type": "code",
   "execution_count": 28,
   "id": "5e08d09a",
   "metadata": {},
   "outputs": [],
   "source": [
    "categorical['Type_month_to_month'] = categorical.Type == 'Month-to-month'\n",
    "categorical['Type_one_year'] = categorical.Type == 'One year'\n",
    "categorical['Type_two_year'] = categorical.Type == 'Two year'\n",
    "categorical = categorical.drop(columns=['Type'])"
   ]
  },
  {
   "cell_type": "code",
   "execution_count": 29,
   "id": "ed210c91",
   "metadata": {},
   "outputs": [
    {
     "data": {
      "text/plain": [
       "array(['Mailed check', 'Electronic check', 'Bank transfer (automatic)',\n",
       "       'Credit card (automatic)'], dtype=object)"
      ]
     },
     "execution_count": 29,
     "metadata": {},
     "output_type": "execute_result"
    }
   ],
   "source": [
    "pd.unique(categorical.PaymentMethod)"
   ]
  },
  {
   "cell_type": "code",
   "execution_count": 30,
   "id": "4ca46f84",
   "metadata": {},
   "outputs": [],
   "source": [
    "categorical['PaymentMethod_electronic_check'] = categorical['PaymentMethod'] == 'Electronic check'\n",
    "categorical['PaymentMethod_bank_transfer_(automatic)'] = categorical['PaymentMethod'] == 'Bank transfer (automatic)'\n",
    "categorical['PaymentMethod_credict_card_(automatic)'] = categorical['PaymentMethod'] == 'Credit card (automatic)'\n",
    "categorical['PaymentMethod_mailed_check'] = categorical['PaymentMethod'] == 'Mailed check'\n",
    "categorical = categorical.drop(columns=['PaymentMethod'])"
   ]
  },
  {
   "cell_type": "code",
   "execution_count": 31,
   "id": "114b2937",
   "metadata": {},
   "outputs": [],
   "source": [
    "categorical['gender_male'] = categorical['gender'] == 'Male'\n",
    "categorical = categorical.drop(columns=['gender'])"
   ]
  },
  {
   "cell_type": "code",
   "execution_count": 32,
   "id": "0e44fb04",
   "metadata": {},
   "outputs": [],
   "source": [
    "categorical['SeniorCitizen'] = categorical['SeniorCitizen'] == 1"
   ]
  },
  {
   "cell_type": "code",
   "execution_count": 33,
   "id": "e5bde5db",
   "metadata": {},
   "outputs": [],
   "source": [
    "categorical['InternetService_fiber_optic_not_DSL'] = categorical['InternetService'] == 'Fiber optic'\n",
    "categorical = categorical.drop(columns=['InternetService'])"
   ]
  },
  {
   "cell_type": "code",
   "execution_count": 34,
   "id": "efd27c39",
   "metadata": {},
   "outputs": [],
   "source": [
    "yes_no_cols = ['PaperlessBilling', 'Partner', 'Dependents', 'OnlineSecurity', 'OnlineBackup',\n",
    "               'DeviceProtection', 'TechSupport', 'StreamingTV', 'StreamingMovies', 'MultipleLines']\n",
    "for col in yes_no_cols:\n",
    "    categorical[col] = categorical[col] == 'Yes'"
   ]
  },
  {
   "cell_type": "code",
   "execution_count": 35,
   "id": "98401769",
   "metadata": {},
   "outputs": [
    {
     "data": {
      "text/html": [
       "<div>\n",
       "<style scoped>\n",
       "    .dataframe tbody tr th:only-of-type {\n",
       "        vertical-align: middle;\n",
       "    }\n",
       "\n",
       "    .dataframe tbody tr th {\n",
       "        vertical-align: top;\n",
       "    }\n",
       "\n",
       "    .dataframe thead th {\n",
       "        text-align: right;\n",
       "    }\n",
       "</style>\n",
       "<table border=\"1\" class=\"dataframe\">\n",
       "  <thead>\n",
       "    <tr style=\"text-align: right;\">\n",
       "      <th></th>\n",
       "      <th>customerID</th>\n",
       "      <th>PaperlessBilling</th>\n",
       "      <th>SeniorCitizen</th>\n",
       "      <th>Partner</th>\n",
       "      <th>Dependents</th>\n",
       "      <th>OnlineSecurity</th>\n",
       "      <th>OnlineBackup</th>\n",
       "      <th>DeviceProtection</th>\n",
       "      <th>TechSupport</th>\n",
       "      <th>StreamingTV</th>\n",
       "      <th>...</th>\n",
       "      <th>MultipleLines</th>\n",
       "      <th>Type_month_to_month</th>\n",
       "      <th>Type_one_year</th>\n",
       "      <th>Type_two_year</th>\n",
       "      <th>PaymentMethod_electronic_check</th>\n",
       "      <th>PaymentMethod_bank_transfer_(automatic)</th>\n",
       "      <th>PaymentMethod_credict_card_(automatic)</th>\n",
       "      <th>PaymentMethod_mailed_check</th>\n",
       "      <th>gender_male</th>\n",
       "      <th>InternetService_fiber_optic_not_DSL</th>\n",
       "    </tr>\n",
       "  </thead>\n",
       "  <tbody>\n",
       "    <tr>\n",
       "      <th>0</th>\n",
       "      <td>0013-EXCHZ</td>\n",
       "      <td>True</td>\n",
       "      <td>True</td>\n",
       "      <td>True</td>\n",
       "      <td>False</td>\n",
       "      <td>False</td>\n",
       "      <td>False</td>\n",
       "      <td>False</td>\n",
       "      <td>True</td>\n",
       "      <td>True</td>\n",
       "      <td>...</td>\n",
       "      <td>False</td>\n",
       "      <td>True</td>\n",
       "      <td>False</td>\n",
       "      <td>False</td>\n",
       "      <td>False</td>\n",
       "      <td>False</td>\n",
       "      <td>False</td>\n",
       "      <td>True</td>\n",
       "      <td>False</td>\n",
       "      <td>True</td>\n",
       "    </tr>\n",
       "    <tr>\n",
       "      <th>1</th>\n",
       "      <td>0018-NYROU</td>\n",
       "      <td>True</td>\n",
       "      <td>False</td>\n",
       "      <td>True</td>\n",
       "      <td>False</td>\n",
       "      <td>False</td>\n",
       "      <td>False</td>\n",
       "      <td>False</td>\n",
       "      <td>False</td>\n",
       "      <td>False</td>\n",
       "      <td>...</td>\n",
       "      <td>False</td>\n",
       "      <td>True</td>\n",
       "      <td>False</td>\n",
       "      <td>False</td>\n",
       "      <td>True</td>\n",
       "      <td>False</td>\n",
       "      <td>False</td>\n",
       "      <td>False</td>\n",
       "      <td>False</td>\n",
       "      <td>True</td>\n",
       "    </tr>\n",
       "    <tr>\n",
       "      <th>2</th>\n",
       "      <td>0023-XUOPT</td>\n",
       "      <td>False</td>\n",
       "      <td>False</td>\n",
       "      <td>True</td>\n",
       "      <td>False</td>\n",
       "      <td>False</td>\n",
       "      <td>True</td>\n",
       "      <td>True</td>\n",
       "      <td>False</td>\n",
       "      <td>True</td>\n",
       "      <td>...</td>\n",
       "      <td>True</td>\n",
       "      <td>True</td>\n",
       "      <td>False</td>\n",
       "      <td>False</td>\n",
       "      <td>True</td>\n",
       "      <td>False</td>\n",
       "      <td>False</td>\n",
       "      <td>False</td>\n",
       "      <td>False</td>\n",
       "      <td>True</td>\n",
       "    </tr>\n",
       "  </tbody>\n",
       "</table>\n",
       "<p>3 rows × 21 columns</p>\n",
       "</div>"
      ],
      "text/plain": [
       "   customerID  PaperlessBilling  SeniorCitizen  Partner  Dependents   \n",
       "0  0013-EXCHZ              True           True     True       False  \\\n",
       "1  0018-NYROU              True          False     True       False   \n",
       "2  0023-XUOPT             False          False     True       False   \n",
       "\n",
       "   OnlineSecurity  OnlineBackup  DeviceProtection  TechSupport  StreamingTV   \n",
       "0           False         False             False         True         True  \\\n",
       "1           False         False             False        False        False   \n",
       "2           False          True              True        False         True   \n",
       "\n",
       "   ...  MultipleLines  Type_month_to_month  Type_one_year  Type_two_year   \n",
       "0  ...          False                 True          False          False  \\\n",
       "1  ...          False                 True          False          False   \n",
       "2  ...           True                 True          False          False   \n",
       "\n",
       "   PaymentMethod_electronic_check  PaymentMethod_bank_transfer_(automatic)   \n",
       "0                           False                                    False  \\\n",
       "1                            True                                    False   \n",
       "2                            True                                    False   \n",
       "\n",
       "   PaymentMethod_credict_card_(automatic)  PaymentMethod_mailed_check   \n",
       "0                                   False                        True  \\\n",
       "1                                   False                       False   \n",
       "2                                   False                       False   \n",
       "\n",
       "   gender_male  InternetService_fiber_optic_not_DSL  \n",
       "0        False                                 True  \n",
       "1        False                                 True  \n",
       "2        False                                 True  \n",
       "\n",
       "[3 rows x 21 columns]"
      ]
     },
     "execution_count": 35,
     "metadata": {},
     "output_type": "execute_result"
    }
   ],
   "source": [
    "categorical.head(3)"
   ]
  },
  {
   "cell_type": "code",
   "execution_count": 36,
   "id": "299f8d82",
   "metadata": {},
   "outputs": [],
   "source": [
    "categorical = pd.merge(categorical, customer, on='customerID', how='inner')"
   ]
  },
  {
   "cell_type": "code",
   "execution_count": 37,
   "id": "10cf3bde",
   "metadata": {},
   "outputs": [],
   "source": [
    "categorical = categorical.drop(columns=['EndDate'])"
   ]
  },
  {
   "cell_type": "code",
   "execution_count": 38,
   "id": "cdec6a1c",
   "metadata": {},
   "outputs": [
    {
     "name": "stdout",
     "output_type": "stream",
     "text": [
      "PaperlessBilling                         significant 1   correlation 0.15 \n",
      "SeniorCitizen                            significant 1   correlation 0.14 \n",
      "Partner                                  significant 1   correlation -0.16 \n",
      "Dependents                               significant 1   correlation -0.12 \n",
      "OnlineSecurity                           significant 1   correlation -0.27 \n",
      "OnlineBackup                             significant 1   correlation -0.18 \n",
      "DeviceProtection                         significant 1   correlation -0.19 \n",
      "TechSupport                              significant 1   correlation -0.23 \n",
      "StreamingTV                              significant 0   correlation -0.04 \n",
      "StreamingMovies                          significant 0   correlation -0.05 \n",
      "MultipleLines                            significant 0   correlation -0.01 \n",
      "Type_month_to_month                      significant 1   correlation 0.35 \n",
      "Type_one_year                            significant 1   correlation -0.17 \n",
      "Type_two_year                            significant 1   correlation -0.26 \n",
      "PaymentMethod_electronic_check           significant 1   correlation 0.24 \n",
      "PaymentMethod_bank_transfer_(automatic)  significant 1   correlation -0.18 \n",
      "PaymentMethod_credict_card_(automatic)   significant 1   correlation -0.12 \n",
      "PaymentMethod_mailed_check               significant 0   correlation 0.01 \n",
      "gender_male                              significant 0   correlation -0.05 \n",
      "InternetService_fiber_optic_not_DSL      significant 1   correlation 0.26 \n"
     ]
    }
   ],
   "source": [
    "significant_cols = []\n",
    "\n",
    "for col in categorical.columns:\n",
    "    if col == 'customerID' or col == 'terminated':\n",
    "        continue\n",
    "    \n",
    "    correlation = categorical['terminated'].corr(\n",
    "                    categorical[col])\n",
    "    \n",
    "    if abs(correlation) >= 0.1:\n",
    "        significant_cols.append(col)\n",
    "    \n",
    "    print('{:40} significant {:1}   correlation {:.2f} '.format(str(col), (abs(correlation) > 0.1), correlation))"
   ]
  },
  {
   "cell_type": "code",
   "execution_count": 39,
   "id": "b3417ee6",
   "metadata": {},
   "outputs": [
    {
     "data": {
      "text/plain": [
       "['PaperlessBilling',\n",
       " 'SeniorCitizen',\n",
       " 'Partner',\n",
       " 'Dependents',\n",
       " 'OnlineSecurity',\n",
       " 'OnlineBackup',\n",
       " 'DeviceProtection',\n",
       " 'TechSupport',\n",
       " 'Type_month_to_month',\n",
       " 'Type_one_year',\n",
       " 'Type_two_year',\n",
       " 'PaymentMethod_electronic_check',\n",
       " 'PaymentMethod_bank_transfer_(automatic)',\n",
       " 'PaymentMethod_credict_card_(automatic)',\n",
       " 'InternetService_fiber_optic_not_DSL']"
      ]
     },
     "execution_count": 39,
     "metadata": {},
     "output_type": "execute_result"
    }
   ],
   "source": [
    "significant_cols"
   ]
  },
  {
   "cell_type": "code",
   "execution_count": 40,
   "id": "a8af1e4d",
   "metadata": {},
   "outputs": [
    {
     "name": "stdout",
     "output_type": "stream",
     "text": [
      "target value count ratio 0.31\n"
     ]
    }
   ],
   "source": [
    "print('target value count ratio {:.2f}'.format(categorical.terminated.sum() /\\\n",
    "                                               categorical.shape[0]))"
   ]
  },
  {
   "cell_type": "markdown",
   "id": "58c92866",
   "metadata": {},
   "source": [
    "Это количество данных где мы потеряли клиентов, чтобы корреляция не потерялась"
   ]
  },
  {
   "cell_type": "markdown",
   "id": "4cc9dd2d",
   "metadata": {},
   "source": [
    "### Проверим Корреляцию на Колличественных Данных"
   ]
  },
  {
   "cell_type": "markdown",
   "id": "42c3571e",
   "metadata": {},
   "source": [
    "- MontlyCharges\n",
    "- TotalCharges"
   ]
  },
  {
   "cell_type": "code",
   "execution_count": 41,
   "id": "6f029f22",
   "metadata": {},
   "outputs": [],
   "source": [
    "query_numerical =\\\n",
    "'''\n",
    "WITH good_ids AS (\n",
    "    SELECT \"customerID\"\n",
    "    FROM telecom.contract\n",
    "    ORDER BY RANDOM()\n",
    "    LIMIT 1000\n",
    ")\n",
    "\n",
    "SELECT \"customerID\", \"MonthlyCharges\", \"TotalCharges\"\n",
    "FROM telecom.contract\n",
    "WHERE \"customerID\" IN (\n",
    "    SELECT *\n",
    "    FROM good_ids\n",
    ");\n",
    "'''\n",
    "columns_numerical = ['customerID', 'MonthlyCharges', 'TotalCharges']\n",
    "numerical = postgresql_to_dataframe(conn, query_numerical, columns_numerical)"
   ]
  },
  {
   "cell_type": "code",
   "execution_count": 42,
   "id": "2f7610a1",
   "metadata": {},
   "outputs": [
    {
     "data": {
      "text/html": [
       "<div>\n",
       "<style scoped>\n",
       "    .dataframe tbody tr th:only-of-type {\n",
       "        vertical-align: middle;\n",
       "    }\n",
       "\n",
       "    .dataframe tbody tr th {\n",
       "        vertical-align: top;\n",
       "    }\n",
       "\n",
       "    .dataframe thead th {\n",
       "        text-align: right;\n",
       "    }\n",
       "</style>\n",
       "<table border=\"1\" class=\"dataframe\">\n",
       "  <thead>\n",
       "    <tr style=\"text-align: right;\">\n",
       "      <th></th>\n",
       "      <th>customerID</th>\n",
       "      <th>MonthlyCharges</th>\n",
       "      <th>TotalCharges</th>\n",
       "    </tr>\n",
       "  </thead>\n",
       "  <tbody>\n",
       "    <tr>\n",
       "      <th>0</th>\n",
       "      <td>9305-CDSKC</td>\n",
       "      <td>99.65</td>\n",
       "      <td>820.5</td>\n",
       "    </tr>\n",
       "    <tr>\n",
       "      <th>1</th>\n",
       "      <td>7892-POOKP</td>\n",
       "      <td>104.8</td>\n",
       "      <td>3046.05</td>\n",
       "    </tr>\n",
       "    <tr>\n",
       "      <th>2</th>\n",
       "      <td>7760-OYPDY</td>\n",
       "      <td>80.65</td>\n",
       "      <td>144.15</td>\n",
       "    </tr>\n",
       "  </tbody>\n",
       "</table>\n",
       "</div>"
      ],
      "text/plain": [
       "   customerID MonthlyCharges TotalCharges\n",
       "0  9305-CDSKC          99.65        820.5\n",
       "1  7892-POOKP          104.8      3046.05\n",
       "2  7760-OYPDY          80.65       144.15"
      ]
     },
     "execution_count": 42,
     "metadata": {},
     "output_type": "execute_result"
    }
   ],
   "source": [
    "numerical.head(3)"
   ]
  },
  {
   "cell_type": "code",
   "execution_count": 43,
   "id": "7d4a6c73",
   "metadata": {},
   "outputs": [
    {
     "data": {
      "image/png": "[encoded data removed]",
      "text/plain": [
       "<Figure size 640x480 with 1 Axes>"
      ]
     },
     "metadata": {},
     "output_type": "display_data"
    }
   ],
   "source": [
    "numerical.MonthlyCharges.hist()\n",
    "plt.title('Распределение Величины Месечных Оплат')\n",
    "plt.xlabel('Величина Оплат')\n",
    "plt.ylabel('кол-во')\n",
    "plt.show()"
   ]
  },
  {
   "cell_type": "code",
   "execution_count": 44,
   "id": "2ae8aef6",
   "metadata": {},
   "outputs": [
    {
     "data": {
      "image/png": "[encoded data removed]",
      "text/plain": [
       "<Figure size 640x480 with 1 Axes>"
      ]
     },
     "metadata": {},
     "output_type": "display_data"
    }
   ],
   "source": [
    "numerical.TotalCharges.hist()\n",
    "plt.title('Распределение Величины Всех Оплат')\n",
    "plt.xlabel('Величина Оплат')\n",
    "plt.ylabel('кол-во')\n",
    "plt.show()"
   ]
  },
  {
   "cell_type": "code",
   "execution_count": 45,
   "id": "3ea9fc5b",
   "metadata": {},
   "outputs": [],
   "source": [
    "numerical = pd.merge(numerical, customer, on='customerID', how='inner')"
   ]
  },
  {
   "cell_type": "code",
   "execution_count": 46,
   "id": "8c3d83f8",
   "metadata": {},
   "outputs": [
    {
     "name": "stdout",
     "output_type": "stream",
     "text": [
      "<class 'pandas.core.frame.DataFrame'>\n",
      "RangeIndex: 1000 entries, 0 to 999\n",
      "Data columns (total 5 columns):\n",
      " #   Column          Non-Null Count  Dtype \n",
      "---  ------          --------------  ----- \n",
      " 0   customerID      1000 non-null   object\n",
      " 1   MonthlyCharges  1000 non-null   object\n",
      " 2   TotalCharges    1000 non-null   object\n",
      " 3   EndDate         271 non-null    object\n",
      " 4   terminated      1000 non-null   bool  \n",
      "dtypes: bool(1), object(4)\n",
      "memory usage: 32.4+ KB\n"
     ]
    }
   ],
   "source": [
    "numerical.info()"
   ]
  },
  {
   "cell_type": "code",
   "execution_count": 47,
   "id": "e580107f",
   "metadata": {},
   "outputs": [],
   "source": [
    "numerical.MonthlyCharges = numerical.MonthlyCharges.astype('float')"
   ]
  },
  {
   "cell_type": "code",
   "execution_count": 48,
   "id": "73cb617a",
   "metadata": {},
   "outputs": [],
   "source": [
    "numerical.TotalCharges = numerical.TotalCharges.astype('float')"
   ]
  },
  {
   "cell_type": "code",
   "execution_count": 49,
   "id": "015c6275",
   "metadata": {},
   "outputs": [
    {
     "data": {
      "text/plain": [
       "0.22114358170912168"
      ]
     },
     "execution_count": 49,
     "metadata": {},
     "output_type": "execute_result"
    }
   ],
   "source": [
    "numerical.MonthlyCharges.corr(numerical.terminated)"
   ]
  },
  {
   "cell_type": "code",
   "execution_count": 50,
   "id": "51a02bb9",
   "metadata": {},
   "outputs": [
    {
     "data": {
      "text/plain": [
       "-0.21812658019943962"
      ]
     },
     "execution_count": 50,
     "metadata": {},
     "output_type": "execute_result"
    }
   ],
   "source": [
    "numerical.TotalCharges.corr(numerical.terminated)"
   ]
  },
  {
   "cell_type": "markdown",
   "id": "76e57a68",
   "metadata": {},
   "source": [
    "Наблюдается корреляция которая пригодится"
   ]
  },
  {
   "cell_type": "markdown",
   "id": "0445c69d",
   "metadata": {},
   "source": [
    "Построим новые данные:\n",
    "- сколько клиент на продолжении времени пользуется услугами"
   ]
  },
  {
   "cell_type": "code",
   "execution_count": 51,
   "id": "d0cd431c",
   "metadata": {},
   "outputs": [],
   "source": [
    "query_contract_length =\\\n",
    "'''\n",
    "WITH good_ids AS (\n",
    "    SELECT \"customerID\"\n",
    "    FROM telecom.contract\n",
    "    ORDER BY RANDOM()\n",
    "    LIMIT 1000\n",
    ")\n",
    "\n",
    "SELECT \"customerID\", COALESCE(\"EndDate\", '2020-02-1') - \"BeginDate\" AS \"ContractLifeDays\"\n",
    "FROM telecom.contract\n",
    "WHERE \"customerID\" IN (\n",
    "    SELECT *\n",
    "    FROM good_ids\n",
    ");\n",
    "'''\n",
    "columns_contract_length = ['customerID', 'ContractLifeDays']\n",
    "contract_length = postgresql_to_dataframe(conn, query_contract_length, columns_contract_length)"
   ]
  },
  {
   "cell_type": "code",
   "execution_count": 52,
   "id": "a0419102",
   "metadata": {},
   "outputs": [
    {
     "data": {
      "text/html": [
       "<div>\n",
       "<style scoped>\n",
       "    .dataframe tbody tr th:only-of-type {\n",
       "        vertical-align: middle;\n",
       "    }\n",
       "\n",
       "    .dataframe tbody tr th {\n",
       "        vertical-align: top;\n",
       "    }\n",
       "\n",
       "    .dataframe thead th {\n",
       "        text-align: right;\n",
       "    }\n",
       "</style>\n",
       "<table border=\"1\" class=\"dataframe\">\n",
       "  <thead>\n",
       "    <tr style=\"text-align: right;\">\n",
       "      <th></th>\n",
       "      <th>customerID</th>\n",
       "      <th>ContractLifeDays</th>\n",
       "    </tr>\n",
       "  </thead>\n",
       "  <tbody>\n",
       "    <tr>\n",
       "      <th>0</th>\n",
       "      <td>9305-CDSKC</td>\n",
       "      <td>310</td>\n",
       "    </tr>\n",
       "    <tr>\n",
       "      <th>1</th>\n",
       "      <td>4367-NUYAO</td>\n",
       "      <td>0</td>\n",
       "    </tr>\n",
       "    <tr>\n",
       "      <th>2</th>\n",
       "      <td>3213-VVOLG</td>\n",
       "      <td>0</td>\n",
       "    </tr>\n",
       "    <tr>\n",
       "      <th>3</th>\n",
       "      <td>2923-ARZLG</td>\n",
       "      <td>0</td>\n",
       "    </tr>\n",
       "    <tr>\n",
       "      <th>4</th>\n",
       "      <td>1066-JKSGK</td>\n",
       "      <td>212</td>\n",
       "    </tr>\n",
       "  </tbody>\n",
       "</table>\n",
       "</div>"
      ],
      "text/plain": [
       "   customerID  ContractLifeDays\n",
       "0  9305-CDSKC               310\n",
       "1  4367-NUYAO                 0\n",
       "2  3213-VVOLG                 0\n",
       "3  2923-ARZLG                 0\n",
       "4  1066-JKSGK               212"
      ]
     },
     "execution_count": 52,
     "metadata": {},
     "output_type": "execute_result"
    }
   ],
   "source": [
    "contract_length.head(5)"
   ]
  },
  {
   "cell_type": "code",
   "execution_count": 53,
   "id": "1e05e143",
   "metadata": {},
   "outputs": [
    {
     "data": {
      "image/png": "[encoded data removed]",
      "text/plain": [
       "<Figure size 640x480 with 1 Axes>"
      ]
     },
     "metadata": {},
     "output_type": "display_data"
    }
   ],
   "source": [
    "contract_length.ContractLifeDays.hist()\n",
    "plt.title('Распределение Длительности Контрактов')\n",
    "plt.xlabel('Длина Контракта (дни)')\n",
    "plt.ylabel('кол-во')\n",
    "plt.show()"
   ]
  },
  {
   "cell_type": "code",
   "execution_count": 54,
   "id": "9aa4c61c",
   "metadata": {},
   "outputs": [],
   "source": [
    "contract_length = pd.merge(contract_length, customer, on='customerID', how='inner')"
   ]
  },
  {
   "cell_type": "code",
   "execution_count": 55,
   "id": "a958880d",
   "metadata": {},
   "outputs": [],
   "source": [
    "contract_length = contract_length.drop(columns='EndDate')"
   ]
  },
  {
   "cell_type": "code",
   "execution_count": 56,
   "id": "01c1a06f",
   "metadata": {},
   "outputs": [
    {
     "data": {
      "text/html": [
       "<div>\n",
       "<style scoped>\n",
       "    .dataframe tbody tr th:only-of-type {\n",
       "        vertical-align: middle;\n",
       "    }\n",
       "\n",
       "    .dataframe tbody tr th {\n",
       "        vertical-align: top;\n",
       "    }\n",
       "\n",
       "    .dataframe thead th {\n",
       "        text-align: right;\n",
       "    }\n",
       "</style>\n",
       "<table border=\"1\" class=\"dataframe\">\n",
       "  <thead>\n",
       "    <tr style=\"text-align: right;\">\n",
       "      <th></th>\n",
       "      <th>customerID</th>\n",
       "      <th>ContractLifeDays</th>\n",
       "      <th>terminated</th>\n",
       "    </tr>\n",
       "  </thead>\n",
       "  <tbody>\n",
       "    <tr>\n",
       "      <th>0</th>\n",
       "      <td>9305-CDSKC</td>\n",
       "      <td>310</td>\n",
       "      <td>True</td>\n",
       "    </tr>\n",
       "    <tr>\n",
       "      <th>1</th>\n",
       "      <td>4367-NUYAO</td>\n",
       "      <td>0</td>\n",
       "      <td>False</td>\n",
       "    </tr>\n",
       "    <tr>\n",
       "      <th>2</th>\n",
       "      <td>3213-VVOLG</td>\n",
       "      <td>0</td>\n",
       "      <td>False</td>\n",
       "    </tr>\n",
       "    <tr>\n",
       "      <th>3</th>\n",
       "      <td>2923-ARZLG</td>\n",
       "      <td>0</td>\n",
       "      <td>False</td>\n",
       "    </tr>\n",
       "    <tr>\n",
       "      <th>4</th>\n",
       "      <td>1066-JKSGK</td>\n",
       "      <td>212</td>\n",
       "      <td>True</td>\n",
       "    </tr>\n",
       "  </tbody>\n",
       "</table>\n",
       "</div>"
      ],
      "text/plain": [
       "   customerID  ContractLifeDays  terminated\n",
       "0  9305-CDSKC               310        True\n",
       "1  4367-NUYAO                 0       False\n",
       "2  3213-VVOLG                 0       False\n",
       "3  2923-ARZLG                 0       False\n",
       "4  1066-JKSGK               212        True"
      ]
     },
     "execution_count": 56,
     "metadata": {},
     "output_type": "execute_result"
    }
   ],
   "source": [
    "contract_length.head()"
   ]
  },
  {
   "cell_type": "code",
   "execution_count": 57,
   "id": "ee9e870d",
   "metadata": {},
   "outputs": [
    {
     "name": "stdout",
     "output_type": "stream",
     "text": [
      "target value count ratio 0.27\n"
     ]
    }
   ],
   "source": [
    "print('target value count ratio {:.2f}'.format(contract_length.terminated.sum() /\\\n",
    "                                               contract_length.shape[0]))"
   ]
  },
  {
   "cell_type": "code",
   "execution_count": 58,
   "id": "609a425c",
   "metadata": {},
   "outputs": [
    {
     "data": {
      "text/plain": [
       "0.042314001334231244"
      ]
     },
     "execution_count": 58,
     "metadata": {},
     "output_type": "execute_result"
    }
   ],
   "source": [
    "contract_length.ContractLifeDays.corr(contract_length.terminated)"
   ]
  },
  {
   "cell_type": "markdown",
   "id": "1b655247",
   "metadata": {},
   "source": [
    "Видно что корреляция очень слабая, даже не стоит использовать эти данные."
   ]
  },
  {
   "cell_type": "markdown",
   "id": "ed0a5521",
   "metadata": {},
   "source": [
    "### Выгрузка Данных"
   ]
  },
  {
   "cell_type": "code",
   "execution_count": 59,
   "id": "356b1180",
   "metadata": {},
   "outputs": [
    {
     "data": {
      "text/plain": [
       "['PaperlessBilling',\n",
       " 'SeniorCitizen',\n",
       " 'Partner',\n",
       " 'Dependents',\n",
       " 'OnlineSecurity',\n",
       " 'OnlineBackup',\n",
       " 'DeviceProtection',\n",
       " 'TechSupport',\n",
       " 'Type_month_to_month',\n",
       " 'Type_one_year',\n",
       " 'Type_two_year',\n",
       " 'PaymentMethod_electronic_check',\n",
       " 'PaymentMethod_bank_transfer_(automatic)',\n",
       " 'PaymentMethod_credict_card_(automatic)',\n",
       " 'InternetService_fiber_optic_not_DSL']"
      ]
     },
     "execution_count": 59,
     "metadata": {},
     "output_type": "execute_result"
    }
   ],
   "source": [
    "significant_cols"
   ]
  },
  {
   "cell_type": "code",
   "execution_count": 60,
   "id": "1c1437e8",
   "metadata": {},
   "outputs": [
    {
     "data": {
      "text/html": [
       "<div>\n",
       "<style scoped>\n",
       "    .dataframe tbody tr th:only-of-type {\n",
       "        vertical-align: middle;\n",
       "    }\n",
       "\n",
       "    .dataframe tbody tr th {\n",
       "        vertical-align: top;\n",
       "    }\n",
       "\n",
       "    .dataframe thead th {\n",
       "        text-align: right;\n",
       "    }\n",
       "</style>\n",
       "<table border=\"1\" class=\"dataframe\">\n",
       "  <thead>\n",
       "    <tr style=\"text-align: right;\">\n",
       "      <th></th>\n",
       "      <th>customerID</th>\n",
       "      <th>ItnernetService</th>\n",
       "      <th>OnlineSecurity</th>\n",
       "      <th>OnlineBackup</th>\n",
       "      <th>DeviceProtection</th>\n",
       "      <th>TechSupport</th>\n",
       "      <th>StreamingTV</th>\n",
       "      <th>StreamingMovies</th>\n",
       "    </tr>\n",
       "  </thead>\n",
       "  <tbody>\n",
       "    <tr>\n",
       "      <th>0</th>\n",
       "      <td>customerID</td>\n",
       "      <td>InternetService</td>\n",
       "      <td>OnlineSecurity</td>\n",
       "      <td>OnlineBackup</td>\n",
       "      <td>DeviceProtection</td>\n",
       "      <td>TechSupport</td>\n",
       "      <td>StreamingTV</td>\n",
       "      <td>StreamingMovies</td>\n",
       "    </tr>\n",
       "    <tr>\n",
       "      <th>1</th>\n",
       "      <td>7590-VHVEG</td>\n",
       "      <td>DSL</td>\n",
       "      <td>No</td>\n",
       "      <td>Yes</td>\n",
       "      <td>No</td>\n",
       "      <td>No</td>\n",
       "      <td>No</td>\n",
       "      <td>No</td>\n",
       "    </tr>\n",
       "  </tbody>\n",
       "</table>\n",
       "</div>"
      ],
      "text/plain": [
       "   customerID  ItnernetService  OnlineSecurity  OnlineBackup   \n",
       "0  customerID  InternetService  OnlineSecurity  OnlineBackup  \\\n",
       "1  7590-VHVEG              DSL              No           Yes   \n",
       "\n",
       "   DeviceProtection  TechSupport  StreamingTV  StreamingMovies  \n",
       "0  DeviceProtection  TechSupport  StreamingTV  StreamingMovies  \n",
       "1                No           No           No               No  "
      ]
     },
     "execution_count": 60,
     "metadata": {},
     "output_type": "execute_result"
    }
   ],
   "source": [
    "internet_sample.head(2)"
   ]
  },
  {
   "cell_type": "code",
   "execution_count": 61,
   "id": "4ffa1cca",
   "metadata": {},
   "outputs": [],
   "source": [
    "query_df = \\\n",
    "'''\n",
    "SELECT \n",
    "    CASE\n",
    "        WHEN c.\"EndDate\" IS NOT NULL THEN TRUE\n",
    "        ELSE FALSE\n",
    "    END AS terminated,\n",
    "    COALESCE(c.\"EndDate\", '2020-02-1') - c.\"BeginDate\" AS \"ContractLifeDays\",\n",
    "    c.\"Type\", c.\"PaymentMethod\", c.\"MonthlyCharges\", c.\"TotalCharges\", c.\"PaperlessBilling\",\n",
    "    p.\"SeniorCitizen\", p.\"Partner\", p.\"Dependents\",\n",
    "    i.\"c2\", i.\"c3\", i.\"c4\", i.\"c5\", i.\"c6\", i.\"c7\", i.\"c8\",\n",
    "    phone.\"c2\"\n",
    "FROM telecom.contract AS c\n",
    "    LEFT JOIN telecom.personal AS p\n",
    "    ON c.\"customerID\" = p.\"customerID\"\n",
    "    LEFT JOIN telecom.internet AS i\n",
    "    ON c.\"customerID\" = i.\"c1\"\n",
    "    LEFT JOIN telecom.phone\n",
    "    ON c.\"customerID\" = phone.\"c1\"\n",
    "'''\n",
    "columns_df = ['terminated', 'days', 'type', 'payment_method', 'monthly_charges',\n",
    "              'total_charges', 'paperless_billing', 'senior_citizen', 'partner', 'dependents',\n",
    "              'internet_service', 'online_security', 'online_backup', 'device_protection', \n",
    "              'tech_support', 'streaming_tv', 'streaming_movies', 'multiple_lines']\n",
    "df = postgresql_to_dataframe(conn, query_df, columns_df)"
   ]
  },
  {
   "cell_type": "code",
   "execution_count": 62,
   "id": "4c2004a3",
   "metadata": {},
   "outputs": [
    {
     "data": {
      "text/html": [
       "<div>\n",
       "<style scoped>\n",
       "    .dataframe tbody tr th:only-of-type {\n",
       "        vertical-align: middle;\n",
       "    }\n",
       "\n",
       "    .dataframe tbody tr th {\n",
       "        vertical-align: top;\n",
       "    }\n",
       "\n",
       "    .dataframe thead th {\n",
       "        text-align: right;\n",
       "    }\n",
       "</style>\n",
       "<table border=\"1\" class=\"dataframe\">\n",
       "  <thead>\n",
       "    <tr style=\"text-align: right;\">\n",
       "      <th></th>\n",
       "      <th>terminated</th>\n",
       "      <th>days</th>\n",
       "      <th>type</th>\n",
       "      <th>payment_method</th>\n",
       "      <th>monthly_charges</th>\n",
       "      <th>total_charges</th>\n",
       "      <th>paperless_billing</th>\n",
       "      <th>senior_citizen</th>\n",
       "      <th>partner</th>\n",
       "      <th>dependents</th>\n",
       "      <th>internet_service</th>\n",
       "      <th>online_security</th>\n",
       "      <th>online_backup</th>\n",
       "      <th>device_protection</th>\n",
       "      <th>tech_support</th>\n",
       "      <th>streaming_tv</th>\n",
       "      <th>streaming_movies</th>\n",
       "      <th>multiple_lines</th>\n",
       "    </tr>\n",
       "  </thead>\n",
       "  <tbody>\n",
       "    <tr>\n",
       "      <th>0</th>\n",
       "      <td>False</td>\n",
       "      <td>0</td>\n",
       "      <td>Two year</td>\n",
       "      <td>Bank transfer (automatic)</td>\n",
       "      <td>52.55</td>\n",
       "      <td>None</td>\n",
       "      <td>Yes</td>\n",
       "      <td>0</td>\n",
       "      <td>Yes</td>\n",
       "      <td>Yes</td>\n",
       "      <td>DSL</td>\n",
       "      <td>Yes</td>\n",
       "      <td>No</td>\n",
       "      <td>Yes</td>\n",
       "      <td>Yes</td>\n",
       "      <td>Yes</td>\n",
       "      <td>No</td>\n",
       "      <td>None</td>\n",
       "    </tr>\n",
       "    <tr>\n",
       "      <th>1</th>\n",
       "      <td>False</td>\n",
       "      <td>0</td>\n",
       "      <td>Two year</td>\n",
       "      <td>Mailed check</td>\n",
       "      <td>20.25</td>\n",
       "      <td>None</td>\n",
       "      <td>No</td>\n",
       "      <td>0</td>\n",
       "      <td>No</td>\n",
       "      <td>Yes</td>\n",
       "      <td>None</td>\n",
       "      <td>None</td>\n",
       "      <td>None</td>\n",
       "      <td>None</td>\n",
       "      <td>None</td>\n",
       "      <td>None</td>\n",
       "      <td>None</td>\n",
       "      <td>No</td>\n",
       "    </tr>\n",
       "  </tbody>\n",
       "</table>\n",
       "</div>"
      ],
      "text/plain": [
       "   terminated  days      type             payment_method monthly_charges   \n",
       "0       False     0  Two year  Bank transfer (automatic)           52.55  \\\n",
       "1       False     0  Two year               Mailed check           20.25   \n",
       "\n",
       "  total_charges paperless_billing  senior_citizen partner dependents   \n",
       "0          None               Yes               0     Yes        Yes  \\\n",
       "1          None                No               0      No        Yes   \n",
       "\n",
       "  internet_service online_security online_backup device_protection   \n",
       "0              DSL             Yes            No               Yes  \\\n",
       "1             None            None          None              None   \n",
       "\n",
       "  tech_support streaming_tv streaming_movies multiple_lines  \n",
       "0          Yes          Yes               No           None  \n",
       "1         None         None             None             No  "
      ]
     },
     "execution_count": 62,
     "metadata": {},
     "output_type": "execute_result"
    }
   ],
   "source": [
    "df.head(2)"
   ]
  },
  {
   "cell_type": "code",
   "execution_count": 63,
   "id": "8bb07fb8",
   "metadata": {},
   "outputs": [
    {
     "name": "stdout",
     "output_type": "stream",
     "text": [
      "<class 'pandas.core.frame.DataFrame'>\n",
      "RangeIndex: 7043 entries, 0 to 7042\n",
      "Data columns (total 18 columns):\n",
      " #   Column             Non-Null Count  Dtype \n",
      "---  ------             --------------  ----- \n",
      " 0   terminated         7043 non-null   bool  \n",
      " 1   days               7043 non-null   int64 \n",
      " 2   type               7043 non-null   object\n",
      " 3   payment_method     7043 non-null   object\n",
      " 4   monthly_charges    7043 non-null   object\n",
      " 5   total_charges      7032 non-null   object\n",
      " 6   paperless_billing  7043 non-null   object\n",
      " 7   senior_citizen     7043 non-null   int64 \n",
      " 8   partner            7043 non-null   object\n",
      " 9   dependents         7043 non-null   object\n",
      " 10  internet_service   5517 non-null   object\n",
      " 11  online_security    5517 non-null   object\n",
      " 12  online_backup      5517 non-null   object\n",
      " 13  device_protection  5517 non-null   object\n",
      " 14  tech_support       5517 non-null   object\n",
      " 15  streaming_tv       5517 non-null   object\n",
      " 16  streaming_movies   5517 non-null   object\n",
      " 17  multiple_lines     6361 non-null   object\n",
      "dtypes: bool(1), int64(2), object(15)\n",
      "memory usage: 942.4+ KB\n"
     ]
    }
   ],
   "source": [
    "df.info()"
   ]
  },
  {
   "cell_type": "code",
   "execution_count": 64,
   "id": "a9d90c5a",
   "metadata": {},
   "outputs": [],
   "source": [
    "df.monthly_charges = df.monthly_charges.astype('float')\n",
    "df.total_charges = df.total_charges.astype('float')"
   ]
  },
  {
   "cell_type": "code",
   "execution_count": 89,
   "id": "cffd2e5c",
   "metadata": {},
   "outputs": [],
   "source": [
    "df.days = df.total_charges.fillna(df.days.mean())\n",
    "df.monthly_charges = df.monthly_charges.fillna(df.monthly_charges.mean())\n",
    "df.total_charges = df.total_charges.fillna(df.total_charges.mean())"
   ]
  },
  {
   "cell_type": "code",
   "execution_count": 90,
   "id": "c2a0b596",
   "metadata": {},
   "outputs": [],
   "source": [
    "df.senior_citizen = df.senior_citizen.fillna(0)"
   ]
  },
  {
   "cell_type": "code",
   "execution_count": 91,
   "id": "ac27620f",
   "metadata": {},
   "outputs": [
    {
     "name": "stdout",
     "output_type": "stream",
     "text": [
      "type                 ['Two year' 'Month-to-month' 'One year']\n",
      "payment_method       ['Bank transfer (automatic)' 'Mailed check' 'Electronic check'\n",
      " 'Credit card (automatic)']\n",
      "paperless_billing    ['Yes' 'No']\n",
      "partner              ['Yes' 'No']\n",
      "dependents           ['Yes' 'No']\n",
      "internet_service     ['DSL' 'Fiber optic']\n",
      "online_security      ['Yes' 'No']\n",
      "online_backup        ['No' 'Yes']\n",
      "device_protection    ['Yes' 'No']\n",
      "tech_support         ['Yes' 'No']\n",
      "streaming_tv         ['Yes' 'No']\n",
      "streaming_movies     ['No' 'Yes']\n",
      "multiple_lines       ['No' 'Yes']\n"
     ]
    }
   ],
   "source": [
    "for col in df.columns:\n",
    "    if df[col].dtype == 'object':\n",
    "        print('{:20} {}'.format(col, pd.unique(df[col])))"
   ]
  },
  {
   "cell_type": "markdown",
   "id": "253a19a4",
   "metadata": {},
   "source": [
    "где можно заполним пропуски на 'No' в последнем случаем заполним 'DSL' так как это более частый провайдер"
   ]
  },
  {
   "cell_type": "code",
   "execution_count": 92,
   "id": "477ada2c",
   "metadata": {},
   "outputs": [],
   "source": [
    "df.internet_service = df.internet_service.fillna('DSL')"
   ]
  },
  {
   "cell_type": "code",
   "execution_count": 93,
   "id": "4b7bbeeb",
   "metadata": {},
   "outputs": [],
   "source": [
    "df = df.fillna('No')"
   ]
  },
  {
   "cell_type": "code",
   "execution_count": 94,
   "id": "b1701c80",
   "metadata": {},
   "outputs": [],
   "source": [
    "enc = OneHotEncoder(drop='if_binary')"
   ]
  },
  {
   "cell_type": "code",
   "execution_count": 95,
   "id": "c814d0c4",
   "metadata": {},
   "outputs": [],
   "source": [
    "df_train_valid, df_test = train_test_split(df, test_size=0.25, random_state=RANDOM_STATE)"
   ]
  },
  {
   "cell_type": "code",
   "execution_count": 96,
   "id": "33e2a31e",
   "metadata": {},
   "outputs": [],
   "source": [
    "df_train, df_valid = train_test_split(df_train_valid, test_size=0.1, random_state=RANDOM_STATE)"
   ]
  },
  {
   "cell_type": "code",
   "execution_count": 97,
   "id": "d387048b",
   "metadata": {},
   "outputs": [],
   "source": [
    "X_train_valid_cat = enc.fit_transform(\n",
    "    df_train_valid.drop(columns=['terminated', 'days', \n",
    "                                 'monthly_charges', 'total_charges'])).toarray()"
   ]
  },
  {
   "cell_type": "code",
   "execution_count": 98,
   "id": "c79a951c",
   "metadata": {},
   "outputs": [],
   "source": [
    "sca = StandardScaler()"
   ]
  },
  {
   "cell_type": "code",
   "execution_count": 99,
   "id": "5032b805",
   "metadata": {},
   "outputs": [],
   "source": [
    "X_train_valid_num = sca.fit_transform(df_train_valid[['days', 'monthly_charges', 'total_charges']])"
   ]
  },
  {
   "cell_type": "code",
   "execution_count": 100,
   "id": "5cab3952",
   "metadata": {},
   "outputs": [],
   "source": [
    "X_train_valid = np.hstack((X_train_valid_cat, X_train_valid_num))"
   ]
  },
  {
   "cell_type": "code",
   "execution_count": 101,
   "id": "944a3025",
   "metadata": {},
   "outputs": [],
   "source": [
    "X_train_cat = enc.transform(df_train.drop(columns=['terminated', 'days', \n",
    "                           'monthly_charges', 'total_charges'])).toarray()\n",
    "\n",
    "X_valid_cat = enc.transform(df_valid.drop(columns=['terminated', 'days', \n",
    "                           'monthly_charges', 'total_charges'])).toarray()\n",
    "\n",
    "X_test_cat = enc.transform(df_test.drop(columns=['terminated', 'days', \n",
    "                          'monthly_charges', 'total_charges'])).toarray()"
   ]
  },
  {
   "cell_type": "code",
   "execution_count": 102,
   "id": "50fd4bc9",
   "metadata": {},
   "outputs": [],
   "source": [
    "X_train_num = sca.transform(df_train[['days', 'monthly_charges', 'total_charges']])\n",
    "X_valid_num = sca.transform(df_valid[['days', 'monthly_charges', 'total_charges']])\n",
    "X_test_num = sca.transform(df_test[['days', 'monthly_charges', 'total_charges']])"
   ]
  },
  {
   "cell_type": "code",
   "execution_count": 103,
   "id": "b06e2df1",
   "metadata": {},
   "outputs": [],
   "source": [
    "X_train = np.hstack((X_train_cat, X_train_num))\n",
    "X_valid = np.hstack((X_valid_cat, X_valid_num))\n",
    "X_test = np.hstack((X_test_cat, X_test_num))"
   ]
  },
  {
   "cell_type": "code",
   "execution_count": 104,
   "id": "160face5",
   "metadata": {},
   "outputs": [],
   "source": [
    "y_train_valid = df_train_valid.terminated\n",
    "y_train = df_train.terminated\n",
    "y_valid = df_valid.terminated\n",
    "y_test = df_test.terminated"
   ]
  },
  {
   "cell_type": "markdown",
   "id": "5679fd5d",
   "metadata": {},
   "source": [
    "# Обучение Моделей"
   ]
  },
  {
   "cell_type": "markdown",
   "id": "d703770a",
   "metadata": {},
   "source": [
    "Попробуем и оценим модели метрикой ROC-AUC:\n",
    "- RandomForest\n",
    "- XGBoost\n",
    "- Feed-forward neural network with Keras"
   ]
  },
  {
   "cell_type": "code",
   "execution_count": 105,
   "id": "dabe536b",
   "metadata": {},
   "outputs": [
    {
     "data": {
      "text/html": [
       "<style>#sk-container-id-2 {color: black;background-color: white;}#sk-container-id-2 pre{padding: 0;}#sk-container-id-2 div.sk-toggleable {background-color: white;}#sk-container-id-2 label.sk-toggleable__label {cursor: pointer;display: block;width: 100%;margin-bottom: 0;padding: 0.3em;box-sizing: border-box;text-align: center;}#sk-container-id-2 label.sk-toggleable__label-arrow:before {content: \"▸\";float: left;margin-right: 0.25em;color: #696969;}#sk-container-id-2 label.sk-toggleable__label-arrow:hover:before {color: black;}#sk-container-id-2 div.sk-estimator:hover label.sk-toggleable__label-arrow:before {color: black;}#sk-container-id-2 div.sk-toggleable__content {max-height: 0;max-width: 0;overflow: hidden;text-align: left;background-color: #f0f8ff;}#sk-container-id-2 div.sk-toggleable__content pre {margin: 0.2em;color: black;border-radius: 0.25em;background-color: #f0f8ff;}#sk-container-id-2 input.sk-toggleable__control:checked~div.sk-toggleable__content {max-height: 200px;max-width: 100%;overflow: auto;}#sk-container-id-2 input.sk-toggleable__control:checked~label.sk-toggleable__label-arrow:before {content: \"▾\";}#sk-container-id-2 div.sk-estimator input.sk-toggleable__control:checked~label.sk-toggleable__label {background-color: #d4ebff;}#sk-container-id-2 div.sk-label input.sk-toggleable__control:checked~label.sk-toggleable__label {background-color: #d4ebff;}#sk-container-id-2 input.sk-hidden--visually {border: 0;clip: rect(1px 1px 1px 1px);clip: rect(1px, 1px, 1px, 1px);height: 1px;margin: -1px;overflow: hidden;padding: 0;position: absolute;width: 1px;}#sk-container-id-2 div.sk-estimator {font-family: monospace;background-color: #f0f8ff;border: 1px dotted black;border-radius: 0.25em;box-sizing: border-box;margin-bottom: 0.5em;}#sk-container-id-2 div.sk-estimator:hover {background-color: #d4ebff;}#sk-container-id-2 div.sk-parallel-item::after {content: \"\";width: 100%;border-bottom: 1px solid gray;flex-grow: 1;}#sk-container-id-2 div.sk-label:hover label.sk-toggleable__label {background-color: #d4ebff;}#sk-container-id-2 div.sk-serial::before {content: \"\";position: absolute;border-left: 1px solid gray;box-sizing: border-box;top: 0;bottom: 0;left: 50%;z-index: 0;}#sk-container-id-2 div.sk-serial {display: flex;flex-direction: column;align-items: center;background-color: white;padding-right: 0.2em;padding-left: 0.2em;position: relative;}#sk-container-id-2 div.sk-item {position: relative;z-index: 1;}#sk-container-id-2 div.sk-parallel {display: flex;align-items: stretch;justify-content: center;background-color: white;position: relative;}#sk-container-id-2 div.sk-item::before, #sk-container-id-2 div.sk-parallel-item::before {content: \"\";position: absolute;border-left: 1px solid gray;box-sizing: border-box;top: 0;bottom: 0;left: 50%;z-index: -1;}#sk-container-id-2 div.sk-parallel-item {display: flex;flex-direction: column;z-index: 1;position: relative;background-color: white;}#sk-container-id-2 div.sk-parallel-item:first-child::after {align-self: flex-end;width: 50%;}#sk-container-id-2 div.sk-parallel-item:last-child::after {align-self: flex-start;width: 50%;}#sk-container-id-2 div.sk-parallel-item:only-child::after {width: 0;}#sk-container-id-2 div.sk-dashed-wrapped {border: 1px dashed gray;margin: 0 0.4em 0.5em 0.4em;box-sizing: border-box;padding-bottom: 0.4em;background-color: white;}#sk-container-id-2 div.sk-label label {font-family: monospace;font-weight: bold;display: inline-block;line-height: 1.2em;}#sk-container-id-2 div.sk-label-container {text-align: center;}#sk-container-id-2 div.sk-container {/* jupyter's `normalize.less` sets `[hidden] { display: none; }` but bootstrap.min.css set `[hidden] { display: none !important; }` so we also need the `!important` here to be able to override the default hidden behavior on the sphinx rendered scikit-learn.org. See: https://github.com/scikit-learn/scikit-learn/issues/21755 */display: inline-block !important;position: relative;}#sk-container-id-2 div.sk-text-repr-fallback {display: none;}</style><div id=\"sk-container-id-2\" class=\"sk-top-container\"><div class=\"sk-text-repr-fallback\"><pre>GridSearchCV(estimator=RandomForestClassifier(),\n",
       "             param_grid={&#x27;max_depth&#x27;: [4, 8, 16],\n",
       "                         &#x27;n_estimators&#x27;: [2, 4, 8, 16]})</pre><b>In a Jupyter environment, please rerun this cell to show the HTML representation or trust the notebook. <br />On GitHub, the HTML representation is unable to render, please try loading this page with nbviewer.org.</b></div><div class=\"sk-container\" hidden><div class=\"sk-item sk-dashed-wrapped\"><div class=\"sk-label-container\"><div class=\"sk-label sk-toggleable\"><input class=\"sk-toggleable__control sk-hidden--visually\" id=\"sk-estimator-id-4\" type=\"checkbox\" ><label for=\"sk-estimator-id-4\" class=\"sk-toggleable__label sk-toggleable__label-arrow\">GridSearchCV</label><div class=\"sk-toggleable__content\"><pre>GridSearchCV(estimator=RandomForestClassifier(),\n",
       "             param_grid={&#x27;max_depth&#x27;: [4, 8, 16],\n",
       "                         &#x27;n_estimators&#x27;: [2, 4, 8, 16]})</pre></div></div></div><div class=\"sk-parallel\"><div class=\"sk-parallel-item\"><div class=\"sk-item\"><div class=\"sk-label-container\"><div class=\"sk-label sk-toggleable\"><input class=\"sk-toggleable__control sk-hidden--visually\" id=\"sk-estimator-id-5\" type=\"checkbox\" ><label for=\"sk-estimator-id-5\" class=\"sk-toggleable__label sk-toggleable__label-arrow\">estimator: RandomForestClassifier</label><div class=\"sk-toggleable__content\"><pre>RandomForestClassifier()</pre></div></div></div><div class=\"sk-serial\"><div class=\"sk-item\"><div class=\"sk-estimator sk-toggleable\"><input class=\"sk-toggleable__control sk-hidden--visually\" id=\"sk-estimator-id-6\" type=\"checkbox\" ><label for=\"sk-estimator-id-6\" class=\"sk-toggleable__label sk-toggleable__label-arrow\">RandomForestClassifier</label><div class=\"sk-toggleable__content\"><pre>RandomForestClassifier()</pre></div></div></div></div></div></div></div></div></div></div>"
      ],
      "text/plain": [
       "GridSearchCV(estimator=RandomForestClassifier(),\n",
       "             param_grid={'max_depth': [4, 8, 16],\n",
       "                         'n_estimators': [2, 4, 8, 16]})"
      ]
     },
     "execution_count": 105,
     "metadata": {},
     "output_type": "execute_result"
    }
   ],
   "source": [
    "param_grid = {'n_estimators': [2, 4, 8, 16], 'max_depth': [4, 8, 16]}\n",
    "rfc = RandomForestClassifier()\n",
    "clf = GridSearchCV(rfc, param_grid)\n",
    "clf.fit(X_train, y_train)"
   ]
  },
  {
   "cell_type": "code",
   "execution_count": 106,
   "id": "950cd1b8",
   "metadata": {},
   "outputs": [
    {
     "name": "stdout",
     "output_type": "stream",
     "text": [
      "RandomForestClassifier ROC AUC score: 0.6838451867816091\n"
     ]
    }
   ],
   "source": [
    "rfc_best = clf.best_estimator_\n",
    "z_valid = rfc_best.predict(X_valid)\n",
    "roc_auc = roc_auc_score(y_valid, z_valid)\n",
    "print('RandomForestClassifier ROC AUC score:', roc_auc)"
   ]
  },
  {
   "cell_type": "code",
   "execution_count": 107,
   "id": "2a540507",
   "metadata": {},
   "outputs": [
    {
     "name": "stdout",
     "output_type": "stream",
     "text": [
      "XGBCLassifier ROC AUC score: 0.689367816091954\n"
     ]
    }
   ],
   "source": [
    "model_xgb = xgb.XGBClassifier(learning_rate=0.1, n_estimators=100, max_depth=6)\n",
    "model_xgb.fit(X_train, y_train)\n",
    "z_valid = model_xgb.predict(X_valid)\n",
    "roc_auc = roc_auc_score(y_valid, z_valid)\n",
    "print('XGBCLassifier ROC AUC score:', roc_auc)"
   ]
  },
  {
   "cell_type": "code",
   "execution_count": 113,
   "id": "c8cadcae",
   "metadata": {},
   "outputs": [],
   "source": [
    "callback = EarlyStopping(monitor='accuracy', patience=2)\n",
    "\n",
    "model_ff = Sequential()\n",
    "model_ff.add(Dense(128, activation='relu', input_dim=X_train.shape[1]))\n",
    "model_ff.add(Dropout(0.4))\n",
    "model_ff.add(Dense(64, activation='relu'))\n",
    "model_ff.add(Dropout(0.4))\n",
    "model_ff.add(Dense(16, activation='relu'))\n",
    "model_ff.add(Dense(1, activation='sigmoid'))\n",
    "\n",
    "model_ff.compile(loss='binary_crossentropy', \n",
    "                 optimizer='adam', metrics=['accuracy'])"
   ]
  },
  {
   "cell_type": "code",
   "execution_count": 114,
   "id": "1853826b",
   "metadata": {},
   "outputs": [
    {
     "name": "stdout",
     "output_type": "stream",
     "text": [
      "Epoch 1/40\n",
      "149/149 - 2s - loss: 0.4867 - accuracy: 0.7633 - val_loss: 0.4373 - val_accuracy: 0.7864 - 2s/epoch - 16ms/step\n",
      "Epoch 2/40\n",
      "149/149 - 1s - loss: 0.4351 - accuracy: 0.7902 - val_loss: 0.4365 - val_accuracy: 0.7940 - 1s/epoch - 10ms/step\n",
      "Epoch 3/40\n",
      "149/149 - 2s - loss: 0.4294 - accuracy: 0.7947 - val_loss: 0.4364 - val_accuracy: 0.8015 - 2s/epoch - 12ms/step\n",
      "Epoch 4/40\n",
      "149/149 - 2s - loss: 0.4218 - accuracy: 0.7953 - val_loss: 0.4338 - val_accuracy: 0.8072 - 2s/epoch - 11ms/step\n",
      "Epoch 5/40\n",
      "149/149 - 2s - loss: 0.4199 - accuracy: 0.7982 - val_loss: 0.4293 - val_accuracy: 0.8034 - 2s/epoch - 11ms/step\n",
      "Epoch 6/40\n",
      "149/149 - 2s - loss: 0.4205 - accuracy: 0.8005 - val_loss: 0.4330 - val_accuracy: 0.7996 - 2s/epoch - 10ms/step\n",
      "Epoch 7/40\n",
      "149/149 - 1s - loss: 0.4133 - accuracy: 0.8024 - val_loss: 0.4356 - val_accuracy: 0.8034 - 1s/epoch - 10ms/step\n",
      "Epoch 8/40\n",
      "149/149 - 1s - loss: 0.4139 - accuracy: 0.8027 - val_loss: 0.4290 - val_accuracy: 0.8034 - 1s/epoch - 10ms/step\n",
      "Epoch 9/40\n",
      "149/149 - 1s - loss: 0.4092 - accuracy: 0.8033 - val_loss: 0.4371 - val_accuracy: 0.7921 - 1s/epoch - 10ms/step\n",
      "Epoch 10/40\n",
      "149/149 - 1s - loss: 0.4117 - accuracy: 0.7987 - val_loss: 0.4290 - val_accuracy: 0.8034 - 1s/epoch - 9ms/step\n",
      "Epoch 11/40\n",
      "149/149 - 1s - loss: 0.4120 - accuracy: 0.8050 - val_loss: 0.4352 - val_accuracy: 0.7921 - 1s/epoch - 10ms/step\n",
      "Epoch 12/40\n",
      "149/149 - 1s - loss: 0.4070 - accuracy: 0.8079 - val_loss: 0.4328 - val_accuracy: 0.8015 - 1s/epoch - 10ms/step\n",
      "Epoch 13/40\n",
      "149/149 - 1s - loss: 0.4085 - accuracy: 0.8077 - val_loss: 0.4361 - val_accuracy: 0.7977 - 1s/epoch - 10ms/step\n",
      "Epoch 14/40\n",
      "149/149 - 1s - loss: 0.4014 - accuracy: 0.8094 - val_loss: 0.4340 - val_accuracy: 0.8015 - 1s/epoch - 10ms/step\n",
      "Epoch 15/40\n",
      "149/149 - 1s - loss: 0.4016 - accuracy: 0.8094 - val_loss: 0.4351 - val_accuracy: 0.7902 - 1s/epoch - 9ms/step\n",
      "Epoch 16/40\n",
      "149/149 - 2s - loss: 0.4020 - accuracy: 0.8069 - val_loss: 0.4344 - val_accuracy: 0.7902 - 2s/epoch - 12ms/step\n"
     ]
    },
    {
     "data": {
      "text/plain": [
       "<keras.callbacks.History at 0x2ce7d5e10>"
      ]
     },
     "execution_count": 114,
     "metadata": {},
     "output_type": "execute_result"
    }
   ],
   "source": [
    "model_ff.fit(X_train, y_train,\n",
    "            validation_data=(X_valid, y_valid),\n",
    "            epochs=40, callbacks=[callback], verbose=2)"
   ]
  },
  {
   "cell_type": "code",
   "execution_count": 115,
   "id": "2e5cfc97",
   "metadata": {},
   "outputs": [
    {
     "name": "stdout",
     "output_type": "stream",
     "text": [
      "17/17 [==============================] - 0s 4ms/step\n",
      "Feed-forward neural network ROC AUC score: 0.8404005028735632\n"
     ]
    }
   ],
   "source": [
    "z_valid = model_ff.predict(X_valid)\n",
    "roc_auc = roc_auc_score(y_valid, z_valid)\n",
    "print('Feed-forward neural network ROC AUC score:', roc_auc)"
   ]
  },
  {
   "cell_type": "markdown",
   "id": "dc558e98",
   "metadata": {},
   "source": [
    "# Тестировка Модели"
   ]
  },
  {
   "cell_type": "markdown",
   "id": "502fee43",
   "metadata": {},
   "source": [
    "- Проеверим качество лучшей модели по ROC-AUC\n",
    "- Построим матрицу ошибок\n",
    "- Проанализируем вашность оснобных признаков\n",
    "- Проведем дополнительное исследование самого важного признака"
   ]
  },
  {
   "cell_type": "code",
   "execution_count": 116,
   "id": "0b627698",
   "metadata": {},
   "outputs": [
    {
     "name": "stdout",
     "output_type": "stream",
     "text": [
      "56/56 [==============================] - 0s 4ms/step\n",
      "Feed-forward neural network ROC AUC score: 0.836706487997189\n"
     ]
    }
   ],
   "source": [
    "z_test = model_ff.predict(X_test)\n",
    "roc_auc = roc_auc_score(y_test, z_test)\n",
    "print('Feed-forward neural network ROC AUC score:', roc_auc)"
   ]
  },
  {
   "cell_type": "code",
   "execution_count": 118,
   "id": "146972a2",
   "metadata": {},
   "outputs": [
    {
     "data": {
      "image/png": "[encoded data removed]",
      "text/plain": [
       "<Figure size 640x480 with 1 Axes>"
      ]
     },
     "metadata": {},
     "output_type": "display_data"
    }
   ],
   "source": [
    "fpr, tpr, thresholds = roc_curve(y_test, z_test)\n",
    "\n",
    "roc_auc = auc(fpr, tpr)\n",
    "\n",
    "plt.figure()\n",
    "plt.plot(fpr, tpr, label='ROC curve (AUC = %0.2f)' % roc_auc)\n",
    "plt.plot([0, 1], [0, 1], 'k--')  # Plotting the random guessing curve\n",
    "plt.xlim([0.0, 1.0])\n",
    "plt.ylim([0.0, 1.05])\n",
    "plt.xlabel('False Positive Rate')\n",
    "plt.ylabel('True Positive Rate')\n",
    "plt.title('Receiver Operating Characteristic')\n",
    "plt.legend(loc=\"lower right\")\n",
    "plt.show()"
   ]
  },
  {
   "cell_type": "markdown",
   "id": "842ca62d",
   "metadata": {},
   "source": [
    "# Вывод"
   ]
  },
  {
   "cell_type": "markdown",
   "id": "89646f19",
   "metadata": {},
   "source": [
    "Я все перепробовал, не знаю как добится 0.85 ROC AUC"
   ]
  },
  {
   "cell_type": "code",
   "execution_count": null,
   "id": "f3d98668",
   "metadata": {},
   "outputs": [],
   "source": []
  }
 ],
 "metadata": {
  "kernelspec": {
   "display_name": "Python 3 (ipykernel)",
   "language": "python",
   "name": "python3"
  },
  "language_info": {
   "codemirror_mode": {
    "name": "ipython",
    "version": 3
   },
   "file_extension": ".py",
   "mimetype": "text/x-python",
   "name": "python",
   "nbconvert_exporter": "python",
   "pygments_lexer": "ipython3",
   "version": "3.10.10"
  }
 },
 "nbformat": 4,
 "nbformat_minor": 5
}
